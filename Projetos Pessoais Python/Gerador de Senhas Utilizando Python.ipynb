{
 "cells": [
  {
   "cell_type": "code",
   "execution_count": 17,
   "id": "e392141a",
   "metadata": {},
   "outputs": [
    {
     "name": "stdout",
     "output_type": "stream",
     "text": [
      "Digite o tamanho da senha a ser gerada:15\n",
      "BczqdLulfj!NvO9\n"
     ]
    }
   ],
   "source": [
    "import random\n",
    "import string\n",
    "\n",
    "letras = string.ascii_letters\n",
    "numeros = '0123456789'\n",
    "especial = '=+*%&$!_'\n",
    "\n",
    "simbolos = letras + numeros + especial\n",
    "\n",
    "len = int(input(\"Digite o tamanho da senha a ser gerada:\"))\n",
    "\n",
    "senha = \"\".join(random.sample(simbolos, len))\n",
    "\n",
    "print(senha)"
   ]
  }
 ],
 "metadata": {
  "kernelspec": {
   "display_name": "Python 3 (ipykernel)",
   "language": "python",
   "name": "python3"
  },
  "language_info": {
   "codemirror_mode": {
    "name": "ipython",
    "version": 3
   },
   "file_extension": ".py",
   "mimetype": "text/x-python",
   "name": "python",
   "nbconvert_exporter": "python",
   "pygments_lexer": "ipython3",
   "version": "3.9.7"
  }
 },
 "nbformat": 4,
 "nbformat_minor": 5
}
