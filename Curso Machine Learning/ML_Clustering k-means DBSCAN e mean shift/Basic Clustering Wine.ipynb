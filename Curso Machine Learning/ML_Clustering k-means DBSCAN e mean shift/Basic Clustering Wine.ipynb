{
 "cells": [
  {
   "cell_type": "code",
   "execution_count": 57,
   "id": "4c42b221",
   "metadata": {},
   "outputs": [
    {
     "name": "stdout",
     "output_type": "stream",
     "text": [
      "Requirement already satisfied: plotly==4.1.0 in c:\\users\\renato\\anaconda3\\lib\\site-packages (4.1.0)\n",
      "Requirement already satisfied: six in c:\\users\\renato\\anaconda3\\lib\\site-packages (from plotly==4.1.0) (1.16.0)\n",
      "Requirement already satisfied: retrying>=1.3.3 in c:\\users\\renato\\anaconda3\\lib\\site-packages (from plotly==4.1.0) (1.3.3)\n",
      "\n",
      "[notice] A new release of pip available: 22.1.2 -> 22.2\n",
      "[notice] To update, run: python.exe -m pip install --upgrade pip\n"
     ]
    },
    {
     "name": "stderr",
     "output_type": "stream",
     "text": [
      "WARNING: Ignoring invalid distribution -pencv-python (c:\\users\\renato\\anaconda3\\lib\\site-packages)\n",
      "WARNING: Ignoring invalid distribution -pencv-python (c:\\users\\renato\\anaconda3\\lib\\site-packages)\n",
      "WARNING: Ignoring invalid distribution -pencv-python (c:\\users\\renato\\anaconda3\\lib\\site-packages)\n",
      "WARNING: Ignoring invalid distribution -pencv-python (c:\\users\\renato\\anaconda3\\lib\\site-packages)\n",
      "WARNING: Ignoring invalid distribution -pencv-python (c:\\users\\renato\\anaconda3\\lib\\site-packages)\n",
      "WARNING: Ignoring invalid distribution -pencv-python (c:\\users\\renato\\anaconda3\\lib\\site-packages)\n"
     ]
    }
   ],
   "source": [
    "#instalando a biblioteca\n",
    "!pip install plotly==4.1.0"
   ]
  },
  {
   "cell_type": "code",
   "execution_count": 58,
   "id": "bc55d558",
   "metadata": {},
   "outputs": [],
   "source": [
    "#realizando os imports\n",
    "import plotly.graph_objects as go\n",
    "import pandas as pd\n",
    "import numpy as np"
   ]
  },
  {
   "cell_type": "code",
   "execution_count": 59,
   "id": "f85f8e72",
   "metadata": {},
   "outputs": [],
   "source": [
    "#importando a base de dados\n",
    "df = pd.read_csv('data/Wine.csv')"
   ]
  },
  {
   "cell_type": "code",
   "execution_count": 60,
   "id": "897d6f1c",
   "metadata": {},
   "outputs": [
    {
     "name": "stdout",
     "output_type": "stream",
     "text": [
      "O dado possui 178 amostras e 14 atributos\n"
     ]
    },
    {
     "data": {
      "text/html": [
       "<div>\n",
       "<style scoped>\n",
       "    .dataframe tbody tr th:only-of-type {\n",
       "        vertical-align: middle;\n",
       "    }\n",
       "\n",
       "    .dataframe tbody tr th {\n",
       "        vertical-align: top;\n",
       "    }\n",
       "\n",
       "    .dataframe thead th {\n",
       "        text-align: right;\n",
       "    }\n",
       "</style>\n",
       "<table border=\"1\" class=\"dataframe\">\n",
       "  <thead>\n",
       "    <tr style=\"text-align: right;\">\n",
       "      <th></th>\n",
       "      <th>Alcohol</th>\n",
       "      <th>Malic_Acid</th>\n",
       "      <th>Ash</th>\n",
       "      <th>Ash_Alcanity</th>\n",
       "      <th>Magnesium</th>\n",
       "      <th>Total_Phenols</th>\n",
       "      <th>Flavanoids</th>\n",
       "      <th>Nonflavanoid_Phenols</th>\n",
       "      <th>Proanthocyanins</th>\n",
       "      <th>Color_Intensity</th>\n",
       "      <th>Hue</th>\n",
       "      <th>OD280</th>\n",
       "      <th>Proline</th>\n",
       "      <th>Customer_Segment</th>\n",
       "    </tr>\n",
       "  </thead>\n",
       "  <tbody>\n",
       "    <tr>\n",
       "      <th>0</th>\n",
       "      <td>14.23</td>\n",
       "      <td>1.71</td>\n",
       "      <td>2.43</td>\n",
       "      <td>15.6</td>\n",
       "      <td>127</td>\n",
       "      <td>2.80</td>\n",
       "      <td>3.06</td>\n",
       "      <td>0.28</td>\n",
       "      <td>2.29</td>\n",
       "      <td>5.64</td>\n",
       "      <td>1.04</td>\n",
       "      <td>3.92</td>\n",
       "      <td>1065</td>\n",
       "      <td>1</td>\n",
       "    </tr>\n",
       "    <tr>\n",
       "      <th>1</th>\n",
       "      <td>13.20</td>\n",
       "      <td>1.78</td>\n",
       "      <td>2.14</td>\n",
       "      <td>11.2</td>\n",
       "      <td>100</td>\n",
       "      <td>2.65</td>\n",
       "      <td>2.76</td>\n",
       "      <td>0.26</td>\n",
       "      <td>1.28</td>\n",
       "      <td>4.38</td>\n",
       "      <td>1.05</td>\n",
       "      <td>3.40</td>\n",
       "      <td>1050</td>\n",
       "      <td>1</td>\n",
       "    </tr>\n",
       "    <tr>\n",
       "      <th>2</th>\n",
       "      <td>13.16</td>\n",
       "      <td>2.36</td>\n",
       "      <td>2.67</td>\n",
       "      <td>18.6</td>\n",
       "      <td>101</td>\n",
       "      <td>2.80</td>\n",
       "      <td>3.24</td>\n",
       "      <td>0.30</td>\n",
       "      <td>2.81</td>\n",
       "      <td>5.68</td>\n",
       "      <td>1.03</td>\n",
       "      <td>3.17</td>\n",
       "      <td>1185</td>\n",
       "      <td>1</td>\n",
       "    </tr>\n",
       "    <tr>\n",
       "      <th>3</th>\n",
       "      <td>14.37</td>\n",
       "      <td>1.95</td>\n",
       "      <td>2.50</td>\n",
       "      <td>16.8</td>\n",
       "      <td>113</td>\n",
       "      <td>3.85</td>\n",
       "      <td>3.49</td>\n",
       "      <td>0.24</td>\n",
       "      <td>2.18</td>\n",
       "      <td>7.80</td>\n",
       "      <td>0.86</td>\n",
       "      <td>3.45</td>\n",
       "      <td>1480</td>\n",
       "      <td>1</td>\n",
       "    </tr>\n",
       "    <tr>\n",
       "      <th>4</th>\n",
       "      <td>13.24</td>\n",
       "      <td>2.59</td>\n",
       "      <td>2.87</td>\n",
       "      <td>21.0</td>\n",
       "      <td>118</td>\n",
       "      <td>2.80</td>\n",
       "      <td>2.69</td>\n",
       "      <td>0.39</td>\n",
       "      <td>1.82</td>\n",
       "      <td>4.32</td>\n",
       "      <td>1.04</td>\n",
       "      <td>2.93</td>\n",
       "      <td>735</td>\n",
       "      <td>1</td>\n",
       "    </tr>\n",
       "  </tbody>\n",
       "</table>\n",
       "</div>"
      ],
      "text/plain": [
       "   Alcohol  Malic_Acid   Ash  Ash_Alcanity  Magnesium  Total_Phenols  \\\n",
       "0    14.23        1.71  2.43          15.6        127           2.80   \n",
       "1    13.20        1.78  2.14          11.2        100           2.65   \n",
       "2    13.16        2.36  2.67          18.6        101           2.80   \n",
       "3    14.37        1.95  2.50          16.8        113           3.85   \n",
       "4    13.24        2.59  2.87          21.0        118           2.80   \n",
       "\n",
       "   Flavanoids  Nonflavanoid_Phenols  Proanthocyanins  Color_Intensity   Hue  \\\n",
       "0        3.06                  0.28             2.29             5.64  1.04   \n",
       "1        2.76                  0.26             1.28             4.38  1.05   \n",
       "2        3.24                  0.30             2.81             5.68  1.03   \n",
       "3        3.49                  0.24             2.18             7.80  0.86   \n",
       "4        2.69                  0.39             1.82             4.32  1.04   \n",
       "\n",
       "   OD280  Proline  Customer_Segment  \n",
       "0   3.92     1065                 1  \n",
       "1   3.40     1050                 1  \n",
       "2   3.17     1185                 1  \n",
       "3   3.45     1480                 1  \n",
       "4   2.93      735                 1  "
      ]
     },
     "execution_count": 60,
     "metadata": {},
     "output_type": "execute_result"
    }
   ],
   "source": [
    "#printando na tela a quantidade de linhas e colunas, separando por amostra e atributo\n",
    "print(\"O dado possui\", df.shape[0], \"amostras e\", df.shape[1], \"atributos\")\n",
    "df.head()"
   ]
  },
  {
   "cell_type": "code",
   "execution_count": 61,
   "id": "1b834085",
   "metadata": {},
   "outputs": [],
   "source": [
    "#renomeando os atributos\n",
    "df = df.rename(columns = {'Alcohol' : 'Alcool', 'Ash' : 'Po', 'Ash_Alcanity': 'Alcalinidade_po',\n",
    "                          'Magnesium' : 'Magnesio','Total_Phenols' : 'Total_Fenois',\n",
    "                          'Nonflavanoid_Phenols':'Fenois_nao_flavalonoides','Color_Intensity':'Intensidade_de_cor'})"
   ]
  },
  {
   "cell_type": "code",
   "execution_count": 62,
   "id": "2e6bf51e",
   "metadata": {},
   "outputs": [
    {
     "data": {
      "text/plain": [
       "Index(['Alcool', 'Malic_Acid', 'Po', 'Alcalinidade_po', 'Magnesio',\n",
       "       'Total_Fenois', 'Flavanoids', 'Fenois_nao_flavalonoides',\n",
       "       'Proanthocyanins', 'Intensidade_de_cor', 'Hue', 'OD280', 'Proline',\n",
       "       'Customer_Segment'],\n",
       "      dtype='object')"
      ]
     },
     "execution_count": 62,
     "metadata": {},
     "output_type": "execute_result"
    }
   ],
   "source": [
    "colunas = df.columns\n",
    "colunas"
   ]
  },
  {
   "cell_type": "code",
   "execution_count": 63,
   "id": "58568ac3",
   "metadata": {},
   "outputs": [
    {
     "data": {
      "text/html": [
       "<div>\n",
       "<style scoped>\n",
       "    .dataframe tbody tr th:only-of-type {\n",
       "        vertical-align: middle;\n",
       "    }\n",
       "\n",
       "    .dataframe tbody tr th {\n",
       "        vertical-align: top;\n",
       "    }\n",
       "\n",
       "    .dataframe thead th {\n",
       "        text-align: right;\n",
       "    }\n",
       "</style>\n",
       "<table border=\"1\" class=\"dataframe\">\n",
       "  <thead>\n",
       "    <tr style=\"text-align: right;\">\n",
       "      <th></th>\n",
       "      <th>Alcool</th>\n",
       "      <th>Malic_Acid</th>\n",
       "      <th>Po</th>\n",
       "      <th>Alcalinidade_po</th>\n",
       "      <th>Magnesio</th>\n",
       "      <th>Total_Fenois</th>\n",
       "      <th>Flavanoids</th>\n",
       "      <th>Fenois_nao_flavalonoides</th>\n",
       "      <th>Proanthocyanins</th>\n",
       "      <th>Intensidade_de_cor</th>\n",
       "      <th>Hue</th>\n",
       "      <th>OD280</th>\n",
       "      <th>Proline</th>\n",
       "      <th>Customer_Segment</th>\n",
       "    </tr>\n",
       "  </thead>\n",
       "  <tbody>\n",
       "    <tr>\n",
       "      <th>0</th>\n",
       "      <td>14.23</td>\n",
       "      <td>1.71</td>\n",
       "      <td>2.43</td>\n",
       "      <td>15.6</td>\n",
       "      <td>127</td>\n",
       "      <td>2.80</td>\n",
       "      <td>3.06</td>\n",
       "      <td>0.28</td>\n",
       "      <td>2.29</td>\n",
       "      <td>5.64</td>\n",
       "      <td>1.04</td>\n",
       "      <td>3.92</td>\n",
       "      <td>1065</td>\n",
       "      <td>1</td>\n",
       "    </tr>\n",
       "    <tr>\n",
       "      <th>1</th>\n",
       "      <td>13.20</td>\n",
       "      <td>1.78</td>\n",
       "      <td>2.14</td>\n",
       "      <td>11.2</td>\n",
       "      <td>100</td>\n",
       "      <td>2.65</td>\n",
       "      <td>2.76</td>\n",
       "      <td>0.26</td>\n",
       "      <td>1.28</td>\n",
       "      <td>4.38</td>\n",
       "      <td>1.05</td>\n",
       "      <td>3.40</td>\n",
       "      <td>1050</td>\n",
       "      <td>1</td>\n",
       "    </tr>\n",
       "    <tr>\n",
       "      <th>2</th>\n",
       "      <td>13.16</td>\n",
       "      <td>2.36</td>\n",
       "      <td>2.67</td>\n",
       "      <td>18.6</td>\n",
       "      <td>101</td>\n",
       "      <td>2.80</td>\n",
       "      <td>3.24</td>\n",
       "      <td>0.30</td>\n",
       "      <td>2.81</td>\n",
       "      <td>5.68</td>\n",
       "      <td>1.03</td>\n",
       "      <td>3.17</td>\n",
       "      <td>1185</td>\n",
       "      <td>1</td>\n",
       "    </tr>\n",
       "    <tr>\n",
       "      <th>3</th>\n",
       "      <td>14.37</td>\n",
       "      <td>1.95</td>\n",
       "      <td>2.50</td>\n",
       "      <td>16.8</td>\n",
       "      <td>113</td>\n",
       "      <td>3.85</td>\n",
       "      <td>3.49</td>\n",
       "      <td>0.24</td>\n",
       "      <td>2.18</td>\n",
       "      <td>7.80</td>\n",
       "      <td>0.86</td>\n",
       "      <td>3.45</td>\n",
       "      <td>1480</td>\n",
       "      <td>1</td>\n",
       "    </tr>\n",
       "    <tr>\n",
       "      <th>4</th>\n",
       "      <td>13.24</td>\n",
       "      <td>2.59</td>\n",
       "      <td>2.87</td>\n",
       "      <td>21.0</td>\n",
       "      <td>118</td>\n",
       "      <td>2.80</td>\n",
       "      <td>2.69</td>\n",
       "      <td>0.39</td>\n",
       "      <td>1.82</td>\n",
       "      <td>4.32</td>\n",
       "      <td>1.04</td>\n",
       "      <td>2.93</td>\n",
       "      <td>735</td>\n",
       "      <td>1</td>\n",
       "    </tr>\n",
       "  </tbody>\n",
       "</table>\n",
       "</div>"
      ],
      "text/plain": [
       "   Alcool  Malic_Acid    Po  Alcalinidade_po  Magnesio  Total_Fenois  \\\n",
       "0   14.23        1.71  2.43             15.6       127          2.80   \n",
       "1   13.20        1.78  2.14             11.2       100          2.65   \n",
       "2   13.16        2.36  2.67             18.6       101          2.80   \n",
       "3   14.37        1.95  2.50             16.8       113          3.85   \n",
       "4   13.24        2.59  2.87             21.0       118          2.80   \n",
       "\n",
       "   Flavanoids  Fenois_nao_flavalonoides  Proanthocyanins  Intensidade_de_cor  \\\n",
       "0        3.06                      0.28             2.29                5.64   \n",
       "1        2.76                      0.26             1.28                4.38   \n",
       "2        3.24                      0.30             2.81                5.68   \n",
       "3        3.49                      0.24             2.18                7.80   \n",
       "4        2.69                      0.39             1.82                4.32   \n",
       "\n",
       "    Hue  OD280  Proline  Customer_Segment  \n",
       "0  1.04   3.92     1065                 1  \n",
       "1  1.05   3.40     1050                 1  \n",
       "2  1.03   3.17     1185                 1  \n",
       "3  0.86   3.45     1480                 1  \n",
       "4  1.04   2.93      735                 1  "
      ]
     },
     "execution_count": 63,
     "metadata": {},
     "output_type": "execute_result"
    }
   ],
   "source": [
    "df.head()"
   ]
  },
  {
   "cell_type": "code",
   "execution_count": 64,
   "id": "c37c39b3",
   "metadata": {},
   "outputs": [
    {
     "data": {
      "text/html": [
       "<div>\n",
       "<style scoped>\n",
       "    .dataframe tbody tr th:only-of-type {\n",
       "        vertical-align: middle;\n",
       "    }\n",
       "\n",
       "    .dataframe tbody tr th {\n",
       "        vertical-align: top;\n",
       "    }\n",
       "\n",
       "    .dataframe thead th {\n",
       "        text-align: right;\n",
       "    }\n",
       "</style>\n",
       "<table border=\"1\" class=\"dataframe\">\n",
       "  <thead>\n",
       "    <tr style=\"text-align: right;\">\n",
       "      <th></th>\n",
       "      <th>Alcool</th>\n",
       "      <th>Malic_Acid</th>\n",
       "      <th>Po</th>\n",
       "      <th>Alcalinidade_po</th>\n",
       "      <th>Magnesio</th>\n",
       "      <th>Total_Fenois</th>\n",
       "      <th>Flavanoids</th>\n",
       "      <th>Fenois_nao_flavalonoides</th>\n",
       "      <th>Proanthocyanins</th>\n",
       "      <th>Intensidade_de_cor</th>\n",
       "      <th>Hue</th>\n",
       "      <th>OD280</th>\n",
       "      <th>Proline</th>\n",
       "      <th>Customer_Segment</th>\n",
       "    </tr>\n",
       "  </thead>\n",
       "  <tbody>\n",
       "    <tr>\n",
       "      <th>count</th>\n",
       "      <td>178.000000</td>\n",
       "      <td>178.000000</td>\n",
       "      <td>178.000000</td>\n",
       "      <td>178.000000</td>\n",
       "      <td>178.000000</td>\n",
       "      <td>178.000000</td>\n",
       "      <td>178.000000</td>\n",
       "      <td>178.000000</td>\n",
       "      <td>178.000000</td>\n",
       "      <td>178.000000</td>\n",
       "      <td>178.000000</td>\n",
       "      <td>178.000000</td>\n",
       "      <td>178.000000</td>\n",
       "      <td>178.000000</td>\n",
       "    </tr>\n",
       "    <tr>\n",
       "      <th>mean</th>\n",
       "      <td>13.000618</td>\n",
       "      <td>2.336348</td>\n",
       "      <td>2.366517</td>\n",
       "      <td>19.494944</td>\n",
       "      <td>99.741573</td>\n",
       "      <td>2.295112</td>\n",
       "      <td>2.029270</td>\n",
       "      <td>0.361854</td>\n",
       "      <td>1.590899</td>\n",
       "      <td>5.058090</td>\n",
       "      <td>0.957449</td>\n",
       "      <td>2.611685</td>\n",
       "      <td>746.893258</td>\n",
       "      <td>1.938202</td>\n",
       "    </tr>\n",
       "    <tr>\n",
       "      <th>std</th>\n",
       "      <td>0.811827</td>\n",
       "      <td>1.117146</td>\n",
       "      <td>0.274344</td>\n",
       "      <td>3.339564</td>\n",
       "      <td>14.282484</td>\n",
       "      <td>0.625851</td>\n",
       "      <td>0.998859</td>\n",
       "      <td>0.124453</td>\n",
       "      <td>0.572359</td>\n",
       "      <td>2.318286</td>\n",
       "      <td>0.228572</td>\n",
       "      <td>0.709990</td>\n",
       "      <td>314.907474</td>\n",
       "      <td>0.775035</td>\n",
       "    </tr>\n",
       "    <tr>\n",
       "      <th>min</th>\n",
       "      <td>11.030000</td>\n",
       "      <td>0.740000</td>\n",
       "      <td>1.360000</td>\n",
       "      <td>10.600000</td>\n",
       "      <td>70.000000</td>\n",
       "      <td>0.980000</td>\n",
       "      <td>0.340000</td>\n",
       "      <td>0.130000</td>\n",
       "      <td>0.410000</td>\n",
       "      <td>1.280000</td>\n",
       "      <td>0.480000</td>\n",
       "      <td>1.270000</td>\n",
       "      <td>278.000000</td>\n",
       "      <td>1.000000</td>\n",
       "    </tr>\n",
       "    <tr>\n",
       "      <th>25%</th>\n",
       "      <td>12.362500</td>\n",
       "      <td>1.602500</td>\n",
       "      <td>2.210000</td>\n",
       "      <td>17.200000</td>\n",
       "      <td>88.000000</td>\n",
       "      <td>1.742500</td>\n",
       "      <td>1.205000</td>\n",
       "      <td>0.270000</td>\n",
       "      <td>1.250000</td>\n",
       "      <td>3.220000</td>\n",
       "      <td>0.782500</td>\n",
       "      <td>1.937500</td>\n",
       "      <td>500.500000</td>\n",
       "      <td>1.000000</td>\n",
       "    </tr>\n",
       "    <tr>\n",
       "      <th>50%</th>\n",
       "      <td>13.050000</td>\n",
       "      <td>1.865000</td>\n",
       "      <td>2.360000</td>\n",
       "      <td>19.500000</td>\n",
       "      <td>98.000000</td>\n",
       "      <td>2.355000</td>\n",
       "      <td>2.135000</td>\n",
       "      <td>0.340000</td>\n",
       "      <td>1.555000</td>\n",
       "      <td>4.690000</td>\n",
       "      <td>0.965000</td>\n",
       "      <td>2.780000</td>\n",
       "      <td>673.500000</td>\n",
       "      <td>2.000000</td>\n",
       "    </tr>\n",
       "    <tr>\n",
       "      <th>75%</th>\n",
       "      <td>13.677500</td>\n",
       "      <td>3.082500</td>\n",
       "      <td>2.557500</td>\n",
       "      <td>21.500000</td>\n",
       "      <td>107.000000</td>\n",
       "      <td>2.800000</td>\n",
       "      <td>2.875000</td>\n",
       "      <td>0.437500</td>\n",
       "      <td>1.950000</td>\n",
       "      <td>6.200000</td>\n",
       "      <td>1.120000</td>\n",
       "      <td>3.170000</td>\n",
       "      <td>985.000000</td>\n",
       "      <td>3.000000</td>\n",
       "    </tr>\n",
       "    <tr>\n",
       "      <th>max</th>\n",
       "      <td>14.830000</td>\n",
       "      <td>5.800000</td>\n",
       "      <td>3.230000</td>\n",
       "      <td>30.000000</td>\n",
       "      <td>162.000000</td>\n",
       "      <td>3.880000</td>\n",
       "      <td>5.080000</td>\n",
       "      <td>0.660000</td>\n",
       "      <td>3.580000</td>\n",
       "      <td>13.000000</td>\n",
       "      <td>1.710000</td>\n",
       "      <td>4.000000</td>\n",
       "      <td>1680.000000</td>\n",
       "      <td>3.000000</td>\n",
       "    </tr>\n",
       "  </tbody>\n",
       "</table>\n",
       "</div>"
      ],
      "text/plain": [
       "           Alcool  Malic_Acid          Po  Alcalinidade_po    Magnesio  \\\n",
       "count  178.000000  178.000000  178.000000       178.000000  178.000000   \n",
       "mean    13.000618    2.336348    2.366517        19.494944   99.741573   \n",
       "std      0.811827    1.117146    0.274344         3.339564   14.282484   \n",
       "min     11.030000    0.740000    1.360000        10.600000   70.000000   \n",
       "25%     12.362500    1.602500    2.210000        17.200000   88.000000   \n",
       "50%     13.050000    1.865000    2.360000        19.500000   98.000000   \n",
       "75%     13.677500    3.082500    2.557500        21.500000  107.000000   \n",
       "max     14.830000    5.800000    3.230000        30.000000  162.000000   \n",
       "\n",
       "       Total_Fenois  Flavanoids  Fenois_nao_flavalonoides  Proanthocyanins  \\\n",
       "count    178.000000  178.000000                178.000000       178.000000   \n",
       "mean       2.295112    2.029270                  0.361854         1.590899   \n",
       "std        0.625851    0.998859                  0.124453         0.572359   \n",
       "min        0.980000    0.340000                  0.130000         0.410000   \n",
       "25%        1.742500    1.205000                  0.270000         1.250000   \n",
       "50%        2.355000    2.135000                  0.340000         1.555000   \n",
       "75%        2.800000    2.875000                  0.437500         1.950000   \n",
       "max        3.880000    5.080000                  0.660000         3.580000   \n",
       "\n",
       "       Intensidade_de_cor         Hue       OD280      Proline  \\\n",
       "count          178.000000  178.000000  178.000000   178.000000   \n",
       "mean             5.058090    0.957449    2.611685   746.893258   \n",
       "std              2.318286    0.228572    0.709990   314.907474   \n",
       "min              1.280000    0.480000    1.270000   278.000000   \n",
       "25%              3.220000    0.782500    1.937500   500.500000   \n",
       "50%              4.690000    0.965000    2.780000   673.500000   \n",
       "75%              6.200000    1.120000    3.170000   985.000000   \n",
       "max             13.000000    1.710000    4.000000  1680.000000   \n",
       "\n",
       "       Customer_Segment  \n",
       "count        178.000000  \n",
       "mean           1.938202  \n",
       "std            0.775035  \n",
       "min            1.000000  \n",
       "25%            1.000000  \n",
       "50%            2.000000  \n",
       "75%            3.000000  \n",
       "max            3.000000  "
      ]
     },
     "execution_count": 64,
     "metadata": {},
     "output_type": "execute_result"
    }
   ],
   "source": [
    "df.describe()"
   ]
  },
  {
   "cell_type": "code",
   "execution_count": 65,
   "id": "c0b25ca0",
   "metadata": {},
   "outputs": [],
   "source": [
    "#verificando a correlação do dados\n",
    "matriz_corr = df.corr()"
   ]
  },
  {
   "cell_type": "code",
   "execution_count": 66,
   "id": "644466f8",
   "metadata": {},
   "outputs": [
    {
     "data": {
      "text/html": [
       "<div>\n",
       "<style scoped>\n",
       "    .dataframe tbody tr th:only-of-type {\n",
       "        vertical-align: middle;\n",
       "    }\n",
       "\n",
       "    .dataframe tbody tr th {\n",
       "        vertical-align: top;\n",
       "    }\n",
       "\n",
       "    .dataframe thead th {\n",
       "        text-align: right;\n",
       "    }\n",
       "</style>\n",
       "<table border=\"1\" class=\"dataframe\">\n",
       "  <thead>\n",
       "    <tr style=\"text-align: right;\">\n",
       "      <th></th>\n",
       "      <th>Alcool</th>\n",
       "      <th>Malic_Acid</th>\n",
       "      <th>Po</th>\n",
       "      <th>Alcalinidade_po</th>\n",
       "      <th>Magnesio</th>\n",
       "      <th>Total_Fenois</th>\n",
       "      <th>Flavanoids</th>\n",
       "      <th>Fenois_nao_flavalonoides</th>\n",
       "      <th>Proanthocyanins</th>\n",
       "      <th>Intensidade_de_cor</th>\n",
       "      <th>Hue</th>\n",
       "      <th>OD280</th>\n",
       "      <th>Proline</th>\n",
       "      <th>Customer_Segment</th>\n",
       "    </tr>\n",
       "  </thead>\n",
       "  <tbody>\n",
       "    <tr>\n",
       "      <th>Alcool</th>\n",
       "      <td>1.000000</td>\n",
       "      <td>0.094397</td>\n",
       "      <td>0.211545</td>\n",
       "      <td>-0.310235</td>\n",
       "      <td>0.270798</td>\n",
       "      <td>0.289101</td>\n",
       "      <td>0.236815</td>\n",
       "      <td>-0.155929</td>\n",
       "      <td>0.136698</td>\n",
       "      <td>0.546364</td>\n",
       "      <td>-0.071747</td>\n",
       "      <td>0.072343</td>\n",
       "      <td>0.643720</td>\n",
       "      <td>-0.328222</td>\n",
       "    </tr>\n",
       "    <tr>\n",
       "      <th>Malic_Acid</th>\n",
       "      <td>0.094397</td>\n",
       "      <td>1.000000</td>\n",
       "      <td>0.164045</td>\n",
       "      <td>0.288500</td>\n",
       "      <td>-0.054575</td>\n",
       "      <td>-0.335167</td>\n",
       "      <td>-0.411007</td>\n",
       "      <td>0.292977</td>\n",
       "      <td>-0.220746</td>\n",
       "      <td>0.248985</td>\n",
       "      <td>-0.561296</td>\n",
       "      <td>-0.368710</td>\n",
       "      <td>-0.192011</td>\n",
       "      <td>0.437776</td>\n",
       "    </tr>\n",
       "    <tr>\n",
       "      <th>Po</th>\n",
       "      <td>0.211545</td>\n",
       "      <td>0.164045</td>\n",
       "      <td>1.000000</td>\n",
       "      <td>0.443367</td>\n",
       "      <td>0.286587</td>\n",
       "      <td>0.128980</td>\n",
       "      <td>0.115077</td>\n",
       "      <td>0.186230</td>\n",
       "      <td>0.009652</td>\n",
       "      <td>0.258887</td>\n",
       "      <td>-0.074667</td>\n",
       "      <td>0.003911</td>\n",
       "      <td>0.223626</td>\n",
       "      <td>-0.049643</td>\n",
       "    </tr>\n",
       "    <tr>\n",
       "      <th>Alcalinidade_po</th>\n",
       "      <td>-0.310235</td>\n",
       "      <td>0.288500</td>\n",
       "      <td>0.443367</td>\n",
       "      <td>1.000000</td>\n",
       "      <td>-0.083333</td>\n",
       "      <td>-0.321113</td>\n",
       "      <td>-0.351370</td>\n",
       "      <td>0.361922</td>\n",
       "      <td>-0.197327</td>\n",
       "      <td>0.018732</td>\n",
       "      <td>-0.273955</td>\n",
       "      <td>-0.276769</td>\n",
       "      <td>-0.440597</td>\n",
       "      <td>0.517859</td>\n",
       "    </tr>\n",
       "    <tr>\n",
       "      <th>Magnesio</th>\n",
       "      <td>0.270798</td>\n",
       "      <td>-0.054575</td>\n",
       "      <td>0.286587</td>\n",
       "      <td>-0.083333</td>\n",
       "      <td>1.000000</td>\n",
       "      <td>0.214401</td>\n",
       "      <td>0.195784</td>\n",
       "      <td>-0.256294</td>\n",
       "      <td>0.236441</td>\n",
       "      <td>0.199950</td>\n",
       "      <td>0.055398</td>\n",
       "      <td>0.066004</td>\n",
       "      <td>0.393351</td>\n",
       "      <td>-0.209179</td>\n",
       "    </tr>\n",
       "    <tr>\n",
       "      <th>Total_Fenois</th>\n",
       "      <td>0.289101</td>\n",
       "      <td>-0.335167</td>\n",
       "      <td>0.128980</td>\n",
       "      <td>-0.321113</td>\n",
       "      <td>0.214401</td>\n",
       "      <td>1.000000</td>\n",
       "      <td>0.864564</td>\n",
       "      <td>-0.449935</td>\n",
       "      <td>0.612413</td>\n",
       "      <td>-0.055136</td>\n",
       "      <td>0.433681</td>\n",
       "      <td>0.699949</td>\n",
       "      <td>0.498115</td>\n",
       "      <td>-0.719163</td>\n",
       "    </tr>\n",
       "    <tr>\n",
       "      <th>Flavanoids</th>\n",
       "      <td>0.236815</td>\n",
       "      <td>-0.411007</td>\n",
       "      <td>0.115077</td>\n",
       "      <td>-0.351370</td>\n",
       "      <td>0.195784</td>\n",
       "      <td>0.864564</td>\n",
       "      <td>1.000000</td>\n",
       "      <td>-0.537900</td>\n",
       "      <td>0.652692</td>\n",
       "      <td>-0.172379</td>\n",
       "      <td>0.543479</td>\n",
       "      <td>0.787194</td>\n",
       "      <td>0.494193</td>\n",
       "      <td>-0.847498</td>\n",
       "    </tr>\n",
       "    <tr>\n",
       "      <th>Fenois_nao_flavalonoides</th>\n",
       "      <td>-0.155929</td>\n",
       "      <td>0.292977</td>\n",
       "      <td>0.186230</td>\n",
       "      <td>0.361922</td>\n",
       "      <td>-0.256294</td>\n",
       "      <td>-0.449935</td>\n",
       "      <td>-0.537900</td>\n",
       "      <td>1.000000</td>\n",
       "      <td>-0.365845</td>\n",
       "      <td>0.139057</td>\n",
       "      <td>-0.262640</td>\n",
       "      <td>-0.503270</td>\n",
       "      <td>-0.311385</td>\n",
       "      <td>0.489109</td>\n",
       "    </tr>\n",
       "    <tr>\n",
       "      <th>Proanthocyanins</th>\n",
       "      <td>0.136698</td>\n",
       "      <td>-0.220746</td>\n",
       "      <td>0.009652</td>\n",
       "      <td>-0.197327</td>\n",
       "      <td>0.236441</td>\n",
       "      <td>0.612413</td>\n",
       "      <td>0.652692</td>\n",
       "      <td>-0.365845</td>\n",
       "      <td>1.000000</td>\n",
       "      <td>-0.025250</td>\n",
       "      <td>0.295544</td>\n",
       "      <td>0.519067</td>\n",
       "      <td>0.330417</td>\n",
       "      <td>-0.499130</td>\n",
       "    </tr>\n",
       "    <tr>\n",
       "      <th>Intensidade_de_cor</th>\n",
       "      <td>0.546364</td>\n",
       "      <td>0.248985</td>\n",
       "      <td>0.258887</td>\n",
       "      <td>0.018732</td>\n",
       "      <td>0.199950</td>\n",
       "      <td>-0.055136</td>\n",
       "      <td>-0.172379</td>\n",
       "      <td>0.139057</td>\n",
       "      <td>-0.025250</td>\n",
       "      <td>1.000000</td>\n",
       "      <td>-0.521813</td>\n",
       "      <td>-0.428815</td>\n",
       "      <td>0.316100</td>\n",
       "      <td>0.265668</td>\n",
       "    </tr>\n",
       "    <tr>\n",
       "      <th>Hue</th>\n",
       "      <td>-0.071747</td>\n",
       "      <td>-0.561296</td>\n",
       "      <td>-0.074667</td>\n",
       "      <td>-0.273955</td>\n",
       "      <td>0.055398</td>\n",
       "      <td>0.433681</td>\n",
       "      <td>0.543479</td>\n",
       "      <td>-0.262640</td>\n",
       "      <td>0.295544</td>\n",
       "      <td>-0.521813</td>\n",
       "      <td>1.000000</td>\n",
       "      <td>0.565468</td>\n",
       "      <td>0.236183</td>\n",
       "      <td>-0.617369</td>\n",
       "    </tr>\n",
       "    <tr>\n",
       "      <th>OD280</th>\n",
       "      <td>0.072343</td>\n",
       "      <td>-0.368710</td>\n",
       "      <td>0.003911</td>\n",
       "      <td>-0.276769</td>\n",
       "      <td>0.066004</td>\n",
       "      <td>0.699949</td>\n",
       "      <td>0.787194</td>\n",
       "      <td>-0.503270</td>\n",
       "      <td>0.519067</td>\n",
       "      <td>-0.428815</td>\n",
       "      <td>0.565468</td>\n",
       "      <td>1.000000</td>\n",
       "      <td>0.312761</td>\n",
       "      <td>-0.788230</td>\n",
       "    </tr>\n",
       "    <tr>\n",
       "      <th>Proline</th>\n",
       "      <td>0.643720</td>\n",
       "      <td>-0.192011</td>\n",
       "      <td>0.223626</td>\n",
       "      <td>-0.440597</td>\n",
       "      <td>0.393351</td>\n",
       "      <td>0.498115</td>\n",
       "      <td>0.494193</td>\n",
       "      <td>-0.311385</td>\n",
       "      <td>0.330417</td>\n",
       "      <td>0.316100</td>\n",
       "      <td>0.236183</td>\n",
       "      <td>0.312761</td>\n",
       "      <td>1.000000</td>\n",
       "      <td>-0.633717</td>\n",
       "    </tr>\n",
       "    <tr>\n",
       "      <th>Customer_Segment</th>\n",
       "      <td>-0.328222</td>\n",
       "      <td>0.437776</td>\n",
       "      <td>-0.049643</td>\n",
       "      <td>0.517859</td>\n",
       "      <td>-0.209179</td>\n",
       "      <td>-0.719163</td>\n",
       "      <td>-0.847498</td>\n",
       "      <td>0.489109</td>\n",
       "      <td>-0.499130</td>\n",
       "      <td>0.265668</td>\n",
       "      <td>-0.617369</td>\n",
       "      <td>-0.788230</td>\n",
       "      <td>-0.633717</td>\n",
       "      <td>1.000000</td>\n",
       "    </tr>\n",
       "  </tbody>\n",
       "</table>\n",
       "</div>"
      ],
      "text/plain": [
       "                            Alcool  Malic_Acid        Po  Alcalinidade_po  \\\n",
       "Alcool                    1.000000    0.094397  0.211545        -0.310235   \n",
       "Malic_Acid                0.094397    1.000000  0.164045         0.288500   \n",
       "Po                        0.211545    0.164045  1.000000         0.443367   \n",
       "Alcalinidade_po          -0.310235    0.288500  0.443367         1.000000   \n",
       "Magnesio                  0.270798   -0.054575  0.286587        -0.083333   \n",
       "Total_Fenois              0.289101   -0.335167  0.128980        -0.321113   \n",
       "Flavanoids                0.236815   -0.411007  0.115077        -0.351370   \n",
       "Fenois_nao_flavalonoides -0.155929    0.292977  0.186230         0.361922   \n",
       "Proanthocyanins           0.136698   -0.220746  0.009652        -0.197327   \n",
       "Intensidade_de_cor        0.546364    0.248985  0.258887         0.018732   \n",
       "Hue                      -0.071747   -0.561296 -0.074667        -0.273955   \n",
       "OD280                     0.072343   -0.368710  0.003911        -0.276769   \n",
       "Proline                   0.643720   -0.192011  0.223626        -0.440597   \n",
       "Customer_Segment         -0.328222    0.437776 -0.049643         0.517859   \n",
       "\n",
       "                          Magnesio  Total_Fenois  Flavanoids  \\\n",
       "Alcool                    0.270798      0.289101    0.236815   \n",
       "Malic_Acid               -0.054575     -0.335167   -0.411007   \n",
       "Po                        0.286587      0.128980    0.115077   \n",
       "Alcalinidade_po          -0.083333     -0.321113   -0.351370   \n",
       "Magnesio                  1.000000      0.214401    0.195784   \n",
       "Total_Fenois              0.214401      1.000000    0.864564   \n",
       "Flavanoids                0.195784      0.864564    1.000000   \n",
       "Fenois_nao_flavalonoides -0.256294     -0.449935   -0.537900   \n",
       "Proanthocyanins           0.236441      0.612413    0.652692   \n",
       "Intensidade_de_cor        0.199950     -0.055136   -0.172379   \n",
       "Hue                       0.055398      0.433681    0.543479   \n",
       "OD280                     0.066004      0.699949    0.787194   \n",
       "Proline                   0.393351      0.498115    0.494193   \n",
       "Customer_Segment         -0.209179     -0.719163   -0.847498   \n",
       "\n",
       "                          Fenois_nao_flavalonoides  Proanthocyanins  \\\n",
       "Alcool                                   -0.155929         0.136698   \n",
       "Malic_Acid                                0.292977        -0.220746   \n",
       "Po                                        0.186230         0.009652   \n",
       "Alcalinidade_po                           0.361922        -0.197327   \n",
       "Magnesio                                 -0.256294         0.236441   \n",
       "Total_Fenois                             -0.449935         0.612413   \n",
       "Flavanoids                               -0.537900         0.652692   \n",
       "Fenois_nao_flavalonoides                  1.000000        -0.365845   \n",
       "Proanthocyanins                          -0.365845         1.000000   \n",
       "Intensidade_de_cor                        0.139057        -0.025250   \n",
       "Hue                                      -0.262640         0.295544   \n",
       "OD280                                    -0.503270         0.519067   \n",
       "Proline                                  -0.311385         0.330417   \n",
       "Customer_Segment                          0.489109        -0.499130   \n",
       "\n",
       "                          Intensidade_de_cor       Hue     OD280   Proline  \\\n",
       "Alcool                              0.546364 -0.071747  0.072343  0.643720   \n",
       "Malic_Acid                          0.248985 -0.561296 -0.368710 -0.192011   \n",
       "Po                                  0.258887 -0.074667  0.003911  0.223626   \n",
       "Alcalinidade_po                     0.018732 -0.273955 -0.276769 -0.440597   \n",
       "Magnesio                            0.199950  0.055398  0.066004  0.393351   \n",
       "Total_Fenois                       -0.055136  0.433681  0.699949  0.498115   \n",
       "Flavanoids                         -0.172379  0.543479  0.787194  0.494193   \n",
       "Fenois_nao_flavalonoides            0.139057 -0.262640 -0.503270 -0.311385   \n",
       "Proanthocyanins                    -0.025250  0.295544  0.519067  0.330417   \n",
       "Intensidade_de_cor                  1.000000 -0.521813 -0.428815  0.316100   \n",
       "Hue                                -0.521813  1.000000  0.565468  0.236183   \n",
       "OD280                              -0.428815  0.565468  1.000000  0.312761   \n",
       "Proline                             0.316100  0.236183  0.312761  1.000000   \n",
       "Customer_Segment                    0.265668 -0.617369 -0.788230 -0.633717   \n",
       "\n",
       "                          Customer_Segment  \n",
       "Alcool                           -0.328222  \n",
       "Malic_Acid                        0.437776  \n",
       "Po                               -0.049643  \n",
       "Alcalinidade_po                   0.517859  \n",
       "Magnesio                         -0.209179  \n",
       "Total_Fenois                     -0.719163  \n",
       "Flavanoids                       -0.847498  \n",
       "Fenois_nao_flavalonoides          0.489109  \n",
       "Proanthocyanins                  -0.499130  \n",
       "Intensidade_de_cor                0.265668  \n",
       "Hue                              -0.617369  \n",
       "OD280                            -0.788230  \n",
       "Proline                          -0.633717  \n",
       "Customer_Segment                  1.000000  "
      ]
     },
     "execution_count": 66,
     "metadata": {},
     "output_type": "execute_result"
    }
   ],
   "source": [
    "matriz_corr"
   ]
  },
  {
   "cell_type": "code",
   "execution_count": 67,
   "id": "3396fffe",
   "metadata": {},
   "outputs": [
    {
     "name": "stdout",
     "output_type": "stream",
     "text": [
      "Requirement already satisfied: biokit in c:\\users\\renato\\anaconda3\\lib\\site-packages (0.5.0)\n",
      "Requirement already satisfied: matplotlib in c:\\users\\renato\\anaconda3\\lib\\site-packages (from biokit) (3.4.3)\n",
      "Requirement already satisfied: bioservices>=1.4.5 in c:\\users\\renato\\anaconda3\\lib\\site-packages (from biokit) (1.10.0)\n",
      "Requirement already satisfied: biopython in c:\\users\\renato\\anaconda3\\lib\\site-packages (from biokit) (1.79)\n",
      "Requirement already satisfied: numpydoc in c:\\users\\renato\\anaconda3\\lib\\site-packages (from biokit) (1.1.0)\n",
      "Requirement already satisfied: colormap in c:\\users\\renato\\anaconda3\\lib\\site-packages (from biokit) (1.0.4)\n",
      "Requirement already satisfied: scipy in c:\\users\\renato\\anaconda3\\lib\\site-packages (from biokit) (1.7.1)\n",
      "Requirement already satisfied: pandas in c:\\users\\renato\\anaconda3\\lib\\site-packages (from biokit) (1.3.4)\n",
      "Requirement already satisfied: colorlog in c:\\users\\renato\\anaconda3\\lib\\site-packages (from biokit) (6.6.0)\n",
      "Requirement already satisfied: easydev>=0.9.34 in c:\\users\\renato\\anaconda3\\lib\\site-packages (from biokit) (0.12.0)\n",
      "Requirement already satisfied: lxml in c:\\users\\renato\\anaconda3\\lib\\site-packages (from bioservices>=1.4.5->biokit) (4.6.3)\n",
      "Requirement already satisfied: requests-cache in c:\\users\\renato\\anaconda3\\lib\\site-packages (from bioservices>=1.4.5->biokit) (0.9.5)\n",
      "Requirement already satisfied: wrapt in c:\\users\\renato\\anaconda3\\lib\\site-packages (from bioservices>=1.4.5->biokit) (1.12.1)\n",
      "Requirement already satisfied: suds-community in c:\\users\\renato\\anaconda3\\lib\\site-packages (from bioservices>=1.4.5->biokit) (1.1.2)\n",
      "Requirement already satisfied: appdirs in c:\\users\\renato\\anaconda3\\lib\\site-packages (from bioservices>=1.4.5->biokit) (1.4.4)\n",
      "Requirement already satisfied: grequests in c:\\users\\renato\\anaconda3\\lib\\site-packages (from bioservices>=1.4.5->biokit) (0.6.0)\n",
      "Requirement already satisfied: xmltodict in c:\\users\\renato\\anaconda3\\lib\\site-packages (from bioservices>=1.4.5->biokit) (0.12.0)\n",
      "Requirement already satisfied: beautifulsoup4 in c:\\users\\renato\\anaconda3\\lib\\site-packages (from bioservices>=1.4.5->biokit) (4.10.0)\n",
      "Requirement already satisfied: requests in c:\\users\\renato\\anaconda3\\lib\\site-packages (from bioservices>=1.4.5->biokit) (2.26.0)\n",
      "Requirement already satisfied: pexpect in c:\\users\\renato\\anaconda3\\lib\\site-packages (from easydev>=0.9.34->biokit) (4.8.0)\n",
      "Requirement already satisfied: colorama in c:\\users\\renato\\anaconda3\\lib\\site-packages (from easydev>=0.9.34->biokit) (0.4.4)\n",
      "Requirement already satisfied: numpy in c:\\users\\renato\\anaconda3\\lib\\site-packages (from biopython->biokit) (1.20.3)\n",
      "Requirement already satisfied: cycler>=0.10 in c:\\users\\renato\\anaconda3\\lib\\site-packages (from matplotlib->biokit) (0.10.0)\n",
      "Requirement already satisfied: python-dateutil>=2.7 in c:\\users\\renato\\anaconda3\\lib\\site-packages (from matplotlib->biokit) (2.8.2)\n",
      "Requirement already satisfied: kiwisolver>=1.0.1 in c:\\users\\renato\\anaconda3\\lib\\site-packages (from matplotlib->biokit) (1.3.1)\n",
      "Requirement already satisfied: pyparsing>=2.2.1 in c:\\users\\renato\\anaconda3\\lib\\site-packages (from matplotlib->biokit) (3.0.4)\n",
      "Requirement already satisfied: pillow>=6.2.0 in c:\\users\\renato\\anaconda3\\lib\\site-packages (from matplotlib->biokit) (8.4.0)\n",
      "Requirement already satisfied: sphinx>=1.6.5 in c:\\users\\renato\\anaconda3\\lib\\site-packages (from numpydoc->biokit) (4.2.0)\n",
      "Requirement already satisfied: Jinja2>=2.3 in c:\\users\\renato\\anaconda3\\lib\\site-packages (from numpydoc->biokit) (2.11.3)\n",
      "Requirement already satisfied: pytz>=2017.3 in c:\\users\\renato\\anaconda3\\lib\\site-packages (from pandas->biokit) (2021.3)\n",
      "Requirement already satisfied: six in c:\\users\\renato\\anaconda3\\lib\\site-packages (from cycler>=0.10->matplotlib->biokit) (1.16.0)\n",
      "Requirement already satisfied: MarkupSafe>=0.23 in c:\\users\\renato\\anaconda3\\lib\\site-packages (from Jinja2>=2.3->numpydoc->biokit) (1.1.1)\n",
      "Requirement already satisfied: sphinxcontrib-applehelp in c:\\users\\renato\\anaconda3\\lib\\site-packages (from sphinx>=1.6.5->numpydoc->biokit) (1.0.2)\n",
      "Requirement already satisfied: sphinxcontrib-devhelp in c:\\users\\renato\\anaconda3\\lib\\site-packages (from sphinx>=1.6.5->numpydoc->biokit) (1.0.2)\n",
      "Requirement already satisfied: sphinxcontrib-jsmath in c:\\users\\renato\\anaconda3\\lib\\site-packages (from sphinx>=1.6.5->numpydoc->biokit) (1.0.1)\n",
      "Requirement already satisfied: sphinxcontrib-htmlhelp>=2.0.0 in c:\\users\\renato\\anaconda3\\lib\\site-packages (from sphinx>=1.6.5->numpydoc->biokit) (2.0.0)\n",
      "Requirement already satisfied: sphinxcontrib-serializinghtml>=1.1.5 in c:\\users\\renato\\anaconda3\\lib\\site-packages (from sphinx>=1.6.5->numpydoc->biokit) (1.1.5)\n",
      "Requirement already satisfied: sphinxcontrib-qthelp in c:\\users\\renato\\anaconda3\\lib\\site-packages (from sphinx>=1.6.5->numpydoc->biokit) (1.0.3)\n",
      "Requirement already satisfied: Pygments>=2.0 in c:\\users\\renato\\anaconda3\\lib\\site-packages (from sphinx>=1.6.5->numpydoc->biokit) (2.10.0)\n",
      "Requirement already satisfied: docutils<0.18,>=0.14 in c:\\users\\renato\\anaconda3\\lib\\site-packages (from sphinx>=1.6.5->numpydoc->biokit) (0.17.1)\n",
      "Requirement already satisfied: snowballstemmer>=1.1 in c:\\users\\renato\\anaconda3\\lib\\site-packages (from sphinx>=1.6.5->numpydoc->biokit) (2.1.0)\n",
      "Requirement already satisfied: babel>=1.3 in c:\\users\\renato\\anaconda3\\lib\\site-packages (from sphinx>=1.6.5->numpydoc->biokit) (2.9.1)\n",
      "Requirement already satisfied: alabaster<0.8,>=0.7 in c:\\users\\renato\\anaconda3\\lib\\site-packages (from sphinx>=1.6.5->numpydoc->biokit) (0.7.12)\n",
      "Requirement already satisfied: imagesize in c:\\users\\renato\\anaconda3\\lib\\site-packages (from sphinx>=1.6.5->numpydoc->biokit) (1.2.0)\n",
      "Requirement already satisfied: setuptools in c:\\users\\renato\\anaconda3\\lib\\site-packages (from sphinx>=1.6.5->numpydoc->biokit) (58.0.4)\n",
      "Requirement already satisfied: packaging in c:\\users\\renato\\anaconda3\\lib\\site-packages (from sphinx>=1.6.5->numpydoc->biokit) (21.0)\n",
      "Requirement already satisfied: urllib3<1.27,>=1.21.1 in c:\\users\\renato\\anaconda3\\lib\\site-packages (from requests->bioservices>=1.4.5->biokit) (1.26.7)\n",
      "Requirement already satisfied: certifi>=2017.4.17 in c:\\users\\renato\\anaconda3\\lib\\site-packages (from requests->bioservices>=1.4.5->biokit) (2021.10.8)\n",
      "Requirement already satisfied: idna<4,>=2.5 in c:\\users\\renato\\anaconda3\\lib\\site-packages (from requests->bioservices>=1.4.5->biokit) (3.2)\n",
      "Requirement already satisfied: charset-normalizer~=2.0.0 in c:\\users\\renato\\anaconda3\\lib\\site-packages (from requests->bioservices>=1.4.5->biokit) (2.0.4)\n",
      "Requirement already satisfied: soupsieve>1.2 in c:\\users\\renato\\anaconda3\\lib\\site-packages (from beautifulsoup4->bioservices>=1.4.5->biokit) (2.2.1)\n",
      "Requirement already satisfied: gevent in c:\\users\\renato\\anaconda3\\lib\\site-packages (from grequests->bioservices>=1.4.5->biokit) (21.8.0)\n",
      "Requirement already satisfied: ptyprocess>=0.5 in c:\\users\\renato\\anaconda3\\lib\\site-packages (from pexpect->easydev>=0.9.34->biokit) (0.7.0)\n",
      "Requirement already satisfied: attrs<22.0,>=21.2 in c:\\users\\renato\\anaconda3\\lib\\site-packages (from requests-cache->bioservices>=1.4.5->biokit) (21.2.0)\n",
      "Requirement already satisfied: url-normalize<2.0,>=1.4 in c:\\users\\renato\\anaconda3\\lib\\site-packages (from requests-cache->bioservices>=1.4.5->biokit) (1.4.3)\n",
      "Requirement already satisfied: cattrs<=22.2,>=1.8 in c:\\users\\renato\\anaconda3\\lib\\site-packages (from requests-cache->bioservices>=1.4.5->biokit) (22.1.0)\n",
      "Requirement already satisfied: exceptiongroup in c:\\users\\renato\\anaconda3\\lib\\site-packages (from cattrs<=22.2,>=1.8->requests-cache->bioservices>=1.4.5->biokit) (1.0.0rc8)\n",
      "Requirement already satisfied: cffi>=1.12.2 in c:\\users\\renato\\anaconda3\\lib\\site-packages (from gevent->grequests->bioservices>=1.4.5->biokit) (1.14.6)\n",
      "Requirement already satisfied: zope.event in c:\\users\\renato\\anaconda3\\lib\\site-packages (from gevent->grequests->bioservices>=1.4.5->biokit) (4.5.0)\n",
      "Requirement already satisfied: zope.interface in c:\\users\\renato\\anaconda3\\lib\\site-packages (from gevent->grequests->bioservices>=1.4.5->biokit) (5.4.0)\n",
      "Requirement already satisfied: greenlet<2.0,>=1.1.0 in c:\\users\\renato\\anaconda3\\lib\\site-packages (from gevent->grequests->bioservices>=1.4.5->biokit) (1.1.1)\n",
      "Requirement already satisfied: pycparser in c:\\users\\renato\\anaconda3\\lib\\site-packages (from cffi>=1.12.2->gevent->grequests->bioservices>=1.4.5->biokit) (2.20)\n",
      "\n",
      "[notice] A new release of pip available: 22.1.2 -> 22.2\n",
      "[notice] To update, run: python.exe -m pip install --upgrade pip\n"
     ]
    },
    {
     "name": "stderr",
     "output_type": "stream",
     "text": [
      "WARNING: Ignoring invalid distribution -pencv-python (c:\\users\\renato\\anaconda3\\lib\\site-packages)\n",
      "WARNING: Ignoring invalid distribution -pencv-python (c:\\users\\renato\\anaconda3\\lib\\site-packages)\n",
      "WARNING: Ignoring invalid distribution -pencv-python (c:\\users\\renato\\anaconda3\\lib\\site-packages)\n",
      "WARNING: Ignoring invalid distribution -pencv-python (c:\\users\\renato\\anaconda3\\lib\\site-packages)\n",
      "WARNING: Ignoring invalid distribution -pencv-python (c:\\users\\renato\\anaconda3\\lib\\site-packages)\n",
      "WARNING: Ignoring invalid distribution -pencv-python (c:\\users\\renato\\anaconda3\\lib\\site-packages)\n"
     ]
    }
   ],
   "source": [
    "!pip install biokit"
   ]
  },
  {
   "cell_type": "code",
   "execution_count": 68,
   "id": "873b7f30",
   "metadata": {},
   "outputs": [],
   "source": [
    "#importanto biblioteca para construção do grafico e plotagem.\n",
    "from biokit.viz import corrplot\n",
    "import matplotlib.pyplot as plt"
   ]
  },
  {
   "cell_type": "code",
   "execution_count": 69,
   "id": "828d9e89",
   "metadata": {},
   "outputs": [
    {
     "name": "stderr",
     "output_type": "stream",
     "text": [
      "C:\\Users\\Renato\\AppData\\Local\\Temp/ipykernel_9608/4072610561.py:5: UserWarning:\n",
      "\n",
      "Matplotlib is currently using module://matplotlib_inline.backend_inline, which is a non-GUI backend, so cannot show the figure.\n",
      "\n"
     ]
    },
    {
     "data": {
      "image/png": "[encoded data removed]",
      "text/plain": [
       "<Figure size 936x576 with 2 Axes>"
      ]
     },
     "metadata": {},
     "output_type": "display_data"
    }
   ],
   "source": [
    "corr_graf = corrplot.Corrplot(matriz_corr)\n",
    "corr_graf.plot(upper= 'ellipse', fontsize = 'x-large')\n",
    "fig = plt.gcf()\n",
    "fig.set_size_inches(13,8)\n",
    "fig.show()"
   ]
  },
  {
   "cell_type": "code",
   "execution_count": 70,
   "id": "e0dee27a",
   "metadata": {},
   "outputs": [
    {
     "data": {
      "text/html": [
       "<div>\n",
       "<style scoped>\n",
       "    .dataframe tbody tr th:only-of-type {\n",
       "        vertical-align: middle;\n",
       "    }\n",
       "\n",
       "    .dataframe tbody tr th {\n",
       "        vertical-align: top;\n",
       "    }\n",
       "\n",
       "    .dataframe thead th {\n",
       "        text-align: right;\n",
       "    }\n",
       "</style>\n",
       "<table border=\"1\" class=\"dataframe\">\n",
       "  <thead>\n",
       "    <tr style=\"text-align: right;\">\n",
       "      <th></th>\n",
       "      <th>Alcool</th>\n",
       "      <th>Malic_Acid</th>\n",
       "      <th>Po</th>\n",
       "      <th>Alcalinidade_po</th>\n",
       "      <th>Magnesio</th>\n",
       "      <th>Total_Fenois</th>\n",
       "      <th>Flavanoids</th>\n",
       "      <th>Fenois_nao_flavalonoides</th>\n",
       "      <th>Proanthocyanins</th>\n",
       "      <th>Intensidade_de_cor</th>\n",
       "      <th>Hue</th>\n",
       "      <th>OD280</th>\n",
       "      <th>Proline</th>\n",
       "      <th>Customer_Segment</th>\n",
       "    </tr>\n",
       "  </thead>\n",
       "  <tbody>\n",
       "    <tr>\n",
       "      <th>count</th>\n",
       "      <td>178.000000</td>\n",
       "      <td>178.000000</td>\n",
       "      <td>178.000000</td>\n",
       "      <td>178.000000</td>\n",
       "      <td>178.000000</td>\n",
       "      <td>178.000000</td>\n",
       "      <td>178.000000</td>\n",
       "      <td>178.000000</td>\n",
       "      <td>178.000000</td>\n",
       "      <td>178.000000</td>\n",
       "      <td>178.000000</td>\n",
       "      <td>178.000000</td>\n",
       "      <td>178.000000</td>\n",
       "      <td>178.000000</td>\n",
       "    </tr>\n",
       "    <tr>\n",
       "      <th>mean</th>\n",
       "      <td>13.000618</td>\n",
       "      <td>2.336348</td>\n",
       "      <td>2.366517</td>\n",
       "      <td>19.494944</td>\n",
       "      <td>99.741573</td>\n",
       "      <td>2.295112</td>\n",
       "      <td>2.029270</td>\n",
       "      <td>0.361854</td>\n",
       "      <td>1.590899</td>\n",
       "      <td>5.058090</td>\n",
       "      <td>0.957449</td>\n",
       "      <td>2.611685</td>\n",
       "      <td>746.893258</td>\n",
       "      <td>1.938202</td>\n",
       "    </tr>\n",
       "    <tr>\n",
       "      <th>std</th>\n",
       "      <td>0.811827</td>\n",
       "      <td>1.117146</td>\n",
       "      <td>0.274344</td>\n",
       "      <td>3.339564</td>\n",
       "      <td>14.282484</td>\n",
       "      <td>0.625851</td>\n",
       "      <td>0.998859</td>\n",
       "      <td>0.124453</td>\n",
       "      <td>0.572359</td>\n",
       "      <td>2.318286</td>\n",
       "      <td>0.228572</td>\n",
       "      <td>0.709990</td>\n",
       "      <td>314.907474</td>\n",
       "      <td>0.775035</td>\n",
       "    </tr>\n",
       "    <tr>\n",
       "      <th>min</th>\n",
       "      <td>11.030000</td>\n",
       "      <td>0.740000</td>\n",
       "      <td>1.360000</td>\n",
       "      <td>10.600000</td>\n",
       "      <td>70.000000</td>\n",
       "      <td>0.980000</td>\n",
       "      <td>0.340000</td>\n",
       "      <td>0.130000</td>\n",
       "      <td>0.410000</td>\n",
       "      <td>1.280000</td>\n",
       "      <td>0.480000</td>\n",
       "      <td>1.270000</td>\n",
       "      <td>278.000000</td>\n",
       "      <td>1.000000</td>\n",
       "    </tr>\n",
       "    <tr>\n",
       "      <th>25%</th>\n",
       "      <td>12.362500</td>\n",
       "      <td>1.602500</td>\n",
       "      <td>2.210000</td>\n",
       "      <td>17.200000</td>\n",
       "      <td>88.000000</td>\n",
       "      <td>1.742500</td>\n",
       "      <td>1.205000</td>\n",
       "      <td>0.270000</td>\n",
       "      <td>1.250000</td>\n",
       "      <td>3.220000</td>\n",
       "      <td>0.782500</td>\n",
       "      <td>1.937500</td>\n",
       "      <td>500.500000</td>\n",
       "      <td>1.000000</td>\n",
       "    </tr>\n",
       "    <tr>\n",
       "      <th>50%</th>\n",
       "      <td>13.050000</td>\n",
       "      <td>1.865000</td>\n",
       "      <td>2.360000</td>\n",
       "      <td>19.500000</td>\n",
       "      <td>98.000000</td>\n",
       "      <td>2.355000</td>\n",
       "      <td>2.135000</td>\n",
       "      <td>0.340000</td>\n",
       "      <td>1.555000</td>\n",
       "      <td>4.690000</td>\n",
       "      <td>0.965000</td>\n",
       "      <td>2.780000</td>\n",
       "      <td>673.500000</td>\n",
       "      <td>2.000000</td>\n",
       "    </tr>\n",
       "    <tr>\n",
       "      <th>75%</th>\n",
       "      <td>13.677500</td>\n",
       "      <td>3.082500</td>\n",
       "      <td>2.557500</td>\n",
       "      <td>21.500000</td>\n",
       "      <td>107.000000</td>\n",
       "      <td>2.800000</td>\n",
       "      <td>2.875000</td>\n",
       "      <td>0.437500</td>\n",
       "      <td>1.950000</td>\n",
       "      <td>6.200000</td>\n",
       "      <td>1.120000</td>\n",
       "      <td>3.170000</td>\n",
       "      <td>985.000000</td>\n",
       "      <td>3.000000</td>\n",
       "    </tr>\n",
       "    <tr>\n",
       "      <th>max</th>\n",
       "      <td>14.830000</td>\n",
       "      <td>5.800000</td>\n",
       "      <td>3.230000</td>\n",
       "      <td>30.000000</td>\n",
       "      <td>162.000000</td>\n",
       "      <td>3.880000</td>\n",
       "      <td>5.080000</td>\n",
       "      <td>0.660000</td>\n",
       "      <td>3.580000</td>\n",
       "      <td>13.000000</td>\n",
       "      <td>1.710000</td>\n",
       "      <td>4.000000</td>\n",
       "      <td>1680.000000</td>\n",
       "      <td>3.000000</td>\n",
       "    </tr>\n",
       "  </tbody>\n",
       "</table>\n",
       "</div>"
      ],
      "text/plain": [
       "           Alcool  Malic_Acid          Po  Alcalinidade_po    Magnesio  \\\n",
       "count  178.000000  178.000000  178.000000       178.000000  178.000000   \n",
       "mean    13.000618    2.336348    2.366517        19.494944   99.741573   \n",
       "std      0.811827    1.117146    0.274344         3.339564   14.282484   \n",
       "min     11.030000    0.740000    1.360000        10.600000   70.000000   \n",
       "25%     12.362500    1.602500    2.210000        17.200000   88.000000   \n",
       "50%     13.050000    1.865000    2.360000        19.500000   98.000000   \n",
       "75%     13.677500    3.082500    2.557500        21.500000  107.000000   \n",
       "max     14.830000    5.800000    3.230000        30.000000  162.000000   \n",
       "\n",
       "       Total_Fenois  Flavanoids  Fenois_nao_flavalonoides  Proanthocyanins  \\\n",
       "count    178.000000  178.000000                178.000000       178.000000   \n",
       "mean       2.295112    2.029270                  0.361854         1.590899   \n",
       "std        0.625851    0.998859                  0.124453         0.572359   \n",
       "min        0.980000    0.340000                  0.130000         0.410000   \n",
       "25%        1.742500    1.205000                  0.270000         1.250000   \n",
       "50%        2.355000    2.135000                  0.340000         1.555000   \n",
       "75%        2.800000    2.875000                  0.437500         1.950000   \n",
       "max        3.880000    5.080000                  0.660000         3.580000   \n",
       "\n",
       "       Intensidade_de_cor         Hue       OD280      Proline  \\\n",
       "count          178.000000  178.000000  178.000000   178.000000   \n",
       "mean             5.058090    0.957449    2.611685   746.893258   \n",
       "std              2.318286    0.228572    0.709990   314.907474   \n",
       "min              1.280000    0.480000    1.270000   278.000000   \n",
       "25%              3.220000    0.782500    1.937500   500.500000   \n",
       "50%              4.690000    0.965000    2.780000   673.500000   \n",
       "75%              6.200000    1.120000    3.170000   985.000000   \n",
       "max             13.000000    1.710000    4.000000  1680.000000   \n",
       "\n",
       "       Customer_Segment  \n",
       "count        178.000000  \n",
       "mean           1.938202  \n",
       "std            0.775035  \n",
       "min            1.000000  \n",
       "25%            1.000000  \n",
       "50%            2.000000  \n",
       "75%            3.000000  \n",
       "max            3.000000  "
      ]
     },
     "execution_count": 70,
     "metadata": {},
     "output_type": "execute_result"
    }
   ],
   "source": [
    "df.describe()"
   ]
  },
  {
   "cell_type": "code",
   "execution_count": 71,
   "id": "605064f2",
   "metadata": {},
   "outputs": [],
   "source": [
    "#colando os atributos variando na mesma faixa, ou seja, de 0 a 1 ou de -1 a 1.\n",
    "#utilizaremos o processo de normalização\n",
    "atributos = df.columns"
   ]
  },
  {
   "cell_type": "code",
   "execution_count": 72,
   "id": "4fd9cafa",
   "metadata": {},
   "outputs": [
    {
     "data": {
      "text/plain": [
       "Index(['Alcool', 'Malic_Acid', 'Po', 'Alcalinidade_po', 'Magnesio',\n",
       "       'Total_Fenois', 'Flavanoids', 'Fenois_nao_flavalonoides',\n",
       "       'Proanthocyanins', 'Intensidade_de_cor', 'Hue', 'OD280', 'Proline',\n",
       "       'Customer_Segment'],\n",
       "      dtype='object')"
      ]
     },
     "execution_count": 72,
     "metadata": {},
     "output_type": "execute_result"
    }
   ],
   "source": [
    "atributos"
   ]
  },
  {
   "cell_type": "code",
   "execution_count": 73,
   "id": "906a699f",
   "metadata": {},
   "outputs": [],
   "source": [
    "for atributo in atributos:\n",
    "    df[atributo] = (df[atributo]-min(df[atributo]))/(max(df[atributo])- min(df[atributo]))"
   ]
  },
  {
   "cell_type": "code",
   "execution_count": 74,
   "id": "56cb7f3e",
   "metadata": {},
   "outputs": [
    {
     "data": {
      "text/html": [
       "<div>\n",
       "<style scoped>\n",
       "    .dataframe tbody tr th:only-of-type {\n",
       "        vertical-align: middle;\n",
       "    }\n",
       "\n",
       "    .dataframe tbody tr th {\n",
       "        vertical-align: top;\n",
       "    }\n",
       "\n",
       "    .dataframe thead th {\n",
       "        text-align: right;\n",
       "    }\n",
       "</style>\n",
       "<table border=\"1\" class=\"dataframe\">\n",
       "  <thead>\n",
       "    <tr style=\"text-align: right;\">\n",
       "      <th></th>\n",
       "      <th>Alcool</th>\n",
       "      <th>Malic_Acid</th>\n",
       "      <th>Po</th>\n",
       "      <th>Alcalinidade_po</th>\n",
       "      <th>Magnesio</th>\n",
       "      <th>Total_Fenois</th>\n",
       "      <th>Flavanoids</th>\n",
       "      <th>Fenois_nao_flavalonoides</th>\n",
       "      <th>Proanthocyanins</th>\n",
       "      <th>Intensidade_de_cor</th>\n",
       "      <th>Hue</th>\n",
       "      <th>OD280</th>\n",
       "      <th>Proline</th>\n",
       "      <th>Customer_Segment</th>\n",
       "    </tr>\n",
       "  </thead>\n",
       "  <tbody>\n",
       "    <tr>\n",
       "      <th>0</th>\n",
       "      <td>0.842105</td>\n",
       "      <td>0.191700</td>\n",
       "      <td>0.572193</td>\n",
       "      <td>0.257732</td>\n",
       "      <td>0.619565</td>\n",
       "      <td>0.627586</td>\n",
       "      <td>0.573840</td>\n",
       "      <td>0.283019</td>\n",
       "      <td>0.593060</td>\n",
       "      <td>0.372014</td>\n",
       "      <td>0.455285</td>\n",
       "      <td>0.970696</td>\n",
       "      <td>0.561341</td>\n",
       "      <td>0.0</td>\n",
       "    </tr>\n",
       "    <tr>\n",
       "      <th>1</th>\n",
       "      <td>0.571053</td>\n",
       "      <td>0.205534</td>\n",
       "      <td>0.417112</td>\n",
       "      <td>0.030928</td>\n",
       "      <td>0.326087</td>\n",
       "      <td>0.575862</td>\n",
       "      <td>0.510549</td>\n",
       "      <td>0.245283</td>\n",
       "      <td>0.274448</td>\n",
       "      <td>0.264505</td>\n",
       "      <td>0.463415</td>\n",
       "      <td>0.780220</td>\n",
       "      <td>0.550642</td>\n",
       "      <td>0.0</td>\n",
       "    </tr>\n",
       "    <tr>\n",
       "      <th>2</th>\n",
       "      <td>0.560526</td>\n",
       "      <td>0.320158</td>\n",
       "      <td>0.700535</td>\n",
       "      <td>0.412371</td>\n",
       "      <td>0.336957</td>\n",
       "      <td>0.627586</td>\n",
       "      <td>0.611814</td>\n",
       "      <td>0.320755</td>\n",
       "      <td>0.757098</td>\n",
       "      <td>0.375427</td>\n",
       "      <td>0.447154</td>\n",
       "      <td>0.695971</td>\n",
       "      <td>0.646933</td>\n",
       "      <td>0.0</td>\n",
       "    </tr>\n",
       "    <tr>\n",
       "      <th>3</th>\n",
       "      <td>0.878947</td>\n",
       "      <td>0.239130</td>\n",
       "      <td>0.609626</td>\n",
       "      <td>0.319588</td>\n",
       "      <td>0.467391</td>\n",
       "      <td>0.989655</td>\n",
       "      <td>0.664557</td>\n",
       "      <td>0.207547</td>\n",
       "      <td>0.558360</td>\n",
       "      <td>0.556314</td>\n",
       "      <td>0.308943</td>\n",
       "      <td>0.798535</td>\n",
       "      <td>0.857347</td>\n",
       "      <td>0.0</td>\n",
       "    </tr>\n",
       "    <tr>\n",
       "      <th>4</th>\n",
       "      <td>0.581579</td>\n",
       "      <td>0.365613</td>\n",
       "      <td>0.807487</td>\n",
       "      <td>0.536082</td>\n",
       "      <td>0.521739</td>\n",
       "      <td>0.627586</td>\n",
       "      <td>0.495781</td>\n",
       "      <td>0.490566</td>\n",
       "      <td>0.444795</td>\n",
       "      <td>0.259386</td>\n",
       "      <td>0.455285</td>\n",
       "      <td>0.608059</td>\n",
       "      <td>0.325963</td>\n",
       "      <td>0.0</td>\n",
       "    </tr>\n",
       "  </tbody>\n",
       "</table>\n",
       "</div>"
      ],
      "text/plain": [
       "     Alcool  Malic_Acid        Po  Alcalinidade_po  Magnesio  Total_Fenois  \\\n",
       "0  0.842105    0.191700  0.572193         0.257732  0.619565      0.627586   \n",
       "1  0.571053    0.205534  0.417112         0.030928  0.326087      0.575862   \n",
       "2  0.560526    0.320158  0.700535         0.412371  0.336957      0.627586   \n",
       "3  0.878947    0.239130  0.609626         0.319588  0.467391      0.989655   \n",
       "4  0.581579    0.365613  0.807487         0.536082  0.521739      0.627586   \n",
       "\n",
       "   Flavanoids  Fenois_nao_flavalonoides  Proanthocyanins  Intensidade_de_cor  \\\n",
       "0    0.573840                  0.283019         0.593060            0.372014   \n",
       "1    0.510549                  0.245283         0.274448            0.264505   \n",
       "2    0.611814                  0.320755         0.757098            0.375427   \n",
       "3    0.664557                  0.207547         0.558360            0.556314   \n",
       "4    0.495781                  0.490566         0.444795            0.259386   \n",
       "\n",
       "        Hue     OD280   Proline  Customer_Segment  \n",
       "0  0.455285  0.970696  0.561341               0.0  \n",
       "1  0.463415  0.780220  0.550642               0.0  \n",
       "2  0.447154  0.695971  0.646933               0.0  \n",
       "3  0.308943  0.798535  0.857347               0.0  \n",
       "4  0.455285  0.608059  0.325963               0.0  "
      ]
     },
     "execution_count": 74,
     "metadata": {},
     "output_type": "execute_result"
    }
   ],
   "source": [
    "df.head()"
   ]
  },
  {
   "cell_type": "code",
   "execution_count": 75,
   "id": "d9636249",
   "metadata": {},
   "outputs": [
    {
     "data": {
      "text/html": [
       "<div>\n",
       "<style scoped>\n",
       "    .dataframe tbody tr th:only-of-type {\n",
       "        vertical-align: middle;\n",
       "    }\n",
       "\n",
       "    .dataframe tbody tr th {\n",
       "        vertical-align: top;\n",
       "    }\n",
       "\n",
       "    .dataframe thead th {\n",
       "        text-align: right;\n",
       "    }\n",
       "</style>\n",
       "<table border=\"1\" class=\"dataframe\">\n",
       "  <thead>\n",
       "    <tr style=\"text-align: right;\">\n",
       "      <th></th>\n",
       "      <th>Alcool</th>\n",
       "      <th>Malic_Acid</th>\n",
       "      <th>Po</th>\n",
       "      <th>Alcalinidade_po</th>\n",
       "      <th>Magnesio</th>\n",
       "      <th>Total_Fenois</th>\n",
       "      <th>Flavanoids</th>\n",
       "      <th>Fenois_nao_flavalonoides</th>\n",
       "      <th>Proanthocyanins</th>\n",
       "      <th>Intensidade_de_cor</th>\n",
       "      <th>Hue</th>\n",
       "      <th>OD280</th>\n",
       "      <th>Proline</th>\n",
       "      <th>Customer_Segment</th>\n",
       "    </tr>\n",
       "  </thead>\n",
       "  <tbody>\n",
       "    <tr>\n",
       "      <th>count</th>\n",
       "      <td>178.000000</td>\n",
       "      <td>178.000000</td>\n",
       "      <td>178.000000</td>\n",
       "      <td>178.000000</td>\n",
       "      <td>178.000000</td>\n",
       "      <td>178.000000</td>\n",
       "      <td>178.000000</td>\n",
       "      <td>178.000000</td>\n",
       "      <td>178.000000</td>\n",
       "      <td>178.000000</td>\n",
       "      <td>178.000000</td>\n",
       "      <td>178.000000</td>\n",
       "      <td>178.000000</td>\n",
       "      <td>178.000000</td>\n",
       "    </tr>\n",
       "    <tr>\n",
       "      <th>mean</th>\n",
       "      <td>0.518584</td>\n",
       "      <td>0.315484</td>\n",
       "      <td>0.538244</td>\n",
       "      <td>0.458502</td>\n",
       "      <td>0.323278</td>\n",
       "      <td>0.453487</td>\n",
       "      <td>0.356386</td>\n",
       "      <td>0.437460</td>\n",
       "      <td>0.372523</td>\n",
       "      <td>0.322363</td>\n",
       "      <td>0.388170</td>\n",
       "      <td>0.491460</td>\n",
       "      <td>0.334446</td>\n",
       "      <td>0.469101</td>\n",
       "    </tr>\n",
       "    <tr>\n",
       "      <th>std</th>\n",
       "      <td>0.213639</td>\n",
       "      <td>0.220780</td>\n",
       "      <td>0.146708</td>\n",
       "      <td>0.172142</td>\n",
       "      <td>0.155244</td>\n",
       "      <td>0.215811</td>\n",
       "      <td>0.210730</td>\n",
       "      <td>0.234818</td>\n",
       "      <td>0.180555</td>\n",
       "      <td>0.197806</td>\n",
       "      <td>0.185831</td>\n",
       "      <td>0.260070</td>\n",
       "      <td>0.224613</td>\n",
       "      <td>0.387517</td>\n",
       "    </tr>\n",
       "    <tr>\n",
       "      <th>min</th>\n",
       "      <td>0.000000</td>\n",
       "      <td>0.000000</td>\n",
       "      <td>0.000000</td>\n",
       "      <td>0.000000</td>\n",
       "      <td>0.000000</td>\n",
       "      <td>0.000000</td>\n",
       "      <td>0.000000</td>\n",
       "      <td>0.000000</td>\n",
       "      <td>0.000000</td>\n",
       "      <td>0.000000</td>\n",
       "      <td>0.000000</td>\n",
       "      <td>0.000000</td>\n",
       "      <td>0.000000</td>\n",
       "      <td>0.000000</td>\n",
       "    </tr>\n",
       "    <tr>\n",
       "      <th>25%</th>\n",
       "      <td>0.350658</td>\n",
       "      <td>0.170455</td>\n",
       "      <td>0.454545</td>\n",
       "      <td>0.340206</td>\n",
       "      <td>0.195652</td>\n",
       "      <td>0.262931</td>\n",
       "      <td>0.182489</td>\n",
       "      <td>0.264151</td>\n",
       "      <td>0.264984</td>\n",
       "      <td>0.165529</td>\n",
       "      <td>0.245935</td>\n",
       "      <td>0.244505</td>\n",
       "      <td>0.158702</td>\n",
       "      <td>0.000000</td>\n",
       "    </tr>\n",
       "    <tr>\n",
       "      <th>50%</th>\n",
       "      <td>0.531579</td>\n",
       "      <td>0.222332</td>\n",
       "      <td>0.534759</td>\n",
       "      <td>0.458763</td>\n",
       "      <td>0.304348</td>\n",
       "      <td>0.474138</td>\n",
       "      <td>0.378692</td>\n",
       "      <td>0.396226</td>\n",
       "      <td>0.361199</td>\n",
       "      <td>0.290956</td>\n",
       "      <td>0.394309</td>\n",
       "      <td>0.553114</td>\n",
       "      <td>0.282097</td>\n",
       "      <td>0.500000</td>\n",
       "    </tr>\n",
       "    <tr>\n",
       "      <th>75%</th>\n",
       "      <td>0.696711</td>\n",
       "      <td>0.462945</td>\n",
       "      <td>0.640374</td>\n",
       "      <td>0.561856</td>\n",
       "      <td>0.402174</td>\n",
       "      <td>0.627586</td>\n",
       "      <td>0.534810</td>\n",
       "      <td>0.580189</td>\n",
       "      <td>0.485804</td>\n",
       "      <td>0.419795</td>\n",
       "      <td>0.520325</td>\n",
       "      <td>0.695971</td>\n",
       "      <td>0.504280</td>\n",
       "      <td>1.000000</td>\n",
       "    </tr>\n",
       "    <tr>\n",
       "      <th>max</th>\n",
       "      <td>1.000000</td>\n",
       "      <td>1.000000</td>\n",
       "      <td>1.000000</td>\n",
       "      <td>1.000000</td>\n",
       "      <td>1.000000</td>\n",
       "      <td>1.000000</td>\n",
       "      <td>1.000000</td>\n",
       "      <td>1.000000</td>\n",
       "      <td>1.000000</td>\n",
       "      <td>1.000000</td>\n",
       "      <td>1.000000</td>\n",
       "      <td>1.000000</td>\n",
       "      <td>1.000000</td>\n",
       "      <td>1.000000</td>\n",
       "    </tr>\n",
       "  </tbody>\n",
       "</table>\n",
       "</div>"
      ],
      "text/plain": [
       "           Alcool  Malic_Acid          Po  Alcalinidade_po    Magnesio  \\\n",
       "count  178.000000  178.000000  178.000000       178.000000  178.000000   \n",
       "mean     0.518584    0.315484    0.538244         0.458502    0.323278   \n",
       "std      0.213639    0.220780    0.146708         0.172142    0.155244   \n",
       "min      0.000000    0.000000    0.000000         0.000000    0.000000   \n",
       "25%      0.350658    0.170455    0.454545         0.340206    0.195652   \n",
       "50%      0.531579    0.222332    0.534759         0.458763    0.304348   \n",
       "75%      0.696711    0.462945    0.640374         0.561856    0.402174   \n",
       "max      1.000000    1.000000    1.000000         1.000000    1.000000   \n",
       "\n",
       "       Total_Fenois  Flavanoids  Fenois_nao_flavalonoides  Proanthocyanins  \\\n",
       "count    178.000000  178.000000                178.000000       178.000000   \n",
       "mean       0.453487    0.356386                  0.437460         0.372523   \n",
       "std        0.215811    0.210730                  0.234818         0.180555   \n",
       "min        0.000000    0.000000                  0.000000         0.000000   \n",
       "25%        0.262931    0.182489                  0.264151         0.264984   \n",
       "50%        0.474138    0.378692                  0.396226         0.361199   \n",
       "75%        0.627586    0.534810                  0.580189         0.485804   \n",
       "max        1.000000    1.000000                  1.000000         1.000000   \n",
       "\n",
       "       Intensidade_de_cor         Hue       OD280     Proline  \\\n",
       "count          178.000000  178.000000  178.000000  178.000000   \n",
       "mean             0.322363    0.388170    0.491460    0.334446   \n",
       "std              0.197806    0.185831    0.260070    0.224613   \n",
       "min              0.000000    0.000000    0.000000    0.000000   \n",
       "25%              0.165529    0.245935    0.244505    0.158702   \n",
       "50%              0.290956    0.394309    0.553114    0.282097   \n",
       "75%              0.419795    0.520325    0.695971    0.504280   \n",
       "max              1.000000    1.000000    1.000000    1.000000   \n",
       "\n",
       "       Customer_Segment  \n",
       "count        178.000000  \n",
       "mean           0.469101  \n",
       "std            0.387517  \n",
       "min            0.000000  \n",
       "25%            0.000000  \n",
       "50%            0.500000  \n",
       "75%            1.000000  \n",
       "max            1.000000  "
      ]
     },
     "execution_count": 75,
     "metadata": {},
     "output_type": "execute_result"
    }
   ],
   "source": [
    "df.describe()"
   ]
  },
  {
   "cell_type": "code",
   "execution_count": 76,
   "id": "4cf2fbdb",
   "metadata": {},
   "outputs": [],
   "source": [
    "#biblioteca pronta para normalização\n",
    "from sklearn import preprocessing"
   ]
  },
  {
   "cell_type": "code",
   "execution_count": 77,
   "id": "2906b194",
   "metadata": {},
   "outputs": [],
   "source": [
    "#estanciando a funcão para utilizar a trasformação dos dados\n",
    "min_max_scaler = preprocessing.MinMaxScaler()\n",
    "np_df = min_max_scaler.fit_transform(df)"
   ]
  },
  {
   "cell_type": "code",
   "execution_count": 78,
   "id": "399d9309",
   "metadata": {
    "scrolled": true
   },
   "outputs": [],
   "source": [
    "df = pd.DataFrame(np_df, columns = colunas)"
   ]
  },
  {
   "cell_type": "code",
   "execution_count": 79,
   "id": "6365de10",
   "metadata": {},
   "outputs": [
    {
     "data": {
      "text/html": [
       "<div>\n",
       "<style scoped>\n",
       "    .dataframe tbody tr th:only-of-type {\n",
       "        vertical-align: middle;\n",
       "    }\n",
       "\n",
       "    .dataframe tbody tr th {\n",
       "        vertical-align: top;\n",
       "    }\n",
       "\n",
       "    .dataframe thead th {\n",
       "        text-align: right;\n",
       "    }\n",
       "</style>\n",
       "<table border=\"1\" class=\"dataframe\">\n",
       "  <thead>\n",
       "    <tr style=\"text-align: right;\">\n",
       "      <th></th>\n",
       "      <th>Alcool</th>\n",
       "      <th>Malic_Acid</th>\n",
       "      <th>Po</th>\n",
       "      <th>Alcalinidade_po</th>\n",
       "      <th>Magnesio</th>\n",
       "      <th>Total_Fenois</th>\n",
       "      <th>Flavanoids</th>\n",
       "      <th>Fenois_nao_flavalonoides</th>\n",
       "      <th>Proanthocyanins</th>\n",
       "      <th>Intensidade_de_cor</th>\n",
       "      <th>Hue</th>\n",
       "      <th>OD280</th>\n",
       "      <th>Proline</th>\n",
       "      <th>Customer_Segment</th>\n",
       "    </tr>\n",
       "  </thead>\n",
       "  <tbody>\n",
       "    <tr>\n",
       "      <th>count</th>\n",
       "      <td>178.000000</td>\n",
       "      <td>178.000000</td>\n",
       "      <td>178.000000</td>\n",
       "      <td>178.000000</td>\n",
       "      <td>178.000000</td>\n",
       "      <td>178.000000</td>\n",
       "      <td>178.000000</td>\n",
       "      <td>178.000000</td>\n",
       "      <td>178.000000</td>\n",
       "      <td>178.000000</td>\n",
       "      <td>178.000000</td>\n",
       "      <td>178.000000</td>\n",
       "      <td>178.000000</td>\n",
       "      <td>178.000000</td>\n",
       "    </tr>\n",
       "    <tr>\n",
       "      <th>mean</th>\n",
       "      <td>0.518584</td>\n",
       "      <td>0.315484</td>\n",
       "      <td>0.538244</td>\n",
       "      <td>0.458502</td>\n",
       "      <td>0.323278</td>\n",
       "      <td>0.453487</td>\n",
       "      <td>0.356386</td>\n",
       "      <td>0.437460</td>\n",
       "      <td>0.372523</td>\n",
       "      <td>0.322363</td>\n",
       "      <td>0.388170</td>\n",
       "      <td>0.491460</td>\n",
       "      <td>0.334446</td>\n",
       "      <td>0.469101</td>\n",
       "    </tr>\n",
       "    <tr>\n",
       "      <th>std</th>\n",
       "      <td>0.213639</td>\n",
       "      <td>0.220780</td>\n",
       "      <td>0.146708</td>\n",
       "      <td>0.172142</td>\n",
       "      <td>0.155244</td>\n",
       "      <td>0.215811</td>\n",
       "      <td>0.210730</td>\n",
       "      <td>0.234818</td>\n",
       "      <td>0.180555</td>\n",
       "      <td>0.197806</td>\n",
       "      <td>0.185831</td>\n",
       "      <td>0.260070</td>\n",
       "      <td>0.224613</td>\n",
       "      <td>0.387517</td>\n",
       "    </tr>\n",
       "    <tr>\n",
       "      <th>min</th>\n",
       "      <td>0.000000</td>\n",
       "      <td>0.000000</td>\n",
       "      <td>0.000000</td>\n",
       "      <td>0.000000</td>\n",
       "      <td>0.000000</td>\n",
       "      <td>0.000000</td>\n",
       "      <td>0.000000</td>\n",
       "      <td>0.000000</td>\n",
       "      <td>0.000000</td>\n",
       "      <td>0.000000</td>\n",
       "      <td>0.000000</td>\n",
       "      <td>0.000000</td>\n",
       "      <td>0.000000</td>\n",
       "      <td>0.000000</td>\n",
       "    </tr>\n",
       "    <tr>\n",
       "      <th>25%</th>\n",
       "      <td>0.350658</td>\n",
       "      <td>0.170455</td>\n",
       "      <td>0.454545</td>\n",
       "      <td>0.340206</td>\n",
       "      <td>0.195652</td>\n",
       "      <td>0.262931</td>\n",
       "      <td>0.182489</td>\n",
       "      <td>0.264151</td>\n",
       "      <td>0.264984</td>\n",
       "      <td>0.165529</td>\n",
       "      <td>0.245935</td>\n",
       "      <td>0.244505</td>\n",
       "      <td>0.158702</td>\n",
       "      <td>0.000000</td>\n",
       "    </tr>\n",
       "    <tr>\n",
       "      <th>50%</th>\n",
       "      <td>0.531579</td>\n",
       "      <td>0.222332</td>\n",
       "      <td>0.534759</td>\n",
       "      <td>0.458763</td>\n",
       "      <td>0.304348</td>\n",
       "      <td>0.474138</td>\n",
       "      <td>0.378692</td>\n",
       "      <td>0.396226</td>\n",
       "      <td>0.361199</td>\n",
       "      <td>0.290956</td>\n",
       "      <td>0.394309</td>\n",
       "      <td>0.553114</td>\n",
       "      <td>0.282097</td>\n",
       "      <td>0.500000</td>\n",
       "    </tr>\n",
       "    <tr>\n",
       "      <th>75%</th>\n",
       "      <td>0.696711</td>\n",
       "      <td>0.462945</td>\n",
       "      <td>0.640374</td>\n",
       "      <td>0.561856</td>\n",
       "      <td>0.402174</td>\n",
       "      <td>0.627586</td>\n",
       "      <td>0.534810</td>\n",
       "      <td>0.580189</td>\n",
       "      <td>0.485804</td>\n",
       "      <td>0.419795</td>\n",
       "      <td>0.520325</td>\n",
       "      <td>0.695971</td>\n",
       "      <td>0.504280</td>\n",
       "      <td>1.000000</td>\n",
       "    </tr>\n",
       "    <tr>\n",
       "      <th>max</th>\n",
       "      <td>1.000000</td>\n",
       "      <td>1.000000</td>\n",
       "      <td>1.000000</td>\n",
       "      <td>1.000000</td>\n",
       "      <td>1.000000</td>\n",
       "      <td>1.000000</td>\n",
       "      <td>1.000000</td>\n",
       "      <td>1.000000</td>\n",
       "      <td>1.000000</td>\n",
       "      <td>1.000000</td>\n",
       "      <td>1.000000</td>\n",
       "      <td>1.000000</td>\n",
       "      <td>1.000000</td>\n",
       "      <td>1.000000</td>\n",
       "    </tr>\n",
       "  </tbody>\n",
       "</table>\n",
       "</div>"
      ],
      "text/plain": [
       "           Alcool  Malic_Acid          Po  Alcalinidade_po    Magnesio  \\\n",
       "count  178.000000  178.000000  178.000000       178.000000  178.000000   \n",
       "mean     0.518584    0.315484    0.538244         0.458502    0.323278   \n",
       "std      0.213639    0.220780    0.146708         0.172142    0.155244   \n",
       "min      0.000000    0.000000    0.000000         0.000000    0.000000   \n",
       "25%      0.350658    0.170455    0.454545         0.340206    0.195652   \n",
       "50%      0.531579    0.222332    0.534759         0.458763    0.304348   \n",
       "75%      0.696711    0.462945    0.640374         0.561856    0.402174   \n",
       "max      1.000000    1.000000    1.000000         1.000000    1.000000   \n",
       "\n",
       "       Total_Fenois  Flavanoids  Fenois_nao_flavalonoides  Proanthocyanins  \\\n",
       "count    178.000000  178.000000                178.000000       178.000000   \n",
       "mean       0.453487    0.356386                  0.437460         0.372523   \n",
       "std        0.215811    0.210730                  0.234818         0.180555   \n",
       "min        0.000000    0.000000                  0.000000         0.000000   \n",
       "25%        0.262931    0.182489                  0.264151         0.264984   \n",
       "50%        0.474138    0.378692                  0.396226         0.361199   \n",
       "75%        0.627586    0.534810                  0.580189         0.485804   \n",
       "max        1.000000    1.000000                  1.000000         1.000000   \n",
       "\n",
       "       Intensidade_de_cor         Hue       OD280     Proline  \\\n",
       "count          178.000000  178.000000  178.000000  178.000000   \n",
       "mean             0.322363    0.388170    0.491460    0.334446   \n",
       "std              0.197806    0.185831    0.260070    0.224613   \n",
       "min              0.000000    0.000000    0.000000    0.000000   \n",
       "25%              0.165529    0.245935    0.244505    0.158702   \n",
       "50%              0.290956    0.394309    0.553114    0.282097   \n",
       "75%              0.419795    0.520325    0.695971    0.504280   \n",
       "max              1.000000    1.000000    1.000000    1.000000   \n",
       "\n",
       "       Customer_Segment  \n",
       "count        178.000000  \n",
       "mean           0.469101  \n",
       "std            0.387517  \n",
       "min            0.000000  \n",
       "25%            0.000000  \n",
       "50%            0.500000  \n",
       "75%            1.000000  \n",
       "max            1.000000  "
      ]
     },
     "execution_count": 79,
     "metadata": {},
     "output_type": "execute_result"
    }
   ],
   "source": [
    "df.describe()"
   ]
  },
  {
   "cell_type": "code",
   "execution_count": 80,
   "id": "b2dddc93",
   "metadata": {},
   "outputs": [],
   "source": [
    "np_df = min_max_scaler.inverse_transform(df)"
   ]
  },
  {
   "cell_type": "code",
   "execution_count": 81,
   "id": "96cbc364",
   "metadata": {},
   "outputs": [
    {
     "data": {
      "text/html": [
       "<div>\n",
       "<style scoped>\n",
       "    .dataframe tbody tr th:only-of-type {\n",
       "        vertical-align: middle;\n",
       "    }\n",
       "\n",
       "    .dataframe tbody tr th {\n",
       "        vertical-align: top;\n",
       "    }\n",
       "\n",
       "    .dataframe thead th {\n",
       "        text-align: right;\n",
       "    }\n",
       "</style>\n",
       "<table border=\"1\" class=\"dataframe\">\n",
       "  <thead>\n",
       "    <tr style=\"text-align: right;\">\n",
       "      <th></th>\n",
       "      <th>Alcool</th>\n",
       "      <th>Malic_Acid</th>\n",
       "      <th>Po</th>\n",
       "      <th>Alcalinidade_po</th>\n",
       "      <th>Magnesio</th>\n",
       "      <th>Total_Fenois</th>\n",
       "      <th>Flavanoids</th>\n",
       "      <th>Fenois_nao_flavalonoides</th>\n",
       "      <th>Proanthocyanins</th>\n",
       "      <th>Intensidade_de_cor</th>\n",
       "      <th>Hue</th>\n",
       "      <th>OD280</th>\n",
       "      <th>Proline</th>\n",
       "      <th>Customer_Segment</th>\n",
       "    </tr>\n",
       "  </thead>\n",
       "  <tbody>\n",
       "    <tr>\n",
       "      <th>count</th>\n",
       "      <td>178.000000</td>\n",
       "      <td>178.000000</td>\n",
       "      <td>178.000000</td>\n",
       "      <td>178.000000</td>\n",
       "      <td>178.000000</td>\n",
       "      <td>178.000000</td>\n",
       "      <td>178.000000</td>\n",
       "      <td>178.000000</td>\n",
       "      <td>178.000000</td>\n",
       "      <td>178.000000</td>\n",
       "      <td>178.000000</td>\n",
       "      <td>178.000000</td>\n",
       "      <td>178.000000</td>\n",
       "      <td>178.000000</td>\n",
       "    </tr>\n",
       "    <tr>\n",
       "      <th>mean</th>\n",
       "      <td>0.518584</td>\n",
       "      <td>0.315484</td>\n",
       "      <td>0.538244</td>\n",
       "      <td>0.458502</td>\n",
       "      <td>0.323278</td>\n",
       "      <td>0.453487</td>\n",
       "      <td>0.356386</td>\n",
       "      <td>0.437460</td>\n",
       "      <td>0.372523</td>\n",
       "      <td>0.322363</td>\n",
       "      <td>0.388170</td>\n",
       "      <td>0.491460</td>\n",
       "      <td>0.334446</td>\n",
       "      <td>0.469101</td>\n",
       "    </tr>\n",
       "    <tr>\n",
       "      <th>std</th>\n",
       "      <td>0.213639</td>\n",
       "      <td>0.220780</td>\n",
       "      <td>0.146708</td>\n",
       "      <td>0.172142</td>\n",
       "      <td>0.155244</td>\n",
       "      <td>0.215811</td>\n",
       "      <td>0.210730</td>\n",
       "      <td>0.234818</td>\n",
       "      <td>0.180555</td>\n",
       "      <td>0.197806</td>\n",
       "      <td>0.185831</td>\n",
       "      <td>0.260070</td>\n",
       "      <td>0.224613</td>\n",
       "      <td>0.387517</td>\n",
       "    </tr>\n",
       "    <tr>\n",
       "      <th>min</th>\n",
       "      <td>0.000000</td>\n",
       "      <td>0.000000</td>\n",
       "      <td>0.000000</td>\n",
       "      <td>0.000000</td>\n",
       "      <td>0.000000</td>\n",
       "      <td>0.000000</td>\n",
       "      <td>0.000000</td>\n",
       "      <td>0.000000</td>\n",
       "      <td>0.000000</td>\n",
       "      <td>0.000000</td>\n",
       "      <td>0.000000</td>\n",
       "      <td>0.000000</td>\n",
       "      <td>0.000000</td>\n",
       "      <td>0.000000</td>\n",
       "    </tr>\n",
       "    <tr>\n",
       "      <th>25%</th>\n",
       "      <td>0.350658</td>\n",
       "      <td>0.170455</td>\n",
       "      <td>0.454545</td>\n",
       "      <td>0.340206</td>\n",
       "      <td>0.195652</td>\n",
       "      <td>0.262931</td>\n",
       "      <td>0.182489</td>\n",
       "      <td>0.264151</td>\n",
       "      <td>0.264984</td>\n",
       "      <td>0.165529</td>\n",
       "      <td>0.245935</td>\n",
       "      <td>0.244505</td>\n",
       "      <td>0.158702</td>\n",
       "      <td>0.000000</td>\n",
       "    </tr>\n",
       "    <tr>\n",
       "      <th>50%</th>\n",
       "      <td>0.531579</td>\n",
       "      <td>0.222332</td>\n",
       "      <td>0.534759</td>\n",
       "      <td>0.458763</td>\n",
       "      <td>0.304348</td>\n",
       "      <td>0.474138</td>\n",
       "      <td>0.378692</td>\n",
       "      <td>0.396226</td>\n",
       "      <td>0.361199</td>\n",
       "      <td>0.290956</td>\n",
       "      <td>0.394309</td>\n",
       "      <td>0.553114</td>\n",
       "      <td>0.282097</td>\n",
       "      <td>0.500000</td>\n",
       "    </tr>\n",
       "    <tr>\n",
       "      <th>75%</th>\n",
       "      <td>0.696711</td>\n",
       "      <td>0.462945</td>\n",
       "      <td>0.640374</td>\n",
       "      <td>0.561856</td>\n",
       "      <td>0.402174</td>\n",
       "      <td>0.627586</td>\n",
       "      <td>0.534810</td>\n",
       "      <td>0.580189</td>\n",
       "      <td>0.485804</td>\n",
       "      <td>0.419795</td>\n",
       "      <td>0.520325</td>\n",
       "      <td>0.695971</td>\n",
       "      <td>0.504280</td>\n",
       "      <td>1.000000</td>\n",
       "    </tr>\n",
       "    <tr>\n",
       "      <th>max</th>\n",
       "      <td>1.000000</td>\n",
       "      <td>1.000000</td>\n",
       "      <td>1.000000</td>\n",
       "      <td>1.000000</td>\n",
       "      <td>1.000000</td>\n",
       "      <td>1.000000</td>\n",
       "      <td>1.000000</td>\n",
       "      <td>1.000000</td>\n",
       "      <td>1.000000</td>\n",
       "      <td>1.000000</td>\n",
       "      <td>1.000000</td>\n",
       "      <td>1.000000</td>\n",
       "      <td>1.000000</td>\n",
       "      <td>1.000000</td>\n",
       "    </tr>\n",
       "  </tbody>\n",
       "</table>\n",
       "</div>"
      ],
      "text/plain": [
       "           Alcool  Malic_Acid          Po  Alcalinidade_po    Magnesio  \\\n",
       "count  178.000000  178.000000  178.000000       178.000000  178.000000   \n",
       "mean     0.518584    0.315484    0.538244         0.458502    0.323278   \n",
       "std      0.213639    0.220780    0.146708         0.172142    0.155244   \n",
       "min      0.000000    0.000000    0.000000         0.000000    0.000000   \n",
       "25%      0.350658    0.170455    0.454545         0.340206    0.195652   \n",
       "50%      0.531579    0.222332    0.534759         0.458763    0.304348   \n",
       "75%      0.696711    0.462945    0.640374         0.561856    0.402174   \n",
       "max      1.000000    1.000000    1.000000         1.000000    1.000000   \n",
       "\n",
       "       Total_Fenois  Flavanoids  Fenois_nao_flavalonoides  Proanthocyanins  \\\n",
       "count    178.000000  178.000000                178.000000       178.000000   \n",
       "mean       0.453487    0.356386                  0.437460         0.372523   \n",
       "std        0.215811    0.210730                  0.234818         0.180555   \n",
       "min        0.000000    0.000000                  0.000000         0.000000   \n",
       "25%        0.262931    0.182489                  0.264151         0.264984   \n",
       "50%        0.474138    0.378692                  0.396226         0.361199   \n",
       "75%        0.627586    0.534810                  0.580189         0.485804   \n",
       "max        1.000000    1.000000                  1.000000         1.000000   \n",
       "\n",
       "       Intensidade_de_cor         Hue       OD280     Proline  \\\n",
       "count          178.000000  178.000000  178.000000  178.000000   \n",
       "mean             0.322363    0.388170    0.491460    0.334446   \n",
       "std              0.197806    0.185831    0.260070    0.224613   \n",
       "min              0.000000    0.000000    0.000000    0.000000   \n",
       "25%              0.165529    0.245935    0.244505    0.158702   \n",
       "50%              0.290956    0.394309    0.553114    0.282097   \n",
       "75%              0.419795    0.520325    0.695971    0.504280   \n",
       "max              1.000000    1.000000    1.000000    1.000000   \n",
       "\n",
       "       Customer_Segment  \n",
       "count        178.000000  \n",
       "mean           0.469101  \n",
       "std            0.387517  \n",
       "min            0.000000  \n",
       "25%            0.000000  \n",
       "50%            0.500000  \n",
       "75%            1.000000  \n",
       "max            1.000000  "
      ]
     },
     "execution_count": 81,
     "metadata": {},
     "output_type": "execute_result"
    }
   ],
   "source": [
    "df_nao_normalizado = pd.DataFrame(np_df, columns = colunas)\n",
    "df_nao_normalizado.describe()"
   ]
  },
  {
   "cell_type": "code",
   "execution_count": 82,
   "id": "e08d3da5",
   "metadata": {},
   "outputs": [],
   "source": [
    "#cluterização dos dados com kmeans\n",
    "from sklearn.cluster import KMeans"
   ]
  },
  {
   "cell_type": "code",
   "execution_count": 83,
   "id": "a79fc68c",
   "metadata": {},
   "outputs": [],
   "source": [
    "#agrupando os dados, intanciar o cluster\n",
    "agrupador = KMeans(n_clusters = 4)\n"
   ]
  },
  {
   "cell_type": "code",
   "execution_count": 84,
   "id": "e9732f37",
   "metadata": {},
   "outputs": [
    {
     "name": "stderr",
     "output_type": "stream",
     "text": [
      "C:\\Users\\Renato\\anaconda3\\lib\\site-packages\\sklearn\\cluster\\_kmeans.py:1332: UserWarning:\n",
      "\n",
      "KMeans is known to have a memory leak on Windows with MKL, when there are less chunks than available threads. You can avoid it by setting the environment variable OMP_NUM_THREADS=1.\n",
      "\n"
     ]
    },
    {
     "data": {
      "text/html": [
       "<style>#sk-container-id-3 {color: black;background-color: white;}#sk-container-id-3 pre{padding: 0;}#sk-container-id-3 div.sk-toggleable {background-color: white;}#sk-container-id-3 label.sk-toggleable__label {cursor: pointer;display: block;width: 100%;margin-bottom: 0;padding: 0.3em;box-sizing: border-box;text-align: center;}#sk-container-id-3 label.sk-toggleable__label-arrow:before {content: \"▸\";float: left;margin-right: 0.25em;color: #696969;}#sk-container-id-3 label.sk-toggleable__label-arrow:hover:before {color: black;}#sk-container-id-3 div.sk-estimator:hover label.sk-toggleable__label-arrow:before {color: black;}#sk-container-id-3 div.sk-toggleable__content {max-height: 0;max-width: 0;overflow: hidden;text-align: left;background-color: #f0f8ff;}#sk-container-id-3 div.sk-toggleable__content pre {margin: 0.2em;color: black;border-radius: 0.25em;background-color: #f0f8ff;}#sk-container-id-3 input.sk-toggleable__control:checked~div.sk-toggleable__content {max-height: 200px;max-width: 100%;overflow: auto;}#sk-container-id-3 input.sk-toggleable__control:checked~label.sk-toggleable__label-arrow:before {content: \"▾\";}#sk-container-id-3 div.sk-estimator input.sk-toggleable__control:checked~label.sk-toggleable__label {background-color: #d4ebff;}#sk-container-id-3 div.sk-label input.sk-toggleable__control:checked~label.sk-toggleable__label {background-color: #d4ebff;}#sk-container-id-3 input.sk-hidden--visually {border: 0;clip: rect(1px 1px 1px 1px);clip: rect(1px, 1px, 1px, 1px);height: 1px;margin: -1px;overflow: hidden;padding: 0;position: absolute;width: 1px;}#sk-container-id-3 div.sk-estimator {font-family: monospace;background-color: #f0f8ff;border: 1px dotted black;border-radius: 0.25em;box-sizing: border-box;margin-bottom: 0.5em;}#sk-container-id-3 div.sk-estimator:hover {background-color: #d4ebff;}#sk-container-id-3 div.sk-parallel-item::after {content: \"\";width: 100%;border-bottom: 1px solid gray;flex-grow: 1;}#sk-container-id-3 div.sk-label:hover label.sk-toggleable__label {background-color: #d4ebff;}#sk-container-id-3 div.sk-serial::before {content: \"\";position: absolute;border-left: 1px solid gray;box-sizing: border-box;top: 0;bottom: 0;left: 50%;z-index: 0;}#sk-container-id-3 div.sk-serial {display: flex;flex-direction: column;align-items: center;background-color: white;padding-right: 0.2em;padding-left: 0.2em;position: relative;}#sk-container-id-3 div.sk-item {position: relative;z-index: 1;}#sk-container-id-3 div.sk-parallel {display: flex;align-items: stretch;justify-content: center;background-color: white;position: relative;}#sk-container-id-3 div.sk-item::before, #sk-container-id-3 div.sk-parallel-item::before {content: \"\";position: absolute;border-left: 1px solid gray;box-sizing: border-box;top: 0;bottom: 0;left: 50%;z-index: -1;}#sk-container-id-3 div.sk-parallel-item {display: flex;flex-direction: column;z-index: 1;position: relative;background-color: white;}#sk-container-id-3 div.sk-parallel-item:first-child::after {align-self: flex-end;width: 50%;}#sk-container-id-3 div.sk-parallel-item:last-child::after {align-self: flex-start;width: 50%;}#sk-container-id-3 div.sk-parallel-item:only-child::after {width: 0;}#sk-container-id-3 div.sk-dashed-wrapped {border: 1px dashed gray;margin: 0 0.4em 0.5em 0.4em;box-sizing: border-box;padding-bottom: 0.4em;background-color: white;}#sk-container-id-3 div.sk-label label {font-family: monospace;font-weight: bold;display: inline-block;line-height: 1.2em;}#sk-container-id-3 div.sk-label-container {text-align: center;}#sk-container-id-3 div.sk-container {/* jupyter's `normalize.less` sets `[hidden] { display: none; }` but bootstrap.min.css set `[hidden] { display: none !important; }` so we also need the `!important` here to be able to override the default hidden behavior on the sphinx rendered scikit-learn.org. See: https://github.com/scikit-learn/scikit-learn/issues/21755 */display: inline-block !important;position: relative;}#sk-container-id-3 div.sk-text-repr-fallback {display: none;}</style><div id=\"sk-container-id-3\" class=\"sk-top-container\"><div class=\"sk-text-repr-fallback\"><pre>KMeans(n_clusters=4)</pre><b>In a Jupyter environment, please rerun this cell to show the HTML representation or trust the notebook. <br />On GitHub, the HTML representation is unable to render, please try loading this page with nbviewer.org.</b></div><div class=\"sk-container\" hidden><div class=\"sk-item\"><div class=\"sk-estimator sk-toggleable\"><input class=\"sk-toggleable__control sk-hidden--visually\" id=\"sk-estimator-id-3\" type=\"checkbox\" checked><label for=\"sk-estimator-id-3\" class=\"sk-toggleable__label sk-toggleable__label-arrow\">KMeans</label><div class=\"sk-toggleable__content\"><pre>KMeans(n_clusters=4)</pre></div></div></div></div></div>"
      ],
      "text/plain": [
       "KMeans(n_clusters=4)"
      ]
     },
     "execution_count": 84,
     "metadata": {},
     "output_type": "execute_result"
    }
   ],
   "source": [
    "agrupador.fit(df)"
   ]
  },
  {
   "cell_type": "code",
   "execution_count": 85,
   "id": "959b2bb1",
   "metadata": {},
   "outputs": [
    {
     "name": "stdout",
     "output_type": "stream",
     "text": [
      "[1 1 1 1 1 1 1 1 1 1 1 1 1 1 1 1 1 1 1 1 1 1 1 1 1 1 1 1 1 1 1 1 1 1 1 1 1\n",
      " 1 1 1 1 1 1 1 1 1 1 1 1 1 1 1 1 1 1 1 1 1 1 0 0 0 0 2 0 2 2 2 0 2 0 2 2 2\n",
      " 2 0 2 0 2 2 2 2 0 0 2 2 0 2 0 2 0 0 0 2 2 2 2 2 2 2 2 0 2 2 2 0 2 0 2 2 2\n",
      " 2 0 0 2 2 2 2 0 2 2 2 2 2 2 2 2 0 2 0 3 3 3 3 3 3 3 3 3 3 3 3 3 3 3 3 3 3\n",
      " 3 3 3 3 3 3 3 3 3 3 3 3 3 3 3 3 3 3 3 3 3 3 3 3 3 3 3 3 3 3]\n"
     ]
    }
   ],
   "source": [
    "labels = agrupador.labels_\n",
    "print(labels)"
   ]
  },
  {
   "cell_type": "code",
   "execution_count": 86,
   "id": "f0f0c799",
   "metadata": {},
   "outputs": [
    {
     "name": "stderr",
     "output_type": "stream",
     "text": [
      "C:\\Users\\Renato\\AppData\\Local\\Temp/ipykernel_9608/3937604883.py:4: DeprecationWarning:\n",
      "\n",
      "`np.float` is a deprecated alias for the builtin `float`. To silence this warning, use `float` by itself. Doing this will not modify any behavior and is safe. If you specifically wanted the numpy scalar type, use `np.float64` here.\n",
      "Deprecated in NumPy 1.20; for more details and guidance: https://numpy.org/devdocs/release/1.20.0-notes.html#deprecations\n",
      "\n"
     ]
    },
    {
     "data": {
      "application/vnd.plotly.v1+json": {
       "config": {
        "plotlyServerURL": "https://plot.ly"
       },
       "data": [
        {
         "marker": {
          "color": [
           1,
           1,
           1,
           1,
           1,
           1,
           1,
           1,
           1,
           1,
           1,
           1,
           1,
           1,
           1,
           1,
           1,
           1,
           1,
           1,
           1,
           1,
           1,
           1,
           1,
           1,
           1,
           1,
           1,
           1,
           1,
           1,
           1,
           1,
           1,
           1,
           1,
           1,
           1,
           1,
           1,
           1,
           1,
           1,
           1,
           1,
           1,
           1,
           1,
           1,
           1,
           1,
           1,
           1,
           1,
           1,
           1,
           1,
           1,
           0,
           0,
           0,
           0,
           2,
           0,
           2,
           2,
           2,
           0,
           2,
           0,
           2,
           2,
           2,
           2,
           0,
           2,
           0,
           2,
           2,
           2,
           2,
           0,
           0,
           2,
           2,
           0,
           2,
           0,
           2,
           0,
           0,
           0,
           2,
           2,
           2,
           2,
           2,
           2,
           2,
           2,
           0,
           2,
           2,
           2,
           0,
           2,
           0,
           2,
           2,
           2,
           2,
           0,
           0,
           2,
           2,
           2,
           2,
           0,
           2,
           2,
           2,
           2,
           2,
           2,
           2,
           2,
           0,
           2,
           0,
           3,
           3,
           3,
           3,
           3,
           3,
           3,
           3,
           3,
           3,
           3,
           3,
           3,
           3,
           3,
           3,
           3,
           3,
           3,
           3,
           3,
           3,
           3,
           3,
           3,
           3,
           3,
           3,
           3,
           3,
           3,
           3,
           3,
           3,
           3,
           3,
           3,
           3,
           3,
           3,
           3,
           3,
           3,
           3,
           3,
           3,
           3,
           3
          ]
         },
         "mode": "markers",
         "text": [
          1,
          1,
          1,
          1,
          1,
          1,
          1,
          1,
          1,
          1,
          1,
          1,
          1,
          1,
          1,
          1,
          1,
          1,
          1,
          1,
          1,
          1,
          1,
          1,
          1,
          1,
          1,
          1,
          1,
          1,
          1,
          1,
          1,
          1,
          1,
          1,
          1,
          1,
          1,
          1,
          1,
          1,
          1,
          1,
          1,
          1,
          1,
          1,
          1,
          1,
          1,
          1,
          1,
          1,
          1,
          1,
          1,
          1,
          1,
          0,
          0,
          0,
          0,
          2,
          0,
          2,
          2,
          2,
          0,
          2,
          0,
          2,
          2,
          2,
          2,
          0,
          2,
          0,
          2,
          2,
          2,
          2,
          0,
          0,
          2,
          2,
          0,
          2,
          0,
          2,
          0,
          0,
          0,
          2,
          2,
          2,
          2,
          2,
          2,
          2,
          2,
          0,
          2,
          2,
          2,
          0,
          2,
          0,
          2,
          2,
          2,
          2,
          0,
          0,
          2,
          2,
          2,
          2,
          0,
          2,
          2,
          2,
          2,
          2,
          2,
          2,
          2,
          0,
          2,
          0,
          3,
          3,
          3,
          3,
          3,
          3,
          3,
          3,
          3,
          3,
          3,
          3,
          3,
          3,
          3,
          3,
          3,
          3,
          3,
          3,
          3,
          3,
          3,
          3,
          3,
          3,
          3,
          3,
          3,
          3,
          3,
          3,
          3,
          3,
          3,
          3,
          3,
          3,
          3,
          3,
          3,
          3,
          3,
          3,
          3,
          3,
          3,
          3
         ],
         "type": "scatter",
         "x": [
          0.37201365187713303,
          0.26450511945392485,
          0.3754266211604095,
          0.5563139931740614,
          0.2593856655290102,
          0.46672354948805456,
          0.3387372013651877,
          0.3216723549488054,
          0.33447098976109213,
          0.5068259385665528,
          0.3813993174061433,
          0.31740614334470985,
          0.3686006825938566,
          0.3515358361774744,
          0.530716723549488,
          0.5136518771331058,
          0.4197952218430034,
          0.45392491467576784,
          0.6331058020477814,
          0.32593856655290093,
          0.3728668941979522,
          0.27474402730375425,
          0.21501706484641633,
          0.22610921501706485,
          0.19112627986348124,
          0.19624573378839588,
          0.3003412969283276,
          0.22781569965870305,
          0.27474402730375425,
          0.2918088737201365,
          0.37713310580204773,
          0.47952218430034127,
          0.21843003412969278,
          0.3515358361774744,
          0.24914675767918087,
          0.32593856655290093,
          0.28327645051194533,
          0.2534129692832764,
          0.20648464163822525,
          0.32593856655290093,
          0.41382252559726956,
          0.25597269624573377,
          0.3540955631399317,
          0.26279863481228666,
          0.3208191126279863,
          0.3378839590443686,
          0.30887372013651876,
          0.4112627986348122,
          0.4197952218430034,
          0.6501706484641638,
          0.5051194539249146,
          0.3686006825938566,
          0.4923208191126279,
          0.42832764505119447,
          0.3899317406143344,
          0.42406143344709896,
          0.43515358361774736,
          0.4027303754266211,
          0.4709897610921501,
          0.057167235494880536,
          0.1697952218430034,
          0.3813993174061433,
          0.21501706484641633,
          0.2704778156996587,
          0.14249146757679182,
          0.28327645051194533,
          0.3430034129692832,
          0.2901023890784982,
          0.16126279863481227,
          0.13395904436860068,
          0.1510238907849829,
          0.17918088737201363,
          0.2098976109215017,
          0.17662116040955633,
          0.16467576791808872,
          0.21501706484641633,
          0.28327645051194533,
          0.11689419795221842,
          0.18088737201365188,
          0.1100682593856655,
          0.10409556313993173,
          0.2235494880546075,
          0.07849829351535836,
          0.3003412969283276,
          0.1510238907849829,
          0.11433447098976109,
          0.09982935153583619,
          0.11262798634812286,
          0.1296928327645051,
          0.039249146757679175,
          0.09556313993174059,
          0.19795221843003413,
          0.1510238907849829,
          0.07423208191126278,
          0.16808873720136516,
          0.11262798634812286,
          0.10409556313993173,
          0.13822525597269622,
          0.27474402730375425,
          0.08703071672354946,
          0.1723549488054607,
          0.09982935153583619,
          0.1296928327645051,
          0.06655290102389079,
          0.1416382252559727,
          0.121160409556314,
          0.18088737201365188,
          0.1723549488054607,
          0.121160409556314,
          0.11689419795221842,
          0.13822525597269622,
          0.0614334470989761,
          0.21501706484641633,
          0.15358361774744028,
          0.13822525597269622,
          0.05290102389078497,
          0.057167235494880536,
          0.06655290102389079,
          0.18088737201365188,
          0,
          0.16808873720136516,
          0.4027303754266211,
          0.06825938566552901,
          0.11262798634812286,
          0.1296928327645051,
          0.12627986348122863,
          0.22696245733788395,
          0.14675767918088736,
          0.07167235494880546,
          0.11262798634812286,
          0.2406143344709897,
          0.3515358361774744,
          0.37713310580204773,
          0.31740614334470985,
          0.35580204778156993,
          0.49658703071672344,
          0.21928327645051196,
          0.31740614334470985,
          0.37713310580204773,
          0.31058020477815695,
          0.28327645051194533,
          0.3686006825938566,
          0.26194539249146753,
          0.26621160409556316,
          0.591296928327645,
          0.2320819112627986,
          0.30887372013651876,
          0.5435153583617747,
          0.6092150170648464,
          0.6928327645051195,
          0.6245733788395904,
          0.8122866894197953,
          0.49658703071672344,
          0.78839590443686,
          0.5392491467576791,
          0.5648464163822525,
          0.6595563139931739,
          0.530716723549488,
          1,
          0.893344709897611,
          0.5435153583617747,
          0.39249146757679176,
          0.3668941979522184,
          0.341296928327645,
          0.7081911262798635,
          0.4556313993174061,
          0.8020477815699658,
          0.7662116040955631,
          0.629692832764505,
          0.6160409556313993,
          0.3600682593856655,
          0.7354947952218429,
          0.7184300341296928,
          0.5477815699658702,
          0.5136518771331058,
          0.7610921501706485,
          0.6843003412969284,
          0.675767918088737
         ],
         "y": [
          0.8421052631578949,
          0.5710526315789473,
          0.5605263157894738,
          0.8789473684210525,
          0.5815789473684212,
          0.8342105263157893,
          0.8842105263157897,
          0.7973684210526317,
          1,
          0.744736842105263,
          0.8078947368421052,
          0.813157894736842,
          0.7157894736842105,
          0.9789473684210526,
          0.8815789473684212,
          0.6842105263157897,
          0.8605263157894739,
          0.736842105263158,
          0.831578947368421,
          0.686842105263158,
          0.7973684210526317,
          0.5,
          0.7052631578947371,
          0.4789473684210526,
          0.65,
          0.5315789473684213,
          0.6210526315789475,
          0.5973684210526318,
          0.7473684210526313,
          0.7868421052631578,
          0.7105263157894738,
          0.6710526315789475,
          0.6973684210526315,
          0.718421052631579,
          0.6526315789473685,
          0.6447368421052633,
          0.5921052631578946,
          0.5315789473684213,
          0.536842105263158,
          0.8394736842105265,
          0.6657894736842107,
          0.6263157894736843,
          0.7500000000000002,
          0.5815789473684212,
          0.5315789473684213,
          0.8368421052631582,
          0.8815789473684212,
          0.755263157894737,
          0.8078947368421052,
          0.7657894736842105,
          0.5315789473684213,
          0.736842105263158,
          0.7342105263157895,
          0.7210526315789473,
          0.7131578947368422,
          0.6657894736842107,
          0.8394736842105265,
          0.594736842105263,
          0.7078947368421055,
          0.3526315789473683,
          0.34210526315789486,
          0.42368421052631605,
          0.6947368421052632,
          0.3526315789473683,
          0.3000000000000001,
          0.3526315789473683,
          0.5473684210526315,
          0.3526315789473683,
          0.6078947368421053,
          0.31052631578947404,
          0.3315789473684209,
          0.744736842105263,
          0.6473684210526317,
          0.5157894736842107,
          0.2447368421052635,
          0.1657894736842107,
          0.5263157894736841,
          0.21315789473684219,
          0.34210526315789486,
          0.43947368421052624,
          0.25526315789473697,
          0.44473684210526343,
          0.27631578947368435,
          0.5315789473684213,
          0.21315789473684219,
          0.4315789473684211,
          0.2973684210526317,
          0.16315789473684233,
          0.16052631578947396,
          0.27631578947368435,
          0.27631578947368435,
          0.25526315789473697,
          0.43684210526315786,
          0.3315789473684209,
          0.15526315789473677,
          0.3789473684210529,
          0.2052631578947371,
          0.3315789473684209,
          0.3526315789473683,
          0.3315789473684209,
          0.27631578947368435,
          0.4131578947368421,
          0.34473684210526323,
          0.20789473684210547,
          0.38947368421052636,
          0.3657894736842106,
          0.3210526315789475,
          0.44473684210526343,
          0.31315789473684236,
          0.15263157894736842,
          0.11315789473684247,
          0.39210526315789473,
          0.1921052631578948,
          0.10000000000000019,
          0.27631578947368435,
          0,
          0.20789473684210547,
          0.3657894736842106,
          0.45789473684210524,
          0.25526315789473697,
          0.11052631578947364,
          0.13947368421052658,
          0.3657894736842106,
          0.5315789473684213,
          0.22105263157894728,
          0.273684210526316,
          0.368421052631579,
          0.1999999999999999,
          0.3526315789473683,
          0.2657894736842104,
          0.481578947368421,
          0.4868421052631582,
          0.4684210526315792,
          0.43947368421052624,
          0.38947368421052636,
          0.4131578947368421,
          0.3210526315789475,
          0.3947368421052631,
          0.6473684210526317,
          0.47631578947368425,
          0.5,
          0.613157894736842,
          0.6552631578947368,
          0.6815789473684208,
          0.3210526315789475,
          0.5605263157894738,
          0.7500000000000002,
          0.48421052631578937,
          0.6026315789473685,
          0.5394736842105264,
          0.65,
          0.46315789473684194,
          0.5473684210526315,
          0.5789473684210528,
          0.40789473684210537,
          0.5631578947368422,
          0.7394736842105263,
          0.3736842105263157,
          0.8710526315789473,
          0.6447368421052633,
          0.35,
          0.7,
          0.4789473684210526,
          0.5078947368421055,
          0.7236842105263157,
          0.7105263157894738,
          0.6368421052631578,
          0.4710526315789475,
          0.6710526315789475,
          0.623684210526316,
          0.30789473684210517,
          0.45789473684210524,
          0.8236842105263158,
          0.7052631578947371,
          0.623684210526316,
          0.5894736842105263,
          0.5631578947368422,
          0.8157894736842107
         ]
        }
       ],
       "layout": {
        "template": {
         "data": {
          "bar": [
           {
            "error_x": {
             "color": "#2a3f5f"
            },
            "error_y": {
             "color": "#2a3f5f"
            },
            "marker": {
             "line": {
              "color": "#E5ECF6",
              "width": 0.5
             }
            },
            "type": "bar"
           }
          ],
          "barpolar": [
           {
            "marker": {
             "line": {
              "color": "#E5ECF6",
              "width": 0.5
             }
            },
            "type": "barpolar"
           }
          ],
          "carpet": [
           {
            "aaxis": {
             "endlinecolor": "#2a3f5f",
             "gridcolor": "white",
             "linecolor": "white",
             "minorgridcolor": "white",
             "startlinecolor": "#2a3f5f"
            },
            "baxis": {
             "endlinecolor": "#2a3f5f",
             "gridcolor": "white",
             "linecolor": "white",
             "minorgridcolor": "white",
             "startlinecolor": "#2a3f5f"
            },
            "type": "carpet"
           }
          ],
          "choropleth": [
           {
            "colorbar": {
             "outlinewidth": 0,
             "ticks": ""
            },
            "type": "choropleth"
           }
          ],
          "contour": [
           {
            "colorbar": {
             "outlinewidth": 0,
             "ticks": ""
            },
            "colorscale": [
             [
              0,
              "#0d0887"
             ],
             [
              0.1111111111111111,
              "#46039f"
             ],
             [
              0.2222222222222222,
              "#7201a8"
             ],
             [
              0.3333333333333333,
              "#9c179e"
             ],
             [
              0.4444444444444444,
              "#bd3786"
             ],
             [
              0.5555555555555556,
              "#d8576b"
             ],
             [
              0.6666666666666666,
              "#ed7953"
             ],
             [
              0.7777777777777778,
              "#fb9f3a"
             ],
             [
              0.8888888888888888,
              "#fdca26"
             ],
             [
              1,
              "#f0f921"
             ]
            ],
            "type": "contour"
           }
          ],
          "contourcarpet": [
           {
            "colorbar": {
             "outlinewidth": 0,
             "ticks": ""
            },
            "type": "contourcarpet"
           }
          ],
          "heatmap": [
           {
            "colorbar": {
             "outlinewidth": 0,
             "ticks": ""
            },
            "colorscale": [
             [
              0,
              "#0d0887"
             ],
             [
              0.1111111111111111,
              "#46039f"
             ],
             [
              0.2222222222222222,
              "#7201a8"
             ],
             [
              0.3333333333333333,
              "#9c179e"
             ],
             [
              0.4444444444444444,
              "#bd3786"
             ],
             [
              0.5555555555555556,
              "#d8576b"
             ],
             [
              0.6666666666666666,
              "#ed7953"
             ],
             [
              0.7777777777777778,
              "#fb9f3a"
             ],
             [
              0.8888888888888888,
              "#fdca26"
             ],
             [
              1,
              "#f0f921"
             ]
            ],
            "type": "heatmap"
           }
          ],
          "heatmapgl": [
           {
            "colorbar": {
             "outlinewidth": 0,
             "ticks": ""
            },
            "colorscale": [
             [
              0,
              "#0d0887"
             ],
             [
              0.1111111111111111,
              "#46039f"
             ],
             [
              0.2222222222222222,
              "#7201a8"
             ],
             [
              0.3333333333333333,
              "#9c179e"
             ],
             [
              0.4444444444444444,
              "#bd3786"
             ],
             [
              0.5555555555555556,
              "#d8576b"
             ],
             [
              0.6666666666666666,
              "#ed7953"
             ],
             [
              0.7777777777777778,
              "#fb9f3a"
             ],
             [
              0.8888888888888888,
              "#fdca26"
             ],
             [
              1,
              "#f0f921"
             ]
            ],
            "type": "heatmapgl"
           }
          ],
          "histogram": [
           {
            "marker": {
             "colorbar": {
              "outlinewidth": 0,
              "ticks": ""
             }
            },
            "type": "histogram"
           }
          ],
          "histogram2d": [
           {
            "colorbar": {
             "outlinewidth": 0,
             "ticks": ""
            },
            "colorscale": [
             [
              0,
              "#0d0887"
             ],
             [
              0.1111111111111111,
              "#46039f"
             ],
             [
              0.2222222222222222,
              "#7201a8"
             ],
             [
              0.3333333333333333,
              "#9c179e"
             ],
             [
              0.4444444444444444,
              "#bd3786"
             ],
             [
              0.5555555555555556,
              "#d8576b"
             ],
             [
              0.6666666666666666,
              "#ed7953"
             ],
             [
              0.7777777777777778,
              "#fb9f3a"
             ],
             [
              0.8888888888888888,
              "#fdca26"
             ],
             [
              1,
              "#f0f921"
             ]
            ],
            "type": "histogram2d"
           }
          ],
          "histogram2dcontour": [
           {
            "colorbar": {
             "outlinewidth": 0,
             "ticks": ""
            },
            "colorscale": [
             [
              0,
              "#0d0887"
             ],
             [
              0.1111111111111111,
              "#46039f"
             ],
             [
              0.2222222222222222,
              "#7201a8"
             ],
             [
              0.3333333333333333,
              "#9c179e"
             ],
             [
              0.4444444444444444,
              "#bd3786"
             ],
             [
              0.5555555555555556,
              "#d8576b"
             ],
             [
              0.6666666666666666,
              "#ed7953"
             ],
             [
              0.7777777777777778,
              "#fb9f3a"
             ],
             [
              0.8888888888888888,
              "#fdca26"
             ],
             [
              1,
              "#f0f921"
             ]
            ],
            "type": "histogram2dcontour"
           }
          ],
          "mesh3d": [
           {
            "colorbar": {
             "outlinewidth": 0,
             "ticks": ""
            },
            "type": "mesh3d"
           }
          ],
          "parcoords": [
           {
            "line": {
             "colorbar": {
              "outlinewidth": 0,
              "ticks": ""
             }
            },
            "type": "parcoords"
           }
          ],
          "scatter": [
           {
            "marker": {
             "colorbar": {
              "outlinewidth": 0,
              "ticks": ""
             }
            },
            "type": "scatter"
           }
          ],
          "scatter3d": [
           {
            "line": {
             "colorbar": {
              "outlinewidth": 0,
              "ticks": ""
             }
            },
            "marker": {
             "colorbar": {
              "outlinewidth": 0,
              "ticks": ""
             }
            },
            "type": "scatter3d"
           }
          ],
          "scattercarpet": [
           {
            "marker": {
             "colorbar": {
              "outlinewidth": 0,
              "ticks": ""
             }
            },
            "type": "scattercarpet"
           }
          ],
          "scattergeo": [
           {
            "marker": {
             "colorbar": {
              "outlinewidth": 0,
              "ticks": ""
             }
            },
            "type": "scattergeo"
           }
          ],
          "scattergl": [
           {
            "marker": {
             "colorbar": {
              "outlinewidth": 0,
              "ticks": ""
             }
            },
            "type": "scattergl"
           }
          ],
          "scattermapbox": [
           {
            "marker": {
             "colorbar": {
              "outlinewidth": 0,
              "ticks": ""
             }
            },
            "type": "scattermapbox"
           }
          ],
          "scatterpolar": [
           {
            "marker": {
             "colorbar": {
              "outlinewidth": 0,
              "ticks": ""
             }
            },
            "type": "scatterpolar"
           }
          ],
          "scatterpolargl": [
           {
            "marker": {
             "colorbar": {
              "outlinewidth": 0,
              "ticks": ""
             }
            },
            "type": "scatterpolargl"
           }
          ],
          "scatterternary": [
           {
            "marker": {
             "colorbar": {
              "outlinewidth": 0,
              "ticks": ""
             }
            },
            "type": "scatterternary"
           }
          ],
          "surface": [
           {
            "colorbar": {
             "outlinewidth": 0,
             "ticks": ""
            },
            "colorscale": [
             [
              0,
              "#0d0887"
             ],
             [
              0.1111111111111111,
              "#46039f"
             ],
             [
              0.2222222222222222,
              "#7201a8"
             ],
             [
              0.3333333333333333,
              "#9c179e"
             ],
             [
              0.4444444444444444,
              "#bd3786"
             ],
             [
              0.5555555555555556,
              "#d8576b"
             ],
             [
              0.6666666666666666,
              "#ed7953"
             ],
             [
              0.7777777777777778,
              "#fb9f3a"
             ],
             [
              0.8888888888888888,
              "#fdca26"
             ],
             [
              1,
              "#f0f921"
             ]
            ],
            "type": "surface"
           }
          ],
          "table": [
           {
            "cells": {
             "fill": {
              "color": "#EBF0F8"
             },
             "line": {
              "color": "white"
             }
            },
            "header": {
             "fill": {
              "color": "#C8D4E3"
             },
             "line": {
              "color": "white"
             }
            },
            "type": "table"
           }
          ]
         },
         "layout": {
          "annotationdefaults": {
           "arrowcolor": "#2a3f5f",
           "arrowhead": 0,
           "arrowwidth": 1
          },
          "colorscale": {
           "diverging": [
            [
             0,
             "#8e0152"
            ],
            [
             0.1,
             "#c51b7d"
            ],
            [
             0.2,
             "#de77ae"
            ],
            [
             0.3,
             "#f1b6da"
            ],
            [
             0.4,
             "#fde0ef"
            ],
            [
             0.5,
             "#f7f7f7"
            ],
            [
             0.6,
             "#e6f5d0"
            ],
            [
             0.7,
             "#b8e186"
            ],
            [
             0.8,
             "#7fbc41"
            ],
            [
             0.9,
             "#4d9221"
            ],
            [
             1,
             "#276419"
            ]
           ],
           "sequential": [
            [
             0,
             "#0d0887"
            ],
            [
             0.1111111111111111,
             "#46039f"
            ],
            [
             0.2222222222222222,
             "#7201a8"
            ],
            [
             0.3333333333333333,
             "#9c179e"
            ],
            [
             0.4444444444444444,
             "#bd3786"
            ],
            [
             0.5555555555555556,
             "#d8576b"
            ],
            [
             0.6666666666666666,
             "#ed7953"
            ],
            [
             0.7777777777777778,
             "#fb9f3a"
            ],
            [
             0.8888888888888888,
             "#fdca26"
            ],
            [
             1,
             "#f0f921"
            ]
           ],
           "sequentialminus": [
            [
             0,
             "#0d0887"
            ],
            [
             0.1111111111111111,
             "#46039f"
            ],
            [
             0.2222222222222222,
             "#7201a8"
            ],
            [
             0.3333333333333333,
             "#9c179e"
            ],
            [
             0.4444444444444444,
             "#bd3786"
            ],
            [
             0.5555555555555556,
             "#d8576b"
            ],
            [
             0.6666666666666666,
             "#ed7953"
            ],
            [
             0.7777777777777778,
             "#fb9f3a"
            ],
            [
             0.8888888888888888,
             "#fdca26"
            ],
            [
             1,
             "#f0f921"
            ]
           ]
          },
          "colorway": [
           "#636efa",
           "#EF553B",
           "#00cc96",
           "#ab63fa",
           "#FFA15A",
           "#19d3f3",
           "#FF6692",
           "#B6E880",
           "#FF97FF",
           "#FECB52"
          ],
          "font": {
           "color": "#2a3f5f"
          },
          "geo": {
           "bgcolor": "white",
           "lakecolor": "white",
           "landcolor": "#E5ECF6",
           "showlakes": true,
           "showland": true,
           "subunitcolor": "white"
          },
          "hoverlabel": {
           "align": "left"
          },
          "hovermode": "closest",
          "mapbox": {
           "style": "light"
          },
          "paper_bgcolor": "white",
          "plot_bgcolor": "#E5ECF6",
          "polar": {
           "angularaxis": {
            "gridcolor": "white",
            "linecolor": "white",
            "ticks": ""
           },
           "bgcolor": "#E5ECF6",
           "radialaxis": {
            "gridcolor": "white",
            "linecolor": "white",
            "ticks": ""
           }
          },
          "scene": {
           "xaxis": {
            "backgroundcolor": "#E5ECF6",
            "gridcolor": "white",
            "gridwidth": 2,
            "linecolor": "white",
            "showbackground": true,
            "ticks": "",
            "zerolinecolor": "white"
           },
           "yaxis": {
            "backgroundcolor": "#E5ECF6",
            "gridcolor": "white",
            "gridwidth": 2,
            "linecolor": "white",
            "showbackground": true,
            "ticks": "",
            "zerolinecolor": "white"
           },
           "zaxis": {
            "backgroundcolor": "#E5ECF6",
            "gridcolor": "white",
            "gridwidth": 2,
            "linecolor": "white",
            "showbackground": true,
            "ticks": "",
            "zerolinecolor": "white"
           }
          },
          "shapedefaults": {
           "line": {
            "color": "#2a3f5f"
           }
          },
          "ternary": {
           "aaxis": {
            "gridcolor": "white",
            "linecolor": "white",
            "ticks": ""
           },
           "baxis": {
            "gridcolor": "white",
            "linecolor": "white",
            "ticks": ""
           },
           "bgcolor": "#E5ECF6",
           "caxis": {
            "gridcolor": "white",
            "linecolor": "white",
            "ticks": ""
           }
          },
          "title": {
           "x": 0.05
          },
          "xaxis": {
           "automargin": true,
           "gridcolor": "white",
           "linecolor": "white",
           "ticks": "",
           "zerolinecolor": "white",
           "zerolinewidth": 2
          },
          "yaxis": {
           "automargin": true,
           "gridcolor": "white",
           "linecolor": "white",
           "ticks": "",
           "zerolinecolor": "white",
           "zerolinewidth": 2
          }
         }
        }
       }
      },
      "text/html": [
       "<div>\n",
       "        \n",
       "        \n",
       "            <div id=\"34e39b67-5dec-4a50-b11d-8e69966fdf05\" class=\"plotly-graph-div\" style=\"height:525px; width:100%;\"></div>\n",
       "            <script type=\"text/javascript\">\n",
       "                require([\"plotly\"], function(Plotly) {\n",
       "                    window.PLOTLYENV=window.PLOTLYENV || {};\n",
       "                    \n",
       "                if (document.getElementById(\"34e39b67-5dec-4a50-b11d-8e69966fdf05\")) {\n",
       "                    Plotly.newPlot(\n",
       "                        '34e39b67-5dec-4a50-b11d-8e69966fdf05',\n",
       "                        [{\"marker\": {\"color\": [1.0, 1.0, 1.0, 1.0, 1.0, 1.0, 1.0, 1.0, 1.0, 1.0, 1.0, 1.0, 1.0, 1.0, 1.0, 1.0, 1.0, 1.0, 1.0, 1.0, 1.0, 1.0, 1.0, 1.0, 1.0, 1.0, 1.0, 1.0, 1.0, 1.0, 1.0, 1.0, 1.0, 1.0, 1.0, 1.0, 1.0, 1.0, 1.0, 1.0, 1.0, 1.0, 1.0, 1.0, 1.0, 1.0, 1.0, 1.0, 1.0, 1.0, 1.0, 1.0, 1.0, 1.0, 1.0, 1.0, 1.0, 1.0, 1.0, 0.0, 0.0, 0.0, 0.0, 2.0, 0.0, 2.0, 2.0, 2.0, 0.0, 2.0, 0.0, 2.0, 2.0, 2.0, 2.0, 0.0, 2.0, 0.0, 2.0, 2.0, 2.0, 2.0, 0.0, 0.0, 2.0, 2.0, 0.0, 2.0, 0.0, 2.0, 0.0, 0.0, 0.0, 2.0, 2.0, 2.0, 2.0, 2.0, 2.0, 2.0, 2.0, 0.0, 2.0, 2.0, 2.0, 0.0, 2.0, 0.0, 2.0, 2.0, 2.0, 2.0, 0.0, 0.0, 2.0, 2.0, 2.0, 2.0, 0.0, 2.0, 2.0, 2.0, 2.0, 2.0, 2.0, 2.0, 2.0, 0.0, 2.0, 0.0, 3.0, 3.0, 3.0, 3.0, 3.0, 3.0, 3.0, 3.0, 3.0, 3.0, 3.0, 3.0, 3.0, 3.0, 3.0, 3.0, 3.0, 3.0, 3.0, 3.0, 3.0, 3.0, 3.0, 3.0, 3.0, 3.0, 3.0, 3.0, 3.0, 3.0, 3.0, 3.0, 3.0, 3.0, 3.0, 3.0, 3.0, 3.0, 3.0, 3.0, 3.0, 3.0, 3.0, 3.0, 3.0, 3.0, 3.0, 3.0]}, \"mode\": \"markers\", \"text\": [1.0, 1.0, 1.0, 1.0, 1.0, 1.0, 1.0, 1.0, 1.0, 1.0, 1.0, 1.0, 1.0, 1.0, 1.0, 1.0, 1.0, 1.0, 1.0, 1.0, 1.0, 1.0, 1.0, 1.0, 1.0, 1.0, 1.0, 1.0, 1.0, 1.0, 1.0, 1.0, 1.0, 1.0, 1.0, 1.0, 1.0, 1.0, 1.0, 1.0, 1.0, 1.0, 1.0, 1.0, 1.0, 1.0, 1.0, 1.0, 1.0, 1.0, 1.0, 1.0, 1.0, 1.0, 1.0, 1.0, 1.0, 1.0, 1.0, 0.0, 0.0, 0.0, 0.0, 2.0, 0.0, 2.0, 2.0, 2.0, 0.0, 2.0, 0.0, 2.0, 2.0, 2.0, 2.0, 0.0, 2.0, 0.0, 2.0, 2.0, 2.0, 2.0, 0.0, 0.0, 2.0, 2.0, 0.0, 2.0, 0.0, 2.0, 0.0, 0.0, 0.0, 2.0, 2.0, 2.0, 2.0, 2.0, 2.0, 2.0, 2.0, 0.0, 2.0, 2.0, 2.0, 0.0, 2.0, 0.0, 2.0, 2.0, 2.0, 2.0, 0.0, 0.0, 2.0, 2.0, 2.0, 2.0, 0.0, 2.0, 2.0, 2.0, 2.0, 2.0, 2.0, 2.0, 2.0, 0.0, 2.0, 0.0, 3.0, 3.0, 3.0, 3.0, 3.0, 3.0, 3.0, 3.0, 3.0, 3.0, 3.0, 3.0, 3.0, 3.0, 3.0, 3.0, 3.0, 3.0, 3.0, 3.0, 3.0, 3.0, 3.0, 3.0, 3.0, 3.0, 3.0, 3.0, 3.0, 3.0, 3.0, 3.0, 3.0, 3.0, 3.0, 3.0, 3.0, 3.0, 3.0, 3.0, 3.0, 3.0, 3.0, 3.0, 3.0, 3.0, 3.0, 3.0], \"type\": \"scatter\", \"x\": [0.37201365187713303, 0.26450511945392485, 0.3754266211604095, 0.5563139931740614, 0.2593856655290102, 0.46672354948805456, 0.3387372013651877, 0.3216723549488054, 0.33447098976109213, 0.5068259385665528, 0.3813993174061433, 0.31740614334470985, 0.3686006825938566, 0.3515358361774744, 0.530716723549488, 0.5136518771331058, 0.4197952218430034, 0.45392491467576784, 0.6331058020477814, 0.32593856655290093, 0.3728668941979522, 0.27474402730375425, 0.21501706484641633, 0.22610921501706485, 0.19112627986348124, 0.19624573378839588, 0.3003412969283276, 0.22781569965870305, 0.27474402730375425, 0.2918088737201365, 0.37713310580204773, 0.47952218430034127, 0.21843003412969278, 0.3515358361774744, 0.24914675767918087, 0.32593856655290093, 0.28327645051194533, 0.2534129692832764, 0.20648464163822525, 0.32593856655290093, 0.41382252559726956, 0.25597269624573377, 0.3540955631399317, 0.26279863481228666, 0.3208191126279863, 0.3378839590443686, 0.30887372013651876, 0.4112627986348122, 0.4197952218430034, 0.6501706484641638, 0.5051194539249146, 0.3686006825938566, 0.4923208191126279, 0.42832764505119447, 0.3899317406143344, 0.42406143344709896, 0.43515358361774736, 0.4027303754266211, 0.4709897610921501, 0.057167235494880536, 0.1697952218430034, 0.3813993174061433, 0.21501706484641633, 0.2704778156996587, 0.14249146757679182, 0.28327645051194533, 0.3430034129692832, 0.2901023890784982, 0.16126279863481227, 0.13395904436860068, 0.1510238907849829, 0.17918088737201363, 0.2098976109215017, 0.17662116040955633, 0.16467576791808872, 0.21501706484641633, 0.28327645051194533, 0.11689419795221842, 0.18088737201365188, 0.1100682593856655, 0.10409556313993173, 0.2235494880546075, 0.07849829351535836, 0.3003412969283276, 0.1510238907849829, 0.11433447098976109, 0.09982935153583619, 0.11262798634812286, 0.1296928327645051, 0.039249146757679175, 0.09556313993174059, 0.19795221843003413, 0.1510238907849829, 0.07423208191126278, 0.16808873720136516, 0.11262798634812286, 0.10409556313993173, 0.13822525597269622, 0.27474402730375425, 0.08703071672354946, 0.1723549488054607, 0.09982935153583619, 0.1296928327645051, 0.06655290102389079, 0.1416382252559727, 0.121160409556314, 0.18088737201365188, 0.1723549488054607, 0.121160409556314, 0.11689419795221842, 0.13822525597269622, 0.0614334470989761, 0.21501706484641633, 0.15358361774744028, 0.13822525597269622, 0.05290102389078497, 0.057167235494880536, 0.06655290102389079, 0.18088737201365188, 0.0, 0.16808873720136516, 0.4027303754266211, 0.06825938566552901, 0.11262798634812286, 0.1296928327645051, 0.12627986348122863, 0.22696245733788395, 0.14675767918088736, 0.07167235494880546, 0.11262798634812286, 0.2406143344709897, 0.3515358361774744, 0.37713310580204773, 0.31740614334470985, 0.35580204778156993, 0.49658703071672344, 0.21928327645051196, 0.31740614334470985, 0.37713310580204773, 0.31058020477815695, 0.28327645051194533, 0.3686006825938566, 0.26194539249146753, 0.26621160409556316, 0.591296928327645, 0.2320819112627986, 0.30887372013651876, 0.5435153583617747, 0.6092150170648464, 0.6928327645051195, 0.6245733788395904, 0.8122866894197953, 0.49658703071672344, 0.78839590443686, 0.5392491467576791, 0.5648464163822525, 0.6595563139931739, 0.530716723549488, 1.0, 0.893344709897611, 0.5435153583617747, 0.39249146757679176, 0.3668941979522184, 0.341296928327645, 0.7081911262798635, 0.4556313993174061, 0.8020477815699658, 0.7662116040955631, 0.629692832764505, 0.6160409556313993, 0.3600682593856655, 0.7354947952218429, 0.7184300341296928, 0.5477815699658702, 0.5136518771331058, 0.7610921501706485, 0.6843003412969284, 0.675767918088737], \"y\": [0.8421052631578949, 0.5710526315789473, 0.5605263157894738, 0.8789473684210525, 0.5815789473684212, 0.8342105263157893, 0.8842105263157897, 0.7973684210526317, 1.0, 0.744736842105263, 0.8078947368421052, 0.813157894736842, 0.7157894736842105, 0.9789473684210526, 0.8815789473684212, 0.6842105263157897, 0.8605263157894739, 0.736842105263158, 0.831578947368421, 0.686842105263158, 0.7973684210526317, 0.5, 0.7052631578947371, 0.4789473684210526, 0.65, 0.5315789473684213, 0.6210526315789475, 0.5973684210526318, 0.7473684210526313, 0.7868421052631578, 0.7105263157894738, 0.6710526315789475, 0.6973684210526315, 0.718421052631579, 0.6526315789473685, 0.6447368421052633, 0.5921052631578946, 0.5315789473684213, 0.536842105263158, 0.8394736842105265, 0.6657894736842107, 0.6263157894736843, 0.7500000000000002, 0.5815789473684212, 0.5315789473684213, 0.8368421052631582, 0.8815789473684212, 0.755263157894737, 0.8078947368421052, 0.7657894736842105, 0.5315789473684213, 0.736842105263158, 0.7342105263157895, 0.7210526315789473, 0.7131578947368422, 0.6657894736842107, 0.8394736842105265, 0.594736842105263, 0.7078947368421055, 0.3526315789473683, 0.34210526315789486, 0.42368421052631605, 0.6947368421052632, 0.3526315789473683, 0.3000000000000001, 0.3526315789473683, 0.5473684210526315, 0.3526315789473683, 0.6078947368421053, 0.31052631578947404, 0.3315789473684209, 0.744736842105263, 0.6473684210526317, 0.5157894736842107, 0.2447368421052635, 0.1657894736842107, 0.5263157894736841, 0.21315789473684219, 0.34210526315789486, 0.43947368421052624, 0.25526315789473697, 0.44473684210526343, 0.27631578947368435, 0.5315789473684213, 0.21315789473684219, 0.4315789473684211, 0.2973684210526317, 0.16315789473684233, 0.16052631578947396, 0.27631578947368435, 0.27631578947368435, 0.25526315789473697, 0.43684210526315786, 0.3315789473684209, 0.15526315789473677, 0.3789473684210529, 0.2052631578947371, 0.3315789473684209, 0.3526315789473683, 0.3315789473684209, 0.27631578947368435, 0.4131578947368421, 0.34473684210526323, 0.20789473684210547, 0.38947368421052636, 0.3657894736842106, 0.3210526315789475, 0.44473684210526343, 0.31315789473684236, 0.15263157894736842, 0.11315789473684247, 0.39210526315789473, 0.1921052631578948, 0.10000000000000019, 0.27631578947368435, 0.0, 0.20789473684210547, 0.3657894736842106, 0.45789473684210524, 0.25526315789473697, 0.11052631578947364, 0.13947368421052658, 0.3657894736842106, 0.5315789473684213, 0.22105263157894728, 0.273684210526316, 0.368421052631579, 0.1999999999999999, 0.3526315789473683, 0.2657894736842104, 0.481578947368421, 0.4868421052631582, 0.4684210526315792, 0.43947368421052624, 0.38947368421052636, 0.4131578947368421, 0.3210526315789475, 0.3947368421052631, 0.6473684210526317, 0.47631578947368425, 0.5, 0.613157894736842, 0.6552631578947368, 0.6815789473684208, 0.3210526315789475, 0.5605263157894738, 0.7500000000000002, 0.48421052631578937, 0.6026315789473685, 0.5394736842105264, 0.65, 0.46315789473684194, 0.5473684210526315, 0.5789473684210528, 0.40789473684210537, 0.5631578947368422, 0.7394736842105263, 0.3736842105263157, 0.8710526315789473, 0.6447368421052633, 0.35, 0.7, 0.4789473684210526, 0.5078947368421055, 0.7236842105263157, 0.7105263157894738, 0.6368421052631578, 0.4710526315789475, 0.6710526315789475, 0.623684210526316, 0.30789473684210517, 0.45789473684210524, 0.8236842105263158, 0.7052631578947371, 0.623684210526316, 0.5894736842105263, 0.5631578947368422, 0.8157894736842107]}],\n",
       "                        {\"template\": {\"data\": {\"bar\": [{\"error_x\": {\"color\": \"#2a3f5f\"}, \"error_y\": {\"color\": \"#2a3f5f\"}, \"marker\": {\"line\": {\"color\": \"#E5ECF6\", \"width\": 0.5}}, \"type\": \"bar\"}], \"barpolar\": [{\"marker\": {\"line\": {\"color\": \"#E5ECF6\", \"width\": 0.5}}, \"type\": \"barpolar\"}], \"carpet\": [{\"aaxis\": {\"endlinecolor\": \"#2a3f5f\", \"gridcolor\": \"white\", \"linecolor\": \"white\", \"minorgridcolor\": \"white\", \"startlinecolor\": \"#2a3f5f\"}, \"baxis\": {\"endlinecolor\": \"#2a3f5f\", \"gridcolor\": \"white\", \"linecolor\": \"white\", \"minorgridcolor\": \"white\", \"startlinecolor\": \"#2a3f5f\"}, \"type\": \"carpet\"}], \"choropleth\": [{\"colorbar\": {\"outlinewidth\": 0, \"ticks\": \"\"}, \"type\": \"choropleth\"}], \"contour\": [{\"colorbar\": {\"outlinewidth\": 0, \"ticks\": \"\"}, \"colorscale\": [[0.0, \"#0d0887\"], [0.1111111111111111, \"#46039f\"], [0.2222222222222222, \"#7201a8\"], [0.3333333333333333, \"#9c179e\"], [0.4444444444444444, \"#bd3786\"], [0.5555555555555556, \"#d8576b\"], [0.6666666666666666, \"#ed7953\"], [0.7777777777777778, \"#fb9f3a\"], [0.8888888888888888, \"#fdca26\"], [1.0, \"#f0f921\"]], \"type\": \"contour\"}], \"contourcarpet\": [{\"colorbar\": {\"outlinewidth\": 0, \"ticks\": \"\"}, \"type\": \"contourcarpet\"}], \"heatmap\": [{\"colorbar\": {\"outlinewidth\": 0, \"ticks\": \"\"}, \"colorscale\": [[0.0, \"#0d0887\"], [0.1111111111111111, \"#46039f\"], [0.2222222222222222, \"#7201a8\"], [0.3333333333333333, \"#9c179e\"], [0.4444444444444444, \"#bd3786\"], [0.5555555555555556, \"#d8576b\"], [0.6666666666666666, \"#ed7953\"], [0.7777777777777778, \"#fb9f3a\"], [0.8888888888888888, \"#fdca26\"], [1.0, \"#f0f921\"]], \"type\": \"heatmap\"}], \"heatmapgl\": [{\"colorbar\": {\"outlinewidth\": 0, \"ticks\": \"\"}, \"colorscale\": [[0.0, \"#0d0887\"], [0.1111111111111111, \"#46039f\"], [0.2222222222222222, \"#7201a8\"], [0.3333333333333333, \"#9c179e\"], [0.4444444444444444, \"#bd3786\"], [0.5555555555555556, \"#d8576b\"], [0.6666666666666666, \"#ed7953\"], [0.7777777777777778, \"#fb9f3a\"], [0.8888888888888888, \"#fdca26\"], [1.0, \"#f0f921\"]], \"type\": \"heatmapgl\"}], \"histogram\": [{\"marker\": {\"colorbar\": {\"outlinewidth\": 0, \"ticks\": \"\"}}, \"type\": \"histogram\"}], \"histogram2d\": [{\"colorbar\": {\"outlinewidth\": 0, \"ticks\": \"\"}, \"colorscale\": [[0.0, \"#0d0887\"], [0.1111111111111111, \"#46039f\"], [0.2222222222222222, \"#7201a8\"], [0.3333333333333333, \"#9c179e\"], [0.4444444444444444, \"#bd3786\"], [0.5555555555555556, \"#d8576b\"], [0.6666666666666666, \"#ed7953\"], [0.7777777777777778, \"#fb9f3a\"], [0.8888888888888888, \"#fdca26\"], [1.0, \"#f0f921\"]], \"type\": \"histogram2d\"}], \"histogram2dcontour\": [{\"colorbar\": {\"outlinewidth\": 0, \"ticks\": \"\"}, \"colorscale\": [[0.0, \"#0d0887\"], [0.1111111111111111, \"#46039f\"], [0.2222222222222222, \"#7201a8\"], [0.3333333333333333, \"#9c179e\"], [0.4444444444444444, \"#bd3786\"], [0.5555555555555556, \"#d8576b\"], [0.6666666666666666, \"#ed7953\"], [0.7777777777777778, \"#fb9f3a\"], [0.8888888888888888, \"#fdca26\"], [1.0, \"#f0f921\"]], \"type\": \"histogram2dcontour\"}], \"mesh3d\": [{\"colorbar\": {\"outlinewidth\": 0, \"ticks\": \"\"}, \"type\": \"mesh3d\"}], \"parcoords\": [{\"line\": {\"colorbar\": {\"outlinewidth\": 0, \"ticks\": \"\"}}, \"type\": \"parcoords\"}], \"scatter\": [{\"marker\": {\"colorbar\": {\"outlinewidth\": 0, \"ticks\": \"\"}}, \"type\": \"scatter\"}], \"scatter3d\": [{\"line\": {\"colorbar\": {\"outlinewidth\": 0, \"ticks\": \"\"}}, \"marker\": {\"colorbar\": {\"outlinewidth\": 0, \"ticks\": \"\"}}, \"type\": \"scatter3d\"}], \"scattercarpet\": [{\"marker\": {\"colorbar\": {\"outlinewidth\": 0, \"ticks\": \"\"}}, \"type\": \"scattercarpet\"}], \"scattergeo\": [{\"marker\": {\"colorbar\": {\"outlinewidth\": 0, \"ticks\": \"\"}}, \"type\": \"scattergeo\"}], \"scattergl\": [{\"marker\": {\"colorbar\": {\"outlinewidth\": 0, \"ticks\": \"\"}}, \"type\": \"scattergl\"}], \"scattermapbox\": [{\"marker\": {\"colorbar\": {\"outlinewidth\": 0, \"ticks\": \"\"}}, \"type\": \"scattermapbox\"}], \"scatterpolar\": [{\"marker\": {\"colorbar\": {\"outlinewidth\": 0, \"ticks\": \"\"}}, \"type\": \"scatterpolar\"}], \"scatterpolargl\": [{\"marker\": {\"colorbar\": {\"outlinewidth\": 0, \"ticks\": \"\"}}, \"type\": \"scatterpolargl\"}], \"scatterternary\": [{\"marker\": {\"colorbar\": {\"outlinewidth\": 0, \"ticks\": \"\"}}, \"type\": \"scatterternary\"}], \"surface\": [{\"colorbar\": {\"outlinewidth\": 0, \"ticks\": \"\"}, \"colorscale\": [[0.0, \"#0d0887\"], [0.1111111111111111, \"#46039f\"], [0.2222222222222222, \"#7201a8\"], [0.3333333333333333, \"#9c179e\"], [0.4444444444444444, \"#bd3786\"], [0.5555555555555556, \"#d8576b\"], [0.6666666666666666, \"#ed7953\"], [0.7777777777777778, \"#fb9f3a\"], [0.8888888888888888, \"#fdca26\"], [1.0, \"#f0f921\"]], \"type\": \"surface\"}], \"table\": [{\"cells\": {\"fill\": {\"color\": \"#EBF0F8\"}, \"line\": {\"color\": \"white\"}}, \"header\": {\"fill\": {\"color\": \"#C8D4E3\"}, \"line\": {\"color\": \"white\"}}, \"type\": \"table\"}]}, \"layout\": {\"annotationdefaults\": {\"arrowcolor\": \"#2a3f5f\", \"arrowhead\": 0, \"arrowwidth\": 1}, \"colorscale\": {\"diverging\": [[0, \"#8e0152\"], [0.1, \"#c51b7d\"], [0.2, \"#de77ae\"], [0.3, \"#f1b6da\"], [0.4, \"#fde0ef\"], [0.5, \"#f7f7f7\"], [0.6, \"#e6f5d0\"], [0.7, \"#b8e186\"], [0.8, \"#7fbc41\"], [0.9, \"#4d9221\"], [1, \"#276419\"]], \"sequential\": [[0.0, \"#0d0887\"], [0.1111111111111111, \"#46039f\"], [0.2222222222222222, \"#7201a8\"], [0.3333333333333333, \"#9c179e\"], [0.4444444444444444, \"#bd3786\"], [0.5555555555555556, \"#d8576b\"], [0.6666666666666666, \"#ed7953\"], [0.7777777777777778, \"#fb9f3a\"], [0.8888888888888888, \"#fdca26\"], [1.0, \"#f0f921\"]], \"sequentialminus\": [[0.0, \"#0d0887\"], [0.1111111111111111, \"#46039f\"], [0.2222222222222222, \"#7201a8\"], [0.3333333333333333, \"#9c179e\"], [0.4444444444444444, \"#bd3786\"], [0.5555555555555556, \"#d8576b\"], [0.6666666666666666, \"#ed7953\"], [0.7777777777777778, \"#fb9f3a\"], [0.8888888888888888, \"#fdca26\"], [1.0, \"#f0f921\"]]}, \"colorway\": [\"#636efa\", \"#EF553B\", \"#00cc96\", \"#ab63fa\", \"#FFA15A\", \"#19d3f3\", \"#FF6692\", \"#B6E880\", \"#FF97FF\", \"#FECB52\"], \"font\": {\"color\": \"#2a3f5f\"}, \"geo\": {\"bgcolor\": \"white\", \"lakecolor\": \"white\", \"landcolor\": \"#E5ECF6\", \"showlakes\": true, \"showland\": true, \"subunitcolor\": \"white\"}, \"hoverlabel\": {\"align\": \"left\"}, \"hovermode\": \"closest\", \"mapbox\": {\"style\": \"light\"}, \"paper_bgcolor\": \"white\", \"plot_bgcolor\": \"#E5ECF6\", \"polar\": {\"angularaxis\": {\"gridcolor\": \"white\", \"linecolor\": \"white\", \"ticks\": \"\"}, \"bgcolor\": \"#E5ECF6\", \"radialaxis\": {\"gridcolor\": \"white\", \"linecolor\": \"white\", \"ticks\": \"\"}}, \"scene\": {\"xaxis\": {\"backgroundcolor\": \"#E5ECF6\", \"gridcolor\": \"white\", \"gridwidth\": 2, \"linecolor\": \"white\", \"showbackground\": true, \"ticks\": \"\", \"zerolinecolor\": \"white\"}, \"yaxis\": {\"backgroundcolor\": \"#E5ECF6\", \"gridcolor\": \"white\", \"gridwidth\": 2, \"linecolor\": \"white\", \"showbackground\": true, \"ticks\": \"\", \"zerolinecolor\": \"white\"}, \"zaxis\": {\"backgroundcolor\": \"#E5ECF6\", \"gridcolor\": \"white\", \"gridwidth\": 2, \"linecolor\": \"white\", \"showbackground\": true, \"ticks\": \"\", \"zerolinecolor\": \"white\"}}, \"shapedefaults\": {\"line\": {\"color\": \"#2a3f5f\"}}, \"ternary\": {\"aaxis\": {\"gridcolor\": \"white\", \"linecolor\": \"white\", \"ticks\": \"\"}, \"baxis\": {\"gridcolor\": \"white\", \"linecolor\": \"white\", \"ticks\": \"\"}, \"bgcolor\": \"#E5ECF6\", \"caxis\": {\"gridcolor\": \"white\", \"linecolor\": \"white\", \"ticks\": \"\"}}, \"title\": {\"x\": 0.05}, \"xaxis\": {\"automargin\": true, \"gridcolor\": \"white\", \"linecolor\": \"white\", \"ticks\": \"\", \"zerolinecolor\": \"white\", \"zerolinewidth\": 2}, \"yaxis\": {\"automargin\": true, \"gridcolor\": \"white\", \"linecolor\": \"white\", \"ticks\": \"\", \"zerolinecolor\": \"white\", \"zerolinewidth\": 2}}}},\n",
       "                        {\"responsive\": true}\n",
       "                    ).then(function(){\n",
       "                            \n",
       "var gd = document.getElementById('34e39b67-5dec-4a50-b11d-8e69966fdf05');\n",
       "var x = new MutationObserver(function (mutations, observer) {{\n",
       "        var display = window.getComputedStyle(gd).display;\n",
       "        if (!display || display === 'none') {{\n",
       "            console.log([gd, 'removed!']);\n",
       "            Plotly.purge(gd);\n",
       "            observer.disconnect();\n",
       "        }}\n",
       "}});\n",
       "\n",
       "// Listen for the removal of the full notebook cells\n",
       "var notebookContainer = gd.closest('#notebook-container');\n",
       "if (notebookContainer) {{\n",
       "    x.observe(notebookContainer, {childList: true});\n",
       "}}\n",
       "\n",
       "// Listen for the clearing of the current output cell\n",
       "var outputEl = gd.closest('.output');\n",
       "if (outputEl) {{\n",
       "    x.observe(outputEl, {childList: true});\n",
       "}}\n",
       "\n",
       "                        })\n",
       "                };\n",
       "                });\n",
       "            </script>\n",
       "        </div>"
      ]
     },
     "metadata": {},
     "output_type": "display_data"
    }
   ],
   "source": [
    "fig = go.Figure()\n",
    "fig.add_trace(go.Scatter(x = df['Intensidade_de_cor'], y = df['Alcool'], \n",
    "                        mode = 'markers',\n",
    "                        marker = dict(color = agrupador.labels_.astype(np.float)), \n",
    "                        text = labels))\n",
    "\n",
    "fig.show()"
   ]
  },
  {
   "cell_type": "code",
   "execution_count": 87,
   "id": "22363b24",
   "metadata": {},
   "outputs": [
    {
     "name": "stderr",
     "output_type": "stream",
     "text": [
      "C:\\Users\\Renato\\anaconda3\\lib\\site-packages\\sklearn\\cluster\\_kmeans.py:1332: UserWarning:\n",
      "\n",
      "KMeans is known to have a memory leak on Windows with MKL, when there are less chunks than available threads. You can avoid it by setting the environment variable OMP_NUM_THREADS=1.\n",
      "\n"
     ]
    },
    {
     "name": "stdout",
     "output_type": "stream",
     "text": [
      "[1 1 1 1 1 1 1 1 1 1 1 1 1 1 1 1 1 1 1 1 1 1 1 1 1 1 1 1 1 1 1 1 1 1 1 1 1\n",
      " 1 1 1 1 1 1 1 1 1 1 1 1 1 1 1 1 1 1 1 1 1 1 0 0 0 0 0 0 0 0 0 0 0 0 0 0 1\n",
      " 0 0 0 0 0 0 0 0 0 2 0 0 0 0 0 0 0 0 0 0 0 0 0 0 0 0 0 0 0 0 0 0 0 0 0 0 0\n",
      " 0 0 0 0 0 0 0 0 0 0 0 0 0 0 0 0 0 0 0 2 2 2 2 2 2 2 2 2 2 2 2 2 2 2 2 2 2\n",
      " 2 2 2 2 2 2 2 2 2 2 2 2 2 2 2 2 2 2 2 2 2 2 2 2 2 2 2 2 2 2]\n"
     ]
    }
   ],
   "source": [
    "agrupador = KMeans(n_clusters = 3)\n",
    "agrupador.fit(df)\n",
    "labels = agrupador.labels_\n",
    "print(labels)"
   ]
  },
  {
   "cell_type": "code",
   "execution_count": 88,
   "id": "dfa8a02a",
   "metadata": {},
   "outputs": [
    {
     "name": "stderr",
     "output_type": "stream",
     "text": [
      "C:\\Users\\Renato\\AppData\\Local\\Temp/ipykernel_9608/3937604883.py:4: DeprecationWarning:\n",
      "\n",
      "`np.float` is a deprecated alias for the builtin `float`. To silence this warning, use `float` by itself. Doing this will not modify any behavior and is safe. If you specifically wanted the numpy scalar type, use `np.float64` here.\n",
      "Deprecated in NumPy 1.20; for more details and guidance: https://numpy.org/devdocs/release/1.20.0-notes.html#deprecations\n",
      "\n"
     ]
    },
    {
     "data": {
      "application/vnd.plotly.v1+json": {
       "config": {
        "plotlyServerURL": "https://plot.ly"
       },
       "data": [
        {
         "marker": {
          "color": [
           1,
           1,
           1,
           1,
           1,
           1,
           1,
           1,
           1,
           1,
           1,
           1,
           1,
           1,
           1,
           1,
           1,
           1,
           1,
           1,
           1,
           1,
           1,
           1,
           1,
           1,
           1,
           1,
           1,
           1,
           1,
           1,
           1,
           1,
           1,
           1,
           1,
           1,
           1,
           1,
           1,
           1,
           1,
           1,
           1,
           1,
           1,
           1,
           1,
           1,
           1,
           1,
           1,
           1,
           1,
           1,
           1,
           1,
           1,
           0,
           0,
           0,
           0,
           0,
           0,
           0,
           0,
           0,
           0,
           0,
           0,
           0,
           0,
           1,
           0,
           0,
           0,
           0,
           0,
           0,
           0,
           0,
           0,
           2,
           0,
           0,
           0,
           0,
           0,
           0,
           0,
           0,
           0,
           0,
           0,
           0,
           0,
           0,
           0,
           0,
           0,
           0,
           0,
           0,
           0,
           0,
           0,
           0,
           0,
           0,
           0,
           0,
           0,
           0,
           0,
           0,
           0,
           0,
           0,
           0,
           0,
           0,
           0,
           0,
           0,
           0,
           0,
           0,
           0,
           0,
           2,
           2,
           2,
           2,
           2,
           2,
           2,
           2,
           2,
           2,
           2,
           2,
           2,
           2,
           2,
           2,
           2,
           2,
           2,
           2,
           2,
           2,
           2,
           2,
           2,
           2,
           2,
           2,
           2,
           2,
           2,
           2,
           2,
           2,
           2,
           2,
           2,
           2,
           2,
           2,
           2,
           2,
           2,
           2,
           2,
           2,
           2,
           2
          ]
         },
         "mode": "markers",
         "text": [
          1,
          1,
          1,
          1,
          1,
          1,
          1,
          1,
          1,
          1,
          1,
          1,
          1,
          1,
          1,
          1,
          1,
          1,
          1,
          1,
          1,
          1,
          1,
          1,
          1,
          1,
          1,
          1,
          1,
          1,
          1,
          1,
          1,
          1,
          1,
          1,
          1,
          1,
          1,
          1,
          1,
          1,
          1,
          1,
          1,
          1,
          1,
          1,
          1,
          1,
          1,
          1,
          1,
          1,
          1,
          1,
          1,
          1,
          1,
          0,
          0,
          0,
          0,
          0,
          0,
          0,
          0,
          0,
          0,
          0,
          0,
          0,
          0,
          1,
          0,
          0,
          0,
          0,
          0,
          0,
          0,
          0,
          0,
          2,
          0,
          0,
          0,
          0,
          0,
          0,
          0,
          0,
          0,
          0,
          0,
          0,
          0,
          0,
          0,
          0,
          0,
          0,
          0,
          0,
          0,
          0,
          0,
          0,
          0,
          0,
          0,
          0,
          0,
          0,
          0,
          0,
          0,
          0,
          0,
          0,
          0,
          0,
          0,
          0,
          0,
          0,
          0,
          0,
          0,
          0,
          2,
          2,
          2,
          2,
          2,
          2,
          2,
          2,
          2,
          2,
          2,
          2,
          2,
          2,
          2,
          2,
          2,
          2,
          2,
          2,
          2,
          2,
          2,
          2,
          2,
          2,
          2,
          2,
          2,
          2,
          2,
          2,
          2,
          2,
          2,
          2,
          2,
          2,
          2,
          2,
          2,
          2,
          2,
          2,
          2,
          2,
          2,
          2
         ],
         "type": "scatter",
         "x": [
          0.37201365187713303,
          0.26450511945392485,
          0.3754266211604095,
          0.5563139931740614,
          0.2593856655290102,
          0.46672354948805456,
          0.3387372013651877,
          0.3216723549488054,
          0.33447098976109213,
          0.5068259385665528,
          0.3813993174061433,
          0.31740614334470985,
          0.3686006825938566,
          0.3515358361774744,
          0.530716723549488,
          0.5136518771331058,
          0.4197952218430034,
          0.45392491467576784,
          0.6331058020477814,
          0.32593856655290093,
          0.3728668941979522,
          0.27474402730375425,
          0.21501706484641633,
          0.22610921501706485,
          0.19112627986348124,
          0.19624573378839588,
          0.3003412969283276,
          0.22781569965870305,
          0.27474402730375425,
          0.2918088737201365,
          0.37713310580204773,
          0.47952218430034127,
          0.21843003412969278,
          0.3515358361774744,
          0.24914675767918087,
          0.32593856655290093,
          0.28327645051194533,
          0.2534129692832764,
          0.20648464163822525,
          0.32593856655290093,
          0.41382252559726956,
          0.25597269624573377,
          0.3540955631399317,
          0.26279863481228666,
          0.3208191126279863,
          0.3378839590443686,
          0.30887372013651876,
          0.4112627986348122,
          0.4197952218430034,
          0.6501706484641638,
          0.5051194539249146,
          0.3686006825938566,
          0.4923208191126279,
          0.42832764505119447,
          0.3899317406143344,
          0.42406143344709896,
          0.43515358361774736,
          0.4027303754266211,
          0.4709897610921501,
          0.057167235494880536,
          0.1697952218430034,
          0.3813993174061433,
          0.21501706484641633,
          0.2704778156996587,
          0.14249146757679182,
          0.28327645051194533,
          0.3430034129692832,
          0.2901023890784982,
          0.16126279863481227,
          0.13395904436860068,
          0.1510238907849829,
          0.17918088737201363,
          0.2098976109215017,
          0.17662116040955633,
          0.16467576791808872,
          0.21501706484641633,
          0.28327645051194533,
          0.11689419795221842,
          0.18088737201365188,
          0.1100682593856655,
          0.10409556313993173,
          0.2235494880546075,
          0.07849829351535836,
          0.3003412969283276,
          0.1510238907849829,
          0.11433447098976109,
          0.09982935153583619,
          0.11262798634812286,
          0.1296928327645051,
          0.039249146757679175,
          0.09556313993174059,
          0.19795221843003413,
          0.1510238907849829,
          0.07423208191126278,
          0.16808873720136516,
          0.11262798634812286,
          0.10409556313993173,
          0.13822525597269622,
          0.27474402730375425,
          0.08703071672354946,
          0.1723549488054607,
          0.09982935153583619,
          0.1296928327645051,
          0.06655290102389079,
          0.1416382252559727,
          0.121160409556314,
          0.18088737201365188,
          0.1723549488054607,
          0.121160409556314,
          0.11689419795221842,
          0.13822525597269622,
          0.0614334470989761,
          0.21501706484641633,
          0.15358361774744028,
          0.13822525597269622,
          0.05290102389078497,
          0.057167235494880536,
          0.06655290102389079,
          0.18088737201365188,
          0,
          0.16808873720136516,
          0.4027303754266211,
          0.06825938566552901,
          0.11262798634812286,
          0.1296928327645051,
          0.12627986348122863,
          0.22696245733788395,
          0.14675767918088736,
          0.07167235494880546,
          0.11262798634812286,
          0.2406143344709897,
          0.3515358361774744,
          0.37713310580204773,
          0.31740614334470985,
          0.35580204778156993,
          0.49658703071672344,
          0.21928327645051196,
          0.31740614334470985,
          0.37713310580204773,
          0.31058020477815695,
          0.28327645051194533,
          0.3686006825938566,
          0.26194539249146753,
          0.26621160409556316,
          0.591296928327645,
          0.2320819112627986,
          0.30887372013651876,
          0.5435153583617747,
          0.6092150170648464,
          0.6928327645051195,
          0.6245733788395904,
          0.8122866894197953,
          0.49658703071672344,
          0.78839590443686,
          0.5392491467576791,
          0.5648464163822525,
          0.6595563139931739,
          0.530716723549488,
          1,
          0.893344709897611,
          0.5435153583617747,
          0.39249146757679176,
          0.3668941979522184,
          0.341296928327645,
          0.7081911262798635,
          0.4556313993174061,
          0.8020477815699658,
          0.7662116040955631,
          0.629692832764505,
          0.6160409556313993,
          0.3600682593856655,
          0.7354947952218429,
          0.7184300341296928,
          0.5477815699658702,
          0.5136518771331058,
          0.7610921501706485,
          0.6843003412969284,
          0.675767918088737
         ],
         "y": [
          0.8421052631578949,
          0.5710526315789473,
          0.5605263157894738,
          0.8789473684210525,
          0.5815789473684212,
          0.8342105263157893,
          0.8842105263157897,
          0.7973684210526317,
          1,
          0.744736842105263,
          0.8078947368421052,
          0.813157894736842,
          0.7157894736842105,
          0.9789473684210526,
          0.8815789473684212,
          0.6842105263157897,
          0.8605263157894739,
          0.736842105263158,
          0.831578947368421,
          0.686842105263158,
          0.7973684210526317,
          0.5,
          0.7052631578947371,
          0.4789473684210526,
          0.65,
          0.5315789473684213,
          0.6210526315789475,
          0.5973684210526318,
          0.7473684210526313,
          0.7868421052631578,
          0.7105263157894738,
          0.6710526315789475,
          0.6973684210526315,
          0.718421052631579,
          0.6526315789473685,
          0.6447368421052633,
          0.5921052631578946,
          0.5315789473684213,
          0.536842105263158,
          0.8394736842105265,
          0.6657894736842107,
          0.6263157894736843,
          0.7500000000000002,
          0.5815789473684212,
          0.5315789473684213,
          0.8368421052631582,
          0.8815789473684212,
          0.755263157894737,
          0.8078947368421052,
          0.7657894736842105,
          0.5315789473684213,
          0.736842105263158,
          0.7342105263157895,
          0.7210526315789473,
          0.7131578947368422,
          0.6657894736842107,
          0.8394736842105265,
          0.594736842105263,
          0.7078947368421055,
          0.3526315789473683,
          0.34210526315789486,
          0.42368421052631605,
          0.6947368421052632,
          0.3526315789473683,
          0.3000000000000001,
          0.3526315789473683,
          0.5473684210526315,
          0.3526315789473683,
          0.6078947368421053,
          0.31052631578947404,
          0.3315789473684209,
          0.744736842105263,
          0.6473684210526317,
          0.5157894736842107,
          0.2447368421052635,
          0.1657894736842107,
          0.5263157894736841,
          0.21315789473684219,
          0.34210526315789486,
          0.43947368421052624,
          0.25526315789473697,
          0.44473684210526343,
          0.27631578947368435,
          0.5315789473684213,
          0.21315789473684219,
          0.4315789473684211,
          0.2973684210526317,
          0.16315789473684233,
          0.16052631578947396,
          0.27631578947368435,
          0.27631578947368435,
          0.25526315789473697,
          0.43684210526315786,
          0.3315789473684209,
          0.15526315789473677,
          0.3789473684210529,
          0.2052631578947371,
          0.3315789473684209,
          0.3526315789473683,
          0.3315789473684209,
          0.27631578947368435,
          0.4131578947368421,
          0.34473684210526323,
          0.20789473684210547,
          0.38947368421052636,
          0.3657894736842106,
          0.3210526315789475,
          0.44473684210526343,
          0.31315789473684236,
          0.15263157894736842,
          0.11315789473684247,
          0.39210526315789473,
          0.1921052631578948,
          0.10000000000000019,
          0.27631578947368435,
          0,
          0.20789473684210547,
          0.3657894736842106,
          0.45789473684210524,
          0.25526315789473697,
          0.11052631578947364,
          0.13947368421052658,
          0.3657894736842106,
          0.5315789473684213,
          0.22105263157894728,
          0.273684210526316,
          0.368421052631579,
          0.1999999999999999,
          0.3526315789473683,
          0.2657894736842104,
          0.481578947368421,
          0.4868421052631582,
          0.4684210526315792,
          0.43947368421052624,
          0.38947368421052636,
          0.4131578947368421,
          0.3210526315789475,
          0.3947368421052631,
          0.6473684210526317,
          0.47631578947368425,
          0.5,
          0.613157894736842,
          0.6552631578947368,
          0.6815789473684208,
          0.3210526315789475,
          0.5605263157894738,
          0.7500000000000002,
          0.48421052631578937,
          0.6026315789473685,
          0.5394736842105264,
          0.65,
          0.46315789473684194,
          0.5473684210526315,
          0.5789473684210528,
          0.40789473684210537,
          0.5631578947368422,
          0.7394736842105263,
          0.3736842105263157,
          0.8710526315789473,
          0.6447368421052633,
          0.35,
          0.7,
          0.4789473684210526,
          0.5078947368421055,
          0.7236842105263157,
          0.7105263157894738,
          0.6368421052631578,
          0.4710526315789475,
          0.6710526315789475,
          0.623684210526316,
          0.30789473684210517,
          0.45789473684210524,
          0.8236842105263158,
          0.7052631578947371,
          0.623684210526316,
          0.5894736842105263,
          0.5631578947368422,
          0.8157894736842107
         ]
        }
       ],
       "layout": {
        "template": {
         "data": {
          "bar": [
           {
            "error_x": {
             "color": "#2a3f5f"
            },
            "error_y": {
             "color": "#2a3f5f"
            },
            "marker": {
             "line": {
              "color": "#E5ECF6",
              "width": 0.5
             }
            },
            "type": "bar"
           }
          ],
          "barpolar": [
           {
            "marker": {
             "line": {
              "color": "#E5ECF6",
              "width": 0.5
             }
            },
            "type": "barpolar"
           }
          ],
          "carpet": [
           {
            "aaxis": {
             "endlinecolor": "#2a3f5f",
             "gridcolor": "white",
             "linecolor": "white",
             "minorgridcolor": "white",
             "startlinecolor": "#2a3f5f"
            },
            "baxis": {
             "endlinecolor": "#2a3f5f",
             "gridcolor": "white",
             "linecolor": "white",
             "minorgridcolor": "white",
             "startlinecolor": "#2a3f5f"
            },
            "type": "carpet"
           }
          ],
          "choropleth": [
           {
            "colorbar": {
             "outlinewidth": 0,
             "ticks": ""
            },
            "type": "choropleth"
           }
          ],
          "contour": [
           {
            "colorbar": {
             "outlinewidth": 0,
             "ticks": ""
            },
            "colorscale": [
             [
              0,
              "#0d0887"
             ],
             [
              0.1111111111111111,
              "#46039f"
             ],
             [
              0.2222222222222222,
              "#7201a8"
             ],
             [
              0.3333333333333333,
              "#9c179e"
             ],
             [
              0.4444444444444444,
              "#bd3786"
             ],
             [
              0.5555555555555556,
              "#d8576b"
             ],
             [
              0.6666666666666666,
              "#ed7953"
             ],
             [
              0.7777777777777778,
              "#fb9f3a"
             ],
             [
              0.8888888888888888,
              "#fdca26"
             ],
             [
              1,
              "#f0f921"
             ]
            ],
            "type": "contour"
           }
          ],
          "contourcarpet": [
           {
            "colorbar": {
             "outlinewidth": 0,
             "ticks": ""
            },
            "type": "contourcarpet"
           }
          ],
          "heatmap": [
           {
            "colorbar": {
             "outlinewidth": 0,
             "ticks": ""
            },
            "colorscale": [
             [
              0,
              "#0d0887"
             ],
             [
              0.1111111111111111,
              "#46039f"
             ],
             [
              0.2222222222222222,
              "#7201a8"
             ],
             [
              0.3333333333333333,
              "#9c179e"
             ],
             [
              0.4444444444444444,
              "#bd3786"
             ],
             [
              0.5555555555555556,
              "#d8576b"
             ],
             [
              0.6666666666666666,
              "#ed7953"
             ],
             [
              0.7777777777777778,
              "#fb9f3a"
             ],
             [
              0.8888888888888888,
              "#fdca26"
             ],
             [
              1,
              "#f0f921"
             ]
            ],
            "type": "heatmap"
           }
          ],
          "heatmapgl": [
           {
            "colorbar": {
             "outlinewidth": 0,
             "ticks": ""
            },
            "colorscale": [
             [
              0,
              "#0d0887"
             ],
             [
              0.1111111111111111,
              "#46039f"
             ],
             [
              0.2222222222222222,
              "#7201a8"
             ],
             [
              0.3333333333333333,
              "#9c179e"
             ],
             [
              0.4444444444444444,
              "#bd3786"
             ],
             [
              0.5555555555555556,
              "#d8576b"
             ],
             [
              0.6666666666666666,
              "#ed7953"
             ],
             [
              0.7777777777777778,
              "#fb9f3a"
             ],
             [
              0.8888888888888888,
              "#fdca26"
             ],
             [
              1,
              "#f0f921"
             ]
            ],
            "type": "heatmapgl"
           }
          ],
          "histogram": [
           {
            "marker": {
             "colorbar": {
              "outlinewidth": 0,
              "ticks": ""
             }
            },
            "type": "histogram"
           }
          ],
          "histogram2d": [
           {
            "colorbar": {
             "outlinewidth": 0,
             "ticks": ""
            },
            "colorscale": [
             [
              0,
              "#0d0887"
             ],
             [
              0.1111111111111111,
              "#46039f"
             ],
             [
              0.2222222222222222,
              "#7201a8"
             ],
             [
              0.3333333333333333,
              "#9c179e"
             ],
             [
              0.4444444444444444,
              "#bd3786"
             ],
             [
              0.5555555555555556,
              "#d8576b"
             ],
             [
              0.6666666666666666,
              "#ed7953"
             ],
             [
              0.7777777777777778,
              "#fb9f3a"
             ],
             [
              0.8888888888888888,
              "#fdca26"
             ],
             [
              1,
              "#f0f921"
             ]
            ],
            "type": "histogram2d"
           }
          ],
          "histogram2dcontour": [
           {
            "colorbar": {
             "outlinewidth": 0,
             "ticks": ""
            },
            "colorscale": [
             [
              0,
              "#0d0887"
             ],
             [
              0.1111111111111111,
              "#46039f"
             ],
             [
              0.2222222222222222,
              "#7201a8"
             ],
             [
              0.3333333333333333,
              "#9c179e"
             ],
             [
              0.4444444444444444,
              "#bd3786"
             ],
             [
              0.5555555555555556,
              "#d8576b"
             ],
             [
              0.6666666666666666,
              "#ed7953"
             ],
             [
              0.7777777777777778,
              "#fb9f3a"
             ],
             [
              0.8888888888888888,
              "#fdca26"
             ],
             [
              1,
              "#f0f921"
             ]
            ],
            "type": "histogram2dcontour"
           }
          ],
          "mesh3d": [
           {
            "colorbar": {
             "outlinewidth": 0,
             "ticks": ""
            },
            "type": "mesh3d"
           }
          ],
          "parcoords": [
           {
            "line": {
             "colorbar": {
              "outlinewidth": 0,
              "ticks": ""
             }
            },
            "type": "parcoords"
           }
          ],
          "scatter": [
           {
            "marker": {
             "colorbar": {
              "outlinewidth": 0,
              "ticks": ""
             }
            },
            "type": "scatter"
           }
          ],
          "scatter3d": [
           {
            "line": {
             "colorbar": {
              "outlinewidth": 0,
              "ticks": ""
             }
            },
            "marker": {
             "colorbar": {
              "outlinewidth": 0,
              "ticks": ""
             }
            },
            "type": "scatter3d"
           }
          ],
          "scattercarpet": [
           {
            "marker": {
             "colorbar": {
              "outlinewidth": 0,
              "ticks": ""
             }
            },
            "type": "scattercarpet"
           }
          ],
          "scattergeo": [
           {
            "marker": {
             "colorbar": {
              "outlinewidth": 0,
              "ticks": ""
             }
            },
            "type": "scattergeo"
           }
          ],
          "scattergl": [
           {
            "marker": {
             "colorbar": {
              "outlinewidth": 0,
              "ticks": ""
             }
            },
            "type": "scattergl"
           }
          ],
          "scattermapbox": [
           {
            "marker": {
             "colorbar": {
              "outlinewidth": 0,
              "ticks": ""
             }
            },
            "type": "scattermapbox"
           }
          ],
          "scatterpolar": [
           {
            "marker": {
             "colorbar": {
              "outlinewidth": 0,
              "ticks": ""
             }
            },
            "type": "scatterpolar"
           }
          ],
          "scatterpolargl": [
           {
            "marker": {
             "colorbar": {
              "outlinewidth": 0,
              "ticks": ""
             }
            },
            "type": "scatterpolargl"
           }
          ],
          "scatterternary": [
           {
            "marker": {
             "colorbar": {
              "outlinewidth": 0,
              "ticks": ""
             }
            },
            "type": "scatterternary"
           }
          ],
          "surface": [
           {
            "colorbar": {
             "outlinewidth": 0,
             "ticks": ""
            },
            "colorscale": [
             [
              0,
              "#0d0887"
             ],
             [
              0.1111111111111111,
              "#46039f"
             ],
             [
              0.2222222222222222,
              "#7201a8"
             ],
             [
              0.3333333333333333,
              "#9c179e"
             ],
             [
              0.4444444444444444,
              "#bd3786"
             ],
             [
              0.5555555555555556,
              "#d8576b"
             ],
             [
              0.6666666666666666,
              "#ed7953"
             ],
             [
              0.7777777777777778,
              "#fb9f3a"
             ],
             [
              0.8888888888888888,
              "#fdca26"
             ],
             [
              1,
              "#f0f921"
             ]
            ],
            "type": "surface"
           }
          ],
          "table": [
           {
            "cells": {
             "fill": {
              "color": "#EBF0F8"
             },
             "line": {
              "color": "white"
             }
            },
            "header": {
             "fill": {
              "color": "#C8D4E3"
             },
             "line": {
              "color": "white"
             }
            },
            "type": "table"
           }
          ]
         },
         "layout": {
          "annotationdefaults": {
           "arrowcolor": "#2a3f5f",
           "arrowhead": 0,
           "arrowwidth": 1
          },
          "colorscale": {
           "diverging": [
            [
             0,
             "#8e0152"
            ],
            [
             0.1,
             "#c51b7d"
            ],
            [
             0.2,
             "#de77ae"
            ],
            [
             0.3,
             "#f1b6da"
            ],
            [
             0.4,
             "#fde0ef"
            ],
            [
             0.5,
             "#f7f7f7"
            ],
            [
             0.6,
             "#e6f5d0"
            ],
            [
             0.7,
             "#b8e186"
            ],
            [
             0.8,
             "#7fbc41"
            ],
            [
             0.9,
             "#4d9221"
            ],
            [
             1,
             "#276419"
            ]
           ],
           "sequential": [
            [
             0,
             "#0d0887"
            ],
            [
             0.1111111111111111,
             "#46039f"
            ],
            [
             0.2222222222222222,
             "#7201a8"
            ],
            [
             0.3333333333333333,
             "#9c179e"
            ],
            [
             0.4444444444444444,
             "#bd3786"
            ],
            [
             0.5555555555555556,
             "#d8576b"
            ],
            [
             0.6666666666666666,
             "#ed7953"
            ],
            [
             0.7777777777777778,
             "#fb9f3a"
            ],
            [
             0.8888888888888888,
             "#fdca26"
            ],
            [
             1,
             "#f0f921"
            ]
           ],
           "sequentialminus": [
            [
             0,
             "#0d0887"
            ],
            [
             0.1111111111111111,
             "#46039f"
            ],
            [
             0.2222222222222222,
             "#7201a8"
            ],
            [
             0.3333333333333333,
             "#9c179e"
            ],
            [
             0.4444444444444444,
             "#bd3786"
            ],
            [
             0.5555555555555556,
             "#d8576b"
            ],
            [
             0.6666666666666666,
             "#ed7953"
            ],
            [
             0.7777777777777778,
             "#fb9f3a"
            ],
            [
             0.8888888888888888,
             "#fdca26"
            ],
            [
             1,
             "#f0f921"
            ]
           ]
          },
          "colorway": [
           "#636efa",
           "#EF553B",
           "#00cc96",
           "#ab63fa",
           "#FFA15A",
           "#19d3f3",
           "#FF6692",
           "#B6E880",
           "#FF97FF",
           "#FECB52"
          ],
          "font": {
           "color": "#2a3f5f"
          },
          "geo": {
           "bgcolor": "white",
           "lakecolor": "white",
           "landcolor": "#E5ECF6",
           "showlakes": true,
           "showland": true,
           "subunitcolor": "white"
          },
          "hoverlabel": {
           "align": "left"
          },
          "hovermode": "closest",
          "mapbox": {
           "style": "light"
          },
          "paper_bgcolor": "white",
          "plot_bgcolor": "#E5ECF6",
          "polar": {
           "angularaxis": {
            "gridcolor": "white",
            "linecolor": "white",
            "ticks": ""
           },
           "bgcolor": "#E5ECF6",
           "radialaxis": {
            "gridcolor": "white",
            "linecolor": "white",
            "ticks": ""
           }
          },
          "scene": {
           "xaxis": {
            "backgroundcolor": "#E5ECF6",
            "gridcolor": "white",
            "gridwidth": 2,
            "linecolor": "white",
            "showbackground": true,
            "ticks": "",
            "zerolinecolor": "white"
           },
           "yaxis": {
            "backgroundcolor": "#E5ECF6",
            "gridcolor": "white",
            "gridwidth": 2,
            "linecolor": "white",
            "showbackground": true,
            "ticks": "",
            "zerolinecolor": "white"
           },
           "zaxis": {
            "backgroundcolor": "#E5ECF6",
            "gridcolor": "white",
            "gridwidth": 2,
            "linecolor": "white",
            "showbackground": true,
            "ticks": "",
            "zerolinecolor": "white"
           }
          },
          "shapedefaults": {
           "line": {
            "color": "#2a3f5f"
           }
          },
          "ternary": {
           "aaxis": {
            "gridcolor": "white",
            "linecolor": "white",
            "ticks": ""
           },
           "baxis": {
            "gridcolor": "white",
            "linecolor": "white",
            "ticks": ""
           },
           "bgcolor": "#E5ECF6",
           "caxis": {
            "gridcolor": "white",
            "linecolor": "white",
            "ticks": ""
           }
          },
          "title": {
           "x": 0.05
          },
          "xaxis": {
           "automargin": true,
           "gridcolor": "white",
           "linecolor": "white",
           "ticks": "",
           "zerolinecolor": "white",
           "zerolinewidth": 2
          },
          "yaxis": {
           "automargin": true,
           "gridcolor": "white",
           "linecolor": "white",
           "ticks": "",
           "zerolinecolor": "white",
           "zerolinewidth": 2
          }
         }
        }
       }
      },
      "text/html": [
       "<div>\n",
       "        \n",
       "        \n",
       "            <div id=\"e8d107ca-548d-4d07-ad11-f1b90688c1cd\" class=\"plotly-graph-div\" style=\"height:525px; width:100%;\"></div>\n",
       "            <script type=\"text/javascript\">\n",
       "                require([\"plotly\"], function(Plotly) {\n",
       "                    window.PLOTLYENV=window.PLOTLYENV || {};\n",
       "                    \n",
       "                if (document.getElementById(\"e8d107ca-548d-4d07-ad11-f1b90688c1cd\")) {\n",
       "                    Plotly.newPlot(\n",
       "                        'e8d107ca-548d-4d07-ad11-f1b90688c1cd',\n",
       "                        [{\"marker\": {\"color\": [1.0, 1.0, 1.0, 1.0, 1.0, 1.0, 1.0, 1.0, 1.0, 1.0, 1.0, 1.0, 1.0, 1.0, 1.0, 1.0, 1.0, 1.0, 1.0, 1.0, 1.0, 1.0, 1.0, 1.0, 1.0, 1.0, 1.0, 1.0, 1.0, 1.0, 1.0, 1.0, 1.0, 1.0, 1.0, 1.0, 1.0, 1.0, 1.0, 1.0, 1.0, 1.0, 1.0, 1.0, 1.0, 1.0, 1.0, 1.0, 1.0, 1.0, 1.0, 1.0, 1.0, 1.0, 1.0, 1.0, 1.0, 1.0, 1.0, 0.0, 0.0, 0.0, 0.0, 0.0, 0.0, 0.0, 0.0, 0.0, 0.0, 0.0, 0.0, 0.0, 0.0, 1.0, 0.0, 0.0, 0.0, 0.0, 0.0, 0.0, 0.0, 0.0, 0.0, 2.0, 0.0, 0.0, 0.0, 0.0, 0.0, 0.0, 0.0, 0.0, 0.0, 0.0, 0.0, 0.0, 0.0, 0.0, 0.0, 0.0, 0.0, 0.0, 0.0, 0.0, 0.0, 0.0, 0.0, 0.0, 0.0, 0.0, 0.0, 0.0, 0.0, 0.0, 0.0, 0.0, 0.0, 0.0, 0.0, 0.0, 0.0, 0.0, 0.0, 0.0, 0.0, 0.0, 0.0, 0.0, 0.0, 0.0, 2.0, 2.0, 2.0, 2.0, 2.0, 2.0, 2.0, 2.0, 2.0, 2.0, 2.0, 2.0, 2.0, 2.0, 2.0, 2.0, 2.0, 2.0, 2.0, 2.0, 2.0, 2.0, 2.0, 2.0, 2.0, 2.0, 2.0, 2.0, 2.0, 2.0, 2.0, 2.0, 2.0, 2.0, 2.0, 2.0, 2.0, 2.0, 2.0, 2.0, 2.0, 2.0, 2.0, 2.0, 2.0, 2.0, 2.0, 2.0]}, \"mode\": \"markers\", \"text\": [1.0, 1.0, 1.0, 1.0, 1.0, 1.0, 1.0, 1.0, 1.0, 1.0, 1.0, 1.0, 1.0, 1.0, 1.0, 1.0, 1.0, 1.0, 1.0, 1.0, 1.0, 1.0, 1.0, 1.0, 1.0, 1.0, 1.0, 1.0, 1.0, 1.0, 1.0, 1.0, 1.0, 1.0, 1.0, 1.0, 1.0, 1.0, 1.0, 1.0, 1.0, 1.0, 1.0, 1.0, 1.0, 1.0, 1.0, 1.0, 1.0, 1.0, 1.0, 1.0, 1.0, 1.0, 1.0, 1.0, 1.0, 1.0, 1.0, 0.0, 0.0, 0.0, 0.0, 0.0, 0.0, 0.0, 0.0, 0.0, 0.0, 0.0, 0.0, 0.0, 0.0, 1.0, 0.0, 0.0, 0.0, 0.0, 0.0, 0.0, 0.0, 0.0, 0.0, 2.0, 0.0, 0.0, 0.0, 0.0, 0.0, 0.0, 0.0, 0.0, 0.0, 0.0, 0.0, 0.0, 0.0, 0.0, 0.0, 0.0, 0.0, 0.0, 0.0, 0.0, 0.0, 0.0, 0.0, 0.0, 0.0, 0.0, 0.0, 0.0, 0.0, 0.0, 0.0, 0.0, 0.0, 0.0, 0.0, 0.0, 0.0, 0.0, 0.0, 0.0, 0.0, 0.0, 0.0, 0.0, 0.0, 0.0, 2.0, 2.0, 2.0, 2.0, 2.0, 2.0, 2.0, 2.0, 2.0, 2.0, 2.0, 2.0, 2.0, 2.0, 2.0, 2.0, 2.0, 2.0, 2.0, 2.0, 2.0, 2.0, 2.0, 2.0, 2.0, 2.0, 2.0, 2.0, 2.0, 2.0, 2.0, 2.0, 2.0, 2.0, 2.0, 2.0, 2.0, 2.0, 2.0, 2.0, 2.0, 2.0, 2.0, 2.0, 2.0, 2.0, 2.0, 2.0], \"type\": \"scatter\", \"x\": [0.37201365187713303, 0.26450511945392485, 0.3754266211604095, 0.5563139931740614, 0.2593856655290102, 0.46672354948805456, 0.3387372013651877, 0.3216723549488054, 0.33447098976109213, 0.5068259385665528, 0.3813993174061433, 0.31740614334470985, 0.3686006825938566, 0.3515358361774744, 0.530716723549488, 0.5136518771331058, 0.4197952218430034, 0.45392491467576784, 0.6331058020477814, 0.32593856655290093, 0.3728668941979522, 0.27474402730375425, 0.21501706484641633, 0.22610921501706485, 0.19112627986348124, 0.19624573378839588, 0.3003412969283276, 0.22781569965870305, 0.27474402730375425, 0.2918088737201365, 0.37713310580204773, 0.47952218430034127, 0.21843003412969278, 0.3515358361774744, 0.24914675767918087, 0.32593856655290093, 0.28327645051194533, 0.2534129692832764, 0.20648464163822525, 0.32593856655290093, 0.41382252559726956, 0.25597269624573377, 0.3540955631399317, 0.26279863481228666, 0.3208191126279863, 0.3378839590443686, 0.30887372013651876, 0.4112627986348122, 0.4197952218430034, 0.6501706484641638, 0.5051194539249146, 0.3686006825938566, 0.4923208191126279, 0.42832764505119447, 0.3899317406143344, 0.42406143344709896, 0.43515358361774736, 0.4027303754266211, 0.4709897610921501, 0.057167235494880536, 0.1697952218430034, 0.3813993174061433, 0.21501706484641633, 0.2704778156996587, 0.14249146757679182, 0.28327645051194533, 0.3430034129692832, 0.2901023890784982, 0.16126279863481227, 0.13395904436860068, 0.1510238907849829, 0.17918088737201363, 0.2098976109215017, 0.17662116040955633, 0.16467576791808872, 0.21501706484641633, 0.28327645051194533, 0.11689419795221842, 0.18088737201365188, 0.1100682593856655, 0.10409556313993173, 0.2235494880546075, 0.07849829351535836, 0.3003412969283276, 0.1510238907849829, 0.11433447098976109, 0.09982935153583619, 0.11262798634812286, 0.1296928327645051, 0.039249146757679175, 0.09556313993174059, 0.19795221843003413, 0.1510238907849829, 0.07423208191126278, 0.16808873720136516, 0.11262798634812286, 0.10409556313993173, 0.13822525597269622, 0.27474402730375425, 0.08703071672354946, 0.1723549488054607, 0.09982935153583619, 0.1296928327645051, 0.06655290102389079, 0.1416382252559727, 0.121160409556314, 0.18088737201365188, 0.1723549488054607, 0.121160409556314, 0.11689419795221842, 0.13822525597269622, 0.0614334470989761, 0.21501706484641633, 0.15358361774744028, 0.13822525597269622, 0.05290102389078497, 0.057167235494880536, 0.06655290102389079, 0.18088737201365188, 0.0, 0.16808873720136516, 0.4027303754266211, 0.06825938566552901, 0.11262798634812286, 0.1296928327645051, 0.12627986348122863, 0.22696245733788395, 0.14675767918088736, 0.07167235494880546, 0.11262798634812286, 0.2406143344709897, 0.3515358361774744, 0.37713310580204773, 0.31740614334470985, 0.35580204778156993, 0.49658703071672344, 0.21928327645051196, 0.31740614334470985, 0.37713310580204773, 0.31058020477815695, 0.28327645051194533, 0.3686006825938566, 0.26194539249146753, 0.26621160409556316, 0.591296928327645, 0.2320819112627986, 0.30887372013651876, 0.5435153583617747, 0.6092150170648464, 0.6928327645051195, 0.6245733788395904, 0.8122866894197953, 0.49658703071672344, 0.78839590443686, 0.5392491467576791, 0.5648464163822525, 0.6595563139931739, 0.530716723549488, 1.0, 0.893344709897611, 0.5435153583617747, 0.39249146757679176, 0.3668941979522184, 0.341296928327645, 0.7081911262798635, 0.4556313993174061, 0.8020477815699658, 0.7662116040955631, 0.629692832764505, 0.6160409556313993, 0.3600682593856655, 0.7354947952218429, 0.7184300341296928, 0.5477815699658702, 0.5136518771331058, 0.7610921501706485, 0.6843003412969284, 0.675767918088737], \"y\": [0.8421052631578949, 0.5710526315789473, 0.5605263157894738, 0.8789473684210525, 0.5815789473684212, 0.8342105263157893, 0.8842105263157897, 0.7973684210526317, 1.0, 0.744736842105263, 0.8078947368421052, 0.813157894736842, 0.7157894736842105, 0.9789473684210526, 0.8815789473684212, 0.6842105263157897, 0.8605263157894739, 0.736842105263158, 0.831578947368421, 0.686842105263158, 0.7973684210526317, 0.5, 0.7052631578947371, 0.4789473684210526, 0.65, 0.5315789473684213, 0.6210526315789475, 0.5973684210526318, 0.7473684210526313, 0.7868421052631578, 0.7105263157894738, 0.6710526315789475, 0.6973684210526315, 0.718421052631579, 0.6526315789473685, 0.6447368421052633, 0.5921052631578946, 0.5315789473684213, 0.536842105263158, 0.8394736842105265, 0.6657894736842107, 0.6263157894736843, 0.7500000000000002, 0.5815789473684212, 0.5315789473684213, 0.8368421052631582, 0.8815789473684212, 0.755263157894737, 0.8078947368421052, 0.7657894736842105, 0.5315789473684213, 0.736842105263158, 0.7342105263157895, 0.7210526315789473, 0.7131578947368422, 0.6657894736842107, 0.8394736842105265, 0.594736842105263, 0.7078947368421055, 0.3526315789473683, 0.34210526315789486, 0.42368421052631605, 0.6947368421052632, 0.3526315789473683, 0.3000000000000001, 0.3526315789473683, 0.5473684210526315, 0.3526315789473683, 0.6078947368421053, 0.31052631578947404, 0.3315789473684209, 0.744736842105263, 0.6473684210526317, 0.5157894736842107, 0.2447368421052635, 0.1657894736842107, 0.5263157894736841, 0.21315789473684219, 0.34210526315789486, 0.43947368421052624, 0.25526315789473697, 0.44473684210526343, 0.27631578947368435, 0.5315789473684213, 0.21315789473684219, 0.4315789473684211, 0.2973684210526317, 0.16315789473684233, 0.16052631578947396, 0.27631578947368435, 0.27631578947368435, 0.25526315789473697, 0.43684210526315786, 0.3315789473684209, 0.15526315789473677, 0.3789473684210529, 0.2052631578947371, 0.3315789473684209, 0.3526315789473683, 0.3315789473684209, 0.27631578947368435, 0.4131578947368421, 0.34473684210526323, 0.20789473684210547, 0.38947368421052636, 0.3657894736842106, 0.3210526315789475, 0.44473684210526343, 0.31315789473684236, 0.15263157894736842, 0.11315789473684247, 0.39210526315789473, 0.1921052631578948, 0.10000000000000019, 0.27631578947368435, 0.0, 0.20789473684210547, 0.3657894736842106, 0.45789473684210524, 0.25526315789473697, 0.11052631578947364, 0.13947368421052658, 0.3657894736842106, 0.5315789473684213, 0.22105263157894728, 0.273684210526316, 0.368421052631579, 0.1999999999999999, 0.3526315789473683, 0.2657894736842104, 0.481578947368421, 0.4868421052631582, 0.4684210526315792, 0.43947368421052624, 0.38947368421052636, 0.4131578947368421, 0.3210526315789475, 0.3947368421052631, 0.6473684210526317, 0.47631578947368425, 0.5, 0.613157894736842, 0.6552631578947368, 0.6815789473684208, 0.3210526315789475, 0.5605263157894738, 0.7500000000000002, 0.48421052631578937, 0.6026315789473685, 0.5394736842105264, 0.65, 0.46315789473684194, 0.5473684210526315, 0.5789473684210528, 0.40789473684210537, 0.5631578947368422, 0.7394736842105263, 0.3736842105263157, 0.8710526315789473, 0.6447368421052633, 0.35, 0.7, 0.4789473684210526, 0.5078947368421055, 0.7236842105263157, 0.7105263157894738, 0.6368421052631578, 0.4710526315789475, 0.6710526315789475, 0.623684210526316, 0.30789473684210517, 0.45789473684210524, 0.8236842105263158, 0.7052631578947371, 0.623684210526316, 0.5894736842105263, 0.5631578947368422, 0.8157894736842107]}],\n",
       "                        {\"template\": {\"data\": {\"bar\": [{\"error_x\": {\"color\": \"#2a3f5f\"}, \"error_y\": {\"color\": \"#2a3f5f\"}, \"marker\": {\"line\": {\"color\": \"#E5ECF6\", \"width\": 0.5}}, \"type\": \"bar\"}], \"barpolar\": [{\"marker\": {\"line\": {\"color\": \"#E5ECF6\", \"width\": 0.5}}, \"type\": \"barpolar\"}], \"carpet\": [{\"aaxis\": {\"endlinecolor\": \"#2a3f5f\", \"gridcolor\": \"white\", \"linecolor\": \"white\", \"minorgridcolor\": \"white\", \"startlinecolor\": \"#2a3f5f\"}, \"baxis\": {\"endlinecolor\": \"#2a3f5f\", \"gridcolor\": \"white\", \"linecolor\": \"white\", \"minorgridcolor\": \"white\", \"startlinecolor\": \"#2a3f5f\"}, \"type\": \"carpet\"}], \"choropleth\": [{\"colorbar\": {\"outlinewidth\": 0, \"ticks\": \"\"}, \"type\": \"choropleth\"}], \"contour\": [{\"colorbar\": {\"outlinewidth\": 0, \"ticks\": \"\"}, \"colorscale\": [[0.0, \"#0d0887\"], [0.1111111111111111, \"#46039f\"], [0.2222222222222222, \"#7201a8\"], [0.3333333333333333, \"#9c179e\"], [0.4444444444444444, \"#bd3786\"], [0.5555555555555556, \"#d8576b\"], [0.6666666666666666, \"#ed7953\"], [0.7777777777777778, \"#fb9f3a\"], [0.8888888888888888, \"#fdca26\"], [1.0, \"#f0f921\"]], \"type\": \"contour\"}], \"contourcarpet\": [{\"colorbar\": {\"outlinewidth\": 0, \"ticks\": \"\"}, \"type\": \"contourcarpet\"}], \"heatmap\": [{\"colorbar\": {\"outlinewidth\": 0, \"ticks\": \"\"}, \"colorscale\": [[0.0, \"#0d0887\"], [0.1111111111111111, \"#46039f\"], [0.2222222222222222, \"#7201a8\"], [0.3333333333333333, \"#9c179e\"], [0.4444444444444444, \"#bd3786\"], [0.5555555555555556, \"#d8576b\"], [0.6666666666666666, \"#ed7953\"], [0.7777777777777778, \"#fb9f3a\"], [0.8888888888888888, \"#fdca26\"], [1.0, \"#f0f921\"]], \"type\": \"heatmap\"}], \"heatmapgl\": [{\"colorbar\": {\"outlinewidth\": 0, \"ticks\": \"\"}, \"colorscale\": [[0.0, \"#0d0887\"], [0.1111111111111111, \"#46039f\"], [0.2222222222222222, \"#7201a8\"], [0.3333333333333333, \"#9c179e\"], [0.4444444444444444, \"#bd3786\"], [0.5555555555555556, \"#d8576b\"], [0.6666666666666666, \"#ed7953\"], [0.7777777777777778, \"#fb9f3a\"], [0.8888888888888888, \"#fdca26\"], [1.0, \"#f0f921\"]], \"type\": \"heatmapgl\"}], \"histogram\": [{\"marker\": {\"colorbar\": {\"outlinewidth\": 0, \"ticks\": \"\"}}, \"type\": \"histogram\"}], \"histogram2d\": [{\"colorbar\": {\"outlinewidth\": 0, \"ticks\": \"\"}, \"colorscale\": [[0.0, \"#0d0887\"], [0.1111111111111111, \"#46039f\"], [0.2222222222222222, \"#7201a8\"], [0.3333333333333333, \"#9c179e\"], [0.4444444444444444, \"#bd3786\"], [0.5555555555555556, \"#d8576b\"], [0.6666666666666666, \"#ed7953\"], [0.7777777777777778, \"#fb9f3a\"], [0.8888888888888888, \"#fdca26\"], [1.0, \"#f0f921\"]], \"type\": \"histogram2d\"}], \"histogram2dcontour\": [{\"colorbar\": {\"outlinewidth\": 0, \"ticks\": \"\"}, \"colorscale\": [[0.0, \"#0d0887\"], [0.1111111111111111, \"#46039f\"], [0.2222222222222222, \"#7201a8\"], [0.3333333333333333, \"#9c179e\"], [0.4444444444444444, \"#bd3786\"], [0.5555555555555556, \"#d8576b\"], [0.6666666666666666, \"#ed7953\"], [0.7777777777777778, \"#fb9f3a\"], [0.8888888888888888, \"#fdca26\"], [1.0, \"#f0f921\"]], \"type\": \"histogram2dcontour\"}], \"mesh3d\": [{\"colorbar\": {\"outlinewidth\": 0, \"ticks\": \"\"}, \"type\": \"mesh3d\"}], \"parcoords\": [{\"line\": {\"colorbar\": {\"outlinewidth\": 0, \"ticks\": \"\"}}, \"type\": \"parcoords\"}], \"scatter\": [{\"marker\": {\"colorbar\": {\"outlinewidth\": 0, \"ticks\": \"\"}}, \"type\": \"scatter\"}], \"scatter3d\": [{\"line\": {\"colorbar\": {\"outlinewidth\": 0, \"ticks\": \"\"}}, \"marker\": {\"colorbar\": {\"outlinewidth\": 0, \"ticks\": \"\"}}, \"type\": \"scatter3d\"}], \"scattercarpet\": [{\"marker\": {\"colorbar\": {\"outlinewidth\": 0, \"ticks\": \"\"}}, \"type\": \"scattercarpet\"}], \"scattergeo\": [{\"marker\": {\"colorbar\": {\"outlinewidth\": 0, \"ticks\": \"\"}}, \"type\": \"scattergeo\"}], \"scattergl\": [{\"marker\": {\"colorbar\": {\"outlinewidth\": 0, \"ticks\": \"\"}}, \"type\": \"scattergl\"}], \"scattermapbox\": [{\"marker\": {\"colorbar\": {\"outlinewidth\": 0, \"ticks\": \"\"}}, \"type\": \"scattermapbox\"}], \"scatterpolar\": [{\"marker\": {\"colorbar\": {\"outlinewidth\": 0, \"ticks\": \"\"}}, \"type\": \"scatterpolar\"}], \"scatterpolargl\": [{\"marker\": {\"colorbar\": {\"outlinewidth\": 0, \"ticks\": \"\"}}, \"type\": \"scatterpolargl\"}], \"scatterternary\": [{\"marker\": {\"colorbar\": {\"outlinewidth\": 0, \"ticks\": \"\"}}, \"type\": \"scatterternary\"}], \"surface\": [{\"colorbar\": {\"outlinewidth\": 0, \"ticks\": \"\"}, \"colorscale\": [[0.0, \"#0d0887\"], [0.1111111111111111, \"#46039f\"], [0.2222222222222222, \"#7201a8\"], [0.3333333333333333, \"#9c179e\"], [0.4444444444444444, \"#bd3786\"], [0.5555555555555556, \"#d8576b\"], [0.6666666666666666, \"#ed7953\"], [0.7777777777777778, \"#fb9f3a\"], [0.8888888888888888, \"#fdca26\"], [1.0, \"#f0f921\"]], \"type\": \"surface\"}], \"table\": [{\"cells\": {\"fill\": {\"color\": \"#EBF0F8\"}, \"line\": {\"color\": \"white\"}}, \"header\": {\"fill\": {\"color\": \"#C8D4E3\"}, \"line\": {\"color\": \"white\"}}, \"type\": \"table\"}]}, \"layout\": {\"annotationdefaults\": {\"arrowcolor\": \"#2a3f5f\", \"arrowhead\": 0, \"arrowwidth\": 1}, \"colorscale\": {\"diverging\": [[0, \"#8e0152\"], [0.1, \"#c51b7d\"], [0.2, \"#de77ae\"], [0.3, \"#f1b6da\"], [0.4, \"#fde0ef\"], [0.5, \"#f7f7f7\"], [0.6, \"#e6f5d0\"], [0.7, \"#b8e186\"], [0.8, \"#7fbc41\"], [0.9, \"#4d9221\"], [1, \"#276419\"]], \"sequential\": [[0.0, \"#0d0887\"], [0.1111111111111111, \"#46039f\"], [0.2222222222222222, \"#7201a8\"], [0.3333333333333333, \"#9c179e\"], [0.4444444444444444, \"#bd3786\"], [0.5555555555555556, \"#d8576b\"], [0.6666666666666666, \"#ed7953\"], [0.7777777777777778, \"#fb9f3a\"], [0.8888888888888888, \"#fdca26\"], [1.0, \"#f0f921\"]], \"sequentialminus\": [[0.0, \"#0d0887\"], [0.1111111111111111, \"#46039f\"], [0.2222222222222222, \"#7201a8\"], [0.3333333333333333, \"#9c179e\"], [0.4444444444444444, \"#bd3786\"], [0.5555555555555556, \"#d8576b\"], [0.6666666666666666, \"#ed7953\"], [0.7777777777777778, \"#fb9f3a\"], [0.8888888888888888, \"#fdca26\"], [1.0, \"#f0f921\"]]}, \"colorway\": [\"#636efa\", \"#EF553B\", \"#00cc96\", \"#ab63fa\", \"#FFA15A\", \"#19d3f3\", \"#FF6692\", \"#B6E880\", \"#FF97FF\", \"#FECB52\"], \"font\": {\"color\": \"#2a3f5f\"}, \"geo\": {\"bgcolor\": \"white\", \"lakecolor\": \"white\", \"landcolor\": \"#E5ECF6\", \"showlakes\": true, \"showland\": true, \"subunitcolor\": \"white\"}, \"hoverlabel\": {\"align\": \"left\"}, \"hovermode\": \"closest\", \"mapbox\": {\"style\": \"light\"}, \"paper_bgcolor\": \"white\", \"plot_bgcolor\": \"#E5ECF6\", \"polar\": {\"angularaxis\": {\"gridcolor\": \"white\", \"linecolor\": \"white\", \"ticks\": \"\"}, \"bgcolor\": \"#E5ECF6\", \"radialaxis\": {\"gridcolor\": \"white\", \"linecolor\": \"white\", \"ticks\": \"\"}}, \"scene\": {\"xaxis\": {\"backgroundcolor\": \"#E5ECF6\", \"gridcolor\": \"white\", \"gridwidth\": 2, \"linecolor\": \"white\", \"showbackground\": true, \"ticks\": \"\", \"zerolinecolor\": \"white\"}, \"yaxis\": {\"backgroundcolor\": \"#E5ECF6\", \"gridcolor\": \"white\", \"gridwidth\": 2, \"linecolor\": \"white\", \"showbackground\": true, \"ticks\": \"\", \"zerolinecolor\": \"white\"}, \"zaxis\": {\"backgroundcolor\": \"#E5ECF6\", \"gridcolor\": \"white\", \"gridwidth\": 2, \"linecolor\": \"white\", \"showbackground\": true, \"ticks\": \"\", \"zerolinecolor\": \"white\"}}, \"shapedefaults\": {\"line\": {\"color\": \"#2a3f5f\"}}, \"ternary\": {\"aaxis\": {\"gridcolor\": \"white\", \"linecolor\": \"white\", \"ticks\": \"\"}, \"baxis\": {\"gridcolor\": \"white\", \"linecolor\": \"white\", \"ticks\": \"\"}, \"bgcolor\": \"#E5ECF6\", \"caxis\": {\"gridcolor\": \"white\", \"linecolor\": \"white\", \"ticks\": \"\"}}, \"title\": {\"x\": 0.05}, \"xaxis\": {\"automargin\": true, \"gridcolor\": \"white\", \"linecolor\": \"white\", \"ticks\": \"\", \"zerolinecolor\": \"white\", \"zerolinewidth\": 2}, \"yaxis\": {\"automargin\": true, \"gridcolor\": \"white\", \"linecolor\": \"white\", \"ticks\": \"\", \"zerolinecolor\": \"white\", \"zerolinewidth\": 2}}}},\n",
       "                        {\"responsive\": true}\n",
       "                    ).then(function(){\n",
       "                            \n",
       "var gd = document.getElementById('e8d107ca-548d-4d07-ad11-f1b90688c1cd');\n",
       "var x = new MutationObserver(function (mutations, observer) {{\n",
       "        var display = window.getComputedStyle(gd).display;\n",
       "        if (!display || display === 'none') {{\n",
       "            console.log([gd, 'removed!']);\n",
       "            Plotly.purge(gd);\n",
       "            observer.disconnect();\n",
       "        }}\n",
       "}});\n",
       "\n",
       "// Listen for the removal of the full notebook cells\n",
       "var notebookContainer = gd.closest('#notebook-container');\n",
       "if (notebookContainer) {{\n",
       "    x.observe(notebookContainer, {childList: true});\n",
       "}}\n",
       "\n",
       "// Listen for the clearing of the current output cell\n",
       "var outputEl = gd.closest('.output');\n",
       "if (outputEl) {{\n",
       "    x.observe(outputEl, {childList: true});\n",
       "}}\n",
       "\n",
       "                        })\n",
       "                };\n",
       "                });\n",
       "            </script>\n",
       "        </div>"
      ]
     },
     "metadata": {},
     "output_type": "display_data"
    }
   ],
   "source": [
    "fig = go.Figure()\n",
    "fig.add_trace(go.Scatter(x = df['Intensidade_de_cor'], y = df['Alcool'], \n",
    "                        mode = 'markers',\n",
    "                        marker = dict(color = agrupador.labels_.astype(np.float)), \n",
    "                        text = labels))\n",
    "\n",
    "fig.show()"
   ]
  },
  {
   "cell_type": "code",
   "execution_count": 89,
   "id": "489c930f",
   "metadata": {},
   "outputs": [
    {
     "name": "stderr",
     "output_type": "stream",
     "text": [
      "C:\\Users\\Renato\\AppData\\Local\\Temp/ipykernel_9608/2163207207.py:7: DeprecationWarning:\n",
      "\n",
      "`np.float` is a deprecated alias for the builtin `float`. To silence this warning, use `float` by itself. Doing this will not modify any behavior and is safe. If you specifically wanted the numpy scalar type, use `np.float64` here.\n",
      "Deprecated in NumPy 1.20; for more details and guidance: https://numpy.org/devdocs/release/1.20.0-notes.html#deprecations\n",
      "\n"
     ]
    },
    {
     "data": {
      "application/vnd.plotly.v1+json": {
       "config": {
        "plotlyServerURL": "https://plot.ly"
       },
       "data": [
        {
         "marker": {
          "color": [
           1,
           1,
           1,
           1,
           1,
           1,
           1,
           1,
           1,
           1,
           1,
           1,
           1,
           1,
           1,
           1,
           1,
           1,
           1,
           1,
           1,
           1,
           1,
           1,
           1,
           1,
           1,
           1,
           1,
           1,
           1,
           1,
           1,
           1,
           1,
           1,
           1,
           1,
           1,
           1,
           1,
           1,
           1,
           1,
           1,
           1,
           1,
           1,
           1,
           1,
           1,
           1,
           1,
           1,
           1,
           1,
           1,
           1,
           1,
           0,
           0,
           0,
           0,
           0,
           0,
           0,
           0,
           0,
           0,
           0,
           0,
           0,
           0,
           1,
           0,
           0,
           0,
           0,
           0,
           0,
           0,
           0,
           0,
           2,
           0,
           0,
           0,
           0,
           0,
           0,
           0,
           0,
           0,
           0,
           0,
           0,
           0,
           0,
           0,
           0,
           0,
           0,
           0,
           0,
           0,
           0,
           0,
           0,
           0,
           0,
           0,
           0,
           0,
           0,
           0,
           0,
           0,
           0,
           0,
           0,
           0,
           0,
           0,
           0,
           0,
           0,
           0,
           0,
           0,
           0,
           2,
           2,
           2,
           2,
           2,
           2,
           2,
           2,
           2,
           2,
           2,
           2,
           2,
           2,
           2,
           2,
           2,
           2,
           2,
           2,
           2,
           2,
           2,
           2,
           2,
           2,
           2,
           2,
           2,
           2,
           2,
           2,
           2,
           2,
           2,
           2,
           2,
           2,
           2,
           2,
           2,
           2,
           2,
           2,
           2,
           2,
           2,
           2
          ]
         },
         "mode": "markers",
         "text": [
          1,
          1,
          1,
          1,
          1,
          1,
          1,
          1,
          1,
          1,
          1,
          1,
          1,
          1,
          1,
          1,
          1,
          1,
          1,
          1,
          1,
          1,
          1,
          1,
          1,
          1,
          1,
          1,
          1,
          1,
          1,
          1,
          1,
          1,
          1,
          1,
          1,
          1,
          1,
          1,
          1,
          1,
          1,
          1,
          1,
          1,
          1,
          1,
          1,
          1,
          1,
          1,
          1,
          1,
          1,
          1,
          1,
          1,
          1,
          0,
          0,
          0,
          0,
          0,
          0,
          0,
          0,
          0,
          0,
          0,
          0,
          0,
          0,
          1,
          0,
          0,
          0,
          0,
          0,
          0,
          0,
          0,
          0,
          2,
          0,
          0,
          0,
          0,
          0,
          0,
          0,
          0,
          0,
          0,
          0,
          0,
          0,
          0,
          0,
          0,
          0,
          0,
          0,
          0,
          0,
          0,
          0,
          0,
          0,
          0,
          0,
          0,
          0,
          0,
          0,
          0,
          0,
          0,
          0,
          0,
          0,
          0,
          0,
          0,
          0,
          0,
          0,
          0,
          0,
          0,
          2,
          2,
          2,
          2,
          2,
          2,
          2,
          2,
          2,
          2,
          2,
          2,
          2,
          2,
          2,
          2,
          2,
          2,
          2,
          2,
          2,
          2,
          2,
          2,
          2,
          2,
          2,
          2,
          2,
          2,
          2,
          2,
          2,
          2,
          2,
          2,
          2,
          2,
          2,
          2,
          2,
          2,
          2,
          2,
          2,
          2,
          2,
          2
         ],
         "type": "scatter3d",
         "x": [
          0.37201365187713303,
          0.26450511945392485,
          0.3754266211604095,
          0.5563139931740614,
          0.2593856655290102,
          0.46672354948805456,
          0.3387372013651877,
          0.3216723549488054,
          0.33447098976109213,
          0.5068259385665528,
          0.3813993174061433,
          0.31740614334470985,
          0.3686006825938566,
          0.3515358361774744,
          0.530716723549488,
          0.5136518771331058,
          0.4197952218430034,
          0.45392491467576784,
          0.6331058020477814,
          0.32593856655290093,
          0.3728668941979522,
          0.27474402730375425,
          0.21501706484641633,
          0.22610921501706485,
          0.19112627986348124,
          0.19624573378839588,
          0.3003412969283276,
          0.22781569965870305,
          0.27474402730375425,
          0.2918088737201365,
          0.37713310580204773,
          0.47952218430034127,
          0.21843003412969278,
          0.3515358361774744,
          0.24914675767918087,
          0.32593856655290093,
          0.28327645051194533,
          0.2534129692832764,
          0.20648464163822525,
          0.32593856655290093,
          0.41382252559726956,
          0.25597269624573377,
          0.3540955631399317,
          0.26279863481228666,
          0.3208191126279863,
          0.3378839590443686,
          0.30887372013651876,
          0.4112627986348122,
          0.4197952218430034,
          0.6501706484641638,
          0.5051194539249146,
          0.3686006825938566,
          0.4923208191126279,
          0.42832764505119447,
          0.3899317406143344,
          0.42406143344709896,
          0.43515358361774736,
          0.4027303754266211,
          0.4709897610921501,
          0.057167235494880536,
          0.1697952218430034,
          0.3813993174061433,
          0.21501706484641633,
          0.2704778156996587,
          0.14249146757679182,
          0.28327645051194533,
          0.3430034129692832,
          0.2901023890784982,
          0.16126279863481227,
          0.13395904436860068,
          0.1510238907849829,
          0.17918088737201363,
          0.2098976109215017,
          0.17662116040955633,
          0.16467576791808872,
          0.21501706484641633,
          0.28327645051194533,
          0.11689419795221842,
          0.18088737201365188,
          0.1100682593856655,
          0.10409556313993173,
          0.2235494880546075,
          0.07849829351535836,
          0.3003412969283276,
          0.1510238907849829,
          0.11433447098976109,
          0.09982935153583619,
          0.11262798634812286,
          0.1296928327645051,
          0.039249146757679175,
          0.09556313993174059,
          0.19795221843003413,
          0.1510238907849829,
          0.07423208191126278,
          0.16808873720136516,
          0.11262798634812286,
          0.10409556313993173,
          0.13822525597269622,
          0.27474402730375425,
          0.08703071672354946,
          0.1723549488054607,
          0.09982935153583619,
          0.1296928327645051,
          0.06655290102389079,
          0.1416382252559727,
          0.121160409556314,
          0.18088737201365188,
          0.1723549488054607,
          0.121160409556314,
          0.11689419795221842,
          0.13822525597269622,
          0.0614334470989761,
          0.21501706484641633,
          0.15358361774744028,
          0.13822525597269622,
          0.05290102389078497,
          0.057167235494880536,
          0.06655290102389079,
          0.18088737201365188,
          0,
          0.16808873720136516,
          0.4027303754266211,
          0.06825938566552901,
          0.11262798634812286,
          0.1296928327645051,
          0.12627986348122863,
          0.22696245733788395,
          0.14675767918088736,
          0.07167235494880546,
          0.11262798634812286,
          0.2406143344709897,
          0.3515358361774744,
          0.37713310580204773,
          0.31740614334470985,
          0.35580204778156993,
          0.49658703071672344,
          0.21928327645051196,
          0.31740614334470985,
          0.37713310580204773,
          0.31058020477815695,
          0.28327645051194533,
          0.3686006825938566,
          0.26194539249146753,
          0.26621160409556316,
          0.591296928327645,
          0.2320819112627986,
          0.30887372013651876,
          0.5435153583617747,
          0.6092150170648464,
          0.6928327645051195,
          0.6245733788395904,
          0.8122866894197953,
          0.49658703071672344,
          0.78839590443686,
          0.5392491467576791,
          0.5648464163822525,
          0.6595563139931739,
          0.530716723549488,
          1,
          0.893344709897611,
          0.5435153583617747,
          0.39249146757679176,
          0.3668941979522184,
          0.341296928327645,
          0.7081911262798635,
          0.4556313993174061,
          0.8020477815699658,
          0.7662116040955631,
          0.629692832764505,
          0.6160409556313993,
          0.3600682593856655,
          0.7354947952218429,
          0.7184300341296928,
          0.5477815699658702,
          0.5136518771331058,
          0.7610921501706485,
          0.6843003412969284,
          0.675767918088737
         ],
         "y": [
          0.8421052631578949,
          0.5710526315789473,
          0.5605263157894738,
          0.8789473684210525,
          0.5815789473684212,
          0.8342105263157893,
          0.8842105263157897,
          0.7973684210526317,
          1,
          0.744736842105263,
          0.8078947368421052,
          0.813157894736842,
          0.7157894736842105,
          0.9789473684210526,
          0.8815789473684212,
          0.6842105263157897,
          0.8605263157894739,
          0.736842105263158,
          0.831578947368421,
          0.686842105263158,
          0.7973684210526317,
          0.5,
          0.7052631578947371,
          0.4789473684210526,
          0.65,
          0.5315789473684213,
          0.6210526315789475,
          0.5973684210526318,
          0.7473684210526313,
          0.7868421052631578,
          0.7105263157894738,
          0.6710526315789475,
          0.6973684210526315,
          0.718421052631579,
          0.6526315789473685,
          0.6447368421052633,
          0.5921052631578946,
          0.5315789473684213,
          0.536842105263158,
          0.8394736842105265,
          0.6657894736842107,
          0.6263157894736843,
          0.7500000000000002,
          0.5815789473684212,
          0.5315789473684213,
          0.8368421052631582,
          0.8815789473684212,
          0.755263157894737,
          0.8078947368421052,
          0.7657894736842105,
          0.5315789473684213,
          0.736842105263158,
          0.7342105263157895,
          0.7210526315789473,
          0.7131578947368422,
          0.6657894736842107,
          0.8394736842105265,
          0.594736842105263,
          0.7078947368421055,
          0.3526315789473683,
          0.34210526315789486,
          0.42368421052631605,
          0.6947368421052632,
          0.3526315789473683,
          0.3000000000000001,
          0.3526315789473683,
          0.5473684210526315,
          0.3526315789473683,
          0.6078947368421053,
          0.31052631578947404,
          0.3315789473684209,
          0.744736842105263,
          0.6473684210526317,
          0.5157894736842107,
          0.2447368421052635,
          0.1657894736842107,
          0.5263157894736841,
          0.21315789473684219,
          0.34210526315789486,
          0.43947368421052624,
          0.25526315789473697,
          0.44473684210526343,
          0.27631578947368435,
          0.5315789473684213,
          0.21315789473684219,
          0.4315789473684211,
          0.2973684210526317,
          0.16315789473684233,
          0.16052631578947396,
          0.27631578947368435,
          0.27631578947368435,
          0.25526315789473697,
          0.43684210526315786,
          0.3315789473684209,
          0.15526315789473677,
          0.3789473684210529,
          0.2052631578947371,
          0.3315789473684209,
          0.3526315789473683,
          0.3315789473684209,
          0.27631578947368435,
          0.4131578947368421,
          0.34473684210526323,
          0.20789473684210547,
          0.38947368421052636,
          0.3657894736842106,
          0.3210526315789475,
          0.44473684210526343,
          0.31315789473684236,
          0.15263157894736842,
          0.11315789473684247,
          0.39210526315789473,
          0.1921052631578948,
          0.10000000000000019,
          0.27631578947368435,
          0,
          0.20789473684210547,
          0.3657894736842106,
          0.45789473684210524,
          0.25526315789473697,
          0.11052631578947364,
          0.13947368421052658,
          0.3657894736842106,
          0.5315789473684213,
          0.22105263157894728,
          0.273684210526316,
          0.368421052631579,
          0.1999999999999999,
          0.3526315789473683,
          0.2657894736842104,
          0.481578947368421,
          0.4868421052631582,
          0.4684210526315792,
          0.43947368421052624,
          0.38947368421052636,
          0.4131578947368421,
          0.3210526315789475,
          0.3947368421052631,
          0.6473684210526317,
          0.47631578947368425,
          0.5,
          0.613157894736842,
          0.6552631578947368,
          0.6815789473684208,
          0.3210526315789475,
          0.5605263157894738,
          0.7500000000000002,
          0.48421052631578937,
          0.6026315789473685,
          0.5394736842105264,
          0.65,
          0.46315789473684194,
          0.5473684210526315,
          0.5789473684210528,
          0.40789473684210537,
          0.5631578947368422,
          0.7394736842105263,
          0.3736842105263157,
          0.8710526315789473,
          0.6447368421052633,
          0.35,
          0.7,
          0.4789473684210526,
          0.5078947368421055,
          0.7236842105263157,
          0.7105263157894738,
          0.6368421052631578,
          0.4710526315789475,
          0.6710526315789475,
          0.623684210526316,
          0.30789473684210517,
          0.45789473684210524,
          0.8236842105263158,
          0.7052631578947371,
          0.623684210526316,
          0.5894736842105263,
          0.5631578947368422,
          0.8157894736842107
         ],
         "z": [
          0.5613409415121255,
          0.550641940085592,
          0.6469329529243937,
          0.8573466476462197,
          0.325962910128388,
          0.8359486447931527,
          0.7218259629101283,
          0.7253922967189729,
          0.5470756062767475,
          0.5470756062767475,
          0.8787446504992867,
          0.7146932952924394,
          0.7432239657631954,
          0.6219686162624821,
          0.9051355206847361,
          0.7360912981455064,
          0.7146932952924394,
          0.6077032810271041,
          1,
          0.4044222539229672,
          0.35805991440798857,
          0.3509272467902996,
          0.5399429386590585,
          0.5256776034236804,
          0.4044222539229672,
          0.39372325249643364,
          0.6540656205420827,
          0.7182596291012838,
          0.4543509272467903,
          0.5399429386590585,
          0.7182596291012838,
          0.8823109843081313,
          0.5078459343794579,
          0.6825962910128388,
          0.5827389443651926,
          0.4579172610556348,
          0.42938659058487877,
          0.5898716119828816,
          0.5292439372325249,
          0.3437945791726106,
          0.36875891583452214,
          0.5399429386590585,
          0.5827389443651926,
          0.2867332382310984,
          0.43295292439372324,
          0.572039942938659,
          0.5613409415121255,
          0.5042796005706134,
          0.557774607703281,
          0.7004279600570613,
          0.6219686162624821,
          0.7039942938659058,
          0.6504992867332382,
          0.782453637660485,
          0.557774607703281,
          0.6005706134094151,
          0.49358059914407987,
          0.7075606276747504,
          0.7182596291012838,
          0.17261055634807418,
          0.2867332382310984,
          0.12268188302425106,
          0.25106990014265335,
          0.10128388017118402,
          0.05492154065620542,
          0.28530670470756064,
          0.15977175463623394,
          0.16547788873038516,
          0.33666191155492153,
          0.31383737517831667,
          0.4222539229671897,
          0.09415121255349501,
          0.1383737517831669,
          0.5042796005706134,
          0.43366619115549215,
          0.10699001426533523,
          0.08131241084165478,
          0.15834522111269614,
          0.33666191155492153,
          0.13195435092724678,
          0,
          0.31098430813124106,
          0.25106990014265335,
          0.16904422253922968,
          0.17261055634807418,
          0.12268188302425106,
          0.15477888730385164,
          0.20256776034236804,
          0.2867332382310984,
          0.24750356633380885,
          0.14407988587731813,
          0.12268188302425106,
          0.15477888730385164,
          0.008559201141226819,
          0.04778887303851641,
          0.47004279600570614,
          0.24750356633380885,
          0.10699001426533523,
          0.2724679029957204,
          0.0912981455064194,
          0.30813124108416545,
          0.20256776034236804,
          0.11412268188302425,
          0.09771754636233952,
          0.2810271041369472,
          0.026390870185449358,
          0.16547788873038516,
          0.14978601997146934,
          0.024251069900142655,
          0.2867332382310984,
          0.20256776034236804,
          0.033523537803138374,
          0.2346647646219686,
          0.11126961483594865,
          0.07631954350927246,
          0.0920114122681883,
          0.15477888730385164,
          0.04778887303851641,
          0.06704707560627675,
          0.20399429386590584,
          0.24750356633380885,
          0.13338088445078458,
          0.062054208273894434,
          0.07275320970042796,
          0.07275320970042796,
          0.07132667617689016,
          0.052781740370898715,
          0.1340941512125535,
          0.0456490727532097,
          0.21540656205420827,
          0.25106990014265335,
          0.1797432239657632,
          0.20114122681883023,
          0.2296718972895863,
          0.2653352353780314,
          0.29743223965763194,
          0.3152639087018545,
          0.16904422253922968,
          0.21540656205420827,
          0.2225392296718973,
          0.2296718972895863,
          0.35805991440798857,
          0.17261055634807418,
          0.19400855920114124,
          0.4115549215406562,
          0.39372325249643364,
          0.09771754636233952,
          0.24750356633380885,
          0.2653352353780314,
          0.19400855920114124,
          0.15834522111269614,
          0.14407988587731813,
          0.10485021398002853,
          0.2831669044222539,
          0.2582025677603424,
          0.318830242510699,
          0.14407988587731813,
          0.42938659058487877,
          0.2724679029957204,
          0.24393723252496433,
          0.17261055634807418,
          0.2867332382310984,
          0.20827389443651925,
          0.2831669044222539,
          0.24037089871611983,
          0.17261055634807418,
          0.29743223965763194,
          0.29029957203994294,
          0.33666191155492153,
          0.25106990014265335,
          0.16547788873038516,
          0.1369472182596291,
          0.2724679029957204,
          0.32952924393723254,
          0.33666191155492153,
          0.39728958630527816,
          0.4008559201141227,
          0.20114122681883023
         ]
        }
       ],
       "layout": {
        "template": {
         "data": {
          "bar": [
           {
            "error_x": {
             "color": "#2a3f5f"
            },
            "error_y": {
             "color": "#2a3f5f"
            },
            "marker": {
             "line": {
              "color": "#E5ECF6",
              "width": 0.5
             }
            },
            "type": "bar"
           }
          ],
          "barpolar": [
           {
            "marker": {
             "line": {
              "color": "#E5ECF6",
              "width": 0.5
             }
            },
            "type": "barpolar"
           }
          ],
          "carpet": [
           {
            "aaxis": {
             "endlinecolor": "#2a3f5f",
             "gridcolor": "white",
             "linecolor": "white",
             "minorgridcolor": "white",
             "startlinecolor": "#2a3f5f"
            },
            "baxis": {
             "endlinecolor": "#2a3f5f",
             "gridcolor": "white",
             "linecolor": "white",
             "minorgridcolor": "white",
             "startlinecolor": "#2a3f5f"
            },
            "type": "carpet"
           }
          ],
          "choropleth": [
           {
            "colorbar": {
             "outlinewidth": 0,
             "ticks": ""
            },
            "type": "choropleth"
           }
          ],
          "contour": [
           {
            "colorbar": {
             "outlinewidth": 0,
             "ticks": ""
            },
            "colorscale": [
             [
              0,
              "#0d0887"
             ],
             [
              0.1111111111111111,
              "#46039f"
             ],
             [
              0.2222222222222222,
              "#7201a8"
             ],
             [
              0.3333333333333333,
              "#9c179e"
             ],
             [
              0.4444444444444444,
              "#bd3786"
             ],
             [
              0.5555555555555556,
              "#d8576b"
             ],
             [
              0.6666666666666666,
              "#ed7953"
             ],
             [
              0.7777777777777778,
              "#fb9f3a"
             ],
             [
              0.8888888888888888,
              "#fdca26"
             ],
             [
              1,
              "#f0f921"
             ]
            ],
            "type": "contour"
           }
          ],
          "contourcarpet": [
           {
            "colorbar": {
             "outlinewidth": 0,
             "ticks": ""
            },
            "type": "contourcarpet"
           }
          ],
          "heatmap": [
           {
            "colorbar": {
             "outlinewidth": 0,
             "ticks": ""
            },
            "colorscale": [
             [
              0,
              "#0d0887"
             ],
             [
              0.1111111111111111,
              "#46039f"
             ],
             [
              0.2222222222222222,
              "#7201a8"
             ],
             [
              0.3333333333333333,
              "#9c179e"
             ],
             [
              0.4444444444444444,
              "#bd3786"
             ],
             [
              0.5555555555555556,
              "#d8576b"
             ],
             [
              0.6666666666666666,
              "#ed7953"
             ],
             [
              0.7777777777777778,
              "#fb9f3a"
             ],
             [
              0.8888888888888888,
              "#fdca26"
             ],
             [
              1,
              "#f0f921"
             ]
            ],
            "type": "heatmap"
           }
          ],
          "heatmapgl": [
           {
            "colorbar": {
             "outlinewidth": 0,
             "ticks": ""
            },
            "colorscale": [
             [
              0,
              "#0d0887"
             ],
             [
              0.1111111111111111,
              "#46039f"
             ],
             [
              0.2222222222222222,
              "#7201a8"
             ],
             [
              0.3333333333333333,
              "#9c179e"
             ],
             [
              0.4444444444444444,
              "#bd3786"
             ],
             [
              0.5555555555555556,
              "#d8576b"
             ],
             [
              0.6666666666666666,
              "#ed7953"
             ],
             [
              0.7777777777777778,
              "#fb9f3a"
             ],
             [
              0.8888888888888888,
              "#fdca26"
             ],
             [
              1,
              "#f0f921"
             ]
            ],
            "type": "heatmapgl"
           }
          ],
          "histogram": [
           {
            "marker": {
             "colorbar": {
              "outlinewidth": 0,
              "ticks": ""
             }
            },
            "type": "histogram"
           }
          ],
          "histogram2d": [
           {
            "colorbar": {
             "outlinewidth": 0,
             "ticks": ""
            },
            "colorscale": [
             [
              0,
              "#0d0887"
             ],
             [
              0.1111111111111111,
              "#46039f"
             ],
             [
              0.2222222222222222,
              "#7201a8"
             ],
             [
              0.3333333333333333,
              "#9c179e"
             ],
             [
              0.4444444444444444,
              "#bd3786"
             ],
             [
              0.5555555555555556,
              "#d8576b"
             ],
             [
              0.6666666666666666,
              "#ed7953"
             ],
             [
              0.7777777777777778,
              "#fb9f3a"
             ],
             [
              0.8888888888888888,
              "#fdca26"
             ],
             [
              1,
              "#f0f921"
             ]
            ],
            "type": "histogram2d"
           }
          ],
          "histogram2dcontour": [
           {
            "colorbar": {
             "outlinewidth": 0,
             "ticks": ""
            },
            "colorscale": [
             [
              0,
              "#0d0887"
             ],
             [
              0.1111111111111111,
              "#46039f"
             ],
             [
              0.2222222222222222,
              "#7201a8"
             ],
             [
              0.3333333333333333,
              "#9c179e"
             ],
             [
              0.4444444444444444,
              "#bd3786"
             ],
             [
              0.5555555555555556,
              "#d8576b"
             ],
             [
              0.6666666666666666,
              "#ed7953"
             ],
             [
              0.7777777777777778,
              "#fb9f3a"
             ],
             [
              0.8888888888888888,
              "#fdca26"
             ],
             [
              1,
              "#f0f921"
             ]
            ],
            "type": "histogram2dcontour"
           }
          ],
          "mesh3d": [
           {
            "colorbar": {
             "outlinewidth": 0,
             "ticks": ""
            },
            "type": "mesh3d"
           }
          ],
          "parcoords": [
           {
            "line": {
             "colorbar": {
              "outlinewidth": 0,
              "ticks": ""
             }
            },
            "type": "parcoords"
           }
          ],
          "scatter": [
           {
            "marker": {
             "colorbar": {
              "outlinewidth": 0,
              "ticks": ""
             }
            },
            "type": "scatter"
           }
          ],
          "scatter3d": [
           {
            "line": {
             "colorbar": {
              "outlinewidth": 0,
              "ticks": ""
             }
            },
            "marker": {
             "colorbar": {
              "outlinewidth": 0,
              "ticks": ""
             }
            },
            "type": "scatter3d"
           }
          ],
          "scattercarpet": [
           {
            "marker": {
             "colorbar": {
              "outlinewidth": 0,
              "ticks": ""
             }
            },
            "type": "scattercarpet"
           }
          ],
          "scattergeo": [
           {
            "marker": {
             "colorbar": {
              "outlinewidth": 0,
              "ticks": ""
             }
            },
            "type": "scattergeo"
           }
          ],
          "scattergl": [
           {
            "marker": {
             "colorbar": {
              "outlinewidth": 0,
              "ticks": ""
             }
            },
            "type": "scattergl"
           }
          ],
          "scattermapbox": [
           {
            "marker": {
             "colorbar": {
              "outlinewidth": 0,
              "ticks": ""
             }
            },
            "type": "scattermapbox"
           }
          ],
          "scatterpolar": [
           {
            "marker": {
             "colorbar": {
              "outlinewidth": 0,
              "ticks": ""
             }
            },
            "type": "scatterpolar"
           }
          ],
          "scatterpolargl": [
           {
            "marker": {
             "colorbar": {
              "outlinewidth": 0,
              "ticks": ""
             }
            },
            "type": "scatterpolargl"
           }
          ],
          "scatterternary": [
           {
            "marker": {
             "colorbar": {
              "outlinewidth": 0,
              "ticks": ""
             }
            },
            "type": "scatterternary"
           }
          ],
          "surface": [
           {
            "colorbar": {
             "outlinewidth": 0,
             "ticks": ""
            },
            "colorscale": [
             [
              0,
              "#0d0887"
             ],
             [
              0.1111111111111111,
              "#46039f"
             ],
             [
              0.2222222222222222,
              "#7201a8"
             ],
             [
              0.3333333333333333,
              "#9c179e"
             ],
             [
              0.4444444444444444,
              "#bd3786"
             ],
             [
              0.5555555555555556,
              "#d8576b"
             ],
             [
              0.6666666666666666,
              "#ed7953"
             ],
             [
              0.7777777777777778,
              "#fb9f3a"
             ],
             [
              0.8888888888888888,
              "#fdca26"
             ],
             [
              1,
              "#f0f921"
             ]
            ],
            "type": "surface"
           }
          ],
          "table": [
           {
            "cells": {
             "fill": {
              "color": "#EBF0F8"
             },
             "line": {
              "color": "white"
             }
            },
            "header": {
             "fill": {
              "color": "#C8D4E3"
             },
             "line": {
              "color": "white"
             }
            },
            "type": "table"
           }
          ]
         },
         "layout": {
          "annotationdefaults": {
           "arrowcolor": "#2a3f5f",
           "arrowhead": 0,
           "arrowwidth": 1
          },
          "colorscale": {
           "diverging": [
            [
             0,
             "#8e0152"
            ],
            [
             0.1,
             "#c51b7d"
            ],
            [
             0.2,
             "#de77ae"
            ],
            [
             0.3,
             "#f1b6da"
            ],
            [
             0.4,
             "#fde0ef"
            ],
            [
             0.5,
             "#f7f7f7"
            ],
            [
             0.6,
             "#e6f5d0"
            ],
            [
             0.7,
             "#b8e186"
            ],
            [
             0.8,
             "#7fbc41"
            ],
            [
             0.9,
             "#4d9221"
            ],
            [
             1,
             "#276419"
            ]
           ],
           "sequential": [
            [
             0,
             "#0d0887"
            ],
            [
             0.1111111111111111,
             "#46039f"
            ],
            [
             0.2222222222222222,
             "#7201a8"
            ],
            [
             0.3333333333333333,
             "#9c179e"
            ],
            [
             0.4444444444444444,
             "#bd3786"
            ],
            [
             0.5555555555555556,
             "#d8576b"
            ],
            [
             0.6666666666666666,
             "#ed7953"
            ],
            [
             0.7777777777777778,
             "#fb9f3a"
            ],
            [
             0.8888888888888888,
             "#fdca26"
            ],
            [
             1,
             "#f0f921"
            ]
           ],
           "sequentialminus": [
            [
             0,
             "#0d0887"
            ],
            [
             0.1111111111111111,
             "#46039f"
            ],
            [
             0.2222222222222222,
             "#7201a8"
            ],
            [
             0.3333333333333333,
             "#9c179e"
            ],
            [
             0.4444444444444444,
             "#bd3786"
            ],
            [
             0.5555555555555556,
             "#d8576b"
            ],
            [
             0.6666666666666666,
             "#ed7953"
            ],
            [
             0.7777777777777778,
             "#fb9f3a"
            ],
            [
             0.8888888888888888,
             "#fdca26"
            ],
            [
             1,
             "#f0f921"
            ]
           ]
          },
          "colorway": [
           "#636efa",
           "#EF553B",
           "#00cc96",
           "#ab63fa",
           "#FFA15A",
           "#19d3f3",
           "#FF6692",
           "#B6E880",
           "#FF97FF",
           "#FECB52"
          ],
          "font": {
           "color": "#2a3f5f"
          },
          "geo": {
           "bgcolor": "white",
           "lakecolor": "white",
           "landcolor": "#E5ECF6",
           "showlakes": true,
           "showland": true,
           "subunitcolor": "white"
          },
          "hoverlabel": {
           "align": "left"
          },
          "hovermode": "closest",
          "mapbox": {
           "style": "light"
          },
          "paper_bgcolor": "white",
          "plot_bgcolor": "#E5ECF6",
          "polar": {
           "angularaxis": {
            "gridcolor": "white",
            "linecolor": "white",
            "ticks": ""
           },
           "bgcolor": "#E5ECF6",
           "radialaxis": {
            "gridcolor": "white",
            "linecolor": "white",
            "ticks": ""
           }
          },
          "scene": {
           "xaxis": {
            "backgroundcolor": "#E5ECF6",
            "gridcolor": "white",
            "gridwidth": 2,
            "linecolor": "white",
            "showbackground": true,
            "ticks": "",
            "zerolinecolor": "white"
           },
           "yaxis": {
            "backgroundcolor": "#E5ECF6",
            "gridcolor": "white",
            "gridwidth": 2,
            "linecolor": "white",
            "showbackground": true,
            "ticks": "",
            "zerolinecolor": "white"
           },
           "zaxis": {
            "backgroundcolor": "#E5ECF6",
            "gridcolor": "white",
            "gridwidth": 2,
            "linecolor": "white",
            "showbackground": true,
            "ticks": "",
            "zerolinecolor": "white"
           }
          },
          "shapedefaults": {
           "line": {
            "color": "#2a3f5f"
           }
          },
          "ternary": {
           "aaxis": {
            "gridcolor": "white",
            "linecolor": "white",
            "ticks": ""
           },
           "baxis": {
            "gridcolor": "white",
            "linecolor": "white",
            "ticks": ""
           },
           "bgcolor": "#E5ECF6",
           "caxis": {
            "gridcolor": "white",
            "linecolor": "white",
            "ticks": ""
           }
          },
          "title": {
           "x": 0.05
          },
          "xaxis": {
           "automargin": true,
           "gridcolor": "white",
           "linecolor": "white",
           "ticks": "",
           "zerolinecolor": "white",
           "zerolinewidth": 2
          },
          "yaxis": {
           "automargin": true,
           "gridcolor": "white",
           "linecolor": "white",
           "ticks": "",
           "zerolinecolor": "white",
           "zerolinewidth": 2
          }
         }
        }
       }
      },
      "text/html": [
       "<div>\n",
       "        \n",
       "        \n",
       "            <div id=\"a1991b00-3513-4a6b-9736-e34444ae01f0\" class=\"plotly-graph-div\" style=\"height:525px; width:100%;\"></div>\n",
       "            <script type=\"text/javascript\">\n",
       "                require([\"plotly\"], function(Plotly) {\n",
       "                    window.PLOTLYENV=window.PLOTLYENV || {};\n",
       "                    \n",
       "                if (document.getElementById(\"a1991b00-3513-4a6b-9736-e34444ae01f0\")) {\n",
       "                    Plotly.newPlot(\n",
       "                        'a1991b00-3513-4a6b-9736-e34444ae01f0',\n",
       "                        [{\"marker\": {\"color\": [1.0, 1.0, 1.0, 1.0, 1.0, 1.0, 1.0, 1.0, 1.0, 1.0, 1.0, 1.0, 1.0, 1.0, 1.0, 1.0, 1.0, 1.0, 1.0, 1.0, 1.0, 1.0, 1.0, 1.0, 1.0, 1.0, 1.0, 1.0, 1.0, 1.0, 1.0, 1.0, 1.0, 1.0, 1.0, 1.0, 1.0, 1.0, 1.0, 1.0, 1.0, 1.0, 1.0, 1.0, 1.0, 1.0, 1.0, 1.0, 1.0, 1.0, 1.0, 1.0, 1.0, 1.0, 1.0, 1.0, 1.0, 1.0, 1.0, 0.0, 0.0, 0.0, 0.0, 0.0, 0.0, 0.0, 0.0, 0.0, 0.0, 0.0, 0.0, 0.0, 0.0, 1.0, 0.0, 0.0, 0.0, 0.0, 0.0, 0.0, 0.0, 0.0, 0.0, 2.0, 0.0, 0.0, 0.0, 0.0, 0.0, 0.0, 0.0, 0.0, 0.0, 0.0, 0.0, 0.0, 0.0, 0.0, 0.0, 0.0, 0.0, 0.0, 0.0, 0.0, 0.0, 0.0, 0.0, 0.0, 0.0, 0.0, 0.0, 0.0, 0.0, 0.0, 0.0, 0.0, 0.0, 0.0, 0.0, 0.0, 0.0, 0.0, 0.0, 0.0, 0.0, 0.0, 0.0, 0.0, 0.0, 0.0, 2.0, 2.0, 2.0, 2.0, 2.0, 2.0, 2.0, 2.0, 2.0, 2.0, 2.0, 2.0, 2.0, 2.0, 2.0, 2.0, 2.0, 2.0, 2.0, 2.0, 2.0, 2.0, 2.0, 2.0, 2.0, 2.0, 2.0, 2.0, 2.0, 2.0, 2.0, 2.0, 2.0, 2.0, 2.0, 2.0, 2.0, 2.0, 2.0, 2.0, 2.0, 2.0, 2.0, 2.0, 2.0, 2.0, 2.0, 2.0]}, \"mode\": \"markers\", \"text\": [1.0, 1.0, 1.0, 1.0, 1.0, 1.0, 1.0, 1.0, 1.0, 1.0, 1.0, 1.0, 1.0, 1.0, 1.0, 1.0, 1.0, 1.0, 1.0, 1.0, 1.0, 1.0, 1.0, 1.0, 1.0, 1.0, 1.0, 1.0, 1.0, 1.0, 1.0, 1.0, 1.0, 1.0, 1.0, 1.0, 1.0, 1.0, 1.0, 1.0, 1.0, 1.0, 1.0, 1.0, 1.0, 1.0, 1.0, 1.0, 1.0, 1.0, 1.0, 1.0, 1.0, 1.0, 1.0, 1.0, 1.0, 1.0, 1.0, 0.0, 0.0, 0.0, 0.0, 0.0, 0.0, 0.0, 0.0, 0.0, 0.0, 0.0, 0.0, 0.0, 0.0, 1.0, 0.0, 0.0, 0.0, 0.0, 0.0, 0.0, 0.0, 0.0, 0.0, 2.0, 0.0, 0.0, 0.0, 0.0, 0.0, 0.0, 0.0, 0.0, 0.0, 0.0, 0.0, 0.0, 0.0, 0.0, 0.0, 0.0, 0.0, 0.0, 0.0, 0.0, 0.0, 0.0, 0.0, 0.0, 0.0, 0.0, 0.0, 0.0, 0.0, 0.0, 0.0, 0.0, 0.0, 0.0, 0.0, 0.0, 0.0, 0.0, 0.0, 0.0, 0.0, 0.0, 0.0, 0.0, 0.0, 0.0, 2.0, 2.0, 2.0, 2.0, 2.0, 2.0, 2.0, 2.0, 2.0, 2.0, 2.0, 2.0, 2.0, 2.0, 2.0, 2.0, 2.0, 2.0, 2.0, 2.0, 2.0, 2.0, 2.0, 2.0, 2.0, 2.0, 2.0, 2.0, 2.0, 2.0, 2.0, 2.0, 2.0, 2.0, 2.0, 2.0, 2.0, 2.0, 2.0, 2.0, 2.0, 2.0, 2.0, 2.0, 2.0, 2.0, 2.0, 2.0], \"type\": \"scatter3d\", \"x\": [0.37201365187713303, 0.26450511945392485, 0.3754266211604095, 0.5563139931740614, 0.2593856655290102, 0.46672354948805456, 0.3387372013651877, 0.3216723549488054, 0.33447098976109213, 0.5068259385665528, 0.3813993174061433, 0.31740614334470985, 0.3686006825938566, 0.3515358361774744, 0.530716723549488, 0.5136518771331058, 0.4197952218430034, 0.45392491467576784, 0.6331058020477814, 0.32593856655290093, 0.3728668941979522, 0.27474402730375425, 0.21501706484641633, 0.22610921501706485, 0.19112627986348124, 0.19624573378839588, 0.3003412969283276, 0.22781569965870305, 0.27474402730375425, 0.2918088737201365, 0.37713310580204773, 0.47952218430034127, 0.21843003412969278, 0.3515358361774744, 0.24914675767918087, 0.32593856655290093, 0.28327645051194533, 0.2534129692832764, 0.20648464163822525, 0.32593856655290093, 0.41382252559726956, 0.25597269624573377, 0.3540955631399317, 0.26279863481228666, 0.3208191126279863, 0.3378839590443686, 0.30887372013651876, 0.4112627986348122, 0.4197952218430034, 0.6501706484641638, 0.5051194539249146, 0.3686006825938566, 0.4923208191126279, 0.42832764505119447, 0.3899317406143344, 0.42406143344709896, 0.43515358361774736, 0.4027303754266211, 0.4709897610921501, 0.057167235494880536, 0.1697952218430034, 0.3813993174061433, 0.21501706484641633, 0.2704778156996587, 0.14249146757679182, 0.28327645051194533, 0.3430034129692832, 0.2901023890784982, 0.16126279863481227, 0.13395904436860068, 0.1510238907849829, 0.17918088737201363, 0.2098976109215017, 0.17662116040955633, 0.16467576791808872, 0.21501706484641633, 0.28327645051194533, 0.11689419795221842, 0.18088737201365188, 0.1100682593856655, 0.10409556313993173, 0.2235494880546075, 0.07849829351535836, 0.3003412969283276, 0.1510238907849829, 0.11433447098976109, 0.09982935153583619, 0.11262798634812286, 0.1296928327645051, 0.039249146757679175, 0.09556313993174059, 0.19795221843003413, 0.1510238907849829, 0.07423208191126278, 0.16808873720136516, 0.11262798634812286, 0.10409556313993173, 0.13822525597269622, 0.27474402730375425, 0.08703071672354946, 0.1723549488054607, 0.09982935153583619, 0.1296928327645051, 0.06655290102389079, 0.1416382252559727, 0.121160409556314, 0.18088737201365188, 0.1723549488054607, 0.121160409556314, 0.11689419795221842, 0.13822525597269622, 0.0614334470989761, 0.21501706484641633, 0.15358361774744028, 0.13822525597269622, 0.05290102389078497, 0.057167235494880536, 0.06655290102389079, 0.18088737201365188, 0.0, 0.16808873720136516, 0.4027303754266211, 0.06825938566552901, 0.11262798634812286, 0.1296928327645051, 0.12627986348122863, 0.22696245733788395, 0.14675767918088736, 0.07167235494880546, 0.11262798634812286, 0.2406143344709897, 0.3515358361774744, 0.37713310580204773, 0.31740614334470985, 0.35580204778156993, 0.49658703071672344, 0.21928327645051196, 0.31740614334470985, 0.37713310580204773, 0.31058020477815695, 0.28327645051194533, 0.3686006825938566, 0.26194539249146753, 0.26621160409556316, 0.591296928327645, 0.2320819112627986, 0.30887372013651876, 0.5435153583617747, 0.6092150170648464, 0.6928327645051195, 0.6245733788395904, 0.8122866894197953, 0.49658703071672344, 0.78839590443686, 0.5392491467576791, 0.5648464163822525, 0.6595563139931739, 0.530716723549488, 1.0, 0.893344709897611, 0.5435153583617747, 0.39249146757679176, 0.3668941979522184, 0.341296928327645, 0.7081911262798635, 0.4556313993174061, 0.8020477815699658, 0.7662116040955631, 0.629692832764505, 0.6160409556313993, 0.3600682593856655, 0.7354947952218429, 0.7184300341296928, 0.5477815699658702, 0.5136518771331058, 0.7610921501706485, 0.6843003412969284, 0.675767918088737], \"y\": [0.8421052631578949, 0.5710526315789473, 0.5605263157894738, 0.8789473684210525, 0.5815789473684212, 0.8342105263157893, 0.8842105263157897, 0.7973684210526317, 1.0, 0.744736842105263, 0.8078947368421052, 0.813157894736842, 0.7157894736842105, 0.9789473684210526, 0.8815789473684212, 0.6842105263157897, 0.8605263157894739, 0.736842105263158, 0.831578947368421, 0.686842105263158, 0.7973684210526317, 0.5, 0.7052631578947371, 0.4789473684210526, 0.65, 0.5315789473684213, 0.6210526315789475, 0.5973684210526318, 0.7473684210526313, 0.7868421052631578, 0.7105263157894738, 0.6710526315789475, 0.6973684210526315, 0.718421052631579, 0.6526315789473685, 0.6447368421052633, 0.5921052631578946, 0.5315789473684213, 0.536842105263158, 0.8394736842105265, 0.6657894736842107, 0.6263157894736843, 0.7500000000000002, 0.5815789473684212, 0.5315789473684213, 0.8368421052631582, 0.8815789473684212, 0.755263157894737, 0.8078947368421052, 0.7657894736842105, 0.5315789473684213, 0.736842105263158, 0.7342105263157895, 0.7210526315789473, 0.7131578947368422, 0.6657894736842107, 0.8394736842105265, 0.594736842105263, 0.7078947368421055, 0.3526315789473683, 0.34210526315789486, 0.42368421052631605, 0.6947368421052632, 0.3526315789473683, 0.3000000000000001, 0.3526315789473683, 0.5473684210526315, 0.3526315789473683, 0.6078947368421053, 0.31052631578947404, 0.3315789473684209, 0.744736842105263, 0.6473684210526317, 0.5157894736842107, 0.2447368421052635, 0.1657894736842107, 0.5263157894736841, 0.21315789473684219, 0.34210526315789486, 0.43947368421052624, 0.25526315789473697, 0.44473684210526343, 0.27631578947368435, 0.5315789473684213, 0.21315789473684219, 0.4315789473684211, 0.2973684210526317, 0.16315789473684233, 0.16052631578947396, 0.27631578947368435, 0.27631578947368435, 0.25526315789473697, 0.43684210526315786, 0.3315789473684209, 0.15526315789473677, 0.3789473684210529, 0.2052631578947371, 0.3315789473684209, 0.3526315789473683, 0.3315789473684209, 0.27631578947368435, 0.4131578947368421, 0.34473684210526323, 0.20789473684210547, 0.38947368421052636, 0.3657894736842106, 0.3210526315789475, 0.44473684210526343, 0.31315789473684236, 0.15263157894736842, 0.11315789473684247, 0.39210526315789473, 0.1921052631578948, 0.10000000000000019, 0.27631578947368435, 0.0, 0.20789473684210547, 0.3657894736842106, 0.45789473684210524, 0.25526315789473697, 0.11052631578947364, 0.13947368421052658, 0.3657894736842106, 0.5315789473684213, 0.22105263157894728, 0.273684210526316, 0.368421052631579, 0.1999999999999999, 0.3526315789473683, 0.2657894736842104, 0.481578947368421, 0.4868421052631582, 0.4684210526315792, 0.43947368421052624, 0.38947368421052636, 0.4131578947368421, 0.3210526315789475, 0.3947368421052631, 0.6473684210526317, 0.47631578947368425, 0.5, 0.613157894736842, 0.6552631578947368, 0.6815789473684208, 0.3210526315789475, 0.5605263157894738, 0.7500000000000002, 0.48421052631578937, 0.6026315789473685, 0.5394736842105264, 0.65, 0.46315789473684194, 0.5473684210526315, 0.5789473684210528, 0.40789473684210537, 0.5631578947368422, 0.7394736842105263, 0.3736842105263157, 0.8710526315789473, 0.6447368421052633, 0.35, 0.7, 0.4789473684210526, 0.5078947368421055, 0.7236842105263157, 0.7105263157894738, 0.6368421052631578, 0.4710526315789475, 0.6710526315789475, 0.623684210526316, 0.30789473684210517, 0.45789473684210524, 0.8236842105263158, 0.7052631578947371, 0.623684210526316, 0.5894736842105263, 0.5631578947368422, 0.8157894736842107], \"z\": [0.5613409415121255, 0.550641940085592, 0.6469329529243937, 0.8573466476462197, 0.325962910128388, 0.8359486447931527, 0.7218259629101283, 0.7253922967189729, 0.5470756062767475, 0.5470756062767475, 0.8787446504992867, 0.7146932952924394, 0.7432239657631954, 0.6219686162624821, 0.9051355206847361, 0.7360912981455064, 0.7146932952924394, 0.6077032810271041, 1.0, 0.4044222539229672, 0.35805991440798857, 0.3509272467902996, 0.5399429386590585, 0.5256776034236804, 0.4044222539229672, 0.39372325249643364, 0.6540656205420827, 0.7182596291012838, 0.4543509272467903, 0.5399429386590585, 0.7182596291012838, 0.8823109843081313, 0.5078459343794579, 0.6825962910128388, 0.5827389443651926, 0.4579172610556348, 0.42938659058487877, 0.5898716119828816, 0.5292439372325249, 0.3437945791726106, 0.36875891583452214, 0.5399429386590585, 0.5827389443651926, 0.2867332382310984, 0.43295292439372324, 0.572039942938659, 0.5613409415121255, 0.5042796005706134, 0.557774607703281, 0.7004279600570613, 0.6219686162624821, 0.7039942938659058, 0.6504992867332382, 0.782453637660485, 0.557774607703281, 0.6005706134094151, 0.49358059914407987, 0.7075606276747504, 0.7182596291012838, 0.17261055634807418, 0.2867332382310984, 0.12268188302425106, 0.25106990014265335, 0.10128388017118402, 0.05492154065620542, 0.28530670470756064, 0.15977175463623394, 0.16547788873038516, 0.33666191155492153, 0.31383737517831667, 0.4222539229671897, 0.09415121255349501, 0.1383737517831669, 0.5042796005706134, 0.43366619115549215, 0.10699001426533523, 0.08131241084165478, 0.15834522111269614, 0.33666191155492153, 0.13195435092724678, 0.0, 0.31098430813124106, 0.25106990014265335, 0.16904422253922968, 0.17261055634807418, 0.12268188302425106, 0.15477888730385164, 0.20256776034236804, 0.2867332382310984, 0.24750356633380885, 0.14407988587731813, 0.12268188302425106, 0.15477888730385164, 0.008559201141226819, 0.04778887303851641, 0.47004279600570614, 0.24750356633380885, 0.10699001426533523, 0.2724679029957204, 0.0912981455064194, 0.30813124108416545, 0.20256776034236804, 0.11412268188302425, 0.09771754636233952, 0.2810271041369472, 0.026390870185449358, 0.16547788873038516, 0.14978601997146934, 0.024251069900142655, 0.2867332382310984, 0.20256776034236804, 0.033523537803138374, 0.2346647646219686, 0.11126961483594865, 0.07631954350927246, 0.0920114122681883, 0.15477888730385164, 0.04778887303851641, 0.06704707560627675, 0.20399429386590584, 0.24750356633380885, 0.13338088445078458, 0.062054208273894434, 0.07275320970042796, 0.07275320970042796, 0.07132667617689016, 0.052781740370898715, 0.1340941512125535, 0.0456490727532097, 0.21540656205420827, 0.25106990014265335, 0.1797432239657632, 0.20114122681883023, 0.2296718972895863, 0.2653352353780314, 0.29743223965763194, 0.3152639087018545, 0.16904422253922968, 0.21540656205420827, 0.2225392296718973, 0.2296718972895863, 0.35805991440798857, 0.17261055634807418, 0.19400855920114124, 0.4115549215406562, 0.39372325249643364, 0.09771754636233952, 0.24750356633380885, 0.2653352353780314, 0.19400855920114124, 0.15834522111269614, 0.14407988587731813, 0.10485021398002853, 0.2831669044222539, 0.2582025677603424, 0.318830242510699, 0.14407988587731813, 0.42938659058487877, 0.2724679029957204, 0.24393723252496433, 0.17261055634807418, 0.2867332382310984, 0.20827389443651925, 0.2831669044222539, 0.24037089871611983, 0.17261055634807418, 0.29743223965763194, 0.29029957203994294, 0.33666191155492153, 0.25106990014265335, 0.16547788873038516, 0.1369472182596291, 0.2724679029957204, 0.32952924393723254, 0.33666191155492153, 0.39728958630527816, 0.4008559201141227, 0.20114122681883023]}],\n",
       "                        {\"template\": {\"data\": {\"bar\": [{\"error_x\": {\"color\": \"#2a3f5f\"}, \"error_y\": {\"color\": \"#2a3f5f\"}, \"marker\": {\"line\": {\"color\": \"#E5ECF6\", \"width\": 0.5}}, \"type\": \"bar\"}], \"barpolar\": [{\"marker\": {\"line\": {\"color\": \"#E5ECF6\", \"width\": 0.5}}, \"type\": \"barpolar\"}], \"carpet\": [{\"aaxis\": {\"endlinecolor\": \"#2a3f5f\", \"gridcolor\": \"white\", \"linecolor\": \"white\", \"minorgridcolor\": \"white\", \"startlinecolor\": \"#2a3f5f\"}, \"baxis\": {\"endlinecolor\": \"#2a3f5f\", \"gridcolor\": \"white\", \"linecolor\": \"white\", \"minorgridcolor\": \"white\", \"startlinecolor\": \"#2a3f5f\"}, \"type\": \"carpet\"}], \"choropleth\": [{\"colorbar\": {\"outlinewidth\": 0, \"ticks\": \"\"}, \"type\": \"choropleth\"}], \"contour\": [{\"colorbar\": {\"outlinewidth\": 0, \"ticks\": \"\"}, \"colorscale\": [[0.0, \"#0d0887\"], [0.1111111111111111, \"#46039f\"], [0.2222222222222222, \"#7201a8\"], [0.3333333333333333, \"#9c179e\"], [0.4444444444444444, \"#bd3786\"], [0.5555555555555556, \"#d8576b\"], [0.6666666666666666, \"#ed7953\"], [0.7777777777777778, \"#fb9f3a\"], [0.8888888888888888, \"#fdca26\"], [1.0, \"#f0f921\"]], \"type\": \"contour\"}], \"contourcarpet\": [{\"colorbar\": {\"outlinewidth\": 0, \"ticks\": \"\"}, \"type\": \"contourcarpet\"}], \"heatmap\": [{\"colorbar\": {\"outlinewidth\": 0, \"ticks\": \"\"}, \"colorscale\": [[0.0, \"#0d0887\"], [0.1111111111111111, \"#46039f\"], [0.2222222222222222, \"#7201a8\"], [0.3333333333333333, \"#9c179e\"], [0.4444444444444444, \"#bd3786\"], [0.5555555555555556, \"#d8576b\"], [0.6666666666666666, \"#ed7953\"], [0.7777777777777778, \"#fb9f3a\"], [0.8888888888888888, \"#fdca26\"], [1.0, \"#f0f921\"]], \"type\": \"heatmap\"}], \"heatmapgl\": [{\"colorbar\": {\"outlinewidth\": 0, \"ticks\": \"\"}, \"colorscale\": [[0.0, \"#0d0887\"], [0.1111111111111111, \"#46039f\"], [0.2222222222222222, \"#7201a8\"], [0.3333333333333333, \"#9c179e\"], [0.4444444444444444, \"#bd3786\"], [0.5555555555555556, \"#d8576b\"], [0.6666666666666666, \"#ed7953\"], [0.7777777777777778, \"#fb9f3a\"], [0.8888888888888888, \"#fdca26\"], [1.0, \"#f0f921\"]], \"type\": \"heatmapgl\"}], \"histogram\": [{\"marker\": {\"colorbar\": {\"outlinewidth\": 0, \"ticks\": \"\"}}, \"type\": \"histogram\"}], \"histogram2d\": [{\"colorbar\": {\"outlinewidth\": 0, \"ticks\": \"\"}, \"colorscale\": [[0.0, \"#0d0887\"], [0.1111111111111111, \"#46039f\"], [0.2222222222222222, \"#7201a8\"], [0.3333333333333333, \"#9c179e\"], [0.4444444444444444, \"#bd3786\"], [0.5555555555555556, \"#d8576b\"], [0.6666666666666666, \"#ed7953\"], [0.7777777777777778, \"#fb9f3a\"], [0.8888888888888888, \"#fdca26\"], [1.0, \"#f0f921\"]], \"type\": \"histogram2d\"}], \"histogram2dcontour\": [{\"colorbar\": {\"outlinewidth\": 0, \"ticks\": \"\"}, \"colorscale\": [[0.0, \"#0d0887\"], [0.1111111111111111, \"#46039f\"], [0.2222222222222222, \"#7201a8\"], [0.3333333333333333, \"#9c179e\"], [0.4444444444444444, \"#bd3786\"], [0.5555555555555556, \"#d8576b\"], [0.6666666666666666, \"#ed7953\"], [0.7777777777777778, \"#fb9f3a\"], [0.8888888888888888, \"#fdca26\"], [1.0, \"#f0f921\"]], \"type\": \"histogram2dcontour\"}], \"mesh3d\": [{\"colorbar\": {\"outlinewidth\": 0, \"ticks\": \"\"}, \"type\": \"mesh3d\"}], \"parcoords\": [{\"line\": {\"colorbar\": {\"outlinewidth\": 0, \"ticks\": \"\"}}, \"type\": \"parcoords\"}], \"scatter\": [{\"marker\": {\"colorbar\": {\"outlinewidth\": 0, \"ticks\": \"\"}}, \"type\": \"scatter\"}], \"scatter3d\": [{\"line\": {\"colorbar\": {\"outlinewidth\": 0, \"ticks\": \"\"}}, \"marker\": {\"colorbar\": {\"outlinewidth\": 0, \"ticks\": \"\"}}, \"type\": \"scatter3d\"}], \"scattercarpet\": [{\"marker\": {\"colorbar\": {\"outlinewidth\": 0, \"ticks\": \"\"}}, \"type\": \"scattercarpet\"}], \"scattergeo\": [{\"marker\": {\"colorbar\": {\"outlinewidth\": 0, \"ticks\": \"\"}}, \"type\": \"scattergeo\"}], \"scattergl\": [{\"marker\": {\"colorbar\": {\"outlinewidth\": 0, \"ticks\": \"\"}}, \"type\": \"scattergl\"}], \"scattermapbox\": [{\"marker\": {\"colorbar\": {\"outlinewidth\": 0, \"ticks\": \"\"}}, \"type\": \"scattermapbox\"}], \"scatterpolar\": [{\"marker\": {\"colorbar\": {\"outlinewidth\": 0, \"ticks\": \"\"}}, \"type\": \"scatterpolar\"}], \"scatterpolargl\": [{\"marker\": {\"colorbar\": {\"outlinewidth\": 0, \"ticks\": \"\"}}, \"type\": \"scatterpolargl\"}], \"scatterternary\": [{\"marker\": {\"colorbar\": {\"outlinewidth\": 0, \"ticks\": \"\"}}, \"type\": \"scatterternary\"}], \"surface\": [{\"colorbar\": {\"outlinewidth\": 0, \"ticks\": \"\"}, \"colorscale\": [[0.0, \"#0d0887\"], [0.1111111111111111, \"#46039f\"], [0.2222222222222222, \"#7201a8\"], [0.3333333333333333, \"#9c179e\"], [0.4444444444444444, \"#bd3786\"], [0.5555555555555556, \"#d8576b\"], [0.6666666666666666, \"#ed7953\"], [0.7777777777777778, \"#fb9f3a\"], [0.8888888888888888, \"#fdca26\"], [1.0, \"#f0f921\"]], \"type\": \"surface\"}], \"table\": [{\"cells\": {\"fill\": {\"color\": \"#EBF0F8\"}, \"line\": {\"color\": \"white\"}}, \"header\": {\"fill\": {\"color\": \"#C8D4E3\"}, \"line\": {\"color\": \"white\"}}, \"type\": \"table\"}]}, \"layout\": {\"annotationdefaults\": {\"arrowcolor\": \"#2a3f5f\", \"arrowhead\": 0, \"arrowwidth\": 1}, \"colorscale\": {\"diverging\": [[0, \"#8e0152\"], [0.1, \"#c51b7d\"], [0.2, \"#de77ae\"], [0.3, \"#f1b6da\"], [0.4, \"#fde0ef\"], [0.5, \"#f7f7f7\"], [0.6, \"#e6f5d0\"], [0.7, \"#b8e186\"], [0.8, \"#7fbc41\"], [0.9, \"#4d9221\"], [1, \"#276419\"]], \"sequential\": [[0.0, \"#0d0887\"], [0.1111111111111111, \"#46039f\"], [0.2222222222222222, \"#7201a8\"], [0.3333333333333333, \"#9c179e\"], [0.4444444444444444, \"#bd3786\"], [0.5555555555555556, \"#d8576b\"], [0.6666666666666666, \"#ed7953\"], [0.7777777777777778, \"#fb9f3a\"], [0.8888888888888888, \"#fdca26\"], [1.0, \"#f0f921\"]], \"sequentialminus\": [[0.0, \"#0d0887\"], [0.1111111111111111, \"#46039f\"], [0.2222222222222222, \"#7201a8\"], [0.3333333333333333, \"#9c179e\"], [0.4444444444444444, \"#bd3786\"], [0.5555555555555556, \"#d8576b\"], [0.6666666666666666, \"#ed7953\"], [0.7777777777777778, \"#fb9f3a\"], [0.8888888888888888, \"#fdca26\"], [1.0, \"#f0f921\"]]}, \"colorway\": [\"#636efa\", \"#EF553B\", \"#00cc96\", \"#ab63fa\", \"#FFA15A\", \"#19d3f3\", \"#FF6692\", \"#B6E880\", \"#FF97FF\", \"#FECB52\"], \"font\": {\"color\": \"#2a3f5f\"}, \"geo\": {\"bgcolor\": \"white\", \"lakecolor\": \"white\", \"landcolor\": \"#E5ECF6\", \"showlakes\": true, \"showland\": true, \"subunitcolor\": \"white\"}, \"hoverlabel\": {\"align\": \"left\"}, \"hovermode\": \"closest\", \"mapbox\": {\"style\": \"light\"}, \"paper_bgcolor\": \"white\", \"plot_bgcolor\": \"#E5ECF6\", \"polar\": {\"angularaxis\": {\"gridcolor\": \"white\", \"linecolor\": \"white\", \"ticks\": \"\"}, \"bgcolor\": \"#E5ECF6\", \"radialaxis\": {\"gridcolor\": \"white\", \"linecolor\": \"white\", \"ticks\": \"\"}}, \"scene\": {\"xaxis\": {\"backgroundcolor\": \"#E5ECF6\", \"gridcolor\": \"white\", \"gridwidth\": 2, \"linecolor\": \"white\", \"showbackground\": true, \"ticks\": \"\", \"zerolinecolor\": \"white\"}, \"yaxis\": {\"backgroundcolor\": \"#E5ECF6\", \"gridcolor\": \"white\", \"gridwidth\": 2, \"linecolor\": \"white\", \"showbackground\": true, \"ticks\": \"\", \"zerolinecolor\": \"white\"}, \"zaxis\": {\"backgroundcolor\": \"#E5ECF6\", \"gridcolor\": \"white\", \"gridwidth\": 2, \"linecolor\": \"white\", \"showbackground\": true, \"ticks\": \"\", \"zerolinecolor\": \"white\"}}, \"shapedefaults\": {\"line\": {\"color\": \"#2a3f5f\"}}, \"ternary\": {\"aaxis\": {\"gridcolor\": \"white\", \"linecolor\": \"white\", \"ticks\": \"\"}, \"baxis\": {\"gridcolor\": \"white\", \"linecolor\": \"white\", \"ticks\": \"\"}, \"bgcolor\": \"#E5ECF6\", \"caxis\": {\"gridcolor\": \"white\", \"linecolor\": \"white\", \"ticks\": \"\"}}, \"title\": {\"x\": 0.05}, \"xaxis\": {\"automargin\": true, \"gridcolor\": \"white\", \"linecolor\": \"white\", \"ticks\": \"\", \"zerolinecolor\": \"white\", \"zerolinewidth\": 2}, \"yaxis\": {\"automargin\": true, \"gridcolor\": \"white\", \"linecolor\": \"white\", \"ticks\": \"\", \"zerolinecolor\": \"white\", \"zerolinewidth\": 2}}}},\n",
       "                        {\"responsive\": true}\n",
       "                    ).then(function(){\n",
       "                            \n",
       "var gd = document.getElementById('a1991b00-3513-4a6b-9736-e34444ae01f0');\n",
       "var x = new MutationObserver(function (mutations, observer) {{\n",
       "        var display = window.getComputedStyle(gd).display;\n",
       "        if (!display || display === 'none') {{\n",
       "            console.log([gd, 'removed!']);\n",
       "            Plotly.purge(gd);\n",
       "            observer.disconnect();\n",
       "        }}\n",
       "}});\n",
       "\n",
       "// Listen for the removal of the full notebook cells\n",
       "var notebookContainer = gd.closest('#notebook-container');\n",
       "if (notebookContainer) {{\n",
       "    x.observe(notebookContainer, {childList: true});\n",
       "}}\n",
       "\n",
       "// Listen for the clearing of the current output cell\n",
       "var outputEl = gd.closest('.output');\n",
       "if (outputEl) {{\n",
       "    x.observe(outputEl, {childList: true});\n",
       "}}\n",
       "\n",
       "                        })\n",
       "                };\n",
       "                });\n",
       "            </script>\n",
       "        </div>"
      ]
     },
     "metadata": {},
     "output_type": "display_data"
    }
   ],
   "source": [
    "#plotando o grafico de 3d\n",
    "fig = go.Figure()\n",
    "fig.add_trace(go.Scatter3d(x = df['Intensidade_de_cor'], \n",
    "                           y = df['Alcool'],\n",
    "                           z = df['Proline'],\n",
    "                           mode = 'markers',\n",
    "                           marker = dict(color = agrupador.labels_.astype(np.float)), \n",
    "                           text = labels))\n",
    "\n",
    "fig.show()"
   ]
  },
  {
   "cell_type": "code",
   "execution_count": 90,
   "id": "24bafbf7",
   "metadata": {},
   "outputs": [
    {
     "data": {
      "application/vnd.plotly.v1+json": {
       "config": {
        "plotlyServerURL": "https://plot.ly"
       },
       "data": [
        {
         "marker": {
          "color": [
           1,
           1,
           1,
           1,
           1,
           1,
           1,
           1,
           1,
           1,
           1,
           1,
           1,
           1,
           1,
           1,
           1,
           1,
           1,
           1,
           1,
           1,
           1,
           1,
           1,
           1,
           1,
           1,
           1,
           1,
           1,
           1,
           1,
           1,
           1,
           1,
           1,
           1,
           1,
           1,
           1,
           1,
           1,
           1,
           1,
           1,
           1,
           1,
           1,
           1,
           1,
           1,
           1,
           1,
           1,
           1,
           1,
           1,
           1,
           0,
           0,
           0,
           0,
           0,
           0,
           0,
           0,
           0,
           0,
           0,
           0,
           0,
           0,
           1,
           0,
           0,
           0,
           0,
           0,
           0,
           0,
           0,
           0,
           2,
           0,
           0,
           0,
           0,
           0,
           0,
           0,
           0,
           0,
           0,
           0,
           0,
           0,
           0,
           0,
           0,
           0,
           0,
           0,
           0,
           0,
           0,
           0,
           0,
           0,
           0,
           0,
           0,
           0,
           0,
           0,
           0,
           0,
           0,
           0,
           0,
           0,
           0,
           0,
           0,
           0,
           0,
           0,
           0,
           0,
           0,
           2,
           2,
           2,
           2,
           2,
           2,
           2,
           2,
           2,
           2,
           2,
           2,
           2,
           2,
           2,
           2,
           2,
           2,
           2,
           2,
           2,
           2,
           2,
           2,
           2,
           2,
           2,
           2,
           2,
           2,
           2,
           2,
           2,
           2,
           2,
           2,
           2,
           2,
           2,
           2,
           2,
           2,
           2,
           2,
           2,
           2,
           2,
           2
          ]
         },
         "mode": "markers",
         "text": [
          1,
          1,
          1,
          1,
          1,
          1,
          1,
          1,
          1,
          1,
          1,
          1,
          1,
          1,
          1,
          1,
          1,
          1,
          1,
          1,
          1,
          1,
          1,
          1,
          1,
          1,
          1,
          1,
          1,
          1,
          1,
          1,
          1,
          1,
          1,
          1,
          1,
          1,
          1,
          1,
          1,
          1,
          1,
          1,
          1,
          1,
          1,
          1,
          1,
          1,
          1,
          1,
          1,
          1,
          1,
          1,
          1,
          1,
          1,
          0,
          0,
          0,
          0,
          0,
          0,
          0,
          0,
          0,
          0,
          0,
          0,
          0,
          0,
          1,
          0,
          0,
          0,
          0,
          0,
          0,
          0,
          0,
          0,
          2,
          0,
          0,
          0,
          0,
          0,
          0,
          0,
          0,
          0,
          0,
          0,
          0,
          0,
          0,
          0,
          0,
          0,
          0,
          0,
          0,
          0,
          0,
          0,
          0,
          0,
          0,
          0,
          0,
          0,
          0,
          0,
          0,
          0,
          0,
          0,
          0,
          0,
          0,
          0,
          0,
          0,
          0,
          0,
          0,
          0,
          0,
          2,
          2,
          2,
          2,
          2,
          2,
          2,
          2,
          2,
          2,
          2,
          2,
          2,
          2,
          2,
          2,
          2,
          2,
          2,
          2,
          2,
          2,
          2,
          2,
          2,
          2,
          2,
          2,
          2,
          2,
          2,
          2,
          2,
          2,
          2,
          2,
          2,
          2,
          2,
          2,
          2,
          2,
          2,
          2,
          2,
          2,
          2,
          2
         ],
         "type": "scatter3d",
         "x": [
          0.37201365187713303,
          0.26450511945392485,
          0.3754266211604095,
          0.5563139931740614,
          0.2593856655290102,
          0.46672354948805456,
          0.3387372013651877,
          0.3216723549488054,
          0.33447098976109213,
          0.5068259385665528,
          0.3813993174061433,
          0.31740614334470985,
          0.3686006825938566,
          0.3515358361774744,
          0.530716723549488,
          0.5136518771331058,
          0.4197952218430034,
          0.45392491467576784,
          0.6331058020477814,
          0.32593856655290093,
          0.3728668941979522,
          0.27474402730375425,
          0.21501706484641633,
          0.22610921501706485,
          0.19112627986348124,
          0.19624573378839588,
          0.3003412969283276,
          0.22781569965870305,
          0.27474402730375425,
          0.2918088737201365,
          0.37713310580204773,
          0.47952218430034127,
          0.21843003412969278,
          0.3515358361774744,
          0.24914675767918087,
          0.32593856655290093,
          0.28327645051194533,
          0.2534129692832764,
          0.20648464163822525,
          0.32593856655290093,
          0.41382252559726956,
          0.25597269624573377,
          0.3540955631399317,
          0.26279863481228666,
          0.3208191126279863,
          0.3378839590443686,
          0.30887372013651876,
          0.4112627986348122,
          0.4197952218430034,
          0.6501706484641638,
          0.5051194539249146,
          0.3686006825938566,
          0.4923208191126279,
          0.42832764505119447,
          0.3899317406143344,
          0.42406143344709896,
          0.43515358361774736,
          0.4027303754266211,
          0.4709897610921501,
          0.057167235494880536,
          0.1697952218430034,
          0.3813993174061433,
          0.21501706484641633,
          0.2704778156996587,
          0.14249146757679182,
          0.28327645051194533,
          0.3430034129692832,
          0.2901023890784982,
          0.16126279863481227,
          0.13395904436860068,
          0.1510238907849829,
          0.17918088737201363,
          0.2098976109215017,
          0.17662116040955633,
          0.16467576791808872,
          0.21501706484641633,
          0.28327645051194533,
          0.11689419795221842,
          0.18088737201365188,
          0.1100682593856655,
          0.10409556313993173,
          0.2235494880546075,
          0.07849829351535836,
          0.3003412969283276,
          0.1510238907849829,
          0.11433447098976109,
          0.09982935153583619,
          0.11262798634812286,
          0.1296928327645051,
          0.039249146757679175,
          0.09556313993174059,
          0.19795221843003413,
          0.1510238907849829,
          0.07423208191126278,
          0.16808873720136516,
          0.11262798634812286,
          0.10409556313993173,
          0.13822525597269622,
          0.27474402730375425,
          0.08703071672354946,
          0.1723549488054607,
          0.09982935153583619,
          0.1296928327645051,
          0.06655290102389079,
          0.1416382252559727,
          0.121160409556314,
          0.18088737201365188,
          0.1723549488054607,
          0.121160409556314,
          0.11689419795221842,
          0.13822525597269622,
          0.0614334470989761,
          0.21501706484641633,
          0.15358361774744028,
          0.13822525597269622,
          0.05290102389078497,
          0.057167235494880536,
          0.06655290102389079,
          0.18088737201365188,
          0,
          0.16808873720136516,
          0.4027303754266211,
          0.06825938566552901,
          0.11262798634812286,
          0.1296928327645051,
          0.12627986348122863,
          0.22696245733788395,
          0.14675767918088736,
          0.07167235494880546,
          0.11262798634812286,
          0.2406143344709897,
          0.3515358361774744,
          0.37713310580204773,
          0.31740614334470985,
          0.35580204778156993,
          0.49658703071672344,
          0.21928327645051196,
          0.31740614334470985,
          0.37713310580204773,
          0.31058020477815695,
          0.28327645051194533,
          0.3686006825938566,
          0.26194539249146753,
          0.26621160409556316,
          0.591296928327645,
          0.2320819112627986,
          0.30887372013651876,
          0.5435153583617747,
          0.6092150170648464,
          0.6928327645051195,
          0.6245733788395904,
          0.8122866894197953,
          0.49658703071672344,
          0.78839590443686,
          0.5392491467576791,
          0.5648464163822525,
          0.6595563139931739,
          0.530716723549488,
          1,
          0.893344709897611,
          0.5435153583617747,
          0.39249146757679176,
          0.3668941979522184,
          0.341296928327645,
          0.7081911262798635,
          0.4556313993174061,
          0.8020477815699658,
          0.7662116040955631,
          0.629692832764505,
          0.6160409556313993,
          0.3600682593856655,
          0.7354947952218429,
          0.7184300341296928,
          0.5477815699658702,
          0.5136518771331058,
          0.7610921501706485,
          0.6843003412969284,
          0.675767918088737
         ],
         "y": [
          0.8421052631578949,
          0.5710526315789473,
          0.5605263157894738,
          0.8789473684210525,
          0.5815789473684212,
          0.8342105263157893,
          0.8842105263157897,
          0.7973684210526317,
          1,
          0.744736842105263,
          0.8078947368421052,
          0.813157894736842,
          0.7157894736842105,
          0.9789473684210526,
          0.8815789473684212,
          0.6842105263157897,
          0.8605263157894739,
          0.736842105263158,
          0.831578947368421,
          0.686842105263158,
          0.7973684210526317,
          0.5,
          0.7052631578947371,
          0.4789473684210526,
          0.65,
          0.5315789473684213,
          0.6210526315789475,
          0.5973684210526318,
          0.7473684210526313,
          0.7868421052631578,
          0.7105263157894738,
          0.6710526315789475,
          0.6973684210526315,
          0.718421052631579,
          0.6526315789473685,
          0.6447368421052633,
          0.5921052631578946,
          0.5315789473684213,
          0.536842105263158,
          0.8394736842105265,
          0.6657894736842107,
          0.6263157894736843,
          0.7500000000000002,
          0.5815789473684212,
          0.5315789473684213,
          0.8368421052631582,
          0.8815789473684212,
          0.755263157894737,
          0.8078947368421052,
          0.7657894736842105,
          0.5315789473684213,
          0.736842105263158,
          0.7342105263157895,
          0.7210526315789473,
          0.7131578947368422,
          0.6657894736842107,
          0.8394736842105265,
          0.594736842105263,
          0.7078947368421055,
          0.3526315789473683,
          0.34210526315789486,
          0.42368421052631605,
          0.6947368421052632,
          0.3526315789473683,
          0.3000000000000001,
          0.3526315789473683,
          0.5473684210526315,
          0.3526315789473683,
          0.6078947368421053,
          0.31052631578947404,
          0.3315789473684209,
          0.744736842105263,
          0.6473684210526317,
          0.5157894736842107,
          0.2447368421052635,
          0.1657894736842107,
          0.5263157894736841,
          0.21315789473684219,
          0.34210526315789486,
          0.43947368421052624,
          0.25526315789473697,
          0.44473684210526343,
          0.27631578947368435,
          0.5315789473684213,
          0.21315789473684219,
          0.4315789473684211,
          0.2973684210526317,
          0.16315789473684233,
          0.16052631578947396,
          0.27631578947368435,
          0.27631578947368435,
          0.25526315789473697,
          0.43684210526315786,
          0.3315789473684209,
          0.15526315789473677,
          0.3789473684210529,
          0.2052631578947371,
          0.3315789473684209,
          0.3526315789473683,
          0.3315789473684209,
          0.27631578947368435,
          0.4131578947368421,
          0.34473684210526323,
          0.20789473684210547,
          0.38947368421052636,
          0.3657894736842106,
          0.3210526315789475,
          0.44473684210526343,
          0.31315789473684236,
          0.15263157894736842,
          0.11315789473684247,
          0.39210526315789473,
          0.1921052631578948,
          0.10000000000000019,
          0.27631578947368435,
          0,
          0.20789473684210547,
          0.3657894736842106,
          0.45789473684210524,
          0.25526315789473697,
          0.11052631578947364,
          0.13947368421052658,
          0.3657894736842106,
          0.5315789473684213,
          0.22105263157894728,
          0.273684210526316,
          0.368421052631579,
          0.1999999999999999,
          0.3526315789473683,
          0.2657894736842104,
          0.481578947368421,
          0.4868421052631582,
          0.4684210526315792,
          0.43947368421052624,
          0.38947368421052636,
          0.4131578947368421,
          0.3210526315789475,
          0.3947368421052631,
          0.6473684210526317,
          0.47631578947368425,
          0.5,
          0.613157894736842,
          0.6552631578947368,
          0.6815789473684208,
          0.3210526315789475,
          0.5605263157894738,
          0.7500000000000002,
          0.48421052631578937,
          0.6026315789473685,
          0.5394736842105264,
          0.65,
          0.46315789473684194,
          0.5473684210526315,
          0.5789473684210528,
          0.40789473684210537,
          0.5631578947368422,
          0.7394736842105263,
          0.3736842105263157,
          0.8710526315789473,
          0.6447368421052633,
          0.35,
          0.7,
          0.4789473684210526,
          0.5078947368421055,
          0.7236842105263157,
          0.7105263157894738,
          0.6368421052631578,
          0.4710526315789475,
          0.6710526315789475,
          0.623684210526316,
          0.30789473684210517,
          0.45789473684210524,
          0.8236842105263158,
          0.7052631578947371,
          0.623684210526316,
          0.5894736842105263,
          0.5631578947368422,
          0.8157894736842107
         ],
         "z": [
          0.5613409415121255,
          0.550641940085592,
          0.6469329529243937,
          0.8573466476462197,
          0.325962910128388,
          0.8359486447931527,
          0.7218259629101283,
          0.7253922967189729,
          0.5470756062767475,
          0.5470756062767475,
          0.8787446504992867,
          0.7146932952924394,
          0.7432239657631954,
          0.6219686162624821,
          0.9051355206847361,
          0.7360912981455064,
          0.7146932952924394,
          0.6077032810271041,
          1,
          0.4044222539229672,
          0.35805991440798857,
          0.3509272467902996,
          0.5399429386590585,
          0.5256776034236804,
          0.4044222539229672,
          0.39372325249643364,
          0.6540656205420827,
          0.7182596291012838,
          0.4543509272467903,
          0.5399429386590585,
          0.7182596291012838,
          0.8823109843081313,
          0.5078459343794579,
          0.6825962910128388,
          0.5827389443651926,
          0.4579172610556348,
          0.42938659058487877,
          0.5898716119828816,
          0.5292439372325249,
          0.3437945791726106,
          0.36875891583452214,
          0.5399429386590585,
          0.5827389443651926,
          0.2867332382310984,
          0.43295292439372324,
          0.572039942938659,
          0.5613409415121255,
          0.5042796005706134,
          0.557774607703281,
          0.7004279600570613,
          0.6219686162624821,
          0.7039942938659058,
          0.6504992867332382,
          0.782453637660485,
          0.557774607703281,
          0.6005706134094151,
          0.49358059914407987,
          0.7075606276747504,
          0.7182596291012838,
          0.17261055634807418,
          0.2867332382310984,
          0.12268188302425106,
          0.25106990014265335,
          0.10128388017118402,
          0.05492154065620542,
          0.28530670470756064,
          0.15977175463623394,
          0.16547788873038516,
          0.33666191155492153,
          0.31383737517831667,
          0.4222539229671897,
          0.09415121255349501,
          0.1383737517831669,
          0.5042796005706134,
          0.43366619115549215,
          0.10699001426533523,
          0.08131241084165478,
          0.15834522111269614,
          0.33666191155492153,
          0.13195435092724678,
          0,
          0.31098430813124106,
          0.25106990014265335,
          0.16904422253922968,
          0.17261055634807418,
          0.12268188302425106,
          0.15477888730385164,
          0.20256776034236804,
          0.2867332382310984,
          0.24750356633380885,
          0.14407988587731813,
          0.12268188302425106,
          0.15477888730385164,
          0.008559201141226819,
          0.04778887303851641,
          0.47004279600570614,
          0.24750356633380885,
          0.10699001426533523,
          0.2724679029957204,
          0.0912981455064194,
          0.30813124108416545,
          0.20256776034236804,
          0.11412268188302425,
          0.09771754636233952,
          0.2810271041369472,
          0.026390870185449358,
          0.16547788873038516,
          0.14978601997146934,
          0.024251069900142655,
          0.2867332382310984,
          0.20256776034236804,
          0.033523537803138374,
          0.2346647646219686,
          0.11126961483594865,
          0.07631954350927246,
          0.0920114122681883,
          0.15477888730385164,
          0.04778887303851641,
          0.06704707560627675,
          0.20399429386590584,
          0.24750356633380885,
          0.13338088445078458,
          0.062054208273894434,
          0.07275320970042796,
          0.07275320970042796,
          0.07132667617689016,
          0.052781740370898715,
          0.1340941512125535,
          0.0456490727532097,
          0.21540656205420827,
          0.25106990014265335,
          0.1797432239657632,
          0.20114122681883023,
          0.2296718972895863,
          0.2653352353780314,
          0.29743223965763194,
          0.3152639087018545,
          0.16904422253922968,
          0.21540656205420827,
          0.2225392296718973,
          0.2296718972895863,
          0.35805991440798857,
          0.17261055634807418,
          0.19400855920114124,
          0.4115549215406562,
          0.39372325249643364,
          0.09771754636233952,
          0.24750356633380885,
          0.2653352353780314,
          0.19400855920114124,
          0.15834522111269614,
          0.14407988587731813,
          0.10485021398002853,
          0.2831669044222539,
          0.2582025677603424,
          0.318830242510699,
          0.14407988587731813,
          0.42938659058487877,
          0.2724679029957204,
          0.24393723252496433,
          0.17261055634807418,
          0.2867332382310984,
          0.20827389443651925,
          0.2831669044222539,
          0.24037089871611983,
          0.17261055634807418,
          0.29743223965763194,
          0.29029957203994294,
          0.33666191155492153,
          0.25106990014265335,
          0.16547788873038516,
          0.1369472182596291,
          0.2724679029957204,
          0.32952924393723254,
          0.33666191155492153,
          0.39728958630527816,
          0.4008559201141227,
          0.20114122681883023
         ]
        }
       ],
       "layout": {
        "scene": {
         "xaxis": {
          "title": {
           "text": "Intesidade de cor"
          }
         },
         "yaxis": {
          "title": {
           "text": "Álcool"
          }
         },
         "zaxis": {
          "title": {
           "text": "Proline"
          }
         }
        },
        "template": {
         "data": {
          "bar": [
           {
            "error_x": {
             "color": "#2a3f5f"
            },
            "error_y": {
             "color": "#2a3f5f"
            },
            "marker": {
             "line": {
              "color": "#E5ECF6",
              "width": 0.5
             }
            },
            "type": "bar"
           }
          ],
          "barpolar": [
           {
            "marker": {
             "line": {
              "color": "#E5ECF6",
              "width": 0.5
             }
            },
            "type": "barpolar"
           }
          ],
          "carpet": [
           {
            "aaxis": {
             "endlinecolor": "#2a3f5f",
             "gridcolor": "white",
             "linecolor": "white",
             "minorgridcolor": "white",
             "startlinecolor": "#2a3f5f"
            },
            "baxis": {
             "endlinecolor": "#2a3f5f",
             "gridcolor": "white",
             "linecolor": "white",
             "minorgridcolor": "white",
             "startlinecolor": "#2a3f5f"
            },
            "type": "carpet"
           }
          ],
          "choropleth": [
           {
            "colorbar": {
             "outlinewidth": 0,
             "ticks": ""
            },
            "type": "choropleth"
           }
          ],
          "contour": [
           {
            "colorbar": {
             "outlinewidth": 0,
             "ticks": ""
            },
            "colorscale": [
             [
              0,
              "#0d0887"
             ],
             [
              0.1111111111111111,
              "#46039f"
             ],
             [
              0.2222222222222222,
              "#7201a8"
             ],
             [
              0.3333333333333333,
              "#9c179e"
             ],
             [
              0.4444444444444444,
              "#bd3786"
             ],
             [
              0.5555555555555556,
              "#d8576b"
             ],
             [
              0.6666666666666666,
              "#ed7953"
             ],
             [
              0.7777777777777778,
              "#fb9f3a"
             ],
             [
              0.8888888888888888,
              "#fdca26"
             ],
             [
              1,
              "#f0f921"
             ]
            ],
            "type": "contour"
           }
          ],
          "contourcarpet": [
           {
            "colorbar": {
             "outlinewidth": 0,
             "ticks": ""
            },
            "type": "contourcarpet"
           }
          ],
          "heatmap": [
           {
            "colorbar": {
             "outlinewidth": 0,
             "ticks": ""
            },
            "colorscale": [
             [
              0,
              "#0d0887"
             ],
             [
              0.1111111111111111,
              "#46039f"
             ],
             [
              0.2222222222222222,
              "#7201a8"
             ],
             [
              0.3333333333333333,
              "#9c179e"
             ],
             [
              0.4444444444444444,
              "#bd3786"
             ],
             [
              0.5555555555555556,
              "#d8576b"
             ],
             [
              0.6666666666666666,
              "#ed7953"
             ],
             [
              0.7777777777777778,
              "#fb9f3a"
             ],
             [
              0.8888888888888888,
              "#fdca26"
             ],
             [
              1,
              "#f0f921"
             ]
            ],
            "type": "heatmap"
           }
          ],
          "heatmapgl": [
           {
            "colorbar": {
             "outlinewidth": 0,
             "ticks": ""
            },
            "colorscale": [
             [
              0,
              "#0d0887"
             ],
             [
              0.1111111111111111,
              "#46039f"
             ],
             [
              0.2222222222222222,
              "#7201a8"
             ],
             [
              0.3333333333333333,
              "#9c179e"
             ],
             [
              0.4444444444444444,
              "#bd3786"
             ],
             [
              0.5555555555555556,
              "#d8576b"
             ],
             [
              0.6666666666666666,
              "#ed7953"
             ],
             [
              0.7777777777777778,
              "#fb9f3a"
             ],
             [
              0.8888888888888888,
              "#fdca26"
             ],
             [
              1,
              "#f0f921"
             ]
            ],
            "type": "heatmapgl"
           }
          ],
          "histogram": [
           {
            "marker": {
             "colorbar": {
              "outlinewidth": 0,
              "ticks": ""
             }
            },
            "type": "histogram"
           }
          ],
          "histogram2d": [
           {
            "colorbar": {
             "outlinewidth": 0,
             "ticks": ""
            },
            "colorscale": [
             [
              0,
              "#0d0887"
             ],
             [
              0.1111111111111111,
              "#46039f"
             ],
             [
              0.2222222222222222,
              "#7201a8"
             ],
             [
              0.3333333333333333,
              "#9c179e"
             ],
             [
              0.4444444444444444,
              "#bd3786"
             ],
             [
              0.5555555555555556,
              "#d8576b"
             ],
             [
              0.6666666666666666,
              "#ed7953"
             ],
             [
              0.7777777777777778,
              "#fb9f3a"
             ],
             [
              0.8888888888888888,
              "#fdca26"
             ],
             [
              1,
              "#f0f921"
             ]
            ],
            "type": "histogram2d"
           }
          ],
          "histogram2dcontour": [
           {
            "colorbar": {
             "outlinewidth": 0,
             "ticks": ""
            },
            "colorscale": [
             [
              0,
              "#0d0887"
             ],
             [
              0.1111111111111111,
              "#46039f"
             ],
             [
              0.2222222222222222,
              "#7201a8"
             ],
             [
              0.3333333333333333,
              "#9c179e"
             ],
             [
              0.4444444444444444,
              "#bd3786"
             ],
             [
              0.5555555555555556,
              "#d8576b"
             ],
             [
              0.6666666666666666,
              "#ed7953"
             ],
             [
              0.7777777777777778,
              "#fb9f3a"
             ],
             [
              0.8888888888888888,
              "#fdca26"
             ],
             [
              1,
              "#f0f921"
             ]
            ],
            "type": "histogram2dcontour"
           }
          ],
          "mesh3d": [
           {
            "colorbar": {
             "outlinewidth": 0,
             "ticks": ""
            },
            "type": "mesh3d"
           }
          ],
          "parcoords": [
           {
            "line": {
             "colorbar": {
              "outlinewidth": 0,
              "ticks": ""
             }
            },
            "type": "parcoords"
           }
          ],
          "scatter": [
           {
            "marker": {
             "colorbar": {
              "outlinewidth": 0,
              "ticks": ""
             }
            },
            "type": "scatter"
           }
          ],
          "scatter3d": [
           {
            "line": {
             "colorbar": {
              "outlinewidth": 0,
              "ticks": ""
             }
            },
            "marker": {
             "colorbar": {
              "outlinewidth": 0,
              "ticks": ""
             }
            },
            "type": "scatter3d"
           }
          ],
          "scattercarpet": [
           {
            "marker": {
             "colorbar": {
              "outlinewidth": 0,
              "ticks": ""
             }
            },
            "type": "scattercarpet"
           }
          ],
          "scattergeo": [
           {
            "marker": {
             "colorbar": {
              "outlinewidth": 0,
              "ticks": ""
             }
            },
            "type": "scattergeo"
           }
          ],
          "scattergl": [
           {
            "marker": {
             "colorbar": {
              "outlinewidth": 0,
              "ticks": ""
             }
            },
            "type": "scattergl"
           }
          ],
          "scattermapbox": [
           {
            "marker": {
             "colorbar": {
              "outlinewidth": 0,
              "ticks": ""
             }
            },
            "type": "scattermapbox"
           }
          ],
          "scatterpolar": [
           {
            "marker": {
             "colorbar": {
              "outlinewidth": 0,
              "ticks": ""
             }
            },
            "type": "scatterpolar"
           }
          ],
          "scatterpolargl": [
           {
            "marker": {
             "colorbar": {
              "outlinewidth": 0,
              "ticks": ""
             }
            },
            "type": "scatterpolargl"
           }
          ],
          "scatterternary": [
           {
            "marker": {
             "colorbar": {
              "outlinewidth": 0,
              "ticks": ""
             }
            },
            "type": "scatterternary"
           }
          ],
          "surface": [
           {
            "colorbar": {
             "outlinewidth": 0,
             "ticks": ""
            },
            "colorscale": [
             [
              0,
              "#0d0887"
             ],
             [
              0.1111111111111111,
              "#46039f"
             ],
             [
              0.2222222222222222,
              "#7201a8"
             ],
             [
              0.3333333333333333,
              "#9c179e"
             ],
             [
              0.4444444444444444,
              "#bd3786"
             ],
             [
              0.5555555555555556,
              "#d8576b"
             ],
             [
              0.6666666666666666,
              "#ed7953"
             ],
             [
              0.7777777777777778,
              "#fb9f3a"
             ],
             [
              0.8888888888888888,
              "#fdca26"
             ],
             [
              1,
              "#f0f921"
             ]
            ],
            "type": "surface"
           }
          ],
          "table": [
           {
            "cells": {
             "fill": {
              "color": "#EBF0F8"
             },
             "line": {
              "color": "white"
             }
            },
            "header": {
             "fill": {
              "color": "#C8D4E3"
             },
             "line": {
              "color": "white"
             }
            },
            "type": "table"
           }
          ]
         },
         "layout": {
          "annotationdefaults": {
           "arrowcolor": "#2a3f5f",
           "arrowhead": 0,
           "arrowwidth": 1
          },
          "colorscale": {
           "diverging": [
            [
             0,
             "#8e0152"
            ],
            [
             0.1,
             "#c51b7d"
            ],
            [
             0.2,
             "#de77ae"
            ],
            [
             0.3,
             "#f1b6da"
            ],
            [
             0.4,
             "#fde0ef"
            ],
            [
             0.5,
             "#f7f7f7"
            ],
            [
             0.6,
             "#e6f5d0"
            ],
            [
             0.7,
             "#b8e186"
            ],
            [
             0.8,
             "#7fbc41"
            ],
            [
             0.9,
             "#4d9221"
            ],
            [
             1,
             "#276419"
            ]
           ],
           "sequential": [
            [
             0,
             "#0d0887"
            ],
            [
             0.1111111111111111,
             "#46039f"
            ],
            [
             0.2222222222222222,
             "#7201a8"
            ],
            [
             0.3333333333333333,
             "#9c179e"
            ],
            [
             0.4444444444444444,
             "#bd3786"
            ],
            [
             0.5555555555555556,
             "#d8576b"
            ],
            [
             0.6666666666666666,
             "#ed7953"
            ],
            [
             0.7777777777777778,
             "#fb9f3a"
            ],
            [
             0.8888888888888888,
             "#fdca26"
            ],
            [
             1,
             "#f0f921"
            ]
           ],
           "sequentialminus": [
            [
             0,
             "#0d0887"
            ],
            [
             0.1111111111111111,
             "#46039f"
            ],
            [
             0.2222222222222222,
             "#7201a8"
            ],
            [
             0.3333333333333333,
             "#9c179e"
            ],
            [
             0.4444444444444444,
             "#bd3786"
            ],
            [
             0.5555555555555556,
             "#d8576b"
            ],
            [
             0.6666666666666666,
             "#ed7953"
            ],
            [
             0.7777777777777778,
             "#fb9f3a"
            ],
            [
             0.8888888888888888,
             "#fdca26"
            ],
            [
             1,
             "#f0f921"
            ]
           ]
          },
          "colorway": [
           "#636efa",
           "#EF553B",
           "#00cc96",
           "#ab63fa",
           "#FFA15A",
           "#19d3f3",
           "#FF6692",
           "#B6E880",
           "#FF97FF",
           "#FECB52"
          ],
          "font": {
           "color": "#2a3f5f"
          },
          "geo": {
           "bgcolor": "white",
           "lakecolor": "white",
           "landcolor": "#E5ECF6",
           "showlakes": true,
           "showland": true,
           "subunitcolor": "white"
          },
          "hoverlabel": {
           "align": "left"
          },
          "hovermode": "closest",
          "mapbox": {
           "style": "light"
          },
          "paper_bgcolor": "white",
          "plot_bgcolor": "#E5ECF6",
          "polar": {
           "angularaxis": {
            "gridcolor": "white",
            "linecolor": "white",
            "ticks": ""
           },
           "bgcolor": "#E5ECF6",
           "radialaxis": {
            "gridcolor": "white",
            "linecolor": "white",
            "ticks": ""
           }
          },
          "scene": {
           "xaxis": {
            "backgroundcolor": "#E5ECF6",
            "gridcolor": "white",
            "gridwidth": 2,
            "linecolor": "white",
            "showbackground": true,
            "ticks": "",
            "zerolinecolor": "white"
           },
           "yaxis": {
            "backgroundcolor": "#E5ECF6",
            "gridcolor": "white",
            "gridwidth": 2,
            "linecolor": "white",
            "showbackground": true,
            "ticks": "",
            "zerolinecolor": "white"
           },
           "zaxis": {
            "backgroundcolor": "#E5ECF6",
            "gridcolor": "white",
            "gridwidth": 2,
            "linecolor": "white",
            "showbackground": true,
            "ticks": "",
            "zerolinecolor": "white"
           }
          },
          "shapedefaults": {
           "line": {
            "color": "#2a3f5f"
           }
          },
          "ternary": {
           "aaxis": {
            "gridcolor": "white",
            "linecolor": "white",
            "ticks": ""
           },
           "baxis": {
            "gridcolor": "white",
            "linecolor": "white",
            "ticks": ""
           },
           "bgcolor": "#E5ECF6",
           "caxis": {
            "gridcolor": "white",
            "linecolor": "white",
            "ticks": ""
           }
          },
          "title": {
           "x": 0.05
          },
          "xaxis": {
           "automargin": true,
           "gridcolor": "white",
           "linecolor": "white",
           "ticks": "",
           "zerolinecolor": "white",
           "zerolinewidth": 2
          },
          "yaxis": {
           "automargin": true,
           "gridcolor": "white",
           "linecolor": "white",
           "ticks": "",
           "zerolinecolor": "white",
           "zerolinewidth": 2
          }
         }
        }
       }
      },
      "text/html": [
       "<div>\n",
       "        \n",
       "        \n",
       "            <div id=\"ce91b453-6cc3-4397-b341-a951e4b042b3\" class=\"plotly-graph-div\" style=\"height:525px; width:100%;\"></div>\n",
       "            <script type=\"text/javascript\">\n",
       "                require([\"plotly\"], function(Plotly) {\n",
       "                    window.PLOTLYENV=window.PLOTLYENV || {};\n",
       "                    \n",
       "                if (document.getElementById(\"ce91b453-6cc3-4397-b341-a951e4b042b3\")) {\n",
       "                    Plotly.newPlot(\n",
       "                        'ce91b453-6cc3-4397-b341-a951e4b042b3',\n",
       "                        [{\"marker\": {\"color\": [1.0, 1.0, 1.0, 1.0, 1.0, 1.0, 1.0, 1.0, 1.0, 1.0, 1.0, 1.0, 1.0, 1.0, 1.0, 1.0, 1.0, 1.0, 1.0, 1.0, 1.0, 1.0, 1.0, 1.0, 1.0, 1.0, 1.0, 1.0, 1.0, 1.0, 1.0, 1.0, 1.0, 1.0, 1.0, 1.0, 1.0, 1.0, 1.0, 1.0, 1.0, 1.0, 1.0, 1.0, 1.0, 1.0, 1.0, 1.0, 1.0, 1.0, 1.0, 1.0, 1.0, 1.0, 1.0, 1.0, 1.0, 1.0, 1.0, 0.0, 0.0, 0.0, 0.0, 0.0, 0.0, 0.0, 0.0, 0.0, 0.0, 0.0, 0.0, 0.0, 0.0, 1.0, 0.0, 0.0, 0.0, 0.0, 0.0, 0.0, 0.0, 0.0, 0.0, 2.0, 0.0, 0.0, 0.0, 0.0, 0.0, 0.0, 0.0, 0.0, 0.0, 0.0, 0.0, 0.0, 0.0, 0.0, 0.0, 0.0, 0.0, 0.0, 0.0, 0.0, 0.0, 0.0, 0.0, 0.0, 0.0, 0.0, 0.0, 0.0, 0.0, 0.0, 0.0, 0.0, 0.0, 0.0, 0.0, 0.0, 0.0, 0.0, 0.0, 0.0, 0.0, 0.0, 0.0, 0.0, 0.0, 0.0, 2.0, 2.0, 2.0, 2.0, 2.0, 2.0, 2.0, 2.0, 2.0, 2.0, 2.0, 2.0, 2.0, 2.0, 2.0, 2.0, 2.0, 2.0, 2.0, 2.0, 2.0, 2.0, 2.0, 2.0, 2.0, 2.0, 2.0, 2.0, 2.0, 2.0, 2.0, 2.0, 2.0, 2.0, 2.0, 2.0, 2.0, 2.0, 2.0, 2.0, 2.0, 2.0, 2.0, 2.0, 2.0, 2.0, 2.0, 2.0]}, \"mode\": \"markers\", \"text\": [1.0, 1.0, 1.0, 1.0, 1.0, 1.0, 1.0, 1.0, 1.0, 1.0, 1.0, 1.0, 1.0, 1.0, 1.0, 1.0, 1.0, 1.0, 1.0, 1.0, 1.0, 1.0, 1.0, 1.0, 1.0, 1.0, 1.0, 1.0, 1.0, 1.0, 1.0, 1.0, 1.0, 1.0, 1.0, 1.0, 1.0, 1.0, 1.0, 1.0, 1.0, 1.0, 1.0, 1.0, 1.0, 1.0, 1.0, 1.0, 1.0, 1.0, 1.0, 1.0, 1.0, 1.0, 1.0, 1.0, 1.0, 1.0, 1.0, 0.0, 0.0, 0.0, 0.0, 0.0, 0.0, 0.0, 0.0, 0.0, 0.0, 0.0, 0.0, 0.0, 0.0, 1.0, 0.0, 0.0, 0.0, 0.0, 0.0, 0.0, 0.0, 0.0, 0.0, 2.0, 0.0, 0.0, 0.0, 0.0, 0.0, 0.0, 0.0, 0.0, 0.0, 0.0, 0.0, 0.0, 0.0, 0.0, 0.0, 0.0, 0.0, 0.0, 0.0, 0.0, 0.0, 0.0, 0.0, 0.0, 0.0, 0.0, 0.0, 0.0, 0.0, 0.0, 0.0, 0.0, 0.0, 0.0, 0.0, 0.0, 0.0, 0.0, 0.0, 0.0, 0.0, 0.0, 0.0, 0.0, 0.0, 0.0, 2.0, 2.0, 2.0, 2.0, 2.0, 2.0, 2.0, 2.0, 2.0, 2.0, 2.0, 2.0, 2.0, 2.0, 2.0, 2.0, 2.0, 2.0, 2.0, 2.0, 2.0, 2.0, 2.0, 2.0, 2.0, 2.0, 2.0, 2.0, 2.0, 2.0, 2.0, 2.0, 2.0, 2.0, 2.0, 2.0, 2.0, 2.0, 2.0, 2.0, 2.0, 2.0, 2.0, 2.0, 2.0, 2.0, 2.0, 2.0], \"type\": \"scatter3d\", \"x\": [0.37201365187713303, 0.26450511945392485, 0.3754266211604095, 0.5563139931740614, 0.2593856655290102, 0.46672354948805456, 0.3387372013651877, 0.3216723549488054, 0.33447098976109213, 0.5068259385665528, 0.3813993174061433, 0.31740614334470985, 0.3686006825938566, 0.3515358361774744, 0.530716723549488, 0.5136518771331058, 0.4197952218430034, 0.45392491467576784, 0.6331058020477814, 0.32593856655290093, 0.3728668941979522, 0.27474402730375425, 0.21501706484641633, 0.22610921501706485, 0.19112627986348124, 0.19624573378839588, 0.3003412969283276, 0.22781569965870305, 0.27474402730375425, 0.2918088737201365, 0.37713310580204773, 0.47952218430034127, 0.21843003412969278, 0.3515358361774744, 0.24914675767918087, 0.32593856655290093, 0.28327645051194533, 0.2534129692832764, 0.20648464163822525, 0.32593856655290093, 0.41382252559726956, 0.25597269624573377, 0.3540955631399317, 0.26279863481228666, 0.3208191126279863, 0.3378839590443686, 0.30887372013651876, 0.4112627986348122, 0.4197952218430034, 0.6501706484641638, 0.5051194539249146, 0.3686006825938566, 0.4923208191126279, 0.42832764505119447, 0.3899317406143344, 0.42406143344709896, 0.43515358361774736, 0.4027303754266211, 0.4709897610921501, 0.057167235494880536, 0.1697952218430034, 0.3813993174061433, 0.21501706484641633, 0.2704778156996587, 0.14249146757679182, 0.28327645051194533, 0.3430034129692832, 0.2901023890784982, 0.16126279863481227, 0.13395904436860068, 0.1510238907849829, 0.17918088737201363, 0.2098976109215017, 0.17662116040955633, 0.16467576791808872, 0.21501706484641633, 0.28327645051194533, 0.11689419795221842, 0.18088737201365188, 0.1100682593856655, 0.10409556313993173, 0.2235494880546075, 0.07849829351535836, 0.3003412969283276, 0.1510238907849829, 0.11433447098976109, 0.09982935153583619, 0.11262798634812286, 0.1296928327645051, 0.039249146757679175, 0.09556313993174059, 0.19795221843003413, 0.1510238907849829, 0.07423208191126278, 0.16808873720136516, 0.11262798634812286, 0.10409556313993173, 0.13822525597269622, 0.27474402730375425, 0.08703071672354946, 0.1723549488054607, 0.09982935153583619, 0.1296928327645051, 0.06655290102389079, 0.1416382252559727, 0.121160409556314, 0.18088737201365188, 0.1723549488054607, 0.121160409556314, 0.11689419795221842, 0.13822525597269622, 0.0614334470989761, 0.21501706484641633, 0.15358361774744028, 0.13822525597269622, 0.05290102389078497, 0.057167235494880536, 0.06655290102389079, 0.18088737201365188, 0.0, 0.16808873720136516, 0.4027303754266211, 0.06825938566552901, 0.11262798634812286, 0.1296928327645051, 0.12627986348122863, 0.22696245733788395, 0.14675767918088736, 0.07167235494880546, 0.11262798634812286, 0.2406143344709897, 0.3515358361774744, 0.37713310580204773, 0.31740614334470985, 0.35580204778156993, 0.49658703071672344, 0.21928327645051196, 0.31740614334470985, 0.37713310580204773, 0.31058020477815695, 0.28327645051194533, 0.3686006825938566, 0.26194539249146753, 0.26621160409556316, 0.591296928327645, 0.2320819112627986, 0.30887372013651876, 0.5435153583617747, 0.6092150170648464, 0.6928327645051195, 0.6245733788395904, 0.8122866894197953, 0.49658703071672344, 0.78839590443686, 0.5392491467576791, 0.5648464163822525, 0.6595563139931739, 0.530716723549488, 1.0, 0.893344709897611, 0.5435153583617747, 0.39249146757679176, 0.3668941979522184, 0.341296928327645, 0.7081911262798635, 0.4556313993174061, 0.8020477815699658, 0.7662116040955631, 0.629692832764505, 0.6160409556313993, 0.3600682593856655, 0.7354947952218429, 0.7184300341296928, 0.5477815699658702, 0.5136518771331058, 0.7610921501706485, 0.6843003412969284, 0.675767918088737], \"y\": [0.8421052631578949, 0.5710526315789473, 0.5605263157894738, 0.8789473684210525, 0.5815789473684212, 0.8342105263157893, 0.8842105263157897, 0.7973684210526317, 1.0, 0.744736842105263, 0.8078947368421052, 0.813157894736842, 0.7157894736842105, 0.9789473684210526, 0.8815789473684212, 0.6842105263157897, 0.8605263157894739, 0.736842105263158, 0.831578947368421, 0.686842105263158, 0.7973684210526317, 0.5, 0.7052631578947371, 0.4789473684210526, 0.65, 0.5315789473684213, 0.6210526315789475, 0.5973684210526318, 0.7473684210526313, 0.7868421052631578, 0.7105263157894738, 0.6710526315789475, 0.6973684210526315, 0.718421052631579, 0.6526315789473685, 0.6447368421052633, 0.5921052631578946, 0.5315789473684213, 0.536842105263158, 0.8394736842105265, 0.6657894736842107, 0.6263157894736843, 0.7500000000000002, 0.5815789473684212, 0.5315789473684213, 0.8368421052631582, 0.8815789473684212, 0.755263157894737, 0.8078947368421052, 0.7657894736842105, 0.5315789473684213, 0.736842105263158, 0.7342105263157895, 0.7210526315789473, 0.7131578947368422, 0.6657894736842107, 0.8394736842105265, 0.594736842105263, 0.7078947368421055, 0.3526315789473683, 0.34210526315789486, 0.42368421052631605, 0.6947368421052632, 0.3526315789473683, 0.3000000000000001, 0.3526315789473683, 0.5473684210526315, 0.3526315789473683, 0.6078947368421053, 0.31052631578947404, 0.3315789473684209, 0.744736842105263, 0.6473684210526317, 0.5157894736842107, 0.2447368421052635, 0.1657894736842107, 0.5263157894736841, 0.21315789473684219, 0.34210526315789486, 0.43947368421052624, 0.25526315789473697, 0.44473684210526343, 0.27631578947368435, 0.5315789473684213, 0.21315789473684219, 0.4315789473684211, 0.2973684210526317, 0.16315789473684233, 0.16052631578947396, 0.27631578947368435, 0.27631578947368435, 0.25526315789473697, 0.43684210526315786, 0.3315789473684209, 0.15526315789473677, 0.3789473684210529, 0.2052631578947371, 0.3315789473684209, 0.3526315789473683, 0.3315789473684209, 0.27631578947368435, 0.4131578947368421, 0.34473684210526323, 0.20789473684210547, 0.38947368421052636, 0.3657894736842106, 0.3210526315789475, 0.44473684210526343, 0.31315789473684236, 0.15263157894736842, 0.11315789473684247, 0.39210526315789473, 0.1921052631578948, 0.10000000000000019, 0.27631578947368435, 0.0, 0.20789473684210547, 0.3657894736842106, 0.45789473684210524, 0.25526315789473697, 0.11052631578947364, 0.13947368421052658, 0.3657894736842106, 0.5315789473684213, 0.22105263157894728, 0.273684210526316, 0.368421052631579, 0.1999999999999999, 0.3526315789473683, 0.2657894736842104, 0.481578947368421, 0.4868421052631582, 0.4684210526315792, 0.43947368421052624, 0.38947368421052636, 0.4131578947368421, 0.3210526315789475, 0.3947368421052631, 0.6473684210526317, 0.47631578947368425, 0.5, 0.613157894736842, 0.6552631578947368, 0.6815789473684208, 0.3210526315789475, 0.5605263157894738, 0.7500000000000002, 0.48421052631578937, 0.6026315789473685, 0.5394736842105264, 0.65, 0.46315789473684194, 0.5473684210526315, 0.5789473684210528, 0.40789473684210537, 0.5631578947368422, 0.7394736842105263, 0.3736842105263157, 0.8710526315789473, 0.6447368421052633, 0.35, 0.7, 0.4789473684210526, 0.5078947368421055, 0.7236842105263157, 0.7105263157894738, 0.6368421052631578, 0.4710526315789475, 0.6710526315789475, 0.623684210526316, 0.30789473684210517, 0.45789473684210524, 0.8236842105263158, 0.7052631578947371, 0.623684210526316, 0.5894736842105263, 0.5631578947368422, 0.8157894736842107], \"z\": [0.5613409415121255, 0.550641940085592, 0.6469329529243937, 0.8573466476462197, 0.325962910128388, 0.8359486447931527, 0.7218259629101283, 0.7253922967189729, 0.5470756062767475, 0.5470756062767475, 0.8787446504992867, 0.7146932952924394, 0.7432239657631954, 0.6219686162624821, 0.9051355206847361, 0.7360912981455064, 0.7146932952924394, 0.6077032810271041, 1.0, 0.4044222539229672, 0.35805991440798857, 0.3509272467902996, 0.5399429386590585, 0.5256776034236804, 0.4044222539229672, 0.39372325249643364, 0.6540656205420827, 0.7182596291012838, 0.4543509272467903, 0.5399429386590585, 0.7182596291012838, 0.8823109843081313, 0.5078459343794579, 0.6825962910128388, 0.5827389443651926, 0.4579172610556348, 0.42938659058487877, 0.5898716119828816, 0.5292439372325249, 0.3437945791726106, 0.36875891583452214, 0.5399429386590585, 0.5827389443651926, 0.2867332382310984, 0.43295292439372324, 0.572039942938659, 0.5613409415121255, 0.5042796005706134, 0.557774607703281, 0.7004279600570613, 0.6219686162624821, 0.7039942938659058, 0.6504992867332382, 0.782453637660485, 0.557774607703281, 0.6005706134094151, 0.49358059914407987, 0.7075606276747504, 0.7182596291012838, 0.17261055634807418, 0.2867332382310984, 0.12268188302425106, 0.25106990014265335, 0.10128388017118402, 0.05492154065620542, 0.28530670470756064, 0.15977175463623394, 0.16547788873038516, 0.33666191155492153, 0.31383737517831667, 0.4222539229671897, 0.09415121255349501, 0.1383737517831669, 0.5042796005706134, 0.43366619115549215, 0.10699001426533523, 0.08131241084165478, 0.15834522111269614, 0.33666191155492153, 0.13195435092724678, 0.0, 0.31098430813124106, 0.25106990014265335, 0.16904422253922968, 0.17261055634807418, 0.12268188302425106, 0.15477888730385164, 0.20256776034236804, 0.2867332382310984, 0.24750356633380885, 0.14407988587731813, 0.12268188302425106, 0.15477888730385164, 0.008559201141226819, 0.04778887303851641, 0.47004279600570614, 0.24750356633380885, 0.10699001426533523, 0.2724679029957204, 0.0912981455064194, 0.30813124108416545, 0.20256776034236804, 0.11412268188302425, 0.09771754636233952, 0.2810271041369472, 0.026390870185449358, 0.16547788873038516, 0.14978601997146934, 0.024251069900142655, 0.2867332382310984, 0.20256776034236804, 0.033523537803138374, 0.2346647646219686, 0.11126961483594865, 0.07631954350927246, 0.0920114122681883, 0.15477888730385164, 0.04778887303851641, 0.06704707560627675, 0.20399429386590584, 0.24750356633380885, 0.13338088445078458, 0.062054208273894434, 0.07275320970042796, 0.07275320970042796, 0.07132667617689016, 0.052781740370898715, 0.1340941512125535, 0.0456490727532097, 0.21540656205420827, 0.25106990014265335, 0.1797432239657632, 0.20114122681883023, 0.2296718972895863, 0.2653352353780314, 0.29743223965763194, 0.3152639087018545, 0.16904422253922968, 0.21540656205420827, 0.2225392296718973, 0.2296718972895863, 0.35805991440798857, 0.17261055634807418, 0.19400855920114124, 0.4115549215406562, 0.39372325249643364, 0.09771754636233952, 0.24750356633380885, 0.2653352353780314, 0.19400855920114124, 0.15834522111269614, 0.14407988587731813, 0.10485021398002853, 0.2831669044222539, 0.2582025677603424, 0.318830242510699, 0.14407988587731813, 0.42938659058487877, 0.2724679029957204, 0.24393723252496433, 0.17261055634807418, 0.2867332382310984, 0.20827389443651925, 0.2831669044222539, 0.24037089871611983, 0.17261055634807418, 0.29743223965763194, 0.29029957203994294, 0.33666191155492153, 0.25106990014265335, 0.16547788873038516, 0.1369472182596291, 0.2724679029957204, 0.32952924393723254, 0.33666191155492153, 0.39728958630527816, 0.4008559201141227, 0.20114122681883023]}],\n",
       "                        {\"scene\": {\"xaxis\": {\"title\": {\"text\": \"Intesidade de cor\"}}, \"yaxis\": {\"title\": {\"text\": \"\\u00c1lcool\"}}, \"zaxis\": {\"title\": {\"text\": \"Proline\"}}}, \"template\": {\"data\": {\"bar\": [{\"error_x\": {\"color\": \"#2a3f5f\"}, \"error_y\": {\"color\": \"#2a3f5f\"}, \"marker\": {\"line\": {\"color\": \"#E5ECF6\", \"width\": 0.5}}, \"type\": \"bar\"}], \"barpolar\": [{\"marker\": {\"line\": {\"color\": \"#E5ECF6\", \"width\": 0.5}}, \"type\": \"barpolar\"}], \"carpet\": [{\"aaxis\": {\"endlinecolor\": \"#2a3f5f\", \"gridcolor\": \"white\", \"linecolor\": \"white\", \"minorgridcolor\": \"white\", \"startlinecolor\": \"#2a3f5f\"}, \"baxis\": {\"endlinecolor\": \"#2a3f5f\", \"gridcolor\": \"white\", \"linecolor\": \"white\", \"minorgridcolor\": \"white\", \"startlinecolor\": \"#2a3f5f\"}, \"type\": \"carpet\"}], \"choropleth\": [{\"colorbar\": {\"outlinewidth\": 0, \"ticks\": \"\"}, \"type\": \"choropleth\"}], \"contour\": [{\"colorbar\": {\"outlinewidth\": 0, \"ticks\": \"\"}, \"colorscale\": [[0.0, \"#0d0887\"], [0.1111111111111111, \"#46039f\"], [0.2222222222222222, \"#7201a8\"], [0.3333333333333333, \"#9c179e\"], [0.4444444444444444, \"#bd3786\"], [0.5555555555555556, \"#d8576b\"], [0.6666666666666666, \"#ed7953\"], [0.7777777777777778, \"#fb9f3a\"], [0.8888888888888888, \"#fdca26\"], [1.0, \"#f0f921\"]], \"type\": \"contour\"}], \"contourcarpet\": [{\"colorbar\": {\"outlinewidth\": 0, \"ticks\": \"\"}, \"type\": \"contourcarpet\"}], \"heatmap\": [{\"colorbar\": {\"outlinewidth\": 0, \"ticks\": \"\"}, \"colorscale\": [[0.0, \"#0d0887\"], [0.1111111111111111, \"#46039f\"], [0.2222222222222222, \"#7201a8\"], [0.3333333333333333, \"#9c179e\"], [0.4444444444444444, \"#bd3786\"], [0.5555555555555556, \"#d8576b\"], [0.6666666666666666, \"#ed7953\"], [0.7777777777777778, \"#fb9f3a\"], [0.8888888888888888, \"#fdca26\"], [1.0, \"#f0f921\"]], \"type\": \"heatmap\"}], \"heatmapgl\": [{\"colorbar\": {\"outlinewidth\": 0, \"ticks\": \"\"}, \"colorscale\": [[0.0, \"#0d0887\"], [0.1111111111111111, \"#46039f\"], [0.2222222222222222, \"#7201a8\"], [0.3333333333333333, \"#9c179e\"], [0.4444444444444444, \"#bd3786\"], [0.5555555555555556, \"#d8576b\"], [0.6666666666666666, \"#ed7953\"], [0.7777777777777778, \"#fb9f3a\"], [0.8888888888888888, \"#fdca26\"], [1.0, \"#f0f921\"]], \"type\": \"heatmapgl\"}], \"histogram\": [{\"marker\": {\"colorbar\": {\"outlinewidth\": 0, \"ticks\": \"\"}}, \"type\": \"histogram\"}], \"histogram2d\": [{\"colorbar\": {\"outlinewidth\": 0, \"ticks\": \"\"}, \"colorscale\": [[0.0, \"#0d0887\"], [0.1111111111111111, \"#46039f\"], [0.2222222222222222, \"#7201a8\"], [0.3333333333333333, \"#9c179e\"], [0.4444444444444444, \"#bd3786\"], [0.5555555555555556, \"#d8576b\"], [0.6666666666666666, \"#ed7953\"], [0.7777777777777778, \"#fb9f3a\"], [0.8888888888888888, \"#fdca26\"], [1.0, \"#f0f921\"]], \"type\": \"histogram2d\"}], \"histogram2dcontour\": [{\"colorbar\": {\"outlinewidth\": 0, \"ticks\": \"\"}, \"colorscale\": [[0.0, \"#0d0887\"], [0.1111111111111111, \"#46039f\"], [0.2222222222222222, \"#7201a8\"], [0.3333333333333333, \"#9c179e\"], [0.4444444444444444, \"#bd3786\"], [0.5555555555555556, \"#d8576b\"], [0.6666666666666666, \"#ed7953\"], [0.7777777777777778, \"#fb9f3a\"], [0.8888888888888888, \"#fdca26\"], [1.0, \"#f0f921\"]], \"type\": \"histogram2dcontour\"}], \"mesh3d\": [{\"colorbar\": {\"outlinewidth\": 0, \"ticks\": \"\"}, \"type\": \"mesh3d\"}], \"parcoords\": [{\"line\": {\"colorbar\": {\"outlinewidth\": 0, \"ticks\": \"\"}}, \"type\": \"parcoords\"}], \"scatter\": [{\"marker\": {\"colorbar\": {\"outlinewidth\": 0, \"ticks\": \"\"}}, \"type\": \"scatter\"}], \"scatter3d\": [{\"line\": {\"colorbar\": {\"outlinewidth\": 0, \"ticks\": \"\"}}, \"marker\": {\"colorbar\": {\"outlinewidth\": 0, \"ticks\": \"\"}}, \"type\": \"scatter3d\"}], \"scattercarpet\": [{\"marker\": {\"colorbar\": {\"outlinewidth\": 0, \"ticks\": \"\"}}, \"type\": \"scattercarpet\"}], \"scattergeo\": [{\"marker\": {\"colorbar\": {\"outlinewidth\": 0, \"ticks\": \"\"}}, \"type\": \"scattergeo\"}], \"scattergl\": [{\"marker\": {\"colorbar\": {\"outlinewidth\": 0, \"ticks\": \"\"}}, \"type\": \"scattergl\"}], \"scattermapbox\": [{\"marker\": {\"colorbar\": {\"outlinewidth\": 0, \"ticks\": \"\"}}, \"type\": \"scattermapbox\"}], \"scatterpolar\": [{\"marker\": {\"colorbar\": {\"outlinewidth\": 0, \"ticks\": \"\"}}, \"type\": \"scatterpolar\"}], \"scatterpolargl\": [{\"marker\": {\"colorbar\": {\"outlinewidth\": 0, \"ticks\": \"\"}}, \"type\": \"scatterpolargl\"}], \"scatterternary\": [{\"marker\": {\"colorbar\": {\"outlinewidth\": 0, \"ticks\": \"\"}}, \"type\": \"scatterternary\"}], \"surface\": [{\"colorbar\": {\"outlinewidth\": 0, \"ticks\": \"\"}, \"colorscale\": [[0.0, \"#0d0887\"], [0.1111111111111111, \"#46039f\"], [0.2222222222222222, \"#7201a8\"], [0.3333333333333333, \"#9c179e\"], [0.4444444444444444, \"#bd3786\"], [0.5555555555555556, \"#d8576b\"], [0.6666666666666666, \"#ed7953\"], [0.7777777777777778, \"#fb9f3a\"], [0.8888888888888888, \"#fdca26\"], [1.0, \"#f0f921\"]], \"type\": \"surface\"}], \"table\": [{\"cells\": {\"fill\": {\"color\": \"#EBF0F8\"}, \"line\": {\"color\": \"white\"}}, \"header\": {\"fill\": {\"color\": \"#C8D4E3\"}, \"line\": {\"color\": \"white\"}}, \"type\": \"table\"}]}, \"layout\": {\"annotationdefaults\": {\"arrowcolor\": \"#2a3f5f\", \"arrowhead\": 0, \"arrowwidth\": 1}, \"colorscale\": {\"diverging\": [[0, \"#8e0152\"], [0.1, \"#c51b7d\"], [0.2, \"#de77ae\"], [0.3, \"#f1b6da\"], [0.4, \"#fde0ef\"], [0.5, \"#f7f7f7\"], [0.6, \"#e6f5d0\"], [0.7, \"#b8e186\"], [0.8, \"#7fbc41\"], [0.9, \"#4d9221\"], [1, \"#276419\"]], \"sequential\": [[0.0, \"#0d0887\"], [0.1111111111111111, \"#46039f\"], [0.2222222222222222, \"#7201a8\"], [0.3333333333333333, \"#9c179e\"], [0.4444444444444444, \"#bd3786\"], [0.5555555555555556, \"#d8576b\"], [0.6666666666666666, \"#ed7953\"], [0.7777777777777778, \"#fb9f3a\"], [0.8888888888888888, \"#fdca26\"], [1.0, \"#f0f921\"]], \"sequentialminus\": [[0.0, \"#0d0887\"], [0.1111111111111111, \"#46039f\"], [0.2222222222222222, \"#7201a8\"], [0.3333333333333333, \"#9c179e\"], [0.4444444444444444, \"#bd3786\"], [0.5555555555555556, \"#d8576b\"], [0.6666666666666666, \"#ed7953\"], [0.7777777777777778, \"#fb9f3a\"], [0.8888888888888888, \"#fdca26\"], [1.0, \"#f0f921\"]]}, \"colorway\": [\"#636efa\", \"#EF553B\", \"#00cc96\", \"#ab63fa\", \"#FFA15A\", \"#19d3f3\", \"#FF6692\", \"#B6E880\", \"#FF97FF\", \"#FECB52\"], \"font\": {\"color\": \"#2a3f5f\"}, \"geo\": {\"bgcolor\": \"white\", \"lakecolor\": \"white\", \"landcolor\": \"#E5ECF6\", \"showlakes\": true, \"showland\": true, \"subunitcolor\": \"white\"}, \"hoverlabel\": {\"align\": \"left\"}, \"hovermode\": \"closest\", \"mapbox\": {\"style\": \"light\"}, \"paper_bgcolor\": \"white\", \"plot_bgcolor\": \"#E5ECF6\", \"polar\": {\"angularaxis\": {\"gridcolor\": \"white\", \"linecolor\": \"white\", \"ticks\": \"\"}, \"bgcolor\": \"#E5ECF6\", \"radialaxis\": {\"gridcolor\": \"white\", \"linecolor\": \"white\", \"ticks\": \"\"}}, \"scene\": {\"xaxis\": {\"backgroundcolor\": \"#E5ECF6\", \"gridcolor\": \"white\", \"gridwidth\": 2, \"linecolor\": \"white\", \"showbackground\": true, \"ticks\": \"\", \"zerolinecolor\": \"white\"}, \"yaxis\": {\"backgroundcolor\": \"#E5ECF6\", \"gridcolor\": \"white\", \"gridwidth\": 2, \"linecolor\": \"white\", \"showbackground\": true, \"ticks\": \"\", \"zerolinecolor\": \"white\"}, \"zaxis\": {\"backgroundcolor\": \"#E5ECF6\", \"gridcolor\": \"white\", \"gridwidth\": 2, \"linecolor\": \"white\", \"showbackground\": true, \"ticks\": \"\", \"zerolinecolor\": \"white\"}}, \"shapedefaults\": {\"line\": {\"color\": \"#2a3f5f\"}}, \"ternary\": {\"aaxis\": {\"gridcolor\": \"white\", \"linecolor\": \"white\", \"ticks\": \"\"}, \"baxis\": {\"gridcolor\": \"white\", \"linecolor\": \"white\", \"ticks\": \"\"}, \"bgcolor\": \"#E5ECF6\", \"caxis\": {\"gridcolor\": \"white\", \"linecolor\": \"white\", \"ticks\": \"\"}}, \"title\": {\"x\": 0.05}, \"xaxis\": {\"automargin\": true, \"gridcolor\": \"white\", \"linecolor\": \"white\", \"ticks\": \"\", \"zerolinecolor\": \"white\", \"zerolinewidth\": 2}, \"yaxis\": {\"automargin\": true, \"gridcolor\": \"white\", \"linecolor\": \"white\", \"ticks\": \"\", \"zerolinecolor\": \"white\", \"zerolinewidth\": 2}}}},\n",
       "                        {\"responsive\": true}\n",
       "                    ).then(function(){\n",
       "                            \n",
       "var gd = document.getElementById('ce91b453-6cc3-4397-b341-a951e4b042b3');\n",
       "var x = new MutationObserver(function (mutations, observer) {{\n",
       "        var display = window.getComputedStyle(gd).display;\n",
       "        if (!display || display === 'none') {{\n",
       "            console.log([gd, 'removed!']);\n",
       "            Plotly.purge(gd);\n",
       "            observer.disconnect();\n",
       "        }}\n",
       "}});\n",
       "\n",
       "// Listen for the removal of the full notebook cells\n",
       "var notebookContainer = gd.closest('#notebook-container');\n",
       "if (notebookContainer) {{\n",
       "    x.observe(notebookContainer, {childList: true});\n",
       "}}\n",
       "\n",
       "// Listen for the clearing of the current output cell\n",
       "var outputEl = gd.closest('.output');\n",
       "if (outputEl) {{\n",
       "    x.observe(outputEl, {childList: true});\n",
       "}}\n",
       "\n",
       "                        })\n",
       "                };\n",
       "                });\n",
       "            </script>\n",
       "        </div>"
      ]
     },
     "metadata": {},
     "output_type": "display_data"
    }
   ],
   "source": [
    "#renomeando os eixos e plotando novamente\n",
    "fig.update_layout(scene = dict(\n",
    "    xaxis_title = 'Intesidade de cor',\n",
    "    yaxis_title = 'Álcool',\n",
    "    zaxis_title = 'Proline'\n",
    "))\n",
    "fig.show()"
   ]
  },
  {
   "cell_type": "code",
   "execution_count": 91,
   "id": "b2beae36",
   "metadata": {},
   "outputs": [
    {
     "data": {
      "text/html": [
       "<div>\n",
       "<style scoped>\n",
       "    .dataframe tbody tr th:only-of-type {\n",
       "        vertical-align: middle;\n",
       "    }\n",
       "\n",
       "    .dataframe tbody tr th {\n",
       "        vertical-align: top;\n",
       "    }\n",
       "\n",
       "    .dataframe thead th {\n",
       "        text-align: right;\n",
       "    }\n",
       "</style>\n",
       "<table border=\"1\" class=\"dataframe\">\n",
       "  <thead>\n",
       "    <tr style=\"text-align: right;\">\n",
       "      <th></th>\n",
       "      <th>Alcool</th>\n",
       "      <th>Malic_Acid</th>\n",
       "      <th>Po</th>\n",
       "      <th>Alcalinidade_po</th>\n",
       "      <th>Magnesio</th>\n",
       "      <th>Total_Fenois</th>\n",
       "      <th>Flavanoids</th>\n",
       "      <th>Fenois_nao_flavalonoides</th>\n",
       "      <th>Proanthocyanins</th>\n",
       "      <th>Intensidade_de_cor</th>\n",
       "      <th>Hue</th>\n",
       "      <th>OD280</th>\n",
       "      <th>Proline</th>\n",
       "      <th>Customer_Segment</th>\n",
       "    </tr>\n",
       "  </thead>\n",
       "  <tbody>\n",
       "    <tr>\n",
       "      <th>0</th>\n",
       "      <td>0.322960</td>\n",
       "      <td>0.230939</td>\n",
       "      <td>0.469813</td>\n",
       "      <td>0.487823</td>\n",
       "      <td>0.261342</td>\n",
       "      <td>0.438831</td>\n",
       "      <td>0.366294</td>\n",
       "      <td>0.438337</td>\n",
       "      <td>0.383486</td>\n",
       "      <td>0.151704</td>\n",
       "      <td>0.468081</td>\n",
       "      <td>0.555396</td>\n",
       "      <td>0.167494</td>\n",
       "      <td>0.500000</td>\n",
       "    </tr>\n",
       "    <tr>\n",
       "      <th>1</th>\n",
       "      <td>0.711096</td>\n",
       "      <td>0.250000</td>\n",
       "      <td>0.587166</td>\n",
       "      <td>0.342955</td>\n",
       "      <td>0.400906</td>\n",
       "      <td>0.644080</td>\n",
       "      <td>0.557138</td>\n",
       "      <td>0.299371</td>\n",
       "      <td>0.470137</td>\n",
       "      <td>0.359386</td>\n",
       "      <td>0.476558</td>\n",
       "      <td>0.693590</td>\n",
       "      <td>0.595958</td>\n",
       "      <td>0.008333</td>\n",
       "    </tr>\n",
       "    <tr>\n",
       "      <th>2</th>\n",
       "      <td>0.558324</td>\n",
       "      <td>0.514721</td>\n",
       "      <td>0.574703</td>\n",
       "      <td>0.558700</td>\n",
       "      <td>0.315439</td>\n",
       "      <td>0.240746</td>\n",
       "      <td>0.096616</td>\n",
       "      <td>0.605314</td>\n",
       "      <td>0.237559</td>\n",
       "      <td>0.517343</td>\n",
       "      <td>0.167413</td>\n",
       "      <td>0.153921</td>\n",
       "      <td>0.249323</td>\n",
       "      <td>0.989796</td>\n",
       "    </tr>\n",
       "  </tbody>\n",
       "</table>\n",
       "</div>"
      ],
      "text/plain": [
       "     Alcool  Malic_Acid        Po  Alcalinidade_po  Magnesio  Total_Fenois  \\\n",
       "0  0.322960    0.230939  0.469813         0.487823  0.261342      0.438831   \n",
       "1  0.711096    0.250000  0.587166         0.342955  0.400906      0.644080   \n",
       "2  0.558324    0.514721  0.574703         0.558700  0.315439      0.240746   \n",
       "\n",
       "   Flavanoids  Fenois_nao_flavalonoides  Proanthocyanins  Intensidade_de_cor  \\\n",
       "0    0.366294                  0.438337         0.383486            0.151704   \n",
       "1    0.557138                  0.299371         0.470137            0.359386   \n",
       "2    0.096616                  0.605314         0.237559            0.517343   \n",
       "\n",
       "        Hue     OD280   Proline  Customer_Segment  \n",
       "0  0.468081  0.555396  0.167494          0.500000  \n",
       "1  0.476558  0.693590  0.595958          0.008333  \n",
       "2  0.167413  0.153921  0.249323          0.989796  "
      ]
     },
     "execution_count": 91,
     "metadata": {},
     "output_type": "execute_result"
    }
   ],
   "source": [
    "centros = pd.DataFrame(agrupador.cluster_centers_)\n",
    "centros.columns = colunas\n",
    "centros.head()"
   ]
  },
  {
   "cell_type": "code",
   "execution_count": 92,
   "id": "abf2cade",
   "metadata": {},
   "outputs": [
    {
     "data": {
      "application/vnd.plotly.v1+json": {
       "config": {
        "plotlyServerURL": "https://plot.ly"
       },
       "data": [
        {
         "marker": {
          "color": [
           1,
           1,
           1,
           1,
           1,
           1,
           1,
           1,
           1,
           1,
           1,
           1,
           1,
           1,
           1,
           1,
           1,
           1,
           1,
           1,
           1,
           1,
           1,
           1,
           1,
           1,
           1,
           1,
           1,
           1,
           1,
           1,
           1,
           1,
           1,
           1,
           1,
           1,
           1,
           1,
           1,
           1,
           1,
           1,
           1,
           1,
           1,
           1,
           1,
           1,
           1,
           1,
           1,
           1,
           1,
           1,
           1,
           1,
           1,
           0,
           0,
           0,
           0,
           0,
           0,
           0,
           0,
           0,
           0,
           0,
           0,
           0,
           0,
           1,
           0,
           0,
           0,
           0,
           0,
           0,
           0,
           0,
           0,
           2,
           0,
           0,
           0,
           0,
           0,
           0,
           0,
           0,
           0,
           0,
           0,
           0,
           0,
           0,
           0,
           0,
           0,
           0,
           0,
           0,
           0,
           0,
           0,
           0,
           0,
           0,
           0,
           0,
           0,
           0,
           0,
           0,
           0,
           0,
           0,
           0,
           0,
           0,
           0,
           0,
           0,
           0,
           0,
           0,
           0,
           0,
           2,
           2,
           2,
           2,
           2,
           2,
           2,
           2,
           2,
           2,
           2,
           2,
           2,
           2,
           2,
           2,
           2,
           2,
           2,
           2,
           2,
           2,
           2,
           2,
           2,
           2,
           2,
           2,
           2,
           2,
           2,
           2,
           2,
           2,
           2,
           2,
           2,
           2,
           2,
           2,
           2,
           2,
           2,
           2,
           2,
           2,
           2,
           2
          ]
         },
         "mode": "markers",
         "text": [
          1,
          1,
          1,
          1,
          1,
          1,
          1,
          1,
          1,
          1,
          1,
          1,
          1,
          1,
          1,
          1,
          1,
          1,
          1,
          1,
          1,
          1,
          1,
          1,
          1,
          1,
          1,
          1,
          1,
          1,
          1,
          1,
          1,
          1,
          1,
          1,
          1,
          1,
          1,
          1,
          1,
          1,
          1,
          1,
          1,
          1,
          1,
          1,
          1,
          1,
          1,
          1,
          1,
          1,
          1,
          1,
          1,
          1,
          1,
          0,
          0,
          0,
          0,
          0,
          0,
          0,
          0,
          0,
          0,
          0,
          0,
          0,
          0,
          1,
          0,
          0,
          0,
          0,
          0,
          0,
          0,
          0,
          0,
          2,
          0,
          0,
          0,
          0,
          0,
          0,
          0,
          0,
          0,
          0,
          0,
          0,
          0,
          0,
          0,
          0,
          0,
          0,
          0,
          0,
          0,
          0,
          0,
          0,
          0,
          0,
          0,
          0,
          0,
          0,
          0,
          0,
          0,
          0,
          0,
          0,
          0,
          0,
          0,
          0,
          0,
          0,
          0,
          0,
          0,
          0,
          2,
          2,
          2,
          2,
          2,
          2,
          2,
          2,
          2,
          2,
          2,
          2,
          2,
          2,
          2,
          2,
          2,
          2,
          2,
          2,
          2,
          2,
          2,
          2,
          2,
          2,
          2,
          2,
          2,
          2,
          2,
          2,
          2,
          2,
          2,
          2,
          2,
          2,
          2,
          2,
          2,
          2,
          2,
          2,
          2,
          2,
          2,
          2
         ],
         "type": "scatter3d",
         "x": [
          0.37201365187713303,
          0.26450511945392485,
          0.3754266211604095,
          0.5563139931740614,
          0.2593856655290102,
          0.46672354948805456,
          0.3387372013651877,
          0.3216723549488054,
          0.33447098976109213,
          0.5068259385665528,
          0.3813993174061433,
          0.31740614334470985,
          0.3686006825938566,
          0.3515358361774744,
          0.530716723549488,
          0.5136518771331058,
          0.4197952218430034,
          0.45392491467576784,
          0.6331058020477814,
          0.32593856655290093,
          0.3728668941979522,
          0.27474402730375425,
          0.21501706484641633,
          0.22610921501706485,
          0.19112627986348124,
          0.19624573378839588,
          0.3003412969283276,
          0.22781569965870305,
          0.27474402730375425,
          0.2918088737201365,
          0.37713310580204773,
          0.47952218430034127,
          0.21843003412969278,
          0.3515358361774744,
          0.24914675767918087,
          0.32593856655290093,
          0.28327645051194533,
          0.2534129692832764,
          0.20648464163822525,
          0.32593856655290093,
          0.41382252559726956,
          0.25597269624573377,
          0.3540955631399317,
          0.26279863481228666,
          0.3208191126279863,
          0.3378839590443686,
          0.30887372013651876,
          0.4112627986348122,
          0.4197952218430034,
          0.6501706484641638,
          0.5051194539249146,
          0.3686006825938566,
          0.4923208191126279,
          0.42832764505119447,
          0.3899317406143344,
          0.42406143344709896,
          0.43515358361774736,
          0.4027303754266211,
          0.4709897610921501,
          0.057167235494880536,
          0.1697952218430034,
          0.3813993174061433,
          0.21501706484641633,
          0.2704778156996587,
          0.14249146757679182,
          0.28327645051194533,
          0.3430034129692832,
          0.2901023890784982,
          0.16126279863481227,
          0.13395904436860068,
          0.1510238907849829,
          0.17918088737201363,
          0.2098976109215017,
          0.17662116040955633,
          0.16467576791808872,
          0.21501706484641633,
          0.28327645051194533,
          0.11689419795221842,
          0.18088737201365188,
          0.1100682593856655,
          0.10409556313993173,
          0.2235494880546075,
          0.07849829351535836,
          0.3003412969283276,
          0.1510238907849829,
          0.11433447098976109,
          0.09982935153583619,
          0.11262798634812286,
          0.1296928327645051,
          0.039249146757679175,
          0.09556313993174059,
          0.19795221843003413,
          0.1510238907849829,
          0.07423208191126278,
          0.16808873720136516,
          0.11262798634812286,
          0.10409556313993173,
          0.13822525597269622,
          0.27474402730375425,
          0.08703071672354946,
          0.1723549488054607,
          0.09982935153583619,
          0.1296928327645051,
          0.06655290102389079,
          0.1416382252559727,
          0.121160409556314,
          0.18088737201365188,
          0.1723549488054607,
          0.121160409556314,
          0.11689419795221842,
          0.13822525597269622,
          0.0614334470989761,
          0.21501706484641633,
          0.15358361774744028,
          0.13822525597269622,
          0.05290102389078497,
          0.057167235494880536,
          0.06655290102389079,
          0.18088737201365188,
          0,
          0.16808873720136516,
          0.4027303754266211,
          0.06825938566552901,
          0.11262798634812286,
          0.1296928327645051,
          0.12627986348122863,
          0.22696245733788395,
          0.14675767918088736,
          0.07167235494880546,
          0.11262798634812286,
          0.2406143344709897,
          0.3515358361774744,
          0.37713310580204773,
          0.31740614334470985,
          0.35580204778156993,
          0.49658703071672344,
          0.21928327645051196,
          0.31740614334470985,
          0.37713310580204773,
          0.31058020477815695,
          0.28327645051194533,
          0.3686006825938566,
          0.26194539249146753,
          0.26621160409556316,
          0.591296928327645,
          0.2320819112627986,
          0.30887372013651876,
          0.5435153583617747,
          0.6092150170648464,
          0.6928327645051195,
          0.6245733788395904,
          0.8122866894197953,
          0.49658703071672344,
          0.78839590443686,
          0.5392491467576791,
          0.5648464163822525,
          0.6595563139931739,
          0.530716723549488,
          1,
          0.893344709897611,
          0.5435153583617747,
          0.39249146757679176,
          0.3668941979522184,
          0.341296928327645,
          0.7081911262798635,
          0.4556313993174061,
          0.8020477815699658,
          0.7662116040955631,
          0.629692832764505,
          0.6160409556313993,
          0.3600682593856655,
          0.7354947952218429,
          0.7184300341296928,
          0.5477815699658702,
          0.5136518771331058,
          0.7610921501706485,
          0.6843003412969284,
          0.675767918088737
         ],
         "y": [
          0.8421052631578949,
          0.5710526315789473,
          0.5605263157894738,
          0.8789473684210525,
          0.5815789473684212,
          0.8342105263157893,
          0.8842105263157897,
          0.7973684210526317,
          1,
          0.744736842105263,
          0.8078947368421052,
          0.813157894736842,
          0.7157894736842105,
          0.9789473684210526,
          0.8815789473684212,
          0.6842105263157897,
          0.8605263157894739,
          0.736842105263158,
          0.831578947368421,
          0.686842105263158,
          0.7973684210526317,
          0.5,
          0.7052631578947371,
          0.4789473684210526,
          0.65,
          0.5315789473684213,
          0.6210526315789475,
          0.5973684210526318,
          0.7473684210526313,
          0.7868421052631578,
          0.7105263157894738,
          0.6710526315789475,
          0.6973684210526315,
          0.718421052631579,
          0.6526315789473685,
          0.6447368421052633,
          0.5921052631578946,
          0.5315789473684213,
          0.536842105263158,
          0.8394736842105265,
          0.6657894736842107,
          0.6263157894736843,
          0.7500000000000002,
          0.5815789473684212,
          0.5315789473684213,
          0.8368421052631582,
          0.8815789473684212,
          0.755263157894737,
          0.8078947368421052,
          0.7657894736842105,
          0.5315789473684213,
          0.736842105263158,
          0.7342105263157895,
          0.7210526315789473,
          0.7131578947368422,
          0.6657894736842107,
          0.8394736842105265,
          0.594736842105263,
          0.7078947368421055,
          0.3526315789473683,
          0.34210526315789486,
          0.42368421052631605,
          0.6947368421052632,
          0.3526315789473683,
          0.3000000000000001,
          0.3526315789473683,
          0.5473684210526315,
          0.3526315789473683,
          0.6078947368421053,
          0.31052631578947404,
          0.3315789473684209,
          0.744736842105263,
          0.6473684210526317,
          0.5157894736842107,
          0.2447368421052635,
          0.1657894736842107,
          0.5263157894736841,
          0.21315789473684219,
          0.34210526315789486,
          0.43947368421052624,
          0.25526315789473697,
          0.44473684210526343,
          0.27631578947368435,
          0.5315789473684213,
          0.21315789473684219,
          0.4315789473684211,
          0.2973684210526317,
          0.16315789473684233,
          0.16052631578947396,
          0.27631578947368435,
          0.27631578947368435,
          0.25526315789473697,
          0.43684210526315786,
          0.3315789473684209,
          0.15526315789473677,
          0.3789473684210529,
          0.2052631578947371,
          0.3315789473684209,
          0.3526315789473683,
          0.3315789473684209,
          0.27631578947368435,
          0.4131578947368421,
          0.34473684210526323,
          0.20789473684210547,
          0.38947368421052636,
          0.3657894736842106,
          0.3210526315789475,
          0.44473684210526343,
          0.31315789473684236,
          0.15263157894736842,
          0.11315789473684247,
          0.39210526315789473,
          0.1921052631578948,
          0.10000000000000019,
          0.27631578947368435,
          0,
          0.20789473684210547,
          0.3657894736842106,
          0.45789473684210524,
          0.25526315789473697,
          0.11052631578947364,
          0.13947368421052658,
          0.3657894736842106,
          0.5315789473684213,
          0.22105263157894728,
          0.273684210526316,
          0.368421052631579,
          0.1999999999999999,
          0.3526315789473683,
          0.2657894736842104,
          0.481578947368421,
          0.4868421052631582,
          0.4684210526315792,
          0.43947368421052624,
          0.38947368421052636,
          0.4131578947368421,
          0.3210526315789475,
          0.3947368421052631,
          0.6473684210526317,
          0.47631578947368425,
          0.5,
          0.613157894736842,
          0.6552631578947368,
          0.6815789473684208,
          0.3210526315789475,
          0.5605263157894738,
          0.7500000000000002,
          0.48421052631578937,
          0.6026315789473685,
          0.5394736842105264,
          0.65,
          0.46315789473684194,
          0.5473684210526315,
          0.5789473684210528,
          0.40789473684210537,
          0.5631578947368422,
          0.7394736842105263,
          0.3736842105263157,
          0.8710526315789473,
          0.6447368421052633,
          0.35,
          0.7,
          0.4789473684210526,
          0.5078947368421055,
          0.7236842105263157,
          0.7105263157894738,
          0.6368421052631578,
          0.4710526315789475,
          0.6710526315789475,
          0.623684210526316,
          0.30789473684210517,
          0.45789473684210524,
          0.8236842105263158,
          0.7052631578947371,
          0.623684210526316,
          0.5894736842105263,
          0.5631578947368422,
          0.8157894736842107
         ],
         "z": [
          0.5613409415121255,
          0.550641940085592,
          0.6469329529243937,
          0.8573466476462197,
          0.325962910128388,
          0.8359486447931527,
          0.7218259629101283,
          0.7253922967189729,
          0.5470756062767475,
          0.5470756062767475,
          0.8787446504992867,
          0.7146932952924394,
          0.7432239657631954,
          0.6219686162624821,
          0.9051355206847361,
          0.7360912981455064,
          0.7146932952924394,
          0.6077032810271041,
          1,
          0.4044222539229672,
          0.35805991440798857,
          0.3509272467902996,
          0.5399429386590585,
          0.5256776034236804,
          0.4044222539229672,
          0.39372325249643364,
          0.6540656205420827,
          0.7182596291012838,
          0.4543509272467903,
          0.5399429386590585,
          0.7182596291012838,
          0.8823109843081313,
          0.5078459343794579,
          0.6825962910128388,
          0.5827389443651926,
          0.4579172610556348,
          0.42938659058487877,
          0.5898716119828816,
          0.5292439372325249,
          0.3437945791726106,
          0.36875891583452214,
          0.5399429386590585,
          0.5827389443651926,
          0.2867332382310984,
          0.43295292439372324,
          0.572039942938659,
          0.5613409415121255,
          0.5042796005706134,
          0.557774607703281,
          0.7004279600570613,
          0.6219686162624821,
          0.7039942938659058,
          0.6504992867332382,
          0.782453637660485,
          0.557774607703281,
          0.6005706134094151,
          0.49358059914407987,
          0.7075606276747504,
          0.7182596291012838,
          0.17261055634807418,
          0.2867332382310984,
          0.12268188302425106,
          0.25106990014265335,
          0.10128388017118402,
          0.05492154065620542,
          0.28530670470756064,
          0.15977175463623394,
          0.16547788873038516,
          0.33666191155492153,
          0.31383737517831667,
          0.4222539229671897,
          0.09415121255349501,
          0.1383737517831669,
          0.5042796005706134,
          0.43366619115549215,
          0.10699001426533523,
          0.08131241084165478,
          0.15834522111269614,
          0.33666191155492153,
          0.13195435092724678,
          0,
          0.31098430813124106,
          0.25106990014265335,
          0.16904422253922968,
          0.17261055634807418,
          0.12268188302425106,
          0.15477888730385164,
          0.20256776034236804,
          0.2867332382310984,
          0.24750356633380885,
          0.14407988587731813,
          0.12268188302425106,
          0.15477888730385164,
          0.008559201141226819,
          0.04778887303851641,
          0.47004279600570614,
          0.24750356633380885,
          0.10699001426533523,
          0.2724679029957204,
          0.0912981455064194,
          0.30813124108416545,
          0.20256776034236804,
          0.11412268188302425,
          0.09771754636233952,
          0.2810271041369472,
          0.026390870185449358,
          0.16547788873038516,
          0.14978601997146934,
          0.024251069900142655,
          0.2867332382310984,
          0.20256776034236804,
          0.033523537803138374,
          0.2346647646219686,
          0.11126961483594865,
          0.07631954350927246,
          0.0920114122681883,
          0.15477888730385164,
          0.04778887303851641,
          0.06704707560627675,
          0.20399429386590584,
          0.24750356633380885,
          0.13338088445078458,
          0.062054208273894434,
          0.07275320970042796,
          0.07275320970042796,
          0.07132667617689016,
          0.052781740370898715,
          0.1340941512125535,
          0.0456490727532097,
          0.21540656205420827,
          0.25106990014265335,
          0.1797432239657632,
          0.20114122681883023,
          0.2296718972895863,
          0.2653352353780314,
          0.29743223965763194,
          0.3152639087018545,
          0.16904422253922968,
          0.21540656205420827,
          0.2225392296718973,
          0.2296718972895863,
          0.35805991440798857,
          0.17261055634807418,
          0.19400855920114124,
          0.4115549215406562,
          0.39372325249643364,
          0.09771754636233952,
          0.24750356633380885,
          0.2653352353780314,
          0.19400855920114124,
          0.15834522111269614,
          0.14407988587731813,
          0.10485021398002853,
          0.2831669044222539,
          0.2582025677603424,
          0.318830242510699,
          0.14407988587731813,
          0.42938659058487877,
          0.2724679029957204,
          0.24393723252496433,
          0.17261055634807418,
          0.2867332382310984,
          0.20827389443651925,
          0.2831669044222539,
          0.24037089871611983,
          0.17261055634807418,
          0.29743223965763194,
          0.29029957203994294,
          0.33666191155492153,
          0.25106990014265335,
          0.16547788873038516,
          0.1369472182596291,
          0.2724679029957204,
          0.32952924393723254,
          0.33666191155492153,
          0.39728958630527816,
          0.4008559201141227,
          0.20114122681883023
         ]
        },
        {
         "marker": {
          "color": "red"
         },
         "mode": "markers",
         "text": [
          "0",
          "1",
          "2"
         ],
         "type": "scatter3d",
         "x": [
          0.15170401147549095,
          0.3593856655290102,
          0.5173434544124816
         ],
         "y": [
          0.3229595728451564,
          0.7110964912280703,
          0.5583243823845327
         ],
         "z": [
          0.1674936426223408,
          0.5959581550166428,
          0.24932312439954585
         ]
        }
       ],
       "layout": {
        "scene": {
         "xaxis": {
          "title": {
           "text": "Intesidade de cor"
          }
         },
         "yaxis": {
          "title": {
           "text": "Álcool"
          }
         },
         "zaxis": {
          "title": {
           "text": "Proline"
          }
         }
        },
        "template": {
         "data": {
          "bar": [
           {
            "error_x": {
             "color": "#2a3f5f"
            },
            "error_y": {
             "color": "#2a3f5f"
            },
            "marker": {
             "line": {
              "color": "#E5ECF6",
              "width": 0.5
             }
            },
            "type": "bar"
           }
          ],
          "barpolar": [
           {
            "marker": {
             "line": {
              "color": "#E5ECF6",
              "width": 0.5
             }
            },
            "type": "barpolar"
           }
          ],
          "carpet": [
           {
            "aaxis": {
             "endlinecolor": "#2a3f5f",
             "gridcolor": "white",
             "linecolor": "white",
             "minorgridcolor": "white",
             "startlinecolor": "#2a3f5f"
            },
            "baxis": {
             "endlinecolor": "#2a3f5f",
             "gridcolor": "white",
             "linecolor": "white",
             "minorgridcolor": "white",
             "startlinecolor": "#2a3f5f"
            },
            "type": "carpet"
           }
          ],
          "choropleth": [
           {
            "colorbar": {
             "outlinewidth": 0,
             "ticks": ""
            },
            "type": "choropleth"
           }
          ],
          "contour": [
           {
            "colorbar": {
             "outlinewidth": 0,
             "ticks": ""
            },
            "colorscale": [
             [
              0,
              "#0d0887"
             ],
             [
              0.1111111111111111,
              "#46039f"
             ],
             [
              0.2222222222222222,
              "#7201a8"
             ],
             [
              0.3333333333333333,
              "#9c179e"
             ],
             [
              0.4444444444444444,
              "#bd3786"
             ],
             [
              0.5555555555555556,
              "#d8576b"
             ],
             [
              0.6666666666666666,
              "#ed7953"
             ],
             [
              0.7777777777777778,
              "#fb9f3a"
             ],
             [
              0.8888888888888888,
              "#fdca26"
             ],
             [
              1,
              "#f0f921"
             ]
            ],
            "type": "contour"
           }
          ],
          "contourcarpet": [
           {
            "colorbar": {
             "outlinewidth": 0,
             "ticks": ""
            },
            "type": "contourcarpet"
           }
          ],
          "heatmap": [
           {
            "colorbar": {
             "outlinewidth": 0,
             "ticks": ""
            },
            "colorscale": [
             [
              0,
              "#0d0887"
             ],
             [
              0.1111111111111111,
              "#46039f"
             ],
             [
              0.2222222222222222,
              "#7201a8"
             ],
             [
              0.3333333333333333,
              "#9c179e"
             ],
             [
              0.4444444444444444,
              "#bd3786"
             ],
             [
              0.5555555555555556,
              "#d8576b"
             ],
             [
              0.6666666666666666,
              "#ed7953"
             ],
             [
              0.7777777777777778,
              "#fb9f3a"
             ],
             [
              0.8888888888888888,
              "#fdca26"
             ],
             [
              1,
              "#f0f921"
             ]
            ],
            "type": "heatmap"
           }
          ],
          "heatmapgl": [
           {
            "colorbar": {
             "outlinewidth": 0,
             "ticks": ""
            },
            "colorscale": [
             [
              0,
              "#0d0887"
             ],
             [
              0.1111111111111111,
              "#46039f"
             ],
             [
              0.2222222222222222,
              "#7201a8"
             ],
             [
              0.3333333333333333,
              "#9c179e"
             ],
             [
              0.4444444444444444,
              "#bd3786"
             ],
             [
              0.5555555555555556,
              "#d8576b"
             ],
             [
              0.6666666666666666,
              "#ed7953"
             ],
             [
              0.7777777777777778,
              "#fb9f3a"
             ],
             [
              0.8888888888888888,
              "#fdca26"
             ],
             [
              1,
              "#f0f921"
             ]
            ],
            "type": "heatmapgl"
           }
          ],
          "histogram": [
           {
            "marker": {
             "colorbar": {
              "outlinewidth": 0,
              "ticks": ""
             }
            },
            "type": "histogram"
           }
          ],
          "histogram2d": [
           {
            "colorbar": {
             "outlinewidth": 0,
             "ticks": ""
            },
            "colorscale": [
             [
              0,
              "#0d0887"
             ],
             [
              0.1111111111111111,
              "#46039f"
             ],
             [
              0.2222222222222222,
              "#7201a8"
             ],
             [
              0.3333333333333333,
              "#9c179e"
             ],
             [
              0.4444444444444444,
              "#bd3786"
             ],
             [
              0.5555555555555556,
              "#d8576b"
             ],
             [
              0.6666666666666666,
              "#ed7953"
             ],
             [
              0.7777777777777778,
              "#fb9f3a"
             ],
             [
              0.8888888888888888,
              "#fdca26"
             ],
             [
              1,
              "#f0f921"
             ]
            ],
            "type": "histogram2d"
           }
          ],
          "histogram2dcontour": [
           {
            "colorbar": {
             "outlinewidth": 0,
             "ticks": ""
            },
            "colorscale": [
             [
              0,
              "#0d0887"
             ],
             [
              0.1111111111111111,
              "#46039f"
             ],
             [
              0.2222222222222222,
              "#7201a8"
             ],
             [
              0.3333333333333333,
              "#9c179e"
             ],
             [
              0.4444444444444444,
              "#bd3786"
             ],
             [
              0.5555555555555556,
              "#d8576b"
             ],
             [
              0.6666666666666666,
              "#ed7953"
             ],
             [
              0.7777777777777778,
              "#fb9f3a"
             ],
             [
              0.8888888888888888,
              "#fdca26"
             ],
             [
              1,
              "#f0f921"
             ]
            ],
            "type": "histogram2dcontour"
           }
          ],
          "mesh3d": [
           {
            "colorbar": {
             "outlinewidth": 0,
             "ticks": ""
            },
            "type": "mesh3d"
           }
          ],
          "parcoords": [
           {
            "line": {
             "colorbar": {
              "outlinewidth": 0,
              "ticks": ""
             }
            },
            "type": "parcoords"
           }
          ],
          "scatter": [
           {
            "marker": {
             "colorbar": {
              "outlinewidth": 0,
              "ticks": ""
             }
            },
            "type": "scatter"
           }
          ],
          "scatter3d": [
           {
            "line": {
             "colorbar": {
              "outlinewidth": 0,
              "ticks": ""
             }
            },
            "marker": {
             "colorbar": {
              "outlinewidth": 0,
              "ticks": ""
             }
            },
            "type": "scatter3d"
           }
          ],
          "scattercarpet": [
           {
            "marker": {
             "colorbar": {
              "outlinewidth": 0,
              "ticks": ""
             }
            },
            "type": "scattercarpet"
           }
          ],
          "scattergeo": [
           {
            "marker": {
             "colorbar": {
              "outlinewidth": 0,
              "ticks": ""
             }
            },
            "type": "scattergeo"
           }
          ],
          "scattergl": [
           {
            "marker": {
             "colorbar": {
              "outlinewidth": 0,
              "ticks": ""
             }
            },
            "type": "scattergl"
           }
          ],
          "scattermapbox": [
           {
            "marker": {
             "colorbar": {
              "outlinewidth": 0,
              "ticks": ""
             }
            },
            "type": "scattermapbox"
           }
          ],
          "scatterpolar": [
           {
            "marker": {
             "colorbar": {
              "outlinewidth": 0,
              "ticks": ""
             }
            },
            "type": "scatterpolar"
           }
          ],
          "scatterpolargl": [
           {
            "marker": {
             "colorbar": {
              "outlinewidth": 0,
              "ticks": ""
             }
            },
            "type": "scatterpolargl"
           }
          ],
          "scatterternary": [
           {
            "marker": {
             "colorbar": {
              "outlinewidth": 0,
              "ticks": ""
             }
            },
            "type": "scatterternary"
           }
          ],
          "surface": [
           {
            "colorbar": {
             "outlinewidth": 0,
             "ticks": ""
            },
            "colorscale": [
             [
              0,
              "#0d0887"
             ],
             [
              0.1111111111111111,
              "#46039f"
             ],
             [
              0.2222222222222222,
              "#7201a8"
             ],
             [
              0.3333333333333333,
              "#9c179e"
             ],
             [
              0.4444444444444444,
              "#bd3786"
             ],
             [
              0.5555555555555556,
              "#d8576b"
             ],
             [
              0.6666666666666666,
              "#ed7953"
             ],
             [
              0.7777777777777778,
              "#fb9f3a"
             ],
             [
              0.8888888888888888,
              "#fdca26"
             ],
             [
              1,
              "#f0f921"
             ]
            ],
            "type": "surface"
           }
          ],
          "table": [
           {
            "cells": {
             "fill": {
              "color": "#EBF0F8"
             },
             "line": {
              "color": "white"
             }
            },
            "header": {
             "fill": {
              "color": "#C8D4E3"
             },
             "line": {
              "color": "white"
             }
            },
            "type": "table"
           }
          ]
         },
         "layout": {
          "annotationdefaults": {
           "arrowcolor": "#2a3f5f",
           "arrowhead": 0,
           "arrowwidth": 1
          },
          "colorscale": {
           "diverging": [
            [
             0,
             "#8e0152"
            ],
            [
             0.1,
             "#c51b7d"
            ],
            [
             0.2,
             "#de77ae"
            ],
            [
             0.3,
             "#f1b6da"
            ],
            [
             0.4,
             "#fde0ef"
            ],
            [
             0.5,
             "#f7f7f7"
            ],
            [
             0.6,
             "#e6f5d0"
            ],
            [
             0.7,
             "#b8e186"
            ],
            [
             0.8,
             "#7fbc41"
            ],
            [
             0.9,
             "#4d9221"
            ],
            [
             1,
             "#276419"
            ]
           ],
           "sequential": [
            [
             0,
             "#0d0887"
            ],
            [
             0.1111111111111111,
             "#46039f"
            ],
            [
             0.2222222222222222,
             "#7201a8"
            ],
            [
             0.3333333333333333,
             "#9c179e"
            ],
            [
             0.4444444444444444,
             "#bd3786"
            ],
            [
             0.5555555555555556,
             "#d8576b"
            ],
            [
             0.6666666666666666,
             "#ed7953"
            ],
            [
             0.7777777777777778,
             "#fb9f3a"
            ],
            [
             0.8888888888888888,
             "#fdca26"
            ],
            [
             1,
             "#f0f921"
            ]
           ],
           "sequentialminus": [
            [
             0,
             "#0d0887"
            ],
            [
             0.1111111111111111,
             "#46039f"
            ],
            [
             0.2222222222222222,
             "#7201a8"
            ],
            [
             0.3333333333333333,
             "#9c179e"
            ],
            [
             0.4444444444444444,
             "#bd3786"
            ],
            [
             0.5555555555555556,
             "#d8576b"
            ],
            [
             0.6666666666666666,
             "#ed7953"
            ],
            [
             0.7777777777777778,
             "#fb9f3a"
            ],
            [
             0.8888888888888888,
             "#fdca26"
            ],
            [
             1,
             "#f0f921"
            ]
           ]
          },
          "colorway": [
           "#636efa",
           "#EF553B",
           "#00cc96",
           "#ab63fa",
           "#FFA15A",
           "#19d3f3",
           "#FF6692",
           "#B6E880",
           "#FF97FF",
           "#FECB52"
          ],
          "font": {
           "color": "#2a3f5f"
          },
          "geo": {
           "bgcolor": "white",
           "lakecolor": "white",
           "landcolor": "#E5ECF6",
           "showlakes": true,
           "showland": true,
           "subunitcolor": "white"
          },
          "hoverlabel": {
           "align": "left"
          },
          "hovermode": "closest",
          "mapbox": {
           "style": "light"
          },
          "paper_bgcolor": "white",
          "plot_bgcolor": "#E5ECF6",
          "polar": {
           "angularaxis": {
            "gridcolor": "white",
            "linecolor": "white",
            "ticks": ""
           },
           "bgcolor": "#E5ECF6",
           "radialaxis": {
            "gridcolor": "white",
            "linecolor": "white",
            "ticks": ""
           }
          },
          "scene": {
           "xaxis": {
            "backgroundcolor": "#E5ECF6",
            "gridcolor": "white",
            "gridwidth": 2,
            "linecolor": "white",
            "showbackground": true,
            "ticks": "",
            "zerolinecolor": "white"
           },
           "yaxis": {
            "backgroundcolor": "#E5ECF6",
            "gridcolor": "white",
            "gridwidth": 2,
            "linecolor": "white",
            "showbackground": true,
            "ticks": "",
            "zerolinecolor": "white"
           },
           "zaxis": {
            "backgroundcolor": "#E5ECF6",
            "gridcolor": "white",
            "gridwidth": 2,
            "linecolor": "white",
            "showbackground": true,
            "ticks": "",
            "zerolinecolor": "white"
           }
          },
          "shapedefaults": {
           "line": {
            "color": "#2a3f5f"
           }
          },
          "ternary": {
           "aaxis": {
            "gridcolor": "white",
            "linecolor": "white",
            "ticks": ""
           },
           "baxis": {
            "gridcolor": "white",
            "linecolor": "white",
            "ticks": ""
           },
           "bgcolor": "#E5ECF6",
           "caxis": {
            "gridcolor": "white",
            "linecolor": "white",
            "ticks": ""
           }
          },
          "title": {
           "x": 0.05
          },
          "xaxis": {
           "automargin": true,
           "gridcolor": "white",
           "linecolor": "white",
           "ticks": "",
           "zerolinecolor": "white",
           "zerolinewidth": 2
          },
          "yaxis": {
           "automargin": true,
           "gridcolor": "white",
           "linecolor": "white",
           "ticks": "",
           "zerolinecolor": "white",
           "zerolinewidth": 2
          }
         }
        }
       }
      },
      "text/html": [
       "<div>\n",
       "        \n",
       "        \n",
       "            <div id=\"14dc5df8-4428-4b04-a39b-9c8978613bec\" class=\"plotly-graph-div\" style=\"height:525px; width:100%;\"></div>\n",
       "            <script type=\"text/javascript\">\n",
       "                require([\"plotly\"], function(Plotly) {\n",
       "                    window.PLOTLYENV=window.PLOTLYENV || {};\n",
       "                    \n",
       "                if (document.getElementById(\"14dc5df8-4428-4b04-a39b-9c8978613bec\")) {\n",
       "                    Plotly.newPlot(\n",
       "                        '14dc5df8-4428-4b04-a39b-9c8978613bec',\n",
       "                        [{\"marker\": {\"color\": [1.0, 1.0, 1.0, 1.0, 1.0, 1.0, 1.0, 1.0, 1.0, 1.0, 1.0, 1.0, 1.0, 1.0, 1.0, 1.0, 1.0, 1.0, 1.0, 1.0, 1.0, 1.0, 1.0, 1.0, 1.0, 1.0, 1.0, 1.0, 1.0, 1.0, 1.0, 1.0, 1.0, 1.0, 1.0, 1.0, 1.0, 1.0, 1.0, 1.0, 1.0, 1.0, 1.0, 1.0, 1.0, 1.0, 1.0, 1.0, 1.0, 1.0, 1.0, 1.0, 1.0, 1.0, 1.0, 1.0, 1.0, 1.0, 1.0, 0.0, 0.0, 0.0, 0.0, 0.0, 0.0, 0.0, 0.0, 0.0, 0.0, 0.0, 0.0, 0.0, 0.0, 1.0, 0.0, 0.0, 0.0, 0.0, 0.0, 0.0, 0.0, 0.0, 0.0, 2.0, 0.0, 0.0, 0.0, 0.0, 0.0, 0.0, 0.0, 0.0, 0.0, 0.0, 0.0, 0.0, 0.0, 0.0, 0.0, 0.0, 0.0, 0.0, 0.0, 0.0, 0.0, 0.0, 0.0, 0.0, 0.0, 0.0, 0.0, 0.0, 0.0, 0.0, 0.0, 0.0, 0.0, 0.0, 0.0, 0.0, 0.0, 0.0, 0.0, 0.0, 0.0, 0.0, 0.0, 0.0, 0.0, 0.0, 2.0, 2.0, 2.0, 2.0, 2.0, 2.0, 2.0, 2.0, 2.0, 2.0, 2.0, 2.0, 2.0, 2.0, 2.0, 2.0, 2.0, 2.0, 2.0, 2.0, 2.0, 2.0, 2.0, 2.0, 2.0, 2.0, 2.0, 2.0, 2.0, 2.0, 2.0, 2.0, 2.0, 2.0, 2.0, 2.0, 2.0, 2.0, 2.0, 2.0, 2.0, 2.0, 2.0, 2.0, 2.0, 2.0, 2.0, 2.0]}, \"mode\": \"markers\", \"text\": [1.0, 1.0, 1.0, 1.0, 1.0, 1.0, 1.0, 1.0, 1.0, 1.0, 1.0, 1.0, 1.0, 1.0, 1.0, 1.0, 1.0, 1.0, 1.0, 1.0, 1.0, 1.0, 1.0, 1.0, 1.0, 1.0, 1.0, 1.0, 1.0, 1.0, 1.0, 1.0, 1.0, 1.0, 1.0, 1.0, 1.0, 1.0, 1.0, 1.0, 1.0, 1.0, 1.0, 1.0, 1.0, 1.0, 1.0, 1.0, 1.0, 1.0, 1.0, 1.0, 1.0, 1.0, 1.0, 1.0, 1.0, 1.0, 1.0, 0.0, 0.0, 0.0, 0.0, 0.0, 0.0, 0.0, 0.0, 0.0, 0.0, 0.0, 0.0, 0.0, 0.0, 1.0, 0.0, 0.0, 0.0, 0.0, 0.0, 0.0, 0.0, 0.0, 0.0, 2.0, 0.0, 0.0, 0.0, 0.0, 0.0, 0.0, 0.0, 0.0, 0.0, 0.0, 0.0, 0.0, 0.0, 0.0, 0.0, 0.0, 0.0, 0.0, 0.0, 0.0, 0.0, 0.0, 0.0, 0.0, 0.0, 0.0, 0.0, 0.0, 0.0, 0.0, 0.0, 0.0, 0.0, 0.0, 0.0, 0.0, 0.0, 0.0, 0.0, 0.0, 0.0, 0.0, 0.0, 0.0, 0.0, 0.0, 2.0, 2.0, 2.0, 2.0, 2.0, 2.0, 2.0, 2.0, 2.0, 2.0, 2.0, 2.0, 2.0, 2.0, 2.0, 2.0, 2.0, 2.0, 2.0, 2.0, 2.0, 2.0, 2.0, 2.0, 2.0, 2.0, 2.0, 2.0, 2.0, 2.0, 2.0, 2.0, 2.0, 2.0, 2.0, 2.0, 2.0, 2.0, 2.0, 2.0, 2.0, 2.0, 2.0, 2.0, 2.0, 2.0, 2.0, 2.0], \"type\": \"scatter3d\", \"x\": [0.37201365187713303, 0.26450511945392485, 0.3754266211604095, 0.5563139931740614, 0.2593856655290102, 0.46672354948805456, 0.3387372013651877, 0.3216723549488054, 0.33447098976109213, 0.5068259385665528, 0.3813993174061433, 0.31740614334470985, 0.3686006825938566, 0.3515358361774744, 0.530716723549488, 0.5136518771331058, 0.4197952218430034, 0.45392491467576784, 0.6331058020477814, 0.32593856655290093, 0.3728668941979522, 0.27474402730375425, 0.21501706484641633, 0.22610921501706485, 0.19112627986348124, 0.19624573378839588, 0.3003412969283276, 0.22781569965870305, 0.27474402730375425, 0.2918088737201365, 0.37713310580204773, 0.47952218430034127, 0.21843003412969278, 0.3515358361774744, 0.24914675767918087, 0.32593856655290093, 0.28327645051194533, 0.2534129692832764, 0.20648464163822525, 0.32593856655290093, 0.41382252559726956, 0.25597269624573377, 0.3540955631399317, 0.26279863481228666, 0.3208191126279863, 0.3378839590443686, 0.30887372013651876, 0.4112627986348122, 0.4197952218430034, 0.6501706484641638, 0.5051194539249146, 0.3686006825938566, 0.4923208191126279, 0.42832764505119447, 0.3899317406143344, 0.42406143344709896, 0.43515358361774736, 0.4027303754266211, 0.4709897610921501, 0.057167235494880536, 0.1697952218430034, 0.3813993174061433, 0.21501706484641633, 0.2704778156996587, 0.14249146757679182, 0.28327645051194533, 0.3430034129692832, 0.2901023890784982, 0.16126279863481227, 0.13395904436860068, 0.1510238907849829, 0.17918088737201363, 0.2098976109215017, 0.17662116040955633, 0.16467576791808872, 0.21501706484641633, 0.28327645051194533, 0.11689419795221842, 0.18088737201365188, 0.1100682593856655, 0.10409556313993173, 0.2235494880546075, 0.07849829351535836, 0.3003412969283276, 0.1510238907849829, 0.11433447098976109, 0.09982935153583619, 0.11262798634812286, 0.1296928327645051, 0.039249146757679175, 0.09556313993174059, 0.19795221843003413, 0.1510238907849829, 0.07423208191126278, 0.16808873720136516, 0.11262798634812286, 0.10409556313993173, 0.13822525597269622, 0.27474402730375425, 0.08703071672354946, 0.1723549488054607, 0.09982935153583619, 0.1296928327645051, 0.06655290102389079, 0.1416382252559727, 0.121160409556314, 0.18088737201365188, 0.1723549488054607, 0.121160409556314, 0.11689419795221842, 0.13822525597269622, 0.0614334470989761, 0.21501706484641633, 0.15358361774744028, 0.13822525597269622, 0.05290102389078497, 0.057167235494880536, 0.06655290102389079, 0.18088737201365188, 0.0, 0.16808873720136516, 0.4027303754266211, 0.06825938566552901, 0.11262798634812286, 0.1296928327645051, 0.12627986348122863, 0.22696245733788395, 0.14675767918088736, 0.07167235494880546, 0.11262798634812286, 0.2406143344709897, 0.3515358361774744, 0.37713310580204773, 0.31740614334470985, 0.35580204778156993, 0.49658703071672344, 0.21928327645051196, 0.31740614334470985, 0.37713310580204773, 0.31058020477815695, 0.28327645051194533, 0.3686006825938566, 0.26194539249146753, 0.26621160409556316, 0.591296928327645, 0.2320819112627986, 0.30887372013651876, 0.5435153583617747, 0.6092150170648464, 0.6928327645051195, 0.6245733788395904, 0.8122866894197953, 0.49658703071672344, 0.78839590443686, 0.5392491467576791, 0.5648464163822525, 0.6595563139931739, 0.530716723549488, 1.0, 0.893344709897611, 0.5435153583617747, 0.39249146757679176, 0.3668941979522184, 0.341296928327645, 0.7081911262798635, 0.4556313993174061, 0.8020477815699658, 0.7662116040955631, 0.629692832764505, 0.6160409556313993, 0.3600682593856655, 0.7354947952218429, 0.7184300341296928, 0.5477815699658702, 0.5136518771331058, 0.7610921501706485, 0.6843003412969284, 0.675767918088737], \"y\": [0.8421052631578949, 0.5710526315789473, 0.5605263157894738, 0.8789473684210525, 0.5815789473684212, 0.8342105263157893, 0.8842105263157897, 0.7973684210526317, 1.0, 0.744736842105263, 0.8078947368421052, 0.813157894736842, 0.7157894736842105, 0.9789473684210526, 0.8815789473684212, 0.6842105263157897, 0.8605263157894739, 0.736842105263158, 0.831578947368421, 0.686842105263158, 0.7973684210526317, 0.5, 0.7052631578947371, 0.4789473684210526, 0.65, 0.5315789473684213, 0.6210526315789475, 0.5973684210526318, 0.7473684210526313, 0.7868421052631578, 0.7105263157894738, 0.6710526315789475, 0.6973684210526315, 0.718421052631579, 0.6526315789473685, 0.6447368421052633, 0.5921052631578946, 0.5315789473684213, 0.536842105263158, 0.8394736842105265, 0.6657894736842107, 0.6263157894736843, 0.7500000000000002, 0.5815789473684212, 0.5315789473684213, 0.8368421052631582, 0.8815789473684212, 0.755263157894737, 0.8078947368421052, 0.7657894736842105, 0.5315789473684213, 0.736842105263158, 0.7342105263157895, 0.7210526315789473, 0.7131578947368422, 0.6657894736842107, 0.8394736842105265, 0.594736842105263, 0.7078947368421055, 0.3526315789473683, 0.34210526315789486, 0.42368421052631605, 0.6947368421052632, 0.3526315789473683, 0.3000000000000001, 0.3526315789473683, 0.5473684210526315, 0.3526315789473683, 0.6078947368421053, 0.31052631578947404, 0.3315789473684209, 0.744736842105263, 0.6473684210526317, 0.5157894736842107, 0.2447368421052635, 0.1657894736842107, 0.5263157894736841, 0.21315789473684219, 0.34210526315789486, 0.43947368421052624, 0.25526315789473697, 0.44473684210526343, 0.27631578947368435, 0.5315789473684213, 0.21315789473684219, 0.4315789473684211, 0.2973684210526317, 0.16315789473684233, 0.16052631578947396, 0.27631578947368435, 0.27631578947368435, 0.25526315789473697, 0.43684210526315786, 0.3315789473684209, 0.15526315789473677, 0.3789473684210529, 0.2052631578947371, 0.3315789473684209, 0.3526315789473683, 0.3315789473684209, 0.27631578947368435, 0.4131578947368421, 0.34473684210526323, 0.20789473684210547, 0.38947368421052636, 0.3657894736842106, 0.3210526315789475, 0.44473684210526343, 0.31315789473684236, 0.15263157894736842, 0.11315789473684247, 0.39210526315789473, 0.1921052631578948, 0.10000000000000019, 0.27631578947368435, 0.0, 0.20789473684210547, 0.3657894736842106, 0.45789473684210524, 0.25526315789473697, 0.11052631578947364, 0.13947368421052658, 0.3657894736842106, 0.5315789473684213, 0.22105263157894728, 0.273684210526316, 0.368421052631579, 0.1999999999999999, 0.3526315789473683, 0.2657894736842104, 0.481578947368421, 0.4868421052631582, 0.4684210526315792, 0.43947368421052624, 0.38947368421052636, 0.4131578947368421, 0.3210526315789475, 0.3947368421052631, 0.6473684210526317, 0.47631578947368425, 0.5, 0.613157894736842, 0.6552631578947368, 0.6815789473684208, 0.3210526315789475, 0.5605263157894738, 0.7500000000000002, 0.48421052631578937, 0.6026315789473685, 0.5394736842105264, 0.65, 0.46315789473684194, 0.5473684210526315, 0.5789473684210528, 0.40789473684210537, 0.5631578947368422, 0.7394736842105263, 0.3736842105263157, 0.8710526315789473, 0.6447368421052633, 0.35, 0.7, 0.4789473684210526, 0.5078947368421055, 0.7236842105263157, 0.7105263157894738, 0.6368421052631578, 0.4710526315789475, 0.6710526315789475, 0.623684210526316, 0.30789473684210517, 0.45789473684210524, 0.8236842105263158, 0.7052631578947371, 0.623684210526316, 0.5894736842105263, 0.5631578947368422, 0.8157894736842107], \"z\": [0.5613409415121255, 0.550641940085592, 0.6469329529243937, 0.8573466476462197, 0.325962910128388, 0.8359486447931527, 0.7218259629101283, 0.7253922967189729, 0.5470756062767475, 0.5470756062767475, 0.8787446504992867, 0.7146932952924394, 0.7432239657631954, 0.6219686162624821, 0.9051355206847361, 0.7360912981455064, 0.7146932952924394, 0.6077032810271041, 1.0, 0.4044222539229672, 0.35805991440798857, 0.3509272467902996, 0.5399429386590585, 0.5256776034236804, 0.4044222539229672, 0.39372325249643364, 0.6540656205420827, 0.7182596291012838, 0.4543509272467903, 0.5399429386590585, 0.7182596291012838, 0.8823109843081313, 0.5078459343794579, 0.6825962910128388, 0.5827389443651926, 0.4579172610556348, 0.42938659058487877, 0.5898716119828816, 0.5292439372325249, 0.3437945791726106, 0.36875891583452214, 0.5399429386590585, 0.5827389443651926, 0.2867332382310984, 0.43295292439372324, 0.572039942938659, 0.5613409415121255, 0.5042796005706134, 0.557774607703281, 0.7004279600570613, 0.6219686162624821, 0.7039942938659058, 0.6504992867332382, 0.782453637660485, 0.557774607703281, 0.6005706134094151, 0.49358059914407987, 0.7075606276747504, 0.7182596291012838, 0.17261055634807418, 0.2867332382310984, 0.12268188302425106, 0.25106990014265335, 0.10128388017118402, 0.05492154065620542, 0.28530670470756064, 0.15977175463623394, 0.16547788873038516, 0.33666191155492153, 0.31383737517831667, 0.4222539229671897, 0.09415121255349501, 0.1383737517831669, 0.5042796005706134, 0.43366619115549215, 0.10699001426533523, 0.08131241084165478, 0.15834522111269614, 0.33666191155492153, 0.13195435092724678, 0.0, 0.31098430813124106, 0.25106990014265335, 0.16904422253922968, 0.17261055634807418, 0.12268188302425106, 0.15477888730385164, 0.20256776034236804, 0.2867332382310984, 0.24750356633380885, 0.14407988587731813, 0.12268188302425106, 0.15477888730385164, 0.008559201141226819, 0.04778887303851641, 0.47004279600570614, 0.24750356633380885, 0.10699001426533523, 0.2724679029957204, 0.0912981455064194, 0.30813124108416545, 0.20256776034236804, 0.11412268188302425, 0.09771754636233952, 0.2810271041369472, 0.026390870185449358, 0.16547788873038516, 0.14978601997146934, 0.024251069900142655, 0.2867332382310984, 0.20256776034236804, 0.033523537803138374, 0.2346647646219686, 0.11126961483594865, 0.07631954350927246, 0.0920114122681883, 0.15477888730385164, 0.04778887303851641, 0.06704707560627675, 0.20399429386590584, 0.24750356633380885, 0.13338088445078458, 0.062054208273894434, 0.07275320970042796, 0.07275320970042796, 0.07132667617689016, 0.052781740370898715, 0.1340941512125535, 0.0456490727532097, 0.21540656205420827, 0.25106990014265335, 0.1797432239657632, 0.20114122681883023, 0.2296718972895863, 0.2653352353780314, 0.29743223965763194, 0.3152639087018545, 0.16904422253922968, 0.21540656205420827, 0.2225392296718973, 0.2296718972895863, 0.35805991440798857, 0.17261055634807418, 0.19400855920114124, 0.4115549215406562, 0.39372325249643364, 0.09771754636233952, 0.24750356633380885, 0.2653352353780314, 0.19400855920114124, 0.15834522111269614, 0.14407988587731813, 0.10485021398002853, 0.2831669044222539, 0.2582025677603424, 0.318830242510699, 0.14407988587731813, 0.42938659058487877, 0.2724679029957204, 0.24393723252496433, 0.17261055634807418, 0.2867332382310984, 0.20827389443651925, 0.2831669044222539, 0.24037089871611983, 0.17261055634807418, 0.29743223965763194, 0.29029957203994294, 0.33666191155492153, 0.25106990014265335, 0.16547788873038516, 0.1369472182596291, 0.2724679029957204, 0.32952924393723254, 0.33666191155492153, 0.39728958630527816, 0.4008559201141227, 0.20114122681883023]}, {\"marker\": {\"color\": \"red\"}, \"mode\": \"markers\", \"text\": [\"0\", \"1\", \"2\"], \"type\": \"scatter3d\", \"x\": [0.15170401147549095, 0.3593856655290102, 0.5173434544124816], \"y\": [0.3229595728451564, 0.7110964912280703, 0.5583243823845327], \"z\": [0.1674936426223408, 0.5959581550166428, 0.24932312439954585]}],\n",
       "                        {\"scene\": {\"xaxis\": {\"title\": {\"text\": \"Intesidade de cor\"}}, \"yaxis\": {\"title\": {\"text\": \"\\u00c1lcool\"}}, \"zaxis\": {\"title\": {\"text\": \"Proline\"}}}, \"template\": {\"data\": {\"bar\": [{\"error_x\": {\"color\": \"#2a3f5f\"}, \"error_y\": {\"color\": \"#2a3f5f\"}, \"marker\": {\"line\": {\"color\": \"#E5ECF6\", \"width\": 0.5}}, \"type\": \"bar\"}], \"barpolar\": [{\"marker\": {\"line\": {\"color\": \"#E5ECF6\", \"width\": 0.5}}, \"type\": \"barpolar\"}], \"carpet\": [{\"aaxis\": {\"endlinecolor\": \"#2a3f5f\", \"gridcolor\": \"white\", \"linecolor\": \"white\", \"minorgridcolor\": \"white\", \"startlinecolor\": \"#2a3f5f\"}, \"baxis\": {\"endlinecolor\": \"#2a3f5f\", \"gridcolor\": \"white\", \"linecolor\": \"white\", \"minorgridcolor\": \"white\", \"startlinecolor\": \"#2a3f5f\"}, \"type\": \"carpet\"}], \"choropleth\": [{\"colorbar\": {\"outlinewidth\": 0, \"ticks\": \"\"}, \"type\": \"choropleth\"}], \"contour\": [{\"colorbar\": {\"outlinewidth\": 0, \"ticks\": \"\"}, \"colorscale\": [[0.0, \"#0d0887\"], [0.1111111111111111, \"#46039f\"], [0.2222222222222222, \"#7201a8\"], [0.3333333333333333, \"#9c179e\"], [0.4444444444444444, \"#bd3786\"], [0.5555555555555556, \"#d8576b\"], [0.6666666666666666, \"#ed7953\"], [0.7777777777777778, \"#fb9f3a\"], [0.8888888888888888, \"#fdca26\"], [1.0, \"#f0f921\"]], \"type\": \"contour\"}], \"contourcarpet\": [{\"colorbar\": {\"outlinewidth\": 0, \"ticks\": \"\"}, \"type\": \"contourcarpet\"}], \"heatmap\": [{\"colorbar\": {\"outlinewidth\": 0, \"ticks\": \"\"}, \"colorscale\": [[0.0, \"#0d0887\"], [0.1111111111111111, \"#46039f\"], [0.2222222222222222, \"#7201a8\"], [0.3333333333333333, \"#9c179e\"], [0.4444444444444444, \"#bd3786\"], [0.5555555555555556, \"#d8576b\"], [0.6666666666666666, \"#ed7953\"], [0.7777777777777778, \"#fb9f3a\"], [0.8888888888888888, \"#fdca26\"], [1.0, \"#f0f921\"]], \"type\": \"heatmap\"}], \"heatmapgl\": [{\"colorbar\": {\"outlinewidth\": 0, \"ticks\": \"\"}, \"colorscale\": [[0.0, \"#0d0887\"], [0.1111111111111111, \"#46039f\"], [0.2222222222222222, \"#7201a8\"], [0.3333333333333333, \"#9c179e\"], [0.4444444444444444, \"#bd3786\"], [0.5555555555555556, \"#d8576b\"], [0.6666666666666666, \"#ed7953\"], [0.7777777777777778, \"#fb9f3a\"], [0.8888888888888888, \"#fdca26\"], [1.0, \"#f0f921\"]], \"type\": \"heatmapgl\"}], \"histogram\": [{\"marker\": {\"colorbar\": {\"outlinewidth\": 0, \"ticks\": \"\"}}, \"type\": \"histogram\"}], \"histogram2d\": [{\"colorbar\": {\"outlinewidth\": 0, \"ticks\": \"\"}, \"colorscale\": [[0.0, \"#0d0887\"], [0.1111111111111111, \"#46039f\"], [0.2222222222222222, \"#7201a8\"], [0.3333333333333333, \"#9c179e\"], [0.4444444444444444, \"#bd3786\"], [0.5555555555555556, \"#d8576b\"], [0.6666666666666666, \"#ed7953\"], [0.7777777777777778, \"#fb9f3a\"], [0.8888888888888888, \"#fdca26\"], [1.0, \"#f0f921\"]], \"type\": \"histogram2d\"}], \"histogram2dcontour\": [{\"colorbar\": {\"outlinewidth\": 0, \"ticks\": \"\"}, \"colorscale\": [[0.0, \"#0d0887\"], [0.1111111111111111, \"#46039f\"], [0.2222222222222222, \"#7201a8\"], [0.3333333333333333, \"#9c179e\"], [0.4444444444444444, \"#bd3786\"], [0.5555555555555556, \"#d8576b\"], [0.6666666666666666, \"#ed7953\"], [0.7777777777777778, \"#fb9f3a\"], [0.8888888888888888, \"#fdca26\"], [1.0, \"#f0f921\"]], \"type\": \"histogram2dcontour\"}], \"mesh3d\": [{\"colorbar\": {\"outlinewidth\": 0, \"ticks\": \"\"}, \"type\": \"mesh3d\"}], \"parcoords\": [{\"line\": {\"colorbar\": {\"outlinewidth\": 0, \"ticks\": \"\"}}, \"type\": \"parcoords\"}], \"scatter\": [{\"marker\": {\"colorbar\": {\"outlinewidth\": 0, \"ticks\": \"\"}}, \"type\": \"scatter\"}], \"scatter3d\": [{\"line\": {\"colorbar\": {\"outlinewidth\": 0, \"ticks\": \"\"}}, \"marker\": {\"colorbar\": {\"outlinewidth\": 0, \"ticks\": \"\"}}, \"type\": \"scatter3d\"}], \"scattercarpet\": [{\"marker\": {\"colorbar\": {\"outlinewidth\": 0, \"ticks\": \"\"}}, \"type\": \"scattercarpet\"}], \"scattergeo\": [{\"marker\": {\"colorbar\": {\"outlinewidth\": 0, \"ticks\": \"\"}}, \"type\": \"scattergeo\"}], \"scattergl\": [{\"marker\": {\"colorbar\": {\"outlinewidth\": 0, \"ticks\": \"\"}}, \"type\": \"scattergl\"}], \"scattermapbox\": [{\"marker\": {\"colorbar\": {\"outlinewidth\": 0, \"ticks\": \"\"}}, \"type\": \"scattermapbox\"}], \"scatterpolar\": [{\"marker\": {\"colorbar\": {\"outlinewidth\": 0, \"ticks\": \"\"}}, \"type\": \"scatterpolar\"}], \"scatterpolargl\": [{\"marker\": {\"colorbar\": {\"outlinewidth\": 0, \"ticks\": \"\"}}, \"type\": \"scatterpolargl\"}], \"scatterternary\": [{\"marker\": {\"colorbar\": {\"outlinewidth\": 0, \"ticks\": \"\"}}, \"type\": \"scatterternary\"}], \"surface\": [{\"colorbar\": {\"outlinewidth\": 0, \"ticks\": \"\"}, \"colorscale\": [[0.0, \"#0d0887\"], [0.1111111111111111, \"#46039f\"], [0.2222222222222222, \"#7201a8\"], [0.3333333333333333, \"#9c179e\"], [0.4444444444444444, \"#bd3786\"], [0.5555555555555556, \"#d8576b\"], [0.6666666666666666, \"#ed7953\"], [0.7777777777777778, \"#fb9f3a\"], [0.8888888888888888, \"#fdca26\"], [1.0, \"#f0f921\"]], \"type\": \"surface\"}], \"table\": [{\"cells\": {\"fill\": {\"color\": \"#EBF0F8\"}, \"line\": {\"color\": \"white\"}}, \"header\": {\"fill\": {\"color\": \"#C8D4E3\"}, \"line\": {\"color\": \"white\"}}, \"type\": \"table\"}]}, \"layout\": {\"annotationdefaults\": {\"arrowcolor\": \"#2a3f5f\", \"arrowhead\": 0, \"arrowwidth\": 1}, \"colorscale\": {\"diverging\": [[0, \"#8e0152\"], [0.1, \"#c51b7d\"], [0.2, \"#de77ae\"], [0.3, \"#f1b6da\"], [0.4, \"#fde0ef\"], [0.5, \"#f7f7f7\"], [0.6, \"#e6f5d0\"], [0.7, \"#b8e186\"], [0.8, \"#7fbc41\"], [0.9, \"#4d9221\"], [1, \"#276419\"]], \"sequential\": [[0.0, \"#0d0887\"], [0.1111111111111111, \"#46039f\"], [0.2222222222222222, \"#7201a8\"], [0.3333333333333333, \"#9c179e\"], [0.4444444444444444, \"#bd3786\"], [0.5555555555555556, \"#d8576b\"], [0.6666666666666666, \"#ed7953\"], [0.7777777777777778, \"#fb9f3a\"], [0.8888888888888888, \"#fdca26\"], [1.0, \"#f0f921\"]], \"sequentialminus\": [[0.0, \"#0d0887\"], [0.1111111111111111, \"#46039f\"], [0.2222222222222222, \"#7201a8\"], [0.3333333333333333, \"#9c179e\"], [0.4444444444444444, \"#bd3786\"], [0.5555555555555556, \"#d8576b\"], [0.6666666666666666, \"#ed7953\"], [0.7777777777777778, \"#fb9f3a\"], [0.8888888888888888, \"#fdca26\"], [1.0, \"#f0f921\"]]}, \"colorway\": [\"#636efa\", \"#EF553B\", \"#00cc96\", \"#ab63fa\", \"#FFA15A\", \"#19d3f3\", \"#FF6692\", \"#B6E880\", \"#FF97FF\", \"#FECB52\"], \"font\": {\"color\": \"#2a3f5f\"}, \"geo\": {\"bgcolor\": \"white\", \"lakecolor\": \"white\", \"landcolor\": \"#E5ECF6\", \"showlakes\": true, \"showland\": true, \"subunitcolor\": \"white\"}, \"hoverlabel\": {\"align\": \"left\"}, \"hovermode\": \"closest\", \"mapbox\": {\"style\": \"light\"}, \"paper_bgcolor\": \"white\", \"plot_bgcolor\": \"#E5ECF6\", \"polar\": {\"angularaxis\": {\"gridcolor\": \"white\", \"linecolor\": \"white\", \"ticks\": \"\"}, \"bgcolor\": \"#E5ECF6\", \"radialaxis\": {\"gridcolor\": \"white\", \"linecolor\": \"white\", \"ticks\": \"\"}}, \"scene\": {\"xaxis\": {\"backgroundcolor\": \"#E5ECF6\", \"gridcolor\": \"white\", \"gridwidth\": 2, \"linecolor\": \"white\", \"showbackground\": true, \"ticks\": \"\", \"zerolinecolor\": \"white\"}, \"yaxis\": {\"backgroundcolor\": \"#E5ECF6\", \"gridcolor\": \"white\", \"gridwidth\": 2, \"linecolor\": \"white\", \"showbackground\": true, \"ticks\": \"\", \"zerolinecolor\": \"white\"}, \"zaxis\": {\"backgroundcolor\": \"#E5ECF6\", \"gridcolor\": \"white\", \"gridwidth\": 2, \"linecolor\": \"white\", \"showbackground\": true, \"ticks\": \"\", \"zerolinecolor\": \"white\"}}, \"shapedefaults\": {\"line\": {\"color\": \"#2a3f5f\"}}, \"ternary\": {\"aaxis\": {\"gridcolor\": \"white\", \"linecolor\": \"white\", \"ticks\": \"\"}, \"baxis\": {\"gridcolor\": \"white\", \"linecolor\": \"white\", \"ticks\": \"\"}, \"bgcolor\": \"#E5ECF6\", \"caxis\": {\"gridcolor\": \"white\", \"linecolor\": \"white\", \"ticks\": \"\"}}, \"title\": {\"x\": 0.05}, \"xaxis\": {\"automargin\": true, \"gridcolor\": \"white\", \"linecolor\": \"white\", \"ticks\": \"\", \"zerolinecolor\": \"white\", \"zerolinewidth\": 2}, \"yaxis\": {\"automargin\": true, \"gridcolor\": \"white\", \"linecolor\": \"white\", \"ticks\": \"\", \"zerolinecolor\": \"white\", \"zerolinewidth\": 2}}}},\n",
       "                        {\"responsive\": true}\n",
       "                    ).then(function(){\n",
       "                            \n",
       "var gd = document.getElementById('14dc5df8-4428-4b04-a39b-9c8978613bec');\n",
       "var x = new MutationObserver(function (mutations, observer) {{\n",
       "        var display = window.getComputedStyle(gd).display;\n",
       "        if (!display || display === 'none') {{\n",
       "            console.log([gd, 'removed!']);\n",
       "            Plotly.purge(gd);\n",
       "            observer.disconnect();\n",
       "        }}\n",
       "}});\n",
       "\n",
       "// Listen for the removal of the full notebook cells\n",
       "var notebookContainer = gd.closest('#notebook-container');\n",
       "if (notebookContainer) {{\n",
       "    x.observe(notebookContainer, {childList: true});\n",
       "}}\n",
       "\n",
       "// Listen for the clearing of the current output cell\n",
       "var outputEl = gd.closest('.output');\n",
       "if (outputEl) {{\n",
       "    x.observe(outputEl, {childList: true});\n",
       "}}\n",
       "\n",
       "                        })\n",
       "                };\n",
       "                });\n",
       "            </script>\n",
       "        </div>"
      ]
     },
     "metadata": {},
     "output_type": "display_data"
    }
   ],
   "source": [
    "#Plotando em conjunto o centro dos dados\n",
    "fig.add_trace(go.Scatter3d(x = centros['Intensidade_de_cor'], \n",
    "                           y = centros['Alcool'],\n",
    "                           z = centros['Proline'],\n",
    "                           mode = 'markers',\n",
    "                           marker = dict(color = 'red'), \n",
    "                           text = [0, 1, 2]))\n",
    "\n",
    "fig.show()"
   ]
  },
  {
   "cell_type": "code",
   "execution_count": 93,
   "id": "8e817eb7",
   "metadata": {},
   "outputs": [
    {
     "data": {
      "text/html": [
       "<style>#sk-container-id-4 {color: black;background-color: white;}#sk-container-id-4 pre{padding: 0;}#sk-container-id-4 div.sk-toggleable {background-color: white;}#sk-container-id-4 label.sk-toggleable__label {cursor: pointer;display: block;width: 100%;margin-bottom: 0;padding: 0.3em;box-sizing: border-box;text-align: center;}#sk-container-id-4 label.sk-toggleable__label-arrow:before {content: \"▸\";float: left;margin-right: 0.25em;color: #696969;}#sk-container-id-4 label.sk-toggleable__label-arrow:hover:before {color: black;}#sk-container-id-4 div.sk-estimator:hover label.sk-toggleable__label-arrow:before {color: black;}#sk-container-id-4 div.sk-toggleable__content {max-height: 0;max-width: 0;overflow: hidden;text-align: left;background-color: #f0f8ff;}#sk-container-id-4 div.sk-toggleable__content pre {margin: 0.2em;color: black;border-radius: 0.25em;background-color: #f0f8ff;}#sk-container-id-4 input.sk-toggleable__control:checked~div.sk-toggleable__content {max-height: 200px;max-width: 100%;overflow: auto;}#sk-container-id-4 input.sk-toggleable__control:checked~label.sk-toggleable__label-arrow:before {content: \"▾\";}#sk-container-id-4 div.sk-estimator input.sk-toggleable__control:checked~label.sk-toggleable__label {background-color: #d4ebff;}#sk-container-id-4 div.sk-label input.sk-toggleable__control:checked~label.sk-toggleable__label {background-color: #d4ebff;}#sk-container-id-4 input.sk-hidden--visually {border: 0;clip: rect(1px 1px 1px 1px);clip: rect(1px, 1px, 1px, 1px);height: 1px;margin: -1px;overflow: hidden;padding: 0;position: absolute;width: 1px;}#sk-container-id-4 div.sk-estimator {font-family: monospace;background-color: #f0f8ff;border: 1px dotted black;border-radius: 0.25em;box-sizing: border-box;margin-bottom: 0.5em;}#sk-container-id-4 div.sk-estimator:hover {background-color: #d4ebff;}#sk-container-id-4 div.sk-parallel-item::after {content: \"\";width: 100%;border-bottom: 1px solid gray;flex-grow: 1;}#sk-container-id-4 div.sk-label:hover label.sk-toggleable__label {background-color: #d4ebff;}#sk-container-id-4 div.sk-serial::before {content: \"\";position: absolute;border-left: 1px solid gray;box-sizing: border-box;top: 0;bottom: 0;left: 50%;z-index: 0;}#sk-container-id-4 div.sk-serial {display: flex;flex-direction: column;align-items: center;background-color: white;padding-right: 0.2em;padding-left: 0.2em;position: relative;}#sk-container-id-4 div.sk-item {position: relative;z-index: 1;}#sk-container-id-4 div.sk-parallel {display: flex;align-items: stretch;justify-content: center;background-color: white;position: relative;}#sk-container-id-4 div.sk-item::before, #sk-container-id-4 div.sk-parallel-item::before {content: \"\";position: absolute;border-left: 1px solid gray;box-sizing: border-box;top: 0;bottom: 0;left: 50%;z-index: -1;}#sk-container-id-4 div.sk-parallel-item {display: flex;flex-direction: column;z-index: 1;position: relative;background-color: white;}#sk-container-id-4 div.sk-parallel-item:first-child::after {align-self: flex-end;width: 50%;}#sk-container-id-4 div.sk-parallel-item:last-child::after {align-self: flex-start;width: 50%;}#sk-container-id-4 div.sk-parallel-item:only-child::after {width: 0;}#sk-container-id-4 div.sk-dashed-wrapped {border: 1px dashed gray;margin: 0 0.4em 0.5em 0.4em;box-sizing: border-box;padding-bottom: 0.4em;background-color: white;}#sk-container-id-4 div.sk-label label {font-family: monospace;font-weight: bold;display: inline-block;line-height: 1.2em;}#sk-container-id-4 div.sk-label-container {text-align: center;}#sk-container-id-4 div.sk-container {/* jupyter's `normalize.less` sets `[hidden] { display: none; }` but bootstrap.min.css set `[hidden] { display: none !important; }` so we also need the `!important` here to be able to override the default hidden behavior on the sphinx rendered scikit-learn.org. See: https://github.com/scikit-learn/scikit-learn/issues/21755 */display: inline-block !important;position: relative;}#sk-container-id-4 div.sk-text-repr-fallback {display: none;}</style><div id=\"sk-container-id-4\" class=\"sk-top-container\"><div class=\"sk-text-repr-fallback\"><pre>DBSCAN(eps=1.31, metric=&#x27;manhattan&#x27;, min_samples=15)</pre><b>In a Jupyter environment, please rerun this cell to show the HTML representation or trust the notebook. <br />On GitHub, the HTML representation is unable to render, please try loading this page with nbviewer.org.</b></div><div class=\"sk-container\" hidden><div class=\"sk-item\"><div class=\"sk-estimator sk-toggleable\"><input class=\"sk-toggleable__control sk-hidden--visually\" id=\"sk-estimator-id-4\" type=\"checkbox\" checked><label for=\"sk-estimator-id-4\" class=\"sk-toggleable__label sk-toggleable__label-arrow\">DBSCAN</label><div class=\"sk-toggleable__content\"><pre>DBSCAN(eps=1.31, metric=&#x27;manhattan&#x27;, min_samples=15)</pre></div></div></div></div></div>"
      ],
      "text/plain": [
       "DBSCAN(eps=1.31, metric='manhattan', min_samples=15)"
      ]
     },
     "execution_count": 93,
     "metadata": {},
     "output_type": "execute_result"
    }
   ],
   "source": [
    "#clusterização com DBScan, funciona dados de muita densidade\n",
    "from sklearn.cluster import DBSCAN\n",
    "agrupador = DBSCAN(eps= 1.31, min_samples= 15, metric= 'manhattan')\n",
    "agrupador.fit(df)\n"
   ]
  },
  {
   "cell_type": "code",
   "execution_count": 94,
   "id": "a8106c2e",
   "metadata": {},
   "outputs": [
    {
     "data": {
      "text/plain": [
       "array([ 0,  0,  0,  0, -1,  0,  0,  0,  0,  0,  0,  0,  0, -1,  0,  0,  0,\n",
       "        0,  0,  0,  0,  0,  0,  0,  0, -1,  0,  0,  0,  0,  0,  0,  0,  0,\n",
       "        0,  0,  0,  0,  0, -1,  0, -1,  0, -1,  0, -1,  0,  0,  0,  0, -1,\n",
       "        0,  0,  0,  0,  0,  0,  0,  0, -1, -1, -1, -1, -1, -1, -1, -1,  1,\n",
       "       -1, -1, -1, -1, -1, -1, -1, -1, -1, -1, -1, -1, -1,  1, -1, -1, -1,\n",
       "        1, -1, -1, -1, -1,  1,  1, -1, -1, -1, -1, -1, -1, -1, -1, -1,  1,\n",
       "       -1,  1,  1, -1,  1,  1,  1, -1, -1, -1, -1, -1, -1, -1,  1,  1, -1,\n",
       "        1, -1, -1, -1, -1, -1,  1, -1, -1, -1, -1, -1,  2, -1,  2, -1,  2,\n",
       "       -1, -1,  2, -1, -1,  2, -1, -1,  2,  2, -1,  2,  2,  2, -1, -1, -1,\n",
       "        2, -1,  2,  2, -1, -1, -1,  2,  2,  2,  2,  2, -1,  2,  2,  2, -1,\n",
       "        2,  2,  2,  2,  2,  2,  2,  2], dtype=int64)"
      ]
     },
     "execution_count": 94,
     "metadata": {},
     "output_type": "execute_result"
    }
   ],
   "source": [
    "agrupador.labels_"
   ]
  },
  {
   "cell_type": "code",
   "execution_count": 95,
   "id": "9aca221f",
   "metadata": {},
   "outputs": [
    {
     "data": {
      "text/plain": [
       "array([-1,  0,  1,  2], dtype=int64)"
      ]
     },
     "execution_count": 95,
     "metadata": {},
     "output_type": "execute_result"
    }
   ],
   "source": [
    "np.unique(agrupador.labels_)"
   ]
  },
  {
   "cell_type": "code",
   "execution_count": 96,
   "id": "56d94c7a",
   "metadata": {},
   "outputs": [
    {
     "data": {
      "text/plain": [
       "array([ 0,  0,  0,  0,  0,  0,  0,  0,  0,  0,  0,  0,  0,  0,  0,  0,  0,\n",
       "        0,  0,  0,  0,  0,  0,  0,  0, -1,  0,  0,  0,  0,  0,  0,  0,  0,\n",
       "        0,  0,  0,  0,  0,  0,  0,  0,  0,  0,  0,  0,  0,  0,  0,  0, -1,\n",
       "        0,  0,  0,  0,  0,  0,  0,  0, -1, -1, -1,  1,  1,  1,  1, -1,  1,\n",
       "       -1, -1, -1, -1,  1, -1, -1,  1,  1,  1, -1, -1,  1,  1,  1, -1,  1,\n",
       "        1,  1,  1,  1,  1,  1,  1,  1,  1,  1, -1, -1,  1,  1, -1,  1,  1,\n",
       "        1,  1,  1,  1,  1,  1,  1, -1, -1,  1, -1,  1,  1, -1,  1,  1, -1,\n",
       "        1,  1, -1,  1, -1, -1,  1,  1,  1,  1,  1, -1,  2,  2,  2,  2,  2,\n",
       "        2,  2,  2, -1,  2,  2,  2,  2,  2,  2,  2,  2,  2,  2,  2,  2, -1,\n",
       "        2,  2,  2,  2,  2, -1, -1,  2,  2,  2,  2,  2,  2,  2,  2,  2,  2,\n",
       "        2,  2,  2,  2,  2,  2,  2,  2], dtype=int64)"
      ]
     },
     "execution_count": 96,
     "metadata": {},
     "output_type": "execute_result"
    }
   ],
   "source": [
    "#eps é o espaçamento dos dados\n",
    "agrupador = DBSCAN(eps= 1.5, min_samples= 15, metric= 'manhattan')\n",
    "agrupador.fit(df)\n",
    "agrupador.labels_"
   ]
  },
  {
   "cell_type": "code",
   "execution_count": 97,
   "id": "6b0ed0f0",
   "metadata": {},
   "outputs": [],
   "source": [
    "#biblioteca no qual não necessita de muitos parametros para cluster\n",
    "from sklearn.cluster import MeanShift"
   ]
  },
  {
   "cell_type": "code",
   "execution_count": 98,
   "id": "837535d9",
   "metadata": {},
   "outputs": [
    {
     "data": {
      "text/plain": [
       "array([0, 0, 0, 0, 0, 0, 0, 0, 0, 0, 0, 0, 0, 0, 0, 0, 0, 0, 0, 0, 0, 0,\n",
       "       0, 0, 0, 0, 0, 0, 0, 0, 0, 0, 0, 0, 0, 0, 0, 0, 0, 0, 0, 0, 0, 0,\n",
       "       0, 0, 0, 0, 0, 0, 0, 0, 0, 0, 0, 0, 0, 0, 0, 0, 0, 0, 0, 0, 0, 0,\n",
       "       0, 0, 0, 0, 0, 0, 0, 0, 0, 0, 0, 0, 0, 0, 0, 0, 0, 0, 0, 0, 0, 0,\n",
       "       0, 0, 0, 0, 0, 0, 0, 0, 0, 0, 0, 0, 0, 0, 0, 0, 0, 0, 0, 0, 0, 0,\n",
       "       0, 0, 0, 0, 0, 0, 0, 0, 0, 0, 0, 1, 0, 0, 0, 0, 0, 0, 0, 0, 0, 0,\n",
       "       0, 0, 0, 0, 0, 0, 0, 0, 0, 0, 0, 0, 0, 0, 0, 0, 0, 0, 0, 0, 0, 0,\n",
       "       0, 0, 0, 0, 0, 0, 0, 0, 0, 0, 0, 0, 0, 0, 0, 0, 0, 0, 0, 0, 0, 0,\n",
       "       0, 0], dtype=int64)"
      ]
     },
     "execution_count": 98,
     "metadata": {},
     "output_type": "execute_result"
    }
   ],
   "source": [
    "agrupador = MeanShift()\n",
    "agrupador.fit(df)\n",
    "agrupador.labels_"
   ]
  },
  {
   "cell_type": "code",
   "execution_count": 99,
   "id": "88ccb02b",
   "metadata": {},
   "outputs": [],
   "source": [
    "#biblioteca com funcao para definir regiao e realizar o deslocamento de media \n",
    "from sklearn.cluster import estimate_bandwidth"
   ]
  },
  {
   "cell_type": "code",
   "execution_count": 105,
   "id": "4c3769e7",
   "metadata": {},
   "outputs": [
    {
     "data": {
      "text/plain": [
       "array([ 0,  0,  0,  0,  0,  0,  0,  0,  0,  0,  0,  0,  0,  0,  0,  0,  0,\n",
       "        0,  0,  0,  0,  0,  0,  0,  0,  0,  0,  0,  0,  0,  0,  0,  0,  0,\n",
       "        0,  0,  0,  0,  0,  0,  0,  0,  0,  0,  0,  0,  0,  0,  0,  0,  0,\n",
       "        0,  0,  0,  0,  0,  0,  0,  0,  8,  1,  1,  1,  5,  1,  1,  1,  1,\n",
       "        1,  3,  1,  5,  1,  7,  1,  1,  1,  1,  3,  1,  1,  1,  1,  2,  1,\n",
       "        1,  1,  1,  1,  1,  1,  1,  1,  1,  1,  3, 10,  1,  1, 13,  1,  1,\n",
       "        1,  1,  1,  1,  1,  1,  1,  1, 12,  1,  1,  1,  1, 13,  1,  1,  1,\n",
       "        1,  1, 11,  6,  6,  9,  1,  1,  1,  1,  1,  2,  2,  2,  2,  2,  2,\n",
       "        2,  2,  2,  2,  2,  2,  2,  2,  2,  2,  2,  2,  2,  2,  2,  2,  2,\n",
       "        2,  2,  2,  2,  2,  4,  4,  2,  2,  2,  2,  2,  2,  2,  2,  2,  2,\n",
       "        2,  2,  2,  2,  2,  2,  2,  2], dtype=int64)"
      ]
     },
     "execution_count": 105,
     "metadata": {},
     "output_type": "execute_result"
    }
   ],
   "source": [
    "#Define a quantidade de pontos e ordena eles\n",
    "BW = estimate_bandwidth(df, quantile= 0.1)\n",
    "agrupador = MeanShift(bandwidth = BW)\n",
    "agrupador.fit(df)\n",
    "agrupador.labels_"
   ]
  },
  {
   "cell_type": "code",
   "execution_count": 106,
   "id": "3c3d8328",
   "metadata": {},
   "outputs": [
    {
     "data": {
      "text/plain": [
       "array([[0.70531189, 0.24681599, 0.57892652, 0.33858343, 0.39070048,\n",
       "        0.63422733, 0.54938272, 0.29280224, 0.45735483, 0.35831437,\n",
       "        0.46732912, 0.69495319, 0.59238125, 0.        ],\n",
       "       [0.30943517, 0.1844693 , 0.45911047, 0.48994217, 0.21182397,\n",
       "        0.40824222, 0.35381291, 0.41463415, 0.3495422 , 0.14034796,\n",
       "        0.47332937, 0.58777808, 0.14867263, 0.5       ],\n",
       "       [0.56268556, 0.54966048, 0.56465104, 0.54665609, 0.30379041,\n",
       "        0.21998232, 0.07573299, 0.6303822 , 0.21184179, 0.51260173,\n",
       "        0.16927246, 0.16586832, 0.2617689 , 1.        ],\n",
       "       [0.34385965, 0.09749671, 0.32442068, 0.32302405, 0.86594203,\n",
       "        0.38045977, 0.30801688, 0.26415094, 0.76866456, 0.14249147,\n",
       "        0.55826558, 0.51282051, 0.37351403, 0.5       ],\n",
       "       [0.75789474, 0.18478261, 0.70053476, 0.67783505, 0.25543478,\n",
       "        0.59310345, 0.18248945, 0.74528302, 0.65772871, 0.94667235,\n",
       "        0.07317073, 0.21978022, 0.25820257, 1.        ],\n",
       "       [0.74473684, 0.15217391, 0.70053476, 0.74226804, 0.17391304,\n",
       "        0.67931034, 0.53164557, 0.1509434 , 0.46056782, 0.17918089,\n",
       "        0.71544715, 0.69230769, 0.09415121, 0.5       ],\n",
       "       [0.53157895, 1.        , 0.41176471, 0.56185567, 0.17391304,\n",
       "        0.56551724, 0.48734177, 0.32075472, 0.50473186, 0.11262799,\n",
       "        0.20325203, 0.67032967, 0.07275321, 0.5       ],\n",
       "       [0.51578947, 0.18379447, 0.6631016 , 1.        , 0.75      ,\n",
       "        0.8       , 0.53797468, 0.1509434 , 0.48895899, 0.17662116,\n",
       "        0.67479675, 0.81684982, 0.5042796 , 0.5       ],\n",
       "       [0.35263158, 0.03952569, 0.        , 0.        , 0.19565217,\n",
       "        0.34482759, 0.04852321, 0.28301887, 0.00315457, 0.05716724,\n",
       "        0.46341463, 0.2014652 , 0.17261056, 0.5       ],\n",
       "       [0.22105263, 0.7055336 , 0.55080214, 0.53608247, 0.13043478,\n",
       "        0.64827586, 0.56751055, 0.1509434 , 0.78864353, 0.12969283,\n",
       "        0.2195122 , 0.86813187, 0.07275321, 0.5       ],\n",
       "       [0.20526316, 0.27272727, 0.73796791, 0.56185567, 0.69565217,\n",
       "        0.2137931 , 0.1371308 , 0.01886792, 0.36277603, 0.10409556,\n",
       "        0.38211382, 0.36263736, 0.24750357, 0.5       ],\n",
       "       [0.13947368, 0.25889328, 1.        , 0.92268041, 0.5326087 ,\n",
       "        0.75862069, 1.        , 0.64150943, 0.46056782, 0.40273038,\n",
       "        0.36585366, 0.88644689, 0.13338088, 0.5       ],\n",
       "       [0.11315789, 0.59288538, 0.2459893 , 0.45876289, 0.40217391,\n",
       "        0.75862069, 0.47257384, 0.20754717, 1.        , 0.13822526,\n",
       "        0.2195122 , 0.56410256, 0.20256776, 0.5       ],\n",
       "       [0.        , 0.15217391, 0.44919786, 0.56185567, 0.16304348,\n",
       "        0.51034483, 0.38607595, 0.73584906, 0.50473186, 0.05290102,\n",
       "        1.        , 0.58608059, 0.09201141, 0.5       ]])"
      ]
     },
     "execution_count": 106,
     "metadata": {},
     "output_type": "execute_result"
    }
   ],
   "source": [
    "agrupador.cluster_centers_"
   ]
  },
  {
   "cell_type": "code",
   "execution_count": 107,
   "id": "9a590b49",
   "metadata": {},
   "outputs": [
    {
     "name": "stderr",
     "output_type": "stream",
     "text": [
      "C:\\Users\\Renato\\AppData\\Local\\Temp/ipykernel_9608/4069099307.py:5: DeprecationWarning:\n",
      "\n",
      "`np.float` is a deprecated alias for the builtin `float`. To silence this warning, use `float` by itself. Doing this will not modify any behavior and is safe. If you specifically wanted the numpy scalar type, use `np.float64` here.\n",
      "Deprecated in NumPy 1.20; for more details and guidance: https://numpy.org/devdocs/release/1.20.0-notes.html#deprecations\n",
      "\n"
     ]
    },
    {
     "data": {
      "application/vnd.plotly.v1+json": {
       "config": {
        "plotlyServerURL": "https://plot.ly"
       },
       "data": [
        {
         "marker": {
          "color": [
           0,
           0,
           0,
           0,
           0,
           0,
           0,
           0,
           0,
           0,
           0,
           0,
           0,
           0,
           0,
           0,
           0,
           0,
           0,
           0,
           0,
           0,
           0,
           0,
           0,
           0,
           0,
           0,
           0,
           0,
           0,
           0,
           0,
           0,
           0,
           0,
           0,
           0,
           0,
           0,
           0,
           0,
           0,
           0,
           0,
           0,
           0,
           0,
           0,
           0,
           0,
           0,
           0,
           0,
           0,
           0,
           0,
           0,
           0,
           8,
           1,
           1,
           1,
           5,
           1,
           1,
           1,
           1,
           1,
           3,
           1,
           5,
           1,
           7,
           1,
           1,
           1,
           1,
           3,
           1,
           1,
           1,
           1,
           2,
           1,
           1,
           1,
           1,
           1,
           1,
           1,
           1,
           1,
           1,
           1,
           3,
           10,
           1,
           1,
           13,
           1,
           1,
           1,
           1,
           1,
           1,
           1,
           1,
           1,
           1,
           12,
           1,
           1,
           1,
           1,
           13,
           1,
           1,
           1,
           1,
           1,
           11,
           6,
           6,
           9,
           1,
           1,
           1,
           1,
           1,
           2,
           2,
           2,
           2,
           2,
           2,
           2,
           2,
           2,
           2,
           2,
           2,
           2,
           2,
           2,
           2,
           2,
           2,
           2,
           2,
           2,
           2,
           2,
           2,
           2,
           2,
           2,
           2,
           4,
           4,
           2,
           2,
           2,
           2,
           2,
           2,
           2,
           2,
           2,
           2,
           2,
           2,
           2,
           2,
           2,
           2,
           2,
           2
          ]
         },
         "mode": "markers",
         "text": [
          "0",
          "1",
          "2"
         ],
         "type": "scatter3d",
         "x": [
          0.37201365187713303,
          0.26450511945392485,
          0.3754266211604095,
          0.5563139931740614,
          0.2593856655290102,
          0.46672354948805456,
          0.3387372013651877,
          0.3216723549488054,
          0.33447098976109213,
          0.5068259385665528,
          0.3813993174061433,
          0.31740614334470985,
          0.3686006825938566,
          0.3515358361774744,
          0.530716723549488,
          0.5136518771331058,
          0.4197952218430034,
          0.45392491467576784,
          0.6331058020477814,
          0.32593856655290093,
          0.3728668941979522,
          0.27474402730375425,
          0.21501706484641633,
          0.22610921501706485,
          0.19112627986348124,
          0.19624573378839588,
          0.3003412969283276,
          0.22781569965870305,
          0.27474402730375425,
          0.2918088737201365,
          0.37713310580204773,
          0.47952218430034127,
          0.21843003412969278,
          0.3515358361774744,
          0.24914675767918087,
          0.32593856655290093,
          0.28327645051194533,
          0.2534129692832764,
          0.20648464163822525,
          0.32593856655290093,
          0.41382252559726956,
          0.25597269624573377,
          0.3540955631399317,
          0.26279863481228666,
          0.3208191126279863,
          0.3378839590443686,
          0.30887372013651876,
          0.4112627986348122,
          0.4197952218430034,
          0.6501706484641638,
          0.5051194539249146,
          0.3686006825938566,
          0.4923208191126279,
          0.42832764505119447,
          0.3899317406143344,
          0.42406143344709896,
          0.43515358361774736,
          0.4027303754266211,
          0.4709897610921501,
          0.057167235494880536,
          0.1697952218430034,
          0.3813993174061433,
          0.21501706484641633,
          0.2704778156996587,
          0.14249146757679182,
          0.28327645051194533,
          0.3430034129692832,
          0.2901023890784982,
          0.16126279863481227,
          0.13395904436860068,
          0.1510238907849829,
          0.17918088737201363,
          0.2098976109215017,
          0.17662116040955633,
          0.16467576791808872,
          0.21501706484641633,
          0.28327645051194533,
          0.11689419795221842,
          0.18088737201365188,
          0.1100682593856655,
          0.10409556313993173,
          0.2235494880546075,
          0.07849829351535836,
          0.3003412969283276,
          0.1510238907849829,
          0.11433447098976109,
          0.09982935153583619,
          0.11262798634812286,
          0.1296928327645051,
          0.039249146757679175,
          0.09556313993174059,
          0.19795221843003413,
          0.1510238907849829,
          0.07423208191126278,
          0.16808873720136516,
          0.11262798634812286,
          0.10409556313993173,
          0.13822525597269622,
          0.27474402730375425,
          0.08703071672354946,
          0.1723549488054607,
          0.09982935153583619,
          0.1296928327645051,
          0.06655290102389079,
          0.1416382252559727,
          0.121160409556314,
          0.18088737201365188,
          0.1723549488054607,
          0.121160409556314,
          0.11689419795221842,
          0.13822525597269622,
          0.0614334470989761,
          0.21501706484641633,
          0.15358361774744028,
          0.13822525597269622,
          0.05290102389078497,
          0.057167235494880536,
          0.06655290102389079,
          0.18088737201365188,
          0,
          0.16808873720136516,
          0.4027303754266211,
          0.06825938566552901,
          0.11262798634812286,
          0.1296928327645051,
          0.12627986348122863,
          0.22696245733788395,
          0.14675767918088736,
          0.07167235494880546,
          0.11262798634812286,
          0.2406143344709897,
          0.3515358361774744,
          0.37713310580204773,
          0.31740614334470985,
          0.35580204778156993,
          0.49658703071672344,
          0.21928327645051196,
          0.31740614334470985,
          0.37713310580204773,
          0.31058020477815695,
          0.28327645051194533,
          0.3686006825938566,
          0.26194539249146753,
          0.26621160409556316,
          0.591296928327645,
          0.2320819112627986,
          0.30887372013651876,
          0.5435153583617747,
          0.6092150170648464,
          0.6928327645051195,
          0.6245733788395904,
          0.8122866894197953,
          0.49658703071672344,
          0.78839590443686,
          0.5392491467576791,
          0.5648464163822525,
          0.6595563139931739,
          0.530716723549488,
          1,
          0.893344709897611,
          0.5435153583617747,
          0.39249146757679176,
          0.3668941979522184,
          0.341296928327645,
          0.7081911262798635,
          0.4556313993174061,
          0.8020477815699658,
          0.7662116040955631,
          0.629692832764505,
          0.6160409556313993,
          0.3600682593856655,
          0.7354947952218429,
          0.7184300341296928,
          0.5477815699658702,
          0.5136518771331058,
          0.7610921501706485,
          0.6843003412969284,
          0.675767918088737
         ],
         "y": [
          0.8421052631578949,
          0.5710526315789473,
          0.5605263157894738,
          0.8789473684210525,
          0.5815789473684212,
          0.8342105263157893,
          0.8842105263157897,
          0.7973684210526317,
          1,
          0.744736842105263,
          0.8078947368421052,
          0.813157894736842,
          0.7157894736842105,
          0.9789473684210526,
          0.8815789473684212,
          0.6842105263157897,
          0.8605263157894739,
          0.736842105263158,
          0.831578947368421,
          0.686842105263158,
          0.7973684210526317,
          0.5,
          0.7052631578947371,
          0.4789473684210526,
          0.65,
          0.5315789473684213,
          0.6210526315789475,
          0.5973684210526318,
          0.7473684210526313,
          0.7868421052631578,
          0.7105263157894738,
          0.6710526315789475,
          0.6973684210526315,
          0.718421052631579,
          0.6526315789473685,
          0.6447368421052633,
          0.5921052631578946,
          0.5315789473684213,
          0.536842105263158,
          0.8394736842105265,
          0.6657894736842107,
          0.6263157894736843,
          0.7500000000000002,
          0.5815789473684212,
          0.5315789473684213,
          0.8368421052631582,
          0.8815789473684212,
          0.755263157894737,
          0.8078947368421052,
          0.7657894736842105,
          0.5315789473684213,
          0.736842105263158,
          0.7342105263157895,
          0.7210526315789473,
          0.7131578947368422,
          0.6657894736842107,
          0.8394736842105265,
          0.594736842105263,
          0.7078947368421055,
          0.3526315789473683,
          0.34210526315789486,
          0.42368421052631605,
          0.6947368421052632,
          0.3526315789473683,
          0.3000000000000001,
          0.3526315789473683,
          0.5473684210526315,
          0.3526315789473683,
          0.6078947368421053,
          0.31052631578947404,
          0.3315789473684209,
          0.744736842105263,
          0.6473684210526317,
          0.5157894736842107,
          0.2447368421052635,
          0.1657894736842107,
          0.5263157894736841,
          0.21315789473684219,
          0.34210526315789486,
          0.43947368421052624,
          0.25526315789473697,
          0.44473684210526343,
          0.27631578947368435,
          0.5315789473684213,
          0.21315789473684219,
          0.4315789473684211,
          0.2973684210526317,
          0.16315789473684233,
          0.16052631578947396,
          0.27631578947368435,
          0.27631578947368435,
          0.25526315789473697,
          0.43684210526315786,
          0.3315789473684209,
          0.15526315789473677,
          0.3789473684210529,
          0.2052631578947371,
          0.3315789473684209,
          0.3526315789473683,
          0.3315789473684209,
          0.27631578947368435,
          0.4131578947368421,
          0.34473684210526323,
          0.20789473684210547,
          0.38947368421052636,
          0.3657894736842106,
          0.3210526315789475,
          0.44473684210526343,
          0.31315789473684236,
          0.15263157894736842,
          0.11315789473684247,
          0.39210526315789473,
          0.1921052631578948,
          0.10000000000000019,
          0.27631578947368435,
          0,
          0.20789473684210547,
          0.3657894736842106,
          0.45789473684210524,
          0.25526315789473697,
          0.11052631578947364,
          0.13947368421052658,
          0.3657894736842106,
          0.5315789473684213,
          0.22105263157894728,
          0.273684210526316,
          0.368421052631579,
          0.1999999999999999,
          0.3526315789473683,
          0.2657894736842104,
          0.481578947368421,
          0.4868421052631582,
          0.4684210526315792,
          0.43947368421052624,
          0.38947368421052636,
          0.4131578947368421,
          0.3210526315789475,
          0.3947368421052631,
          0.6473684210526317,
          0.47631578947368425,
          0.5,
          0.613157894736842,
          0.6552631578947368,
          0.6815789473684208,
          0.3210526315789475,
          0.5605263157894738,
          0.7500000000000002,
          0.48421052631578937,
          0.6026315789473685,
          0.5394736842105264,
          0.65,
          0.46315789473684194,
          0.5473684210526315,
          0.5789473684210528,
          0.40789473684210537,
          0.5631578947368422,
          0.7394736842105263,
          0.3736842105263157,
          0.8710526315789473,
          0.6447368421052633,
          0.35,
          0.7,
          0.4789473684210526,
          0.5078947368421055,
          0.7236842105263157,
          0.7105263157894738,
          0.6368421052631578,
          0.4710526315789475,
          0.6710526315789475,
          0.623684210526316,
          0.30789473684210517,
          0.45789473684210524,
          0.8236842105263158,
          0.7052631578947371,
          0.623684210526316,
          0.5894736842105263,
          0.5631578947368422,
          0.8157894736842107
         ],
         "z": [
          0.5613409415121255,
          0.550641940085592,
          0.6469329529243937,
          0.8573466476462197,
          0.325962910128388,
          0.8359486447931527,
          0.7218259629101283,
          0.7253922967189729,
          0.5470756062767475,
          0.5470756062767475,
          0.8787446504992867,
          0.7146932952924394,
          0.7432239657631954,
          0.6219686162624821,
          0.9051355206847361,
          0.7360912981455064,
          0.7146932952924394,
          0.6077032810271041,
          1,
          0.4044222539229672,
          0.35805991440798857,
          0.3509272467902996,
          0.5399429386590585,
          0.5256776034236804,
          0.4044222539229672,
          0.39372325249643364,
          0.6540656205420827,
          0.7182596291012838,
          0.4543509272467903,
          0.5399429386590585,
          0.7182596291012838,
          0.8823109843081313,
          0.5078459343794579,
          0.6825962910128388,
          0.5827389443651926,
          0.4579172610556348,
          0.42938659058487877,
          0.5898716119828816,
          0.5292439372325249,
          0.3437945791726106,
          0.36875891583452214,
          0.5399429386590585,
          0.5827389443651926,
          0.2867332382310984,
          0.43295292439372324,
          0.572039942938659,
          0.5613409415121255,
          0.5042796005706134,
          0.557774607703281,
          0.7004279600570613,
          0.6219686162624821,
          0.7039942938659058,
          0.6504992867332382,
          0.782453637660485,
          0.557774607703281,
          0.6005706134094151,
          0.49358059914407987,
          0.7075606276747504,
          0.7182596291012838,
          0.17261055634807418,
          0.2867332382310984,
          0.12268188302425106,
          0.25106990014265335,
          0.10128388017118402,
          0.05492154065620542,
          0.28530670470756064,
          0.15977175463623394,
          0.16547788873038516,
          0.33666191155492153,
          0.31383737517831667,
          0.4222539229671897,
          0.09415121255349501,
          0.1383737517831669,
          0.5042796005706134,
          0.43366619115549215,
          0.10699001426533523,
          0.08131241084165478,
          0.15834522111269614,
          0.33666191155492153,
          0.13195435092724678,
          0,
          0.31098430813124106,
          0.25106990014265335,
          0.16904422253922968,
          0.17261055634807418,
          0.12268188302425106,
          0.15477888730385164,
          0.20256776034236804,
          0.2867332382310984,
          0.24750356633380885,
          0.14407988587731813,
          0.12268188302425106,
          0.15477888730385164,
          0.008559201141226819,
          0.04778887303851641,
          0.47004279600570614,
          0.24750356633380885,
          0.10699001426533523,
          0.2724679029957204,
          0.0912981455064194,
          0.30813124108416545,
          0.20256776034236804,
          0.11412268188302425,
          0.09771754636233952,
          0.2810271041369472,
          0.026390870185449358,
          0.16547788873038516,
          0.14978601997146934,
          0.024251069900142655,
          0.2867332382310984,
          0.20256776034236804,
          0.033523537803138374,
          0.2346647646219686,
          0.11126961483594865,
          0.07631954350927246,
          0.0920114122681883,
          0.15477888730385164,
          0.04778887303851641,
          0.06704707560627675,
          0.20399429386590584,
          0.24750356633380885,
          0.13338088445078458,
          0.062054208273894434,
          0.07275320970042796,
          0.07275320970042796,
          0.07132667617689016,
          0.052781740370898715,
          0.1340941512125535,
          0.0456490727532097,
          0.21540656205420827,
          0.25106990014265335,
          0.1797432239657632,
          0.20114122681883023,
          0.2296718972895863,
          0.2653352353780314,
          0.29743223965763194,
          0.3152639087018545,
          0.16904422253922968,
          0.21540656205420827,
          0.2225392296718973,
          0.2296718972895863,
          0.35805991440798857,
          0.17261055634807418,
          0.19400855920114124,
          0.4115549215406562,
          0.39372325249643364,
          0.09771754636233952,
          0.24750356633380885,
          0.2653352353780314,
          0.19400855920114124,
          0.15834522111269614,
          0.14407988587731813,
          0.10485021398002853,
          0.2831669044222539,
          0.2582025677603424,
          0.318830242510699,
          0.14407988587731813,
          0.42938659058487877,
          0.2724679029957204,
          0.24393723252496433,
          0.17261055634807418,
          0.2867332382310984,
          0.20827389443651925,
          0.2831669044222539,
          0.24037089871611983,
          0.17261055634807418,
          0.29743223965763194,
          0.29029957203994294,
          0.33666191155492153,
          0.25106990014265335,
          0.16547788873038516,
          0.1369472182596291,
          0.2724679029957204,
          0.32952924393723254,
          0.33666191155492153,
          0.39728958630527816,
          0.4008559201141227,
          0.20114122681883023
         ]
        }
       ],
       "layout": {
        "template": {
         "data": {
          "bar": [
           {
            "error_x": {
             "color": "#2a3f5f"
            },
            "error_y": {
             "color": "#2a3f5f"
            },
            "marker": {
             "line": {
              "color": "#E5ECF6",
              "width": 0.5
             }
            },
            "type": "bar"
           }
          ],
          "barpolar": [
           {
            "marker": {
             "line": {
              "color": "#E5ECF6",
              "width": 0.5
             }
            },
            "type": "barpolar"
           }
          ],
          "carpet": [
           {
            "aaxis": {
             "endlinecolor": "#2a3f5f",
             "gridcolor": "white",
             "linecolor": "white",
             "minorgridcolor": "white",
             "startlinecolor": "#2a3f5f"
            },
            "baxis": {
             "endlinecolor": "#2a3f5f",
             "gridcolor": "white",
             "linecolor": "white",
             "minorgridcolor": "white",
             "startlinecolor": "#2a3f5f"
            },
            "type": "carpet"
           }
          ],
          "choropleth": [
           {
            "colorbar": {
             "outlinewidth": 0,
             "ticks": ""
            },
            "type": "choropleth"
           }
          ],
          "contour": [
           {
            "colorbar": {
             "outlinewidth": 0,
             "ticks": ""
            },
            "colorscale": [
             [
              0,
              "#0d0887"
             ],
             [
              0.1111111111111111,
              "#46039f"
             ],
             [
              0.2222222222222222,
              "#7201a8"
             ],
             [
              0.3333333333333333,
              "#9c179e"
             ],
             [
              0.4444444444444444,
              "#bd3786"
             ],
             [
              0.5555555555555556,
              "#d8576b"
             ],
             [
              0.6666666666666666,
              "#ed7953"
             ],
             [
              0.7777777777777778,
              "#fb9f3a"
             ],
             [
              0.8888888888888888,
              "#fdca26"
             ],
             [
              1,
              "#f0f921"
             ]
            ],
            "type": "contour"
           }
          ],
          "contourcarpet": [
           {
            "colorbar": {
             "outlinewidth": 0,
             "ticks": ""
            },
            "type": "contourcarpet"
           }
          ],
          "heatmap": [
           {
            "colorbar": {
             "outlinewidth": 0,
             "ticks": ""
            },
            "colorscale": [
             [
              0,
              "#0d0887"
             ],
             [
              0.1111111111111111,
              "#46039f"
             ],
             [
              0.2222222222222222,
              "#7201a8"
             ],
             [
              0.3333333333333333,
              "#9c179e"
             ],
             [
              0.4444444444444444,
              "#bd3786"
             ],
             [
              0.5555555555555556,
              "#d8576b"
             ],
             [
              0.6666666666666666,
              "#ed7953"
             ],
             [
              0.7777777777777778,
              "#fb9f3a"
             ],
             [
              0.8888888888888888,
              "#fdca26"
             ],
             [
              1,
              "#f0f921"
             ]
            ],
            "type": "heatmap"
           }
          ],
          "heatmapgl": [
           {
            "colorbar": {
             "outlinewidth": 0,
             "ticks": ""
            },
            "colorscale": [
             [
              0,
              "#0d0887"
             ],
             [
              0.1111111111111111,
              "#46039f"
             ],
             [
              0.2222222222222222,
              "#7201a8"
             ],
             [
              0.3333333333333333,
              "#9c179e"
             ],
             [
              0.4444444444444444,
              "#bd3786"
             ],
             [
              0.5555555555555556,
              "#d8576b"
             ],
             [
              0.6666666666666666,
              "#ed7953"
             ],
             [
              0.7777777777777778,
              "#fb9f3a"
             ],
             [
              0.8888888888888888,
              "#fdca26"
             ],
             [
              1,
              "#f0f921"
             ]
            ],
            "type": "heatmapgl"
           }
          ],
          "histogram": [
           {
            "marker": {
             "colorbar": {
              "outlinewidth": 0,
              "ticks": ""
             }
            },
            "type": "histogram"
           }
          ],
          "histogram2d": [
           {
            "colorbar": {
             "outlinewidth": 0,
             "ticks": ""
            },
            "colorscale": [
             [
              0,
              "#0d0887"
             ],
             [
              0.1111111111111111,
              "#46039f"
             ],
             [
              0.2222222222222222,
              "#7201a8"
             ],
             [
              0.3333333333333333,
              "#9c179e"
             ],
             [
              0.4444444444444444,
              "#bd3786"
             ],
             [
              0.5555555555555556,
              "#d8576b"
             ],
             [
              0.6666666666666666,
              "#ed7953"
             ],
             [
              0.7777777777777778,
              "#fb9f3a"
             ],
             [
              0.8888888888888888,
              "#fdca26"
             ],
             [
              1,
              "#f0f921"
             ]
            ],
            "type": "histogram2d"
           }
          ],
          "histogram2dcontour": [
           {
            "colorbar": {
             "outlinewidth": 0,
             "ticks": ""
            },
            "colorscale": [
             [
              0,
              "#0d0887"
             ],
             [
              0.1111111111111111,
              "#46039f"
             ],
             [
              0.2222222222222222,
              "#7201a8"
             ],
             [
              0.3333333333333333,
              "#9c179e"
             ],
             [
              0.4444444444444444,
              "#bd3786"
             ],
             [
              0.5555555555555556,
              "#d8576b"
             ],
             [
              0.6666666666666666,
              "#ed7953"
             ],
             [
              0.7777777777777778,
              "#fb9f3a"
             ],
             [
              0.8888888888888888,
              "#fdca26"
             ],
             [
              1,
              "#f0f921"
             ]
            ],
            "type": "histogram2dcontour"
           }
          ],
          "mesh3d": [
           {
            "colorbar": {
             "outlinewidth": 0,
             "ticks": ""
            },
            "type": "mesh3d"
           }
          ],
          "parcoords": [
           {
            "line": {
             "colorbar": {
              "outlinewidth": 0,
              "ticks": ""
             }
            },
            "type": "parcoords"
           }
          ],
          "scatter": [
           {
            "marker": {
             "colorbar": {
              "outlinewidth": 0,
              "ticks": ""
             }
            },
            "type": "scatter"
           }
          ],
          "scatter3d": [
           {
            "line": {
             "colorbar": {
              "outlinewidth": 0,
              "ticks": ""
             }
            },
            "marker": {
             "colorbar": {
              "outlinewidth": 0,
              "ticks": ""
             }
            },
            "type": "scatter3d"
           }
          ],
          "scattercarpet": [
           {
            "marker": {
             "colorbar": {
              "outlinewidth": 0,
              "ticks": ""
             }
            },
            "type": "scattercarpet"
           }
          ],
          "scattergeo": [
           {
            "marker": {
             "colorbar": {
              "outlinewidth": 0,
              "ticks": ""
             }
            },
            "type": "scattergeo"
           }
          ],
          "scattergl": [
           {
            "marker": {
             "colorbar": {
              "outlinewidth": 0,
              "ticks": ""
             }
            },
            "type": "scattergl"
           }
          ],
          "scattermapbox": [
           {
            "marker": {
             "colorbar": {
              "outlinewidth": 0,
              "ticks": ""
             }
            },
            "type": "scattermapbox"
           }
          ],
          "scatterpolar": [
           {
            "marker": {
             "colorbar": {
              "outlinewidth": 0,
              "ticks": ""
             }
            },
            "type": "scatterpolar"
           }
          ],
          "scatterpolargl": [
           {
            "marker": {
             "colorbar": {
              "outlinewidth": 0,
              "ticks": ""
             }
            },
            "type": "scatterpolargl"
           }
          ],
          "scatterternary": [
           {
            "marker": {
             "colorbar": {
              "outlinewidth": 0,
              "ticks": ""
             }
            },
            "type": "scatterternary"
           }
          ],
          "surface": [
           {
            "colorbar": {
             "outlinewidth": 0,
             "ticks": ""
            },
            "colorscale": [
             [
              0,
              "#0d0887"
             ],
             [
              0.1111111111111111,
              "#46039f"
             ],
             [
              0.2222222222222222,
              "#7201a8"
             ],
             [
              0.3333333333333333,
              "#9c179e"
             ],
             [
              0.4444444444444444,
              "#bd3786"
             ],
             [
              0.5555555555555556,
              "#d8576b"
             ],
             [
              0.6666666666666666,
              "#ed7953"
             ],
             [
              0.7777777777777778,
              "#fb9f3a"
             ],
             [
              0.8888888888888888,
              "#fdca26"
             ],
             [
              1,
              "#f0f921"
             ]
            ],
            "type": "surface"
           }
          ],
          "table": [
           {
            "cells": {
             "fill": {
              "color": "#EBF0F8"
             },
             "line": {
              "color": "white"
             }
            },
            "header": {
             "fill": {
              "color": "#C8D4E3"
             },
             "line": {
              "color": "white"
             }
            },
            "type": "table"
           }
          ]
         },
         "layout": {
          "annotationdefaults": {
           "arrowcolor": "#2a3f5f",
           "arrowhead": 0,
           "arrowwidth": 1
          },
          "colorscale": {
           "diverging": [
            [
             0,
             "#8e0152"
            ],
            [
             0.1,
             "#c51b7d"
            ],
            [
             0.2,
             "#de77ae"
            ],
            [
             0.3,
             "#f1b6da"
            ],
            [
             0.4,
             "#fde0ef"
            ],
            [
             0.5,
             "#f7f7f7"
            ],
            [
             0.6,
             "#e6f5d0"
            ],
            [
             0.7,
             "#b8e186"
            ],
            [
             0.8,
             "#7fbc41"
            ],
            [
             0.9,
             "#4d9221"
            ],
            [
             1,
             "#276419"
            ]
           ],
           "sequential": [
            [
             0,
             "#0d0887"
            ],
            [
             0.1111111111111111,
             "#46039f"
            ],
            [
             0.2222222222222222,
             "#7201a8"
            ],
            [
             0.3333333333333333,
             "#9c179e"
            ],
            [
             0.4444444444444444,
             "#bd3786"
            ],
            [
             0.5555555555555556,
             "#d8576b"
            ],
            [
             0.6666666666666666,
             "#ed7953"
            ],
            [
             0.7777777777777778,
             "#fb9f3a"
            ],
            [
             0.8888888888888888,
             "#fdca26"
            ],
            [
             1,
             "#f0f921"
            ]
           ],
           "sequentialminus": [
            [
             0,
             "#0d0887"
            ],
            [
             0.1111111111111111,
             "#46039f"
            ],
            [
             0.2222222222222222,
             "#7201a8"
            ],
            [
             0.3333333333333333,
             "#9c179e"
            ],
            [
             0.4444444444444444,
             "#bd3786"
            ],
            [
             0.5555555555555556,
             "#d8576b"
            ],
            [
             0.6666666666666666,
             "#ed7953"
            ],
            [
             0.7777777777777778,
             "#fb9f3a"
            ],
            [
             0.8888888888888888,
             "#fdca26"
            ],
            [
             1,
             "#f0f921"
            ]
           ]
          },
          "colorway": [
           "#636efa",
           "#EF553B",
           "#00cc96",
           "#ab63fa",
           "#FFA15A",
           "#19d3f3",
           "#FF6692",
           "#B6E880",
           "#FF97FF",
           "#FECB52"
          ],
          "font": {
           "color": "#2a3f5f"
          },
          "geo": {
           "bgcolor": "white",
           "lakecolor": "white",
           "landcolor": "#E5ECF6",
           "showlakes": true,
           "showland": true,
           "subunitcolor": "white"
          },
          "hoverlabel": {
           "align": "left"
          },
          "hovermode": "closest",
          "mapbox": {
           "style": "light"
          },
          "paper_bgcolor": "white",
          "plot_bgcolor": "#E5ECF6",
          "polar": {
           "angularaxis": {
            "gridcolor": "white",
            "linecolor": "white",
            "ticks": ""
           },
           "bgcolor": "#E5ECF6",
           "radialaxis": {
            "gridcolor": "white",
            "linecolor": "white",
            "ticks": ""
           }
          },
          "scene": {
           "xaxis": {
            "backgroundcolor": "#E5ECF6",
            "gridcolor": "white",
            "gridwidth": 2,
            "linecolor": "white",
            "showbackground": true,
            "ticks": "",
            "zerolinecolor": "white"
           },
           "yaxis": {
            "backgroundcolor": "#E5ECF6",
            "gridcolor": "white",
            "gridwidth": 2,
            "linecolor": "white",
            "showbackground": true,
            "ticks": "",
            "zerolinecolor": "white"
           },
           "zaxis": {
            "backgroundcolor": "#E5ECF6",
            "gridcolor": "white",
            "gridwidth": 2,
            "linecolor": "white",
            "showbackground": true,
            "ticks": "",
            "zerolinecolor": "white"
           }
          },
          "shapedefaults": {
           "line": {
            "color": "#2a3f5f"
           }
          },
          "ternary": {
           "aaxis": {
            "gridcolor": "white",
            "linecolor": "white",
            "ticks": ""
           },
           "baxis": {
            "gridcolor": "white",
            "linecolor": "white",
            "ticks": ""
           },
           "bgcolor": "#E5ECF6",
           "caxis": {
            "gridcolor": "white",
            "linecolor": "white",
            "ticks": ""
           }
          },
          "title": {
           "x": 0.05
          },
          "xaxis": {
           "automargin": true,
           "gridcolor": "white",
           "linecolor": "white",
           "ticks": "",
           "zerolinecolor": "white",
           "zerolinewidth": 2
          },
          "yaxis": {
           "automargin": true,
           "gridcolor": "white",
           "linecolor": "white",
           "ticks": "",
           "zerolinecolor": "white",
           "zerolinewidth": 2
          }
         }
        }
       }
      },
      "text/html": [
       "<div>\n",
       "        \n",
       "        \n",
       "            <div id=\"285f8ea6-6378-4e1d-b3b9-3998967379f2\" class=\"plotly-graph-div\" style=\"height:525px; width:100%;\"></div>\n",
       "            <script type=\"text/javascript\">\n",
       "                require([\"plotly\"], function(Plotly) {\n",
       "                    window.PLOTLYENV=window.PLOTLYENV || {};\n",
       "                    \n",
       "                if (document.getElementById(\"285f8ea6-6378-4e1d-b3b9-3998967379f2\")) {\n",
       "                    Plotly.newPlot(\n",
       "                        '285f8ea6-6378-4e1d-b3b9-3998967379f2',\n",
       "                        [{\"marker\": {\"color\": [0.0, 0.0, 0.0, 0.0, 0.0, 0.0, 0.0, 0.0, 0.0, 0.0, 0.0, 0.0, 0.0, 0.0, 0.0, 0.0, 0.0, 0.0, 0.0, 0.0, 0.0, 0.0, 0.0, 0.0, 0.0, 0.0, 0.0, 0.0, 0.0, 0.0, 0.0, 0.0, 0.0, 0.0, 0.0, 0.0, 0.0, 0.0, 0.0, 0.0, 0.0, 0.0, 0.0, 0.0, 0.0, 0.0, 0.0, 0.0, 0.0, 0.0, 0.0, 0.0, 0.0, 0.0, 0.0, 0.0, 0.0, 0.0, 0.0, 8.0, 1.0, 1.0, 1.0, 5.0, 1.0, 1.0, 1.0, 1.0, 1.0, 3.0, 1.0, 5.0, 1.0, 7.0, 1.0, 1.0, 1.0, 1.0, 3.0, 1.0, 1.0, 1.0, 1.0, 2.0, 1.0, 1.0, 1.0, 1.0, 1.0, 1.0, 1.0, 1.0, 1.0, 1.0, 1.0, 3.0, 10.0, 1.0, 1.0, 13.0, 1.0, 1.0, 1.0, 1.0, 1.0, 1.0, 1.0, 1.0, 1.0, 1.0, 12.0, 1.0, 1.0, 1.0, 1.0, 13.0, 1.0, 1.0, 1.0, 1.0, 1.0, 11.0, 6.0, 6.0, 9.0, 1.0, 1.0, 1.0, 1.0, 1.0, 2.0, 2.0, 2.0, 2.0, 2.0, 2.0, 2.0, 2.0, 2.0, 2.0, 2.0, 2.0, 2.0, 2.0, 2.0, 2.0, 2.0, 2.0, 2.0, 2.0, 2.0, 2.0, 2.0, 2.0, 2.0, 2.0, 2.0, 2.0, 4.0, 4.0, 2.0, 2.0, 2.0, 2.0, 2.0, 2.0, 2.0, 2.0, 2.0, 2.0, 2.0, 2.0, 2.0, 2.0, 2.0, 2.0, 2.0, 2.0]}, \"mode\": \"markers\", \"text\": [\"0\", \"1\", \"2\"], \"type\": \"scatter3d\", \"x\": [0.37201365187713303, 0.26450511945392485, 0.3754266211604095, 0.5563139931740614, 0.2593856655290102, 0.46672354948805456, 0.3387372013651877, 0.3216723549488054, 0.33447098976109213, 0.5068259385665528, 0.3813993174061433, 0.31740614334470985, 0.3686006825938566, 0.3515358361774744, 0.530716723549488, 0.5136518771331058, 0.4197952218430034, 0.45392491467576784, 0.6331058020477814, 0.32593856655290093, 0.3728668941979522, 0.27474402730375425, 0.21501706484641633, 0.22610921501706485, 0.19112627986348124, 0.19624573378839588, 0.3003412969283276, 0.22781569965870305, 0.27474402730375425, 0.2918088737201365, 0.37713310580204773, 0.47952218430034127, 0.21843003412969278, 0.3515358361774744, 0.24914675767918087, 0.32593856655290093, 0.28327645051194533, 0.2534129692832764, 0.20648464163822525, 0.32593856655290093, 0.41382252559726956, 0.25597269624573377, 0.3540955631399317, 0.26279863481228666, 0.3208191126279863, 0.3378839590443686, 0.30887372013651876, 0.4112627986348122, 0.4197952218430034, 0.6501706484641638, 0.5051194539249146, 0.3686006825938566, 0.4923208191126279, 0.42832764505119447, 0.3899317406143344, 0.42406143344709896, 0.43515358361774736, 0.4027303754266211, 0.4709897610921501, 0.057167235494880536, 0.1697952218430034, 0.3813993174061433, 0.21501706484641633, 0.2704778156996587, 0.14249146757679182, 0.28327645051194533, 0.3430034129692832, 0.2901023890784982, 0.16126279863481227, 0.13395904436860068, 0.1510238907849829, 0.17918088737201363, 0.2098976109215017, 0.17662116040955633, 0.16467576791808872, 0.21501706484641633, 0.28327645051194533, 0.11689419795221842, 0.18088737201365188, 0.1100682593856655, 0.10409556313993173, 0.2235494880546075, 0.07849829351535836, 0.3003412969283276, 0.1510238907849829, 0.11433447098976109, 0.09982935153583619, 0.11262798634812286, 0.1296928327645051, 0.039249146757679175, 0.09556313993174059, 0.19795221843003413, 0.1510238907849829, 0.07423208191126278, 0.16808873720136516, 0.11262798634812286, 0.10409556313993173, 0.13822525597269622, 0.27474402730375425, 0.08703071672354946, 0.1723549488054607, 0.09982935153583619, 0.1296928327645051, 0.06655290102389079, 0.1416382252559727, 0.121160409556314, 0.18088737201365188, 0.1723549488054607, 0.121160409556314, 0.11689419795221842, 0.13822525597269622, 0.0614334470989761, 0.21501706484641633, 0.15358361774744028, 0.13822525597269622, 0.05290102389078497, 0.057167235494880536, 0.06655290102389079, 0.18088737201365188, 0.0, 0.16808873720136516, 0.4027303754266211, 0.06825938566552901, 0.11262798634812286, 0.1296928327645051, 0.12627986348122863, 0.22696245733788395, 0.14675767918088736, 0.07167235494880546, 0.11262798634812286, 0.2406143344709897, 0.3515358361774744, 0.37713310580204773, 0.31740614334470985, 0.35580204778156993, 0.49658703071672344, 0.21928327645051196, 0.31740614334470985, 0.37713310580204773, 0.31058020477815695, 0.28327645051194533, 0.3686006825938566, 0.26194539249146753, 0.26621160409556316, 0.591296928327645, 0.2320819112627986, 0.30887372013651876, 0.5435153583617747, 0.6092150170648464, 0.6928327645051195, 0.6245733788395904, 0.8122866894197953, 0.49658703071672344, 0.78839590443686, 0.5392491467576791, 0.5648464163822525, 0.6595563139931739, 0.530716723549488, 1.0, 0.893344709897611, 0.5435153583617747, 0.39249146757679176, 0.3668941979522184, 0.341296928327645, 0.7081911262798635, 0.4556313993174061, 0.8020477815699658, 0.7662116040955631, 0.629692832764505, 0.6160409556313993, 0.3600682593856655, 0.7354947952218429, 0.7184300341296928, 0.5477815699658702, 0.5136518771331058, 0.7610921501706485, 0.6843003412969284, 0.675767918088737], \"y\": [0.8421052631578949, 0.5710526315789473, 0.5605263157894738, 0.8789473684210525, 0.5815789473684212, 0.8342105263157893, 0.8842105263157897, 0.7973684210526317, 1.0, 0.744736842105263, 0.8078947368421052, 0.813157894736842, 0.7157894736842105, 0.9789473684210526, 0.8815789473684212, 0.6842105263157897, 0.8605263157894739, 0.736842105263158, 0.831578947368421, 0.686842105263158, 0.7973684210526317, 0.5, 0.7052631578947371, 0.4789473684210526, 0.65, 0.5315789473684213, 0.6210526315789475, 0.5973684210526318, 0.7473684210526313, 0.7868421052631578, 0.7105263157894738, 0.6710526315789475, 0.6973684210526315, 0.718421052631579, 0.6526315789473685, 0.6447368421052633, 0.5921052631578946, 0.5315789473684213, 0.536842105263158, 0.8394736842105265, 0.6657894736842107, 0.6263157894736843, 0.7500000000000002, 0.5815789473684212, 0.5315789473684213, 0.8368421052631582, 0.8815789473684212, 0.755263157894737, 0.8078947368421052, 0.7657894736842105, 0.5315789473684213, 0.736842105263158, 0.7342105263157895, 0.7210526315789473, 0.7131578947368422, 0.6657894736842107, 0.8394736842105265, 0.594736842105263, 0.7078947368421055, 0.3526315789473683, 0.34210526315789486, 0.42368421052631605, 0.6947368421052632, 0.3526315789473683, 0.3000000000000001, 0.3526315789473683, 0.5473684210526315, 0.3526315789473683, 0.6078947368421053, 0.31052631578947404, 0.3315789473684209, 0.744736842105263, 0.6473684210526317, 0.5157894736842107, 0.2447368421052635, 0.1657894736842107, 0.5263157894736841, 0.21315789473684219, 0.34210526315789486, 0.43947368421052624, 0.25526315789473697, 0.44473684210526343, 0.27631578947368435, 0.5315789473684213, 0.21315789473684219, 0.4315789473684211, 0.2973684210526317, 0.16315789473684233, 0.16052631578947396, 0.27631578947368435, 0.27631578947368435, 0.25526315789473697, 0.43684210526315786, 0.3315789473684209, 0.15526315789473677, 0.3789473684210529, 0.2052631578947371, 0.3315789473684209, 0.3526315789473683, 0.3315789473684209, 0.27631578947368435, 0.4131578947368421, 0.34473684210526323, 0.20789473684210547, 0.38947368421052636, 0.3657894736842106, 0.3210526315789475, 0.44473684210526343, 0.31315789473684236, 0.15263157894736842, 0.11315789473684247, 0.39210526315789473, 0.1921052631578948, 0.10000000000000019, 0.27631578947368435, 0.0, 0.20789473684210547, 0.3657894736842106, 0.45789473684210524, 0.25526315789473697, 0.11052631578947364, 0.13947368421052658, 0.3657894736842106, 0.5315789473684213, 0.22105263157894728, 0.273684210526316, 0.368421052631579, 0.1999999999999999, 0.3526315789473683, 0.2657894736842104, 0.481578947368421, 0.4868421052631582, 0.4684210526315792, 0.43947368421052624, 0.38947368421052636, 0.4131578947368421, 0.3210526315789475, 0.3947368421052631, 0.6473684210526317, 0.47631578947368425, 0.5, 0.613157894736842, 0.6552631578947368, 0.6815789473684208, 0.3210526315789475, 0.5605263157894738, 0.7500000000000002, 0.48421052631578937, 0.6026315789473685, 0.5394736842105264, 0.65, 0.46315789473684194, 0.5473684210526315, 0.5789473684210528, 0.40789473684210537, 0.5631578947368422, 0.7394736842105263, 0.3736842105263157, 0.8710526315789473, 0.6447368421052633, 0.35, 0.7, 0.4789473684210526, 0.5078947368421055, 0.7236842105263157, 0.7105263157894738, 0.6368421052631578, 0.4710526315789475, 0.6710526315789475, 0.623684210526316, 0.30789473684210517, 0.45789473684210524, 0.8236842105263158, 0.7052631578947371, 0.623684210526316, 0.5894736842105263, 0.5631578947368422, 0.8157894736842107], \"z\": [0.5613409415121255, 0.550641940085592, 0.6469329529243937, 0.8573466476462197, 0.325962910128388, 0.8359486447931527, 0.7218259629101283, 0.7253922967189729, 0.5470756062767475, 0.5470756062767475, 0.8787446504992867, 0.7146932952924394, 0.7432239657631954, 0.6219686162624821, 0.9051355206847361, 0.7360912981455064, 0.7146932952924394, 0.6077032810271041, 1.0, 0.4044222539229672, 0.35805991440798857, 0.3509272467902996, 0.5399429386590585, 0.5256776034236804, 0.4044222539229672, 0.39372325249643364, 0.6540656205420827, 0.7182596291012838, 0.4543509272467903, 0.5399429386590585, 0.7182596291012838, 0.8823109843081313, 0.5078459343794579, 0.6825962910128388, 0.5827389443651926, 0.4579172610556348, 0.42938659058487877, 0.5898716119828816, 0.5292439372325249, 0.3437945791726106, 0.36875891583452214, 0.5399429386590585, 0.5827389443651926, 0.2867332382310984, 0.43295292439372324, 0.572039942938659, 0.5613409415121255, 0.5042796005706134, 0.557774607703281, 0.7004279600570613, 0.6219686162624821, 0.7039942938659058, 0.6504992867332382, 0.782453637660485, 0.557774607703281, 0.6005706134094151, 0.49358059914407987, 0.7075606276747504, 0.7182596291012838, 0.17261055634807418, 0.2867332382310984, 0.12268188302425106, 0.25106990014265335, 0.10128388017118402, 0.05492154065620542, 0.28530670470756064, 0.15977175463623394, 0.16547788873038516, 0.33666191155492153, 0.31383737517831667, 0.4222539229671897, 0.09415121255349501, 0.1383737517831669, 0.5042796005706134, 0.43366619115549215, 0.10699001426533523, 0.08131241084165478, 0.15834522111269614, 0.33666191155492153, 0.13195435092724678, 0.0, 0.31098430813124106, 0.25106990014265335, 0.16904422253922968, 0.17261055634807418, 0.12268188302425106, 0.15477888730385164, 0.20256776034236804, 0.2867332382310984, 0.24750356633380885, 0.14407988587731813, 0.12268188302425106, 0.15477888730385164, 0.008559201141226819, 0.04778887303851641, 0.47004279600570614, 0.24750356633380885, 0.10699001426533523, 0.2724679029957204, 0.0912981455064194, 0.30813124108416545, 0.20256776034236804, 0.11412268188302425, 0.09771754636233952, 0.2810271041369472, 0.026390870185449358, 0.16547788873038516, 0.14978601997146934, 0.024251069900142655, 0.2867332382310984, 0.20256776034236804, 0.033523537803138374, 0.2346647646219686, 0.11126961483594865, 0.07631954350927246, 0.0920114122681883, 0.15477888730385164, 0.04778887303851641, 0.06704707560627675, 0.20399429386590584, 0.24750356633380885, 0.13338088445078458, 0.062054208273894434, 0.07275320970042796, 0.07275320970042796, 0.07132667617689016, 0.052781740370898715, 0.1340941512125535, 0.0456490727532097, 0.21540656205420827, 0.25106990014265335, 0.1797432239657632, 0.20114122681883023, 0.2296718972895863, 0.2653352353780314, 0.29743223965763194, 0.3152639087018545, 0.16904422253922968, 0.21540656205420827, 0.2225392296718973, 0.2296718972895863, 0.35805991440798857, 0.17261055634807418, 0.19400855920114124, 0.4115549215406562, 0.39372325249643364, 0.09771754636233952, 0.24750356633380885, 0.2653352353780314, 0.19400855920114124, 0.15834522111269614, 0.14407988587731813, 0.10485021398002853, 0.2831669044222539, 0.2582025677603424, 0.318830242510699, 0.14407988587731813, 0.42938659058487877, 0.2724679029957204, 0.24393723252496433, 0.17261055634807418, 0.2867332382310984, 0.20827389443651925, 0.2831669044222539, 0.24037089871611983, 0.17261055634807418, 0.29743223965763194, 0.29029957203994294, 0.33666191155492153, 0.25106990014265335, 0.16547788873038516, 0.1369472182596291, 0.2724679029957204, 0.32952924393723254, 0.33666191155492153, 0.39728958630527816, 0.4008559201141227, 0.20114122681883023]}],\n",
       "                        {\"template\": {\"data\": {\"bar\": [{\"error_x\": {\"color\": \"#2a3f5f\"}, \"error_y\": {\"color\": \"#2a3f5f\"}, \"marker\": {\"line\": {\"color\": \"#E5ECF6\", \"width\": 0.5}}, \"type\": \"bar\"}], \"barpolar\": [{\"marker\": {\"line\": {\"color\": \"#E5ECF6\", \"width\": 0.5}}, \"type\": \"barpolar\"}], \"carpet\": [{\"aaxis\": {\"endlinecolor\": \"#2a3f5f\", \"gridcolor\": \"white\", \"linecolor\": \"white\", \"minorgridcolor\": \"white\", \"startlinecolor\": \"#2a3f5f\"}, \"baxis\": {\"endlinecolor\": \"#2a3f5f\", \"gridcolor\": \"white\", \"linecolor\": \"white\", \"minorgridcolor\": \"white\", \"startlinecolor\": \"#2a3f5f\"}, \"type\": \"carpet\"}], \"choropleth\": [{\"colorbar\": {\"outlinewidth\": 0, \"ticks\": \"\"}, \"type\": \"choropleth\"}], \"contour\": [{\"colorbar\": {\"outlinewidth\": 0, \"ticks\": \"\"}, \"colorscale\": [[0.0, \"#0d0887\"], [0.1111111111111111, \"#46039f\"], [0.2222222222222222, \"#7201a8\"], [0.3333333333333333, \"#9c179e\"], [0.4444444444444444, \"#bd3786\"], [0.5555555555555556, \"#d8576b\"], [0.6666666666666666, \"#ed7953\"], [0.7777777777777778, \"#fb9f3a\"], [0.8888888888888888, \"#fdca26\"], [1.0, \"#f0f921\"]], \"type\": \"contour\"}], \"contourcarpet\": [{\"colorbar\": {\"outlinewidth\": 0, \"ticks\": \"\"}, \"type\": \"contourcarpet\"}], \"heatmap\": [{\"colorbar\": {\"outlinewidth\": 0, \"ticks\": \"\"}, \"colorscale\": [[0.0, \"#0d0887\"], [0.1111111111111111, \"#46039f\"], [0.2222222222222222, \"#7201a8\"], [0.3333333333333333, \"#9c179e\"], [0.4444444444444444, \"#bd3786\"], [0.5555555555555556, \"#d8576b\"], [0.6666666666666666, \"#ed7953\"], [0.7777777777777778, \"#fb9f3a\"], [0.8888888888888888, \"#fdca26\"], [1.0, \"#f0f921\"]], \"type\": \"heatmap\"}], \"heatmapgl\": [{\"colorbar\": {\"outlinewidth\": 0, \"ticks\": \"\"}, \"colorscale\": [[0.0, \"#0d0887\"], [0.1111111111111111, \"#46039f\"], [0.2222222222222222, \"#7201a8\"], [0.3333333333333333, \"#9c179e\"], [0.4444444444444444, \"#bd3786\"], [0.5555555555555556, \"#d8576b\"], [0.6666666666666666, \"#ed7953\"], [0.7777777777777778, \"#fb9f3a\"], [0.8888888888888888, \"#fdca26\"], [1.0, \"#f0f921\"]], \"type\": \"heatmapgl\"}], \"histogram\": [{\"marker\": {\"colorbar\": {\"outlinewidth\": 0, \"ticks\": \"\"}}, \"type\": \"histogram\"}], \"histogram2d\": [{\"colorbar\": {\"outlinewidth\": 0, \"ticks\": \"\"}, \"colorscale\": [[0.0, \"#0d0887\"], [0.1111111111111111, \"#46039f\"], [0.2222222222222222, \"#7201a8\"], [0.3333333333333333, \"#9c179e\"], [0.4444444444444444, \"#bd3786\"], [0.5555555555555556, \"#d8576b\"], [0.6666666666666666, \"#ed7953\"], [0.7777777777777778, \"#fb9f3a\"], [0.8888888888888888, \"#fdca26\"], [1.0, \"#f0f921\"]], \"type\": \"histogram2d\"}], \"histogram2dcontour\": [{\"colorbar\": {\"outlinewidth\": 0, \"ticks\": \"\"}, \"colorscale\": [[0.0, \"#0d0887\"], [0.1111111111111111, \"#46039f\"], [0.2222222222222222, \"#7201a8\"], [0.3333333333333333, \"#9c179e\"], [0.4444444444444444, \"#bd3786\"], [0.5555555555555556, \"#d8576b\"], [0.6666666666666666, \"#ed7953\"], [0.7777777777777778, \"#fb9f3a\"], [0.8888888888888888, \"#fdca26\"], [1.0, \"#f0f921\"]], \"type\": \"histogram2dcontour\"}], \"mesh3d\": [{\"colorbar\": {\"outlinewidth\": 0, \"ticks\": \"\"}, \"type\": \"mesh3d\"}], \"parcoords\": [{\"line\": {\"colorbar\": {\"outlinewidth\": 0, \"ticks\": \"\"}}, \"type\": \"parcoords\"}], \"scatter\": [{\"marker\": {\"colorbar\": {\"outlinewidth\": 0, \"ticks\": \"\"}}, \"type\": \"scatter\"}], \"scatter3d\": [{\"line\": {\"colorbar\": {\"outlinewidth\": 0, \"ticks\": \"\"}}, \"marker\": {\"colorbar\": {\"outlinewidth\": 0, \"ticks\": \"\"}}, \"type\": \"scatter3d\"}], \"scattercarpet\": [{\"marker\": {\"colorbar\": {\"outlinewidth\": 0, \"ticks\": \"\"}}, \"type\": \"scattercarpet\"}], \"scattergeo\": [{\"marker\": {\"colorbar\": {\"outlinewidth\": 0, \"ticks\": \"\"}}, \"type\": \"scattergeo\"}], \"scattergl\": [{\"marker\": {\"colorbar\": {\"outlinewidth\": 0, \"ticks\": \"\"}}, \"type\": \"scattergl\"}], \"scattermapbox\": [{\"marker\": {\"colorbar\": {\"outlinewidth\": 0, \"ticks\": \"\"}}, \"type\": \"scattermapbox\"}], \"scatterpolar\": [{\"marker\": {\"colorbar\": {\"outlinewidth\": 0, \"ticks\": \"\"}}, \"type\": \"scatterpolar\"}], \"scatterpolargl\": [{\"marker\": {\"colorbar\": {\"outlinewidth\": 0, \"ticks\": \"\"}}, \"type\": \"scatterpolargl\"}], \"scatterternary\": [{\"marker\": {\"colorbar\": {\"outlinewidth\": 0, \"ticks\": \"\"}}, \"type\": \"scatterternary\"}], \"surface\": [{\"colorbar\": {\"outlinewidth\": 0, \"ticks\": \"\"}, \"colorscale\": [[0.0, \"#0d0887\"], [0.1111111111111111, \"#46039f\"], [0.2222222222222222, \"#7201a8\"], [0.3333333333333333, \"#9c179e\"], [0.4444444444444444, \"#bd3786\"], [0.5555555555555556, \"#d8576b\"], [0.6666666666666666, \"#ed7953\"], [0.7777777777777778, \"#fb9f3a\"], [0.8888888888888888, \"#fdca26\"], [1.0, \"#f0f921\"]], \"type\": \"surface\"}], \"table\": [{\"cells\": {\"fill\": {\"color\": \"#EBF0F8\"}, \"line\": {\"color\": \"white\"}}, \"header\": {\"fill\": {\"color\": \"#C8D4E3\"}, \"line\": {\"color\": \"white\"}}, \"type\": \"table\"}]}, \"layout\": {\"annotationdefaults\": {\"arrowcolor\": \"#2a3f5f\", \"arrowhead\": 0, \"arrowwidth\": 1}, \"colorscale\": {\"diverging\": [[0, \"#8e0152\"], [0.1, \"#c51b7d\"], [0.2, \"#de77ae\"], [0.3, \"#f1b6da\"], [0.4, \"#fde0ef\"], [0.5, \"#f7f7f7\"], [0.6, \"#e6f5d0\"], [0.7, \"#b8e186\"], [0.8, \"#7fbc41\"], [0.9, \"#4d9221\"], [1, \"#276419\"]], \"sequential\": [[0.0, \"#0d0887\"], [0.1111111111111111, \"#46039f\"], [0.2222222222222222, \"#7201a8\"], [0.3333333333333333, \"#9c179e\"], [0.4444444444444444, \"#bd3786\"], [0.5555555555555556, \"#d8576b\"], [0.6666666666666666, \"#ed7953\"], [0.7777777777777778, \"#fb9f3a\"], [0.8888888888888888, \"#fdca26\"], [1.0, \"#f0f921\"]], \"sequentialminus\": [[0.0, \"#0d0887\"], [0.1111111111111111, \"#46039f\"], [0.2222222222222222, \"#7201a8\"], [0.3333333333333333, \"#9c179e\"], [0.4444444444444444, \"#bd3786\"], [0.5555555555555556, \"#d8576b\"], [0.6666666666666666, \"#ed7953\"], [0.7777777777777778, \"#fb9f3a\"], [0.8888888888888888, \"#fdca26\"], [1.0, \"#f0f921\"]]}, \"colorway\": [\"#636efa\", \"#EF553B\", \"#00cc96\", \"#ab63fa\", \"#FFA15A\", \"#19d3f3\", \"#FF6692\", \"#B6E880\", \"#FF97FF\", \"#FECB52\"], \"font\": {\"color\": \"#2a3f5f\"}, \"geo\": {\"bgcolor\": \"white\", \"lakecolor\": \"white\", \"landcolor\": \"#E5ECF6\", \"showlakes\": true, \"showland\": true, \"subunitcolor\": \"white\"}, \"hoverlabel\": {\"align\": \"left\"}, \"hovermode\": \"closest\", \"mapbox\": {\"style\": \"light\"}, \"paper_bgcolor\": \"white\", \"plot_bgcolor\": \"#E5ECF6\", \"polar\": {\"angularaxis\": {\"gridcolor\": \"white\", \"linecolor\": \"white\", \"ticks\": \"\"}, \"bgcolor\": \"#E5ECF6\", \"radialaxis\": {\"gridcolor\": \"white\", \"linecolor\": \"white\", \"ticks\": \"\"}}, \"scene\": {\"xaxis\": {\"backgroundcolor\": \"#E5ECF6\", \"gridcolor\": \"white\", \"gridwidth\": 2, \"linecolor\": \"white\", \"showbackground\": true, \"ticks\": \"\", \"zerolinecolor\": \"white\"}, \"yaxis\": {\"backgroundcolor\": \"#E5ECF6\", \"gridcolor\": \"white\", \"gridwidth\": 2, \"linecolor\": \"white\", \"showbackground\": true, \"ticks\": \"\", \"zerolinecolor\": \"white\"}, \"zaxis\": {\"backgroundcolor\": \"#E5ECF6\", \"gridcolor\": \"white\", \"gridwidth\": 2, \"linecolor\": \"white\", \"showbackground\": true, \"ticks\": \"\", \"zerolinecolor\": \"white\"}}, \"shapedefaults\": {\"line\": {\"color\": \"#2a3f5f\"}}, \"ternary\": {\"aaxis\": {\"gridcolor\": \"white\", \"linecolor\": \"white\", \"ticks\": \"\"}, \"baxis\": {\"gridcolor\": \"white\", \"linecolor\": \"white\", \"ticks\": \"\"}, \"bgcolor\": \"#E5ECF6\", \"caxis\": {\"gridcolor\": \"white\", \"linecolor\": \"white\", \"ticks\": \"\"}}, \"title\": {\"x\": 0.05}, \"xaxis\": {\"automargin\": true, \"gridcolor\": \"white\", \"linecolor\": \"white\", \"ticks\": \"\", \"zerolinecolor\": \"white\", \"zerolinewidth\": 2}, \"yaxis\": {\"automargin\": true, \"gridcolor\": \"white\", \"linecolor\": \"white\", \"ticks\": \"\", \"zerolinecolor\": \"white\", \"zerolinewidth\": 2}}}},\n",
       "                        {\"responsive\": true}\n",
       "                    ).then(function(){\n",
       "                            \n",
       "var gd = document.getElementById('285f8ea6-6378-4e1d-b3b9-3998967379f2');\n",
       "var x = new MutationObserver(function (mutations, observer) {{\n",
       "        var display = window.getComputedStyle(gd).display;\n",
       "        if (!display || display === 'none') {{\n",
       "            console.log([gd, 'removed!']);\n",
       "            Plotly.purge(gd);\n",
       "            observer.disconnect();\n",
       "        }}\n",
       "}});\n",
       "\n",
       "// Listen for the removal of the full notebook cells\n",
       "var notebookContainer = gd.closest('#notebook-container');\n",
       "if (notebookContainer) {{\n",
       "    x.observe(notebookContainer, {childList: true});\n",
       "}}\n",
       "\n",
       "// Listen for the clearing of the current output cell\n",
       "var outputEl = gd.closest('.output');\n",
       "if (outputEl) {{\n",
       "    x.observe(outputEl, {childList: true});\n",
       "}}\n",
       "\n",
       "                        })\n",
       "                };\n",
       "                });\n",
       "            </script>\n",
       "        </div>"
      ]
     },
     "metadata": {},
     "output_type": "display_data"
    }
   ],
   "source": [
    "fig = go.Figure()\n",
    "fig.add_trace(go.Scatter3d(x=df['Intensidade_de_cor'],\n",
    "                         y=df['Alcool'], z=df['Proline'],\n",
    "                         mode = 'markers',                      \n",
    "                          marker = dict(color = agrupador.labels_.astype(np.float)),\n",
    "                        text = [0, 1, 2]))\n",
    "fig.show()"
   ]
  },
  {
   "cell_type": "code",
   "execution_count": 108,
   "id": "a4a28117",
   "metadata": {},
   "outputs": [
    {
     "data": {
      "application/vnd.plotly.v1+json": {
       "config": {
        "plotlyServerURL": "https://plot.ly"
       },
       "data": [
        {
         "marker": {
          "color": [
           0,
           0,
           0,
           0,
           0,
           0,
           0,
           0,
           0,
           0,
           0,
           0,
           0,
           0,
           0,
           0,
           0,
           0,
           0,
           0,
           0,
           0,
           0,
           0,
           0,
           0,
           0,
           0,
           0,
           0,
           0,
           0,
           0,
           0,
           0,
           0,
           0,
           0,
           0,
           0,
           0,
           0,
           0,
           0,
           0,
           0,
           0,
           0,
           0,
           0,
           0,
           0,
           0,
           0,
           0,
           0,
           0,
           0,
           0,
           8,
           1,
           1,
           1,
           5,
           1,
           1,
           1,
           1,
           1,
           3,
           1,
           5,
           1,
           7,
           1,
           1,
           1,
           1,
           3,
           1,
           1,
           1,
           1,
           2,
           1,
           1,
           1,
           1,
           1,
           1,
           1,
           1,
           1,
           1,
           1,
           3,
           10,
           1,
           1,
           13,
           1,
           1,
           1,
           1,
           1,
           1,
           1,
           1,
           1,
           1,
           12,
           1,
           1,
           1,
           1,
           13,
           1,
           1,
           1,
           1,
           1,
           11,
           6,
           6,
           9,
           1,
           1,
           1,
           1,
           1,
           2,
           2,
           2,
           2,
           2,
           2,
           2,
           2,
           2,
           2,
           2,
           2,
           2,
           2,
           2,
           2,
           2,
           2,
           2,
           2,
           2,
           2,
           2,
           2,
           2,
           2,
           2,
           2,
           4,
           4,
           2,
           2,
           2,
           2,
           2,
           2,
           2,
           2,
           2,
           2,
           2,
           2,
           2,
           2,
           2,
           2,
           2,
           2
          ]
         },
         "mode": "markers",
         "text": [
          "0",
          "1",
          "2"
         ],
         "type": "scatter3d",
         "x": [
          0.37201365187713303,
          0.26450511945392485,
          0.3754266211604095,
          0.5563139931740614,
          0.2593856655290102,
          0.46672354948805456,
          0.3387372013651877,
          0.3216723549488054,
          0.33447098976109213,
          0.5068259385665528,
          0.3813993174061433,
          0.31740614334470985,
          0.3686006825938566,
          0.3515358361774744,
          0.530716723549488,
          0.5136518771331058,
          0.4197952218430034,
          0.45392491467576784,
          0.6331058020477814,
          0.32593856655290093,
          0.3728668941979522,
          0.27474402730375425,
          0.21501706484641633,
          0.22610921501706485,
          0.19112627986348124,
          0.19624573378839588,
          0.3003412969283276,
          0.22781569965870305,
          0.27474402730375425,
          0.2918088737201365,
          0.37713310580204773,
          0.47952218430034127,
          0.21843003412969278,
          0.3515358361774744,
          0.24914675767918087,
          0.32593856655290093,
          0.28327645051194533,
          0.2534129692832764,
          0.20648464163822525,
          0.32593856655290093,
          0.41382252559726956,
          0.25597269624573377,
          0.3540955631399317,
          0.26279863481228666,
          0.3208191126279863,
          0.3378839590443686,
          0.30887372013651876,
          0.4112627986348122,
          0.4197952218430034,
          0.6501706484641638,
          0.5051194539249146,
          0.3686006825938566,
          0.4923208191126279,
          0.42832764505119447,
          0.3899317406143344,
          0.42406143344709896,
          0.43515358361774736,
          0.4027303754266211,
          0.4709897610921501,
          0.057167235494880536,
          0.1697952218430034,
          0.3813993174061433,
          0.21501706484641633,
          0.2704778156996587,
          0.14249146757679182,
          0.28327645051194533,
          0.3430034129692832,
          0.2901023890784982,
          0.16126279863481227,
          0.13395904436860068,
          0.1510238907849829,
          0.17918088737201363,
          0.2098976109215017,
          0.17662116040955633,
          0.16467576791808872,
          0.21501706484641633,
          0.28327645051194533,
          0.11689419795221842,
          0.18088737201365188,
          0.1100682593856655,
          0.10409556313993173,
          0.2235494880546075,
          0.07849829351535836,
          0.3003412969283276,
          0.1510238907849829,
          0.11433447098976109,
          0.09982935153583619,
          0.11262798634812286,
          0.1296928327645051,
          0.039249146757679175,
          0.09556313993174059,
          0.19795221843003413,
          0.1510238907849829,
          0.07423208191126278,
          0.16808873720136516,
          0.11262798634812286,
          0.10409556313993173,
          0.13822525597269622,
          0.27474402730375425,
          0.08703071672354946,
          0.1723549488054607,
          0.09982935153583619,
          0.1296928327645051,
          0.06655290102389079,
          0.1416382252559727,
          0.121160409556314,
          0.18088737201365188,
          0.1723549488054607,
          0.121160409556314,
          0.11689419795221842,
          0.13822525597269622,
          0.0614334470989761,
          0.21501706484641633,
          0.15358361774744028,
          0.13822525597269622,
          0.05290102389078497,
          0.057167235494880536,
          0.06655290102389079,
          0.18088737201365188,
          0,
          0.16808873720136516,
          0.4027303754266211,
          0.06825938566552901,
          0.11262798634812286,
          0.1296928327645051,
          0.12627986348122863,
          0.22696245733788395,
          0.14675767918088736,
          0.07167235494880546,
          0.11262798634812286,
          0.2406143344709897,
          0.3515358361774744,
          0.37713310580204773,
          0.31740614334470985,
          0.35580204778156993,
          0.49658703071672344,
          0.21928327645051196,
          0.31740614334470985,
          0.37713310580204773,
          0.31058020477815695,
          0.28327645051194533,
          0.3686006825938566,
          0.26194539249146753,
          0.26621160409556316,
          0.591296928327645,
          0.2320819112627986,
          0.30887372013651876,
          0.5435153583617747,
          0.6092150170648464,
          0.6928327645051195,
          0.6245733788395904,
          0.8122866894197953,
          0.49658703071672344,
          0.78839590443686,
          0.5392491467576791,
          0.5648464163822525,
          0.6595563139931739,
          0.530716723549488,
          1,
          0.893344709897611,
          0.5435153583617747,
          0.39249146757679176,
          0.3668941979522184,
          0.341296928327645,
          0.7081911262798635,
          0.4556313993174061,
          0.8020477815699658,
          0.7662116040955631,
          0.629692832764505,
          0.6160409556313993,
          0.3600682593856655,
          0.7354947952218429,
          0.7184300341296928,
          0.5477815699658702,
          0.5136518771331058,
          0.7610921501706485,
          0.6843003412969284,
          0.675767918088737
         ],
         "y": [
          0.8421052631578949,
          0.5710526315789473,
          0.5605263157894738,
          0.8789473684210525,
          0.5815789473684212,
          0.8342105263157893,
          0.8842105263157897,
          0.7973684210526317,
          1,
          0.744736842105263,
          0.8078947368421052,
          0.813157894736842,
          0.7157894736842105,
          0.9789473684210526,
          0.8815789473684212,
          0.6842105263157897,
          0.8605263157894739,
          0.736842105263158,
          0.831578947368421,
          0.686842105263158,
          0.7973684210526317,
          0.5,
          0.7052631578947371,
          0.4789473684210526,
          0.65,
          0.5315789473684213,
          0.6210526315789475,
          0.5973684210526318,
          0.7473684210526313,
          0.7868421052631578,
          0.7105263157894738,
          0.6710526315789475,
          0.6973684210526315,
          0.718421052631579,
          0.6526315789473685,
          0.6447368421052633,
          0.5921052631578946,
          0.5315789473684213,
          0.536842105263158,
          0.8394736842105265,
          0.6657894736842107,
          0.6263157894736843,
          0.7500000000000002,
          0.5815789473684212,
          0.5315789473684213,
          0.8368421052631582,
          0.8815789473684212,
          0.755263157894737,
          0.8078947368421052,
          0.7657894736842105,
          0.5315789473684213,
          0.736842105263158,
          0.7342105263157895,
          0.7210526315789473,
          0.7131578947368422,
          0.6657894736842107,
          0.8394736842105265,
          0.594736842105263,
          0.7078947368421055,
          0.3526315789473683,
          0.34210526315789486,
          0.42368421052631605,
          0.6947368421052632,
          0.3526315789473683,
          0.3000000000000001,
          0.3526315789473683,
          0.5473684210526315,
          0.3526315789473683,
          0.6078947368421053,
          0.31052631578947404,
          0.3315789473684209,
          0.744736842105263,
          0.6473684210526317,
          0.5157894736842107,
          0.2447368421052635,
          0.1657894736842107,
          0.5263157894736841,
          0.21315789473684219,
          0.34210526315789486,
          0.43947368421052624,
          0.25526315789473697,
          0.44473684210526343,
          0.27631578947368435,
          0.5315789473684213,
          0.21315789473684219,
          0.4315789473684211,
          0.2973684210526317,
          0.16315789473684233,
          0.16052631578947396,
          0.27631578947368435,
          0.27631578947368435,
          0.25526315789473697,
          0.43684210526315786,
          0.3315789473684209,
          0.15526315789473677,
          0.3789473684210529,
          0.2052631578947371,
          0.3315789473684209,
          0.3526315789473683,
          0.3315789473684209,
          0.27631578947368435,
          0.4131578947368421,
          0.34473684210526323,
          0.20789473684210547,
          0.38947368421052636,
          0.3657894736842106,
          0.3210526315789475,
          0.44473684210526343,
          0.31315789473684236,
          0.15263157894736842,
          0.11315789473684247,
          0.39210526315789473,
          0.1921052631578948,
          0.10000000000000019,
          0.27631578947368435,
          0,
          0.20789473684210547,
          0.3657894736842106,
          0.45789473684210524,
          0.25526315789473697,
          0.11052631578947364,
          0.13947368421052658,
          0.3657894736842106,
          0.5315789473684213,
          0.22105263157894728,
          0.273684210526316,
          0.368421052631579,
          0.1999999999999999,
          0.3526315789473683,
          0.2657894736842104,
          0.481578947368421,
          0.4868421052631582,
          0.4684210526315792,
          0.43947368421052624,
          0.38947368421052636,
          0.4131578947368421,
          0.3210526315789475,
          0.3947368421052631,
          0.6473684210526317,
          0.47631578947368425,
          0.5,
          0.613157894736842,
          0.6552631578947368,
          0.6815789473684208,
          0.3210526315789475,
          0.5605263157894738,
          0.7500000000000002,
          0.48421052631578937,
          0.6026315789473685,
          0.5394736842105264,
          0.65,
          0.46315789473684194,
          0.5473684210526315,
          0.5789473684210528,
          0.40789473684210537,
          0.5631578947368422,
          0.7394736842105263,
          0.3736842105263157,
          0.8710526315789473,
          0.6447368421052633,
          0.35,
          0.7,
          0.4789473684210526,
          0.5078947368421055,
          0.7236842105263157,
          0.7105263157894738,
          0.6368421052631578,
          0.4710526315789475,
          0.6710526315789475,
          0.623684210526316,
          0.30789473684210517,
          0.45789473684210524,
          0.8236842105263158,
          0.7052631578947371,
          0.623684210526316,
          0.5894736842105263,
          0.5631578947368422,
          0.8157894736842107
         ],
         "z": [
          0.5613409415121255,
          0.550641940085592,
          0.6469329529243937,
          0.8573466476462197,
          0.325962910128388,
          0.8359486447931527,
          0.7218259629101283,
          0.7253922967189729,
          0.5470756062767475,
          0.5470756062767475,
          0.8787446504992867,
          0.7146932952924394,
          0.7432239657631954,
          0.6219686162624821,
          0.9051355206847361,
          0.7360912981455064,
          0.7146932952924394,
          0.6077032810271041,
          1,
          0.4044222539229672,
          0.35805991440798857,
          0.3509272467902996,
          0.5399429386590585,
          0.5256776034236804,
          0.4044222539229672,
          0.39372325249643364,
          0.6540656205420827,
          0.7182596291012838,
          0.4543509272467903,
          0.5399429386590585,
          0.7182596291012838,
          0.8823109843081313,
          0.5078459343794579,
          0.6825962910128388,
          0.5827389443651926,
          0.4579172610556348,
          0.42938659058487877,
          0.5898716119828816,
          0.5292439372325249,
          0.3437945791726106,
          0.36875891583452214,
          0.5399429386590585,
          0.5827389443651926,
          0.2867332382310984,
          0.43295292439372324,
          0.572039942938659,
          0.5613409415121255,
          0.5042796005706134,
          0.557774607703281,
          0.7004279600570613,
          0.6219686162624821,
          0.7039942938659058,
          0.6504992867332382,
          0.782453637660485,
          0.557774607703281,
          0.6005706134094151,
          0.49358059914407987,
          0.7075606276747504,
          0.7182596291012838,
          0.17261055634807418,
          0.2867332382310984,
          0.12268188302425106,
          0.25106990014265335,
          0.10128388017118402,
          0.05492154065620542,
          0.28530670470756064,
          0.15977175463623394,
          0.16547788873038516,
          0.33666191155492153,
          0.31383737517831667,
          0.4222539229671897,
          0.09415121255349501,
          0.1383737517831669,
          0.5042796005706134,
          0.43366619115549215,
          0.10699001426533523,
          0.08131241084165478,
          0.15834522111269614,
          0.33666191155492153,
          0.13195435092724678,
          0,
          0.31098430813124106,
          0.25106990014265335,
          0.16904422253922968,
          0.17261055634807418,
          0.12268188302425106,
          0.15477888730385164,
          0.20256776034236804,
          0.2867332382310984,
          0.24750356633380885,
          0.14407988587731813,
          0.12268188302425106,
          0.15477888730385164,
          0.008559201141226819,
          0.04778887303851641,
          0.47004279600570614,
          0.24750356633380885,
          0.10699001426533523,
          0.2724679029957204,
          0.0912981455064194,
          0.30813124108416545,
          0.20256776034236804,
          0.11412268188302425,
          0.09771754636233952,
          0.2810271041369472,
          0.026390870185449358,
          0.16547788873038516,
          0.14978601997146934,
          0.024251069900142655,
          0.2867332382310984,
          0.20256776034236804,
          0.033523537803138374,
          0.2346647646219686,
          0.11126961483594865,
          0.07631954350927246,
          0.0920114122681883,
          0.15477888730385164,
          0.04778887303851641,
          0.06704707560627675,
          0.20399429386590584,
          0.24750356633380885,
          0.13338088445078458,
          0.062054208273894434,
          0.07275320970042796,
          0.07275320970042796,
          0.07132667617689016,
          0.052781740370898715,
          0.1340941512125535,
          0.0456490727532097,
          0.21540656205420827,
          0.25106990014265335,
          0.1797432239657632,
          0.20114122681883023,
          0.2296718972895863,
          0.2653352353780314,
          0.29743223965763194,
          0.3152639087018545,
          0.16904422253922968,
          0.21540656205420827,
          0.2225392296718973,
          0.2296718972895863,
          0.35805991440798857,
          0.17261055634807418,
          0.19400855920114124,
          0.4115549215406562,
          0.39372325249643364,
          0.09771754636233952,
          0.24750356633380885,
          0.2653352353780314,
          0.19400855920114124,
          0.15834522111269614,
          0.14407988587731813,
          0.10485021398002853,
          0.2831669044222539,
          0.2582025677603424,
          0.318830242510699,
          0.14407988587731813,
          0.42938659058487877,
          0.2724679029957204,
          0.24393723252496433,
          0.17261055634807418,
          0.2867332382310984,
          0.20827389443651925,
          0.2831669044222539,
          0.24037089871611983,
          0.17261055634807418,
          0.29743223965763194,
          0.29029957203994294,
          0.33666191155492153,
          0.25106990014265335,
          0.16547788873038516,
          0.1369472182596291,
          0.2724679029957204,
          0.32952924393723254,
          0.33666191155492153,
          0.39728958630527816,
          0.4008559201141227,
          0.20114122681883023
         ]
        }
       ],
       "layout": {
        "scene": {
         "xaxis": {
          "title": {
           "text": "Intensidade de Cor"
          }
         },
         "yaxis": {
          "title": {
           "text": "Àlcool"
          }
         },
         "zaxis": {
          "title": {
           "text": "Proline"
          }
         }
        },
        "template": {
         "data": {
          "bar": [
           {
            "error_x": {
             "color": "#2a3f5f"
            },
            "error_y": {
             "color": "#2a3f5f"
            },
            "marker": {
             "line": {
              "color": "#E5ECF6",
              "width": 0.5
             }
            },
            "type": "bar"
           }
          ],
          "barpolar": [
           {
            "marker": {
             "line": {
              "color": "#E5ECF6",
              "width": 0.5
             }
            },
            "type": "barpolar"
           }
          ],
          "carpet": [
           {
            "aaxis": {
             "endlinecolor": "#2a3f5f",
             "gridcolor": "white",
             "linecolor": "white",
             "minorgridcolor": "white",
             "startlinecolor": "#2a3f5f"
            },
            "baxis": {
             "endlinecolor": "#2a3f5f",
             "gridcolor": "white",
             "linecolor": "white",
             "minorgridcolor": "white",
             "startlinecolor": "#2a3f5f"
            },
            "type": "carpet"
           }
          ],
          "choropleth": [
           {
            "colorbar": {
             "outlinewidth": 0,
             "ticks": ""
            },
            "type": "choropleth"
           }
          ],
          "contour": [
           {
            "colorbar": {
             "outlinewidth": 0,
             "ticks": ""
            },
            "colorscale": [
             [
              0,
              "#0d0887"
             ],
             [
              0.1111111111111111,
              "#46039f"
             ],
             [
              0.2222222222222222,
              "#7201a8"
             ],
             [
              0.3333333333333333,
              "#9c179e"
             ],
             [
              0.4444444444444444,
              "#bd3786"
             ],
             [
              0.5555555555555556,
              "#d8576b"
             ],
             [
              0.6666666666666666,
              "#ed7953"
             ],
             [
              0.7777777777777778,
              "#fb9f3a"
             ],
             [
              0.8888888888888888,
              "#fdca26"
             ],
             [
              1,
              "#f0f921"
             ]
            ],
            "type": "contour"
           }
          ],
          "contourcarpet": [
           {
            "colorbar": {
             "outlinewidth": 0,
             "ticks": ""
            },
            "type": "contourcarpet"
           }
          ],
          "heatmap": [
           {
            "colorbar": {
             "outlinewidth": 0,
             "ticks": ""
            },
            "colorscale": [
             [
              0,
              "#0d0887"
             ],
             [
              0.1111111111111111,
              "#46039f"
             ],
             [
              0.2222222222222222,
              "#7201a8"
             ],
             [
              0.3333333333333333,
              "#9c179e"
             ],
             [
              0.4444444444444444,
              "#bd3786"
             ],
             [
              0.5555555555555556,
              "#d8576b"
             ],
             [
              0.6666666666666666,
              "#ed7953"
             ],
             [
              0.7777777777777778,
              "#fb9f3a"
             ],
             [
              0.8888888888888888,
              "#fdca26"
             ],
             [
              1,
              "#f0f921"
             ]
            ],
            "type": "heatmap"
           }
          ],
          "heatmapgl": [
           {
            "colorbar": {
             "outlinewidth": 0,
             "ticks": ""
            },
            "colorscale": [
             [
              0,
              "#0d0887"
             ],
             [
              0.1111111111111111,
              "#46039f"
             ],
             [
              0.2222222222222222,
              "#7201a8"
             ],
             [
              0.3333333333333333,
              "#9c179e"
             ],
             [
              0.4444444444444444,
              "#bd3786"
             ],
             [
              0.5555555555555556,
              "#d8576b"
             ],
             [
              0.6666666666666666,
              "#ed7953"
             ],
             [
              0.7777777777777778,
              "#fb9f3a"
             ],
             [
              0.8888888888888888,
              "#fdca26"
             ],
             [
              1,
              "#f0f921"
             ]
            ],
            "type": "heatmapgl"
           }
          ],
          "histogram": [
           {
            "marker": {
             "colorbar": {
              "outlinewidth": 0,
              "ticks": ""
             }
            },
            "type": "histogram"
           }
          ],
          "histogram2d": [
           {
            "colorbar": {
             "outlinewidth": 0,
             "ticks": ""
            },
            "colorscale": [
             [
              0,
              "#0d0887"
             ],
             [
              0.1111111111111111,
              "#46039f"
             ],
             [
              0.2222222222222222,
              "#7201a8"
             ],
             [
              0.3333333333333333,
              "#9c179e"
             ],
             [
              0.4444444444444444,
              "#bd3786"
             ],
             [
              0.5555555555555556,
              "#d8576b"
             ],
             [
              0.6666666666666666,
              "#ed7953"
             ],
             [
              0.7777777777777778,
              "#fb9f3a"
             ],
             [
              0.8888888888888888,
              "#fdca26"
             ],
             [
              1,
              "#f0f921"
             ]
            ],
            "type": "histogram2d"
           }
          ],
          "histogram2dcontour": [
           {
            "colorbar": {
             "outlinewidth": 0,
             "ticks": ""
            },
            "colorscale": [
             [
              0,
              "#0d0887"
             ],
             [
              0.1111111111111111,
              "#46039f"
             ],
             [
              0.2222222222222222,
              "#7201a8"
             ],
             [
              0.3333333333333333,
              "#9c179e"
             ],
             [
              0.4444444444444444,
              "#bd3786"
             ],
             [
              0.5555555555555556,
              "#d8576b"
             ],
             [
              0.6666666666666666,
              "#ed7953"
             ],
             [
              0.7777777777777778,
              "#fb9f3a"
             ],
             [
              0.8888888888888888,
              "#fdca26"
             ],
             [
              1,
              "#f0f921"
             ]
            ],
            "type": "histogram2dcontour"
           }
          ],
          "mesh3d": [
           {
            "colorbar": {
             "outlinewidth": 0,
             "ticks": ""
            },
            "type": "mesh3d"
           }
          ],
          "parcoords": [
           {
            "line": {
             "colorbar": {
              "outlinewidth": 0,
              "ticks": ""
             }
            },
            "type": "parcoords"
           }
          ],
          "scatter": [
           {
            "marker": {
             "colorbar": {
              "outlinewidth": 0,
              "ticks": ""
             }
            },
            "type": "scatter"
           }
          ],
          "scatter3d": [
           {
            "line": {
             "colorbar": {
              "outlinewidth": 0,
              "ticks": ""
             }
            },
            "marker": {
             "colorbar": {
              "outlinewidth": 0,
              "ticks": ""
             }
            },
            "type": "scatter3d"
           }
          ],
          "scattercarpet": [
           {
            "marker": {
             "colorbar": {
              "outlinewidth": 0,
              "ticks": ""
             }
            },
            "type": "scattercarpet"
           }
          ],
          "scattergeo": [
           {
            "marker": {
             "colorbar": {
              "outlinewidth": 0,
              "ticks": ""
             }
            },
            "type": "scattergeo"
           }
          ],
          "scattergl": [
           {
            "marker": {
             "colorbar": {
              "outlinewidth": 0,
              "ticks": ""
             }
            },
            "type": "scattergl"
           }
          ],
          "scattermapbox": [
           {
            "marker": {
             "colorbar": {
              "outlinewidth": 0,
              "ticks": ""
             }
            },
            "type": "scattermapbox"
           }
          ],
          "scatterpolar": [
           {
            "marker": {
             "colorbar": {
              "outlinewidth": 0,
              "ticks": ""
             }
            },
            "type": "scatterpolar"
           }
          ],
          "scatterpolargl": [
           {
            "marker": {
             "colorbar": {
              "outlinewidth": 0,
              "ticks": ""
             }
            },
            "type": "scatterpolargl"
           }
          ],
          "scatterternary": [
           {
            "marker": {
             "colorbar": {
              "outlinewidth": 0,
              "ticks": ""
             }
            },
            "type": "scatterternary"
           }
          ],
          "surface": [
           {
            "colorbar": {
             "outlinewidth": 0,
             "ticks": ""
            },
            "colorscale": [
             [
              0,
              "#0d0887"
             ],
             [
              0.1111111111111111,
              "#46039f"
             ],
             [
              0.2222222222222222,
              "#7201a8"
             ],
             [
              0.3333333333333333,
              "#9c179e"
             ],
             [
              0.4444444444444444,
              "#bd3786"
             ],
             [
              0.5555555555555556,
              "#d8576b"
             ],
             [
              0.6666666666666666,
              "#ed7953"
             ],
             [
              0.7777777777777778,
              "#fb9f3a"
             ],
             [
              0.8888888888888888,
              "#fdca26"
             ],
             [
              1,
              "#f0f921"
             ]
            ],
            "type": "surface"
           }
          ],
          "table": [
           {
            "cells": {
             "fill": {
              "color": "#EBF0F8"
             },
             "line": {
              "color": "white"
             }
            },
            "header": {
             "fill": {
              "color": "#C8D4E3"
             },
             "line": {
              "color": "white"
             }
            },
            "type": "table"
           }
          ]
         },
         "layout": {
          "annotationdefaults": {
           "arrowcolor": "#2a3f5f",
           "arrowhead": 0,
           "arrowwidth": 1
          },
          "colorscale": {
           "diverging": [
            [
             0,
             "#8e0152"
            ],
            [
             0.1,
             "#c51b7d"
            ],
            [
             0.2,
             "#de77ae"
            ],
            [
             0.3,
             "#f1b6da"
            ],
            [
             0.4,
             "#fde0ef"
            ],
            [
             0.5,
             "#f7f7f7"
            ],
            [
             0.6,
             "#e6f5d0"
            ],
            [
             0.7,
             "#b8e186"
            ],
            [
             0.8,
             "#7fbc41"
            ],
            [
             0.9,
             "#4d9221"
            ],
            [
             1,
             "#276419"
            ]
           ],
           "sequential": [
            [
             0,
             "#0d0887"
            ],
            [
             0.1111111111111111,
             "#46039f"
            ],
            [
             0.2222222222222222,
             "#7201a8"
            ],
            [
             0.3333333333333333,
             "#9c179e"
            ],
            [
             0.4444444444444444,
             "#bd3786"
            ],
            [
             0.5555555555555556,
             "#d8576b"
            ],
            [
             0.6666666666666666,
             "#ed7953"
            ],
            [
             0.7777777777777778,
             "#fb9f3a"
            ],
            [
             0.8888888888888888,
             "#fdca26"
            ],
            [
             1,
             "#f0f921"
            ]
           ],
           "sequentialminus": [
            [
             0,
             "#0d0887"
            ],
            [
             0.1111111111111111,
             "#46039f"
            ],
            [
             0.2222222222222222,
             "#7201a8"
            ],
            [
             0.3333333333333333,
             "#9c179e"
            ],
            [
             0.4444444444444444,
             "#bd3786"
            ],
            [
             0.5555555555555556,
             "#d8576b"
            ],
            [
             0.6666666666666666,
             "#ed7953"
            ],
            [
             0.7777777777777778,
             "#fb9f3a"
            ],
            [
             0.8888888888888888,
             "#fdca26"
            ],
            [
             1,
             "#f0f921"
            ]
           ]
          },
          "colorway": [
           "#636efa",
           "#EF553B",
           "#00cc96",
           "#ab63fa",
           "#FFA15A",
           "#19d3f3",
           "#FF6692",
           "#B6E880",
           "#FF97FF",
           "#FECB52"
          ],
          "font": {
           "color": "#2a3f5f"
          },
          "geo": {
           "bgcolor": "white",
           "lakecolor": "white",
           "landcolor": "#E5ECF6",
           "showlakes": true,
           "showland": true,
           "subunitcolor": "white"
          },
          "hoverlabel": {
           "align": "left"
          },
          "hovermode": "closest",
          "mapbox": {
           "style": "light"
          },
          "paper_bgcolor": "white",
          "plot_bgcolor": "#E5ECF6",
          "polar": {
           "angularaxis": {
            "gridcolor": "white",
            "linecolor": "white",
            "ticks": ""
           },
           "bgcolor": "#E5ECF6",
           "radialaxis": {
            "gridcolor": "white",
            "linecolor": "white",
            "ticks": ""
           }
          },
          "scene": {
           "xaxis": {
            "backgroundcolor": "#E5ECF6",
            "gridcolor": "white",
            "gridwidth": 2,
            "linecolor": "white",
            "showbackground": true,
            "ticks": "",
            "zerolinecolor": "white"
           },
           "yaxis": {
            "backgroundcolor": "#E5ECF6",
            "gridcolor": "white",
            "gridwidth": 2,
            "linecolor": "white",
            "showbackground": true,
            "ticks": "",
            "zerolinecolor": "white"
           },
           "zaxis": {
            "backgroundcolor": "#E5ECF6",
            "gridcolor": "white",
            "gridwidth": 2,
            "linecolor": "white",
            "showbackground": true,
            "ticks": "",
            "zerolinecolor": "white"
           }
          },
          "shapedefaults": {
           "line": {
            "color": "#2a3f5f"
           }
          },
          "ternary": {
           "aaxis": {
            "gridcolor": "white",
            "linecolor": "white",
            "ticks": ""
           },
           "baxis": {
            "gridcolor": "white",
            "linecolor": "white",
            "ticks": ""
           },
           "bgcolor": "#E5ECF6",
           "caxis": {
            "gridcolor": "white",
            "linecolor": "white",
            "ticks": ""
           }
          },
          "title": {
           "x": 0.05
          },
          "xaxis": {
           "automargin": true,
           "gridcolor": "white",
           "linecolor": "white",
           "ticks": "",
           "zerolinecolor": "white",
           "zerolinewidth": 2
          },
          "yaxis": {
           "automargin": true,
           "gridcolor": "white",
           "linecolor": "white",
           "ticks": "",
           "zerolinecolor": "white",
           "zerolinewidth": 2
          }
         }
        }
       }
      },
      "text/html": [
       "<div>\n",
       "        \n",
       "        \n",
       "            <div id=\"b8a81585-47f2-40eb-91a2-be0551c528a7\" class=\"plotly-graph-div\" style=\"height:525px; width:100%;\"></div>\n",
       "            <script type=\"text/javascript\">\n",
       "                require([\"plotly\"], function(Plotly) {\n",
       "                    window.PLOTLYENV=window.PLOTLYENV || {};\n",
       "                    \n",
       "                if (document.getElementById(\"b8a81585-47f2-40eb-91a2-be0551c528a7\")) {\n",
       "                    Plotly.newPlot(\n",
       "                        'b8a81585-47f2-40eb-91a2-be0551c528a7',\n",
       "                        [{\"marker\": {\"color\": [0.0, 0.0, 0.0, 0.0, 0.0, 0.0, 0.0, 0.0, 0.0, 0.0, 0.0, 0.0, 0.0, 0.0, 0.0, 0.0, 0.0, 0.0, 0.0, 0.0, 0.0, 0.0, 0.0, 0.0, 0.0, 0.0, 0.0, 0.0, 0.0, 0.0, 0.0, 0.0, 0.0, 0.0, 0.0, 0.0, 0.0, 0.0, 0.0, 0.0, 0.0, 0.0, 0.0, 0.0, 0.0, 0.0, 0.0, 0.0, 0.0, 0.0, 0.0, 0.0, 0.0, 0.0, 0.0, 0.0, 0.0, 0.0, 0.0, 8.0, 1.0, 1.0, 1.0, 5.0, 1.0, 1.0, 1.0, 1.0, 1.0, 3.0, 1.0, 5.0, 1.0, 7.0, 1.0, 1.0, 1.0, 1.0, 3.0, 1.0, 1.0, 1.0, 1.0, 2.0, 1.0, 1.0, 1.0, 1.0, 1.0, 1.0, 1.0, 1.0, 1.0, 1.0, 1.0, 3.0, 10.0, 1.0, 1.0, 13.0, 1.0, 1.0, 1.0, 1.0, 1.0, 1.0, 1.0, 1.0, 1.0, 1.0, 12.0, 1.0, 1.0, 1.0, 1.0, 13.0, 1.0, 1.0, 1.0, 1.0, 1.0, 11.0, 6.0, 6.0, 9.0, 1.0, 1.0, 1.0, 1.0, 1.0, 2.0, 2.0, 2.0, 2.0, 2.0, 2.0, 2.0, 2.0, 2.0, 2.0, 2.0, 2.0, 2.0, 2.0, 2.0, 2.0, 2.0, 2.0, 2.0, 2.0, 2.0, 2.0, 2.0, 2.0, 2.0, 2.0, 2.0, 2.0, 4.0, 4.0, 2.0, 2.0, 2.0, 2.0, 2.0, 2.0, 2.0, 2.0, 2.0, 2.0, 2.0, 2.0, 2.0, 2.0, 2.0, 2.0, 2.0, 2.0]}, \"mode\": \"markers\", \"text\": [\"0\", \"1\", \"2\"], \"type\": \"scatter3d\", \"x\": [0.37201365187713303, 0.26450511945392485, 0.3754266211604095, 0.5563139931740614, 0.2593856655290102, 0.46672354948805456, 0.3387372013651877, 0.3216723549488054, 0.33447098976109213, 0.5068259385665528, 0.3813993174061433, 0.31740614334470985, 0.3686006825938566, 0.3515358361774744, 0.530716723549488, 0.5136518771331058, 0.4197952218430034, 0.45392491467576784, 0.6331058020477814, 0.32593856655290093, 0.3728668941979522, 0.27474402730375425, 0.21501706484641633, 0.22610921501706485, 0.19112627986348124, 0.19624573378839588, 0.3003412969283276, 0.22781569965870305, 0.27474402730375425, 0.2918088737201365, 0.37713310580204773, 0.47952218430034127, 0.21843003412969278, 0.3515358361774744, 0.24914675767918087, 0.32593856655290093, 0.28327645051194533, 0.2534129692832764, 0.20648464163822525, 0.32593856655290093, 0.41382252559726956, 0.25597269624573377, 0.3540955631399317, 0.26279863481228666, 0.3208191126279863, 0.3378839590443686, 0.30887372013651876, 0.4112627986348122, 0.4197952218430034, 0.6501706484641638, 0.5051194539249146, 0.3686006825938566, 0.4923208191126279, 0.42832764505119447, 0.3899317406143344, 0.42406143344709896, 0.43515358361774736, 0.4027303754266211, 0.4709897610921501, 0.057167235494880536, 0.1697952218430034, 0.3813993174061433, 0.21501706484641633, 0.2704778156996587, 0.14249146757679182, 0.28327645051194533, 0.3430034129692832, 0.2901023890784982, 0.16126279863481227, 0.13395904436860068, 0.1510238907849829, 0.17918088737201363, 0.2098976109215017, 0.17662116040955633, 0.16467576791808872, 0.21501706484641633, 0.28327645051194533, 0.11689419795221842, 0.18088737201365188, 0.1100682593856655, 0.10409556313993173, 0.2235494880546075, 0.07849829351535836, 0.3003412969283276, 0.1510238907849829, 0.11433447098976109, 0.09982935153583619, 0.11262798634812286, 0.1296928327645051, 0.039249146757679175, 0.09556313993174059, 0.19795221843003413, 0.1510238907849829, 0.07423208191126278, 0.16808873720136516, 0.11262798634812286, 0.10409556313993173, 0.13822525597269622, 0.27474402730375425, 0.08703071672354946, 0.1723549488054607, 0.09982935153583619, 0.1296928327645051, 0.06655290102389079, 0.1416382252559727, 0.121160409556314, 0.18088737201365188, 0.1723549488054607, 0.121160409556314, 0.11689419795221842, 0.13822525597269622, 0.0614334470989761, 0.21501706484641633, 0.15358361774744028, 0.13822525597269622, 0.05290102389078497, 0.057167235494880536, 0.06655290102389079, 0.18088737201365188, 0.0, 0.16808873720136516, 0.4027303754266211, 0.06825938566552901, 0.11262798634812286, 0.1296928327645051, 0.12627986348122863, 0.22696245733788395, 0.14675767918088736, 0.07167235494880546, 0.11262798634812286, 0.2406143344709897, 0.3515358361774744, 0.37713310580204773, 0.31740614334470985, 0.35580204778156993, 0.49658703071672344, 0.21928327645051196, 0.31740614334470985, 0.37713310580204773, 0.31058020477815695, 0.28327645051194533, 0.3686006825938566, 0.26194539249146753, 0.26621160409556316, 0.591296928327645, 0.2320819112627986, 0.30887372013651876, 0.5435153583617747, 0.6092150170648464, 0.6928327645051195, 0.6245733788395904, 0.8122866894197953, 0.49658703071672344, 0.78839590443686, 0.5392491467576791, 0.5648464163822525, 0.6595563139931739, 0.530716723549488, 1.0, 0.893344709897611, 0.5435153583617747, 0.39249146757679176, 0.3668941979522184, 0.341296928327645, 0.7081911262798635, 0.4556313993174061, 0.8020477815699658, 0.7662116040955631, 0.629692832764505, 0.6160409556313993, 0.3600682593856655, 0.7354947952218429, 0.7184300341296928, 0.5477815699658702, 0.5136518771331058, 0.7610921501706485, 0.6843003412969284, 0.675767918088737], \"y\": [0.8421052631578949, 0.5710526315789473, 0.5605263157894738, 0.8789473684210525, 0.5815789473684212, 0.8342105263157893, 0.8842105263157897, 0.7973684210526317, 1.0, 0.744736842105263, 0.8078947368421052, 0.813157894736842, 0.7157894736842105, 0.9789473684210526, 0.8815789473684212, 0.6842105263157897, 0.8605263157894739, 0.736842105263158, 0.831578947368421, 0.686842105263158, 0.7973684210526317, 0.5, 0.7052631578947371, 0.4789473684210526, 0.65, 0.5315789473684213, 0.6210526315789475, 0.5973684210526318, 0.7473684210526313, 0.7868421052631578, 0.7105263157894738, 0.6710526315789475, 0.6973684210526315, 0.718421052631579, 0.6526315789473685, 0.6447368421052633, 0.5921052631578946, 0.5315789473684213, 0.536842105263158, 0.8394736842105265, 0.6657894736842107, 0.6263157894736843, 0.7500000000000002, 0.5815789473684212, 0.5315789473684213, 0.8368421052631582, 0.8815789473684212, 0.755263157894737, 0.8078947368421052, 0.7657894736842105, 0.5315789473684213, 0.736842105263158, 0.7342105263157895, 0.7210526315789473, 0.7131578947368422, 0.6657894736842107, 0.8394736842105265, 0.594736842105263, 0.7078947368421055, 0.3526315789473683, 0.34210526315789486, 0.42368421052631605, 0.6947368421052632, 0.3526315789473683, 0.3000000000000001, 0.3526315789473683, 0.5473684210526315, 0.3526315789473683, 0.6078947368421053, 0.31052631578947404, 0.3315789473684209, 0.744736842105263, 0.6473684210526317, 0.5157894736842107, 0.2447368421052635, 0.1657894736842107, 0.5263157894736841, 0.21315789473684219, 0.34210526315789486, 0.43947368421052624, 0.25526315789473697, 0.44473684210526343, 0.27631578947368435, 0.5315789473684213, 0.21315789473684219, 0.4315789473684211, 0.2973684210526317, 0.16315789473684233, 0.16052631578947396, 0.27631578947368435, 0.27631578947368435, 0.25526315789473697, 0.43684210526315786, 0.3315789473684209, 0.15526315789473677, 0.3789473684210529, 0.2052631578947371, 0.3315789473684209, 0.3526315789473683, 0.3315789473684209, 0.27631578947368435, 0.4131578947368421, 0.34473684210526323, 0.20789473684210547, 0.38947368421052636, 0.3657894736842106, 0.3210526315789475, 0.44473684210526343, 0.31315789473684236, 0.15263157894736842, 0.11315789473684247, 0.39210526315789473, 0.1921052631578948, 0.10000000000000019, 0.27631578947368435, 0.0, 0.20789473684210547, 0.3657894736842106, 0.45789473684210524, 0.25526315789473697, 0.11052631578947364, 0.13947368421052658, 0.3657894736842106, 0.5315789473684213, 0.22105263157894728, 0.273684210526316, 0.368421052631579, 0.1999999999999999, 0.3526315789473683, 0.2657894736842104, 0.481578947368421, 0.4868421052631582, 0.4684210526315792, 0.43947368421052624, 0.38947368421052636, 0.4131578947368421, 0.3210526315789475, 0.3947368421052631, 0.6473684210526317, 0.47631578947368425, 0.5, 0.613157894736842, 0.6552631578947368, 0.6815789473684208, 0.3210526315789475, 0.5605263157894738, 0.7500000000000002, 0.48421052631578937, 0.6026315789473685, 0.5394736842105264, 0.65, 0.46315789473684194, 0.5473684210526315, 0.5789473684210528, 0.40789473684210537, 0.5631578947368422, 0.7394736842105263, 0.3736842105263157, 0.8710526315789473, 0.6447368421052633, 0.35, 0.7, 0.4789473684210526, 0.5078947368421055, 0.7236842105263157, 0.7105263157894738, 0.6368421052631578, 0.4710526315789475, 0.6710526315789475, 0.623684210526316, 0.30789473684210517, 0.45789473684210524, 0.8236842105263158, 0.7052631578947371, 0.623684210526316, 0.5894736842105263, 0.5631578947368422, 0.8157894736842107], \"z\": [0.5613409415121255, 0.550641940085592, 0.6469329529243937, 0.8573466476462197, 0.325962910128388, 0.8359486447931527, 0.7218259629101283, 0.7253922967189729, 0.5470756062767475, 0.5470756062767475, 0.8787446504992867, 0.7146932952924394, 0.7432239657631954, 0.6219686162624821, 0.9051355206847361, 0.7360912981455064, 0.7146932952924394, 0.6077032810271041, 1.0, 0.4044222539229672, 0.35805991440798857, 0.3509272467902996, 0.5399429386590585, 0.5256776034236804, 0.4044222539229672, 0.39372325249643364, 0.6540656205420827, 0.7182596291012838, 0.4543509272467903, 0.5399429386590585, 0.7182596291012838, 0.8823109843081313, 0.5078459343794579, 0.6825962910128388, 0.5827389443651926, 0.4579172610556348, 0.42938659058487877, 0.5898716119828816, 0.5292439372325249, 0.3437945791726106, 0.36875891583452214, 0.5399429386590585, 0.5827389443651926, 0.2867332382310984, 0.43295292439372324, 0.572039942938659, 0.5613409415121255, 0.5042796005706134, 0.557774607703281, 0.7004279600570613, 0.6219686162624821, 0.7039942938659058, 0.6504992867332382, 0.782453637660485, 0.557774607703281, 0.6005706134094151, 0.49358059914407987, 0.7075606276747504, 0.7182596291012838, 0.17261055634807418, 0.2867332382310984, 0.12268188302425106, 0.25106990014265335, 0.10128388017118402, 0.05492154065620542, 0.28530670470756064, 0.15977175463623394, 0.16547788873038516, 0.33666191155492153, 0.31383737517831667, 0.4222539229671897, 0.09415121255349501, 0.1383737517831669, 0.5042796005706134, 0.43366619115549215, 0.10699001426533523, 0.08131241084165478, 0.15834522111269614, 0.33666191155492153, 0.13195435092724678, 0.0, 0.31098430813124106, 0.25106990014265335, 0.16904422253922968, 0.17261055634807418, 0.12268188302425106, 0.15477888730385164, 0.20256776034236804, 0.2867332382310984, 0.24750356633380885, 0.14407988587731813, 0.12268188302425106, 0.15477888730385164, 0.008559201141226819, 0.04778887303851641, 0.47004279600570614, 0.24750356633380885, 0.10699001426533523, 0.2724679029957204, 0.0912981455064194, 0.30813124108416545, 0.20256776034236804, 0.11412268188302425, 0.09771754636233952, 0.2810271041369472, 0.026390870185449358, 0.16547788873038516, 0.14978601997146934, 0.024251069900142655, 0.2867332382310984, 0.20256776034236804, 0.033523537803138374, 0.2346647646219686, 0.11126961483594865, 0.07631954350927246, 0.0920114122681883, 0.15477888730385164, 0.04778887303851641, 0.06704707560627675, 0.20399429386590584, 0.24750356633380885, 0.13338088445078458, 0.062054208273894434, 0.07275320970042796, 0.07275320970042796, 0.07132667617689016, 0.052781740370898715, 0.1340941512125535, 0.0456490727532097, 0.21540656205420827, 0.25106990014265335, 0.1797432239657632, 0.20114122681883023, 0.2296718972895863, 0.2653352353780314, 0.29743223965763194, 0.3152639087018545, 0.16904422253922968, 0.21540656205420827, 0.2225392296718973, 0.2296718972895863, 0.35805991440798857, 0.17261055634807418, 0.19400855920114124, 0.4115549215406562, 0.39372325249643364, 0.09771754636233952, 0.24750356633380885, 0.2653352353780314, 0.19400855920114124, 0.15834522111269614, 0.14407988587731813, 0.10485021398002853, 0.2831669044222539, 0.2582025677603424, 0.318830242510699, 0.14407988587731813, 0.42938659058487877, 0.2724679029957204, 0.24393723252496433, 0.17261055634807418, 0.2867332382310984, 0.20827389443651925, 0.2831669044222539, 0.24037089871611983, 0.17261055634807418, 0.29743223965763194, 0.29029957203994294, 0.33666191155492153, 0.25106990014265335, 0.16547788873038516, 0.1369472182596291, 0.2724679029957204, 0.32952924393723254, 0.33666191155492153, 0.39728958630527816, 0.4008559201141227, 0.20114122681883023]}],\n",
       "                        {\"scene\": {\"xaxis\": {\"title\": {\"text\": \"Intensidade de Cor\"}}, \"yaxis\": {\"title\": {\"text\": \"\\u00c0lcool\"}}, \"zaxis\": {\"title\": {\"text\": \"Proline\"}}}, \"template\": {\"data\": {\"bar\": [{\"error_x\": {\"color\": \"#2a3f5f\"}, \"error_y\": {\"color\": \"#2a3f5f\"}, \"marker\": {\"line\": {\"color\": \"#E5ECF6\", \"width\": 0.5}}, \"type\": \"bar\"}], \"barpolar\": [{\"marker\": {\"line\": {\"color\": \"#E5ECF6\", \"width\": 0.5}}, \"type\": \"barpolar\"}], \"carpet\": [{\"aaxis\": {\"endlinecolor\": \"#2a3f5f\", \"gridcolor\": \"white\", \"linecolor\": \"white\", \"minorgridcolor\": \"white\", \"startlinecolor\": \"#2a3f5f\"}, \"baxis\": {\"endlinecolor\": \"#2a3f5f\", \"gridcolor\": \"white\", \"linecolor\": \"white\", \"minorgridcolor\": \"white\", \"startlinecolor\": \"#2a3f5f\"}, \"type\": \"carpet\"}], \"choropleth\": [{\"colorbar\": {\"outlinewidth\": 0, \"ticks\": \"\"}, \"type\": \"choropleth\"}], \"contour\": [{\"colorbar\": {\"outlinewidth\": 0, \"ticks\": \"\"}, \"colorscale\": [[0.0, \"#0d0887\"], [0.1111111111111111, \"#46039f\"], [0.2222222222222222, \"#7201a8\"], [0.3333333333333333, \"#9c179e\"], [0.4444444444444444, \"#bd3786\"], [0.5555555555555556, \"#d8576b\"], [0.6666666666666666, \"#ed7953\"], [0.7777777777777778, \"#fb9f3a\"], [0.8888888888888888, \"#fdca26\"], [1.0, \"#f0f921\"]], \"type\": \"contour\"}], \"contourcarpet\": [{\"colorbar\": {\"outlinewidth\": 0, \"ticks\": \"\"}, \"type\": \"contourcarpet\"}], \"heatmap\": [{\"colorbar\": {\"outlinewidth\": 0, \"ticks\": \"\"}, \"colorscale\": [[0.0, \"#0d0887\"], [0.1111111111111111, \"#46039f\"], [0.2222222222222222, \"#7201a8\"], [0.3333333333333333, \"#9c179e\"], [0.4444444444444444, \"#bd3786\"], [0.5555555555555556, \"#d8576b\"], [0.6666666666666666, \"#ed7953\"], [0.7777777777777778, \"#fb9f3a\"], [0.8888888888888888, \"#fdca26\"], [1.0, \"#f0f921\"]], \"type\": \"heatmap\"}], \"heatmapgl\": [{\"colorbar\": {\"outlinewidth\": 0, \"ticks\": \"\"}, \"colorscale\": [[0.0, \"#0d0887\"], [0.1111111111111111, \"#46039f\"], [0.2222222222222222, \"#7201a8\"], [0.3333333333333333, \"#9c179e\"], [0.4444444444444444, \"#bd3786\"], [0.5555555555555556, \"#d8576b\"], [0.6666666666666666, \"#ed7953\"], [0.7777777777777778, \"#fb9f3a\"], [0.8888888888888888, \"#fdca26\"], [1.0, \"#f0f921\"]], \"type\": \"heatmapgl\"}], \"histogram\": [{\"marker\": {\"colorbar\": {\"outlinewidth\": 0, \"ticks\": \"\"}}, \"type\": \"histogram\"}], \"histogram2d\": [{\"colorbar\": {\"outlinewidth\": 0, \"ticks\": \"\"}, \"colorscale\": [[0.0, \"#0d0887\"], [0.1111111111111111, \"#46039f\"], [0.2222222222222222, \"#7201a8\"], [0.3333333333333333, \"#9c179e\"], [0.4444444444444444, \"#bd3786\"], [0.5555555555555556, \"#d8576b\"], [0.6666666666666666, \"#ed7953\"], [0.7777777777777778, \"#fb9f3a\"], [0.8888888888888888, \"#fdca26\"], [1.0, \"#f0f921\"]], \"type\": \"histogram2d\"}], \"histogram2dcontour\": [{\"colorbar\": {\"outlinewidth\": 0, \"ticks\": \"\"}, \"colorscale\": [[0.0, \"#0d0887\"], [0.1111111111111111, \"#46039f\"], [0.2222222222222222, \"#7201a8\"], [0.3333333333333333, \"#9c179e\"], [0.4444444444444444, \"#bd3786\"], [0.5555555555555556, \"#d8576b\"], [0.6666666666666666, \"#ed7953\"], [0.7777777777777778, \"#fb9f3a\"], [0.8888888888888888, \"#fdca26\"], [1.0, \"#f0f921\"]], \"type\": \"histogram2dcontour\"}], \"mesh3d\": [{\"colorbar\": {\"outlinewidth\": 0, \"ticks\": \"\"}, \"type\": \"mesh3d\"}], \"parcoords\": [{\"line\": {\"colorbar\": {\"outlinewidth\": 0, \"ticks\": \"\"}}, \"type\": \"parcoords\"}], \"scatter\": [{\"marker\": {\"colorbar\": {\"outlinewidth\": 0, \"ticks\": \"\"}}, \"type\": \"scatter\"}], \"scatter3d\": [{\"line\": {\"colorbar\": {\"outlinewidth\": 0, \"ticks\": \"\"}}, \"marker\": {\"colorbar\": {\"outlinewidth\": 0, \"ticks\": \"\"}}, \"type\": \"scatter3d\"}], \"scattercarpet\": [{\"marker\": {\"colorbar\": {\"outlinewidth\": 0, \"ticks\": \"\"}}, \"type\": \"scattercarpet\"}], \"scattergeo\": [{\"marker\": {\"colorbar\": {\"outlinewidth\": 0, \"ticks\": \"\"}}, \"type\": \"scattergeo\"}], \"scattergl\": [{\"marker\": {\"colorbar\": {\"outlinewidth\": 0, \"ticks\": \"\"}}, \"type\": \"scattergl\"}], \"scattermapbox\": [{\"marker\": {\"colorbar\": {\"outlinewidth\": 0, \"ticks\": \"\"}}, \"type\": \"scattermapbox\"}], \"scatterpolar\": [{\"marker\": {\"colorbar\": {\"outlinewidth\": 0, \"ticks\": \"\"}}, \"type\": \"scatterpolar\"}], \"scatterpolargl\": [{\"marker\": {\"colorbar\": {\"outlinewidth\": 0, \"ticks\": \"\"}}, \"type\": \"scatterpolargl\"}], \"scatterternary\": [{\"marker\": {\"colorbar\": {\"outlinewidth\": 0, \"ticks\": \"\"}}, \"type\": \"scatterternary\"}], \"surface\": [{\"colorbar\": {\"outlinewidth\": 0, \"ticks\": \"\"}, \"colorscale\": [[0.0, \"#0d0887\"], [0.1111111111111111, \"#46039f\"], [0.2222222222222222, \"#7201a8\"], [0.3333333333333333, \"#9c179e\"], [0.4444444444444444, \"#bd3786\"], [0.5555555555555556, \"#d8576b\"], [0.6666666666666666, \"#ed7953\"], [0.7777777777777778, \"#fb9f3a\"], [0.8888888888888888, \"#fdca26\"], [1.0, \"#f0f921\"]], \"type\": \"surface\"}], \"table\": [{\"cells\": {\"fill\": {\"color\": \"#EBF0F8\"}, \"line\": {\"color\": \"white\"}}, \"header\": {\"fill\": {\"color\": \"#C8D4E3\"}, \"line\": {\"color\": \"white\"}}, \"type\": \"table\"}]}, \"layout\": {\"annotationdefaults\": {\"arrowcolor\": \"#2a3f5f\", \"arrowhead\": 0, \"arrowwidth\": 1}, \"colorscale\": {\"diverging\": [[0, \"#8e0152\"], [0.1, \"#c51b7d\"], [0.2, \"#de77ae\"], [0.3, \"#f1b6da\"], [0.4, \"#fde0ef\"], [0.5, \"#f7f7f7\"], [0.6, \"#e6f5d0\"], [0.7, \"#b8e186\"], [0.8, \"#7fbc41\"], [0.9, \"#4d9221\"], [1, \"#276419\"]], \"sequential\": [[0.0, \"#0d0887\"], [0.1111111111111111, \"#46039f\"], [0.2222222222222222, \"#7201a8\"], [0.3333333333333333, \"#9c179e\"], [0.4444444444444444, \"#bd3786\"], [0.5555555555555556, \"#d8576b\"], [0.6666666666666666, \"#ed7953\"], [0.7777777777777778, \"#fb9f3a\"], [0.8888888888888888, \"#fdca26\"], [1.0, \"#f0f921\"]], \"sequentialminus\": [[0.0, \"#0d0887\"], [0.1111111111111111, \"#46039f\"], [0.2222222222222222, \"#7201a8\"], [0.3333333333333333, \"#9c179e\"], [0.4444444444444444, \"#bd3786\"], [0.5555555555555556, \"#d8576b\"], [0.6666666666666666, \"#ed7953\"], [0.7777777777777778, \"#fb9f3a\"], [0.8888888888888888, \"#fdca26\"], [1.0, \"#f0f921\"]]}, \"colorway\": [\"#636efa\", \"#EF553B\", \"#00cc96\", \"#ab63fa\", \"#FFA15A\", \"#19d3f3\", \"#FF6692\", \"#B6E880\", \"#FF97FF\", \"#FECB52\"], \"font\": {\"color\": \"#2a3f5f\"}, \"geo\": {\"bgcolor\": \"white\", \"lakecolor\": \"white\", \"landcolor\": \"#E5ECF6\", \"showlakes\": true, \"showland\": true, \"subunitcolor\": \"white\"}, \"hoverlabel\": {\"align\": \"left\"}, \"hovermode\": \"closest\", \"mapbox\": {\"style\": \"light\"}, \"paper_bgcolor\": \"white\", \"plot_bgcolor\": \"#E5ECF6\", \"polar\": {\"angularaxis\": {\"gridcolor\": \"white\", \"linecolor\": \"white\", \"ticks\": \"\"}, \"bgcolor\": \"#E5ECF6\", \"radialaxis\": {\"gridcolor\": \"white\", \"linecolor\": \"white\", \"ticks\": \"\"}}, \"scene\": {\"xaxis\": {\"backgroundcolor\": \"#E5ECF6\", \"gridcolor\": \"white\", \"gridwidth\": 2, \"linecolor\": \"white\", \"showbackground\": true, \"ticks\": \"\", \"zerolinecolor\": \"white\"}, \"yaxis\": {\"backgroundcolor\": \"#E5ECF6\", \"gridcolor\": \"white\", \"gridwidth\": 2, \"linecolor\": \"white\", \"showbackground\": true, \"ticks\": \"\", \"zerolinecolor\": \"white\"}, \"zaxis\": {\"backgroundcolor\": \"#E5ECF6\", \"gridcolor\": \"white\", \"gridwidth\": 2, \"linecolor\": \"white\", \"showbackground\": true, \"ticks\": \"\", \"zerolinecolor\": \"white\"}}, \"shapedefaults\": {\"line\": {\"color\": \"#2a3f5f\"}}, \"ternary\": {\"aaxis\": {\"gridcolor\": \"white\", \"linecolor\": \"white\", \"ticks\": \"\"}, \"baxis\": {\"gridcolor\": \"white\", \"linecolor\": \"white\", \"ticks\": \"\"}, \"bgcolor\": \"#E5ECF6\", \"caxis\": {\"gridcolor\": \"white\", \"linecolor\": \"white\", \"ticks\": \"\"}}, \"title\": {\"x\": 0.05}, \"xaxis\": {\"automargin\": true, \"gridcolor\": \"white\", \"linecolor\": \"white\", \"ticks\": \"\", \"zerolinecolor\": \"white\", \"zerolinewidth\": 2}, \"yaxis\": {\"automargin\": true, \"gridcolor\": \"white\", \"linecolor\": \"white\", \"ticks\": \"\", \"zerolinecolor\": \"white\", \"zerolinewidth\": 2}}}},\n",
       "                        {\"responsive\": true}\n",
       "                    ).then(function(){\n",
       "                            \n",
       "var gd = document.getElementById('b8a81585-47f2-40eb-91a2-be0551c528a7');\n",
       "var x = new MutationObserver(function (mutations, observer) {{\n",
       "        var display = window.getComputedStyle(gd).display;\n",
       "        if (!display || display === 'none') {{\n",
       "            console.log([gd, 'removed!']);\n",
       "            Plotly.purge(gd);\n",
       "            observer.disconnect();\n",
       "        }}\n",
       "}});\n",
       "\n",
       "// Listen for the removal of the full notebook cells\n",
       "var notebookContainer = gd.closest('#notebook-container');\n",
       "if (notebookContainer) {{\n",
       "    x.observe(notebookContainer, {childList: true});\n",
       "}}\n",
       "\n",
       "// Listen for the clearing of the current output cell\n",
       "var outputEl = gd.closest('.output');\n",
       "if (outputEl) {{\n",
       "    x.observe(outputEl, {childList: true});\n",
       "}}\n",
       "\n",
       "                        })\n",
       "                };\n",
       "                });\n",
       "            </script>\n",
       "        </div>"
      ]
     },
     "metadata": {},
     "output_type": "display_data"
    }
   ],
   "source": [
    "fig.update_layout(scene = dict(\n",
    "                    xaxis_title='Intensidade de Cor',\n",
    "                    yaxis_title='Àlcool',\n",
    "                    zaxis_title='Proline'))\n",
    "fig.show()"
   ]
  },
  {
   "cell_type": "code",
   "execution_count": 109,
   "id": "4f69b7ac",
   "metadata": {},
   "outputs": [],
   "source": [
    "centros = pd.DataFrame(agrupador.cluster_centers_)\n",
    "centros.columns = atributos"
   ]
  },
  {
   "cell_type": "code",
   "execution_count": 114,
   "id": "c81119ce",
   "metadata": {},
   "outputs": [
    {
     "data": {
      "application/vnd.plotly.v1+json": {
       "config": {
        "plotlyServerURL": "https://plot.ly"
       },
       "data": [
        {
         "marker": {
          "color": [
           0,
           0,
           0,
           0,
           0,
           0,
           0,
           0,
           0,
           0,
           0,
           0,
           0,
           0,
           0,
           0,
           0,
           0,
           0,
           0,
           0,
           0,
           0,
           0,
           0,
           0,
           0,
           0,
           0,
           0,
           0,
           0,
           0,
           0,
           0,
           0,
           0,
           0,
           0,
           0,
           0,
           0,
           0,
           0,
           0,
           0,
           0,
           0,
           0,
           0,
           0,
           0,
           0,
           0,
           0,
           0,
           0,
           0,
           0,
           8,
           1,
           1,
           1,
           5,
           1,
           1,
           1,
           1,
           1,
           3,
           1,
           5,
           1,
           7,
           1,
           1,
           1,
           1,
           3,
           1,
           1,
           1,
           1,
           2,
           1,
           1,
           1,
           1,
           1,
           1,
           1,
           1,
           1,
           1,
           1,
           3,
           10,
           1,
           1,
           13,
           1,
           1,
           1,
           1,
           1,
           1,
           1,
           1,
           1,
           1,
           12,
           1,
           1,
           1,
           1,
           13,
           1,
           1,
           1,
           1,
           1,
           11,
           6,
           6,
           9,
           1,
           1,
           1,
           1,
           1,
           2,
           2,
           2,
           2,
           2,
           2,
           2,
           2,
           2,
           2,
           2,
           2,
           2,
           2,
           2,
           2,
           2,
           2,
           2,
           2,
           2,
           2,
           2,
           2,
           2,
           2,
           2,
           2,
           4,
           4,
           2,
           2,
           2,
           2,
           2,
           2,
           2,
           2,
           2,
           2,
           2,
           2,
           2,
           2,
           2,
           2,
           2,
           2
          ]
         },
         "mode": "markers",
         "text": [
          "0",
          "1",
          "2"
         ],
         "type": "scatter3d",
         "x": [
          0.37201365187713303,
          0.26450511945392485,
          0.3754266211604095,
          0.5563139931740614,
          0.2593856655290102,
          0.46672354948805456,
          0.3387372013651877,
          0.3216723549488054,
          0.33447098976109213,
          0.5068259385665528,
          0.3813993174061433,
          0.31740614334470985,
          0.3686006825938566,
          0.3515358361774744,
          0.530716723549488,
          0.5136518771331058,
          0.4197952218430034,
          0.45392491467576784,
          0.6331058020477814,
          0.32593856655290093,
          0.3728668941979522,
          0.27474402730375425,
          0.21501706484641633,
          0.22610921501706485,
          0.19112627986348124,
          0.19624573378839588,
          0.3003412969283276,
          0.22781569965870305,
          0.27474402730375425,
          0.2918088737201365,
          0.37713310580204773,
          0.47952218430034127,
          0.21843003412969278,
          0.3515358361774744,
          0.24914675767918087,
          0.32593856655290093,
          0.28327645051194533,
          0.2534129692832764,
          0.20648464163822525,
          0.32593856655290093,
          0.41382252559726956,
          0.25597269624573377,
          0.3540955631399317,
          0.26279863481228666,
          0.3208191126279863,
          0.3378839590443686,
          0.30887372013651876,
          0.4112627986348122,
          0.4197952218430034,
          0.6501706484641638,
          0.5051194539249146,
          0.3686006825938566,
          0.4923208191126279,
          0.42832764505119447,
          0.3899317406143344,
          0.42406143344709896,
          0.43515358361774736,
          0.4027303754266211,
          0.4709897610921501,
          0.057167235494880536,
          0.1697952218430034,
          0.3813993174061433,
          0.21501706484641633,
          0.2704778156996587,
          0.14249146757679182,
          0.28327645051194533,
          0.3430034129692832,
          0.2901023890784982,
          0.16126279863481227,
          0.13395904436860068,
          0.1510238907849829,
          0.17918088737201363,
          0.2098976109215017,
          0.17662116040955633,
          0.16467576791808872,
          0.21501706484641633,
          0.28327645051194533,
          0.11689419795221842,
          0.18088737201365188,
          0.1100682593856655,
          0.10409556313993173,
          0.2235494880546075,
          0.07849829351535836,
          0.3003412969283276,
          0.1510238907849829,
          0.11433447098976109,
          0.09982935153583619,
          0.11262798634812286,
          0.1296928327645051,
          0.039249146757679175,
          0.09556313993174059,
          0.19795221843003413,
          0.1510238907849829,
          0.07423208191126278,
          0.16808873720136516,
          0.11262798634812286,
          0.10409556313993173,
          0.13822525597269622,
          0.27474402730375425,
          0.08703071672354946,
          0.1723549488054607,
          0.09982935153583619,
          0.1296928327645051,
          0.06655290102389079,
          0.1416382252559727,
          0.121160409556314,
          0.18088737201365188,
          0.1723549488054607,
          0.121160409556314,
          0.11689419795221842,
          0.13822525597269622,
          0.0614334470989761,
          0.21501706484641633,
          0.15358361774744028,
          0.13822525597269622,
          0.05290102389078497,
          0.057167235494880536,
          0.06655290102389079,
          0.18088737201365188,
          0,
          0.16808873720136516,
          0.4027303754266211,
          0.06825938566552901,
          0.11262798634812286,
          0.1296928327645051,
          0.12627986348122863,
          0.22696245733788395,
          0.14675767918088736,
          0.07167235494880546,
          0.11262798634812286,
          0.2406143344709897,
          0.3515358361774744,
          0.37713310580204773,
          0.31740614334470985,
          0.35580204778156993,
          0.49658703071672344,
          0.21928327645051196,
          0.31740614334470985,
          0.37713310580204773,
          0.31058020477815695,
          0.28327645051194533,
          0.3686006825938566,
          0.26194539249146753,
          0.26621160409556316,
          0.591296928327645,
          0.2320819112627986,
          0.30887372013651876,
          0.5435153583617747,
          0.6092150170648464,
          0.6928327645051195,
          0.6245733788395904,
          0.8122866894197953,
          0.49658703071672344,
          0.78839590443686,
          0.5392491467576791,
          0.5648464163822525,
          0.6595563139931739,
          0.530716723549488,
          1,
          0.893344709897611,
          0.5435153583617747,
          0.39249146757679176,
          0.3668941979522184,
          0.341296928327645,
          0.7081911262798635,
          0.4556313993174061,
          0.8020477815699658,
          0.7662116040955631,
          0.629692832764505,
          0.6160409556313993,
          0.3600682593856655,
          0.7354947952218429,
          0.7184300341296928,
          0.5477815699658702,
          0.5136518771331058,
          0.7610921501706485,
          0.6843003412969284,
          0.675767918088737
         ],
         "y": [
          0.8421052631578949,
          0.5710526315789473,
          0.5605263157894738,
          0.8789473684210525,
          0.5815789473684212,
          0.8342105263157893,
          0.8842105263157897,
          0.7973684210526317,
          1,
          0.744736842105263,
          0.8078947368421052,
          0.813157894736842,
          0.7157894736842105,
          0.9789473684210526,
          0.8815789473684212,
          0.6842105263157897,
          0.8605263157894739,
          0.736842105263158,
          0.831578947368421,
          0.686842105263158,
          0.7973684210526317,
          0.5,
          0.7052631578947371,
          0.4789473684210526,
          0.65,
          0.5315789473684213,
          0.6210526315789475,
          0.5973684210526318,
          0.7473684210526313,
          0.7868421052631578,
          0.7105263157894738,
          0.6710526315789475,
          0.6973684210526315,
          0.718421052631579,
          0.6526315789473685,
          0.6447368421052633,
          0.5921052631578946,
          0.5315789473684213,
          0.536842105263158,
          0.8394736842105265,
          0.6657894736842107,
          0.6263157894736843,
          0.7500000000000002,
          0.5815789473684212,
          0.5315789473684213,
          0.8368421052631582,
          0.8815789473684212,
          0.755263157894737,
          0.8078947368421052,
          0.7657894736842105,
          0.5315789473684213,
          0.736842105263158,
          0.7342105263157895,
          0.7210526315789473,
          0.7131578947368422,
          0.6657894736842107,
          0.8394736842105265,
          0.594736842105263,
          0.7078947368421055,
          0.3526315789473683,
          0.34210526315789486,
          0.42368421052631605,
          0.6947368421052632,
          0.3526315789473683,
          0.3000000000000001,
          0.3526315789473683,
          0.5473684210526315,
          0.3526315789473683,
          0.6078947368421053,
          0.31052631578947404,
          0.3315789473684209,
          0.744736842105263,
          0.6473684210526317,
          0.5157894736842107,
          0.2447368421052635,
          0.1657894736842107,
          0.5263157894736841,
          0.21315789473684219,
          0.34210526315789486,
          0.43947368421052624,
          0.25526315789473697,
          0.44473684210526343,
          0.27631578947368435,
          0.5315789473684213,
          0.21315789473684219,
          0.4315789473684211,
          0.2973684210526317,
          0.16315789473684233,
          0.16052631578947396,
          0.27631578947368435,
          0.27631578947368435,
          0.25526315789473697,
          0.43684210526315786,
          0.3315789473684209,
          0.15526315789473677,
          0.3789473684210529,
          0.2052631578947371,
          0.3315789473684209,
          0.3526315789473683,
          0.3315789473684209,
          0.27631578947368435,
          0.4131578947368421,
          0.34473684210526323,
          0.20789473684210547,
          0.38947368421052636,
          0.3657894736842106,
          0.3210526315789475,
          0.44473684210526343,
          0.31315789473684236,
          0.15263157894736842,
          0.11315789473684247,
          0.39210526315789473,
          0.1921052631578948,
          0.10000000000000019,
          0.27631578947368435,
          0,
          0.20789473684210547,
          0.3657894736842106,
          0.45789473684210524,
          0.25526315789473697,
          0.11052631578947364,
          0.13947368421052658,
          0.3657894736842106,
          0.5315789473684213,
          0.22105263157894728,
          0.273684210526316,
          0.368421052631579,
          0.1999999999999999,
          0.3526315789473683,
          0.2657894736842104,
          0.481578947368421,
          0.4868421052631582,
          0.4684210526315792,
          0.43947368421052624,
          0.38947368421052636,
          0.4131578947368421,
          0.3210526315789475,
          0.3947368421052631,
          0.6473684210526317,
          0.47631578947368425,
          0.5,
          0.613157894736842,
          0.6552631578947368,
          0.6815789473684208,
          0.3210526315789475,
          0.5605263157894738,
          0.7500000000000002,
          0.48421052631578937,
          0.6026315789473685,
          0.5394736842105264,
          0.65,
          0.46315789473684194,
          0.5473684210526315,
          0.5789473684210528,
          0.40789473684210537,
          0.5631578947368422,
          0.7394736842105263,
          0.3736842105263157,
          0.8710526315789473,
          0.6447368421052633,
          0.35,
          0.7,
          0.4789473684210526,
          0.5078947368421055,
          0.7236842105263157,
          0.7105263157894738,
          0.6368421052631578,
          0.4710526315789475,
          0.6710526315789475,
          0.623684210526316,
          0.30789473684210517,
          0.45789473684210524,
          0.8236842105263158,
          0.7052631578947371,
          0.623684210526316,
          0.5894736842105263,
          0.5631578947368422,
          0.8157894736842107
         ],
         "z": [
          0.5613409415121255,
          0.550641940085592,
          0.6469329529243937,
          0.8573466476462197,
          0.325962910128388,
          0.8359486447931527,
          0.7218259629101283,
          0.7253922967189729,
          0.5470756062767475,
          0.5470756062767475,
          0.8787446504992867,
          0.7146932952924394,
          0.7432239657631954,
          0.6219686162624821,
          0.9051355206847361,
          0.7360912981455064,
          0.7146932952924394,
          0.6077032810271041,
          1,
          0.4044222539229672,
          0.35805991440798857,
          0.3509272467902996,
          0.5399429386590585,
          0.5256776034236804,
          0.4044222539229672,
          0.39372325249643364,
          0.6540656205420827,
          0.7182596291012838,
          0.4543509272467903,
          0.5399429386590585,
          0.7182596291012838,
          0.8823109843081313,
          0.5078459343794579,
          0.6825962910128388,
          0.5827389443651926,
          0.4579172610556348,
          0.42938659058487877,
          0.5898716119828816,
          0.5292439372325249,
          0.3437945791726106,
          0.36875891583452214,
          0.5399429386590585,
          0.5827389443651926,
          0.2867332382310984,
          0.43295292439372324,
          0.572039942938659,
          0.5613409415121255,
          0.5042796005706134,
          0.557774607703281,
          0.7004279600570613,
          0.6219686162624821,
          0.7039942938659058,
          0.6504992867332382,
          0.782453637660485,
          0.557774607703281,
          0.6005706134094151,
          0.49358059914407987,
          0.7075606276747504,
          0.7182596291012838,
          0.17261055634807418,
          0.2867332382310984,
          0.12268188302425106,
          0.25106990014265335,
          0.10128388017118402,
          0.05492154065620542,
          0.28530670470756064,
          0.15977175463623394,
          0.16547788873038516,
          0.33666191155492153,
          0.31383737517831667,
          0.4222539229671897,
          0.09415121255349501,
          0.1383737517831669,
          0.5042796005706134,
          0.43366619115549215,
          0.10699001426533523,
          0.08131241084165478,
          0.15834522111269614,
          0.33666191155492153,
          0.13195435092724678,
          0,
          0.31098430813124106,
          0.25106990014265335,
          0.16904422253922968,
          0.17261055634807418,
          0.12268188302425106,
          0.15477888730385164,
          0.20256776034236804,
          0.2867332382310984,
          0.24750356633380885,
          0.14407988587731813,
          0.12268188302425106,
          0.15477888730385164,
          0.008559201141226819,
          0.04778887303851641,
          0.47004279600570614,
          0.24750356633380885,
          0.10699001426533523,
          0.2724679029957204,
          0.0912981455064194,
          0.30813124108416545,
          0.20256776034236804,
          0.11412268188302425,
          0.09771754636233952,
          0.2810271041369472,
          0.026390870185449358,
          0.16547788873038516,
          0.14978601997146934,
          0.024251069900142655,
          0.2867332382310984,
          0.20256776034236804,
          0.033523537803138374,
          0.2346647646219686,
          0.11126961483594865,
          0.07631954350927246,
          0.0920114122681883,
          0.15477888730385164,
          0.04778887303851641,
          0.06704707560627675,
          0.20399429386590584,
          0.24750356633380885,
          0.13338088445078458,
          0.062054208273894434,
          0.07275320970042796,
          0.07275320970042796,
          0.07132667617689016,
          0.052781740370898715,
          0.1340941512125535,
          0.0456490727532097,
          0.21540656205420827,
          0.25106990014265335,
          0.1797432239657632,
          0.20114122681883023,
          0.2296718972895863,
          0.2653352353780314,
          0.29743223965763194,
          0.3152639087018545,
          0.16904422253922968,
          0.21540656205420827,
          0.2225392296718973,
          0.2296718972895863,
          0.35805991440798857,
          0.17261055634807418,
          0.19400855920114124,
          0.4115549215406562,
          0.39372325249643364,
          0.09771754636233952,
          0.24750356633380885,
          0.2653352353780314,
          0.19400855920114124,
          0.15834522111269614,
          0.14407988587731813,
          0.10485021398002853,
          0.2831669044222539,
          0.2582025677603424,
          0.318830242510699,
          0.14407988587731813,
          0.42938659058487877,
          0.2724679029957204,
          0.24393723252496433,
          0.17261055634807418,
          0.2867332382310984,
          0.20827389443651925,
          0.2831669044222539,
          0.24037089871611983,
          0.17261055634807418,
          0.29743223965763194,
          0.29029957203994294,
          0.33666191155492153,
          0.25106990014265335,
          0.16547788873038516,
          0.1369472182596291,
          0.2724679029957204,
          0.32952924393723254,
          0.33666191155492153,
          0.39728958630527816,
          0.4008559201141227,
          0.20114122681883023
         ]
        },
        {
         "marker": {
          "color": "red"
         },
         "mode": "markers",
         "text": [
          "0",
          "1",
          "2"
         ],
         "type": "scatter3d",
         "x": [
          0.3583143723928706,
          0.14034795638058764,
          0.5126017305504507,
          0.1424914675767918,
          0.9466723549488054,
          0.17918088737201363,
          0.11262798634812286,
          0.17662116040955633,
          0.057167235494880536,
          0.1296928327645051,
          0.10409556313993173,
          0.4027303754266211,
          0.13822525597269622,
          0.05290102389078497
         ],
         "y": [
          0.705311890838207,
          0.3094351732991014,
          0.5626855600539811,
          0.34385964912280725,
          0.7578947368421053,
          0.744736842105263,
          0.5315789473684213,
          0.5157894736842107,
          0.3526315789473683,
          0.22105263157894728,
          0.2052631578947371,
          0.13947368421052658,
          0.11315789473684247,
          0
         ],
         "z": [
          0.5923812542928093,
          0.14867262795309832,
          0.26176890156918686,
          0.3735140275796482,
          0.25820256776034234,
          0.09415121255349501,
          0.07275320970042796,
          0.5042796005706134,
          0.17261055634807418,
          0.07275320970042796,
          0.24750356633380885,
          0.13338088445078458,
          0.20256776034236804,
          0.0920114122681883
         ]
        },
        {
         "marker": {
          "color": "red"
         },
         "mode": "markers",
         "text": [
          "0",
          "1",
          "2"
         ],
         "type": "scatter3d",
         "x": [
          0.3583143723928706,
          0.14034795638058764,
          0.5126017305504507,
          0.1424914675767918,
          0.9466723549488054,
          0.17918088737201363,
          0.11262798634812286,
          0.17662116040955633,
          0.057167235494880536,
          0.1296928327645051,
          0.10409556313993173,
          0.4027303754266211,
          0.13822525597269622,
          0.05290102389078497
         ],
         "y": [
          0.705311890838207,
          0.3094351732991014,
          0.5626855600539811,
          0.34385964912280725,
          0.7578947368421053,
          0.744736842105263,
          0.5315789473684213,
          0.5157894736842107,
          0.3526315789473683,
          0.22105263157894728,
          0.2052631578947371,
          0.13947368421052658,
          0.11315789473684247,
          0
         ],
         "z": [
          0.5923812542928093,
          0.14867262795309832,
          0.26176890156918686,
          0.3735140275796482,
          0.25820256776034234,
          0.09415121255349501,
          0.07275320970042796,
          0.5042796005706134,
          0.17261055634807418,
          0.07275320970042796,
          0.24750356633380885,
          0.13338088445078458,
          0.20256776034236804,
          0.0920114122681883
         ]
        }
       ],
       "layout": {
        "scene": {
         "xaxis": {
          "title": {
           "text": "Intensidade de Cor"
          }
         },
         "yaxis": {
          "title": {
           "text": "Àlcool"
          }
         },
         "zaxis": {
          "title": {
           "text": "Proline"
          }
         }
        },
        "template": {
         "data": {
          "bar": [
           {
            "error_x": {
             "color": "#2a3f5f"
            },
            "error_y": {
             "color": "#2a3f5f"
            },
            "marker": {
             "line": {
              "color": "#E5ECF6",
              "width": 0.5
             }
            },
            "type": "bar"
           }
          ],
          "barpolar": [
           {
            "marker": {
             "line": {
              "color": "#E5ECF6",
              "width": 0.5
             }
            },
            "type": "barpolar"
           }
          ],
          "carpet": [
           {
            "aaxis": {
             "endlinecolor": "#2a3f5f",
             "gridcolor": "white",
             "linecolor": "white",
             "minorgridcolor": "white",
             "startlinecolor": "#2a3f5f"
            },
            "baxis": {
             "endlinecolor": "#2a3f5f",
             "gridcolor": "white",
             "linecolor": "white",
             "minorgridcolor": "white",
             "startlinecolor": "#2a3f5f"
            },
            "type": "carpet"
           }
          ],
          "choropleth": [
           {
            "colorbar": {
             "outlinewidth": 0,
             "ticks": ""
            },
            "type": "choropleth"
           }
          ],
          "contour": [
           {
            "colorbar": {
             "outlinewidth": 0,
             "ticks": ""
            },
            "colorscale": [
             [
              0,
              "#0d0887"
             ],
             [
              0.1111111111111111,
              "#46039f"
             ],
             [
              0.2222222222222222,
              "#7201a8"
             ],
             [
              0.3333333333333333,
              "#9c179e"
             ],
             [
              0.4444444444444444,
              "#bd3786"
             ],
             [
              0.5555555555555556,
              "#d8576b"
             ],
             [
              0.6666666666666666,
              "#ed7953"
             ],
             [
              0.7777777777777778,
              "#fb9f3a"
             ],
             [
              0.8888888888888888,
              "#fdca26"
             ],
             [
              1,
              "#f0f921"
             ]
            ],
            "type": "contour"
           }
          ],
          "contourcarpet": [
           {
            "colorbar": {
             "outlinewidth": 0,
             "ticks": ""
            },
            "type": "contourcarpet"
           }
          ],
          "heatmap": [
           {
            "colorbar": {
             "outlinewidth": 0,
             "ticks": ""
            },
            "colorscale": [
             [
              0,
              "#0d0887"
             ],
             [
              0.1111111111111111,
              "#46039f"
             ],
             [
              0.2222222222222222,
              "#7201a8"
             ],
             [
              0.3333333333333333,
              "#9c179e"
             ],
             [
              0.4444444444444444,
              "#bd3786"
             ],
             [
              0.5555555555555556,
              "#d8576b"
             ],
             [
              0.6666666666666666,
              "#ed7953"
             ],
             [
              0.7777777777777778,
              "#fb9f3a"
             ],
             [
              0.8888888888888888,
              "#fdca26"
             ],
             [
              1,
              "#f0f921"
             ]
            ],
            "type": "heatmap"
           }
          ],
          "heatmapgl": [
           {
            "colorbar": {
             "outlinewidth": 0,
             "ticks": ""
            },
            "colorscale": [
             [
              0,
              "#0d0887"
             ],
             [
              0.1111111111111111,
              "#46039f"
             ],
             [
              0.2222222222222222,
              "#7201a8"
             ],
             [
              0.3333333333333333,
              "#9c179e"
             ],
             [
              0.4444444444444444,
              "#bd3786"
             ],
             [
              0.5555555555555556,
              "#d8576b"
             ],
             [
              0.6666666666666666,
              "#ed7953"
             ],
             [
              0.7777777777777778,
              "#fb9f3a"
             ],
             [
              0.8888888888888888,
              "#fdca26"
             ],
             [
              1,
              "#f0f921"
             ]
            ],
            "type": "heatmapgl"
           }
          ],
          "histogram": [
           {
            "marker": {
             "colorbar": {
              "outlinewidth": 0,
              "ticks": ""
             }
            },
            "type": "histogram"
           }
          ],
          "histogram2d": [
           {
            "colorbar": {
             "outlinewidth": 0,
             "ticks": ""
            },
            "colorscale": [
             [
              0,
              "#0d0887"
             ],
             [
              0.1111111111111111,
              "#46039f"
             ],
             [
              0.2222222222222222,
              "#7201a8"
             ],
             [
              0.3333333333333333,
              "#9c179e"
             ],
             [
              0.4444444444444444,
              "#bd3786"
             ],
             [
              0.5555555555555556,
              "#d8576b"
             ],
             [
              0.6666666666666666,
              "#ed7953"
             ],
             [
              0.7777777777777778,
              "#fb9f3a"
             ],
             [
              0.8888888888888888,
              "#fdca26"
             ],
             [
              1,
              "#f0f921"
             ]
            ],
            "type": "histogram2d"
           }
          ],
          "histogram2dcontour": [
           {
            "colorbar": {
             "outlinewidth": 0,
             "ticks": ""
            },
            "colorscale": [
             [
              0,
              "#0d0887"
             ],
             [
              0.1111111111111111,
              "#46039f"
             ],
             [
              0.2222222222222222,
              "#7201a8"
             ],
             [
              0.3333333333333333,
              "#9c179e"
             ],
             [
              0.4444444444444444,
              "#bd3786"
             ],
             [
              0.5555555555555556,
              "#d8576b"
             ],
             [
              0.6666666666666666,
              "#ed7953"
             ],
             [
              0.7777777777777778,
              "#fb9f3a"
             ],
             [
              0.8888888888888888,
              "#fdca26"
             ],
             [
              1,
              "#f0f921"
             ]
            ],
            "type": "histogram2dcontour"
           }
          ],
          "mesh3d": [
           {
            "colorbar": {
             "outlinewidth": 0,
             "ticks": ""
            },
            "type": "mesh3d"
           }
          ],
          "parcoords": [
           {
            "line": {
             "colorbar": {
              "outlinewidth": 0,
              "ticks": ""
             }
            },
            "type": "parcoords"
           }
          ],
          "scatter": [
           {
            "marker": {
             "colorbar": {
              "outlinewidth": 0,
              "ticks": ""
             }
            },
            "type": "scatter"
           }
          ],
          "scatter3d": [
           {
            "line": {
             "colorbar": {
              "outlinewidth": 0,
              "ticks": ""
             }
            },
            "marker": {
             "colorbar": {
              "outlinewidth": 0,
              "ticks": ""
             }
            },
            "type": "scatter3d"
           }
          ],
          "scattercarpet": [
           {
            "marker": {
             "colorbar": {
              "outlinewidth": 0,
              "ticks": ""
             }
            },
            "type": "scattercarpet"
           }
          ],
          "scattergeo": [
           {
            "marker": {
             "colorbar": {
              "outlinewidth": 0,
              "ticks": ""
             }
            },
            "type": "scattergeo"
           }
          ],
          "scattergl": [
           {
            "marker": {
             "colorbar": {
              "outlinewidth": 0,
              "ticks": ""
             }
            },
            "type": "scattergl"
           }
          ],
          "scattermapbox": [
           {
            "marker": {
             "colorbar": {
              "outlinewidth": 0,
              "ticks": ""
             }
            },
            "type": "scattermapbox"
           }
          ],
          "scatterpolar": [
           {
            "marker": {
             "colorbar": {
              "outlinewidth": 0,
              "ticks": ""
             }
            },
            "type": "scatterpolar"
           }
          ],
          "scatterpolargl": [
           {
            "marker": {
             "colorbar": {
              "outlinewidth": 0,
              "ticks": ""
             }
            },
            "type": "scatterpolargl"
           }
          ],
          "scatterternary": [
           {
            "marker": {
             "colorbar": {
              "outlinewidth": 0,
              "ticks": ""
             }
            },
            "type": "scatterternary"
           }
          ],
          "surface": [
           {
            "colorbar": {
             "outlinewidth": 0,
             "ticks": ""
            },
            "colorscale": [
             [
              0,
              "#0d0887"
             ],
             [
              0.1111111111111111,
              "#46039f"
             ],
             [
              0.2222222222222222,
              "#7201a8"
             ],
             [
              0.3333333333333333,
              "#9c179e"
             ],
             [
              0.4444444444444444,
              "#bd3786"
             ],
             [
              0.5555555555555556,
              "#d8576b"
             ],
             [
              0.6666666666666666,
              "#ed7953"
             ],
             [
              0.7777777777777778,
              "#fb9f3a"
             ],
             [
              0.8888888888888888,
              "#fdca26"
             ],
             [
              1,
              "#f0f921"
             ]
            ],
            "type": "surface"
           }
          ],
          "table": [
           {
            "cells": {
             "fill": {
              "color": "#EBF0F8"
             },
             "line": {
              "color": "white"
             }
            },
            "header": {
             "fill": {
              "color": "#C8D4E3"
             },
             "line": {
              "color": "white"
             }
            },
            "type": "table"
           }
          ]
         },
         "layout": {
          "annotationdefaults": {
           "arrowcolor": "#2a3f5f",
           "arrowhead": 0,
           "arrowwidth": 1
          },
          "colorscale": {
           "diverging": [
            [
             0,
             "#8e0152"
            ],
            [
             0.1,
             "#c51b7d"
            ],
            [
             0.2,
             "#de77ae"
            ],
            [
             0.3,
             "#f1b6da"
            ],
            [
             0.4,
             "#fde0ef"
            ],
            [
             0.5,
             "#f7f7f7"
            ],
            [
             0.6,
             "#e6f5d0"
            ],
            [
             0.7,
             "#b8e186"
            ],
            [
             0.8,
             "#7fbc41"
            ],
            [
             0.9,
             "#4d9221"
            ],
            [
             1,
             "#276419"
            ]
           ],
           "sequential": [
            [
             0,
             "#0d0887"
            ],
            [
             0.1111111111111111,
             "#46039f"
            ],
            [
             0.2222222222222222,
             "#7201a8"
            ],
            [
             0.3333333333333333,
             "#9c179e"
            ],
            [
             0.4444444444444444,
             "#bd3786"
            ],
            [
             0.5555555555555556,
             "#d8576b"
            ],
            [
             0.6666666666666666,
             "#ed7953"
            ],
            [
             0.7777777777777778,
             "#fb9f3a"
            ],
            [
             0.8888888888888888,
             "#fdca26"
            ],
            [
             1,
             "#f0f921"
            ]
           ],
           "sequentialminus": [
            [
             0,
             "#0d0887"
            ],
            [
             0.1111111111111111,
             "#46039f"
            ],
            [
             0.2222222222222222,
             "#7201a8"
            ],
            [
             0.3333333333333333,
             "#9c179e"
            ],
            [
             0.4444444444444444,
             "#bd3786"
            ],
            [
             0.5555555555555556,
             "#d8576b"
            ],
            [
             0.6666666666666666,
             "#ed7953"
            ],
            [
             0.7777777777777778,
             "#fb9f3a"
            ],
            [
             0.8888888888888888,
             "#fdca26"
            ],
            [
             1,
             "#f0f921"
            ]
           ]
          },
          "colorway": [
           "#636efa",
           "#EF553B",
           "#00cc96",
           "#ab63fa",
           "#FFA15A",
           "#19d3f3",
           "#FF6692",
           "#B6E880",
           "#FF97FF",
           "#FECB52"
          ],
          "font": {
           "color": "#2a3f5f"
          },
          "geo": {
           "bgcolor": "white",
           "lakecolor": "white",
           "landcolor": "#E5ECF6",
           "showlakes": true,
           "showland": true,
           "subunitcolor": "white"
          },
          "hoverlabel": {
           "align": "left"
          },
          "hovermode": "closest",
          "mapbox": {
           "style": "light"
          },
          "paper_bgcolor": "white",
          "plot_bgcolor": "#E5ECF6",
          "polar": {
           "angularaxis": {
            "gridcolor": "white",
            "linecolor": "white",
            "ticks": ""
           },
           "bgcolor": "#E5ECF6",
           "radialaxis": {
            "gridcolor": "white",
            "linecolor": "white",
            "ticks": ""
           }
          },
          "scene": {
           "xaxis": {
            "backgroundcolor": "#E5ECF6",
            "gridcolor": "white",
            "gridwidth": 2,
            "linecolor": "white",
            "showbackground": true,
            "ticks": "",
            "zerolinecolor": "white"
           },
           "yaxis": {
            "backgroundcolor": "#E5ECF6",
            "gridcolor": "white",
            "gridwidth": 2,
            "linecolor": "white",
            "showbackground": true,
            "ticks": "",
            "zerolinecolor": "white"
           },
           "zaxis": {
            "backgroundcolor": "#E5ECF6",
            "gridcolor": "white",
            "gridwidth": 2,
            "linecolor": "white",
            "showbackground": true,
            "ticks": "",
            "zerolinecolor": "white"
           }
          },
          "shapedefaults": {
           "line": {
            "color": "#2a3f5f"
           }
          },
          "ternary": {
           "aaxis": {
            "gridcolor": "white",
            "linecolor": "white",
            "ticks": ""
           },
           "baxis": {
            "gridcolor": "white",
            "linecolor": "white",
            "ticks": ""
           },
           "bgcolor": "#E5ECF6",
           "caxis": {
            "gridcolor": "white",
            "linecolor": "white",
            "ticks": ""
           }
          },
          "title": {
           "x": 0.05
          },
          "xaxis": {
           "automargin": true,
           "gridcolor": "white",
           "linecolor": "white",
           "ticks": "",
           "zerolinecolor": "white",
           "zerolinewidth": 2
          },
          "yaxis": {
           "automargin": true,
           "gridcolor": "white",
           "linecolor": "white",
           "ticks": "",
           "zerolinecolor": "white",
           "zerolinewidth": 2
          }
         }
        }
       }
      },
      "text/html": [
       "<div>\n",
       "        \n",
       "        \n",
       "            <div id=\"0c7d32f8-012e-4df1-b920-328ee1fd1034\" class=\"plotly-graph-div\" style=\"height:525px; width:100%;\"></div>\n",
       "            <script type=\"text/javascript\">\n",
       "                require([\"plotly\"], function(Plotly) {\n",
       "                    window.PLOTLYENV=window.PLOTLYENV || {};\n",
       "                    \n",
       "                if (document.getElementById(\"0c7d32f8-012e-4df1-b920-328ee1fd1034\")) {\n",
       "                    Plotly.newPlot(\n",
       "                        '0c7d32f8-012e-4df1-b920-328ee1fd1034',\n",
       "                        [{\"marker\": {\"color\": [0.0, 0.0, 0.0, 0.0, 0.0, 0.0, 0.0, 0.0, 0.0, 0.0, 0.0, 0.0, 0.0, 0.0, 0.0, 0.0, 0.0, 0.0, 0.0, 0.0, 0.0, 0.0, 0.0, 0.0, 0.0, 0.0, 0.0, 0.0, 0.0, 0.0, 0.0, 0.0, 0.0, 0.0, 0.0, 0.0, 0.0, 0.0, 0.0, 0.0, 0.0, 0.0, 0.0, 0.0, 0.0, 0.0, 0.0, 0.0, 0.0, 0.0, 0.0, 0.0, 0.0, 0.0, 0.0, 0.0, 0.0, 0.0, 0.0, 8.0, 1.0, 1.0, 1.0, 5.0, 1.0, 1.0, 1.0, 1.0, 1.0, 3.0, 1.0, 5.0, 1.0, 7.0, 1.0, 1.0, 1.0, 1.0, 3.0, 1.0, 1.0, 1.0, 1.0, 2.0, 1.0, 1.0, 1.0, 1.0, 1.0, 1.0, 1.0, 1.0, 1.0, 1.0, 1.0, 3.0, 10.0, 1.0, 1.0, 13.0, 1.0, 1.0, 1.0, 1.0, 1.0, 1.0, 1.0, 1.0, 1.0, 1.0, 12.0, 1.0, 1.0, 1.0, 1.0, 13.0, 1.0, 1.0, 1.0, 1.0, 1.0, 11.0, 6.0, 6.0, 9.0, 1.0, 1.0, 1.0, 1.0, 1.0, 2.0, 2.0, 2.0, 2.0, 2.0, 2.0, 2.0, 2.0, 2.0, 2.0, 2.0, 2.0, 2.0, 2.0, 2.0, 2.0, 2.0, 2.0, 2.0, 2.0, 2.0, 2.0, 2.0, 2.0, 2.0, 2.0, 2.0, 2.0, 4.0, 4.0, 2.0, 2.0, 2.0, 2.0, 2.0, 2.0, 2.0, 2.0, 2.0, 2.0, 2.0, 2.0, 2.0, 2.0, 2.0, 2.0, 2.0, 2.0]}, \"mode\": \"markers\", \"text\": [\"0\", \"1\", \"2\"], \"type\": \"scatter3d\", \"x\": [0.37201365187713303, 0.26450511945392485, 0.3754266211604095, 0.5563139931740614, 0.2593856655290102, 0.46672354948805456, 0.3387372013651877, 0.3216723549488054, 0.33447098976109213, 0.5068259385665528, 0.3813993174061433, 0.31740614334470985, 0.3686006825938566, 0.3515358361774744, 0.530716723549488, 0.5136518771331058, 0.4197952218430034, 0.45392491467576784, 0.6331058020477814, 0.32593856655290093, 0.3728668941979522, 0.27474402730375425, 0.21501706484641633, 0.22610921501706485, 0.19112627986348124, 0.19624573378839588, 0.3003412969283276, 0.22781569965870305, 0.27474402730375425, 0.2918088737201365, 0.37713310580204773, 0.47952218430034127, 0.21843003412969278, 0.3515358361774744, 0.24914675767918087, 0.32593856655290093, 0.28327645051194533, 0.2534129692832764, 0.20648464163822525, 0.32593856655290093, 0.41382252559726956, 0.25597269624573377, 0.3540955631399317, 0.26279863481228666, 0.3208191126279863, 0.3378839590443686, 0.30887372013651876, 0.4112627986348122, 0.4197952218430034, 0.6501706484641638, 0.5051194539249146, 0.3686006825938566, 0.4923208191126279, 0.42832764505119447, 0.3899317406143344, 0.42406143344709896, 0.43515358361774736, 0.4027303754266211, 0.4709897610921501, 0.057167235494880536, 0.1697952218430034, 0.3813993174061433, 0.21501706484641633, 0.2704778156996587, 0.14249146757679182, 0.28327645051194533, 0.3430034129692832, 0.2901023890784982, 0.16126279863481227, 0.13395904436860068, 0.1510238907849829, 0.17918088737201363, 0.2098976109215017, 0.17662116040955633, 0.16467576791808872, 0.21501706484641633, 0.28327645051194533, 0.11689419795221842, 0.18088737201365188, 0.1100682593856655, 0.10409556313993173, 0.2235494880546075, 0.07849829351535836, 0.3003412969283276, 0.1510238907849829, 0.11433447098976109, 0.09982935153583619, 0.11262798634812286, 0.1296928327645051, 0.039249146757679175, 0.09556313993174059, 0.19795221843003413, 0.1510238907849829, 0.07423208191126278, 0.16808873720136516, 0.11262798634812286, 0.10409556313993173, 0.13822525597269622, 0.27474402730375425, 0.08703071672354946, 0.1723549488054607, 0.09982935153583619, 0.1296928327645051, 0.06655290102389079, 0.1416382252559727, 0.121160409556314, 0.18088737201365188, 0.1723549488054607, 0.121160409556314, 0.11689419795221842, 0.13822525597269622, 0.0614334470989761, 0.21501706484641633, 0.15358361774744028, 0.13822525597269622, 0.05290102389078497, 0.057167235494880536, 0.06655290102389079, 0.18088737201365188, 0.0, 0.16808873720136516, 0.4027303754266211, 0.06825938566552901, 0.11262798634812286, 0.1296928327645051, 0.12627986348122863, 0.22696245733788395, 0.14675767918088736, 0.07167235494880546, 0.11262798634812286, 0.2406143344709897, 0.3515358361774744, 0.37713310580204773, 0.31740614334470985, 0.35580204778156993, 0.49658703071672344, 0.21928327645051196, 0.31740614334470985, 0.37713310580204773, 0.31058020477815695, 0.28327645051194533, 0.3686006825938566, 0.26194539249146753, 0.26621160409556316, 0.591296928327645, 0.2320819112627986, 0.30887372013651876, 0.5435153583617747, 0.6092150170648464, 0.6928327645051195, 0.6245733788395904, 0.8122866894197953, 0.49658703071672344, 0.78839590443686, 0.5392491467576791, 0.5648464163822525, 0.6595563139931739, 0.530716723549488, 1.0, 0.893344709897611, 0.5435153583617747, 0.39249146757679176, 0.3668941979522184, 0.341296928327645, 0.7081911262798635, 0.4556313993174061, 0.8020477815699658, 0.7662116040955631, 0.629692832764505, 0.6160409556313993, 0.3600682593856655, 0.7354947952218429, 0.7184300341296928, 0.5477815699658702, 0.5136518771331058, 0.7610921501706485, 0.6843003412969284, 0.675767918088737], \"y\": [0.8421052631578949, 0.5710526315789473, 0.5605263157894738, 0.8789473684210525, 0.5815789473684212, 0.8342105263157893, 0.8842105263157897, 0.7973684210526317, 1.0, 0.744736842105263, 0.8078947368421052, 0.813157894736842, 0.7157894736842105, 0.9789473684210526, 0.8815789473684212, 0.6842105263157897, 0.8605263157894739, 0.736842105263158, 0.831578947368421, 0.686842105263158, 0.7973684210526317, 0.5, 0.7052631578947371, 0.4789473684210526, 0.65, 0.5315789473684213, 0.6210526315789475, 0.5973684210526318, 0.7473684210526313, 0.7868421052631578, 0.7105263157894738, 0.6710526315789475, 0.6973684210526315, 0.718421052631579, 0.6526315789473685, 0.6447368421052633, 0.5921052631578946, 0.5315789473684213, 0.536842105263158, 0.8394736842105265, 0.6657894736842107, 0.6263157894736843, 0.7500000000000002, 0.5815789473684212, 0.5315789473684213, 0.8368421052631582, 0.8815789473684212, 0.755263157894737, 0.8078947368421052, 0.7657894736842105, 0.5315789473684213, 0.736842105263158, 0.7342105263157895, 0.7210526315789473, 0.7131578947368422, 0.6657894736842107, 0.8394736842105265, 0.594736842105263, 0.7078947368421055, 0.3526315789473683, 0.34210526315789486, 0.42368421052631605, 0.6947368421052632, 0.3526315789473683, 0.3000000000000001, 0.3526315789473683, 0.5473684210526315, 0.3526315789473683, 0.6078947368421053, 0.31052631578947404, 0.3315789473684209, 0.744736842105263, 0.6473684210526317, 0.5157894736842107, 0.2447368421052635, 0.1657894736842107, 0.5263157894736841, 0.21315789473684219, 0.34210526315789486, 0.43947368421052624, 0.25526315789473697, 0.44473684210526343, 0.27631578947368435, 0.5315789473684213, 0.21315789473684219, 0.4315789473684211, 0.2973684210526317, 0.16315789473684233, 0.16052631578947396, 0.27631578947368435, 0.27631578947368435, 0.25526315789473697, 0.43684210526315786, 0.3315789473684209, 0.15526315789473677, 0.3789473684210529, 0.2052631578947371, 0.3315789473684209, 0.3526315789473683, 0.3315789473684209, 0.27631578947368435, 0.4131578947368421, 0.34473684210526323, 0.20789473684210547, 0.38947368421052636, 0.3657894736842106, 0.3210526315789475, 0.44473684210526343, 0.31315789473684236, 0.15263157894736842, 0.11315789473684247, 0.39210526315789473, 0.1921052631578948, 0.10000000000000019, 0.27631578947368435, 0.0, 0.20789473684210547, 0.3657894736842106, 0.45789473684210524, 0.25526315789473697, 0.11052631578947364, 0.13947368421052658, 0.3657894736842106, 0.5315789473684213, 0.22105263157894728, 0.273684210526316, 0.368421052631579, 0.1999999999999999, 0.3526315789473683, 0.2657894736842104, 0.481578947368421, 0.4868421052631582, 0.4684210526315792, 0.43947368421052624, 0.38947368421052636, 0.4131578947368421, 0.3210526315789475, 0.3947368421052631, 0.6473684210526317, 0.47631578947368425, 0.5, 0.613157894736842, 0.6552631578947368, 0.6815789473684208, 0.3210526315789475, 0.5605263157894738, 0.7500000000000002, 0.48421052631578937, 0.6026315789473685, 0.5394736842105264, 0.65, 0.46315789473684194, 0.5473684210526315, 0.5789473684210528, 0.40789473684210537, 0.5631578947368422, 0.7394736842105263, 0.3736842105263157, 0.8710526315789473, 0.6447368421052633, 0.35, 0.7, 0.4789473684210526, 0.5078947368421055, 0.7236842105263157, 0.7105263157894738, 0.6368421052631578, 0.4710526315789475, 0.6710526315789475, 0.623684210526316, 0.30789473684210517, 0.45789473684210524, 0.8236842105263158, 0.7052631578947371, 0.623684210526316, 0.5894736842105263, 0.5631578947368422, 0.8157894736842107], \"z\": [0.5613409415121255, 0.550641940085592, 0.6469329529243937, 0.8573466476462197, 0.325962910128388, 0.8359486447931527, 0.7218259629101283, 0.7253922967189729, 0.5470756062767475, 0.5470756062767475, 0.8787446504992867, 0.7146932952924394, 0.7432239657631954, 0.6219686162624821, 0.9051355206847361, 0.7360912981455064, 0.7146932952924394, 0.6077032810271041, 1.0, 0.4044222539229672, 0.35805991440798857, 0.3509272467902996, 0.5399429386590585, 0.5256776034236804, 0.4044222539229672, 0.39372325249643364, 0.6540656205420827, 0.7182596291012838, 0.4543509272467903, 0.5399429386590585, 0.7182596291012838, 0.8823109843081313, 0.5078459343794579, 0.6825962910128388, 0.5827389443651926, 0.4579172610556348, 0.42938659058487877, 0.5898716119828816, 0.5292439372325249, 0.3437945791726106, 0.36875891583452214, 0.5399429386590585, 0.5827389443651926, 0.2867332382310984, 0.43295292439372324, 0.572039942938659, 0.5613409415121255, 0.5042796005706134, 0.557774607703281, 0.7004279600570613, 0.6219686162624821, 0.7039942938659058, 0.6504992867332382, 0.782453637660485, 0.557774607703281, 0.6005706134094151, 0.49358059914407987, 0.7075606276747504, 0.7182596291012838, 0.17261055634807418, 0.2867332382310984, 0.12268188302425106, 0.25106990014265335, 0.10128388017118402, 0.05492154065620542, 0.28530670470756064, 0.15977175463623394, 0.16547788873038516, 0.33666191155492153, 0.31383737517831667, 0.4222539229671897, 0.09415121255349501, 0.1383737517831669, 0.5042796005706134, 0.43366619115549215, 0.10699001426533523, 0.08131241084165478, 0.15834522111269614, 0.33666191155492153, 0.13195435092724678, 0.0, 0.31098430813124106, 0.25106990014265335, 0.16904422253922968, 0.17261055634807418, 0.12268188302425106, 0.15477888730385164, 0.20256776034236804, 0.2867332382310984, 0.24750356633380885, 0.14407988587731813, 0.12268188302425106, 0.15477888730385164, 0.008559201141226819, 0.04778887303851641, 0.47004279600570614, 0.24750356633380885, 0.10699001426533523, 0.2724679029957204, 0.0912981455064194, 0.30813124108416545, 0.20256776034236804, 0.11412268188302425, 0.09771754636233952, 0.2810271041369472, 0.026390870185449358, 0.16547788873038516, 0.14978601997146934, 0.024251069900142655, 0.2867332382310984, 0.20256776034236804, 0.033523537803138374, 0.2346647646219686, 0.11126961483594865, 0.07631954350927246, 0.0920114122681883, 0.15477888730385164, 0.04778887303851641, 0.06704707560627675, 0.20399429386590584, 0.24750356633380885, 0.13338088445078458, 0.062054208273894434, 0.07275320970042796, 0.07275320970042796, 0.07132667617689016, 0.052781740370898715, 0.1340941512125535, 0.0456490727532097, 0.21540656205420827, 0.25106990014265335, 0.1797432239657632, 0.20114122681883023, 0.2296718972895863, 0.2653352353780314, 0.29743223965763194, 0.3152639087018545, 0.16904422253922968, 0.21540656205420827, 0.2225392296718973, 0.2296718972895863, 0.35805991440798857, 0.17261055634807418, 0.19400855920114124, 0.4115549215406562, 0.39372325249643364, 0.09771754636233952, 0.24750356633380885, 0.2653352353780314, 0.19400855920114124, 0.15834522111269614, 0.14407988587731813, 0.10485021398002853, 0.2831669044222539, 0.2582025677603424, 0.318830242510699, 0.14407988587731813, 0.42938659058487877, 0.2724679029957204, 0.24393723252496433, 0.17261055634807418, 0.2867332382310984, 0.20827389443651925, 0.2831669044222539, 0.24037089871611983, 0.17261055634807418, 0.29743223965763194, 0.29029957203994294, 0.33666191155492153, 0.25106990014265335, 0.16547788873038516, 0.1369472182596291, 0.2724679029957204, 0.32952924393723254, 0.33666191155492153, 0.39728958630527816, 0.4008559201141227, 0.20114122681883023]}, {\"marker\": {\"color\": \"red\"}, \"mode\": \"markers\", \"text\": [\"0\", \"1\", \"2\"], \"type\": \"scatter3d\", \"x\": [0.3583143723928706, 0.14034795638058764, 0.5126017305504507, 0.1424914675767918, 0.9466723549488054, 0.17918088737201363, 0.11262798634812286, 0.17662116040955633, 0.057167235494880536, 0.1296928327645051, 0.10409556313993173, 0.4027303754266211, 0.13822525597269622, 0.05290102389078497], \"y\": [0.705311890838207, 0.3094351732991014, 0.5626855600539811, 0.34385964912280725, 0.7578947368421053, 0.744736842105263, 0.5315789473684213, 0.5157894736842107, 0.3526315789473683, 0.22105263157894728, 0.2052631578947371, 0.13947368421052658, 0.11315789473684247, 0.0], \"z\": [0.5923812542928093, 0.14867262795309832, 0.26176890156918686, 0.3735140275796482, 0.25820256776034234, 0.09415121255349501, 0.07275320970042796, 0.5042796005706134, 0.17261055634807418, 0.07275320970042796, 0.24750356633380885, 0.13338088445078458, 0.20256776034236804, 0.0920114122681883]}, {\"marker\": {\"color\": \"red\"}, \"mode\": \"markers\", \"text\": [\"0\", \"1\", \"2\"], \"type\": \"scatter3d\", \"x\": [0.3583143723928706, 0.14034795638058764, 0.5126017305504507, 0.1424914675767918, 0.9466723549488054, 0.17918088737201363, 0.11262798634812286, 0.17662116040955633, 0.057167235494880536, 0.1296928327645051, 0.10409556313993173, 0.4027303754266211, 0.13822525597269622, 0.05290102389078497], \"y\": [0.705311890838207, 0.3094351732991014, 0.5626855600539811, 0.34385964912280725, 0.7578947368421053, 0.744736842105263, 0.5315789473684213, 0.5157894736842107, 0.3526315789473683, 0.22105263157894728, 0.2052631578947371, 0.13947368421052658, 0.11315789473684247, 0.0], \"z\": [0.5923812542928093, 0.14867262795309832, 0.26176890156918686, 0.3735140275796482, 0.25820256776034234, 0.09415121255349501, 0.07275320970042796, 0.5042796005706134, 0.17261055634807418, 0.07275320970042796, 0.24750356633380885, 0.13338088445078458, 0.20256776034236804, 0.0920114122681883]}],\n",
       "                        {\"scene\": {\"xaxis\": {\"title\": {\"text\": \"Intensidade de Cor\"}}, \"yaxis\": {\"title\": {\"text\": \"\\u00c0lcool\"}}, \"zaxis\": {\"title\": {\"text\": \"Proline\"}}}, \"template\": {\"data\": {\"bar\": [{\"error_x\": {\"color\": \"#2a3f5f\"}, \"error_y\": {\"color\": \"#2a3f5f\"}, \"marker\": {\"line\": {\"color\": \"#E5ECF6\", \"width\": 0.5}}, \"type\": \"bar\"}], \"barpolar\": [{\"marker\": {\"line\": {\"color\": \"#E5ECF6\", \"width\": 0.5}}, \"type\": \"barpolar\"}], \"carpet\": [{\"aaxis\": {\"endlinecolor\": \"#2a3f5f\", \"gridcolor\": \"white\", \"linecolor\": \"white\", \"minorgridcolor\": \"white\", \"startlinecolor\": \"#2a3f5f\"}, \"baxis\": {\"endlinecolor\": \"#2a3f5f\", \"gridcolor\": \"white\", \"linecolor\": \"white\", \"minorgridcolor\": \"white\", \"startlinecolor\": \"#2a3f5f\"}, \"type\": \"carpet\"}], \"choropleth\": [{\"colorbar\": {\"outlinewidth\": 0, \"ticks\": \"\"}, \"type\": \"choropleth\"}], \"contour\": [{\"colorbar\": {\"outlinewidth\": 0, \"ticks\": \"\"}, \"colorscale\": [[0.0, \"#0d0887\"], [0.1111111111111111, \"#46039f\"], [0.2222222222222222, \"#7201a8\"], [0.3333333333333333, \"#9c179e\"], [0.4444444444444444, \"#bd3786\"], [0.5555555555555556, \"#d8576b\"], [0.6666666666666666, \"#ed7953\"], [0.7777777777777778, \"#fb9f3a\"], [0.8888888888888888, \"#fdca26\"], [1.0, \"#f0f921\"]], \"type\": \"contour\"}], \"contourcarpet\": [{\"colorbar\": {\"outlinewidth\": 0, \"ticks\": \"\"}, \"type\": \"contourcarpet\"}], \"heatmap\": [{\"colorbar\": {\"outlinewidth\": 0, \"ticks\": \"\"}, \"colorscale\": [[0.0, \"#0d0887\"], [0.1111111111111111, \"#46039f\"], [0.2222222222222222, \"#7201a8\"], [0.3333333333333333, \"#9c179e\"], [0.4444444444444444, \"#bd3786\"], [0.5555555555555556, \"#d8576b\"], [0.6666666666666666, \"#ed7953\"], [0.7777777777777778, \"#fb9f3a\"], [0.8888888888888888, \"#fdca26\"], [1.0, \"#f0f921\"]], \"type\": \"heatmap\"}], \"heatmapgl\": [{\"colorbar\": {\"outlinewidth\": 0, \"ticks\": \"\"}, \"colorscale\": [[0.0, \"#0d0887\"], [0.1111111111111111, \"#46039f\"], [0.2222222222222222, \"#7201a8\"], [0.3333333333333333, \"#9c179e\"], [0.4444444444444444, \"#bd3786\"], [0.5555555555555556, \"#d8576b\"], [0.6666666666666666, \"#ed7953\"], [0.7777777777777778, \"#fb9f3a\"], [0.8888888888888888, \"#fdca26\"], [1.0, \"#f0f921\"]], \"type\": \"heatmapgl\"}], \"histogram\": [{\"marker\": {\"colorbar\": {\"outlinewidth\": 0, \"ticks\": \"\"}}, \"type\": \"histogram\"}], \"histogram2d\": [{\"colorbar\": {\"outlinewidth\": 0, \"ticks\": \"\"}, \"colorscale\": [[0.0, \"#0d0887\"], [0.1111111111111111, \"#46039f\"], [0.2222222222222222, \"#7201a8\"], [0.3333333333333333, \"#9c179e\"], [0.4444444444444444, \"#bd3786\"], [0.5555555555555556, \"#d8576b\"], [0.6666666666666666, \"#ed7953\"], [0.7777777777777778, \"#fb9f3a\"], [0.8888888888888888, \"#fdca26\"], [1.0, \"#f0f921\"]], \"type\": \"histogram2d\"}], \"histogram2dcontour\": [{\"colorbar\": {\"outlinewidth\": 0, \"ticks\": \"\"}, \"colorscale\": [[0.0, \"#0d0887\"], [0.1111111111111111, \"#46039f\"], [0.2222222222222222, \"#7201a8\"], [0.3333333333333333, \"#9c179e\"], [0.4444444444444444, \"#bd3786\"], [0.5555555555555556, \"#d8576b\"], [0.6666666666666666, \"#ed7953\"], [0.7777777777777778, \"#fb9f3a\"], [0.8888888888888888, \"#fdca26\"], [1.0, \"#f0f921\"]], \"type\": \"histogram2dcontour\"}], \"mesh3d\": [{\"colorbar\": {\"outlinewidth\": 0, \"ticks\": \"\"}, \"type\": \"mesh3d\"}], \"parcoords\": [{\"line\": {\"colorbar\": {\"outlinewidth\": 0, \"ticks\": \"\"}}, \"type\": \"parcoords\"}], \"scatter\": [{\"marker\": {\"colorbar\": {\"outlinewidth\": 0, \"ticks\": \"\"}}, \"type\": \"scatter\"}], \"scatter3d\": [{\"line\": {\"colorbar\": {\"outlinewidth\": 0, \"ticks\": \"\"}}, \"marker\": {\"colorbar\": {\"outlinewidth\": 0, \"ticks\": \"\"}}, \"type\": \"scatter3d\"}], \"scattercarpet\": [{\"marker\": {\"colorbar\": {\"outlinewidth\": 0, \"ticks\": \"\"}}, \"type\": \"scattercarpet\"}], \"scattergeo\": [{\"marker\": {\"colorbar\": {\"outlinewidth\": 0, \"ticks\": \"\"}}, \"type\": \"scattergeo\"}], \"scattergl\": [{\"marker\": {\"colorbar\": {\"outlinewidth\": 0, \"ticks\": \"\"}}, \"type\": \"scattergl\"}], \"scattermapbox\": [{\"marker\": {\"colorbar\": {\"outlinewidth\": 0, \"ticks\": \"\"}}, \"type\": \"scattermapbox\"}], \"scatterpolar\": [{\"marker\": {\"colorbar\": {\"outlinewidth\": 0, \"ticks\": \"\"}}, \"type\": \"scatterpolar\"}], \"scatterpolargl\": [{\"marker\": {\"colorbar\": {\"outlinewidth\": 0, \"ticks\": \"\"}}, \"type\": \"scatterpolargl\"}], \"scatterternary\": [{\"marker\": {\"colorbar\": {\"outlinewidth\": 0, \"ticks\": \"\"}}, \"type\": \"scatterternary\"}], \"surface\": [{\"colorbar\": {\"outlinewidth\": 0, \"ticks\": \"\"}, \"colorscale\": [[0.0, \"#0d0887\"], [0.1111111111111111, \"#46039f\"], [0.2222222222222222, \"#7201a8\"], [0.3333333333333333, \"#9c179e\"], [0.4444444444444444, \"#bd3786\"], [0.5555555555555556, \"#d8576b\"], [0.6666666666666666, \"#ed7953\"], [0.7777777777777778, \"#fb9f3a\"], [0.8888888888888888, \"#fdca26\"], [1.0, \"#f0f921\"]], \"type\": \"surface\"}], \"table\": [{\"cells\": {\"fill\": {\"color\": \"#EBF0F8\"}, \"line\": {\"color\": \"white\"}}, \"header\": {\"fill\": {\"color\": \"#C8D4E3\"}, \"line\": {\"color\": \"white\"}}, \"type\": \"table\"}]}, \"layout\": {\"annotationdefaults\": {\"arrowcolor\": \"#2a3f5f\", \"arrowhead\": 0, \"arrowwidth\": 1}, \"colorscale\": {\"diverging\": [[0, \"#8e0152\"], [0.1, \"#c51b7d\"], [0.2, \"#de77ae\"], [0.3, \"#f1b6da\"], [0.4, \"#fde0ef\"], [0.5, \"#f7f7f7\"], [0.6, \"#e6f5d0\"], [0.7, \"#b8e186\"], [0.8, \"#7fbc41\"], [0.9, \"#4d9221\"], [1, \"#276419\"]], \"sequential\": [[0.0, \"#0d0887\"], [0.1111111111111111, \"#46039f\"], [0.2222222222222222, \"#7201a8\"], [0.3333333333333333, \"#9c179e\"], [0.4444444444444444, \"#bd3786\"], [0.5555555555555556, \"#d8576b\"], [0.6666666666666666, \"#ed7953\"], [0.7777777777777778, \"#fb9f3a\"], [0.8888888888888888, \"#fdca26\"], [1.0, \"#f0f921\"]], \"sequentialminus\": [[0.0, \"#0d0887\"], [0.1111111111111111, \"#46039f\"], [0.2222222222222222, \"#7201a8\"], [0.3333333333333333, \"#9c179e\"], [0.4444444444444444, \"#bd3786\"], [0.5555555555555556, \"#d8576b\"], [0.6666666666666666, \"#ed7953\"], [0.7777777777777778, \"#fb9f3a\"], [0.8888888888888888, \"#fdca26\"], [1.0, \"#f0f921\"]]}, \"colorway\": [\"#636efa\", \"#EF553B\", \"#00cc96\", \"#ab63fa\", \"#FFA15A\", \"#19d3f3\", \"#FF6692\", \"#B6E880\", \"#FF97FF\", \"#FECB52\"], \"font\": {\"color\": \"#2a3f5f\"}, \"geo\": {\"bgcolor\": \"white\", \"lakecolor\": \"white\", \"landcolor\": \"#E5ECF6\", \"showlakes\": true, \"showland\": true, \"subunitcolor\": \"white\"}, \"hoverlabel\": {\"align\": \"left\"}, \"hovermode\": \"closest\", \"mapbox\": {\"style\": \"light\"}, \"paper_bgcolor\": \"white\", \"plot_bgcolor\": \"#E5ECF6\", \"polar\": {\"angularaxis\": {\"gridcolor\": \"white\", \"linecolor\": \"white\", \"ticks\": \"\"}, \"bgcolor\": \"#E5ECF6\", \"radialaxis\": {\"gridcolor\": \"white\", \"linecolor\": \"white\", \"ticks\": \"\"}}, \"scene\": {\"xaxis\": {\"backgroundcolor\": \"#E5ECF6\", \"gridcolor\": \"white\", \"gridwidth\": 2, \"linecolor\": \"white\", \"showbackground\": true, \"ticks\": \"\", \"zerolinecolor\": \"white\"}, \"yaxis\": {\"backgroundcolor\": \"#E5ECF6\", \"gridcolor\": \"white\", \"gridwidth\": 2, \"linecolor\": \"white\", \"showbackground\": true, \"ticks\": \"\", \"zerolinecolor\": \"white\"}, \"zaxis\": {\"backgroundcolor\": \"#E5ECF6\", \"gridcolor\": \"white\", \"gridwidth\": 2, \"linecolor\": \"white\", \"showbackground\": true, \"ticks\": \"\", \"zerolinecolor\": \"white\"}}, \"shapedefaults\": {\"line\": {\"color\": \"#2a3f5f\"}}, \"ternary\": {\"aaxis\": {\"gridcolor\": \"white\", \"linecolor\": \"white\", \"ticks\": \"\"}, \"baxis\": {\"gridcolor\": \"white\", \"linecolor\": \"white\", \"ticks\": \"\"}, \"bgcolor\": \"#E5ECF6\", \"caxis\": {\"gridcolor\": \"white\", \"linecolor\": \"white\", \"ticks\": \"\"}}, \"title\": {\"x\": 0.05}, \"xaxis\": {\"automargin\": true, \"gridcolor\": \"white\", \"linecolor\": \"white\", \"ticks\": \"\", \"zerolinecolor\": \"white\", \"zerolinewidth\": 2}, \"yaxis\": {\"automargin\": true, \"gridcolor\": \"white\", \"linecolor\": \"white\", \"ticks\": \"\", \"zerolinecolor\": \"white\", \"zerolinewidth\": 2}}}},\n",
       "                        {\"responsive\": true}\n",
       "                    ).then(function(){\n",
       "                            \n",
       "var gd = document.getElementById('0c7d32f8-012e-4df1-b920-328ee1fd1034');\n",
       "var x = new MutationObserver(function (mutations, observer) {{\n",
       "        var display = window.getComputedStyle(gd).display;\n",
       "        if (!display || display === 'none') {{\n",
       "            console.log([gd, 'removed!']);\n",
       "            Plotly.purge(gd);\n",
       "            observer.disconnect();\n",
       "        }}\n",
       "}});\n",
       "\n",
       "// Listen for the removal of the full notebook cells\n",
       "var notebookContainer = gd.closest('#notebook-container');\n",
       "if (notebookContainer) {{\n",
       "    x.observe(notebookContainer, {childList: true});\n",
       "}}\n",
       "\n",
       "// Listen for the clearing of the current output cell\n",
       "var outputEl = gd.closest('.output');\n",
       "if (outputEl) {{\n",
       "    x.observe(outputEl, {childList: true});\n",
       "}}\n",
       "\n",
       "                        })\n",
       "                };\n",
       "                });\n",
       "            </script>\n",
       "        </div>"
      ]
     },
     "metadata": {},
     "output_type": "display_data"
    }
   ],
   "source": [
    "fig.add_trace(go.Scatter3d(x=centros['Intensidade_de_cor'],\n",
    "                         y=centros['Alcool'], z=centros['Proline'],\n",
    "                         mode = 'markers',                  \n",
    "                          marker = dict(color = 'red'),\n",
    "                        text = [0, 1, 2]))"
   ]
  },
  {
   "cell_type": "code",
   "execution_count": 113,
   "id": "a86b4121",
   "metadata": {},
   "outputs": [
    {
     "name": "stderr",
     "output_type": "stream",
     "text": [
      "C:\\Users\\Renato\\anaconda3\\lib\\site-packages\\sklearn\\cluster\\_kmeans.py:1332: UserWarning:\n",
      "\n",
      "KMeans is known to have a memory leak on Windows with MKL, when there are less chunks than available threads. You can avoid it by setting the environment variable OMP_NUM_THREADS=1.\n",
      "\n"
     ]
    },
    {
     "data": {
      "text/plain": [
       "array([2, 2, 2, 2, 2, 2, 2, 2, 2, 2, 2, 2, 2, 2, 2, 2, 2, 2, 2, 2, 2, 2,\n",
       "       2, 2, 2, 2, 2, 2, 2, 2, 2, 2, 2, 2, 2, 2, 2, 2, 2, 2, 2, 2, 2, 2,\n",
       "       2, 2, 2, 2, 2, 2, 2, 2, 2, 2, 2, 2, 2, 2, 2, 3, 4, 4, 3, 0, 4, 0,\n",
       "       0, 3, 4, 3, 4, 0, 3, 0, 0, 3, 3, 4, 3, 0, 3, 3, 4, 4, 0, 3, 4, 4,\n",
       "       4, 3, 4, 4, 4, 3, 0, 0, 3, 3, 0, 0, 3, 3, 3, 3, 3, 4, 3, 4, 3, 0,\n",
       "       0, 3, 4, 4, 3, 4, 3, 3, 4, 3, 0, 0, 4, 0, 0, 3, 0, 4, 3, 4, 1, 1,\n",
       "       1, 1, 1, 1, 1, 1, 1, 1, 1, 1, 1, 1, 1, 1, 1, 1, 1, 1, 1, 1, 1, 1,\n",
       "       1, 1, 1, 1, 1, 1, 1, 1, 1, 1, 1, 1, 1, 1, 1, 1, 1, 1, 1, 1, 1, 1,\n",
       "       1, 1])"
      ]
     },
     "execution_count": 113,
     "metadata": {},
     "output_type": "execute_result"
    }
   ],
   "source": [
    "agrupador  =KMeans(n_clusters= 5)\n",
    "agrupador.fit(df)\n",
    "labels = agrupador.labels_\n",
    "labels"
   ]
  },
  {
   "cell_type": "code",
   "execution_count": 117,
   "id": "d3964c2d",
   "metadata": {},
   "outputs": [
    {
     "name": "stderr",
     "output_type": "stream",
     "text": [
      "C:\\Users\\Renato\\AppData\\Local\\Temp/ipykernel_9608/4242361468.py:6: DeprecationWarning:\n",
      "\n",
      "`np.float` is a deprecated alias for the builtin `float`. To silence this warning, use `float` by itself. Doing this will not modify any behavior and is safe. If you specifically wanted the numpy scalar type, use `np.float64` here.\n",
      "Deprecated in NumPy 1.20; for more details and guidance: https://numpy.org/devdocs/release/1.20.0-notes.html#deprecations\n",
      "\n"
     ]
    },
    {
     "data": {
      "application/vnd.plotly.v1+json": {
       "config": {
        "plotlyServerURL": "https://plot.ly"
       },
       "data": [
        {
         "marker": {
          "color": [
           2,
           2,
           2,
           2,
           2,
           2,
           2,
           2,
           2,
           2,
           2,
           2,
           2,
           2,
           2,
           2,
           2,
           2,
           2,
           2,
           2,
           2,
           2,
           2,
           2,
           2,
           2,
           2,
           2,
           2,
           2,
           2,
           2,
           2,
           2,
           2,
           2,
           2,
           2,
           2,
           2,
           2,
           2,
           2,
           2,
           2,
           2,
           2,
           2,
           2,
           2,
           2,
           2,
           2,
           2,
           2,
           2,
           2,
           2,
           3,
           4,
           4,
           3,
           0,
           4,
           0,
           0,
           3,
           4,
           3,
           4,
           0,
           3,
           0,
           0,
           3,
           3,
           4,
           3,
           0,
           3,
           3,
           4,
           4,
           0,
           3,
           4,
           4,
           4,
           3,
           4,
           4,
           4,
           3,
           0,
           0,
           3,
           3,
           0,
           0,
           3,
           3,
           3,
           3,
           3,
           4,
           3,
           4,
           3,
           0,
           0,
           3,
           4,
           4,
           3,
           4,
           3,
           3,
           4,
           3,
           0,
           0,
           4,
           0,
           0,
           3,
           0,
           4,
           3,
           4,
           1,
           1,
           1,
           1,
           1,
           1,
           1,
           1,
           1,
           1,
           1,
           1,
           1,
           1,
           1,
           1,
           1,
           1,
           1,
           1,
           1,
           1,
           1,
           1,
           1,
           1,
           1,
           1,
           1,
           1,
           1,
           1,
           1,
           1,
           1,
           1,
           1,
           1,
           1,
           1,
           1,
           1,
           1,
           1,
           1,
           1,
           1,
           1
          ]
         },
         "mode": "markers",
         "text": [
          2,
          2,
          2,
          2,
          2,
          2,
          2,
          2,
          2,
          2,
          2,
          2,
          2,
          2,
          2,
          2,
          2,
          2,
          2,
          2,
          2,
          2,
          2,
          2,
          2,
          2,
          2,
          2,
          2,
          2,
          2,
          2,
          2,
          2,
          2,
          2,
          2,
          2,
          2,
          2,
          2,
          2,
          2,
          2,
          2,
          2,
          2,
          2,
          2,
          2,
          2,
          2,
          2,
          2,
          2,
          2,
          2,
          2,
          2,
          3,
          4,
          4,
          3,
          0,
          4,
          0,
          0,
          3,
          4,
          3,
          4,
          0,
          3,
          0,
          0,
          3,
          3,
          4,
          3,
          0,
          3,
          3,
          4,
          4,
          0,
          3,
          4,
          4,
          4,
          3,
          4,
          4,
          4,
          3,
          0,
          0,
          3,
          3,
          0,
          0,
          3,
          3,
          3,
          3,
          3,
          4,
          3,
          4,
          3,
          0,
          0,
          3,
          4,
          4,
          3,
          4,
          3,
          3,
          4,
          3,
          0,
          0,
          4,
          0,
          0,
          3,
          0,
          4,
          3,
          4,
          1,
          1,
          1,
          1,
          1,
          1,
          1,
          1,
          1,
          1,
          1,
          1,
          1,
          1,
          1,
          1,
          1,
          1,
          1,
          1,
          1,
          1,
          1,
          1,
          1,
          1,
          1,
          1,
          1,
          1,
          1,
          1,
          1,
          1,
          1,
          1,
          1,
          1,
          1,
          1,
          1,
          1,
          1,
          1,
          1,
          1,
          1,
          1
         ],
         "type": "scatter3d",
         "x": [
          0.37201365187713303,
          0.26450511945392485,
          0.3754266211604095,
          0.5563139931740614,
          0.2593856655290102,
          0.46672354948805456,
          0.3387372013651877,
          0.3216723549488054,
          0.33447098976109213,
          0.5068259385665528,
          0.3813993174061433,
          0.31740614334470985,
          0.3686006825938566,
          0.3515358361774744,
          0.530716723549488,
          0.5136518771331058,
          0.4197952218430034,
          0.45392491467576784,
          0.6331058020477814,
          0.32593856655290093,
          0.3728668941979522,
          0.27474402730375425,
          0.21501706484641633,
          0.22610921501706485,
          0.19112627986348124,
          0.19624573378839588,
          0.3003412969283276,
          0.22781569965870305,
          0.27474402730375425,
          0.2918088737201365,
          0.37713310580204773,
          0.47952218430034127,
          0.21843003412969278,
          0.3515358361774744,
          0.24914675767918087,
          0.32593856655290093,
          0.28327645051194533,
          0.2534129692832764,
          0.20648464163822525,
          0.32593856655290093,
          0.41382252559726956,
          0.25597269624573377,
          0.3540955631399317,
          0.26279863481228666,
          0.3208191126279863,
          0.3378839590443686,
          0.30887372013651876,
          0.4112627986348122,
          0.4197952218430034,
          0.6501706484641638,
          0.5051194539249146,
          0.3686006825938566,
          0.4923208191126279,
          0.42832764505119447,
          0.3899317406143344,
          0.42406143344709896,
          0.43515358361774736,
          0.4027303754266211,
          0.4709897610921501,
          0.057167235494880536,
          0.1697952218430034,
          0.3813993174061433,
          0.21501706484641633,
          0.2704778156996587,
          0.14249146757679182,
          0.28327645051194533,
          0.3430034129692832,
          0.2901023890784982,
          0.16126279863481227,
          0.13395904436860068,
          0.1510238907849829,
          0.17918088737201363,
          0.2098976109215017,
          0.17662116040955633,
          0.16467576791808872,
          0.21501706484641633,
          0.28327645051194533,
          0.11689419795221842,
          0.18088737201365188,
          0.1100682593856655,
          0.10409556313993173,
          0.2235494880546075,
          0.07849829351535836,
          0.3003412969283276,
          0.1510238907849829,
          0.11433447098976109,
          0.09982935153583619,
          0.11262798634812286,
          0.1296928327645051,
          0.039249146757679175,
          0.09556313993174059,
          0.19795221843003413,
          0.1510238907849829,
          0.07423208191126278,
          0.16808873720136516,
          0.11262798634812286,
          0.10409556313993173,
          0.13822525597269622,
          0.27474402730375425,
          0.08703071672354946,
          0.1723549488054607,
          0.09982935153583619,
          0.1296928327645051,
          0.06655290102389079,
          0.1416382252559727,
          0.121160409556314,
          0.18088737201365188,
          0.1723549488054607,
          0.121160409556314,
          0.11689419795221842,
          0.13822525597269622,
          0.0614334470989761,
          0.21501706484641633,
          0.15358361774744028,
          0.13822525597269622,
          0.05290102389078497,
          0.057167235494880536,
          0.06655290102389079,
          0.18088737201365188,
          0,
          0.16808873720136516,
          0.4027303754266211,
          0.06825938566552901,
          0.11262798634812286,
          0.1296928327645051,
          0.12627986348122863,
          0.22696245733788395,
          0.14675767918088736,
          0.07167235494880546,
          0.11262798634812286,
          0.2406143344709897,
          0.3515358361774744,
          0.37713310580204773,
          0.31740614334470985,
          0.35580204778156993,
          0.49658703071672344,
          0.21928327645051196,
          0.31740614334470985,
          0.37713310580204773,
          0.31058020477815695,
          0.28327645051194533,
          0.3686006825938566,
          0.26194539249146753,
          0.26621160409556316,
          0.591296928327645,
          0.2320819112627986,
          0.30887372013651876,
          0.5435153583617747,
          0.6092150170648464,
          0.6928327645051195,
          0.6245733788395904,
          0.8122866894197953,
          0.49658703071672344,
          0.78839590443686,
          0.5392491467576791,
          0.5648464163822525,
          0.6595563139931739,
          0.530716723549488,
          1,
          0.893344709897611,
          0.5435153583617747,
          0.39249146757679176,
          0.3668941979522184,
          0.341296928327645,
          0.7081911262798635,
          0.4556313993174061,
          0.8020477815699658,
          0.7662116040955631,
          0.629692832764505,
          0.6160409556313993,
          0.3600682593856655,
          0.7354947952218429,
          0.7184300341296928,
          0.5477815699658702,
          0.5136518771331058,
          0.7610921501706485,
          0.6843003412969284,
          0.675767918088737
         ],
         "y": [
          0.8421052631578949,
          0.5710526315789473,
          0.5605263157894738,
          0.8789473684210525,
          0.5815789473684212,
          0.8342105263157893,
          0.8842105263157897,
          0.7973684210526317,
          1,
          0.744736842105263,
          0.8078947368421052,
          0.813157894736842,
          0.7157894736842105,
          0.9789473684210526,
          0.8815789473684212,
          0.6842105263157897,
          0.8605263157894739,
          0.736842105263158,
          0.831578947368421,
          0.686842105263158,
          0.7973684210526317,
          0.5,
          0.7052631578947371,
          0.4789473684210526,
          0.65,
          0.5315789473684213,
          0.6210526315789475,
          0.5973684210526318,
          0.7473684210526313,
          0.7868421052631578,
          0.7105263157894738,
          0.6710526315789475,
          0.6973684210526315,
          0.718421052631579,
          0.6526315789473685,
          0.6447368421052633,
          0.5921052631578946,
          0.5315789473684213,
          0.536842105263158,
          0.8394736842105265,
          0.6657894736842107,
          0.6263157894736843,
          0.7500000000000002,
          0.5815789473684212,
          0.5315789473684213,
          0.8368421052631582,
          0.8815789473684212,
          0.755263157894737,
          0.8078947368421052,
          0.7657894736842105,
          0.5315789473684213,
          0.736842105263158,
          0.7342105263157895,
          0.7210526315789473,
          0.7131578947368422,
          0.6657894736842107,
          0.8394736842105265,
          0.594736842105263,
          0.7078947368421055,
          0.3526315789473683,
          0.34210526315789486,
          0.42368421052631605,
          0.6947368421052632,
          0.3526315789473683,
          0.3000000000000001,
          0.3526315789473683,
          0.5473684210526315,
          0.3526315789473683,
          0.6078947368421053,
          0.31052631578947404,
          0.3315789473684209,
          0.744736842105263,
          0.6473684210526317,
          0.5157894736842107,
          0.2447368421052635,
          0.1657894736842107,
          0.5263157894736841,
          0.21315789473684219,
          0.34210526315789486,
          0.43947368421052624,
          0.25526315789473697,
          0.44473684210526343,
          0.27631578947368435,
          0.5315789473684213,
          0.21315789473684219,
          0.4315789473684211,
          0.2973684210526317,
          0.16315789473684233,
          0.16052631578947396,
          0.27631578947368435,
          0.27631578947368435,
          0.25526315789473697,
          0.43684210526315786,
          0.3315789473684209,
          0.15526315789473677,
          0.3789473684210529,
          0.2052631578947371,
          0.3315789473684209,
          0.3526315789473683,
          0.3315789473684209,
          0.27631578947368435,
          0.4131578947368421,
          0.34473684210526323,
          0.20789473684210547,
          0.38947368421052636,
          0.3657894736842106,
          0.3210526315789475,
          0.44473684210526343,
          0.31315789473684236,
          0.15263157894736842,
          0.11315789473684247,
          0.39210526315789473,
          0.1921052631578948,
          0.10000000000000019,
          0.27631578947368435,
          0,
          0.20789473684210547,
          0.3657894736842106,
          0.45789473684210524,
          0.25526315789473697,
          0.11052631578947364,
          0.13947368421052658,
          0.3657894736842106,
          0.5315789473684213,
          0.22105263157894728,
          0.273684210526316,
          0.368421052631579,
          0.1999999999999999,
          0.3526315789473683,
          0.2657894736842104,
          0.481578947368421,
          0.4868421052631582,
          0.4684210526315792,
          0.43947368421052624,
          0.38947368421052636,
          0.4131578947368421,
          0.3210526315789475,
          0.3947368421052631,
          0.6473684210526317,
          0.47631578947368425,
          0.5,
          0.613157894736842,
          0.6552631578947368,
          0.6815789473684208,
          0.3210526315789475,
          0.5605263157894738,
          0.7500000000000002,
          0.48421052631578937,
          0.6026315789473685,
          0.5394736842105264,
          0.65,
          0.46315789473684194,
          0.5473684210526315,
          0.5789473684210528,
          0.40789473684210537,
          0.5631578947368422,
          0.7394736842105263,
          0.3736842105263157,
          0.8710526315789473,
          0.6447368421052633,
          0.35,
          0.7,
          0.4789473684210526,
          0.5078947368421055,
          0.7236842105263157,
          0.7105263157894738,
          0.6368421052631578,
          0.4710526315789475,
          0.6710526315789475,
          0.623684210526316,
          0.30789473684210517,
          0.45789473684210524,
          0.8236842105263158,
          0.7052631578947371,
          0.623684210526316,
          0.5894736842105263,
          0.5631578947368422,
          0.8157894736842107
         ],
         "z": [
          0.5613409415121255,
          0.550641940085592,
          0.6469329529243937,
          0.8573466476462197,
          0.325962910128388,
          0.8359486447931527,
          0.7218259629101283,
          0.7253922967189729,
          0.5470756062767475,
          0.5470756062767475,
          0.8787446504992867,
          0.7146932952924394,
          0.7432239657631954,
          0.6219686162624821,
          0.9051355206847361,
          0.7360912981455064,
          0.7146932952924394,
          0.6077032810271041,
          1,
          0.4044222539229672,
          0.35805991440798857,
          0.3509272467902996,
          0.5399429386590585,
          0.5256776034236804,
          0.4044222539229672,
          0.39372325249643364,
          0.6540656205420827,
          0.7182596291012838,
          0.4543509272467903,
          0.5399429386590585,
          0.7182596291012838,
          0.8823109843081313,
          0.5078459343794579,
          0.6825962910128388,
          0.5827389443651926,
          0.4579172610556348,
          0.42938659058487877,
          0.5898716119828816,
          0.5292439372325249,
          0.3437945791726106,
          0.36875891583452214,
          0.5399429386590585,
          0.5827389443651926,
          0.2867332382310984,
          0.43295292439372324,
          0.572039942938659,
          0.5613409415121255,
          0.5042796005706134,
          0.557774607703281,
          0.7004279600570613,
          0.6219686162624821,
          0.7039942938659058,
          0.6504992867332382,
          0.782453637660485,
          0.557774607703281,
          0.6005706134094151,
          0.49358059914407987,
          0.7075606276747504,
          0.7182596291012838,
          0.17261055634807418,
          0.2867332382310984,
          0.12268188302425106,
          0.25106990014265335,
          0.10128388017118402,
          0.05492154065620542,
          0.28530670470756064,
          0.15977175463623394,
          0.16547788873038516,
          0.33666191155492153,
          0.31383737517831667,
          0.4222539229671897,
          0.09415121255349501,
          0.1383737517831669,
          0.5042796005706134,
          0.43366619115549215,
          0.10699001426533523,
          0.08131241084165478,
          0.15834522111269614,
          0.33666191155492153,
          0.13195435092724678,
          0,
          0.31098430813124106,
          0.25106990014265335,
          0.16904422253922968,
          0.17261055634807418,
          0.12268188302425106,
          0.15477888730385164,
          0.20256776034236804,
          0.2867332382310984,
          0.24750356633380885,
          0.14407988587731813,
          0.12268188302425106,
          0.15477888730385164,
          0.008559201141226819,
          0.04778887303851641,
          0.47004279600570614,
          0.24750356633380885,
          0.10699001426533523,
          0.2724679029957204,
          0.0912981455064194,
          0.30813124108416545,
          0.20256776034236804,
          0.11412268188302425,
          0.09771754636233952,
          0.2810271041369472,
          0.026390870185449358,
          0.16547788873038516,
          0.14978601997146934,
          0.024251069900142655,
          0.2867332382310984,
          0.20256776034236804,
          0.033523537803138374,
          0.2346647646219686,
          0.11126961483594865,
          0.07631954350927246,
          0.0920114122681883,
          0.15477888730385164,
          0.04778887303851641,
          0.06704707560627675,
          0.20399429386590584,
          0.24750356633380885,
          0.13338088445078458,
          0.062054208273894434,
          0.07275320970042796,
          0.07275320970042796,
          0.07132667617689016,
          0.052781740370898715,
          0.1340941512125535,
          0.0456490727532097,
          0.21540656205420827,
          0.25106990014265335,
          0.1797432239657632,
          0.20114122681883023,
          0.2296718972895863,
          0.2653352353780314,
          0.29743223965763194,
          0.3152639087018545,
          0.16904422253922968,
          0.21540656205420827,
          0.2225392296718973,
          0.2296718972895863,
          0.35805991440798857,
          0.17261055634807418,
          0.19400855920114124,
          0.4115549215406562,
          0.39372325249643364,
          0.09771754636233952,
          0.24750356633380885,
          0.2653352353780314,
          0.19400855920114124,
          0.15834522111269614,
          0.14407988587731813,
          0.10485021398002853,
          0.2831669044222539,
          0.2582025677603424,
          0.318830242510699,
          0.14407988587731813,
          0.42938659058487877,
          0.2724679029957204,
          0.24393723252496433,
          0.17261055634807418,
          0.2867332382310984,
          0.20827389443651925,
          0.2831669044222539,
          0.24037089871611983,
          0.17261055634807418,
          0.29743223965763194,
          0.29029957203994294,
          0.33666191155492153,
          0.25106990014265335,
          0.16547788873038516,
          0.1369472182596291,
          0.2724679029957204,
          0.32952924393723254,
          0.33666191155492153,
          0.39728958630527816,
          0.4008559201141227,
          0.20114122681883023
         ]
        }
       ],
       "layout": {
        "template": {
         "data": {
          "bar": [
           {
            "error_x": {
             "color": "#2a3f5f"
            },
            "error_y": {
             "color": "#2a3f5f"
            },
            "marker": {
             "line": {
              "color": "#E5ECF6",
              "width": 0.5
             }
            },
            "type": "bar"
           }
          ],
          "barpolar": [
           {
            "marker": {
             "line": {
              "color": "#E5ECF6",
              "width": 0.5
             }
            },
            "type": "barpolar"
           }
          ],
          "carpet": [
           {
            "aaxis": {
             "endlinecolor": "#2a3f5f",
             "gridcolor": "white",
             "linecolor": "white",
             "minorgridcolor": "white",
             "startlinecolor": "#2a3f5f"
            },
            "baxis": {
             "endlinecolor": "#2a3f5f",
             "gridcolor": "white",
             "linecolor": "white",
             "minorgridcolor": "white",
             "startlinecolor": "#2a3f5f"
            },
            "type": "carpet"
           }
          ],
          "choropleth": [
           {
            "colorbar": {
             "outlinewidth": 0,
             "ticks": ""
            },
            "type": "choropleth"
           }
          ],
          "contour": [
           {
            "colorbar": {
             "outlinewidth": 0,
             "ticks": ""
            },
            "colorscale": [
             [
              0,
              "#0d0887"
             ],
             [
              0.1111111111111111,
              "#46039f"
             ],
             [
              0.2222222222222222,
              "#7201a8"
             ],
             [
              0.3333333333333333,
              "#9c179e"
             ],
             [
              0.4444444444444444,
              "#bd3786"
             ],
             [
              0.5555555555555556,
              "#d8576b"
             ],
             [
              0.6666666666666666,
              "#ed7953"
             ],
             [
              0.7777777777777778,
              "#fb9f3a"
             ],
             [
              0.8888888888888888,
              "#fdca26"
             ],
             [
              1,
              "#f0f921"
             ]
            ],
            "type": "contour"
           }
          ],
          "contourcarpet": [
           {
            "colorbar": {
             "outlinewidth": 0,
             "ticks": ""
            },
            "type": "contourcarpet"
           }
          ],
          "heatmap": [
           {
            "colorbar": {
             "outlinewidth": 0,
             "ticks": ""
            },
            "colorscale": [
             [
              0,
              "#0d0887"
             ],
             [
              0.1111111111111111,
              "#46039f"
             ],
             [
              0.2222222222222222,
              "#7201a8"
             ],
             [
              0.3333333333333333,
              "#9c179e"
             ],
             [
              0.4444444444444444,
              "#bd3786"
             ],
             [
              0.5555555555555556,
              "#d8576b"
             ],
             [
              0.6666666666666666,
              "#ed7953"
             ],
             [
              0.7777777777777778,
              "#fb9f3a"
             ],
             [
              0.8888888888888888,
              "#fdca26"
             ],
             [
              1,
              "#f0f921"
             ]
            ],
            "type": "heatmap"
           }
          ],
          "heatmapgl": [
           {
            "colorbar": {
             "outlinewidth": 0,
             "ticks": ""
            },
            "colorscale": [
             [
              0,
              "#0d0887"
             ],
             [
              0.1111111111111111,
              "#46039f"
             ],
             [
              0.2222222222222222,
              "#7201a8"
             ],
             [
              0.3333333333333333,
              "#9c179e"
             ],
             [
              0.4444444444444444,
              "#bd3786"
             ],
             [
              0.5555555555555556,
              "#d8576b"
             ],
             [
              0.6666666666666666,
              "#ed7953"
             ],
             [
              0.7777777777777778,
              "#fb9f3a"
             ],
             [
              0.8888888888888888,
              "#fdca26"
             ],
             [
              1,
              "#f0f921"
             ]
            ],
            "type": "heatmapgl"
           }
          ],
          "histogram": [
           {
            "marker": {
             "colorbar": {
              "outlinewidth": 0,
              "ticks": ""
             }
            },
            "type": "histogram"
           }
          ],
          "histogram2d": [
           {
            "colorbar": {
             "outlinewidth": 0,
             "ticks": ""
            },
            "colorscale": [
             [
              0,
              "#0d0887"
             ],
             [
              0.1111111111111111,
              "#46039f"
             ],
             [
              0.2222222222222222,
              "#7201a8"
             ],
             [
              0.3333333333333333,
              "#9c179e"
             ],
             [
              0.4444444444444444,
              "#bd3786"
             ],
             [
              0.5555555555555556,
              "#d8576b"
             ],
             [
              0.6666666666666666,
              "#ed7953"
             ],
             [
              0.7777777777777778,
              "#fb9f3a"
             ],
             [
              0.8888888888888888,
              "#fdca26"
             ],
             [
              1,
              "#f0f921"
             ]
            ],
            "type": "histogram2d"
           }
          ],
          "histogram2dcontour": [
           {
            "colorbar": {
             "outlinewidth": 0,
             "ticks": ""
            },
            "colorscale": [
             [
              0,
              "#0d0887"
             ],
             [
              0.1111111111111111,
              "#46039f"
             ],
             [
              0.2222222222222222,
              "#7201a8"
             ],
             [
              0.3333333333333333,
              "#9c179e"
             ],
             [
              0.4444444444444444,
              "#bd3786"
             ],
             [
              0.5555555555555556,
              "#d8576b"
             ],
             [
              0.6666666666666666,
              "#ed7953"
             ],
             [
              0.7777777777777778,
              "#fb9f3a"
             ],
             [
              0.8888888888888888,
              "#fdca26"
             ],
             [
              1,
              "#f0f921"
             ]
            ],
            "type": "histogram2dcontour"
           }
          ],
          "mesh3d": [
           {
            "colorbar": {
             "outlinewidth": 0,
             "ticks": ""
            },
            "type": "mesh3d"
           }
          ],
          "parcoords": [
           {
            "line": {
             "colorbar": {
              "outlinewidth": 0,
              "ticks": ""
             }
            },
            "type": "parcoords"
           }
          ],
          "scatter": [
           {
            "marker": {
             "colorbar": {
              "outlinewidth": 0,
              "ticks": ""
             }
            },
            "type": "scatter"
           }
          ],
          "scatter3d": [
           {
            "line": {
             "colorbar": {
              "outlinewidth": 0,
              "ticks": ""
             }
            },
            "marker": {
             "colorbar": {
              "outlinewidth": 0,
              "ticks": ""
             }
            },
            "type": "scatter3d"
           }
          ],
          "scattercarpet": [
           {
            "marker": {
             "colorbar": {
              "outlinewidth": 0,
              "ticks": ""
             }
            },
            "type": "scattercarpet"
           }
          ],
          "scattergeo": [
           {
            "marker": {
             "colorbar": {
              "outlinewidth": 0,
              "ticks": ""
             }
            },
            "type": "scattergeo"
           }
          ],
          "scattergl": [
           {
            "marker": {
             "colorbar": {
              "outlinewidth": 0,
              "ticks": ""
             }
            },
            "type": "scattergl"
           }
          ],
          "scattermapbox": [
           {
            "marker": {
             "colorbar": {
              "outlinewidth": 0,
              "ticks": ""
             }
            },
            "type": "scattermapbox"
           }
          ],
          "scatterpolar": [
           {
            "marker": {
             "colorbar": {
              "outlinewidth": 0,
              "ticks": ""
             }
            },
            "type": "scatterpolar"
           }
          ],
          "scatterpolargl": [
           {
            "marker": {
             "colorbar": {
              "outlinewidth": 0,
              "ticks": ""
             }
            },
            "type": "scatterpolargl"
           }
          ],
          "scatterternary": [
           {
            "marker": {
             "colorbar": {
              "outlinewidth": 0,
              "ticks": ""
             }
            },
            "type": "scatterternary"
           }
          ],
          "surface": [
           {
            "colorbar": {
             "outlinewidth": 0,
             "ticks": ""
            },
            "colorscale": [
             [
              0,
              "#0d0887"
             ],
             [
              0.1111111111111111,
              "#46039f"
             ],
             [
              0.2222222222222222,
              "#7201a8"
             ],
             [
              0.3333333333333333,
              "#9c179e"
             ],
             [
              0.4444444444444444,
              "#bd3786"
             ],
             [
              0.5555555555555556,
              "#d8576b"
             ],
             [
              0.6666666666666666,
              "#ed7953"
             ],
             [
              0.7777777777777778,
              "#fb9f3a"
             ],
             [
              0.8888888888888888,
              "#fdca26"
             ],
             [
              1,
              "#f0f921"
             ]
            ],
            "type": "surface"
           }
          ],
          "table": [
           {
            "cells": {
             "fill": {
              "color": "#EBF0F8"
             },
             "line": {
              "color": "white"
             }
            },
            "header": {
             "fill": {
              "color": "#C8D4E3"
             },
             "line": {
              "color": "white"
             }
            },
            "type": "table"
           }
          ]
         },
         "layout": {
          "annotationdefaults": {
           "arrowcolor": "#2a3f5f",
           "arrowhead": 0,
           "arrowwidth": 1
          },
          "colorscale": {
           "diverging": [
            [
             0,
             "#8e0152"
            ],
            [
             0.1,
             "#c51b7d"
            ],
            [
             0.2,
             "#de77ae"
            ],
            [
             0.3,
             "#f1b6da"
            ],
            [
             0.4,
             "#fde0ef"
            ],
            [
             0.5,
             "#f7f7f7"
            ],
            [
             0.6,
             "#e6f5d0"
            ],
            [
             0.7,
             "#b8e186"
            ],
            [
             0.8,
             "#7fbc41"
            ],
            [
             0.9,
             "#4d9221"
            ],
            [
             1,
             "#276419"
            ]
           ],
           "sequential": [
            [
             0,
             "#0d0887"
            ],
            [
             0.1111111111111111,
             "#46039f"
            ],
            [
             0.2222222222222222,
             "#7201a8"
            ],
            [
             0.3333333333333333,
             "#9c179e"
            ],
            [
             0.4444444444444444,
             "#bd3786"
            ],
            [
             0.5555555555555556,
             "#d8576b"
            ],
            [
             0.6666666666666666,
             "#ed7953"
            ],
            [
             0.7777777777777778,
             "#fb9f3a"
            ],
            [
             0.8888888888888888,
             "#fdca26"
            ],
            [
             1,
             "#f0f921"
            ]
           ],
           "sequentialminus": [
            [
             0,
             "#0d0887"
            ],
            [
             0.1111111111111111,
             "#46039f"
            ],
            [
             0.2222222222222222,
             "#7201a8"
            ],
            [
             0.3333333333333333,
             "#9c179e"
            ],
            [
             0.4444444444444444,
             "#bd3786"
            ],
            [
             0.5555555555555556,
             "#d8576b"
            ],
            [
             0.6666666666666666,
             "#ed7953"
            ],
            [
             0.7777777777777778,
             "#fb9f3a"
            ],
            [
             0.8888888888888888,
             "#fdca26"
            ],
            [
             1,
             "#f0f921"
            ]
           ]
          },
          "colorway": [
           "#636efa",
           "#EF553B",
           "#00cc96",
           "#ab63fa",
           "#FFA15A",
           "#19d3f3",
           "#FF6692",
           "#B6E880",
           "#FF97FF",
           "#FECB52"
          ],
          "font": {
           "color": "#2a3f5f"
          },
          "geo": {
           "bgcolor": "white",
           "lakecolor": "white",
           "landcolor": "#E5ECF6",
           "showlakes": true,
           "showland": true,
           "subunitcolor": "white"
          },
          "hoverlabel": {
           "align": "left"
          },
          "hovermode": "closest",
          "mapbox": {
           "style": "light"
          },
          "paper_bgcolor": "white",
          "plot_bgcolor": "#E5ECF6",
          "polar": {
           "angularaxis": {
            "gridcolor": "white",
            "linecolor": "white",
            "ticks": ""
           },
           "bgcolor": "#E5ECF6",
           "radialaxis": {
            "gridcolor": "white",
            "linecolor": "white",
            "ticks": ""
           }
          },
          "scene": {
           "xaxis": {
            "backgroundcolor": "#E5ECF6",
            "gridcolor": "white",
            "gridwidth": 2,
            "linecolor": "white",
            "showbackground": true,
            "ticks": "",
            "zerolinecolor": "white"
           },
           "yaxis": {
            "backgroundcolor": "#E5ECF6",
            "gridcolor": "white",
            "gridwidth": 2,
            "linecolor": "white",
            "showbackground": true,
            "ticks": "",
            "zerolinecolor": "white"
           },
           "zaxis": {
            "backgroundcolor": "#E5ECF6",
            "gridcolor": "white",
            "gridwidth": 2,
            "linecolor": "white",
            "showbackground": true,
            "ticks": "",
            "zerolinecolor": "white"
           }
          },
          "shapedefaults": {
           "line": {
            "color": "#2a3f5f"
           }
          },
          "ternary": {
           "aaxis": {
            "gridcolor": "white",
            "linecolor": "white",
            "ticks": ""
           },
           "baxis": {
            "gridcolor": "white",
            "linecolor": "white",
            "ticks": ""
           },
           "bgcolor": "#E5ECF6",
           "caxis": {
            "gridcolor": "white",
            "linecolor": "white",
            "ticks": ""
           }
          },
          "title": {
           "x": 0.05
          },
          "xaxis": {
           "automargin": true,
           "gridcolor": "white",
           "linecolor": "white",
           "ticks": "",
           "zerolinecolor": "white",
           "zerolinewidth": 2
          },
          "yaxis": {
           "automargin": true,
           "gridcolor": "white",
           "linecolor": "white",
           "ticks": "",
           "zerolinecolor": "white",
           "zerolinewidth": 2
          }
         }
        }
       }
      },
      "text/html": [
       "<div>\n",
       "        \n",
       "        \n",
       "            <div id=\"6739afb8-d382-43c1-a8e0-d19dc5a5843c\" class=\"plotly-graph-div\" style=\"height:525px; width:100%;\"></div>\n",
       "            <script type=\"text/javascript\">\n",
       "                require([\"plotly\"], function(Plotly) {\n",
       "                    window.PLOTLYENV=window.PLOTLYENV || {};\n",
       "                    \n",
       "                if (document.getElementById(\"6739afb8-d382-43c1-a8e0-d19dc5a5843c\")) {\n",
       "                    Plotly.newPlot(\n",
       "                        '6739afb8-d382-43c1-a8e0-d19dc5a5843c',\n",
       "                        [{\"marker\": {\"color\": [2.0, 2.0, 2.0, 2.0, 2.0, 2.0, 2.0, 2.0, 2.0, 2.0, 2.0, 2.0, 2.0, 2.0, 2.0, 2.0, 2.0, 2.0, 2.0, 2.0, 2.0, 2.0, 2.0, 2.0, 2.0, 2.0, 2.0, 2.0, 2.0, 2.0, 2.0, 2.0, 2.0, 2.0, 2.0, 2.0, 2.0, 2.0, 2.0, 2.0, 2.0, 2.0, 2.0, 2.0, 2.0, 2.0, 2.0, 2.0, 2.0, 2.0, 2.0, 2.0, 2.0, 2.0, 2.0, 2.0, 2.0, 2.0, 2.0, 3.0, 4.0, 4.0, 3.0, 0.0, 4.0, 0.0, 0.0, 3.0, 4.0, 3.0, 4.0, 0.0, 3.0, 0.0, 0.0, 3.0, 3.0, 4.0, 3.0, 0.0, 3.0, 3.0, 4.0, 4.0, 0.0, 3.0, 4.0, 4.0, 4.0, 3.0, 4.0, 4.0, 4.0, 3.0, 0.0, 0.0, 3.0, 3.0, 0.0, 0.0, 3.0, 3.0, 3.0, 3.0, 3.0, 4.0, 3.0, 4.0, 3.0, 0.0, 0.0, 3.0, 4.0, 4.0, 3.0, 4.0, 3.0, 3.0, 4.0, 3.0, 0.0, 0.0, 4.0, 0.0, 0.0, 3.0, 0.0, 4.0, 3.0, 4.0, 1.0, 1.0, 1.0, 1.0, 1.0, 1.0, 1.0, 1.0, 1.0, 1.0, 1.0, 1.0, 1.0, 1.0, 1.0, 1.0, 1.0, 1.0, 1.0, 1.0, 1.0, 1.0, 1.0, 1.0, 1.0, 1.0, 1.0, 1.0, 1.0, 1.0, 1.0, 1.0, 1.0, 1.0, 1.0, 1.0, 1.0, 1.0, 1.0, 1.0, 1.0, 1.0, 1.0, 1.0, 1.0, 1.0, 1.0, 1.0]}, \"mode\": \"markers\", \"text\": [2.0, 2.0, 2.0, 2.0, 2.0, 2.0, 2.0, 2.0, 2.0, 2.0, 2.0, 2.0, 2.0, 2.0, 2.0, 2.0, 2.0, 2.0, 2.0, 2.0, 2.0, 2.0, 2.0, 2.0, 2.0, 2.0, 2.0, 2.0, 2.0, 2.0, 2.0, 2.0, 2.0, 2.0, 2.0, 2.0, 2.0, 2.0, 2.0, 2.0, 2.0, 2.0, 2.0, 2.0, 2.0, 2.0, 2.0, 2.0, 2.0, 2.0, 2.0, 2.0, 2.0, 2.0, 2.0, 2.0, 2.0, 2.0, 2.0, 3.0, 4.0, 4.0, 3.0, 0.0, 4.0, 0.0, 0.0, 3.0, 4.0, 3.0, 4.0, 0.0, 3.0, 0.0, 0.0, 3.0, 3.0, 4.0, 3.0, 0.0, 3.0, 3.0, 4.0, 4.0, 0.0, 3.0, 4.0, 4.0, 4.0, 3.0, 4.0, 4.0, 4.0, 3.0, 0.0, 0.0, 3.0, 3.0, 0.0, 0.0, 3.0, 3.0, 3.0, 3.0, 3.0, 4.0, 3.0, 4.0, 3.0, 0.0, 0.0, 3.0, 4.0, 4.0, 3.0, 4.0, 3.0, 3.0, 4.0, 3.0, 0.0, 0.0, 4.0, 0.0, 0.0, 3.0, 0.0, 4.0, 3.0, 4.0, 1.0, 1.0, 1.0, 1.0, 1.0, 1.0, 1.0, 1.0, 1.0, 1.0, 1.0, 1.0, 1.0, 1.0, 1.0, 1.0, 1.0, 1.0, 1.0, 1.0, 1.0, 1.0, 1.0, 1.0, 1.0, 1.0, 1.0, 1.0, 1.0, 1.0, 1.0, 1.0, 1.0, 1.0, 1.0, 1.0, 1.0, 1.0, 1.0, 1.0, 1.0, 1.0, 1.0, 1.0, 1.0, 1.0, 1.0, 1.0], \"type\": \"scatter3d\", \"x\": [0.37201365187713303, 0.26450511945392485, 0.3754266211604095, 0.5563139931740614, 0.2593856655290102, 0.46672354948805456, 0.3387372013651877, 0.3216723549488054, 0.33447098976109213, 0.5068259385665528, 0.3813993174061433, 0.31740614334470985, 0.3686006825938566, 0.3515358361774744, 0.530716723549488, 0.5136518771331058, 0.4197952218430034, 0.45392491467576784, 0.6331058020477814, 0.32593856655290093, 0.3728668941979522, 0.27474402730375425, 0.21501706484641633, 0.22610921501706485, 0.19112627986348124, 0.19624573378839588, 0.3003412969283276, 0.22781569965870305, 0.27474402730375425, 0.2918088737201365, 0.37713310580204773, 0.47952218430034127, 0.21843003412969278, 0.3515358361774744, 0.24914675767918087, 0.32593856655290093, 0.28327645051194533, 0.2534129692832764, 0.20648464163822525, 0.32593856655290093, 0.41382252559726956, 0.25597269624573377, 0.3540955631399317, 0.26279863481228666, 0.3208191126279863, 0.3378839590443686, 0.30887372013651876, 0.4112627986348122, 0.4197952218430034, 0.6501706484641638, 0.5051194539249146, 0.3686006825938566, 0.4923208191126279, 0.42832764505119447, 0.3899317406143344, 0.42406143344709896, 0.43515358361774736, 0.4027303754266211, 0.4709897610921501, 0.057167235494880536, 0.1697952218430034, 0.3813993174061433, 0.21501706484641633, 0.2704778156996587, 0.14249146757679182, 0.28327645051194533, 0.3430034129692832, 0.2901023890784982, 0.16126279863481227, 0.13395904436860068, 0.1510238907849829, 0.17918088737201363, 0.2098976109215017, 0.17662116040955633, 0.16467576791808872, 0.21501706484641633, 0.28327645051194533, 0.11689419795221842, 0.18088737201365188, 0.1100682593856655, 0.10409556313993173, 0.2235494880546075, 0.07849829351535836, 0.3003412969283276, 0.1510238907849829, 0.11433447098976109, 0.09982935153583619, 0.11262798634812286, 0.1296928327645051, 0.039249146757679175, 0.09556313993174059, 0.19795221843003413, 0.1510238907849829, 0.07423208191126278, 0.16808873720136516, 0.11262798634812286, 0.10409556313993173, 0.13822525597269622, 0.27474402730375425, 0.08703071672354946, 0.1723549488054607, 0.09982935153583619, 0.1296928327645051, 0.06655290102389079, 0.1416382252559727, 0.121160409556314, 0.18088737201365188, 0.1723549488054607, 0.121160409556314, 0.11689419795221842, 0.13822525597269622, 0.0614334470989761, 0.21501706484641633, 0.15358361774744028, 0.13822525597269622, 0.05290102389078497, 0.057167235494880536, 0.06655290102389079, 0.18088737201365188, 0.0, 0.16808873720136516, 0.4027303754266211, 0.06825938566552901, 0.11262798634812286, 0.1296928327645051, 0.12627986348122863, 0.22696245733788395, 0.14675767918088736, 0.07167235494880546, 0.11262798634812286, 0.2406143344709897, 0.3515358361774744, 0.37713310580204773, 0.31740614334470985, 0.35580204778156993, 0.49658703071672344, 0.21928327645051196, 0.31740614334470985, 0.37713310580204773, 0.31058020477815695, 0.28327645051194533, 0.3686006825938566, 0.26194539249146753, 0.26621160409556316, 0.591296928327645, 0.2320819112627986, 0.30887372013651876, 0.5435153583617747, 0.6092150170648464, 0.6928327645051195, 0.6245733788395904, 0.8122866894197953, 0.49658703071672344, 0.78839590443686, 0.5392491467576791, 0.5648464163822525, 0.6595563139931739, 0.530716723549488, 1.0, 0.893344709897611, 0.5435153583617747, 0.39249146757679176, 0.3668941979522184, 0.341296928327645, 0.7081911262798635, 0.4556313993174061, 0.8020477815699658, 0.7662116040955631, 0.629692832764505, 0.6160409556313993, 0.3600682593856655, 0.7354947952218429, 0.7184300341296928, 0.5477815699658702, 0.5136518771331058, 0.7610921501706485, 0.6843003412969284, 0.675767918088737], \"y\": [0.8421052631578949, 0.5710526315789473, 0.5605263157894738, 0.8789473684210525, 0.5815789473684212, 0.8342105263157893, 0.8842105263157897, 0.7973684210526317, 1.0, 0.744736842105263, 0.8078947368421052, 0.813157894736842, 0.7157894736842105, 0.9789473684210526, 0.8815789473684212, 0.6842105263157897, 0.8605263157894739, 0.736842105263158, 0.831578947368421, 0.686842105263158, 0.7973684210526317, 0.5, 0.7052631578947371, 0.4789473684210526, 0.65, 0.5315789473684213, 0.6210526315789475, 0.5973684210526318, 0.7473684210526313, 0.7868421052631578, 0.7105263157894738, 0.6710526315789475, 0.6973684210526315, 0.718421052631579, 0.6526315789473685, 0.6447368421052633, 0.5921052631578946, 0.5315789473684213, 0.536842105263158, 0.8394736842105265, 0.6657894736842107, 0.6263157894736843, 0.7500000000000002, 0.5815789473684212, 0.5315789473684213, 0.8368421052631582, 0.8815789473684212, 0.755263157894737, 0.8078947368421052, 0.7657894736842105, 0.5315789473684213, 0.736842105263158, 0.7342105263157895, 0.7210526315789473, 0.7131578947368422, 0.6657894736842107, 0.8394736842105265, 0.594736842105263, 0.7078947368421055, 0.3526315789473683, 0.34210526315789486, 0.42368421052631605, 0.6947368421052632, 0.3526315789473683, 0.3000000000000001, 0.3526315789473683, 0.5473684210526315, 0.3526315789473683, 0.6078947368421053, 0.31052631578947404, 0.3315789473684209, 0.744736842105263, 0.6473684210526317, 0.5157894736842107, 0.2447368421052635, 0.1657894736842107, 0.5263157894736841, 0.21315789473684219, 0.34210526315789486, 0.43947368421052624, 0.25526315789473697, 0.44473684210526343, 0.27631578947368435, 0.5315789473684213, 0.21315789473684219, 0.4315789473684211, 0.2973684210526317, 0.16315789473684233, 0.16052631578947396, 0.27631578947368435, 0.27631578947368435, 0.25526315789473697, 0.43684210526315786, 0.3315789473684209, 0.15526315789473677, 0.3789473684210529, 0.2052631578947371, 0.3315789473684209, 0.3526315789473683, 0.3315789473684209, 0.27631578947368435, 0.4131578947368421, 0.34473684210526323, 0.20789473684210547, 0.38947368421052636, 0.3657894736842106, 0.3210526315789475, 0.44473684210526343, 0.31315789473684236, 0.15263157894736842, 0.11315789473684247, 0.39210526315789473, 0.1921052631578948, 0.10000000000000019, 0.27631578947368435, 0.0, 0.20789473684210547, 0.3657894736842106, 0.45789473684210524, 0.25526315789473697, 0.11052631578947364, 0.13947368421052658, 0.3657894736842106, 0.5315789473684213, 0.22105263157894728, 0.273684210526316, 0.368421052631579, 0.1999999999999999, 0.3526315789473683, 0.2657894736842104, 0.481578947368421, 0.4868421052631582, 0.4684210526315792, 0.43947368421052624, 0.38947368421052636, 0.4131578947368421, 0.3210526315789475, 0.3947368421052631, 0.6473684210526317, 0.47631578947368425, 0.5, 0.613157894736842, 0.6552631578947368, 0.6815789473684208, 0.3210526315789475, 0.5605263157894738, 0.7500000000000002, 0.48421052631578937, 0.6026315789473685, 0.5394736842105264, 0.65, 0.46315789473684194, 0.5473684210526315, 0.5789473684210528, 0.40789473684210537, 0.5631578947368422, 0.7394736842105263, 0.3736842105263157, 0.8710526315789473, 0.6447368421052633, 0.35, 0.7, 0.4789473684210526, 0.5078947368421055, 0.7236842105263157, 0.7105263157894738, 0.6368421052631578, 0.4710526315789475, 0.6710526315789475, 0.623684210526316, 0.30789473684210517, 0.45789473684210524, 0.8236842105263158, 0.7052631578947371, 0.623684210526316, 0.5894736842105263, 0.5631578947368422, 0.8157894736842107], \"z\": [0.5613409415121255, 0.550641940085592, 0.6469329529243937, 0.8573466476462197, 0.325962910128388, 0.8359486447931527, 0.7218259629101283, 0.7253922967189729, 0.5470756062767475, 0.5470756062767475, 0.8787446504992867, 0.7146932952924394, 0.7432239657631954, 0.6219686162624821, 0.9051355206847361, 0.7360912981455064, 0.7146932952924394, 0.6077032810271041, 1.0, 0.4044222539229672, 0.35805991440798857, 0.3509272467902996, 0.5399429386590585, 0.5256776034236804, 0.4044222539229672, 0.39372325249643364, 0.6540656205420827, 0.7182596291012838, 0.4543509272467903, 0.5399429386590585, 0.7182596291012838, 0.8823109843081313, 0.5078459343794579, 0.6825962910128388, 0.5827389443651926, 0.4579172610556348, 0.42938659058487877, 0.5898716119828816, 0.5292439372325249, 0.3437945791726106, 0.36875891583452214, 0.5399429386590585, 0.5827389443651926, 0.2867332382310984, 0.43295292439372324, 0.572039942938659, 0.5613409415121255, 0.5042796005706134, 0.557774607703281, 0.7004279600570613, 0.6219686162624821, 0.7039942938659058, 0.6504992867332382, 0.782453637660485, 0.557774607703281, 0.6005706134094151, 0.49358059914407987, 0.7075606276747504, 0.7182596291012838, 0.17261055634807418, 0.2867332382310984, 0.12268188302425106, 0.25106990014265335, 0.10128388017118402, 0.05492154065620542, 0.28530670470756064, 0.15977175463623394, 0.16547788873038516, 0.33666191155492153, 0.31383737517831667, 0.4222539229671897, 0.09415121255349501, 0.1383737517831669, 0.5042796005706134, 0.43366619115549215, 0.10699001426533523, 0.08131241084165478, 0.15834522111269614, 0.33666191155492153, 0.13195435092724678, 0.0, 0.31098430813124106, 0.25106990014265335, 0.16904422253922968, 0.17261055634807418, 0.12268188302425106, 0.15477888730385164, 0.20256776034236804, 0.2867332382310984, 0.24750356633380885, 0.14407988587731813, 0.12268188302425106, 0.15477888730385164, 0.008559201141226819, 0.04778887303851641, 0.47004279600570614, 0.24750356633380885, 0.10699001426533523, 0.2724679029957204, 0.0912981455064194, 0.30813124108416545, 0.20256776034236804, 0.11412268188302425, 0.09771754636233952, 0.2810271041369472, 0.026390870185449358, 0.16547788873038516, 0.14978601997146934, 0.024251069900142655, 0.2867332382310984, 0.20256776034236804, 0.033523537803138374, 0.2346647646219686, 0.11126961483594865, 0.07631954350927246, 0.0920114122681883, 0.15477888730385164, 0.04778887303851641, 0.06704707560627675, 0.20399429386590584, 0.24750356633380885, 0.13338088445078458, 0.062054208273894434, 0.07275320970042796, 0.07275320970042796, 0.07132667617689016, 0.052781740370898715, 0.1340941512125535, 0.0456490727532097, 0.21540656205420827, 0.25106990014265335, 0.1797432239657632, 0.20114122681883023, 0.2296718972895863, 0.2653352353780314, 0.29743223965763194, 0.3152639087018545, 0.16904422253922968, 0.21540656205420827, 0.2225392296718973, 0.2296718972895863, 0.35805991440798857, 0.17261055634807418, 0.19400855920114124, 0.4115549215406562, 0.39372325249643364, 0.09771754636233952, 0.24750356633380885, 0.2653352353780314, 0.19400855920114124, 0.15834522111269614, 0.14407988587731813, 0.10485021398002853, 0.2831669044222539, 0.2582025677603424, 0.318830242510699, 0.14407988587731813, 0.42938659058487877, 0.2724679029957204, 0.24393723252496433, 0.17261055634807418, 0.2867332382310984, 0.20827389443651925, 0.2831669044222539, 0.24037089871611983, 0.17261055634807418, 0.29743223965763194, 0.29029957203994294, 0.33666191155492153, 0.25106990014265335, 0.16547788873038516, 0.1369472182596291, 0.2724679029957204, 0.32952924393723254, 0.33666191155492153, 0.39728958630527816, 0.4008559201141227, 0.20114122681883023]}],\n",
       "                        {\"template\": {\"data\": {\"bar\": [{\"error_x\": {\"color\": \"#2a3f5f\"}, \"error_y\": {\"color\": \"#2a3f5f\"}, \"marker\": {\"line\": {\"color\": \"#E5ECF6\", \"width\": 0.5}}, \"type\": \"bar\"}], \"barpolar\": [{\"marker\": {\"line\": {\"color\": \"#E5ECF6\", \"width\": 0.5}}, \"type\": \"barpolar\"}], \"carpet\": [{\"aaxis\": {\"endlinecolor\": \"#2a3f5f\", \"gridcolor\": \"white\", \"linecolor\": \"white\", \"minorgridcolor\": \"white\", \"startlinecolor\": \"#2a3f5f\"}, \"baxis\": {\"endlinecolor\": \"#2a3f5f\", \"gridcolor\": \"white\", \"linecolor\": \"white\", \"minorgridcolor\": \"white\", \"startlinecolor\": \"#2a3f5f\"}, \"type\": \"carpet\"}], \"choropleth\": [{\"colorbar\": {\"outlinewidth\": 0, \"ticks\": \"\"}, \"type\": \"choropleth\"}], \"contour\": [{\"colorbar\": {\"outlinewidth\": 0, \"ticks\": \"\"}, \"colorscale\": [[0.0, \"#0d0887\"], [0.1111111111111111, \"#46039f\"], [0.2222222222222222, \"#7201a8\"], [0.3333333333333333, \"#9c179e\"], [0.4444444444444444, \"#bd3786\"], [0.5555555555555556, \"#d8576b\"], [0.6666666666666666, \"#ed7953\"], [0.7777777777777778, \"#fb9f3a\"], [0.8888888888888888, \"#fdca26\"], [1.0, \"#f0f921\"]], \"type\": \"contour\"}], \"contourcarpet\": [{\"colorbar\": {\"outlinewidth\": 0, \"ticks\": \"\"}, \"type\": \"contourcarpet\"}], \"heatmap\": [{\"colorbar\": {\"outlinewidth\": 0, \"ticks\": \"\"}, \"colorscale\": [[0.0, \"#0d0887\"], [0.1111111111111111, \"#46039f\"], [0.2222222222222222, \"#7201a8\"], [0.3333333333333333, \"#9c179e\"], [0.4444444444444444, \"#bd3786\"], [0.5555555555555556, \"#d8576b\"], [0.6666666666666666, \"#ed7953\"], [0.7777777777777778, \"#fb9f3a\"], [0.8888888888888888, \"#fdca26\"], [1.0, \"#f0f921\"]], \"type\": \"heatmap\"}], \"heatmapgl\": [{\"colorbar\": {\"outlinewidth\": 0, \"ticks\": \"\"}, \"colorscale\": [[0.0, \"#0d0887\"], [0.1111111111111111, \"#46039f\"], [0.2222222222222222, \"#7201a8\"], [0.3333333333333333, \"#9c179e\"], [0.4444444444444444, \"#bd3786\"], [0.5555555555555556, \"#d8576b\"], [0.6666666666666666, \"#ed7953\"], [0.7777777777777778, \"#fb9f3a\"], [0.8888888888888888, \"#fdca26\"], [1.0, \"#f0f921\"]], \"type\": \"heatmapgl\"}], \"histogram\": [{\"marker\": {\"colorbar\": {\"outlinewidth\": 0, \"ticks\": \"\"}}, \"type\": \"histogram\"}], \"histogram2d\": [{\"colorbar\": {\"outlinewidth\": 0, \"ticks\": \"\"}, \"colorscale\": [[0.0, \"#0d0887\"], [0.1111111111111111, \"#46039f\"], [0.2222222222222222, \"#7201a8\"], [0.3333333333333333, \"#9c179e\"], [0.4444444444444444, \"#bd3786\"], [0.5555555555555556, \"#d8576b\"], [0.6666666666666666, \"#ed7953\"], [0.7777777777777778, \"#fb9f3a\"], [0.8888888888888888, \"#fdca26\"], [1.0, \"#f0f921\"]], \"type\": \"histogram2d\"}], \"histogram2dcontour\": [{\"colorbar\": {\"outlinewidth\": 0, \"ticks\": \"\"}, \"colorscale\": [[0.0, \"#0d0887\"], [0.1111111111111111, \"#46039f\"], [0.2222222222222222, \"#7201a8\"], [0.3333333333333333, \"#9c179e\"], [0.4444444444444444, \"#bd3786\"], [0.5555555555555556, \"#d8576b\"], [0.6666666666666666, \"#ed7953\"], [0.7777777777777778, \"#fb9f3a\"], [0.8888888888888888, \"#fdca26\"], [1.0, \"#f0f921\"]], \"type\": \"histogram2dcontour\"}], \"mesh3d\": [{\"colorbar\": {\"outlinewidth\": 0, \"ticks\": \"\"}, \"type\": \"mesh3d\"}], \"parcoords\": [{\"line\": {\"colorbar\": {\"outlinewidth\": 0, \"ticks\": \"\"}}, \"type\": \"parcoords\"}], \"scatter\": [{\"marker\": {\"colorbar\": {\"outlinewidth\": 0, \"ticks\": \"\"}}, \"type\": \"scatter\"}], \"scatter3d\": [{\"line\": {\"colorbar\": {\"outlinewidth\": 0, \"ticks\": \"\"}}, \"marker\": {\"colorbar\": {\"outlinewidth\": 0, \"ticks\": \"\"}}, \"type\": \"scatter3d\"}], \"scattercarpet\": [{\"marker\": {\"colorbar\": {\"outlinewidth\": 0, \"ticks\": \"\"}}, \"type\": \"scattercarpet\"}], \"scattergeo\": [{\"marker\": {\"colorbar\": {\"outlinewidth\": 0, \"ticks\": \"\"}}, \"type\": \"scattergeo\"}], \"scattergl\": [{\"marker\": {\"colorbar\": {\"outlinewidth\": 0, \"ticks\": \"\"}}, \"type\": \"scattergl\"}], \"scattermapbox\": [{\"marker\": {\"colorbar\": {\"outlinewidth\": 0, \"ticks\": \"\"}}, \"type\": \"scattermapbox\"}], \"scatterpolar\": [{\"marker\": {\"colorbar\": {\"outlinewidth\": 0, \"ticks\": \"\"}}, \"type\": \"scatterpolar\"}], \"scatterpolargl\": [{\"marker\": {\"colorbar\": {\"outlinewidth\": 0, \"ticks\": \"\"}}, \"type\": \"scatterpolargl\"}], \"scatterternary\": [{\"marker\": {\"colorbar\": {\"outlinewidth\": 0, \"ticks\": \"\"}}, \"type\": \"scatterternary\"}], \"surface\": [{\"colorbar\": {\"outlinewidth\": 0, \"ticks\": \"\"}, \"colorscale\": [[0.0, \"#0d0887\"], [0.1111111111111111, \"#46039f\"], [0.2222222222222222, \"#7201a8\"], [0.3333333333333333, \"#9c179e\"], [0.4444444444444444, \"#bd3786\"], [0.5555555555555556, \"#d8576b\"], [0.6666666666666666, \"#ed7953\"], [0.7777777777777778, \"#fb9f3a\"], [0.8888888888888888, \"#fdca26\"], [1.0, \"#f0f921\"]], \"type\": \"surface\"}], \"table\": [{\"cells\": {\"fill\": {\"color\": \"#EBF0F8\"}, \"line\": {\"color\": \"white\"}}, \"header\": {\"fill\": {\"color\": \"#C8D4E3\"}, \"line\": {\"color\": \"white\"}}, \"type\": \"table\"}]}, \"layout\": {\"annotationdefaults\": {\"arrowcolor\": \"#2a3f5f\", \"arrowhead\": 0, \"arrowwidth\": 1}, \"colorscale\": {\"diverging\": [[0, \"#8e0152\"], [0.1, \"#c51b7d\"], [0.2, \"#de77ae\"], [0.3, \"#f1b6da\"], [0.4, \"#fde0ef\"], [0.5, \"#f7f7f7\"], [0.6, \"#e6f5d0\"], [0.7, \"#b8e186\"], [0.8, \"#7fbc41\"], [0.9, \"#4d9221\"], [1, \"#276419\"]], \"sequential\": [[0.0, \"#0d0887\"], [0.1111111111111111, \"#46039f\"], [0.2222222222222222, \"#7201a8\"], [0.3333333333333333, \"#9c179e\"], [0.4444444444444444, \"#bd3786\"], [0.5555555555555556, \"#d8576b\"], [0.6666666666666666, \"#ed7953\"], [0.7777777777777778, \"#fb9f3a\"], [0.8888888888888888, \"#fdca26\"], [1.0, \"#f0f921\"]], \"sequentialminus\": [[0.0, \"#0d0887\"], [0.1111111111111111, \"#46039f\"], [0.2222222222222222, \"#7201a8\"], [0.3333333333333333, \"#9c179e\"], [0.4444444444444444, \"#bd3786\"], [0.5555555555555556, \"#d8576b\"], [0.6666666666666666, \"#ed7953\"], [0.7777777777777778, \"#fb9f3a\"], [0.8888888888888888, \"#fdca26\"], [1.0, \"#f0f921\"]]}, \"colorway\": [\"#636efa\", \"#EF553B\", \"#00cc96\", \"#ab63fa\", \"#FFA15A\", \"#19d3f3\", \"#FF6692\", \"#B6E880\", \"#FF97FF\", \"#FECB52\"], \"font\": {\"color\": \"#2a3f5f\"}, \"geo\": {\"bgcolor\": \"white\", \"lakecolor\": \"white\", \"landcolor\": \"#E5ECF6\", \"showlakes\": true, \"showland\": true, \"subunitcolor\": \"white\"}, \"hoverlabel\": {\"align\": \"left\"}, \"hovermode\": \"closest\", \"mapbox\": {\"style\": \"light\"}, \"paper_bgcolor\": \"white\", \"plot_bgcolor\": \"#E5ECF6\", \"polar\": {\"angularaxis\": {\"gridcolor\": \"white\", \"linecolor\": \"white\", \"ticks\": \"\"}, \"bgcolor\": \"#E5ECF6\", \"radialaxis\": {\"gridcolor\": \"white\", \"linecolor\": \"white\", \"ticks\": \"\"}}, \"scene\": {\"xaxis\": {\"backgroundcolor\": \"#E5ECF6\", \"gridcolor\": \"white\", \"gridwidth\": 2, \"linecolor\": \"white\", \"showbackground\": true, \"ticks\": \"\", \"zerolinecolor\": \"white\"}, \"yaxis\": {\"backgroundcolor\": \"#E5ECF6\", \"gridcolor\": \"white\", \"gridwidth\": 2, \"linecolor\": \"white\", \"showbackground\": true, \"ticks\": \"\", \"zerolinecolor\": \"white\"}, \"zaxis\": {\"backgroundcolor\": \"#E5ECF6\", \"gridcolor\": \"white\", \"gridwidth\": 2, \"linecolor\": \"white\", \"showbackground\": true, \"ticks\": \"\", \"zerolinecolor\": \"white\"}}, \"shapedefaults\": {\"line\": {\"color\": \"#2a3f5f\"}}, \"ternary\": {\"aaxis\": {\"gridcolor\": \"white\", \"linecolor\": \"white\", \"ticks\": \"\"}, \"baxis\": {\"gridcolor\": \"white\", \"linecolor\": \"white\", \"ticks\": \"\"}, \"bgcolor\": \"#E5ECF6\", \"caxis\": {\"gridcolor\": \"white\", \"linecolor\": \"white\", \"ticks\": \"\"}}, \"title\": {\"x\": 0.05}, \"xaxis\": {\"automargin\": true, \"gridcolor\": \"white\", \"linecolor\": \"white\", \"ticks\": \"\", \"zerolinecolor\": \"white\", \"zerolinewidth\": 2}, \"yaxis\": {\"automargin\": true, \"gridcolor\": \"white\", \"linecolor\": \"white\", \"ticks\": \"\", \"zerolinecolor\": \"white\", \"zerolinewidth\": 2}}}},\n",
       "                        {\"responsive\": true}\n",
       "                    ).then(function(){\n",
       "                            \n",
       "var gd = document.getElementById('6739afb8-d382-43c1-a8e0-d19dc5a5843c');\n",
       "var x = new MutationObserver(function (mutations, observer) {{\n",
       "        var display = window.getComputedStyle(gd).display;\n",
       "        if (!display || display === 'none') {{\n",
       "            console.log([gd, 'removed!']);\n",
       "            Plotly.purge(gd);\n",
       "            observer.disconnect();\n",
       "        }}\n",
       "}});\n",
       "\n",
       "// Listen for the removal of the full notebook cells\n",
       "var notebookContainer = gd.closest('#notebook-container');\n",
       "if (notebookContainer) {{\n",
       "    x.observe(notebookContainer, {childList: true});\n",
       "}}\n",
       "\n",
       "// Listen for the clearing of the current output cell\n",
       "var outputEl = gd.closest('.output');\n",
       "if (outputEl) {{\n",
       "    x.observe(outputEl, {childList: true});\n",
       "}}\n",
       "\n",
       "                        })\n",
       "                };\n",
       "                });\n",
       "            </script>\n",
       "        </div>"
      ]
     },
     "metadata": {},
     "output_type": "display_data"
    }
   ],
   "source": [
    "fig = go.Figure()\n",
    "fig.add_trace(go.Scatter3d(x=df['Intensidade_de_cor'],\n",
    "                        y=df['Alcool'], \n",
    "                        z=df['Proline'],\n",
    "                        mode = 'markers',                  \n",
    "                        marker = dict(color = labels.astype(np.float)),\n",
    "                        text = labels))"
   ]
  },
  {
   "cell_type": "code",
   "execution_count": 118,
   "id": "d2abaad9",
   "metadata": {},
   "outputs": [],
   "source": [
    "#Coeficiente de silhuetas\n",
    "from sklearn.metrics import silhouette_score"
   ]
  },
  {
   "cell_type": "code",
   "execution_count": 119,
   "id": "c03baa43",
   "metadata": {},
   "outputs": [
    {
     "name": "stdout",
     "output_type": "stream",
     "text": [
      "[2, 3, 4, 5, 6, 7, 8, 9]\n"
     ]
    }
   ],
   "source": [
    "faixa_n_clusters = [i for i in range(2,10)]\n",
    "print(faixa_n_clusters)"
   ]
  },
  {
   "cell_type": "code",
   "execution_count": 122,
   "id": "17b64732",
   "metadata": {},
   "outputs": [
    {
     "name": "stderr",
     "output_type": "stream",
     "text": [
      "C:\\Users\\Renato\\anaconda3\\lib\\site-packages\\sklearn\\cluster\\_kmeans.py:1332: UserWarning:\n",
      "\n",
      "KMeans is known to have a memory leak on Windows with MKL, when there are less chunks than available threads. You can avoid it by setting the environment variable OMP_NUM_THREADS=1.\n",
      "\n",
      "C:\\Users\\Renato\\anaconda3\\lib\\site-packages\\sklearn\\cluster\\_kmeans.py:1332: UserWarning:\n",
      "\n",
      "KMeans is known to have a memory leak on Windows with MKL, when there are less chunks than available threads. You can avoid it by setting the environment variable OMP_NUM_THREADS=1.\n",
      "\n",
      "C:\\Users\\Renato\\anaconda3\\lib\\site-packages\\sklearn\\cluster\\_kmeans.py:1332: UserWarning:\n",
      "\n",
      "KMeans is known to have a memory leak on Windows with MKL, when there are less chunks than available threads. You can avoid it by setting the environment variable OMP_NUM_THREADS=1.\n",
      "\n",
      "C:\\Users\\Renato\\anaconda3\\lib\\site-packages\\sklearn\\cluster\\_kmeans.py:1332: UserWarning:\n",
      "\n",
      "KMeans is known to have a memory leak on Windows with MKL, when there are less chunks than available threads. You can avoid it by setting the environment variable OMP_NUM_THREADS=1.\n",
      "\n",
      "C:\\Users\\Renato\\anaconda3\\lib\\site-packages\\sklearn\\cluster\\_kmeans.py:1332: UserWarning:\n",
      "\n",
      "KMeans is known to have a memory leak on Windows with MKL, when there are less chunks than available threads. You can avoid it by setting the environment variable OMP_NUM_THREADS=1.\n",
      "\n",
      "C:\\Users\\Renato\\anaconda3\\lib\\site-packages\\sklearn\\cluster\\_kmeans.py:1332: UserWarning:\n",
      "\n",
      "KMeans is known to have a memory leak on Windows with MKL, when there are less chunks than available threads. You can avoid it by setting the environment variable OMP_NUM_THREADS=1.\n",
      "\n",
      "C:\\Users\\Renato\\anaconda3\\lib\\site-packages\\sklearn\\cluster\\_kmeans.py:1332: UserWarning:\n",
      "\n",
      "KMeans is known to have a memory leak on Windows with MKL, when there are less chunks than available threads. You can avoid it by setting the environment variable OMP_NUM_THREADS=1.\n",
      "\n",
      "C:\\Users\\Renato\\anaconda3\\lib\\site-packages\\sklearn\\cluster\\_kmeans.py:1332: UserWarning:\n",
      "\n",
      "KMeans is known to have a memory leak on Windows with MKL, when there are less chunks than available threads. You can avoid it by setting the environment variable OMP_NUM_THREADS=1.\n",
      "\n"
     ]
    }
   ],
   "source": [
    "from sklearn.cluster import KMeans\n",
    "valores_silhueta = []\n",
    "for k in faixa_n_clusters:\n",
    "    agrupador = KMeans(n_clusters= k)\n",
    "    labels = agrupador.fit_predict(df)\n",
    "    media_silhueta = silhouette_score(df, labels)\n",
    "    valores_silhueta.append(media_silhueta)"
   ]
  },
  {
   "cell_type": "code",
   "execution_count": 123,
   "id": "9af559dc",
   "metadata": {},
   "outputs": [
    {
     "data": {
      "application/vnd.plotly.v1+json": {
       "config": {
        "plotlyServerURL": "https://plot.ly"
       },
       "data": [
        {
         "type": "scatter",
         "x": [
          2,
          3,
          4,
          5,
          6,
          7,
          8,
          9
         ],
         "y": [
          0.3450438553643069,
          0.3695061849273629,
          0.30517494726218314,
          0.28974242321124183,
          0.19877453494039896,
          0.23589666524782207,
          0.14523649591827986,
          0.13917640935284764
         ]
        }
       ],
       "layout": {
        "font": {
         "color": "#7f7f7f",
         "family": "Courier New, monospace",
         "size": 18
        },
        "template": {
         "data": {
          "bar": [
           {
            "error_x": {
             "color": "#2a3f5f"
            },
            "error_y": {
             "color": "#2a3f5f"
            },
            "marker": {
             "line": {
              "color": "#E5ECF6",
              "width": 0.5
             }
            },
            "type": "bar"
           }
          ],
          "barpolar": [
           {
            "marker": {
             "line": {
              "color": "#E5ECF6",
              "width": 0.5
             }
            },
            "type": "barpolar"
           }
          ],
          "carpet": [
           {
            "aaxis": {
             "endlinecolor": "#2a3f5f",
             "gridcolor": "white",
             "linecolor": "white",
             "minorgridcolor": "white",
             "startlinecolor": "#2a3f5f"
            },
            "baxis": {
             "endlinecolor": "#2a3f5f",
             "gridcolor": "white",
             "linecolor": "white",
             "minorgridcolor": "white",
             "startlinecolor": "#2a3f5f"
            },
            "type": "carpet"
           }
          ],
          "choropleth": [
           {
            "colorbar": {
             "outlinewidth": 0,
             "ticks": ""
            },
            "type": "choropleth"
           }
          ],
          "contour": [
           {
            "colorbar": {
             "outlinewidth": 0,
             "ticks": ""
            },
            "colorscale": [
             [
              0,
              "#0d0887"
             ],
             [
              0.1111111111111111,
              "#46039f"
             ],
             [
              0.2222222222222222,
              "#7201a8"
             ],
             [
              0.3333333333333333,
              "#9c179e"
             ],
             [
              0.4444444444444444,
              "#bd3786"
             ],
             [
              0.5555555555555556,
              "#d8576b"
             ],
             [
              0.6666666666666666,
              "#ed7953"
             ],
             [
              0.7777777777777778,
              "#fb9f3a"
             ],
             [
              0.8888888888888888,
              "#fdca26"
             ],
             [
              1,
              "#f0f921"
             ]
            ],
            "type": "contour"
           }
          ],
          "contourcarpet": [
           {
            "colorbar": {
             "outlinewidth": 0,
             "ticks": ""
            },
            "type": "contourcarpet"
           }
          ],
          "heatmap": [
           {
            "colorbar": {
             "outlinewidth": 0,
             "ticks": ""
            },
            "colorscale": [
             [
              0,
              "#0d0887"
             ],
             [
              0.1111111111111111,
              "#46039f"
             ],
             [
              0.2222222222222222,
              "#7201a8"
             ],
             [
              0.3333333333333333,
              "#9c179e"
             ],
             [
              0.4444444444444444,
              "#bd3786"
             ],
             [
              0.5555555555555556,
              "#d8576b"
             ],
             [
              0.6666666666666666,
              "#ed7953"
             ],
             [
              0.7777777777777778,
              "#fb9f3a"
             ],
             [
              0.8888888888888888,
              "#fdca26"
             ],
             [
              1,
              "#f0f921"
             ]
            ],
            "type": "heatmap"
           }
          ],
          "heatmapgl": [
           {
            "colorbar": {
             "outlinewidth": 0,
             "ticks": ""
            },
            "colorscale": [
             [
              0,
              "#0d0887"
             ],
             [
              0.1111111111111111,
              "#46039f"
             ],
             [
              0.2222222222222222,
              "#7201a8"
             ],
             [
              0.3333333333333333,
              "#9c179e"
             ],
             [
              0.4444444444444444,
              "#bd3786"
             ],
             [
              0.5555555555555556,
              "#d8576b"
             ],
             [
              0.6666666666666666,
              "#ed7953"
             ],
             [
              0.7777777777777778,
              "#fb9f3a"
             ],
             [
              0.8888888888888888,
              "#fdca26"
             ],
             [
              1,
              "#f0f921"
             ]
            ],
            "type": "heatmapgl"
           }
          ],
          "histogram": [
           {
            "marker": {
             "colorbar": {
              "outlinewidth": 0,
              "ticks": ""
             }
            },
            "type": "histogram"
           }
          ],
          "histogram2d": [
           {
            "colorbar": {
             "outlinewidth": 0,
             "ticks": ""
            },
            "colorscale": [
             [
              0,
              "#0d0887"
             ],
             [
              0.1111111111111111,
              "#46039f"
             ],
             [
              0.2222222222222222,
              "#7201a8"
             ],
             [
              0.3333333333333333,
              "#9c179e"
             ],
             [
              0.4444444444444444,
              "#bd3786"
             ],
             [
              0.5555555555555556,
              "#d8576b"
             ],
             [
              0.6666666666666666,
              "#ed7953"
             ],
             [
              0.7777777777777778,
              "#fb9f3a"
             ],
             [
              0.8888888888888888,
              "#fdca26"
             ],
             [
              1,
              "#f0f921"
             ]
            ],
            "type": "histogram2d"
           }
          ],
          "histogram2dcontour": [
           {
            "colorbar": {
             "outlinewidth": 0,
             "ticks": ""
            },
            "colorscale": [
             [
              0,
              "#0d0887"
             ],
             [
              0.1111111111111111,
              "#46039f"
             ],
             [
              0.2222222222222222,
              "#7201a8"
             ],
             [
              0.3333333333333333,
              "#9c179e"
             ],
             [
              0.4444444444444444,
              "#bd3786"
             ],
             [
              0.5555555555555556,
              "#d8576b"
             ],
             [
              0.6666666666666666,
              "#ed7953"
             ],
             [
              0.7777777777777778,
              "#fb9f3a"
             ],
             [
              0.8888888888888888,
              "#fdca26"
             ],
             [
              1,
              "#f0f921"
             ]
            ],
            "type": "histogram2dcontour"
           }
          ],
          "mesh3d": [
           {
            "colorbar": {
             "outlinewidth": 0,
             "ticks": ""
            },
            "type": "mesh3d"
           }
          ],
          "parcoords": [
           {
            "line": {
             "colorbar": {
              "outlinewidth": 0,
              "ticks": ""
             }
            },
            "type": "parcoords"
           }
          ],
          "scatter": [
           {
            "marker": {
             "colorbar": {
              "outlinewidth": 0,
              "ticks": ""
             }
            },
            "type": "scatter"
           }
          ],
          "scatter3d": [
           {
            "line": {
             "colorbar": {
              "outlinewidth": 0,
              "ticks": ""
             }
            },
            "marker": {
             "colorbar": {
              "outlinewidth": 0,
              "ticks": ""
             }
            },
            "type": "scatter3d"
           }
          ],
          "scattercarpet": [
           {
            "marker": {
             "colorbar": {
              "outlinewidth": 0,
              "ticks": ""
             }
            },
            "type": "scattercarpet"
           }
          ],
          "scattergeo": [
           {
            "marker": {
             "colorbar": {
              "outlinewidth": 0,
              "ticks": ""
             }
            },
            "type": "scattergeo"
           }
          ],
          "scattergl": [
           {
            "marker": {
             "colorbar": {
              "outlinewidth": 0,
              "ticks": ""
             }
            },
            "type": "scattergl"
           }
          ],
          "scattermapbox": [
           {
            "marker": {
             "colorbar": {
              "outlinewidth": 0,
              "ticks": ""
             }
            },
            "type": "scattermapbox"
           }
          ],
          "scatterpolar": [
           {
            "marker": {
             "colorbar": {
              "outlinewidth": 0,
              "ticks": ""
             }
            },
            "type": "scatterpolar"
           }
          ],
          "scatterpolargl": [
           {
            "marker": {
             "colorbar": {
              "outlinewidth": 0,
              "ticks": ""
             }
            },
            "type": "scatterpolargl"
           }
          ],
          "scatterternary": [
           {
            "marker": {
             "colorbar": {
              "outlinewidth": 0,
              "ticks": ""
             }
            },
            "type": "scatterternary"
           }
          ],
          "surface": [
           {
            "colorbar": {
             "outlinewidth": 0,
             "ticks": ""
            },
            "colorscale": [
             [
              0,
              "#0d0887"
             ],
             [
              0.1111111111111111,
              "#46039f"
             ],
             [
              0.2222222222222222,
              "#7201a8"
             ],
             [
              0.3333333333333333,
              "#9c179e"
             ],
             [
              0.4444444444444444,
              "#bd3786"
             ],
             [
              0.5555555555555556,
              "#d8576b"
             ],
             [
              0.6666666666666666,
              "#ed7953"
             ],
             [
              0.7777777777777778,
              "#fb9f3a"
             ],
             [
              0.8888888888888888,
              "#fdca26"
             ],
             [
              1,
              "#f0f921"
             ]
            ],
            "type": "surface"
           }
          ],
          "table": [
           {
            "cells": {
             "fill": {
              "color": "#EBF0F8"
             },
             "line": {
              "color": "white"
             }
            },
            "header": {
             "fill": {
              "color": "#C8D4E3"
             },
             "line": {
              "color": "white"
             }
            },
            "type": "table"
           }
          ]
         },
         "layout": {
          "annotationdefaults": {
           "arrowcolor": "#2a3f5f",
           "arrowhead": 0,
           "arrowwidth": 1
          },
          "colorscale": {
           "diverging": [
            [
             0,
             "#8e0152"
            ],
            [
             0.1,
             "#c51b7d"
            ],
            [
             0.2,
             "#de77ae"
            ],
            [
             0.3,
             "#f1b6da"
            ],
            [
             0.4,
             "#fde0ef"
            ],
            [
             0.5,
             "#f7f7f7"
            ],
            [
             0.6,
             "#e6f5d0"
            ],
            [
             0.7,
             "#b8e186"
            ],
            [
             0.8,
             "#7fbc41"
            ],
            [
             0.9,
             "#4d9221"
            ],
            [
             1,
             "#276419"
            ]
           ],
           "sequential": [
            [
             0,
             "#0d0887"
            ],
            [
             0.1111111111111111,
             "#46039f"
            ],
            [
             0.2222222222222222,
             "#7201a8"
            ],
            [
             0.3333333333333333,
             "#9c179e"
            ],
            [
             0.4444444444444444,
             "#bd3786"
            ],
            [
             0.5555555555555556,
             "#d8576b"
            ],
            [
             0.6666666666666666,
             "#ed7953"
            ],
            [
             0.7777777777777778,
             "#fb9f3a"
            ],
            [
             0.8888888888888888,
             "#fdca26"
            ],
            [
             1,
             "#f0f921"
            ]
           ],
           "sequentialminus": [
            [
             0,
             "#0d0887"
            ],
            [
             0.1111111111111111,
             "#46039f"
            ],
            [
             0.2222222222222222,
             "#7201a8"
            ],
            [
             0.3333333333333333,
             "#9c179e"
            ],
            [
             0.4444444444444444,
             "#bd3786"
            ],
            [
             0.5555555555555556,
             "#d8576b"
            ],
            [
             0.6666666666666666,
             "#ed7953"
            ],
            [
             0.7777777777777778,
             "#fb9f3a"
            ],
            [
             0.8888888888888888,
             "#fdca26"
            ],
            [
             1,
             "#f0f921"
            ]
           ]
          },
          "colorway": [
           "#636efa",
           "#EF553B",
           "#00cc96",
           "#ab63fa",
           "#FFA15A",
           "#19d3f3",
           "#FF6692",
           "#B6E880",
           "#FF97FF",
           "#FECB52"
          ],
          "font": {
           "color": "#2a3f5f"
          },
          "geo": {
           "bgcolor": "white",
           "lakecolor": "white",
           "landcolor": "#E5ECF6",
           "showlakes": true,
           "showland": true,
           "subunitcolor": "white"
          },
          "hoverlabel": {
           "align": "left"
          },
          "hovermode": "closest",
          "mapbox": {
           "style": "light"
          },
          "paper_bgcolor": "white",
          "plot_bgcolor": "#E5ECF6",
          "polar": {
           "angularaxis": {
            "gridcolor": "white",
            "linecolor": "white",
            "ticks": ""
           },
           "bgcolor": "#E5ECF6",
           "radialaxis": {
            "gridcolor": "white",
            "linecolor": "white",
            "ticks": ""
           }
          },
          "scene": {
           "xaxis": {
            "backgroundcolor": "#E5ECF6",
            "gridcolor": "white",
            "gridwidth": 2,
            "linecolor": "white",
            "showbackground": true,
            "ticks": "",
            "zerolinecolor": "white"
           },
           "yaxis": {
            "backgroundcolor": "#E5ECF6",
            "gridcolor": "white",
            "gridwidth": 2,
            "linecolor": "white",
            "showbackground": true,
            "ticks": "",
            "zerolinecolor": "white"
           },
           "zaxis": {
            "backgroundcolor": "#E5ECF6",
            "gridcolor": "white",
            "gridwidth": 2,
            "linecolor": "white",
            "showbackground": true,
            "ticks": "",
            "zerolinecolor": "white"
           }
          },
          "shapedefaults": {
           "line": {
            "color": "#2a3f5f"
           }
          },
          "ternary": {
           "aaxis": {
            "gridcolor": "white",
            "linecolor": "white",
            "ticks": ""
           },
           "baxis": {
            "gridcolor": "white",
            "linecolor": "white",
            "ticks": ""
           },
           "bgcolor": "#E5ECF6",
           "caxis": {
            "gridcolor": "white",
            "linecolor": "white",
            "ticks": ""
           }
          },
          "title": {
           "x": 0.05
          },
          "xaxis": {
           "automargin": true,
           "gridcolor": "white",
           "linecolor": "white",
           "ticks": "",
           "zerolinecolor": "white",
           "zerolinewidth": 2
          },
          "yaxis": {
           "automargin": true,
           "gridcolor": "white",
           "linecolor": "white",
           "ticks": "",
           "zerolinecolor": "white",
           "zerolinewidth": 2
          }
         }
        },
        "title": {
         "text": "Coeficiente de Silhueta K-means"
        },
        "xaxis": {
         "title": {
          "text": "Valores de ‘k’ "
         }
        },
        "yaxis": {
         "title": {
          "text": "Coeficiente de Silhueta"
         }
        }
       }
      },
      "text/html": [
       "<div>\n",
       "        \n",
       "        \n",
       "            <div id=\"2b6b6060-fc32-4c46-970e-b27a14261d98\" class=\"plotly-graph-div\" style=\"height:525px; width:100%;\"></div>\n",
       "            <script type=\"text/javascript\">\n",
       "                require([\"plotly\"], function(Plotly) {\n",
       "                    window.PLOTLYENV=window.PLOTLYENV || {};\n",
       "                    \n",
       "                if (document.getElementById(\"2b6b6060-fc32-4c46-970e-b27a14261d98\")) {\n",
       "                    Plotly.newPlot(\n",
       "                        '2b6b6060-fc32-4c46-970e-b27a14261d98',\n",
       "                        [{\"type\": \"scatter\", \"x\": [2, 3, 4, 5, 6, 7, 8, 9], \"y\": [0.3450438553643069, 0.3695061849273629, 0.30517494726218314, 0.28974242321124183, 0.19877453494039896, 0.23589666524782207, 0.14523649591827986, 0.13917640935284764]}],\n",
       "                        {\"font\": {\"color\": \"#7f7f7f\", \"family\": \"Courier New, monospace\", \"size\": 18}, \"template\": {\"data\": {\"bar\": [{\"error_x\": {\"color\": \"#2a3f5f\"}, \"error_y\": {\"color\": \"#2a3f5f\"}, \"marker\": {\"line\": {\"color\": \"#E5ECF6\", \"width\": 0.5}}, \"type\": \"bar\"}], \"barpolar\": [{\"marker\": {\"line\": {\"color\": \"#E5ECF6\", \"width\": 0.5}}, \"type\": \"barpolar\"}], \"carpet\": [{\"aaxis\": {\"endlinecolor\": \"#2a3f5f\", \"gridcolor\": \"white\", \"linecolor\": \"white\", \"minorgridcolor\": \"white\", \"startlinecolor\": \"#2a3f5f\"}, \"baxis\": {\"endlinecolor\": \"#2a3f5f\", \"gridcolor\": \"white\", \"linecolor\": \"white\", \"minorgridcolor\": \"white\", \"startlinecolor\": \"#2a3f5f\"}, \"type\": \"carpet\"}], \"choropleth\": [{\"colorbar\": {\"outlinewidth\": 0, \"ticks\": \"\"}, \"type\": \"choropleth\"}], \"contour\": [{\"colorbar\": {\"outlinewidth\": 0, \"ticks\": \"\"}, \"colorscale\": [[0.0, \"#0d0887\"], [0.1111111111111111, \"#46039f\"], [0.2222222222222222, \"#7201a8\"], [0.3333333333333333, \"#9c179e\"], [0.4444444444444444, \"#bd3786\"], [0.5555555555555556, \"#d8576b\"], [0.6666666666666666, \"#ed7953\"], [0.7777777777777778, \"#fb9f3a\"], [0.8888888888888888, \"#fdca26\"], [1.0, \"#f0f921\"]], \"type\": \"contour\"}], \"contourcarpet\": [{\"colorbar\": {\"outlinewidth\": 0, \"ticks\": \"\"}, \"type\": \"contourcarpet\"}], \"heatmap\": [{\"colorbar\": {\"outlinewidth\": 0, \"ticks\": \"\"}, \"colorscale\": [[0.0, \"#0d0887\"], [0.1111111111111111, \"#46039f\"], [0.2222222222222222, \"#7201a8\"], [0.3333333333333333, \"#9c179e\"], [0.4444444444444444, \"#bd3786\"], [0.5555555555555556, \"#d8576b\"], [0.6666666666666666, \"#ed7953\"], [0.7777777777777778, \"#fb9f3a\"], [0.8888888888888888, \"#fdca26\"], [1.0, \"#f0f921\"]], \"type\": \"heatmap\"}], \"heatmapgl\": [{\"colorbar\": {\"outlinewidth\": 0, \"ticks\": \"\"}, \"colorscale\": [[0.0, \"#0d0887\"], [0.1111111111111111, \"#46039f\"], [0.2222222222222222, \"#7201a8\"], [0.3333333333333333, \"#9c179e\"], [0.4444444444444444, \"#bd3786\"], [0.5555555555555556, \"#d8576b\"], [0.6666666666666666, \"#ed7953\"], [0.7777777777777778, \"#fb9f3a\"], [0.8888888888888888, \"#fdca26\"], [1.0, \"#f0f921\"]], \"type\": \"heatmapgl\"}], \"histogram\": [{\"marker\": {\"colorbar\": {\"outlinewidth\": 0, \"ticks\": \"\"}}, \"type\": \"histogram\"}], \"histogram2d\": [{\"colorbar\": {\"outlinewidth\": 0, \"ticks\": \"\"}, \"colorscale\": [[0.0, \"#0d0887\"], [0.1111111111111111, \"#46039f\"], [0.2222222222222222, \"#7201a8\"], [0.3333333333333333, \"#9c179e\"], [0.4444444444444444, \"#bd3786\"], [0.5555555555555556, \"#d8576b\"], [0.6666666666666666, \"#ed7953\"], [0.7777777777777778, \"#fb9f3a\"], [0.8888888888888888, \"#fdca26\"], [1.0, \"#f0f921\"]], \"type\": \"histogram2d\"}], \"histogram2dcontour\": [{\"colorbar\": {\"outlinewidth\": 0, \"ticks\": \"\"}, \"colorscale\": [[0.0, \"#0d0887\"], [0.1111111111111111, \"#46039f\"], [0.2222222222222222, \"#7201a8\"], [0.3333333333333333, \"#9c179e\"], [0.4444444444444444, \"#bd3786\"], [0.5555555555555556, \"#d8576b\"], [0.6666666666666666, \"#ed7953\"], [0.7777777777777778, \"#fb9f3a\"], [0.8888888888888888, \"#fdca26\"], [1.0, \"#f0f921\"]], \"type\": \"histogram2dcontour\"}], \"mesh3d\": [{\"colorbar\": {\"outlinewidth\": 0, \"ticks\": \"\"}, \"type\": \"mesh3d\"}], \"parcoords\": [{\"line\": {\"colorbar\": {\"outlinewidth\": 0, \"ticks\": \"\"}}, \"type\": \"parcoords\"}], \"scatter\": [{\"marker\": {\"colorbar\": {\"outlinewidth\": 0, \"ticks\": \"\"}}, \"type\": \"scatter\"}], \"scatter3d\": [{\"line\": {\"colorbar\": {\"outlinewidth\": 0, \"ticks\": \"\"}}, \"marker\": {\"colorbar\": {\"outlinewidth\": 0, \"ticks\": \"\"}}, \"type\": \"scatter3d\"}], \"scattercarpet\": [{\"marker\": {\"colorbar\": {\"outlinewidth\": 0, \"ticks\": \"\"}}, \"type\": \"scattercarpet\"}], \"scattergeo\": [{\"marker\": {\"colorbar\": {\"outlinewidth\": 0, \"ticks\": \"\"}}, \"type\": \"scattergeo\"}], \"scattergl\": [{\"marker\": {\"colorbar\": {\"outlinewidth\": 0, \"ticks\": \"\"}}, \"type\": \"scattergl\"}], \"scattermapbox\": [{\"marker\": {\"colorbar\": {\"outlinewidth\": 0, \"ticks\": \"\"}}, \"type\": \"scattermapbox\"}], \"scatterpolar\": [{\"marker\": {\"colorbar\": {\"outlinewidth\": 0, \"ticks\": \"\"}}, \"type\": \"scatterpolar\"}], \"scatterpolargl\": [{\"marker\": {\"colorbar\": {\"outlinewidth\": 0, \"ticks\": \"\"}}, \"type\": \"scatterpolargl\"}], \"scatterternary\": [{\"marker\": {\"colorbar\": {\"outlinewidth\": 0, \"ticks\": \"\"}}, \"type\": \"scatterternary\"}], \"surface\": [{\"colorbar\": {\"outlinewidth\": 0, \"ticks\": \"\"}, \"colorscale\": [[0.0, \"#0d0887\"], [0.1111111111111111, \"#46039f\"], [0.2222222222222222, \"#7201a8\"], [0.3333333333333333, \"#9c179e\"], [0.4444444444444444, \"#bd3786\"], [0.5555555555555556, \"#d8576b\"], [0.6666666666666666, \"#ed7953\"], [0.7777777777777778, \"#fb9f3a\"], [0.8888888888888888, \"#fdca26\"], [1.0, \"#f0f921\"]], \"type\": \"surface\"}], \"table\": [{\"cells\": {\"fill\": {\"color\": \"#EBF0F8\"}, \"line\": {\"color\": \"white\"}}, \"header\": {\"fill\": {\"color\": \"#C8D4E3\"}, \"line\": {\"color\": \"white\"}}, \"type\": \"table\"}]}, \"layout\": {\"annotationdefaults\": {\"arrowcolor\": \"#2a3f5f\", \"arrowhead\": 0, \"arrowwidth\": 1}, \"colorscale\": {\"diverging\": [[0, \"#8e0152\"], [0.1, \"#c51b7d\"], [0.2, \"#de77ae\"], [0.3, \"#f1b6da\"], [0.4, \"#fde0ef\"], [0.5, \"#f7f7f7\"], [0.6, \"#e6f5d0\"], [0.7, \"#b8e186\"], [0.8, \"#7fbc41\"], [0.9, \"#4d9221\"], [1, \"#276419\"]], \"sequential\": [[0.0, \"#0d0887\"], [0.1111111111111111, \"#46039f\"], [0.2222222222222222, \"#7201a8\"], [0.3333333333333333, \"#9c179e\"], [0.4444444444444444, \"#bd3786\"], [0.5555555555555556, \"#d8576b\"], [0.6666666666666666, \"#ed7953\"], [0.7777777777777778, \"#fb9f3a\"], [0.8888888888888888, \"#fdca26\"], [1.0, \"#f0f921\"]], \"sequentialminus\": [[0.0, \"#0d0887\"], [0.1111111111111111, \"#46039f\"], [0.2222222222222222, \"#7201a8\"], [0.3333333333333333, \"#9c179e\"], [0.4444444444444444, \"#bd3786\"], [0.5555555555555556, \"#d8576b\"], [0.6666666666666666, \"#ed7953\"], [0.7777777777777778, \"#fb9f3a\"], [0.8888888888888888, \"#fdca26\"], [1.0, \"#f0f921\"]]}, \"colorway\": [\"#636efa\", \"#EF553B\", \"#00cc96\", \"#ab63fa\", \"#FFA15A\", \"#19d3f3\", \"#FF6692\", \"#B6E880\", \"#FF97FF\", \"#FECB52\"], \"font\": {\"color\": \"#2a3f5f\"}, \"geo\": {\"bgcolor\": \"white\", \"lakecolor\": \"white\", \"landcolor\": \"#E5ECF6\", \"showlakes\": true, \"showland\": true, \"subunitcolor\": \"white\"}, \"hoverlabel\": {\"align\": \"left\"}, \"hovermode\": \"closest\", \"mapbox\": {\"style\": \"light\"}, \"paper_bgcolor\": \"white\", \"plot_bgcolor\": \"#E5ECF6\", \"polar\": {\"angularaxis\": {\"gridcolor\": \"white\", \"linecolor\": \"white\", \"ticks\": \"\"}, \"bgcolor\": \"#E5ECF6\", \"radialaxis\": {\"gridcolor\": \"white\", \"linecolor\": \"white\", \"ticks\": \"\"}}, \"scene\": {\"xaxis\": {\"backgroundcolor\": \"#E5ECF6\", \"gridcolor\": \"white\", \"gridwidth\": 2, \"linecolor\": \"white\", \"showbackground\": true, \"ticks\": \"\", \"zerolinecolor\": \"white\"}, \"yaxis\": {\"backgroundcolor\": \"#E5ECF6\", \"gridcolor\": \"white\", \"gridwidth\": 2, \"linecolor\": \"white\", \"showbackground\": true, \"ticks\": \"\", \"zerolinecolor\": \"white\"}, \"zaxis\": {\"backgroundcolor\": \"#E5ECF6\", \"gridcolor\": \"white\", \"gridwidth\": 2, \"linecolor\": \"white\", \"showbackground\": true, \"ticks\": \"\", \"zerolinecolor\": \"white\"}}, \"shapedefaults\": {\"line\": {\"color\": \"#2a3f5f\"}}, \"ternary\": {\"aaxis\": {\"gridcolor\": \"white\", \"linecolor\": \"white\", \"ticks\": \"\"}, \"baxis\": {\"gridcolor\": \"white\", \"linecolor\": \"white\", \"ticks\": \"\"}, \"bgcolor\": \"#E5ECF6\", \"caxis\": {\"gridcolor\": \"white\", \"linecolor\": \"white\", \"ticks\": \"\"}}, \"title\": {\"x\": 0.05}, \"xaxis\": {\"automargin\": true, \"gridcolor\": \"white\", \"linecolor\": \"white\", \"ticks\": \"\", \"zerolinecolor\": \"white\", \"zerolinewidth\": 2}, \"yaxis\": {\"automargin\": true, \"gridcolor\": \"white\", \"linecolor\": \"white\", \"ticks\": \"\", \"zerolinecolor\": \"white\", \"zerolinewidth\": 2}}}, \"title\": {\"text\": \"Coeficiente de Silhueta K-means\"}, \"xaxis\": {\"title\": {\"text\": \"Valores de \\u2018k\\u2019 \"}}, \"yaxis\": {\"title\": {\"text\": \"Coeficiente de Silhueta\"}}},\n",
       "                        {\"responsive\": true}\n",
       "                    ).then(function(){\n",
       "                            \n",
       "var gd = document.getElementById('2b6b6060-fc32-4c46-970e-b27a14261d98');\n",
       "var x = new MutationObserver(function (mutations, observer) {{\n",
       "        var display = window.getComputedStyle(gd).display;\n",
       "        if (!display || display === 'none') {{\n",
       "            console.log([gd, 'removed!']);\n",
       "            Plotly.purge(gd);\n",
       "            observer.disconnect();\n",
       "        }}\n",
       "}});\n",
       "\n",
       "// Listen for the removal of the full notebook cells\n",
       "var notebookContainer = gd.closest('#notebook-container');\n",
       "if (notebookContainer) {{\n",
       "    x.observe(notebookContainer, {childList: true});\n",
       "}}\n",
       "\n",
       "// Listen for the clearing of the current output cell\n",
       "var outputEl = gd.closest('.output');\n",
       "if (outputEl) {{\n",
       "    x.observe(outputEl, {childList: true});\n",
       "}}\n",
       "\n",
       "                        })\n",
       "                };\n",
       "                });\n",
       "            </script>\n",
       "        </div>"
      ]
     },
     "metadata": {},
     "output_type": "display_data"
    }
   ],
   "source": [
    "fig =go.Figure()\n",
    "fig.add_trace(go.Scatter(x = faixa_n_clusters, y = valores_silhueta))\n",
    "fig.update_layout(\n",
    "    title=\"Coeficiente de Silhueta K-means\",\n",
    "    xaxis_title=\"Valores de ‘k’ \",\n",
    "    yaxis_title=\"Coeficiente de Silhueta\",\n",
    "    font=dict(\n",
    "        family=\"Courier New, monospace\",\n",
    "        size=18,\n",
    "        color=\"#7f7f7f\"\n",
    "    )\n",
    ")\n",
    "fig.show()"
   ]
  },
  {
   "cell_type": "code",
   "execution_count": 133,
   "id": "13071983",
   "metadata": {},
   "outputs": [
    {
     "data": {
      "text/plain": [
       "array([0.02      , 0.03655172, 0.05310345, 0.06965517, 0.0862069 ,\n",
       "       0.10275862, 0.11931034, 0.13586207, 0.15241379, 0.16896552,\n",
       "       0.18551724, 0.20206897, 0.21862069, 0.23517241, 0.25172414,\n",
       "       0.26827586, 0.28482759, 0.30137931, 0.31793103, 0.33448276,\n",
       "       0.35103448, 0.36758621, 0.38413793, 0.40068966, 0.41724138,\n",
       "       0.4337931 , 0.45034483, 0.46689655, 0.48344828, 0.5       ])"
      ]
     },
     "execution_count": 133,
     "metadata": {},
     "output_type": "execute_result"
    }
   ],
   "source": [
    "faixa_quantil = np.linspace(0.02, 0.5, 30)\n",
    "faixa_quantil"
   ]
  },
  {
   "cell_type": "code",
   "execution_count": 134,
   "id": "df9f8c90",
   "metadata": {},
   "outputs": [],
   "source": [
    "valores_silhueta = []\n",
    "quantil_plot = []\n",
    "for quantil in faixa_quantil:\n",
    "    bandwidth = estimate_bandwidth(df, quantile= quantil)\n",
    "    agrupador = MeanShift(bandwidth= bandwidth)\n",
    "    labels = agrupador.fit_predict(df)\n",
    "    if(len(np.unique(labels)) < len(df) and len(np.unique(labels)) >1):\n",
    "        media_silhueta = silhouette_score(df, labels)\n",
    "        valores_silhueta.append(media_silhueta)\n",
    "        quantil_plot.append(quantil)"
   ]
  },
  {
   "cell_type": "code",
   "execution_count": 135,
   "id": "0d1076f5",
   "metadata": {},
   "outputs": [
    {
     "data": {
      "application/vnd.plotly.v1+json": {
       "config": {
        "plotlyServerURL": "https://plot.ly"
       },
       "data": [
        {
         "type": "scatter",
         "x": [
          0.02,
          0.036551724137931035,
          0.05310344827586207,
          0.06965517241379311,
          0.08620689655172414,
          0.10275862068965518,
          0.11931034482758622,
          0.13586206896551725,
          0.15241379310344827,
          0.16896551724137931,
          0.18551724137931033,
          0.20206896551724138,
          0.21862068965517242,
          0.23517241379310344,
          0.2517241379310345,
          0.26827586206896553,
          0.2848275862068966,
          0.3013793103448276,
          0.31793103448275867
         ],
         "y": [
          0.06885772218718554,
          0.12695730208514433,
          0.21222500077088086,
          0.2286093688267213,
          0.23175840581451423,
          0.2424007598945052,
          0.2415047883060416,
          0.2806108487403229,
          0.29012683820901636,
          0.31458072630392764,
          0.34482478134958616,
          0.3435317354353202,
          0.3435317354353202,
          0.2030594510891413,
          0.22791764552102659,
          0.30638538825691175,
          0.30672378482144286,
          0.2075835283919293,
          0.2075835283919293
         ]
        }
       ],
       "layout": {
        "font": {
         "color": "#7f7f7f",
         "family": "Courier New, monospace",
         "size": 18
        },
        "template": {
         "data": {
          "bar": [
           {
            "error_x": {
             "color": "#2a3f5f"
            },
            "error_y": {
             "color": "#2a3f5f"
            },
            "marker": {
             "line": {
              "color": "#E5ECF6",
              "width": 0.5
             }
            },
            "type": "bar"
           }
          ],
          "barpolar": [
           {
            "marker": {
             "line": {
              "color": "#E5ECF6",
              "width": 0.5
             }
            },
            "type": "barpolar"
           }
          ],
          "carpet": [
           {
            "aaxis": {
             "endlinecolor": "#2a3f5f",
             "gridcolor": "white",
             "linecolor": "white",
             "minorgridcolor": "white",
             "startlinecolor": "#2a3f5f"
            },
            "baxis": {
             "endlinecolor": "#2a3f5f",
             "gridcolor": "white",
             "linecolor": "white",
             "minorgridcolor": "white",
             "startlinecolor": "#2a3f5f"
            },
            "type": "carpet"
           }
          ],
          "choropleth": [
           {
            "colorbar": {
             "outlinewidth": 0,
             "ticks": ""
            },
            "type": "choropleth"
           }
          ],
          "contour": [
           {
            "colorbar": {
             "outlinewidth": 0,
             "ticks": ""
            },
            "colorscale": [
             [
              0,
              "#0d0887"
             ],
             [
              0.1111111111111111,
              "#46039f"
             ],
             [
              0.2222222222222222,
              "#7201a8"
             ],
             [
              0.3333333333333333,
              "#9c179e"
             ],
             [
              0.4444444444444444,
              "#bd3786"
             ],
             [
              0.5555555555555556,
              "#d8576b"
             ],
             [
              0.6666666666666666,
              "#ed7953"
             ],
             [
              0.7777777777777778,
              "#fb9f3a"
             ],
             [
              0.8888888888888888,
              "#fdca26"
             ],
             [
              1,
              "#f0f921"
             ]
            ],
            "type": "contour"
           }
          ],
          "contourcarpet": [
           {
            "colorbar": {
             "outlinewidth": 0,
             "ticks": ""
            },
            "type": "contourcarpet"
           }
          ],
          "heatmap": [
           {
            "colorbar": {
             "outlinewidth": 0,
             "ticks": ""
            },
            "colorscale": [
             [
              0,
              "#0d0887"
             ],
             [
              0.1111111111111111,
              "#46039f"
             ],
             [
              0.2222222222222222,
              "#7201a8"
             ],
             [
              0.3333333333333333,
              "#9c179e"
             ],
             [
              0.4444444444444444,
              "#bd3786"
             ],
             [
              0.5555555555555556,
              "#d8576b"
             ],
             [
              0.6666666666666666,
              "#ed7953"
             ],
             [
              0.7777777777777778,
              "#fb9f3a"
             ],
             [
              0.8888888888888888,
              "#fdca26"
             ],
             [
              1,
              "#f0f921"
             ]
            ],
            "type": "heatmap"
           }
          ],
          "heatmapgl": [
           {
            "colorbar": {
             "outlinewidth": 0,
             "ticks": ""
            },
            "colorscale": [
             [
              0,
              "#0d0887"
             ],
             [
              0.1111111111111111,
              "#46039f"
             ],
             [
              0.2222222222222222,
              "#7201a8"
             ],
             [
              0.3333333333333333,
              "#9c179e"
             ],
             [
              0.4444444444444444,
              "#bd3786"
             ],
             [
              0.5555555555555556,
              "#d8576b"
             ],
             [
              0.6666666666666666,
              "#ed7953"
             ],
             [
              0.7777777777777778,
              "#fb9f3a"
             ],
             [
              0.8888888888888888,
              "#fdca26"
             ],
             [
              1,
              "#f0f921"
             ]
            ],
            "type": "heatmapgl"
           }
          ],
          "histogram": [
           {
            "marker": {
             "colorbar": {
              "outlinewidth": 0,
              "ticks": ""
             }
            },
            "type": "histogram"
           }
          ],
          "histogram2d": [
           {
            "colorbar": {
             "outlinewidth": 0,
             "ticks": ""
            },
            "colorscale": [
             [
              0,
              "#0d0887"
             ],
             [
              0.1111111111111111,
              "#46039f"
             ],
             [
              0.2222222222222222,
              "#7201a8"
             ],
             [
              0.3333333333333333,
              "#9c179e"
             ],
             [
              0.4444444444444444,
              "#bd3786"
             ],
             [
              0.5555555555555556,
              "#d8576b"
             ],
             [
              0.6666666666666666,
              "#ed7953"
             ],
             [
              0.7777777777777778,
              "#fb9f3a"
             ],
             [
              0.8888888888888888,
              "#fdca26"
             ],
             [
              1,
              "#f0f921"
             ]
            ],
            "type": "histogram2d"
           }
          ],
          "histogram2dcontour": [
           {
            "colorbar": {
             "outlinewidth": 0,
             "ticks": ""
            },
            "colorscale": [
             [
              0,
              "#0d0887"
             ],
             [
              0.1111111111111111,
              "#46039f"
             ],
             [
              0.2222222222222222,
              "#7201a8"
             ],
             [
              0.3333333333333333,
              "#9c179e"
             ],
             [
              0.4444444444444444,
              "#bd3786"
             ],
             [
              0.5555555555555556,
              "#d8576b"
             ],
             [
              0.6666666666666666,
              "#ed7953"
             ],
             [
              0.7777777777777778,
              "#fb9f3a"
             ],
             [
              0.8888888888888888,
              "#fdca26"
             ],
             [
              1,
              "#f0f921"
             ]
            ],
            "type": "histogram2dcontour"
           }
          ],
          "mesh3d": [
           {
            "colorbar": {
             "outlinewidth": 0,
             "ticks": ""
            },
            "type": "mesh3d"
           }
          ],
          "parcoords": [
           {
            "line": {
             "colorbar": {
              "outlinewidth": 0,
              "ticks": ""
             }
            },
            "type": "parcoords"
           }
          ],
          "scatter": [
           {
            "marker": {
             "colorbar": {
              "outlinewidth": 0,
              "ticks": ""
             }
            },
            "type": "scatter"
           }
          ],
          "scatter3d": [
           {
            "line": {
             "colorbar": {
              "outlinewidth": 0,
              "ticks": ""
             }
            },
            "marker": {
             "colorbar": {
              "outlinewidth": 0,
              "ticks": ""
             }
            },
            "type": "scatter3d"
           }
          ],
          "scattercarpet": [
           {
            "marker": {
             "colorbar": {
              "outlinewidth": 0,
              "ticks": ""
             }
            },
            "type": "scattercarpet"
           }
          ],
          "scattergeo": [
           {
            "marker": {
             "colorbar": {
              "outlinewidth": 0,
              "ticks": ""
             }
            },
            "type": "scattergeo"
           }
          ],
          "scattergl": [
           {
            "marker": {
             "colorbar": {
              "outlinewidth": 0,
              "ticks": ""
             }
            },
            "type": "scattergl"
           }
          ],
          "scattermapbox": [
           {
            "marker": {
             "colorbar": {
              "outlinewidth": 0,
              "ticks": ""
             }
            },
            "type": "scattermapbox"
           }
          ],
          "scatterpolar": [
           {
            "marker": {
             "colorbar": {
              "outlinewidth": 0,
              "ticks": ""
             }
            },
            "type": "scatterpolar"
           }
          ],
          "scatterpolargl": [
           {
            "marker": {
             "colorbar": {
              "outlinewidth": 0,
              "ticks": ""
             }
            },
            "type": "scatterpolargl"
           }
          ],
          "scatterternary": [
           {
            "marker": {
             "colorbar": {
              "outlinewidth": 0,
              "ticks": ""
             }
            },
            "type": "scatterternary"
           }
          ],
          "surface": [
           {
            "colorbar": {
             "outlinewidth": 0,
             "ticks": ""
            },
            "colorscale": [
             [
              0,
              "#0d0887"
             ],
             [
              0.1111111111111111,
              "#46039f"
             ],
             [
              0.2222222222222222,
              "#7201a8"
             ],
             [
              0.3333333333333333,
              "#9c179e"
             ],
             [
              0.4444444444444444,
              "#bd3786"
             ],
             [
              0.5555555555555556,
              "#d8576b"
             ],
             [
              0.6666666666666666,
              "#ed7953"
             ],
             [
              0.7777777777777778,
              "#fb9f3a"
             ],
             [
              0.8888888888888888,
              "#fdca26"
             ],
             [
              1,
              "#f0f921"
             ]
            ],
            "type": "surface"
           }
          ],
          "table": [
           {
            "cells": {
             "fill": {
              "color": "#EBF0F8"
             },
             "line": {
              "color": "white"
             }
            },
            "header": {
             "fill": {
              "color": "#C8D4E3"
             },
             "line": {
              "color": "white"
             }
            },
            "type": "table"
           }
          ]
         },
         "layout": {
          "annotationdefaults": {
           "arrowcolor": "#2a3f5f",
           "arrowhead": 0,
           "arrowwidth": 1
          },
          "colorscale": {
           "diverging": [
            [
             0,
             "#8e0152"
            ],
            [
             0.1,
             "#c51b7d"
            ],
            [
             0.2,
             "#de77ae"
            ],
            [
             0.3,
             "#f1b6da"
            ],
            [
             0.4,
             "#fde0ef"
            ],
            [
             0.5,
             "#f7f7f7"
            ],
            [
             0.6,
             "#e6f5d0"
            ],
            [
             0.7,
             "#b8e186"
            ],
            [
             0.8,
             "#7fbc41"
            ],
            [
             0.9,
             "#4d9221"
            ],
            [
             1,
             "#276419"
            ]
           ],
           "sequential": [
            [
             0,
             "#0d0887"
            ],
            [
             0.1111111111111111,
             "#46039f"
            ],
            [
             0.2222222222222222,
             "#7201a8"
            ],
            [
             0.3333333333333333,
             "#9c179e"
            ],
            [
             0.4444444444444444,
             "#bd3786"
            ],
            [
             0.5555555555555556,
             "#d8576b"
            ],
            [
             0.6666666666666666,
             "#ed7953"
            ],
            [
             0.7777777777777778,
             "#fb9f3a"
            ],
            [
             0.8888888888888888,
             "#fdca26"
            ],
            [
             1,
             "#f0f921"
            ]
           ],
           "sequentialminus": [
            [
             0,
             "#0d0887"
            ],
            [
             0.1111111111111111,
             "#46039f"
            ],
            [
             0.2222222222222222,
             "#7201a8"
            ],
            [
             0.3333333333333333,
             "#9c179e"
            ],
            [
             0.4444444444444444,
             "#bd3786"
            ],
            [
             0.5555555555555556,
             "#d8576b"
            ],
            [
             0.6666666666666666,
             "#ed7953"
            ],
            [
             0.7777777777777778,
             "#fb9f3a"
            ],
            [
             0.8888888888888888,
             "#fdca26"
            ],
            [
             1,
             "#f0f921"
            ]
           ]
          },
          "colorway": [
           "#636efa",
           "#EF553B",
           "#00cc96",
           "#ab63fa",
           "#FFA15A",
           "#19d3f3",
           "#FF6692",
           "#B6E880",
           "#FF97FF",
           "#FECB52"
          ],
          "font": {
           "color": "#2a3f5f"
          },
          "geo": {
           "bgcolor": "white",
           "lakecolor": "white",
           "landcolor": "#E5ECF6",
           "showlakes": true,
           "showland": true,
           "subunitcolor": "white"
          },
          "hoverlabel": {
           "align": "left"
          },
          "hovermode": "closest",
          "mapbox": {
           "style": "light"
          },
          "paper_bgcolor": "white",
          "plot_bgcolor": "#E5ECF6",
          "polar": {
           "angularaxis": {
            "gridcolor": "white",
            "linecolor": "white",
            "ticks": ""
           },
           "bgcolor": "#E5ECF6",
           "radialaxis": {
            "gridcolor": "white",
            "linecolor": "white",
            "ticks": ""
           }
          },
          "scene": {
           "xaxis": {
            "backgroundcolor": "#E5ECF6",
            "gridcolor": "white",
            "gridwidth": 2,
            "linecolor": "white",
            "showbackground": true,
            "ticks": "",
            "zerolinecolor": "white"
           },
           "yaxis": {
            "backgroundcolor": "#E5ECF6",
            "gridcolor": "white",
            "gridwidth": 2,
            "linecolor": "white",
            "showbackground": true,
            "ticks": "",
            "zerolinecolor": "white"
           },
           "zaxis": {
            "backgroundcolor": "#E5ECF6",
            "gridcolor": "white",
            "gridwidth": 2,
            "linecolor": "white",
            "showbackground": true,
            "ticks": "",
            "zerolinecolor": "white"
           }
          },
          "shapedefaults": {
           "line": {
            "color": "#2a3f5f"
           }
          },
          "ternary": {
           "aaxis": {
            "gridcolor": "white",
            "linecolor": "white",
            "ticks": ""
           },
           "baxis": {
            "gridcolor": "white",
            "linecolor": "white",
            "ticks": ""
           },
           "bgcolor": "#E5ECF6",
           "caxis": {
            "gridcolor": "white",
            "linecolor": "white",
            "ticks": ""
           }
          },
          "title": {
           "x": 0.05
          },
          "xaxis": {
           "automargin": true,
           "gridcolor": "white",
           "linecolor": "white",
           "ticks": "",
           "zerolinecolor": "white",
           "zerolinewidth": 2
          },
          "yaxis": {
           "automargin": true,
           "gridcolor": "white",
           "linecolor": "white",
           "ticks": "",
           "zerolinecolor": "white",
           "zerolinewidth": 2
          }
         }
        },
        "title": {
         "text": "Coeficiente de Silhueta para o Mean shift"
        },
        "xaxis": {
         "title": {
          "text": "Valores dos quantis"
         }
        },
        "yaxis": {
         "title": {
          "text": "Coeficiente de Silhueta"
         }
        }
       }
      },
      "text/html": [
       "<div>\n",
       "        \n",
       "        \n",
       "            <div id=\"a8fb3db2-b541-4153-94f7-eb4e0238d714\" class=\"plotly-graph-div\" style=\"height:525px; width:100%;\"></div>\n",
       "            <script type=\"text/javascript\">\n",
       "                require([\"plotly\"], function(Plotly) {\n",
       "                    window.PLOTLYENV=window.PLOTLYENV || {};\n",
       "                    \n",
       "                if (document.getElementById(\"a8fb3db2-b541-4153-94f7-eb4e0238d714\")) {\n",
       "                    Plotly.newPlot(\n",
       "                        'a8fb3db2-b541-4153-94f7-eb4e0238d714',\n",
       "                        [{\"type\": \"scatter\", \"x\": [0.02, 0.036551724137931035, 0.05310344827586207, 0.06965517241379311, 0.08620689655172414, 0.10275862068965518, 0.11931034482758622, 0.13586206896551725, 0.15241379310344827, 0.16896551724137931, 0.18551724137931033, 0.20206896551724138, 0.21862068965517242, 0.23517241379310344, 0.2517241379310345, 0.26827586206896553, 0.2848275862068966, 0.3013793103448276, 0.31793103448275867], \"y\": [0.06885772218718554, 0.12695730208514433, 0.21222500077088086, 0.2286093688267213, 0.23175840581451423, 0.2424007598945052, 0.2415047883060416, 0.2806108487403229, 0.29012683820901636, 0.31458072630392764, 0.34482478134958616, 0.3435317354353202, 0.3435317354353202, 0.2030594510891413, 0.22791764552102659, 0.30638538825691175, 0.30672378482144286, 0.2075835283919293, 0.2075835283919293]}],\n",
       "                        {\"font\": {\"color\": \"#7f7f7f\", \"family\": \"Courier New, monospace\", \"size\": 18}, \"template\": {\"data\": {\"bar\": [{\"error_x\": {\"color\": \"#2a3f5f\"}, \"error_y\": {\"color\": \"#2a3f5f\"}, \"marker\": {\"line\": {\"color\": \"#E5ECF6\", \"width\": 0.5}}, \"type\": \"bar\"}], \"barpolar\": [{\"marker\": {\"line\": {\"color\": \"#E5ECF6\", \"width\": 0.5}}, \"type\": \"barpolar\"}], \"carpet\": [{\"aaxis\": {\"endlinecolor\": \"#2a3f5f\", \"gridcolor\": \"white\", \"linecolor\": \"white\", \"minorgridcolor\": \"white\", \"startlinecolor\": \"#2a3f5f\"}, \"baxis\": {\"endlinecolor\": \"#2a3f5f\", \"gridcolor\": \"white\", \"linecolor\": \"white\", \"minorgridcolor\": \"white\", \"startlinecolor\": \"#2a3f5f\"}, \"type\": \"carpet\"}], \"choropleth\": [{\"colorbar\": {\"outlinewidth\": 0, \"ticks\": \"\"}, \"type\": \"choropleth\"}], \"contour\": [{\"colorbar\": {\"outlinewidth\": 0, \"ticks\": \"\"}, \"colorscale\": [[0.0, \"#0d0887\"], [0.1111111111111111, \"#46039f\"], [0.2222222222222222, \"#7201a8\"], [0.3333333333333333, \"#9c179e\"], [0.4444444444444444, \"#bd3786\"], [0.5555555555555556, \"#d8576b\"], [0.6666666666666666, \"#ed7953\"], [0.7777777777777778, \"#fb9f3a\"], [0.8888888888888888, \"#fdca26\"], [1.0, \"#f0f921\"]], \"type\": \"contour\"}], \"contourcarpet\": [{\"colorbar\": {\"outlinewidth\": 0, \"ticks\": \"\"}, \"type\": \"contourcarpet\"}], \"heatmap\": [{\"colorbar\": {\"outlinewidth\": 0, \"ticks\": \"\"}, \"colorscale\": [[0.0, \"#0d0887\"], [0.1111111111111111, \"#46039f\"], [0.2222222222222222, \"#7201a8\"], [0.3333333333333333, \"#9c179e\"], [0.4444444444444444, \"#bd3786\"], [0.5555555555555556, \"#d8576b\"], [0.6666666666666666, \"#ed7953\"], [0.7777777777777778, \"#fb9f3a\"], [0.8888888888888888, \"#fdca26\"], [1.0, \"#f0f921\"]], \"type\": \"heatmap\"}], \"heatmapgl\": [{\"colorbar\": {\"outlinewidth\": 0, \"ticks\": \"\"}, \"colorscale\": [[0.0, \"#0d0887\"], [0.1111111111111111, \"#46039f\"], [0.2222222222222222, \"#7201a8\"], [0.3333333333333333, \"#9c179e\"], [0.4444444444444444, \"#bd3786\"], [0.5555555555555556, \"#d8576b\"], [0.6666666666666666, \"#ed7953\"], [0.7777777777777778, \"#fb9f3a\"], [0.8888888888888888, \"#fdca26\"], [1.0, \"#f0f921\"]], \"type\": \"heatmapgl\"}], \"histogram\": [{\"marker\": {\"colorbar\": {\"outlinewidth\": 0, \"ticks\": \"\"}}, \"type\": \"histogram\"}], \"histogram2d\": [{\"colorbar\": {\"outlinewidth\": 0, \"ticks\": \"\"}, \"colorscale\": [[0.0, \"#0d0887\"], [0.1111111111111111, \"#46039f\"], [0.2222222222222222, \"#7201a8\"], [0.3333333333333333, \"#9c179e\"], [0.4444444444444444, \"#bd3786\"], [0.5555555555555556, \"#d8576b\"], [0.6666666666666666, \"#ed7953\"], [0.7777777777777778, \"#fb9f3a\"], [0.8888888888888888, \"#fdca26\"], [1.0, \"#f0f921\"]], \"type\": \"histogram2d\"}], \"histogram2dcontour\": [{\"colorbar\": {\"outlinewidth\": 0, \"ticks\": \"\"}, \"colorscale\": [[0.0, \"#0d0887\"], [0.1111111111111111, \"#46039f\"], [0.2222222222222222, \"#7201a8\"], [0.3333333333333333, \"#9c179e\"], [0.4444444444444444, \"#bd3786\"], [0.5555555555555556, \"#d8576b\"], [0.6666666666666666, \"#ed7953\"], [0.7777777777777778, \"#fb9f3a\"], [0.8888888888888888, \"#fdca26\"], [1.0, \"#f0f921\"]], \"type\": \"histogram2dcontour\"}], \"mesh3d\": [{\"colorbar\": {\"outlinewidth\": 0, \"ticks\": \"\"}, \"type\": \"mesh3d\"}], \"parcoords\": [{\"line\": {\"colorbar\": {\"outlinewidth\": 0, \"ticks\": \"\"}}, \"type\": \"parcoords\"}], \"scatter\": [{\"marker\": {\"colorbar\": {\"outlinewidth\": 0, \"ticks\": \"\"}}, \"type\": \"scatter\"}], \"scatter3d\": [{\"line\": {\"colorbar\": {\"outlinewidth\": 0, \"ticks\": \"\"}}, \"marker\": {\"colorbar\": {\"outlinewidth\": 0, \"ticks\": \"\"}}, \"type\": \"scatter3d\"}], \"scattercarpet\": [{\"marker\": {\"colorbar\": {\"outlinewidth\": 0, \"ticks\": \"\"}}, \"type\": \"scattercarpet\"}], \"scattergeo\": [{\"marker\": {\"colorbar\": {\"outlinewidth\": 0, \"ticks\": \"\"}}, \"type\": \"scattergeo\"}], \"scattergl\": [{\"marker\": {\"colorbar\": {\"outlinewidth\": 0, \"ticks\": \"\"}}, \"type\": \"scattergl\"}], \"scattermapbox\": [{\"marker\": {\"colorbar\": {\"outlinewidth\": 0, \"ticks\": \"\"}}, \"type\": \"scattermapbox\"}], \"scatterpolar\": [{\"marker\": {\"colorbar\": {\"outlinewidth\": 0, \"ticks\": \"\"}}, \"type\": \"scatterpolar\"}], \"scatterpolargl\": [{\"marker\": {\"colorbar\": {\"outlinewidth\": 0, \"ticks\": \"\"}}, \"type\": \"scatterpolargl\"}], \"scatterternary\": [{\"marker\": {\"colorbar\": {\"outlinewidth\": 0, \"ticks\": \"\"}}, \"type\": \"scatterternary\"}], \"surface\": [{\"colorbar\": {\"outlinewidth\": 0, \"ticks\": \"\"}, \"colorscale\": [[0.0, \"#0d0887\"], [0.1111111111111111, \"#46039f\"], [0.2222222222222222, \"#7201a8\"], [0.3333333333333333, \"#9c179e\"], [0.4444444444444444, \"#bd3786\"], [0.5555555555555556, \"#d8576b\"], [0.6666666666666666, \"#ed7953\"], [0.7777777777777778, \"#fb9f3a\"], [0.8888888888888888, \"#fdca26\"], [1.0, \"#f0f921\"]], \"type\": \"surface\"}], \"table\": [{\"cells\": {\"fill\": {\"color\": \"#EBF0F8\"}, \"line\": {\"color\": \"white\"}}, \"header\": {\"fill\": {\"color\": \"#C8D4E3\"}, \"line\": {\"color\": \"white\"}}, \"type\": \"table\"}]}, \"layout\": {\"annotationdefaults\": {\"arrowcolor\": \"#2a3f5f\", \"arrowhead\": 0, \"arrowwidth\": 1}, \"colorscale\": {\"diverging\": [[0, \"#8e0152\"], [0.1, \"#c51b7d\"], [0.2, \"#de77ae\"], [0.3, \"#f1b6da\"], [0.4, \"#fde0ef\"], [0.5, \"#f7f7f7\"], [0.6, \"#e6f5d0\"], [0.7, \"#b8e186\"], [0.8, \"#7fbc41\"], [0.9, \"#4d9221\"], [1, \"#276419\"]], \"sequential\": [[0.0, \"#0d0887\"], [0.1111111111111111, \"#46039f\"], [0.2222222222222222, \"#7201a8\"], [0.3333333333333333, \"#9c179e\"], [0.4444444444444444, \"#bd3786\"], [0.5555555555555556, \"#d8576b\"], [0.6666666666666666, \"#ed7953\"], [0.7777777777777778, \"#fb9f3a\"], [0.8888888888888888, \"#fdca26\"], [1.0, \"#f0f921\"]], \"sequentialminus\": [[0.0, \"#0d0887\"], [0.1111111111111111, \"#46039f\"], [0.2222222222222222, \"#7201a8\"], [0.3333333333333333, \"#9c179e\"], [0.4444444444444444, \"#bd3786\"], [0.5555555555555556, \"#d8576b\"], [0.6666666666666666, \"#ed7953\"], [0.7777777777777778, \"#fb9f3a\"], [0.8888888888888888, \"#fdca26\"], [1.0, \"#f0f921\"]]}, \"colorway\": [\"#636efa\", \"#EF553B\", \"#00cc96\", \"#ab63fa\", \"#FFA15A\", \"#19d3f3\", \"#FF6692\", \"#B6E880\", \"#FF97FF\", \"#FECB52\"], \"font\": {\"color\": \"#2a3f5f\"}, \"geo\": {\"bgcolor\": \"white\", \"lakecolor\": \"white\", \"landcolor\": \"#E5ECF6\", \"showlakes\": true, \"showland\": true, \"subunitcolor\": \"white\"}, \"hoverlabel\": {\"align\": \"left\"}, \"hovermode\": \"closest\", \"mapbox\": {\"style\": \"light\"}, \"paper_bgcolor\": \"white\", \"plot_bgcolor\": \"#E5ECF6\", \"polar\": {\"angularaxis\": {\"gridcolor\": \"white\", \"linecolor\": \"white\", \"ticks\": \"\"}, \"bgcolor\": \"#E5ECF6\", \"radialaxis\": {\"gridcolor\": \"white\", \"linecolor\": \"white\", \"ticks\": \"\"}}, \"scene\": {\"xaxis\": {\"backgroundcolor\": \"#E5ECF6\", \"gridcolor\": \"white\", \"gridwidth\": 2, \"linecolor\": \"white\", \"showbackground\": true, \"ticks\": \"\", \"zerolinecolor\": \"white\"}, \"yaxis\": {\"backgroundcolor\": \"#E5ECF6\", \"gridcolor\": \"white\", \"gridwidth\": 2, \"linecolor\": \"white\", \"showbackground\": true, \"ticks\": \"\", \"zerolinecolor\": \"white\"}, \"zaxis\": {\"backgroundcolor\": \"#E5ECF6\", \"gridcolor\": \"white\", \"gridwidth\": 2, \"linecolor\": \"white\", \"showbackground\": true, \"ticks\": \"\", \"zerolinecolor\": \"white\"}}, \"shapedefaults\": {\"line\": {\"color\": \"#2a3f5f\"}}, \"ternary\": {\"aaxis\": {\"gridcolor\": \"white\", \"linecolor\": \"white\", \"ticks\": \"\"}, \"baxis\": {\"gridcolor\": \"white\", \"linecolor\": \"white\", \"ticks\": \"\"}, \"bgcolor\": \"#E5ECF6\", \"caxis\": {\"gridcolor\": \"white\", \"linecolor\": \"white\", \"ticks\": \"\"}}, \"title\": {\"x\": 0.05}, \"xaxis\": {\"automargin\": true, \"gridcolor\": \"white\", \"linecolor\": \"white\", \"ticks\": \"\", \"zerolinecolor\": \"white\", \"zerolinewidth\": 2}, \"yaxis\": {\"automargin\": true, \"gridcolor\": \"white\", \"linecolor\": \"white\", \"ticks\": \"\", \"zerolinecolor\": \"white\", \"zerolinewidth\": 2}}}, \"title\": {\"text\": \"Coeficiente de Silhueta para o Mean shift\"}, \"xaxis\": {\"title\": {\"text\": \"Valores dos quantis\"}}, \"yaxis\": {\"title\": {\"text\": \"Coeficiente de Silhueta\"}}},\n",
       "                        {\"responsive\": true}\n",
       "                    ).then(function(){\n",
       "                            \n",
       "var gd = document.getElementById('a8fb3db2-b541-4153-94f7-eb4e0238d714');\n",
       "var x = new MutationObserver(function (mutations, observer) {{\n",
       "        var display = window.getComputedStyle(gd).display;\n",
       "        if (!display || display === 'none') {{\n",
       "            console.log([gd, 'removed!']);\n",
       "            Plotly.purge(gd);\n",
       "            observer.disconnect();\n",
       "        }}\n",
       "}});\n",
       "\n",
       "// Listen for the removal of the full notebook cells\n",
       "var notebookContainer = gd.closest('#notebook-container');\n",
       "if (notebookContainer) {{\n",
       "    x.observe(notebookContainer, {childList: true});\n",
       "}}\n",
       "\n",
       "// Listen for the clearing of the current output cell\n",
       "var outputEl = gd.closest('.output');\n",
       "if (outputEl) {{\n",
       "    x.observe(outputEl, {childList: true});\n",
       "}}\n",
       "\n",
       "                        })\n",
       "                };\n",
       "                });\n",
       "            </script>\n",
       "        </div>"
      ]
     },
     "metadata": {},
     "output_type": "display_data"
    }
   ],
   "source": [
    "fig =go.Figure()\n",
    "fig.add_trace(go.Scatter(x = quantil_plot, y = valores_silhueta))\n",
    "fig.update_layout(\n",
    "    title=\"Coeficiente de Silhueta para o Mean shift\",\n",
    "    xaxis_title=\"Valores dos quantis\",\n",
    "    yaxis_title=\"Coeficiente de Silhueta\",\n",
    "    font=dict(\n",
    "        family=\"Courier New, monospace\",\n",
    "        size=18,\n",
    "        color=\"#7f7f7f\"\n",
    "    )\n",
    ")\n",
    "fig.show()"
   ]
  },
  {
   "cell_type": "code",
   "execution_count": 136,
   "id": "c9ec4fd4",
   "metadata": {},
   "outputs": [],
   "source": [
    "#comparação entre os clusters\n",
    "from sklearn.cluster import KMeans, MeanShift, DBSCAN, estimate_bandwidth\n",
    "from sklearn.metrics import silhouette_score"
   ]
  },
  {
   "cell_type": "code",
   "execution_count": 138,
   "id": "037923f0",
   "metadata": {},
   "outputs": [
    {
     "name": "stderr",
     "output_type": "stream",
     "text": [
      "C:\\Users\\Renato\\anaconda3\\lib\\site-packages\\sklearn\\cluster\\_kmeans.py:1332: UserWarning:\n",
      "\n",
      "KMeans is known to have a memory leak on Windows with MKL, when there are less chunks than available threads. You can avoid it by setting the environment variable OMP_NUM_THREADS=1.\n",
      "\n"
     ]
    },
    {
     "name": "stdout",
     "output_type": "stream",
     "text": [
      "Labels K-means:  [0 0 0 0 0 0 0 0 0 0 0 0 0 0 0 0 0 0 0 0 0 0 0 0 0 0 0 0 0 0 0 0 0 0 0 0 0\n",
      " 0 0 0 0 0 0 0 0 0 0 0 0 0 0 0 0 0 0 0 0 0 0 2 2 2 2 2 2 2 2 2 2 2 2 2 2 0\n",
      " 2 2 2 2 2 2 2 2 2 1 2 2 2 2 2 2 2 2 2 2 2 2 2 2 2 2 2 2 2 2 2 2 2 2 2 2 2\n",
      " 2 2 2 2 2 2 2 2 2 2 2 2 2 2 2 2 2 2 2 1 1 1 1 1 1 1 1 1 1 1 1 1 1 1 1 1 1\n",
      " 1 1 1 1 1 1 1 1 1 1 1 1 1 1 1 1 1 1 1 1 1 1 1 1 1 1 1 1 1 1]\n",
      "Labels_DBSCAN:  [ 0  0  0  0  0  0  0  0  0  0  0  0  0  0  0  0  0  0  0  0  0  0  0  0\n",
      "  0  0  0  0  0  0  0  0  0  0  0  0  0  0  0  0  0  0  0  0  0  0  0  0\n",
      "  0  0  0  0  0  0  0  0  0  0  0 -1 -1 -1  0  0 -1  0  0  0 -1 -1 -1  0\n",
      "  0 -1  0  0  0 -1 -1  0  0  0  0 -1  0  0  0  0  0  0  0  0 -1  0  0 -1\n",
      " -1  0  0 -1  0  0  0  0  0 -1  0  0  0  0 -1  0 -1  0  0 -1  0  0 -1  0\n",
      "  0 -1 -1  0 -1  0  0 -1  0 -1 -1 -1 -1 -1 -1 -1 -1 -1 -1 -1 -1 -1 -1 -1\n",
      " -1 -1 -1 -1 -1 -1 -1 -1 -1 -1 -1 -1 -1 -1 -1 -1 -1 -1 -1 -1 -1 -1 -1 -1\n",
      " -1 -1 -1 -1 -1 -1 -1 -1 -1 -1]\n",
      "Labels_MeanShift:  [0 0 0 0 0 0 0 0 0 0 0 0 0 0 0 0 0 0 0 0 0 0 0 0 0 0 0 0 0 0 0 0 0 0 0 0 0\n",
      " 0 0 0 0 0 0 0 0 0 0 0 0 0 0 0 0 0 0 0 0 0 0 0 1 1 0 0 0 0 0 0 0 0 1 0 0 0\n",
      " 0 0 0 1 0 0 0 0 0 1 0 0 0 0 0 0 0 0 1 0 0 0 0 0 0 0 0 0 0 0 0 1 0 1 0 0 0\n",
      " 0 1 0 0 0 0 0 1 0 0 2 0 0 0 0 0 1 0 1 1 1 1 1 1 1 1 1 1 1 1 1 1 1 1 1 1 1\n",
      " 1 1 1 1 1 1 1 1 1 1 1 1 1 1 1 1 1 1 1 1 1 1 1 1 1 1 1 1 1 1]\n"
     ]
    }
   ],
   "source": [
    "agrupador_kmeans = KMeans(n_clusters= 3)\n",
    "agrupador_DBSCAN = DBSCAN(eps= 2.1, min_samples= 56, metric= 'manhattan')\n",
    "\n",
    "BW = estimate_bandwidth(df, quantile= 0.28)\n",
    "agrupador_meanshift = MeanShift(bandwidth= BW)\n",
    "\n",
    "labels_kmeans = agrupador_kmeans.fit_predict(df)\n",
    "labels_dbscan = agrupador_DBSCAN.fit_predict(df)\n",
    "labels_meanshift = agrupador_meanshift.fit_predict(df)\n",
    "\n",
    "print(\"Labels K-means: \", labels_kmeans)\n",
    "print(\"Labels_DBSCAN: \", labels_dbscan)\n",
    "print(\"Labels_MeanShift: \", labels_meanshift)"
   ]
  },
  {
   "cell_type": "code",
   "execution_count": 139,
   "id": "ef001f68",
   "metadata": {},
   "outputs": [
    {
     "name": "stdout",
     "output_type": "stream",
     "text": [
      "O coeficiente de Silhoueta do K-means é:  0.3695061849273629\n",
      "O coeficiente de Silhoueta do DBSCAN é:  0.30162321150943744\n",
      "O coeficiente de Silhoueta do MeanShift é:  0.3059152866115628\n"
     ]
    }
   ],
   "source": [
    "#melhor metodo de agrupamento é o Kmeans\n",
    "print(\"O coeficiente de Silhoueta do K-means é: \", silhouette_score(df, labels_kmeans))\n",
    "print(\"O coeficiente de Silhoueta do DBSCAN é: \", silhouette_score(df, labels_dbscan))\n",
    "print(\"O coeficiente de Silhoueta do MeanShift é: \", silhouette_score(df, labels_meanshift))"
   ]
  },
  {
   "cell_type": "code",
   "execution_count": 140,
   "id": "da1109ad",
   "metadata": {},
   "outputs": [],
   "source": [
    "# definindo os melhores valores de parametros para o DBSCAN\n",
    "#20 valores para cada parâmetro.\n",
    "faixa_min_samples = [i for i in range(1,100,5)]\n",
    "faixa_eps = [i/10 for i in range(1,100,1)]"
   ]
  },
  {
   "cell_type": "code",
   "execution_count": 142,
   "id": "c454748a",
   "metadata": {},
   "outputs": [],
   "source": [
    "from collections import Counter"
   ]
  },
  {
   "cell_type": "code",
   "execution_count": 143,
   "id": "638fad36",
   "metadata": {},
   "outputs": [],
   "source": [
    "valores_silhueta = []\n",
    "eps_plot = []\n",
    "min_samples_plot = []\n",
    "for min_samples in faixa_min_samples:\n",
    "  for eps in faixa_eps:\n",
    "    labels = 0\n",
    "    agrupador = DBSCAN(eps = eps, min_samples = min_samples, metric = 'manhattan')\n",
    "    agrupador.fit_predict(df)\n",
    "    labels = agrupador.labels_\n",
    "    if(Counter(labels)[0] < len(df) and Counter(labels)[0] > 1): #porque não é possível calcular\n",
    "    # silhueta para apenas  um cluster ou para número de clústeres igual\n",
    "    # ao número de dados \n",
    "      media_silhueta = silhouette_score(df, labels)\n",
    "      valores_silhueta.append(media_silhueta)\n",
    "      eps_plot.append(eps)\n",
    "      min_samples_plot.append(min_samples)"
   ]
  },
  {
   "cell_type": "code",
   "execution_count": 144,
   "id": "9c7f76f9",
   "metadata": {},
   "outputs": [
    {
     "data": {
      "application/vnd.plotly.v1+json": {
       "config": {
        "plotlyServerURL": "https://plot.ly"
       },
       "data": [
        {
         "marker": {
          "line": {
           "color": "midnightblue"
          },
          "symbol": [
           "x"
          ]
         },
         "mode": "markers",
         "type": "scatter3d",
         "x": [
          81
         ],
         "y": [
          2.7
         ],
         "z": [
          0.3584231880254969
         ]
        },
        {
         "mode": "markers",
         "text": [
          0,
          0,
          0,
          0,
          0,
          0,
          0,
          0,
          0,
          0,
          0,
          0,
          0,
          0,
          0,
          0,
          0,
          0,
          0,
          0,
          0,
          0,
          0,
          0,
          0,
          0,
          0,
          0,
          0,
          0,
          0,
          0,
          0,
          0,
          0,
          0,
          0,
          0,
          0,
          0,
          0,
          0,
          0,
          0,
          0,
          0,
          0,
          0,
          0,
          0,
          0,
          0,
          0,
          0,
          0,
          0,
          0,
          0,
          0,
          0,
          0,
          0,
          0,
          0,
          0,
          0,
          0,
          0,
          0,
          0,
          0,
          0,
          0,
          0,
          0,
          0,
          0,
          0,
          0,
          0,
          0,
          0,
          0,
          0,
          0,
          0,
          0,
          0,
          0,
          0,
          0,
          0,
          0,
          0,
          0,
          0,
          0,
          0,
          0,
          0,
          0,
          0,
          0,
          0,
          0,
          0,
          0,
          0,
          0,
          0,
          0,
          0,
          0,
          0,
          0,
          0,
          0,
          0,
          0,
          0,
          0,
          0,
          0,
          0,
          0,
          0,
          0,
          0,
          0,
          0,
          0,
          0,
          0,
          0,
          0,
          0,
          0,
          0,
          0,
          0,
          0,
          0,
          0,
          0,
          0,
          0,
          0,
          0,
          0,
          0,
          0,
          0,
          0,
          0,
          0,
          0,
          0,
          0,
          0,
          0,
          0,
          0,
          0,
          0,
          0,
          0,
          0,
          0,
          0,
          0,
          0,
          0,
          0,
          0,
          0,
          0,
          0,
          0
         ],
         "type": "scatter3d",
         "x": [
          1,
          1,
          1,
          1,
          1,
          1,
          1,
          1,
          1,
          1,
          1,
          1,
          1,
          1,
          1,
          1,
          1,
          1,
          6,
          6,
          6,
          6,
          6,
          6,
          6,
          6,
          6,
          6,
          6,
          6,
          6,
          6,
          6,
          6,
          6,
          11,
          11,
          11,
          11,
          11,
          11,
          11,
          11,
          11,
          11,
          11,
          11,
          11,
          11,
          11,
          16,
          16,
          16,
          16,
          16,
          16,
          16,
          16,
          16,
          16,
          16,
          16,
          16,
          16,
          21,
          21,
          21,
          21,
          21,
          21,
          21,
          21,
          21,
          21,
          21,
          21,
          21,
          26,
          26,
          26,
          26,
          26,
          26,
          26,
          26,
          26,
          26,
          26,
          26,
          31,
          31,
          31,
          31,
          31,
          31,
          31,
          31,
          31,
          31,
          31,
          31,
          36,
          36,
          36,
          36,
          36,
          36,
          36,
          36,
          36,
          36,
          36,
          41,
          41,
          41,
          41,
          41,
          41,
          41,
          41,
          41,
          41,
          46,
          46,
          46,
          46,
          46,
          46,
          46,
          46,
          46,
          46,
          51,
          51,
          51,
          51,
          51,
          51,
          51,
          51,
          51,
          56,
          56,
          56,
          56,
          56,
          56,
          56,
          56,
          61,
          61,
          61,
          61,
          61,
          61,
          61,
          66,
          66,
          66,
          66,
          66,
          71,
          71,
          71,
          71,
          71,
          76,
          76,
          76,
          76,
          76,
          76,
          81,
          81,
          81,
          81,
          81,
          81,
          81,
          86,
          86,
          86,
          86,
          86,
          86,
          86,
          91,
          91,
          91,
          91,
          91,
          91,
          91,
          91,
          96,
          96,
          96,
          96,
          96,
          96,
          96,
          96
         ],
         "y": [
          0.8,
          0.9,
          1,
          1.1,
          1.2,
          1.3,
          1.4,
          1.5,
          1.6,
          1.7,
          1.8,
          1.9,
          2,
          2.1,
          2.2,
          2.3,
          2.4,
          2.5,
          0.9,
          1,
          1.1,
          1.2,
          1.3,
          1.4,
          1.5,
          1.6,
          1.7,
          1.8,
          1.9,
          2,
          2.1,
          2.2,
          2.3,
          2.4,
          2.5,
          1.1,
          1.2,
          1.3,
          1.4,
          1.5,
          1.6,
          1.7,
          1.8,
          1.9,
          2,
          2.1,
          2.2,
          2.3,
          2.4,
          2.5,
          1.2,
          1.3,
          1.4,
          1.5,
          1.6,
          1.7,
          1.8,
          1.9,
          2,
          2.1,
          2.2,
          2.3,
          2.4,
          2.5,
          1.3,
          1.4,
          1.5,
          1.6,
          1.7,
          1.8,
          1.9,
          2,
          2.1,
          2.2,
          2.3,
          2.4,
          2.5,
          1.4,
          1.5,
          1.6,
          1.7,
          1.8,
          1.9,
          2,
          2.1,
          2.2,
          2.3,
          2.4,
          2.5,
          1.4,
          1.5,
          1.6,
          1.7,
          1.8,
          1.9,
          2,
          2.1,
          2.2,
          2.3,
          2.4,
          2.5,
          1.5,
          1.6,
          1.7,
          1.8,
          1.9,
          2,
          2.1,
          2.2,
          2.3,
          2.4,
          2.5,
          1.6,
          1.7,
          1.8,
          1.9,
          2,
          2.1,
          2.2,
          2.3,
          2.4,
          2.5,
          1.7,
          1.8,
          1.9,
          2,
          2.1,
          2.2,
          2.3,
          2.4,
          2.5,
          2.6,
          1.8,
          1.9,
          2,
          2.1,
          2.2,
          2.3,
          2.4,
          2.5,
          2.6,
          2,
          2.1,
          2.2,
          2.3,
          2.4,
          2.5,
          2.6,
          2.7,
          2.1,
          2.2,
          2.3,
          2.4,
          2.5,
          2.6,
          2.7,
          2.3,
          2.4,
          2.5,
          2.6,
          2.7,
          2.4,
          2.5,
          2.6,
          2.7,
          2.8,
          2.4,
          2.5,
          2.6,
          2.7,
          2.8,
          2.9,
          2.5,
          2.6,
          2.7,
          2.8,
          2.9,
          3,
          3.1,
          2.6,
          2.7,
          2.8,
          2.9,
          3,
          3.1,
          3.2,
          2.6,
          2.7,
          2.8,
          2.9,
          3,
          3.1,
          3.2,
          3.3,
          2.7,
          2.8,
          2.9,
          3,
          3.1,
          3.2,
          3.3,
          3.4
         ],
         "z": [
          0.01938728190672427,
          -0.0026009597876848973,
          -0.02806084596076794,
          -0.019258444472573646,
          -0.000742188638625557,
          0.012690676987669345,
          0.07364618073669302,
          0.10078639204233114,
          0.06227195838845274,
          -0.11225153285875035,
          -0.043384392712663804,
          -0.005294682036761604,
          0.2075835283919293,
          0.2075835283919293,
          0.2075835283919293,
          0.2075835283919293,
          0.2075835283919293,
          0.2075835283919293,
          -0.022760524956779,
          -0.13465065553058303,
          -0.02461084771447792,
          0.21863691123248494,
          0.25334589567257365,
          0.30210881473007994,
          0.3244375297800583,
          0.26486088636452715,
          0.11363815716290292,
          0.13148419369405415,
          0.12605948807482126,
          0.157945913435391,
          0.2075835283919293,
          0.2075835283919293,
          0.2075835283919293,
          0.2075835283919293,
          0.2075835283919293,
          0.015694800518771045,
          0.006469178331205162,
          0.1261748506854543,
          0.27927207765597084,
          0.31620715684548834,
          0.2572886558965893,
          0.27492297969981455,
          0.2777966273895371,
          0.14306750060687573,
          0.17393439192561516,
          0.157945913435391,
          0.2075835283919293,
          0.2075835283919293,
          0.2075835283919293,
          0.2075835283919293,
          0.18524112374922286,
          0.18515514296840016,
          0.21285523641282755,
          0.308019252806057,
          0.24386921220773564,
          0.25519752302203663,
          0.267986624218505,
          0.2913331385271099,
          0.2992920914351119,
          0.14764588992034924,
          0.2075835283919293,
          0.2075835283919293,
          0.2075835283919293,
          0.2075835283919293,
          0.192049283944297,
          0.20675942881304285,
          0.19211589720802918,
          0.23023777302515133,
          0.2534289374572083,
          0.2641043202322298,
          0.2837731738732247,
          0.2992920914351119,
          0.14764588992034924,
          0.1663427815131836,
          0.2075835283919293,
          0.2075835283919293,
          0.2075835283919293,
          0.23553479202547226,
          0.30872606357814286,
          0.26350378139719144,
          0.2542034302222557,
          0.2641043202322298,
          0.27603675243587794,
          0.2883549636107903,
          0.14764588992034924,
          0.1663427815131836,
          0.1663427815131836,
          0.2075835283919293,
          0.2075835283919293,
          0.20393439022727186,
          0.27939841035333696,
          0.3198594650284367,
          0.30801254973486003,
          0.25803527117176295,
          0.2756058009020484,
          0.28010248213497513,
          0.2645303455498681,
          0.1663427815131836,
          0.1663427815131836,
          0.2075835283919293,
          0.2075835283919293,
          0.2606620994438232,
          0.28267098242262734,
          0.3324125751483014,
          0.3186837886826481,
          0.26701828094827995,
          0.2743469050374419,
          0.28516776153905277,
          0.1663427815131836,
          0.1663427815131836,
          0.2075835283919293,
          0.2075835283919293,
          0.28267098242262734,
          0.2990517445224862,
          0.3324125751483014,
          0.2506328146910279,
          0.27383379142531994,
          0.2832902028091744,
          0.17650619927410913,
          0.1663427815131836,
          0.1663427815131836,
          0.2075835283919293,
          0.28267098242262734,
          0.3286876567511713,
          0.29652876950227874,
          0.30456551330928666,
          0.3250188833421259,
          0.30226601617909515,
          0.19281816088059603,
          0.1663427815131836,
          0.2075835283919293,
          0.2075835283919293,
          0.305501100564629,
          0.324916881006144,
          0.2961336497052033,
          0.31943705354650825,
          0.3226384296208848,
          0.3447331420629254,
          0.3184611998613328,
          0.16870097612950066,
          0.21807794449586657,
          0.3208838648303557,
          0.30162321150943744,
          0.3097717214788814,
          0.3418928144577739,
          0.3231582147731803,
          0.28709176932956487,
          0.16189071385311118,
          0.20042949414728894,
          0.08210844995976567,
          0.08818370595974669,
          0.30205880250138545,
          0.3418928144577739,
          0.2980610424939815,
          0.15400137423938087,
          0.13972835116979812,
          0.09354623372971145,
          0.3178001021512849,
          0.3429825852485679,
          0.25352798876547117,
          0.1481583858616803,
          0.13838373852982894,
          0.34048620014858283,
          0.332323142232895,
          0.1481583858616803,
          0.14157533249463047,
          0.12493232235431213,
          0.31043994905227046,
          0.3545736776576388,
          0.332323142232895,
          0.14157533249463047,
          0.14239219769947642,
          0.15689299164499074,
          0.1818275255896863,
          0.3584231880254969,
          0.1462122180229458,
          0.14945588680375704,
          0.14239219769947642,
          0.20042949414728894,
          0.17137152271944367,
          0.3253589311267327,
          0.35763215111178304,
          0.18920313132406594,
          0.14239219769947642,
          0.20042949414728894,
          0.20042949414728894,
          0.17137152271944367,
          0.19990399596412026,
          0.35462776704904475,
          0.2890038925595783,
          0.14239219769947642,
          0.20042949414728894,
          0.20042949414728894,
          0.20042949414728894,
          0.19990399596412026,
          0.22838553913244555,
          0.34375076361854406,
          0.17394507904737727,
          0.1623788193605902,
          0.20042949414728894,
          0.20042949414728894,
          0.20042949414728894
         ]
        }
       ],
       "layout": {
        "scene": {
         "xaxis": {
          "title": {
           "text": "eps"
          }
         },
         "yaxis": {
          "title": {
           "text": "min_samples"
          }
         },
         "zaxis": {
          "title": {
           "text": "silhueta"
          }
         }
        },
        "template": {
         "data": {
          "bar": [
           {
            "error_x": {
             "color": "#2a3f5f"
            },
            "error_y": {
             "color": "#2a3f5f"
            },
            "marker": {
             "line": {
              "color": "#E5ECF6",
              "width": 0.5
             }
            },
            "type": "bar"
           }
          ],
          "barpolar": [
           {
            "marker": {
             "line": {
              "color": "#E5ECF6",
              "width": 0.5
             }
            },
            "type": "barpolar"
           }
          ],
          "carpet": [
           {
            "aaxis": {
             "endlinecolor": "#2a3f5f",
             "gridcolor": "white",
             "linecolor": "white",
             "minorgridcolor": "white",
             "startlinecolor": "#2a3f5f"
            },
            "baxis": {
             "endlinecolor": "#2a3f5f",
             "gridcolor": "white",
             "linecolor": "white",
             "minorgridcolor": "white",
             "startlinecolor": "#2a3f5f"
            },
            "type": "carpet"
           }
          ],
          "choropleth": [
           {
            "colorbar": {
             "outlinewidth": 0,
             "ticks": ""
            },
            "type": "choropleth"
           }
          ],
          "contour": [
           {
            "colorbar": {
             "outlinewidth": 0,
             "ticks": ""
            },
            "colorscale": [
             [
              0,
              "#0d0887"
             ],
             [
              0.1111111111111111,
              "#46039f"
             ],
             [
              0.2222222222222222,
              "#7201a8"
             ],
             [
              0.3333333333333333,
              "#9c179e"
             ],
             [
              0.4444444444444444,
              "#bd3786"
             ],
             [
              0.5555555555555556,
              "#d8576b"
             ],
             [
              0.6666666666666666,
              "#ed7953"
             ],
             [
              0.7777777777777778,
              "#fb9f3a"
             ],
             [
              0.8888888888888888,
              "#fdca26"
             ],
             [
              1,
              "#f0f921"
             ]
            ],
            "type": "contour"
           }
          ],
          "contourcarpet": [
           {
            "colorbar": {
             "outlinewidth": 0,
             "ticks": ""
            },
            "type": "contourcarpet"
           }
          ],
          "heatmap": [
           {
            "colorbar": {
             "outlinewidth": 0,
             "ticks": ""
            },
            "colorscale": [
             [
              0,
              "#0d0887"
             ],
             [
              0.1111111111111111,
              "#46039f"
             ],
             [
              0.2222222222222222,
              "#7201a8"
             ],
             [
              0.3333333333333333,
              "#9c179e"
             ],
             [
              0.4444444444444444,
              "#bd3786"
             ],
             [
              0.5555555555555556,
              "#d8576b"
             ],
             [
              0.6666666666666666,
              "#ed7953"
             ],
             [
              0.7777777777777778,
              "#fb9f3a"
             ],
             [
              0.8888888888888888,
              "#fdca26"
             ],
             [
              1,
              "#f0f921"
             ]
            ],
            "type": "heatmap"
           }
          ],
          "heatmapgl": [
           {
            "colorbar": {
             "outlinewidth": 0,
             "ticks": ""
            },
            "colorscale": [
             [
              0,
              "#0d0887"
             ],
             [
              0.1111111111111111,
              "#46039f"
             ],
             [
              0.2222222222222222,
              "#7201a8"
             ],
             [
              0.3333333333333333,
              "#9c179e"
             ],
             [
              0.4444444444444444,
              "#bd3786"
             ],
             [
              0.5555555555555556,
              "#d8576b"
             ],
             [
              0.6666666666666666,
              "#ed7953"
             ],
             [
              0.7777777777777778,
              "#fb9f3a"
             ],
             [
              0.8888888888888888,
              "#fdca26"
             ],
             [
              1,
              "#f0f921"
             ]
            ],
            "type": "heatmapgl"
           }
          ],
          "histogram": [
           {
            "marker": {
             "colorbar": {
              "outlinewidth": 0,
              "ticks": ""
             }
            },
            "type": "histogram"
           }
          ],
          "histogram2d": [
           {
            "colorbar": {
             "outlinewidth": 0,
             "ticks": ""
            },
            "colorscale": [
             [
              0,
              "#0d0887"
             ],
             [
              0.1111111111111111,
              "#46039f"
             ],
             [
              0.2222222222222222,
              "#7201a8"
             ],
             [
              0.3333333333333333,
              "#9c179e"
             ],
             [
              0.4444444444444444,
              "#bd3786"
             ],
             [
              0.5555555555555556,
              "#d8576b"
             ],
             [
              0.6666666666666666,
              "#ed7953"
             ],
             [
              0.7777777777777778,
              "#fb9f3a"
             ],
             [
              0.8888888888888888,
              "#fdca26"
             ],
             [
              1,
              "#f0f921"
             ]
            ],
            "type": "histogram2d"
           }
          ],
          "histogram2dcontour": [
           {
            "colorbar": {
             "outlinewidth": 0,
             "ticks": ""
            },
            "colorscale": [
             [
              0,
              "#0d0887"
             ],
             [
              0.1111111111111111,
              "#46039f"
             ],
             [
              0.2222222222222222,
              "#7201a8"
             ],
             [
              0.3333333333333333,
              "#9c179e"
             ],
             [
              0.4444444444444444,
              "#bd3786"
             ],
             [
              0.5555555555555556,
              "#d8576b"
             ],
             [
              0.6666666666666666,
              "#ed7953"
             ],
             [
              0.7777777777777778,
              "#fb9f3a"
             ],
             [
              0.8888888888888888,
              "#fdca26"
             ],
             [
              1,
              "#f0f921"
             ]
            ],
            "type": "histogram2dcontour"
           }
          ],
          "mesh3d": [
           {
            "colorbar": {
             "outlinewidth": 0,
             "ticks": ""
            },
            "type": "mesh3d"
           }
          ],
          "parcoords": [
           {
            "line": {
             "colorbar": {
              "outlinewidth": 0,
              "ticks": ""
             }
            },
            "type": "parcoords"
           }
          ],
          "scatter": [
           {
            "marker": {
             "colorbar": {
              "outlinewidth": 0,
              "ticks": ""
             }
            },
            "type": "scatter"
           }
          ],
          "scatter3d": [
           {
            "line": {
             "colorbar": {
              "outlinewidth": 0,
              "ticks": ""
             }
            },
            "marker": {
             "colorbar": {
              "outlinewidth": 0,
              "ticks": ""
             }
            },
            "type": "scatter3d"
           }
          ],
          "scattercarpet": [
           {
            "marker": {
             "colorbar": {
              "outlinewidth": 0,
              "ticks": ""
             }
            },
            "type": "scattercarpet"
           }
          ],
          "scattergeo": [
           {
            "marker": {
             "colorbar": {
              "outlinewidth": 0,
              "ticks": ""
             }
            },
            "type": "scattergeo"
           }
          ],
          "scattergl": [
           {
            "marker": {
             "colorbar": {
              "outlinewidth": 0,
              "ticks": ""
             }
            },
            "type": "scattergl"
           }
          ],
          "scattermapbox": [
           {
            "marker": {
             "colorbar": {
              "outlinewidth": 0,
              "ticks": ""
             }
            },
            "type": "scattermapbox"
           }
          ],
          "scatterpolar": [
           {
            "marker": {
             "colorbar": {
              "outlinewidth": 0,
              "ticks": ""
             }
            },
            "type": "scatterpolar"
           }
          ],
          "scatterpolargl": [
           {
            "marker": {
             "colorbar": {
              "outlinewidth": 0,
              "ticks": ""
             }
            },
            "type": "scatterpolargl"
           }
          ],
          "scatterternary": [
           {
            "marker": {
             "colorbar": {
              "outlinewidth": 0,
              "ticks": ""
             }
            },
            "type": "scatterternary"
           }
          ],
          "surface": [
           {
            "colorbar": {
             "outlinewidth": 0,
             "ticks": ""
            },
            "colorscale": [
             [
              0,
              "#0d0887"
             ],
             [
              0.1111111111111111,
              "#46039f"
             ],
             [
              0.2222222222222222,
              "#7201a8"
             ],
             [
              0.3333333333333333,
              "#9c179e"
             ],
             [
              0.4444444444444444,
              "#bd3786"
             ],
             [
              0.5555555555555556,
              "#d8576b"
             ],
             [
              0.6666666666666666,
              "#ed7953"
             ],
             [
              0.7777777777777778,
              "#fb9f3a"
             ],
             [
              0.8888888888888888,
              "#fdca26"
             ],
             [
              1,
              "#f0f921"
             ]
            ],
            "type": "surface"
           }
          ],
          "table": [
           {
            "cells": {
             "fill": {
              "color": "#EBF0F8"
             },
             "line": {
              "color": "white"
             }
            },
            "header": {
             "fill": {
              "color": "#C8D4E3"
             },
             "line": {
              "color": "white"
             }
            },
            "type": "table"
           }
          ]
         },
         "layout": {
          "annotationdefaults": {
           "arrowcolor": "#2a3f5f",
           "arrowhead": 0,
           "arrowwidth": 1
          },
          "colorscale": {
           "diverging": [
            [
             0,
             "#8e0152"
            ],
            [
             0.1,
             "#c51b7d"
            ],
            [
             0.2,
             "#de77ae"
            ],
            [
             0.3,
             "#f1b6da"
            ],
            [
             0.4,
             "#fde0ef"
            ],
            [
             0.5,
             "#f7f7f7"
            ],
            [
             0.6,
             "#e6f5d0"
            ],
            [
             0.7,
             "#b8e186"
            ],
            [
             0.8,
             "#7fbc41"
            ],
            [
             0.9,
             "#4d9221"
            ],
            [
             1,
             "#276419"
            ]
           ],
           "sequential": [
            [
             0,
             "#0d0887"
            ],
            [
             0.1111111111111111,
             "#46039f"
            ],
            [
             0.2222222222222222,
             "#7201a8"
            ],
            [
             0.3333333333333333,
             "#9c179e"
            ],
            [
             0.4444444444444444,
             "#bd3786"
            ],
            [
             0.5555555555555556,
             "#d8576b"
            ],
            [
             0.6666666666666666,
             "#ed7953"
            ],
            [
             0.7777777777777778,
             "#fb9f3a"
            ],
            [
             0.8888888888888888,
             "#fdca26"
            ],
            [
             1,
             "#f0f921"
            ]
           ],
           "sequentialminus": [
            [
             0,
             "#0d0887"
            ],
            [
             0.1111111111111111,
             "#46039f"
            ],
            [
             0.2222222222222222,
             "#7201a8"
            ],
            [
             0.3333333333333333,
             "#9c179e"
            ],
            [
             0.4444444444444444,
             "#bd3786"
            ],
            [
             0.5555555555555556,
             "#d8576b"
            ],
            [
             0.6666666666666666,
             "#ed7953"
            ],
            [
             0.7777777777777778,
             "#fb9f3a"
            ],
            [
             0.8888888888888888,
             "#fdca26"
            ],
            [
             1,
             "#f0f921"
            ]
           ]
          },
          "colorway": [
           "#636efa",
           "#EF553B",
           "#00cc96",
           "#ab63fa",
           "#FFA15A",
           "#19d3f3",
           "#FF6692",
           "#B6E880",
           "#FF97FF",
           "#FECB52"
          ],
          "font": {
           "color": "#2a3f5f"
          },
          "geo": {
           "bgcolor": "white",
           "lakecolor": "white",
           "landcolor": "#E5ECF6",
           "showlakes": true,
           "showland": true,
           "subunitcolor": "white"
          },
          "hoverlabel": {
           "align": "left"
          },
          "hovermode": "closest",
          "mapbox": {
           "style": "light"
          },
          "paper_bgcolor": "white",
          "plot_bgcolor": "#E5ECF6",
          "polar": {
           "angularaxis": {
            "gridcolor": "white",
            "linecolor": "white",
            "ticks": ""
           },
           "bgcolor": "#E5ECF6",
           "radialaxis": {
            "gridcolor": "white",
            "linecolor": "white",
            "ticks": ""
           }
          },
          "scene": {
           "xaxis": {
            "backgroundcolor": "#E5ECF6",
            "gridcolor": "white",
            "gridwidth": 2,
            "linecolor": "white",
            "showbackground": true,
            "ticks": "",
            "zerolinecolor": "white"
           },
           "yaxis": {
            "backgroundcolor": "#E5ECF6",
            "gridcolor": "white",
            "gridwidth": 2,
            "linecolor": "white",
            "showbackground": true,
            "ticks": "",
            "zerolinecolor": "white"
           },
           "zaxis": {
            "backgroundcolor": "#E5ECF6",
            "gridcolor": "white",
            "gridwidth": 2,
            "linecolor": "white",
            "showbackground": true,
            "ticks": "",
            "zerolinecolor": "white"
           }
          },
          "shapedefaults": {
           "line": {
            "color": "#2a3f5f"
           }
          },
          "ternary": {
           "aaxis": {
            "gridcolor": "white",
            "linecolor": "white",
            "ticks": ""
           },
           "baxis": {
            "gridcolor": "white",
            "linecolor": "white",
            "ticks": ""
           },
           "bgcolor": "#E5ECF6",
           "caxis": {
            "gridcolor": "white",
            "linecolor": "white",
            "ticks": ""
           }
          },
          "title": {
           "x": 0.05
          },
          "xaxis": {
           "automargin": true,
           "gridcolor": "white",
           "linecolor": "white",
           "ticks": "",
           "zerolinecolor": "white",
           "zerolinewidth": 2
          },
          "yaxis": {
           "automargin": true,
           "gridcolor": "white",
           "linecolor": "white",
           "ticks": "",
           "zerolinecolor": "white",
           "zerolinewidth": 2
          }
         }
        }
       }
      },
      "text/html": [
       "<div>\n",
       "        \n",
       "        \n",
       "            <div id=\"3880f236-e08f-42dc-add7-e1374ca67098\" class=\"plotly-graph-div\" style=\"height:525px; width:100%;\"></div>\n",
       "            <script type=\"text/javascript\">\n",
       "                require([\"plotly\"], function(Plotly) {\n",
       "                    window.PLOTLYENV=window.PLOTLYENV || {};\n",
       "                    \n",
       "                if (document.getElementById(\"3880f236-e08f-42dc-add7-e1374ca67098\")) {\n",
       "                    Plotly.newPlot(\n",
       "                        '3880f236-e08f-42dc-add7-e1374ca67098',\n",
       "                        [{\"marker\": {\"line\": {\"color\": \"midnightblue\"}, \"symbol\": [\"x\"]}, \"mode\": \"markers\", \"type\": \"scatter3d\", \"x\": [81], \"y\": [2.7], \"z\": [0.3584231880254969]}, {\"mode\": \"markers\", \"text\": [0.0, 0.0, 0.0, 0.0, 0.0, 0.0, 0.0, 0.0, 0.0, 0.0, 0.0, 0.0, 0.0, 0.0, 0.0, 0.0, 0.0, 0.0, 0.0, 0.0, 0.0, 0.0, 0.0, 0.0, 0.0, 0.0, 0.0, 0.0, 0.0, 0.0, 0.0, 0.0, 0.0, 0.0, 0.0, 0.0, 0.0, 0.0, 0.0, 0.0, 0.0, 0.0, 0.0, 0.0, 0.0, 0.0, 0.0, 0.0, 0.0, 0.0, 0.0, 0.0, 0.0, 0.0, 0.0, 0.0, 0.0, 0.0, 0.0, 0.0, 0.0, 0.0, 0.0, 0.0, 0.0, 0.0, 0.0, 0.0, 0.0, 0.0, 0.0, 0.0, 0.0, 0.0, 0.0, 0.0, 0.0, 0.0, 0.0, 0.0, 0.0, 0.0, 0.0, 0.0, 0.0, 0.0, 0.0, 0.0, 0.0, 0.0, 0.0, 0.0, 0.0, 0.0, 0.0, 0.0, 0.0, 0.0, 0.0, 0.0, 0.0, 0.0, 0.0, 0.0, 0.0, 0.0, 0.0, 0.0, 0.0, 0.0, 0.0, 0.0, 0.0, 0.0, 0.0, 0.0, 0.0, 0.0, 0.0, 0.0, 0.0, 0.0, 0.0, 0.0, 0.0, 0.0, 0.0, 0.0, 0.0, 0.0, 0.0, 0.0, 0.0, 0.0, 0.0, 0.0, 0.0, 0.0, 0.0, 0.0, 0.0, 0.0, 0.0, 0.0, 0.0, 0.0, 0.0, 0.0, 0.0, 0.0, 0.0, 0.0, 0.0, 0.0, 0.0, 0.0, 0.0, 0.0, 0.0, 0.0, 0.0, 0.0, 0.0, 0.0, 0.0, 0.0, 0.0, 0.0, 0.0, 0.0, 0.0, 0.0, 0.0, 0.0, 0.0, 0.0, 0.0, 0.0], \"type\": \"scatter3d\", \"x\": [1, 1, 1, 1, 1, 1, 1, 1, 1, 1, 1, 1, 1, 1, 1, 1, 1, 1, 6, 6, 6, 6, 6, 6, 6, 6, 6, 6, 6, 6, 6, 6, 6, 6, 6, 11, 11, 11, 11, 11, 11, 11, 11, 11, 11, 11, 11, 11, 11, 11, 16, 16, 16, 16, 16, 16, 16, 16, 16, 16, 16, 16, 16, 16, 21, 21, 21, 21, 21, 21, 21, 21, 21, 21, 21, 21, 21, 26, 26, 26, 26, 26, 26, 26, 26, 26, 26, 26, 26, 31, 31, 31, 31, 31, 31, 31, 31, 31, 31, 31, 31, 36, 36, 36, 36, 36, 36, 36, 36, 36, 36, 36, 41, 41, 41, 41, 41, 41, 41, 41, 41, 41, 46, 46, 46, 46, 46, 46, 46, 46, 46, 46, 51, 51, 51, 51, 51, 51, 51, 51, 51, 56, 56, 56, 56, 56, 56, 56, 56, 61, 61, 61, 61, 61, 61, 61, 66, 66, 66, 66, 66, 71, 71, 71, 71, 71, 76, 76, 76, 76, 76, 76, 81, 81, 81, 81, 81, 81, 81, 86, 86, 86, 86, 86, 86, 86, 91, 91, 91, 91, 91, 91, 91, 91, 96, 96, 96, 96, 96, 96, 96, 96], \"y\": [0.8, 0.9, 1.0, 1.1, 1.2, 1.3, 1.4, 1.5, 1.6, 1.7, 1.8, 1.9, 2.0, 2.1, 2.2, 2.3, 2.4, 2.5, 0.9, 1.0, 1.1, 1.2, 1.3, 1.4, 1.5, 1.6, 1.7, 1.8, 1.9, 2.0, 2.1, 2.2, 2.3, 2.4, 2.5, 1.1, 1.2, 1.3, 1.4, 1.5, 1.6, 1.7, 1.8, 1.9, 2.0, 2.1, 2.2, 2.3, 2.4, 2.5, 1.2, 1.3, 1.4, 1.5, 1.6, 1.7, 1.8, 1.9, 2.0, 2.1, 2.2, 2.3, 2.4, 2.5, 1.3, 1.4, 1.5, 1.6, 1.7, 1.8, 1.9, 2.0, 2.1, 2.2, 2.3, 2.4, 2.5, 1.4, 1.5, 1.6, 1.7, 1.8, 1.9, 2.0, 2.1, 2.2, 2.3, 2.4, 2.5, 1.4, 1.5, 1.6, 1.7, 1.8, 1.9, 2.0, 2.1, 2.2, 2.3, 2.4, 2.5, 1.5, 1.6, 1.7, 1.8, 1.9, 2.0, 2.1, 2.2, 2.3, 2.4, 2.5, 1.6, 1.7, 1.8, 1.9, 2.0, 2.1, 2.2, 2.3, 2.4, 2.5, 1.7, 1.8, 1.9, 2.0, 2.1, 2.2, 2.3, 2.4, 2.5, 2.6, 1.8, 1.9, 2.0, 2.1, 2.2, 2.3, 2.4, 2.5, 2.6, 2.0, 2.1, 2.2, 2.3, 2.4, 2.5, 2.6, 2.7, 2.1, 2.2, 2.3, 2.4, 2.5, 2.6, 2.7, 2.3, 2.4, 2.5, 2.6, 2.7, 2.4, 2.5, 2.6, 2.7, 2.8, 2.4, 2.5, 2.6, 2.7, 2.8, 2.9, 2.5, 2.6, 2.7, 2.8, 2.9, 3.0, 3.1, 2.6, 2.7, 2.8, 2.9, 3.0, 3.1, 3.2, 2.6, 2.7, 2.8, 2.9, 3.0, 3.1, 3.2, 3.3, 2.7, 2.8, 2.9, 3.0, 3.1, 3.2, 3.3, 3.4], \"z\": [0.01938728190672427, -0.0026009597876848973, -0.02806084596076794, -0.019258444472573646, -0.000742188638625557, 0.012690676987669345, 0.07364618073669302, 0.10078639204233114, 0.06227195838845274, -0.11225153285875035, -0.043384392712663804, -0.005294682036761604, 0.2075835283919293, 0.2075835283919293, 0.2075835283919293, 0.2075835283919293, 0.2075835283919293, 0.2075835283919293, -0.022760524956779, -0.13465065553058303, -0.02461084771447792, 0.21863691123248494, 0.25334589567257365, 0.30210881473007994, 0.3244375297800583, 0.26486088636452715, 0.11363815716290292, 0.13148419369405415, 0.12605948807482126, 0.157945913435391, 0.2075835283919293, 0.2075835283919293, 0.2075835283919293, 0.2075835283919293, 0.2075835283919293, 0.015694800518771045, 0.006469178331205162, 0.1261748506854543, 0.27927207765597084, 0.31620715684548834, 0.2572886558965893, 0.27492297969981455, 0.2777966273895371, 0.14306750060687573, 0.17393439192561516, 0.157945913435391, 0.2075835283919293, 0.2075835283919293, 0.2075835283919293, 0.2075835283919293, 0.18524112374922286, 0.18515514296840016, 0.21285523641282755, 0.308019252806057, 0.24386921220773564, 0.25519752302203663, 0.267986624218505, 0.2913331385271099, 0.2992920914351119, 0.14764588992034924, 0.2075835283919293, 0.2075835283919293, 0.2075835283919293, 0.2075835283919293, 0.192049283944297, 0.20675942881304285, 0.19211589720802918, 0.23023777302515133, 0.2534289374572083, 0.2641043202322298, 0.2837731738732247, 0.2992920914351119, 0.14764588992034924, 0.1663427815131836, 0.2075835283919293, 0.2075835283919293, 0.2075835283919293, 0.23553479202547226, 0.30872606357814286, 0.26350378139719144, 0.2542034302222557, 0.2641043202322298, 0.27603675243587794, 0.2883549636107903, 0.14764588992034924, 0.1663427815131836, 0.1663427815131836, 0.2075835283919293, 0.2075835283919293, 0.20393439022727186, 0.27939841035333696, 0.3198594650284367, 0.30801254973486003, 0.25803527117176295, 0.2756058009020484, 0.28010248213497513, 0.2645303455498681, 0.1663427815131836, 0.1663427815131836, 0.2075835283919293, 0.2075835283919293, 0.2606620994438232, 0.28267098242262734, 0.3324125751483014, 0.3186837886826481, 0.26701828094827995, 0.2743469050374419, 0.28516776153905277, 0.1663427815131836, 0.1663427815131836, 0.2075835283919293, 0.2075835283919293, 0.28267098242262734, 0.2990517445224862, 0.3324125751483014, 0.2506328146910279, 0.27383379142531994, 0.2832902028091744, 0.17650619927410913, 0.1663427815131836, 0.1663427815131836, 0.2075835283919293, 0.28267098242262734, 0.3286876567511713, 0.29652876950227874, 0.30456551330928666, 0.3250188833421259, 0.30226601617909515, 0.19281816088059603, 0.1663427815131836, 0.2075835283919293, 0.2075835283919293, 0.305501100564629, 0.324916881006144, 0.2961336497052033, 0.31943705354650825, 0.3226384296208848, 0.3447331420629254, 0.3184611998613328, 0.16870097612950066, 0.21807794449586657, 0.3208838648303557, 0.30162321150943744, 0.3097717214788814, 0.3418928144577739, 0.3231582147731803, 0.28709176932956487, 0.16189071385311118, 0.20042949414728894, 0.08210844995976567, 0.08818370595974669, 0.30205880250138545, 0.3418928144577739, 0.2980610424939815, 0.15400137423938087, 0.13972835116979812, 0.09354623372971145, 0.3178001021512849, 0.3429825852485679, 0.25352798876547117, 0.1481583858616803, 0.13838373852982894, 0.34048620014858283, 0.332323142232895, 0.1481583858616803, 0.14157533249463047, 0.12493232235431213, 0.31043994905227046, 0.3545736776576388, 0.332323142232895, 0.14157533249463047, 0.14239219769947642, 0.15689299164499074, 0.1818275255896863, 0.3584231880254969, 0.1462122180229458, 0.14945588680375704, 0.14239219769947642, 0.20042949414728894, 0.17137152271944367, 0.3253589311267327, 0.35763215111178304, 0.18920313132406594, 0.14239219769947642, 0.20042949414728894, 0.20042949414728894, 0.17137152271944367, 0.19990399596412026, 0.35462776704904475, 0.2890038925595783, 0.14239219769947642, 0.20042949414728894, 0.20042949414728894, 0.20042949414728894, 0.19990399596412026, 0.22838553913244555, 0.34375076361854406, 0.17394507904737727, 0.1623788193605902, 0.20042949414728894, 0.20042949414728894, 0.20042949414728894]}],\n",
       "                        {\"scene\": {\"xaxis\": {\"title\": {\"text\": \"eps\"}}, \"yaxis\": {\"title\": {\"text\": \"min_samples\"}}, \"zaxis\": {\"title\": {\"text\": \"silhueta\"}}}, \"template\": {\"data\": {\"bar\": [{\"error_x\": {\"color\": \"#2a3f5f\"}, \"error_y\": {\"color\": \"#2a3f5f\"}, \"marker\": {\"line\": {\"color\": \"#E5ECF6\", \"width\": 0.5}}, \"type\": \"bar\"}], \"barpolar\": [{\"marker\": {\"line\": {\"color\": \"#E5ECF6\", \"width\": 0.5}}, \"type\": \"barpolar\"}], \"carpet\": [{\"aaxis\": {\"endlinecolor\": \"#2a3f5f\", \"gridcolor\": \"white\", \"linecolor\": \"white\", \"minorgridcolor\": \"white\", \"startlinecolor\": \"#2a3f5f\"}, \"baxis\": {\"endlinecolor\": \"#2a3f5f\", \"gridcolor\": \"white\", \"linecolor\": \"white\", \"minorgridcolor\": \"white\", \"startlinecolor\": \"#2a3f5f\"}, \"type\": \"carpet\"}], \"choropleth\": [{\"colorbar\": {\"outlinewidth\": 0, \"ticks\": \"\"}, \"type\": \"choropleth\"}], \"contour\": [{\"colorbar\": {\"outlinewidth\": 0, \"ticks\": \"\"}, \"colorscale\": [[0.0, \"#0d0887\"], [0.1111111111111111, \"#46039f\"], [0.2222222222222222, \"#7201a8\"], [0.3333333333333333, \"#9c179e\"], [0.4444444444444444, \"#bd3786\"], [0.5555555555555556, \"#d8576b\"], [0.6666666666666666, \"#ed7953\"], [0.7777777777777778, \"#fb9f3a\"], [0.8888888888888888, \"#fdca26\"], [1.0, \"#f0f921\"]], \"type\": \"contour\"}], \"contourcarpet\": [{\"colorbar\": {\"outlinewidth\": 0, \"ticks\": \"\"}, \"type\": \"contourcarpet\"}], \"heatmap\": [{\"colorbar\": {\"outlinewidth\": 0, \"ticks\": \"\"}, \"colorscale\": [[0.0, \"#0d0887\"], [0.1111111111111111, \"#46039f\"], [0.2222222222222222, \"#7201a8\"], [0.3333333333333333, \"#9c179e\"], [0.4444444444444444, \"#bd3786\"], [0.5555555555555556, \"#d8576b\"], [0.6666666666666666, \"#ed7953\"], [0.7777777777777778, \"#fb9f3a\"], [0.8888888888888888, \"#fdca26\"], [1.0, \"#f0f921\"]], \"type\": \"heatmap\"}], \"heatmapgl\": [{\"colorbar\": {\"outlinewidth\": 0, \"ticks\": \"\"}, \"colorscale\": [[0.0, \"#0d0887\"], [0.1111111111111111, \"#46039f\"], [0.2222222222222222, \"#7201a8\"], [0.3333333333333333, \"#9c179e\"], [0.4444444444444444, \"#bd3786\"], [0.5555555555555556, \"#d8576b\"], [0.6666666666666666, \"#ed7953\"], [0.7777777777777778, \"#fb9f3a\"], [0.8888888888888888, \"#fdca26\"], [1.0, \"#f0f921\"]], \"type\": \"heatmapgl\"}], \"histogram\": [{\"marker\": {\"colorbar\": {\"outlinewidth\": 0, \"ticks\": \"\"}}, \"type\": \"histogram\"}], \"histogram2d\": [{\"colorbar\": {\"outlinewidth\": 0, \"ticks\": \"\"}, \"colorscale\": [[0.0, \"#0d0887\"], [0.1111111111111111, \"#46039f\"], [0.2222222222222222, \"#7201a8\"], [0.3333333333333333, \"#9c179e\"], [0.4444444444444444, \"#bd3786\"], [0.5555555555555556, \"#d8576b\"], [0.6666666666666666, \"#ed7953\"], [0.7777777777777778, \"#fb9f3a\"], [0.8888888888888888, \"#fdca26\"], [1.0, \"#f0f921\"]], \"type\": \"histogram2d\"}], \"histogram2dcontour\": [{\"colorbar\": {\"outlinewidth\": 0, \"ticks\": \"\"}, \"colorscale\": [[0.0, \"#0d0887\"], [0.1111111111111111, \"#46039f\"], [0.2222222222222222, \"#7201a8\"], [0.3333333333333333, \"#9c179e\"], [0.4444444444444444, \"#bd3786\"], [0.5555555555555556, \"#d8576b\"], [0.6666666666666666, \"#ed7953\"], [0.7777777777777778, \"#fb9f3a\"], [0.8888888888888888, \"#fdca26\"], [1.0, \"#f0f921\"]], \"type\": \"histogram2dcontour\"}], \"mesh3d\": [{\"colorbar\": {\"outlinewidth\": 0, \"ticks\": \"\"}, \"type\": \"mesh3d\"}], \"parcoords\": [{\"line\": {\"colorbar\": {\"outlinewidth\": 0, \"ticks\": \"\"}}, \"type\": \"parcoords\"}], \"scatter\": [{\"marker\": {\"colorbar\": {\"outlinewidth\": 0, \"ticks\": \"\"}}, \"type\": \"scatter\"}], \"scatter3d\": [{\"line\": {\"colorbar\": {\"outlinewidth\": 0, \"ticks\": \"\"}}, \"marker\": {\"colorbar\": {\"outlinewidth\": 0, \"ticks\": \"\"}}, \"type\": \"scatter3d\"}], \"scattercarpet\": [{\"marker\": {\"colorbar\": {\"outlinewidth\": 0, \"ticks\": \"\"}}, \"type\": \"scattercarpet\"}], \"scattergeo\": [{\"marker\": {\"colorbar\": {\"outlinewidth\": 0, \"ticks\": \"\"}}, \"type\": \"scattergeo\"}], \"scattergl\": [{\"marker\": {\"colorbar\": {\"outlinewidth\": 0, \"ticks\": \"\"}}, \"type\": \"scattergl\"}], \"scattermapbox\": [{\"marker\": {\"colorbar\": {\"outlinewidth\": 0, \"ticks\": \"\"}}, \"type\": \"scattermapbox\"}], \"scatterpolar\": [{\"marker\": {\"colorbar\": {\"outlinewidth\": 0, \"ticks\": \"\"}}, \"type\": \"scatterpolar\"}], \"scatterpolargl\": [{\"marker\": {\"colorbar\": {\"outlinewidth\": 0, \"ticks\": \"\"}}, \"type\": \"scatterpolargl\"}], \"scatterternary\": [{\"marker\": {\"colorbar\": {\"outlinewidth\": 0, \"ticks\": \"\"}}, \"type\": \"scatterternary\"}], \"surface\": [{\"colorbar\": {\"outlinewidth\": 0, \"ticks\": \"\"}, \"colorscale\": [[0.0, \"#0d0887\"], [0.1111111111111111, \"#46039f\"], [0.2222222222222222, \"#7201a8\"], [0.3333333333333333, \"#9c179e\"], [0.4444444444444444, \"#bd3786\"], [0.5555555555555556, \"#d8576b\"], [0.6666666666666666, \"#ed7953\"], [0.7777777777777778, \"#fb9f3a\"], [0.8888888888888888, \"#fdca26\"], [1.0, \"#f0f921\"]], \"type\": \"surface\"}], \"table\": [{\"cells\": {\"fill\": {\"color\": \"#EBF0F8\"}, \"line\": {\"color\": \"white\"}}, \"header\": {\"fill\": {\"color\": \"#C8D4E3\"}, \"line\": {\"color\": \"white\"}}, \"type\": \"table\"}]}, \"layout\": {\"annotationdefaults\": {\"arrowcolor\": \"#2a3f5f\", \"arrowhead\": 0, \"arrowwidth\": 1}, \"colorscale\": {\"diverging\": [[0, \"#8e0152\"], [0.1, \"#c51b7d\"], [0.2, \"#de77ae\"], [0.3, \"#f1b6da\"], [0.4, \"#fde0ef\"], [0.5, \"#f7f7f7\"], [0.6, \"#e6f5d0\"], [0.7, \"#b8e186\"], [0.8, \"#7fbc41\"], [0.9, \"#4d9221\"], [1, \"#276419\"]], \"sequential\": [[0.0, \"#0d0887\"], [0.1111111111111111, \"#46039f\"], [0.2222222222222222, \"#7201a8\"], [0.3333333333333333, \"#9c179e\"], [0.4444444444444444, \"#bd3786\"], [0.5555555555555556, \"#d8576b\"], [0.6666666666666666, \"#ed7953\"], [0.7777777777777778, \"#fb9f3a\"], [0.8888888888888888, \"#fdca26\"], [1.0, \"#f0f921\"]], \"sequentialminus\": [[0.0, \"#0d0887\"], [0.1111111111111111, \"#46039f\"], [0.2222222222222222, \"#7201a8\"], [0.3333333333333333, \"#9c179e\"], [0.4444444444444444, \"#bd3786\"], [0.5555555555555556, \"#d8576b\"], [0.6666666666666666, \"#ed7953\"], [0.7777777777777778, \"#fb9f3a\"], [0.8888888888888888, \"#fdca26\"], [1.0, \"#f0f921\"]]}, \"colorway\": [\"#636efa\", \"#EF553B\", \"#00cc96\", \"#ab63fa\", \"#FFA15A\", \"#19d3f3\", \"#FF6692\", \"#B6E880\", \"#FF97FF\", \"#FECB52\"], \"font\": {\"color\": \"#2a3f5f\"}, \"geo\": {\"bgcolor\": \"white\", \"lakecolor\": \"white\", \"landcolor\": \"#E5ECF6\", \"showlakes\": true, \"showland\": true, \"subunitcolor\": \"white\"}, \"hoverlabel\": {\"align\": \"left\"}, \"hovermode\": \"closest\", \"mapbox\": {\"style\": \"light\"}, \"paper_bgcolor\": \"white\", \"plot_bgcolor\": \"#E5ECF6\", \"polar\": {\"angularaxis\": {\"gridcolor\": \"white\", \"linecolor\": \"white\", \"ticks\": \"\"}, \"bgcolor\": \"#E5ECF6\", \"radialaxis\": {\"gridcolor\": \"white\", \"linecolor\": \"white\", \"ticks\": \"\"}}, \"scene\": {\"xaxis\": {\"backgroundcolor\": \"#E5ECF6\", \"gridcolor\": \"white\", \"gridwidth\": 2, \"linecolor\": \"white\", \"showbackground\": true, \"ticks\": \"\", \"zerolinecolor\": \"white\"}, \"yaxis\": {\"backgroundcolor\": \"#E5ECF6\", \"gridcolor\": \"white\", \"gridwidth\": 2, \"linecolor\": \"white\", \"showbackground\": true, \"ticks\": \"\", \"zerolinecolor\": \"white\"}, \"zaxis\": {\"backgroundcolor\": \"#E5ECF6\", \"gridcolor\": \"white\", \"gridwidth\": 2, \"linecolor\": \"white\", \"showbackground\": true, \"ticks\": \"\", \"zerolinecolor\": \"white\"}}, \"shapedefaults\": {\"line\": {\"color\": \"#2a3f5f\"}}, \"ternary\": {\"aaxis\": {\"gridcolor\": \"white\", \"linecolor\": \"white\", \"ticks\": \"\"}, \"baxis\": {\"gridcolor\": \"white\", \"linecolor\": \"white\", \"ticks\": \"\"}, \"bgcolor\": \"#E5ECF6\", \"caxis\": {\"gridcolor\": \"white\", \"linecolor\": \"white\", \"ticks\": \"\"}}, \"title\": {\"x\": 0.05}, \"xaxis\": {\"automargin\": true, \"gridcolor\": \"white\", \"linecolor\": \"white\", \"ticks\": \"\", \"zerolinecolor\": \"white\", \"zerolinewidth\": 2}, \"yaxis\": {\"automargin\": true, \"gridcolor\": \"white\", \"linecolor\": \"white\", \"ticks\": \"\", \"zerolinecolor\": \"white\", \"zerolinewidth\": 2}}}},\n",
       "                        {\"responsive\": true}\n",
       "                    ).then(function(){\n",
       "                            \n",
       "var gd = document.getElementById('3880f236-e08f-42dc-add7-e1374ca67098');\n",
       "var x = new MutationObserver(function (mutations, observer) {{\n",
       "        var display = window.getComputedStyle(gd).display;\n",
       "        if (!display || display === 'none') {{\n",
       "            console.log([gd, 'removed!']);\n",
       "            Plotly.purge(gd);\n",
       "            observer.disconnect();\n",
       "        }}\n",
       "}});\n",
       "\n",
       "// Listen for the removal of the full notebook cells\n",
       "var notebookContainer = gd.closest('#notebook-container');\n",
       "if (notebookContainer) {{\n",
       "    x.observe(notebookContainer, {childList: true});\n",
       "}}\n",
       "\n",
       "// Listen for the clearing of the current output cell\n",
       "var outputEl = gd.closest('.output');\n",
       "if (outputEl) {{\n",
       "    x.observe(outputEl, {childList: true});\n",
       "}}\n",
       "\n",
       "                        })\n",
       "                };\n",
       "                });\n",
       "            </script>\n",
       "        </div>"
      ]
     },
     "metadata": {},
     "output_type": "display_data"
    }
   ],
   "source": [
    "ind = valores_silhueta.index(max(valores_silhueta))\n",
    "#@title Default title text\n",
    "fig = go.Figure()\n",
    "fig.add_trace(go.Scatter3d(x=[min_samples_plot[ind]],\n",
    "                         y = [eps_plot[ind]], z = [max(valores_silhueta)],\n",
    "                         mode = 'markers',marker_line_color=\"midnightblue\", \n",
    "                          marker_symbol=['x']))\n",
    "fig.add_trace(go.Scatter3d(x=min_samples_plot,\n",
    "                         y = eps_plot, z = valores_silhueta,\n",
    "                         mode = 'markers',\n",
    "                        text = labels))\n",
    "fig.update_layout(scene = dict(\n",
    "                    xaxis_title='eps',\n",
    "                    yaxis_title='min_samples',\n",
    "                    zaxis_title='silhueta'))\n",
    "fig.show()"
   ]
  },
  {
   "cell_type": "code",
   "execution_count": 145,
   "id": "ef8d7eb4",
   "metadata": {},
   "outputs": [
    {
     "name": "stdout",
     "output_type": "stream",
     "text": [
      "2.7\n",
      "81\n"
     ]
    }
   ],
   "source": [
    "# pega o índice do vamior valor do coeficiente de silhueta\n",
    "ind = valores_silhueta.index(max(valores_silhueta))\n",
    "# printa os valores de eps e min_samples para o maior valor de coeficiente de silhueta encontrado\n",
    "print(eps_plot[ind])\n",
    "print(min_samples_plot[ind])"
   ]
  },
  {
   "cell_type": "code",
   "execution_count": 147,
   "id": "9efd414e",
   "metadata": {},
   "outputs": [
    {
     "name": "stdout",
     "output_type": "stream",
     "text": [
      "0.3584231880254969\n"
     ]
    }
   ],
   "source": [
    "#mesmo melhorando os parametros o Kmeans ainda é melhor\n",
    "print(max(valores_silhueta))"
   ]
  },
  {
   "cell_type": "code",
   "execution_count": null,
   "id": "b35abc48",
   "metadata": {},
   "outputs": [],
   "source": []
  }
 ],
 "metadata": {
  "kernelspec": {
   "display_name": "Python 3 (ipykernel)",
   "language": "python",
   "name": "python3"
  },
  "language_info": {
   "codemirror_mode": {
    "name": "ipython",
    "version": 3
   },
   "file_extension": ".py",
   "mimetype": "text/x-python",
   "name": "python",
   "nbconvert_exporter": "python",
   "pygments_lexer": "ipython3",
   "version": "3.9.7"
  }
 },
 "nbformat": 4,
 "nbformat_minor": 5
}
