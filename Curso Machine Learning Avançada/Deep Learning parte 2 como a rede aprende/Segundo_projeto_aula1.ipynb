{
 "cells": [
  {
   "cell_type": "markdown",
   "metadata": {},
   "source": [
    "# Continuação Keras 1\n",
    "\n",
    "## Exploraremos os hiper parâmetros do algoritimo"
   ]
  },
  {
   "cell_type": "markdown",
   "metadata": {
    "colab_type": "text",
    "id": "sNc3NouWYrN7"
   },
   "source": [
    "Imports"
   ]
  },
  {
   "cell_type": "code",
   "execution_count": 1,
   "metadata": {
    "colab": {},
    "colab_type": "code",
    "id": "4bQCahYjYdUB"
   },
   "outputs": [],
   "source": [
    "import tensorflow\n",
    "from tensorflow import keras\n",
    "import matplotlib.pyplot as plt\n",
    "import numpy as np\n",
    "from tensorflow.keras.models import load_model\n",
    "import pandas as pd"
   ]
  },
  {
   "cell_type": "markdown",
   "metadata": {
    "colab_type": "text",
    "id": "f8uuzUjVYvkf"
   },
   "source": [
    "Carregando o dataset"
   ]
  },
  {
   "cell_type": "code",
   "execution_count": 2,
   "metadata": {
    "colab": {},
    "colab_type": "code",
    "id": "QoIys3wMYirH"
   },
   "outputs": [],
   "source": [
    "dataset = keras.datasets.fashion_mnist\n",
    "((imagens_treino, identificacoes_treino), (imagens_teste, identificacoes_teste)) = dataset.load_data()\n"
   ]
  },
  {
   "cell_type": "markdown",
   "metadata": {
    "colab_type": "text",
    "id": "oFr0526ZY5E_"
   },
   "source": [
    "Exploração dos dados"
   ]
  },
  {
   "cell_type": "code",
   "execution_count": 3,
   "metadata": {
    "colab": {
     "base_uri": "https://localhost:8080/",
     "height": 34
    },
    "colab_type": "code",
    "id": "fPIT36hpYl5A",
    "outputId": "61176d4b-23cf-4b16-887b-9c6a5532ad9f"
   },
   "outputs": [
    {
     "data": {
      "text/plain": [
       "9"
      ]
     },
     "execution_count": 3,
     "metadata": {},
     "output_type": "execute_result"
    }
   ],
   "source": [
    "len(imagens_treino)\n",
    "imagens_treino.shape\n",
    "imagens_teste.shape\n",
    "len(identificacoes_teste)\n",
    "identificacoes_treino.min()\n",
    "identificacoes_treino.max()"
   ]
  },
  {
   "cell_type": "markdown",
   "metadata": {
    "colab_type": "text",
    "id": "yTWqT9DIY-iB"
   },
   "source": [
    "Exibição dos dados"
   ]
  },
  {
   "cell_type": "code",
   "execution_count": 4,
   "metadata": {
    "colab": {
     "base_uri": "https://localhost:8080/",
     "height": 364
    },
    "colab_type": "code",
    "id": "bGESm49JVahh",
    "outputId": "c23e4dd9-50c3-4863-8813-8aeb793c49cf"
   },
   "outputs": [
    {
     "data": {
      "text/plain": [
       "<matplotlib.colorbar.Colorbar at 0x2909d973c70>"
      ]
     },
     "execution_count": 4,
     "metadata": {},
     "output_type": "execute_result"
    },
    {
     "data": {
      "image/png": "[encoded data removed]",
      "text/plain": [
       "<Figure size 432x288 with 2 Axes>"
      ]
     },
     "metadata": {
      "needs_background": "light"
     },
     "output_type": "display_data"
    }
   ],
   "source": [
    "total_de_classificacoes = 10\n",
    "nomes_de_classificacoes = ['Camiseta', 'Calça', 'Pullover', \n",
    "                           'Vestido', 'Casaco', 'Sandália', 'Camisa',\n",
    "                           'Tênis', 'Bolsa', 'Bota']\n",
    "\n",
    "plt.imshow(imagens_treino[0])\n",
    "plt.colorbar()"
   ]
  },
  {
   "cell_type": "markdown",
   "metadata": {
    "colab_type": "text",
    "id": "uU6ZySpIcoc5"
   },
   "source": [
    "Normalizando as imagens"
   ]
  },
  {
   "cell_type": "code",
   "execution_count": 5,
   "metadata": {
    "colab": {},
    "colab_type": "code",
    "id": "Ral_hdl9ulGG"
   },
   "outputs": [],
   "source": [
    "imagens_treino = imagens_treino/float(255)"
   ]
  },
  {
   "cell_type": "markdown",
   "metadata": {
    "colab_type": "text",
    "id": "2WABnvOJdCNl"
   },
   "source": [
    "Criando, compilando, treinando e normalizando o modelo"
   ]
  },
  {
   "cell_type": "code",
   "execution_count": 6,
   "metadata": {
    "colab": {
     "base_uri": "https://localhost:8080/",
     "height": 226
    },
    "colab_type": "code",
    "id": "uFedwlfFc0ii",
    "outputId": "7772c07b-077d-43e8-a9cd-7f7055df320f"
   },
   "outputs": [
    {
     "name": "stdout",
     "output_type": "stream",
     "text": [
      "Epoch 1/5\n",
      "1500/1500 [==============================] - 15s 9ms/step - loss: 0.5314 - accuracy: 0.8128 - val_loss: 0.4085 - val_accuracy: 0.8543\n",
      "Epoch 2/5\n",
      "1500/1500 [==============================] - 13s 9ms/step - loss: 0.4000 - accuracy: 0.8555 - val_loss: 0.3908 - val_accuracy: 0.8547\n",
      "Epoch 3/5\n",
      "1500/1500 [==============================] - 17s 11ms/step - loss: 0.3653 - accuracy: 0.8655 - val_loss: 0.3480 - val_accuracy: 0.8727\n",
      "Epoch 4/5\n",
      "1500/1500 [==============================] - 17s 11ms/step - loss: 0.3411 - accuracy: 0.8760 - val_loss: 0.3411 - val_accuracy: 0.8722\n",
      "Epoch 5/5\n",
      "1500/1500 [==============================] - 17s 11ms/step - loss: 0.3239 - accuracy: 0.8790 - val_loss: 0.3608 - val_accuracy: 0.8645\n"
     ]
    }
   ],
   "source": [
    "modelo = keras.Sequential([ \n",
    "    keras.layers.Flatten(input_shape=(28, 28)),\n",
    "    keras.layers.Dense(256, activation=tensorflow.nn.relu),\n",
    "    keras.layers.Dropout(0.2),\n",
    "    keras.layers.Dense(10, activation=tensorflow.nn.softmax)\n",
    "])\n",
    "\n",
    "modelo.compile(optimizer='adam', \n",
    "               loss='sparse_categorical_crossentropy',\n",
    "               metrics=['accuracy'])\n",
    "\n",
    "historico = modelo.fit(imagens_treino, identificacoes_treino, epochs=5, validation_split=0.2)"
   ]
  },
  {
   "cell_type": "markdown",
   "metadata": {
    "colab_type": "text",
    "id": "weeyzt2QuDXS"
   },
   "source": [
    "Sumário do modelo"
   ]
  },
  {
   "cell_type": "code",
   "execution_count": 7,
   "metadata": {
    "colab": {
     "base_uri": "https://localhost:8080/",
     "height": 274
    },
    "colab_type": "code",
    "id": "QLG_CH6Lr2vp",
    "outputId": "5bf36159-d992-43e3-9f62-a2950eeb7628"
   },
   "outputs": [
    {
     "name": "stdout",
     "output_type": "stream",
     "text": [
      "Model: \"sequential\"\n",
      "_________________________________________________________________\n",
      " Layer (type)                Output Shape              Param #   \n",
      "=================================================================\n",
      " flatten (Flatten)           (None, 784)               0         \n",
      "                                                                 \n",
      " dense (Dense)               (None, 256)               200960    \n",
      "                                                                 \n",
      " dropout (Dropout)           (None, 256)               0         \n",
      "                                                                 \n",
      " dense_1 (Dense)             (None, 10)                2570      \n",
      "                                                                 \n",
      "=================================================================\n",
      "Total params: 203,530\n",
      "Trainable params: 203,530\n",
      "Non-trainable params: 0\n",
      "_________________________________________________________________\n"
     ]
    }
   ],
   "source": [
    "sumario_do_modelo = modelo.summary()"
   ]
  },
  {
   "cell_type": "markdown",
   "metadata": {
    "colab_type": "text",
    "id": "GVuSQg42udch"
   },
   "source": [
    "Pesos da primeira camada Dense"
   ]
  },
  {
   "cell_type": "code",
   "execution_count": 8,
   "metadata": {
    "colab": {
     "base_uri": "https://localhost:8080/",
     "height": 1354
    },
    "colab_type": "code",
    "id": "YRzqJi5gr-ug",
    "outputId": "fb501c8a-69f6-49c1-ae48-176d4cf06592"
   },
   "outputs": [
    {
     "data": {
      "text/plain": [
       "array([[ 0.06674664,  0.0118607 , -0.02588481, ..., -0.07102602,\n",
       "        -0.07730432,  0.01622638],\n",
       "       [ 0.00556521,  0.09390621,  0.03655852, ...,  0.06825049,\n",
       "         0.06873301, -0.01740154],\n",
       "       [ 0.05999038,  0.0451789 , -0.12405688, ...,  0.08062021,\n",
       "         0.04780498, -0.00755421],\n",
       "       ...,\n",
       "       [ 0.01551096,  0.06710745,  0.09969728, ...,  0.05409975,\n",
       "         0.03777216, -0.06376144],\n",
       "       [ 0.05557337,  0.08943402,  0.05827899, ..., -0.00777906,\n",
       "         0.24095555,  0.06470338],\n",
       "       [-0.06884945,  0.12043689,  0.03979446, ...,  0.01052309,\n",
       "         0.02944497,  0.06424912]], dtype=float32)"
      ]
     },
     "execution_count": 8,
     "metadata": {},
     "output_type": "execute_result"
    }
   ],
   "source": [
    "# por debaixo dos panos temos um array multiplicando outro, ou seja, multiplicação de matrizes\n",
    "pesos_camada_dense = modelo.layers[1].get_weights()[0]\n",
    "pesos_camada_dense"
   ]
  },
  {
   "cell_type": "code",
   "execution_count": 31,
   "metadata": {},
   "outputs": [
    {
     "data": {
      "text/plain": [
       "[array([[0.08506371, 0.37737295, 0.6082986 , ..., 0.15881157, 0.9517258 ,\n",
       "         0.29355597],\n",
       "        [0.57969284, 0.68899536, 0.64905345, ..., 0.15617537, 0.555076  ,\n",
       "         0.20193191],\n",
       "        [0.13911012, 0.99130833, 0.73842317, ..., 0.18345225, 0.9255729 ,\n",
       "         0.46215892],\n",
       "        ...,\n",
       "        [0.6156918 , 0.07653219, 0.46772516, ..., 0.91493165, 0.665747  ,\n",
       "         0.04815048],\n",
       "        [0.62530476, 0.01737131, 0.51878756, ..., 0.73408437, 0.8703075 ,\n",
       "         0.4500514 ],\n",
       "        [0.55580586, 0.20533577, 0.27860764, ..., 0.6348232 , 0.21518947,\n",
       "         0.22111376]], dtype=float32),\n",
       " array([-0.00234339,  0.29259217,  0.0783061 ,  0.23941855,  0.40583783,\n",
       "        -0.41105545, -0.12638596,  0.06212105,  0.42711964, -0.3482945 ,\n",
       "         0.28172946, -0.23968284,  0.19466366, -0.13652675,  0.16240482,\n",
       "        -0.01664213, -0.00279119,  0.4187794 ,  0.32404175,  0.17376934,\n",
       "        -0.01387375,  0.1259256 ,  0.23205955,  0.11461485,  0.00373458,\n",
       "        -0.02744661,  0.09945203,  0.15759261,  0.15220986,  0.19032471,\n",
       "         0.12039661, -0.23509464,  0.17552388,  0.24549451,  0.16233751,\n",
       "         0.1348791 , -0.06909952,  0.1463418 , -0.1612582 , -0.08490401,\n",
       "         0.10557093,  0.33384788, -0.02034314,  0.29822665,  0.23226562,\n",
       "         0.17055029,  0.1604506 , -0.01055793,  0.30176896,  0.32307643,\n",
       "         0.06653915, -0.08625884,  0.15459052,  0.00174552,  0.14191157,\n",
       "        -0.01112457, -0.14217083, -0.00770316, -0.01283977,  0.06921311,\n",
       "         0.18768263,  0.28341526,  0.1946293 ,  0.23554374,  0.401892  ,\n",
       "         0.37616563, -0.16138977, -0.01128182,  0.13042533, -0.01499789,\n",
       "        -0.21524997,  0.273744  , -0.20742847,  0.01639158,  0.05975844,\n",
       "         0.26228246, -0.0126286 ,  0.29648978, -0.02357383,  0.29173997,\n",
       "         0.26164496,  0.15984486,  0.10923599,  0.31961995,  0.32341373,\n",
       "         0.0528134 ,  0.11792938,  0.18340953,  0.12193914,  0.21647935,\n",
       "         0.13078423,  0.08428571, -0.0129636 ,  0.19869255,  0.21734832,\n",
       "        -0.14610629,  0.19256094, -0.0173682 , -0.00085044,  0.25786197,\n",
       "        -0.02634582,  0.44355807,  0.11906723,  0.03894934,  0.05901225,\n",
       "         0.14654087,  0.27634633,  0.18692927,  0.04312602,  0.37000185,\n",
       "         0.0477188 , -0.23554456, -0.01255463, -0.0083093 ,  0.15053447,\n",
       "         0.0485314 ,  0.10768422, -0.00677118,  0.24106976,  0.05222437,\n",
       "         0.2387837 ,  0.19527775,  0.19579625, -0.0575207 , -0.15359825,\n",
       "        -0.21823117,  0.08373693, -0.05732814,  0.16391167, -0.02257773,\n",
       "         0.2619052 , -0.03262916, -0.18480812,  0.07188964,  0.06224853,\n",
       "        -0.18447965,  0.1686949 , -0.01185691,  0.13190071, -0.0334568 ,\n",
       "         0.22319153,  0.32822764,  0.35995135,  0.08517762,  0.31223887,\n",
       "         0.09307564,  0.20326214, -0.01664963, -0.06572866, -0.06636008,\n",
       "         0.3308157 ,  0.11925378,  0.21935472,  0.0013866 ,  0.13014023,\n",
       "        -0.01480066,  0.2599928 ,  0.17305508,  0.13922244, -0.07914215,\n",
       "        -0.00463875,  0.13027167, -0.01465697, -0.00903462, -0.11962058,\n",
       "        -0.02588571,  0.1760288 , -0.01884554,  0.11039608,  0.20676538,\n",
       "         0.32148317, -0.01225277,  0.36429948,  0.07917454,  0.00525199,\n",
       "         0.28118297,  0.05774306,  0.05852431,  0.29168972,  0.11519688,\n",
       "         0.34628895, -0.19410634, -0.16656323,  0.13319328, -0.01051383,\n",
       "         0.22250082,  0.11560703, -0.01868038, -0.15122528,  0.10666609,\n",
       "        -0.04406992, -0.27155682, -0.02739069, -0.16864409,  0.10239186,\n",
       "         0.24523935, -0.02443816,  0.12611903,  0.18680052,  0.36694303,\n",
       "         0.23059168,  0.31514177,  0.04998996,  0.17659588,  0.30498973,\n",
       "         0.16866186,  0.37523556, -0.01977928, -0.29629096, -0.02287104,\n",
       "        -0.02004673, -0.01037482,  0.12378462, -0.22662799,  0.1386588 ,\n",
       "         0.36099085, -0.01499557,  0.40593132,  0.1943147 ,  0.1671903 ,\n",
       "         0.21874145,  0.2776913 ,  0.28355333,  0.24008876,  0.10251439,\n",
       "        -0.02068458,  0.05049593,  0.24654005, -0.00451117,  0.10350218,\n",
       "         0.07587366,  0.0230378 ,  0.27110595, -0.32661226, -0.22739749,\n",
       "         0.00771232,  0.12363227,  0.18285401, -0.08113541,  0.13151063,\n",
       "         0.36748806,  0.44263187,  0.18619412,  0.2782188 , -0.00612673,\n",
       "        -0.26737544,  0.30591592, -0.06186958, -0.34019926,  0.23658083,\n",
       "         0.02043987, -0.1660704 , -0.03290554,  0.37315366,  0.14323784,\n",
       "         0.10435027], dtype=float32)]"
      ]
     },
     "execution_count": 31,
     "metadata": {},
     "output_type": "execute_result"
    }
   ],
   "source": [
    "# criando array com valores zerados e aleatórios\n",
    "pesos_camada_dense.shape\n",
    "pesos_camada_dense_zerados = np.zeros((784, 256))\n",
    "\n",
    "pesos_camada_dense_aleatorios = np.random.rand(784, 256)\n",
    "\n",
    "'''\n",
    "modelo.layers[1].set_weights(\n",
    "    [pesos_camada_dense_zerados, vieses_pesos_camada_dense])\n",
    "'''\n",
    "modelo.layers[1].set_weights(\n",
    "    [pesos_camada_dense_aleatorios, vieses_pesos_camada_dense])\n",
    "\n",
    "modelo.layers[1].get_weights()\n"
   ]
  },
  {
   "cell_type": "code",
   "execution_count": 32,
   "metadata": {},
   "outputs": [
    {
     "name": "stdout",
     "output_type": "stream",
     "text": [
      "Epoch 1/5\n",
      "1500/1500 [==============================] - 12s 8ms/step - loss: 120.0329 - accuracy: 0.4116 - val_loss: 15.0974 - val_accuracy: 0.7365\n",
      "Epoch 2/5\n",
      "1500/1500 [==============================] - 13s 9ms/step - loss: 31.1969 - accuracy: 0.6317 - val_loss: 10.8891 - val_accuracy: 0.7637\n",
      "Epoch 3/5\n",
      "1500/1500 [==============================] - 13s 9ms/step - loss: 14.4760 - accuracy: 0.6978 - val_loss: 6.0494 - val_accuracy: 0.7638\n",
      "Epoch 4/5\n",
      "1500/1500 [==============================] - 13s 9ms/step - loss: 7.0952 - accuracy: 0.7327 - val_loss: 4.0296 - val_accuracy: 0.7771\n",
      "Epoch 5/5\n",
      "1500/1500 [==============================] - 13s 9ms/step - loss: 3.7470 - accuracy: 0.7578 - val_loss: 2.1253 - val_accuracy: 0.8148\n"
     ]
    }
   ],
   "source": [
    "#rodando o modelo com o array de pesos zerados\n",
    "modelo.compile(optimizer='adam', \n",
    "               loss='sparse_categorical_crossentropy',\n",
    "               metrics=['accuracy'])\n",
    "\n",
    "historico = modelo.fit(imagens_treino, identificacoes_treino, epochs=5, validation_split=0.2)"
   ]
  },
  {
   "cell_type": "code",
   "execution_count": 35,
   "metadata": {},
   "outputs": [
    {
     "data": {
      "text/plain": [
       "{'name': 'sequential',\n",
       " 'layers': [{'class_name': 'InputLayer',\n",
       "   'config': {'batch_input_shape': (None, 28, 28),\n",
       "    'dtype': 'float32',\n",
       "    'sparse': False,\n",
       "    'ragged': False,\n",
       "    'name': 'flatten_input'}},\n",
       "  {'class_name': 'Flatten',\n",
       "   'config': {'name': 'flatten',\n",
       "    'trainable': True,\n",
       "    'batch_input_shape': (None, 28, 28),\n",
       "    'dtype': 'float32',\n",
       "    'data_format': 'channels_last'}},\n",
       "  {'class_name': 'Dense',\n",
       "   'config': {'name': 'dense',\n",
       "    'trainable': True,\n",
       "    'dtype': 'float32',\n",
       "    'units': 256,\n",
       "    'activation': 'relu',\n",
       "    'use_bias': True,\n",
       "    'kernel_initializer': {'class_name': 'GlorotUniform',\n",
       "     'config': {'seed': None}},\n",
       "    'bias_initializer': {'class_name': 'Zeros', 'config': {}},\n",
       "    'kernel_regularizer': None,\n",
       "    'bias_regularizer': None,\n",
       "    'activity_regularizer': None,\n",
       "    'kernel_constraint': None,\n",
       "    'bias_constraint': None}},\n",
       "  {'class_name': 'Dropout',\n",
       "   'config': {'name': 'dropout',\n",
       "    'trainable': True,\n",
       "    'dtype': 'float32',\n",
       "    'rate': 0.2,\n",
       "    'noise_shape': None,\n",
       "    'seed': None}},\n",
       "  {'class_name': 'Dense',\n",
       "   'config': {'name': 'dense_1',\n",
       "    'trainable': True,\n",
       "    'dtype': 'float32',\n",
       "    'units': 10,\n",
       "    'activation': 'softmax',\n",
       "    'use_bias': True,\n",
       "    'kernel_initializer': {'class_name': 'GlorotUniform',\n",
       "     'config': {'seed': None}},\n",
       "    'bias_initializer': {'class_name': 'Zeros', 'config': {}},\n",
       "    'kernel_regularizer': None,\n",
       "    'bias_regularizer': None,\n",
       "    'activity_regularizer': None,\n",
       "    'kernel_constraint': None,\n",
       "    'bias_constraint': None}}]}"
      ]
     },
     "execution_count": 35,
     "metadata": {},
     "output_type": "execute_result"
    }
   ],
   "source": [
    "modelo.get_config()"
   ]
  },
  {
   "cell_type": "code",
   "execution_count": 33,
   "metadata": {},
   "outputs": [
    {
     "data": {
      "text/plain": [
       "<matplotlib.legend.Legend at 0x2909b234bb0>"
      ]
     },
     "execution_count": 33,
     "metadata": {},
     "output_type": "execute_result"
    },
    {
     "data": {
      "image/png": "[encoded data removed]",
      "text/plain": [
       "<Figure size 432x288 with 1 Axes>"
      ]
     },
     "metadata": {
      "needs_background": "light"
     },
     "output_type": "display_data"
    }
   ],
   "source": [
    "plt.plot(historico.history['accuracy'])\n",
    "plt.plot(historico.history['val_accuracy'])\n",
    "plt.title('Acurácia por épocas')\n",
    "plt.xlabel('épocas')\n",
    "plt.ylabel('acurácia')\n",
    "plt.legend(['treino', 'validação'])"
   ]
  },
  {
   "cell_type": "code",
   "execution_count": 34,
   "metadata": {},
   "outputs": [
    {
     "data": {
      "text/plain": [
       "<matplotlib.legend.Legend at 0x2909c3ae430>"
      ]
     },
     "execution_count": 34,
     "metadata": {},
     "output_type": "execute_result"
    },
    {
     "data": {
      "image/png": "[encoded data removed]",
      "text/plain": [
       "<Figure size 432x288 with 1 Axes>"
      ]
     },
     "metadata": {
      "needs_background": "light"
     },
     "output_type": "display_data"
    }
   ],
   "source": [
    "plt.plot(historico.history['loss'])\n",
    "plt.plot(historico.history['val_loss'])\n",
    "plt.title('Perda por épocas')\n",
    "plt.xlabel('épocas')\n",
    "plt.ylabel('perda')\n",
    "plt.legend(['treino', 'validação'])"
   ]
  },
  {
   "cell_type": "code",
   "execution_count": 10,
   "metadata": {},
   "outputs": [
    {
     "data": {
      "text/plain": [
       "array([-0.00234339,  0.29259217,  0.0783061 ,  0.23941855,  0.40583783,\n",
       "       -0.41105545, -0.12638596,  0.06212105,  0.42711964, -0.3482945 ,\n",
       "        0.28172946, -0.23968284,  0.19466366, -0.13652675,  0.16240482,\n",
       "       -0.01664213, -0.00279119,  0.4187794 ,  0.32404175,  0.17376934,\n",
       "       -0.01387375,  0.1259256 ,  0.23205955,  0.11461485,  0.00373458,\n",
       "       -0.02744661,  0.09945203,  0.15759261,  0.15220986,  0.19032471,\n",
       "        0.12039661, -0.23509464,  0.17552388,  0.24549451,  0.16233751,\n",
       "        0.1348791 , -0.06909952,  0.1463418 , -0.1612582 , -0.08490401,\n",
       "        0.10557093,  0.33384788, -0.02034314,  0.29822665,  0.23226562,\n",
       "        0.17055029,  0.1604506 , -0.01055793,  0.30176896,  0.32307643,\n",
       "        0.06653915, -0.08625884,  0.15459052,  0.00174552,  0.14191157,\n",
       "       -0.01112457, -0.14217083, -0.00770316, -0.01283977,  0.06921311,\n",
       "        0.18768263,  0.28341526,  0.1946293 ,  0.23554374,  0.401892  ,\n",
       "        0.37616563, -0.16138977, -0.01128182,  0.13042533, -0.01499789,\n",
       "       -0.21524997,  0.273744  , -0.20742847,  0.01639158,  0.05975844,\n",
       "        0.26228246, -0.0126286 ,  0.29648978, -0.02357383,  0.29173997,\n",
       "        0.26164496,  0.15984486,  0.10923599,  0.31961995,  0.32341373,\n",
       "        0.0528134 ,  0.11792938,  0.18340953,  0.12193914,  0.21647935,\n",
       "        0.13078423,  0.08428571, -0.0129636 ,  0.19869255,  0.21734832,\n",
       "       -0.14610629,  0.19256094, -0.0173682 , -0.00085044,  0.25786197,\n",
       "       -0.02634582,  0.44355807,  0.11906723,  0.03894934,  0.05901225,\n",
       "        0.14654087,  0.27634633,  0.18692927,  0.04312602,  0.37000185,\n",
       "        0.0477188 , -0.23554456, -0.01255463, -0.0083093 ,  0.15053447,\n",
       "        0.0485314 ,  0.10768422, -0.00677118,  0.24106976,  0.05222437,\n",
       "        0.2387837 ,  0.19527775,  0.19579625, -0.0575207 , -0.15359825,\n",
       "       -0.21823117,  0.08373693, -0.05732814,  0.16391167, -0.02257773,\n",
       "        0.2619052 , -0.03262916, -0.18480812,  0.07188964,  0.06224853,\n",
       "       -0.18447965,  0.1686949 , -0.01185691,  0.13190071, -0.0334568 ,\n",
       "        0.22319153,  0.32822764,  0.35995135,  0.08517762,  0.31223887,\n",
       "        0.09307564,  0.20326214, -0.01664963, -0.06572866, -0.06636008,\n",
       "        0.3308157 ,  0.11925378,  0.21935472,  0.0013866 ,  0.13014023,\n",
       "       -0.01480066,  0.2599928 ,  0.17305508,  0.13922244, -0.07914215,\n",
       "       -0.00463875,  0.13027167, -0.01465697, -0.00903462, -0.11962058,\n",
       "       -0.02588571,  0.1760288 , -0.01884554,  0.11039608,  0.20676538,\n",
       "        0.32148317, -0.01225277,  0.36429948,  0.07917454,  0.00525199,\n",
       "        0.28118297,  0.05774306,  0.05852431,  0.29168972,  0.11519688,\n",
       "        0.34628895, -0.19410634, -0.16656323,  0.13319328, -0.01051383,\n",
       "        0.22250082,  0.11560703, -0.01868038, -0.15122528,  0.10666609,\n",
       "       -0.04406992, -0.27155682, -0.02739069, -0.16864409,  0.10239186,\n",
       "        0.24523935, -0.02443816,  0.12611903,  0.18680052,  0.36694303,\n",
       "        0.23059168,  0.31514177,  0.04998996,  0.17659588,  0.30498973,\n",
       "        0.16866186,  0.37523556, -0.01977928, -0.29629096, -0.02287104,\n",
       "       -0.02004673, -0.01037482,  0.12378462, -0.22662799,  0.1386588 ,\n",
       "        0.36099085, -0.01499557,  0.40593132,  0.1943147 ,  0.1671903 ,\n",
       "        0.21874145,  0.2776913 ,  0.28355333,  0.24008876,  0.10251439,\n",
       "       -0.02068458,  0.05049593,  0.24654005, -0.00451117,  0.10350218,\n",
       "        0.07587366,  0.0230378 ,  0.27110595, -0.32661226, -0.22739749,\n",
       "        0.00771232,  0.12363227,  0.18285401, -0.08113541,  0.13151063,\n",
       "        0.36748806,  0.44263187,  0.18619412,  0.2782188 , -0.00612673,\n",
       "       -0.26737544,  0.30591592, -0.06186958, -0.34019926,  0.23658083,\n",
       "        0.02043987, -0.1660704 , -0.03290554,  0.37315366,  0.14323784,\n",
       "        0.10435027], dtype=float32)"
      ]
     },
     "execution_count": 10,
     "metadata": {},
     "output_type": "execute_result"
    }
   ],
   "source": [
    "vieses_pesos_camada_dense = modelo.layers[1].get_weights()[1]\n",
    "vieses_pesos_camada_dense"
   ]
  },
  {
   "cell_type": "markdown",
   "metadata": {
    "colab_type": "text",
    "id": "4-RqzS88dgk_"
   },
   "source": [
    "Salvando e carregando o modelo treinado"
   ]
  },
  {
   "cell_type": "code",
   "execution_count": 11,
   "metadata": {
    "colab": {},
    "colab_type": "code",
    "id": "SVjmU41IELzX"
   },
   "outputs": [],
   "source": [
    "modelo.save('modelo.h5')\n",
    "modelo_salvo = load_model('modelo.h5')"
   ]
  },
  {
   "cell_type": "markdown",
   "metadata": {
    "colab_type": "text",
    "id": "SVxHO3opdnMb"
   },
   "source": [
    "Visualizando as acurácias de treino e validação por época"
   ]
  },
  {
   "cell_type": "code",
   "execution_count": 12,
   "metadata": {
    "colab": {
     "base_uri": "https://localhost:8080/",
     "height": 394
    },
    "colab_type": "code",
    "id": "pNc0JsWZY1Ie",
    "outputId": "19182697-90e1-4179-928a-18b420c48d8a"
   },
   "outputs": [
    {
     "data": {
      "text/plain": [
       "<matplotlib.legend.Legend at 0x2909cd94cd0>"
      ]
     },
     "execution_count": 12,
     "metadata": {},
     "output_type": "execute_result"
    },
    {
     "data": {
      "image/png": "[encoded data removed]",
      "text/plain": [
       "<Figure size 432x288 with 1 Axes>"
      ]
     },
     "metadata": {
      "needs_background": "light"
     },
     "output_type": "display_data"
    }
   ],
   "source": [
    "plt.plot(historico.history['accuracy'])\n",
    "plt.plot(historico.history['val_accuracy'])\n",
    "plt.title('Acurácia por épocas')\n",
    "plt.xlabel('épocas')\n",
    "plt.ylabel('acurácia')\n",
    "plt.legend(['treino', 'validação'])\n"
   ]
  },
  {
   "cell_type": "markdown",
   "metadata": {
    "colab_type": "text",
    "id": "ZKxkWNawdzZh"
   },
   "source": [
    "Visualizando as perdas de treino e validação por época"
   ]
  },
  {
   "cell_type": "code",
   "execution_count": 13,
   "metadata": {
    "colab": {
     "base_uri": "https://localhost:8080/",
     "height": 393
    },
    "colab_type": "code",
    "id": "2ugG3Vusg_Va",
    "outputId": "dbc526a0-5890-4ece-a0e0-0ab01e18034a"
   },
   "outputs": [
    {
     "data": {
      "text/plain": [
       "<matplotlib.legend.Legend at 0x2909cdd02b0>"
      ]
     },
     "execution_count": 13,
     "metadata": {},
     "output_type": "execute_result"
    },
    {
     "data": {
      "image/png": "[encoded data removed]",
      "text/plain": [
       "<Figure size 432x288 with 1 Axes>"
      ]
     },
     "metadata": {
      "needs_background": "light"
     },
     "output_type": "display_data"
    }
   ],
   "source": [
    "plt.plot(historico.history['loss'])\n",
    "plt.plot(historico.history['val_loss'])\n",
    "plt.title('Perda por épocas')\n",
    "plt.xlabel('épocas')\n",
    "plt.ylabel('perda')\n",
    "plt.legend(['treino', 'validação'])"
   ]
  },
  {
   "cell_type": "markdown",
   "metadata": {
    "colab_type": "text",
    "id": "JFXG1oibd8E8"
   },
   "source": [
    "Testando o modelo e o modelo salvo"
   ]
  },
  {
   "cell_type": "code",
   "execution_count": 14,
   "metadata": {
    "colab": {
     "base_uri": "https://localhost:8080/",
     "height": 85
    },
    "colab_type": "code",
    "id": "I2kLEHPYUdhd",
    "outputId": "c62dd99d-5620-437b-8cda-2553728c86c3"
   },
   "outputs": [
    {
     "name": "stdout",
     "output_type": "stream",
     "text": [
      "313/313 [==============================] - 2s 5ms/step\n",
      "resultado teste: 2\n",
      "número da imagem de teste: 2\n",
      "313/313 [==============================] - 2s 6ms/step\n",
      "resultado teste modelo salvo: 2\n",
      "número da imagem de teste: 2\n"
     ]
    }
   ],
   "source": [
    "testes = modelo.predict(imagens_teste)\n",
    "print('resultado teste:', np.argmax(testes[1]))\n",
    "print('número da imagem de teste:', identificacoes_teste[1])\n",
    "\n",
    "testes_modelo_salvo = modelo_salvo.predict(imagens_teste)\n",
    "print('resultado teste modelo salvo:', np.argmax(testes_modelo_salvo[1]))\n",
    "print('número da imagem de teste:', identificacoes_teste[1])"
   ]
  },
  {
   "cell_type": "markdown",
   "metadata": {
    "colab_type": "text",
    "id": "U64QMV1GeCUr"
   },
   "source": [
    "Avaliando o modelo"
   ]
  },
  {
   "cell_type": "code",
   "execution_count": 15,
   "metadata": {
    "colab": {
     "base_uri": "https://localhost:8080/",
     "height": 68
    },
    "colab_type": "code",
    "id": "wsbr9WqyXQ2G",
    "outputId": "cbf2e2c1-699b-4688-e770-e7ecbe5c0fd5"
   },
   "outputs": [
    {
     "name": "stdout",
     "output_type": "stream",
     "text": [
      "313/313 [==============================] - 3s 7ms/step - loss: 46.2446 - accuracy: 0.8647\n",
      "Perda do teste: 46.24462890625\n",
      "Acurácia do teste: 0.8647000193595886\n"
     ]
    }
   ],
   "source": [
    "perda_teste, acuracia_teste = modelo.evaluate(imagens_teste, identificacoes_teste)\n",
    "print('Perda do teste:', perda_teste)\n",
    "print('Acurácia do teste:', acuracia_teste)"
   ]
  },
  {
   "cell_type": "code",
   "execution_count": null,
   "metadata": {},
   "outputs": [],
   "source": []
  }
 ],
 "metadata": {
  "colab": {
   "collapsed_sections": [],
   "name": "Segundo_projeto_aula1.ipynb",
   "provenance": [],
   "version": "0.3.2"
  },
  "kernelspec": {
   "display_name": "Python 3 (ipykernel)",
   "language": "python",
   "name": "python3"
  },
  "language_info": {
   "codemirror_mode": {
    "name": "ipython",
    "version": 3
   },
   "file_extension": ".py",
   "mimetype": "text/x-python",
   "name": "python",
   "nbconvert_exporter": "python",
   "pygments_lexer": "ipython3",
   "version": "3.9.7"
  }
 },
 "nbformat": 4,
 "nbformat_minor": 1
}
