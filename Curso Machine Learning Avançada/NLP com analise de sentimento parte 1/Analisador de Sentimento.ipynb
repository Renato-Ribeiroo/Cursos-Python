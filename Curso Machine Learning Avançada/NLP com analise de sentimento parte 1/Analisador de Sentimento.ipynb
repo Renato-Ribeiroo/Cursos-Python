{
 "cells": [
  {
   "cell_type": "markdown",
   "id": "56d7676d",
   "metadata": {},
   "source": [
    "## Criaremos um modelo de Machine Learning capaz de análisar um determinado texto, e classifica-lo  de acordo com o sentimento, ou seja, se a pessoa gostou ou não daquele texto. "
   ]
  },
  {
   "cell_type": "markdown",
   "id": "f621015c",
   "metadata": {},
   "source": [
    "### Utilizaremos uma base de dados em Português para aplicar o modelo de Machine Learning"
   ]
  },
  {
   "cell_type": "code",
   "execution_count": null,
   "id": "2eaa29ea",
   "metadata": {},
   "outputs": [],
   "source": []
  }
 ],
 "metadata": {
  "kernelspec": {
   "display_name": "Python 3 (ipykernel)",
   "language": "python",
   "name": "python3"
  },
  "language_info": {
   "codemirror_mode": {
    "name": "ipython",
    "version": 3
   },
   "file_extension": ".py",
   "mimetype": "text/x-python",
   "name": "python",
   "nbconvert_exporter": "python",
   "pygments_lexer": "ipython3",
   "version": "3.9.13"
  }
 },
 "nbformat": 4,
 "nbformat_minor": 5
}
