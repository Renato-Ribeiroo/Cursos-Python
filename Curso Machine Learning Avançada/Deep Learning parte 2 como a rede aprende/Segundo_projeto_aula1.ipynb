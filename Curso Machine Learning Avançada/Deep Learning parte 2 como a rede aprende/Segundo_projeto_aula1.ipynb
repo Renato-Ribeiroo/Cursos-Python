{
 "cells": [
  {
   "cell_type": "markdown",
   "metadata": {},
   "source": [
    "# Continuação Keras 1\n",
    "\n",
    "## Exploraremos os hiper parâmetros do algoritimo"
   ]
  },
  {
   "cell_type": "markdown",
   "metadata": {
    "colab_type": "text",
    "id": "sNc3NouWYrN7"
   },
   "source": [
    "Imports"
   ]
  },
  {
   "cell_type": "code",
   "execution_count": 1,
   "metadata": {
    "colab": {},
    "colab_type": "code",
    "id": "4bQCahYjYdUB"
   },
   "outputs": [],
   "source": [
    "import tensorflow\n",
    "from tensorflow import keras\n",
    "import matplotlib.pyplot as plt\n",
    "import numpy as np\n",
    "from tensorflow.keras.models import load_model\n",
    "import pandas as pd"
   ]
  },
  {
   "cell_type": "markdown",
   "metadata": {
    "colab_type": "text",
    "id": "f8uuzUjVYvkf"
   },
   "source": [
    "Carregando o dataset"
   ]
  },
  {
   "cell_type": "code",
   "execution_count": 2,
   "metadata": {
    "colab": {},
    "colab_type": "code",
    "id": "QoIys3wMYirH"
   },
   "outputs": [],
   "source": [
    "dataset = keras.datasets.fashion_mnist\n",
    "((imagens_treino, identificacoes_treino), (imagens_teste, identificacoes_teste)) = dataset.load_data()\n"
   ]
  },
  {
   "cell_type": "markdown",
   "metadata": {
    "colab_type": "text",
    "id": "oFr0526ZY5E_"
   },
   "source": [
    "Exploração dos dados"
   ]
  },
  {
   "cell_type": "code",
   "execution_count": 3,
   "metadata": {
    "colab": {
     "base_uri": "https://localhost:8080/",
     "height": 34
    },
    "colab_type": "code",
    "id": "fPIT36hpYl5A",
    "outputId": "61176d4b-23cf-4b16-887b-9c6a5532ad9f"
   },
   "outputs": [
    {
     "data": {
      "text/plain": [
       "9"
      ]
     },
     "execution_count": 3,
     "metadata": {},
     "output_type": "execute_result"
    }
   ],
   "source": [
    "len(imagens_treino)\n",
    "imagens_treino.shape\n",
    "imagens_teste.shape\n",
    "len(identificacoes_teste)\n",
    "identificacoes_treino.min()\n",
    "identificacoes_treino.max()"
   ]
  },
  {
   "cell_type": "markdown",
   "metadata": {
    "colab_type": "text",
    "id": "yTWqT9DIY-iB"
   },
   "source": [
    "Exibição dos dados"
   ]
  },
  {
   "cell_type": "code",
   "execution_count": 4,
   "metadata": {
    "colab": {
     "base_uri": "https://localhost:8080/",
     "height": 364
    },
    "colab_type": "code",
    "id": "bGESm49JVahh",
    "outputId": "c23e4dd9-50c3-4863-8813-8aeb793c49cf"
   },
   "outputs": [
    {
     "data": {
      "text/plain": [
       "<matplotlib.colorbar.Colorbar at 0x19660d01c70>"
      ]
     },
     "execution_count": 4,
     "metadata": {},
     "output_type": "execute_result"
    },
    {
     "data": {
      "image/png": "[encoded data removed]",
      "text/plain": [
       "<Figure size 432x288 with 2 Axes>"
      ]
     },
     "metadata": {
      "needs_background": "light"
     },
     "output_type": "display_data"
    }
   ],
   "source": [
    "total_de_classificacoes = 10\n",
    "nomes_de_classificacoes = ['Camiseta', 'Calça', 'Pullover', \n",
    "                           'Vestido', 'Casaco', 'Sandália', 'Camisa',\n",
    "                           'Tênis', 'Bolsa', 'Bota']\n",
    "\n",
    "plt.imshow(imagens_treino[0])\n",
    "plt.colorbar()"
   ]
  },
  {
   "cell_type": "markdown",
   "metadata": {
    "colab_type": "text",
    "id": "uU6ZySpIcoc5"
   },
   "source": [
    "Normalizando as imagens"
   ]
  },
  {
   "cell_type": "code",
   "execution_count": 5,
   "metadata": {
    "colab": {},
    "colab_type": "code",
    "id": "Ral_hdl9ulGG"
   },
   "outputs": [],
   "source": [
    "imagens_treino = imagens_treino/float(255)"
   ]
  },
  {
   "cell_type": "markdown",
   "metadata": {
    "colab_type": "text",
    "id": "2WABnvOJdCNl"
   },
   "source": [
    "Criando, compilando, treinando e normalizando o modelo"
   ]
  },
  {
   "cell_type": "code",
   "execution_count": 6,
   "metadata": {
    "colab": {
     "base_uri": "https://localhost:8080/",
     "height": 226
    },
    "colab_type": "code",
    "id": "uFedwlfFc0ii",
    "outputId": "7772c07b-077d-43e8-a9cd-7f7055df320f"
   },
   "outputs": [
    {
     "name": "stdout",
     "output_type": "stream",
     "text": [
      "Epoch 1/5\n",
      "1500/1500 [==============================] - 17s 10ms/step - loss: 0.5304 - accuracy: 0.8118 - val_loss: 0.4324 - val_accuracy: 0.8430\n",
      "Epoch 2/5\n",
      "1500/1500 [==============================] - 14s 9ms/step - loss: 0.4010 - accuracy: 0.8540 - val_loss: 0.3795 - val_accuracy: 0.8635\n",
      "Epoch 3/5\n",
      "1500/1500 [==============================] - 15s 10ms/step - loss: 0.3653 - accuracy: 0.8674 - val_loss: 0.3709 - val_accuracy: 0.8621\n",
      "Epoch 4/5\n",
      "1500/1500 [==============================] - 12s 8ms/step - loss: 0.3407 - accuracy: 0.8747 - val_loss: 0.3366 - val_accuracy: 0.8802\n",
      "Epoch 5/5\n",
      "1500/1500 [==============================] - 18s 12ms/step - loss: 0.3236 - accuracy: 0.8814 - val_loss: 0.3463 - val_accuracy: 0.8745\n"
     ]
    }
   ],
   "source": [
    "modelo = keras.Sequential([ \n",
    "    keras.layers.Flatten(input_shape=(28, 28)),\n",
    "    keras.layers.Dense(256, activation=tensorflow.nn.relu),\n",
    "    keras.layers.Dropout(0.2),\n",
    "    keras.layers.Dense(10, activation=tensorflow.nn.softmax)\n",
    "])\n",
    "\n",
    "modelo.compile(optimizer='adam', \n",
    "               loss='sparse_categorical_crossentropy',\n",
    "               metrics=['accuracy'])\n",
    "\n",
    "historico = modelo.fit(imagens_treino, identificacoes_treino, epochs=5, validation_split=0.2)"
   ]
  },
  {
   "cell_type": "markdown",
   "metadata": {
    "colab_type": "text",
    "id": "weeyzt2QuDXS"
   },
   "source": [
    "Sumário do modelo"
   ]
  },
  {
   "cell_type": "code",
   "execution_count": 7,
   "metadata": {
    "colab": {
     "base_uri": "https://localhost:8080/",
     "height": 274
    },
    "colab_type": "code",
    "id": "QLG_CH6Lr2vp",
    "outputId": "5bf36159-d992-43e3-9f62-a2950eeb7628"
   },
   "outputs": [
    {
     "name": "stdout",
     "output_type": "stream",
     "text": [
      "Model: \"sequential\"\n",
      "_________________________________________________________________\n",
      " Layer (type)                Output Shape              Param #   \n",
      "=================================================================\n",
      " flatten (Flatten)           (None, 784)               0         \n",
      "                                                                 \n",
      " dense (Dense)               (None, 256)               200960    \n",
      "                                                                 \n",
      " dropout (Dropout)           (None, 256)               0         \n",
      "                                                                 \n",
      " dense_1 (Dense)             (None, 10)                2570      \n",
      "                                                                 \n",
      "=================================================================\n",
      "Total params: 203,530\n",
      "Trainable params: 203,530\n",
      "Non-trainable params: 0\n",
      "_________________________________________________________________\n"
     ]
    }
   ],
   "source": [
    "sumario_do_modelo = modelo.summary()"
   ]
  },
  {
   "cell_type": "markdown",
   "metadata": {
    "colab_type": "text",
    "id": "GVuSQg42udch"
   },
   "source": [
    "Pesos da primeira camada Dense"
   ]
  },
  {
   "cell_type": "code",
   "execution_count": 8,
   "metadata": {
    "colab": {
     "base_uri": "https://localhost:8080/",
     "height": 1354
    },
    "colab_type": "code",
    "id": "YRzqJi5gr-ug",
    "outputId": "fb501c8a-69f6-49c1-ae48-176d4cf06592"
   },
   "outputs": [
    {
     "data": {
      "text/plain": [
       "array([[-0.01614369,  0.04433937, -0.03179505, ..., -0.0886203 ,\n",
       "        -0.02003704, -0.06278953],\n",
       "       [-0.01423895, -0.07789789,  0.16305736, ..., -0.05398368,\n",
       "         0.04063433,  0.10694686],\n",
       "       [-0.07673659,  0.06738719,  0.0434605 , ..., -0.24237178,\n",
       "         0.13663565, -0.13594496],\n",
       "       ...,\n",
       "       [ 0.04638953, -0.01301613,  0.19350345, ...,  0.11740334,\n",
       "        -0.06451973, -0.0971385 ],\n",
       "       [-0.03102115,  0.0407615 ,  0.23815103, ..., -0.04381398,\n",
       "        -0.01585092,  0.10405447],\n",
       "       [-0.02435892, -0.13287063,  0.17901544, ...,  0.23171341,\n",
       "        -0.07225949,  0.00945248]], dtype=float32)"
      ]
     },
     "execution_count": 8,
     "metadata": {},
     "output_type": "execute_result"
    }
   ],
   "source": [
    "# por debaixo dos panos temos um array multiplicando outro, ou seja, multiplicação de matrizes\n",
    "pesos_camada_dense = modelo.layers[1].get_weights()[0]\n",
    "pesos_camada_dense"
   ]
  },
  {
   "cell_type": "code",
   "execution_count": 21,
   "metadata": {},
   "outputs": [
    {
     "data": {
      "text/plain": [
       "[array([[0.688695  , 0.8867075 , 0.7922566 , ..., 0.06175664, 0.35371163,\n",
       "         0.58012503],\n",
       "        [0.3367466 , 0.00293873, 0.25479856, ..., 0.36175513, 0.15786596,\n",
       "         0.8270259 ],\n",
       "        [0.64562243, 0.823241  , 0.9110949 , ..., 0.06892245, 0.8788801 ,\n",
       "         0.24642566],\n",
       "        ...,\n",
       "        [0.978628  , 0.33018187, 0.9177324 , ..., 0.02788671, 0.05033666,\n",
       "         0.08888233],\n",
       "        [0.52653456, 0.9893801 , 0.3309127 , ..., 0.6302339 , 0.06791577,\n",
       "         0.25957128],\n",
       "        [0.10042619, 0.18127927, 0.16046913, ..., 0.8528178 , 0.5588147 ,\n",
       "         0.07804614]], dtype=float32),\n",
       " array([ 0.04566944,  0.43245676,  0.22633006,  0.1658957 , -0.04111721,\n",
       "         0.2928499 ,  0.1033741 ,  0.14740866,  0.17189345,  0.39759472,\n",
       "         0.21624039, -0.20754482,  0.03902457,  0.10930342,  0.11751875,\n",
       "        -0.39613068, -0.01234666, -0.12908642,  0.0357306 ,  0.0255351 ,\n",
       "         0.26422507,  0.08514982, -0.23361063,  0.03254829,  0.2600024 ,\n",
       "        -0.01667505,  0.10765348,  0.03274364,  0.29220563,  0.09184278,\n",
       "        -0.0782675 ,  0.36813542,  0.25348502, -0.08348082,  0.4457145 ,\n",
       "         0.40664163, -0.0668941 , -0.06567873,  0.3244786 ,  0.04171902,\n",
       "        -0.13133578,  0.27697206,  0.25279307,  0.23410015,  0.01924523,\n",
       "         0.41109836,  0.14535737,  0.05184662,  0.05486129,  0.19051372,\n",
       "         0.3634424 ,  0.34763792,  0.46190065,  0.48210934, -0.03812962,\n",
       "         0.30773687, -0.23548163,  0.33308682, -0.01523088, -0.15824613,\n",
       "        -0.06146676,  0.21392484,  0.29222953, -0.12873726,  0.33462748,\n",
       "         0.00486604,  0.24462457, -0.31909743,  0.28301027, -0.04615396,\n",
       "        -0.12527165,  0.2521703 ,  0.30285034, -0.01768909,  0.21581379,\n",
       "         0.34845537, -0.16768304,  0.28738517,  0.11683103,  0.33404166,\n",
       "         0.00195549,  0.40343615, -0.10892107,  0.20934841,  0.2990986 ,\n",
       "         0.40860125,  0.02354538, -0.07333959, -0.10357172, -0.09536276,\n",
       "        -0.41870472,  0.11149901,  0.3144325 ,  0.2085738 , -0.01796697,\n",
       "        -0.01446927,  0.41799352,  0.25662312,  0.22265103, -0.0187752 ,\n",
       "         0.60451543, -0.01514593,  0.3383514 , -0.01902648,  0.22767481,\n",
       "        -0.64235127,  0.38143903,  0.15849163,  0.29839432,  0.41208318,\n",
       "        -0.07828935, -0.01717088,  0.43732804,  0.21295932, -0.13038458,\n",
       "         0.38759875,  0.432293  ,  0.04094439,  0.12522428,  0.46262404,\n",
       "         0.4409533 ,  0.20055231,  0.31267482,  0.30546424, -0.01214897,\n",
       "        -0.02526329,  0.09510181,  0.05666996,  0.35252494, -0.02458178,\n",
       "         0.03941721,  0.34359202, -0.03403917,  0.15229191,  0.69002   ,\n",
       "         0.05396641, -0.01249058,  0.1430171 ,  0.03337293, -0.17125788,\n",
       "        -0.10080846,  0.3173194 ,  0.1256084 , -0.02933585,  0.17845622,\n",
       "         0.08594993,  0.42801547,  0.024501  , -0.03392398, -0.02891353,\n",
       "         0.24441503,  0.17112423,  0.6742314 ,  0.3883016 , -0.00468913,\n",
       "        -0.02967479,  0.08720966,  0.19130152,  0.01606186,  0.44711587,\n",
       "         0.20905915,  0.04860087,  0.08640493,  0.00411234, -0.01850056,\n",
       "         0.43813887, -0.01456131,  0.24838252,  0.22300124,  0.02831146,\n",
       "         0.44467   , -0.02559261,  0.05458681,  0.4388955 , -0.29003623,\n",
       "         0.08737941,  0.20011537,  0.2853361 , -0.00817911,  0.2549823 ,\n",
       "         0.58199507, -0.02080638, -0.02127851, -0.2522139 , -0.00708594,\n",
       "         0.15041856,  0.21549879,  0.09030403,  0.13032432,  0.33876997,\n",
       "         0.14876226,  0.500598  , -0.01229282,  0.18970269,  0.419193  ,\n",
       "         0.08416244,  0.28261572, -0.16079462,  0.06129166,  0.39474505,\n",
       "         0.13258605, -0.00226139,  0.33573255, -0.02856393,  0.06429119,\n",
       "        -0.10311092,  0.246326  ,  0.21423157,  0.2974864 ,  0.5620619 ,\n",
       "        -0.0418992 , -0.01360281, -0.02504117, -0.06014748,  0.20663364,\n",
       "         0.1694481 ,  0.28635618, -0.03360398, -0.01219316,  0.01213725,\n",
       "        -0.23858844,  0.0261544 ,  0.35898703, -0.04676734,  0.10528492,\n",
       "         0.05655013,  0.09127031,  0.22859402, -0.20142764, -0.12734386,\n",
       "         0.32326105,  0.44182578,  0.2481146 ,  0.49261907,  0.2255032 ,\n",
       "         0.18021488,  0.03368305, -0.07041363,  0.06943607,  0.01477463,\n",
       "        -0.00962728,  0.0973029 , -0.17402135,  0.31638777, -0.58276695,\n",
       "         0.4652078 ,  0.16691494,  0.03317072, -0.03552672, -0.02626174,\n",
       "         0.25422838,  0.49254382,  0.5764893 ,  0.09785002, -0.01086902,\n",
       "        -0.34918225], dtype=float32)]"
      ]
     },
     "execution_count": 21,
     "metadata": {},
     "output_type": "execute_result"
    }
   ],
   "source": [
    "# criando array com valores zerados e aleatórios\n",
    "pesos_camada_dense.shape\n",
    "pesos_camada_dense_zerados = np.zeros((784, 256))\n",
    "\n",
    "pesos_camada_dense_aleatorios = np.random.rand(784, 256)\n",
    "\n",
    "'''\n",
    "modelo.layers[1].set_weights(\n",
    "    [pesos_camada_dense_zerados, vieses_pesos_camada_dense])\n",
    "'''\n",
    "modelo.layers[1].set_weights(\n",
    "    [pesos_camada_dense_aleatorios, vieses_pesos_camada_dense])\n",
    "\n",
    "modelo.layers[1].get_weights()\n"
   ]
  },
  {
   "cell_type": "code",
   "execution_count": 10,
   "metadata": {},
   "outputs": [
    {
     "name": "stdout",
     "output_type": "stream",
     "text": [
      "Epoch 1/5\n",
      "1500/1500 [==============================] - 14s 9ms/step - loss: 0.3135 - accuracy: 0.8850 - val_loss: 0.3383 - val_accuracy: 0.8768\n",
      "Epoch 2/5\n",
      "1500/1500 [==============================] - 13s 8ms/step - loss: 0.2993 - accuracy: 0.8888 - val_loss: 0.3222 - val_accuracy: 0.8855\n",
      "Epoch 3/5\n",
      "1500/1500 [==============================] - 17s 11ms/step - loss: 0.2862 - accuracy: 0.8928 - val_loss: 0.3593 - val_accuracy: 0.8748\n",
      "Epoch 4/5\n",
      "1500/1500 [==============================] - 12s 8ms/step - loss: 0.2802 - accuracy: 0.8944 - val_loss: 0.3237 - val_accuracy: 0.8832\n",
      "Epoch 5/5\n",
      "1500/1500 [==============================] - 17s 11ms/step - loss: 0.2704 - accuracy: 0.8984 - val_loss: 0.3191 - val_accuracy: 0.8897\n"
     ]
    }
   ],
   "source": [
    "#rodando o modelo com o array de pesos zerados\n",
    "modelo.compile(optimizer='adam', \n",
    "               loss='sparse_categorical_crossentropy',\n",
    "               metrics=['accuracy'])\n",
    "\n",
    "historico = modelo.fit(imagens_treino, identificacoes_treino, epochs=5, validation_split=0.2)"
   ]
  },
  {
   "cell_type": "code",
   "execution_count": 11,
   "metadata": {},
   "outputs": [
    {
     "data": {
      "text/plain": [
       "{'name': 'sequential',\n",
       " 'layers': [{'class_name': 'InputLayer',\n",
       "   'config': {'batch_input_shape': (None, 28, 28),\n",
       "    'dtype': 'float32',\n",
       "    'sparse': False,\n",
       "    'ragged': False,\n",
       "    'name': 'flatten_input'}},\n",
       "  {'class_name': 'Flatten',\n",
       "   'config': {'name': 'flatten',\n",
       "    'trainable': True,\n",
       "    'batch_input_shape': (None, 28, 28),\n",
       "    'dtype': 'float32',\n",
       "    'data_format': 'channels_last'}},\n",
       "  {'class_name': 'Dense',\n",
       "   'config': {'name': 'dense',\n",
       "    'trainable': True,\n",
       "    'dtype': 'float32',\n",
       "    'units': 256,\n",
       "    'activation': 'relu',\n",
       "    'use_bias': True,\n",
       "    'kernel_initializer': {'class_name': 'GlorotUniform',\n",
       "     'config': {'seed': None}},\n",
       "    'bias_initializer': {'class_name': 'Zeros', 'config': {}},\n",
       "    'kernel_regularizer': None,\n",
       "    'bias_regularizer': None,\n",
       "    'activity_regularizer': None,\n",
       "    'kernel_constraint': None,\n",
       "    'bias_constraint': None}},\n",
       "  {'class_name': 'Dropout',\n",
       "   'config': {'name': 'dropout',\n",
       "    'trainable': True,\n",
       "    'dtype': 'float32',\n",
       "    'rate': 0.2,\n",
       "    'noise_shape': None,\n",
       "    'seed': None}},\n",
       "  {'class_name': 'Dense',\n",
       "   'config': {'name': 'dense_1',\n",
       "    'trainable': True,\n",
       "    'dtype': 'float32',\n",
       "    'units': 10,\n",
       "    'activation': 'softmax',\n",
       "    'use_bias': True,\n",
       "    'kernel_initializer': {'class_name': 'GlorotUniform',\n",
       "     'config': {'seed': None}},\n",
       "    'bias_initializer': {'class_name': 'Zeros', 'config': {}},\n",
       "    'kernel_regularizer': None,\n",
       "    'bias_regularizer': None,\n",
       "    'activity_regularizer': None,\n",
       "    'kernel_constraint': None,\n",
       "    'bias_constraint': None}}]}"
      ]
     },
     "execution_count": 11,
     "metadata": {},
     "output_type": "execute_result"
    }
   ],
   "source": [
    "modelo.get_config()"
   ]
  },
  {
   "cell_type": "code",
   "execution_count": 12,
   "metadata": {},
   "outputs": [
    {
     "data": {
      "text/plain": [
       "<matplotlib.legend.Legend at 0x19679d6a040>"
      ]
     },
     "execution_count": 12,
     "metadata": {},
     "output_type": "execute_result"
    },
    {
     "data": {
      "image/png": "[encoded data removed]",
      "text/plain": [
       "<Figure size 432x288 with 1 Axes>"
      ]
     },
     "metadata": {
      "needs_background": "light"
     },
     "output_type": "display_data"
    }
   ],
   "source": [
    "plt.plot(historico.history['accuracy'])\n",
    "plt.plot(historico.history['val_accuracy'])\n",
    "plt.title('Acurácia por épocas')\n",
    "plt.xlabel('épocas')\n",
    "plt.ylabel('acurácia')\n",
    "plt.legend(['treino', 'validação'])"
   ]
  },
  {
   "cell_type": "code",
   "execution_count": 13,
   "metadata": {},
   "outputs": [
    {
     "data": {
      "text/plain": [
       "<matplotlib.legend.Legend at 0x1967770bd30>"
      ]
     },
     "execution_count": 13,
     "metadata": {},
     "output_type": "execute_result"
    },
    {
     "data": {
      "image/png": "[encoded data removed]",
      "text/plain": [
       "<Figure size 432x288 with 1 Axes>"
      ]
     },
     "metadata": {
      "needs_background": "light"
     },
     "output_type": "display_data"
    }
   ],
   "source": [
    "plt.plot(historico.history['loss'])\n",
    "plt.plot(historico.history['val_loss'])\n",
    "plt.title('Perda por épocas')\n",
    "plt.xlabel('épocas')\n",
    "plt.ylabel('perda')\n",
    "plt.legend(['treino', 'validação'])"
   ]
  },
  {
   "cell_type": "code",
   "execution_count": 14,
   "metadata": {},
   "outputs": [
    {
     "data": {
      "text/plain": [
       "array([ 0.04566944,  0.43245676,  0.22633006,  0.1658957 , -0.04111721,\n",
       "        0.2928499 ,  0.1033741 ,  0.14740866,  0.17189345,  0.39759472,\n",
       "        0.21624039, -0.20754482,  0.03902457,  0.10930342,  0.11751875,\n",
       "       -0.39613068, -0.01234666, -0.12908642,  0.0357306 ,  0.0255351 ,\n",
       "        0.26422507,  0.08514982, -0.23361063,  0.03254829,  0.2600024 ,\n",
       "       -0.01667505,  0.10765348,  0.03274364,  0.29220563,  0.09184278,\n",
       "       -0.0782675 ,  0.36813542,  0.25348502, -0.08348082,  0.4457145 ,\n",
       "        0.40664163, -0.0668941 , -0.06567873,  0.3244786 ,  0.04171902,\n",
       "       -0.13133578,  0.27697206,  0.25279307,  0.23410015,  0.01924523,\n",
       "        0.41109836,  0.14535737,  0.05184662,  0.05486129,  0.19051372,\n",
       "        0.3634424 ,  0.34763792,  0.46190065,  0.48210934, -0.03812962,\n",
       "        0.30773687, -0.23548163,  0.33308682, -0.01523088, -0.15824613,\n",
       "       -0.06146676,  0.21392484,  0.29222953, -0.12873726,  0.33462748,\n",
       "        0.00486604,  0.24462457, -0.31909743,  0.28301027, -0.04615396,\n",
       "       -0.12527165,  0.2521703 ,  0.30285034, -0.01768909,  0.21581379,\n",
       "        0.34845537, -0.16768304,  0.28738517,  0.11683103,  0.33404166,\n",
       "        0.00195549,  0.40343615, -0.10892107,  0.20934841,  0.2990986 ,\n",
       "        0.40860125,  0.02354538, -0.07333959, -0.10357172, -0.09536276,\n",
       "       -0.41870472,  0.11149901,  0.3144325 ,  0.2085738 , -0.01796697,\n",
       "       -0.01446927,  0.41799352,  0.25662312,  0.22265103, -0.0187752 ,\n",
       "        0.60451543, -0.01514593,  0.3383514 , -0.01902648,  0.22767481,\n",
       "       -0.64235127,  0.38143903,  0.15849163,  0.29839432,  0.41208318,\n",
       "       -0.07828935, -0.01717088,  0.43732804,  0.21295932, -0.13038458,\n",
       "        0.38759875,  0.432293  ,  0.04094439,  0.12522428,  0.46262404,\n",
       "        0.4409533 ,  0.20055231,  0.31267482,  0.30546424, -0.01214897,\n",
       "       -0.02526329,  0.09510181,  0.05666996,  0.35252494, -0.02458178,\n",
       "        0.03941721,  0.34359202, -0.03403917,  0.15229191,  0.69002   ,\n",
       "        0.05396641, -0.01249058,  0.1430171 ,  0.03337293, -0.17125788,\n",
       "       -0.10080846,  0.3173194 ,  0.1256084 , -0.02933585,  0.17845622,\n",
       "        0.08594993,  0.42801547,  0.024501  , -0.03392398, -0.02891353,\n",
       "        0.24441503,  0.17112423,  0.6742314 ,  0.3883016 , -0.00468913,\n",
       "       -0.02967479,  0.08720966,  0.19130152,  0.01606186,  0.44711587,\n",
       "        0.20905915,  0.04860087,  0.08640493,  0.00411234, -0.01850056,\n",
       "        0.43813887, -0.01456131,  0.24838252,  0.22300124,  0.02831146,\n",
       "        0.44467   , -0.02559261,  0.05458681,  0.4388955 , -0.29003623,\n",
       "        0.08737941,  0.20011537,  0.2853361 , -0.00817911,  0.2549823 ,\n",
       "        0.58199507, -0.02080638, -0.02127851, -0.2522139 , -0.00708594,\n",
       "        0.15041856,  0.21549879,  0.09030403,  0.13032432,  0.33876997,\n",
       "        0.14876226,  0.500598  , -0.01229282,  0.18970269,  0.419193  ,\n",
       "        0.08416244,  0.28261572, -0.16079462,  0.06129166,  0.39474505,\n",
       "        0.13258605, -0.00226139,  0.33573255, -0.02856393,  0.06429119,\n",
       "       -0.10311092,  0.246326  ,  0.21423157,  0.2974864 ,  0.5620619 ,\n",
       "       -0.0418992 , -0.01360281, -0.02504117, -0.06014748,  0.20663364,\n",
       "        0.1694481 ,  0.28635618, -0.03360398, -0.01219316,  0.01213725,\n",
       "       -0.23858844,  0.0261544 ,  0.35898703, -0.04676734,  0.10528492,\n",
       "        0.05655013,  0.09127031,  0.22859402, -0.20142764, -0.12734386,\n",
       "        0.32326105,  0.44182578,  0.2481146 ,  0.49261907,  0.2255032 ,\n",
       "        0.18021488,  0.03368305, -0.07041363,  0.06943607,  0.01477463,\n",
       "       -0.00962728,  0.0973029 , -0.17402135,  0.31638777, -0.58276695,\n",
       "        0.4652078 ,  0.16691494,  0.03317072, -0.03552672, -0.02626174,\n",
       "        0.25422838,  0.49254382,  0.5764893 ,  0.09785002, -0.01086902,\n",
       "       -0.34918225], dtype=float32)"
      ]
     },
     "execution_count": 14,
     "metadata": {},
     "output_type": "execute_result"
    }
   ],
   "source": [
    "vieses_pesos_camada_dense = modelo.layers[1].get_weights()[1]\n",
    "vieses_pesos_camada_dense"
   ]
  },
  {
   "cell_type": "code",
   "execution_count": 15,
   "metadata": {},
   "outputs": [],
   "source": [
    "#zerando as informações, criando variável com dados \"0\"\n",
    "vieses_pesos_camada_dense_zerados = np.zeros((256))\n",
    "modelo.layers[1].set_weights(\n",
    "    [pesos_camada_dense_zerados, vieses_pesos_camada_dense_zerados])"
   ]
  },
  {
   "cell_type": "markdown",
   "metadata": {
    "colab_type": "text",
    "id": "4-RqzS88dgk_"
   },
   "source": [
    "Salvando e carregando o modelo treinado"
   ]
  },
  {
   "cell_type": "code",
   "execution_count": 16,
   "metadata": {
    "colab": {},
    "colab_type": "code",
    "id": "SVjmU41IELzX"
   },
   "outputs": [],
   "source": [
    "modelo.save('modelo.h5')\n",
    "modelo_salvo = load_model('modelo.h5')"
   ]
  },
  {
   "cell_type": "markdown",
   "metadata": {
    "colab_type": "text",
    "id": "SVxHO3opdnMb"
   },
   "source": [
    "Visualizando as acurácias de treino e validação por época"
   ]
  },
  {
   "cell_type": "code",
   "execution_count": 17,
   "metadata": {
    "colab": {
     "base_uri": "https://localhost:8080/",
     "height": 394
    },
    "colab_type": "code",
    "id": "pNc0JsWZY1Ie",
    "outputId": "19182697-90e1-4179-928a-18b420c48d8a"
   },
   "outputs": [
    {
     "data": {
      "text/plain": [
       "<matplotlib.legend.Legend at 0x196777ac4f0>"
      ]
     },
     "execution_count": 17,
     "metadata": {},
     "output_type": "execute_result"
    },
    {
     "data": {
      "image/png": "[encoded data removed]",
      "text/plain": [
       "<Figure size 432x288 with 1 Axes>"
      ]
     },
     "metadata": {
      "needs_background": "light"
     },
     "output_type": "display_data"
    }
   ],
   "source": [
    "plt.plot(historico.history['accuracy'])\n",
    "plt.plot(historico.history['val_accuracy'])\n",
    "plt.title('Acurácia por épocas')\n",
    "plt.xlabel('épocas')\n",
    "plt.ylabel('acurácia')\n",
    "plt.legend(['treino', 'validação'])\n"
   ]
  },
  {
   "cell_type": "markdown",
   "metadata": {
    "colab_type": "text",
    "id": "ZKxkWNawdzZh"
   },
   "source": [
    "Visualizando as perdas de treino e validação por época"
   ]
  },
  {
   "cell_type": "code",
   "execution_count": 18,
   "metadata": {
    "colab": {
     "base_uri": "https://localhost:8080/",
     "height": 393
    },
    "colab_type": "code",
    "id": "2ugG3Vusg_Va",
    "outputId": "dbc526a0-5890-4ece-a0e0-0ab01e18034a"
   },
   "outputs": [
    {
     "data": {
      "text/plain": [
       "<matplotlib.legend.Legend at 0x196777f9a00>"
      ]
     },
     "execution_count": 18,
     "metadata": {},
     "output_type": "execute_result"
    },
    {
     "data": {
      "image/png": "[encoded data removed]",
      "text/plain": [
       "<Figure size 432x288 with 1 Axes>"
      ]
     },
     "metadata": {
      "needs_background": "light"
     },
     "output_type": "display_data"
    }
   ],
   "source": [
    "plt.plot(historico.history['loss'])\n",
    "plt.plot(historico.history['val_loss'])\n",
    "plt.title('Perda por épocas')\n",
    "plt.xlabel('épocas')\n",
    "plt.ylabel('perda')\n",
    "plt.legend(['treino', 'validação'])"
   ]
  },
  {
   "cell_type": "markdown",
   "metadata": {
    "colab_type": "text",
    "id": "JFXG1oibd8E8"
   },
   "source": [
    "Testando o modelo e o modelo salvo"
   ]
  },
  {
   "cell_type": "code",
   "execution_count": 19,
   "metadata": {
    "colab": {
     "base_uri": "https://localhost:8080/",
     "height": 85
    },
    "colab_type": "code",
    "id": "I2kLEHPYUdhd",
    "outputId": "c62dd99d-5620-437b-8cda-2553728c86c3"
   },
   "outputs": [
    {
     "name": "stdout",
     "output_type": "stream",
     "text": [
      "313/313 [==============================] - 2s 5ms/step\n",
      "resultado teste: 3\n",
      "número da imagem de teste: 2\n",
      "313/313 [==============================] - 2s 5ms/step\n",
      "resultado teste modelo salvo: 3\n",
      "número da imagem de teste: 2\n"
     ]
    }
   ],
   "source": [
    "testes = modelo.predict(imagens_teste)\n",
    "print('resultado teste:', np.argmax(testes[1]))\n",
    "print('número da imagem de teste:', identificacoes_teste[1])\n",
    "\n",
    "testes_modelo_salvo = modelo_salvo.predict(imagens_teste)\n",
    "print('resultado teste modelo salvo:', np.argmax(testes_modelo_salvo[1]))\n",
    "print('número da imagem de teste:', identificacoes_teste[1])"
   ]
  },
  {
   "cell_type": "markdown",
   "metadata": {
    "colab_type": "text",
    "id": "U64QMV1GeCUr"
   },
   "source": [
    "Avaliando o modelo"
   ]
  },
  {
   "cell_type": "code",
   "execution_count": 20,
   "metadata": {
    "colab": {
     "base_uri": "https://localhost:8080/",
     "height": 68
    },
    "colab_type": "code",
    "id": "wsbr9WqyXQ2G",
    "outputId": "cbf2e2c1-699b-4688-e770-e7ecbe5c0fd5"
   },
   "outputs": [
    {
     "name": "stdout",
     "output_type": "stream",
     "text": [
      "313/313 [==============================] - 2s 5ms/step - loss: 2.3354 - accuracy: 0.1000\n",
      "Perda do teste: 2.3353817462921143\n",
      "Acurácia do teste: 0.10000000149011612\n"
     ]
    }
   ],
   "source": [
    "perda_teste, acuracia_teste = modelo.evaluate(imagens_teste, identificacoes_teste)\n",
    "print('Perda do teste:', perda_teste)\n",
    "print('Acurácia do teste:', acuracia_teste)"
   ]
  },
  {
   "cell_type": "code",
   "execution_count": null,
   "metadata": {},
   "outputs": [],
   "source": []
  }
 ],
 "metadata": {
  "colab": {
   "collapsed_sections": [],
   "name": "Segundo_projeto_aula1.ipynb",
   "provenance": [],
   "version": "0.3.2"
  },
  "kernelspec": {
   "display_name": "Python 3 (ipykernel)",
   "language": "python",
   "name": "python3"
  },
  "language_info": {
   "codemirror_mode": {
    "name": "ipython",
    "version": 3
   },
   "file_extension": ".py",
   "mimetype": "text/x-python",
   "name": "python",
   "nbconvert_exporter": "python",
   "pygments_lexer": "ipython3",
   "version": "3.9.7"
  }
 },
 "nbformat": 4,
 "nbformat_minor": 1
}
