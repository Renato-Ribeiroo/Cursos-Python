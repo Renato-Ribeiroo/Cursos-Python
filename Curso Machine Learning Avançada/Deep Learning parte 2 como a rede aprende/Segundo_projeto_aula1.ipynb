{
 "cells": [
  {
   "cell_type": "markdown",
   "metadata": {},
   "source": [
    "# Continuação Keras 1\n",
    "\n",
    "## Exploraremos os hiper parâmetros do algoritimo"
   ]
  },
  {
   "cell_type": "markdown",
   "metadata": {
    "colab_type": "text",
    "id": "sNc3NouWYrN7"
   },
   "source": [
    "Imports"
   ]
  },
  {
   "cell_type": "code",
   "execution_count": 1,
   "metadata": {
    "colab": {},
    "colab_type": "code",
    "id": "4bQCahYjYdUB"
   },
   "outputs": [],
   "source": [
    "import tensorflow\n",
    "from tensorflow import keras\n",
    "import matplotlib.pyplot as plt\n",
    "import numpy as np\n",
    "from tensorflow.keras.models import load_model"
   ]
  },
  {
   "cell_type": "markdown",
   "metadata": {
    "colab_type": "text",
    "id": "f8uuzUjVYvkf"
   },
   "source": [
    "Carregando o dataset"
   ]
  },
  {
   "cell_type": "code",
   "execution_count": 2,
   "metadata": {
    "colab": {},
    "colab_type": "code",
    "id": "QoIys3wMYirH"
   },
   "outputs": [],
   "source": [
    "dataset = keras.datasets.fashion_mnist\n",
    "((imagens_treino, identificacoes_treino), (imagens_teste, identificacoes_teste)) = dataset.load_data()\n"
   ]
  },
  {
   "cell_type": "markdown",
   "metadata": {
    "colab_type": "text",
    "id": "oFr0526ZY5E_"
   },
   "source": [
    "Exploração dos dados"
   ]
  },
  {
   "cell_type": "code",
   "execution_count": 3,
   "metadata": {
    "colab": {
     "base_uri": "https://localhost:8080/",
     "height": 34
    },
    "colab_type": "code",
    "id": "fPIT36hpYl5A",
    "outputId": "61176d4b-23cf-4b16-887b-9c6a5532ad9f"
   },
   "outputs": [
    {
     "data": {
      "text/plain": [
       "9"
      ]
     },
     "execution_count": 3,
     "metadata": {},
     "output_type": "execute_result"
    }
   ],
   "source": [
    "len(imagens_treino)\n",
    "imagens_treino.shape\n",
    "imagens_teste.shape\n",
    "len(identificacoes_teste)\n",
    "identificacoes_treino.min()\n",
    "identificacoes_treino.max()"
   ]
  },
  {
   "cell_type": "markdown",
   "metadata": {
    "colab_type": "text",
    "id": "yTWqT9DIY-iB"
   },
   "source": [
    "Exibição dos dados"
   ]
  },
  {
   "cell_type": "code",
   "execution_count": 4,
   "metadata": {
    "colab": {
     "base_uri": "https://localhost:8080/",
     "height": 364
    },
    "colab_type": "code",
    "id": "bGESm49JVahh",
    "outputId": "c23e4dd9-50c3-4863-8813-8aeb793c49cf"
   },
   "outputs": [
    {
     "data": {
      "text/plain": [
       "<matplotlib.colorbar.Colorbar at 0x18bc7941c70>"
      ]
     },
     "execution_count": 4,
     "metadata": {},
     "output_type": "execute_result"
    },
    {
     "data": {
      "image/png": "[encoded data removed]",
      "text/plain": [
       "<Figure size 432x288 with 2 Axes>"
      ]
     },
     "metadata": {
      "needs_background": "light"
     },
     "output_type": "display_data"
    }
   ],
   "source": [
    "total_de_classificacoes = 10\n",
    "nomes_de_classificacoes = ['Camiseta', 'Calça', 'Pullover', \n",
    "                           'Vestido', 'Casaco', 'Sandália', 'Camisa',\n",
    "                           'Tênis', 'Bolsa', 'Bota']\n",
    "\n",
    "plt.imshow(imagens_treino[0])\n",
    "plt.colorbar()"
   ]
  },
  {
   "cell_type": "markdown",
   "metadata": {
    "colab_type": "text",
    "id": "uU6ZySpIcoc5"
   },
   "source": [
    "Normalizando as imagens"
   ]
  },
  {
   "cell_type": "code",
   "execution_count": 5,
   "metadata": {
    "colab": {},
    "colab_type": "code",
    "id": "Ral_hdl9ulGG"
   },
   "outputs": [],
   "source": [
    "imagens_treino = imagens_treino/float(255)"
   ]
  },
  {
   "cell_type": "markdown",
   "metadata": {
    "colab_type": "text",
    "id": "2WABnvOJdCNl"
   },
   "source": [
    "Criando, compilando, treinando e normalizando o modelo"
   ]
  },
  {
   "cell_type": "code",
   "execution_count": 6,
   "metadata": {
    "colab": {
     "base_uri": "https://localhost:8080/",
     "height": 226
    },
    "colab_type": "code",
    "id": "uFedwlfFc0ii",
    "outputId": "7772c07b-077d-43e8-a9cd-7f7055df320f"
   },
   "outputs": [
    {
     "name": "stdout",
     "output_type": "stream",
     "text": [
      "Epoch 1/5\n",
      "1500/1500 [==============================] - 16s 10ms/step - loss: 0.5264 - accuracy: 0.8135 - val_loss: 0.4152 - val_accuracy: 0.8484\n",
      "Epoch 2/5\n",
      "1500/1500 [==============================] - 14s 9ms/step - loss: 0.3992 - accuracy: 0.8564 - val_loss: 0.4057 - val_accuracy: 0.8498\n",
      "Epoch 3/5\n",
      "1500/1500 [==============================] - 13s 9ms/step - loss: 0.3618 - accuracy: 0.8671 - val_loss: 0.3691 - val_accuracy: 0.8650\n",
      "Epoch 4/5\n",
      "1500/1500 [==============================] - 19s 13ms/step - loss: 0.3419 - accuracy: 0.8744 - val_loss: 0.3428 - val_accuracy: 0.8776\n",
      "Epoch 5/5\n",
      "1500/1500 [==============================] - 13s 9ms/step - loss: 0.3263 - accuracy: 0.8787 - val_loss: 0.3315 - val_accuracy: 0.8764\n"
     ]
    }
   ],
   "source": [
    "modelo = keras.Sequential([ \n",
    "    keras.layers.Flatten(input_shape=(28, 28)),\n",
    "    keras.layers.Dense(256, activation=tensorflow.nn.relu),\n",
    "    keras.layers.Dropout(0.2),\n",
    "    keras.layers.Dense(10, activation=tensorflow.nn.softmax)\n",
    "])\n",
    "\n",
    "modelo.compile(optimizer='adam', \n",
    "               loss='sparse_categorical_crossentropy',\n",
    "               metrics=['accuracy'])\n",
    "\n",
    "historico = modelo.fit(imagens_treino, identificacoes_treino, epochs=5, validation_split=0.2)"
   ]
  },
  {
   "cell_type": "markdown",
   "metadata": {
    "colab_type": "text",
    "id": "weeyzt2QuDXS"
   },
   "source": [
    "Sumário do modelo"
   ]
  },
  {
   "cell_type": "code",
   "execution_count": 7,
   "metadata": {
    "colab": {
     "base_uri": "https://localhost:8080/",
     "height": 274
    },
    "colab_type": "code",
    "id": "QLG_CH6Lr2vp",
    "outputId": "5bf36159-d992-43e3-9f62-a2950eeb7628"
   },
   "outputs": [
    {
     "name": "stdout",
     "output_type": "stream",
     "text": [
      "Model: \"sequential\"\n",
      "_________________________________________________________________\n",
      " Layer (type)                Output Shape              Param #   \n",
      "=================================================================\n",
      " flatten (Flatten)           (None, 784)               0         \n",
      "                                                                 \n",
      " dense (Dense)               (None, 256)               200960    \n",
      "                                                                 \n",
      " dropout (Dropout)           (None, 256)               0         \n",
      "                                                                 \n",
      " dense_1 (Dense)             (None, 10)                2570      \n",
      "                                                                 \n",
      "=================================================================\n",
      "Total params: 203,530\n",
      "Trainable params: 203,530\n",
      "Non-trainable params: 0\n",
      "_________________________________________________________________\n"
     ]
    }
   ],
   "source": [
    "sumario_do_modelo = modelo.summary()"
   ]
  },
  {
   "cell_type": "markdown",
   "metadata": {
    "colab_type": "text",
    "id": "GVuSQg42udch"
   },
   "source": [
    "Pesos da primeira camada Dense"
   ]
  },
  {
   "cell_type": "code",
   "execution_count": 8,
   "metadata": {
    "colab": {
     "base_uri": "https://localhost:8080/",
     "height": 1354
    },
    "colab_type": "code",
    "id": "YRzqJi5gr-ug",
    "outputId": "fb501c8a-69f6-49c1-ae48-176d4cf06592"
   },
   "outputs": [
    {
     "data": {
      "text/plain": [
       "[array([[ 0.00375356, -0.05709529, -0.07207579, ..., -0.01314857,\n",
       "         -0.06674816, -0.01193157],\n",
       "        [ 0.08682433,  0.00897861,  0.06629181, ..., -0.04647704,\n",
       "         -0.03082457, -0.01506548],\n",
       "        [-0.09618962, -0.0264339 , -0.01616158, ...,  0.11104602,\n",
       "         -0.0531414 , -0.08318856],\n",
       "        ...,\n",
       "        [ 0.10626113, -0.0707901 , -0.06004503, ..., -0.03825852,\n",
       "          0.00814356, -0.03407433],\n",
       "        [ 0.01808832, -0.00381197, -0.07409988, ..., -0.06308423,\n",
       "         -0.03026395,  0.08819689],\n",
       "        [ 0.07681488, -0.07996122, -0.04257478, ...,  0.01296767,\n",
       "         -0.01053978,  0.07719038]], dtype=float32),\n",
       " array([ 0.27504408,  0.1961006 , -0.00401423,  0.27950415,  0.39078864,\n",
       "         0.02807422,  0.21130852, -0.03409619,  0.10318842, -0.01165446,\n",
       "         0.04600471,  0.23680167,  0.13955824, -0.01351769,  0.37839442,\n",
       "         0.32012543,  0.14887467, -0.02757792,  0.14136304,  0.03599877,\n",
       "         0.14201687,  0.21259269, -0.10355016, -0.01072869,  0.23187101,\n",
       "         0.03023848,  0.3745948 ,  0.12141344, -0.05353116, -0.02109177,\n",
       "         0.12767895,  0.16235396,  0.04899954,  0.38804114, -0.01322649,\n",
       "         0.19762287,  0.36865407, -0.0174324 , -0.21218848, -0.06576128,\n",
       "         0.10495577,  0.02454215, -0.02604273,  0.18872666,  0.01645085,\n",
       "        -0.05503206, -0.12957576,  0.21945664, -0.01615127, -0.20969099,\n",
       "        -0.00108254,  0.29418424,  0.09268808,  0.14326188, -0.01933212,\n",
       "         0.04838311,  0.02479337,  0.37663737,  0.23955518,  0.23811047,\n",
       "        -0.3032111 ,  0.07386961,  0.03975438, -0.15765704,  0.0547942 ,\n",
       "        -0.01281807,  0.1848439 ,  0.29157487,  0.2380628 , -0.01673622,\n",
       "         0.0450848 ,  0.21241292, -0.01442373,  0.20572448,  0.38404447,\n",
       "        -0.02529616,  0.15645033,  0.33536345, -0.08885514,  0.3071415 ,\n",
       "        -0.04508776,  0.2840989 ,  0.01743373, -0.01080503,  0.06747151,\n",
       "         0.23235247,  0.15962017,  0.09637959,  0.35068128,  0.01806902,\n",
       "         0.20370074, -0.01066876, -0.21167102, -0.26195475,  0.2590819 ,\n",
       "         0.12028139, -0.01425783,  0.21370405,  0.1066527 , -0.26048753,\n",
       "        -0.01395275, -0.01735494, -0.00175874,  0.28703088,  0.20880224,\n",
       "        -0.01981828, -0.06841449, -0.20027675,  0.17578736, -0.00740912,\n",
       "        -0.15914583, -0.10380236,  0.01262001, -0.01893453, -0.00156426,\n",
       "        -0.18283784, -0.02002191, -0.11081713,  0.2893502 , -0.20752594,\n",
       "         0.11391769,  0.19098337,  0.01718047,  0.04024342,  0.23800758,\n",
       "         0.14656062,  0.42971697, -0.06330936,  0.27632922, -0.31892046,\n",
       "        -0.02687581,  0.02560163,  0.18517664, -0.05266828, -0.02744165,\n",
       "        -0.00517362, -0.02506618,  0.3485509 ,  0.28549546,  0.16546339,\n",
       "         0.18271911,  0.15054418,  0.00052403,  0.39250562, -0.06337687,\n",
       "         0.15682113, -0.02159817,  0.22038603,  0.07703821,  0.28162846,\n",
       "         0.02075398,  0.07577716,  0.10933149,  0.29868495,  0.24559459,\n",
       "         0.16890831,  0.2507807 ,  0.4615815 ,  0.17015547,  0.2291293 ,\n",
       "         0.20413783,  0.21946068, -0.01608541,  0.19158061,  0.36617488,\n",
       "        -0.15218195, -0.01108451, -0.13859694, -0.12558527,  0.42363814,\n",
       "         0.22882943, -0.03506995,  0.08714399,  0.27787405,  0.09073795,\n",
       "        -0.08740263,  0.17808601, -0.00999851,  0.07454973,  0.2669364 ,\n",
       "         0.06161691,  0.08234475, -0.13633457,  0.22753148,  0.21392994,\n",
       "         0.34914818, -0.03174753,  0.20861141,  0.16168131,  0.3278176 ,\n",
       "         0.51077497, -0.00364952, -0.03358167,  0.07052224,  0.05712616,\n",
       "         0.12605129,  0.15586367,  0.00088285,  0.15328398, -0.06032075,\n",
       "         0.1515055 , -0.08935156,  0.1253663 , -0.03094186, -0.10121166,\n",
       "         0.3484271 ,  0.12119859, -0.21561171, -0.04288955,  0.2568467 ,\n",
       "         0.05723261, -0.3361529 ,  0.3528231 ,  0.37977663,  0.02869483,\n",
       "         0.47796777, -0.00398882, -0.02098282,  0.07351004,  0.24525848,\n",
       "         0.00940923,  0.06930992, -0.1337452 ,  0.16786303,  0.28883865,\n",
       "         0.05820474, -0.02359933,  0.00597418,  0.09269941, -0.05091393,\n",
       "         0.27676827,  0.31650117,  0.17527573,  0.17010114, -0.28138244,\n",
       "         0.2342262 ,  0.02409724,  0.06483535, -0.15487114, -0.01397609,\n",
       "         0.09592898, -0.08953637,  0.30167484,  0.31726712,  0.15297762,\n",
       "        -0.03556527, -0.11191458,  0.00421842, -0.10216333, -0.20641373,\n",
       "        -0.2751873 ,  0.20776565,  0.04751021,  0.07623319,  0.27223912,\n",
       "         0.19619475], dtype=float32)]"
      ]
     },
     "execution_count": 8,
     "metadata": {},
     "output_type": "execute_result"
    }
   ],
   "source": [
    "pesos_camada_dense = modelo.layers[1].get_weights()\n",
    "pesos_camada_dense"
   ]
  },
  {
   "cell_type": "markdown",
   "metadata": {
    "colab_type": "text",
    "id": "4-RqzS88dgk_"
   },
   "source": [
    "Salvando e carregando o modelo treinado"
   ]
  },
  {
   "cell_type": "code",
   "execution_count": 9,
   "metadata": {
    "colab": {},
    "colab_type": "code",
    "id": "SVjmU41IELzX"
   },
   "outputs": [],
   "source": [
    "modelo.save('modelo.h5')\n",
    "modelo_salvo = load_model('modelo.h5')"
   ]
  },
  {
   "cell_type": "markdown",
   "metadata": {
    "colab_type": "text",
    "id": "SVxHO3opdnMb"
   },
   "source": [
    "Visualizando as acurácias de treino e validação por época"
   ]
  },
  {
   "cell_type": "code",
   "execution_count": 11,
   "metadata": {
    "colab": {
     "base_uri": "https://localhost:8080/",
     "height": 394
    },
    "colab_type": "code",
    "id": "pNc0JsWZY1Ie",
    "outputId": "19182697-90e1-4179-928a-18b420c48d8a"
   },
   "outputs": [
    {
     "data": {
      "text/plain": [
       "<matplotlib.legend.Legend at 0x18bc6f85ee0>"
      ]
     },
     "execution_count": 11,
     "metadata": {},
     "output_type": "execute_result"
    },
    {
     "data": {
      "image/png": "[encoded data removed]",
      "text/plain": [
       "<Figure size 432x288 with 1 Axes>"
      ]
     },
     "metadata": {
      "needs_background": "light"
     },
     "output_type": "display_data"
    }
   ],
   "source": [
    "plt.plot(historico.history['accuracy'])\n",
    "plt.plot(historico.history['val_accuracy'])\n",
    "plt.title('Acurácia por épocas')\n",
    "plt.xlabel('épocas')\n",
    "plt.ylabel('acurácia')\n",
    "plt.legend(['treino', 'validação'])\n"
   ]
  },
  {
   "cell_type": "markdown",
   "metadata": {
    "colab_type": "text",
    "id": "ZKxkWNawdzZh"
   },
   "source": [
    "Visualizando as perdas de treino e validação por época"
   ]
  },
  {
   "cell_type": "code",
   "execution_count": 12,
   "metadata": {
    "colab": {
     "base_uri": "https://localhost:8080/",
     "height": 393
    },
    "colab_type": "code",
    "id": "2ugG3Vusg_Va",
    "outputId": "dbc526a0-5890-4ece-a0e0-0ab01e18034a"
   },
   "outputs": [
    {
     "data": {
      "text/plain": [
       "<matplotlib.legend.Legend at 0x18bc6fc1e20>"
      ]
     },
     "execution_count": 12,
     "metadata": {},
     "output_type": "execute_result"
    },
    {
     "data": {
      "image/png": "[encoded data removed]",
      "text/plain": [
       "<Figure size 432x288 with 1 Axes>"
      ]
     },
     "metadata": {
      "needs_background": "light"
     },
     "output_type": "display_data"
    }
   ],
   "source": [
    "plt.plot(historico.history['loss'])\n",
    "plt.plot(historico.history['val_loss'])\n",
    "plt.title('Perda por épocas')\n",
    "plt.xlabel('épocas')\n",
    "plt.ylabel('perda')\n",
    "plt.legend(['treino', 'validação'])"
   ]
  },
  {
   "cell_type": "markdown",
   "metadata": {
    "colab_type": "text",
    "id": "JFXG1oibd8E8"
   },
   "source": [
    "Testando o modelo e o modelo salvo"
   ]
  },
  {
   "cell_type": "code",
   "execution_count": 13,
   "metadata": {
    "colab": {
     "base_uri": "https://localhost:8080/",
     "height": 85
    },
    "colab_type": "code",
    "id": "I2kLEHPYUdhd",
    "outputId": "c62dd99d-5620-437b-8cda-2553728c86c3"
   },
   "outputs": [
    {
     "name": "stdout",
     "output_type": "stream",
     "text": [
      "313/313 [==============================] - 1s 3ms/step\n",
      "resultado teste: 2\n",
      "número da imagem de teste: 2\n",
      "313/313 [==============================] - 1s 4ms/step\n",
      "resultado teste modelo salvo: 2\n",
      "número da imagem de teste: 2\n"
     ]
    }
   ],
   "source": [
    "testes = modelo.predict(imagens_teste)\n",
    "print('resultado teste:', np.argmax(testes[1]))\n",
    "print('número da imagem de teste:', identificacoes_teste[1])\n",
    "\n",
    "testes_modelo_salvo = modelo_salvo.predict(imagens_teste)\n",
    "print('resultado teste modelo salvo:', np.argmax(testes_modelo_salvo[1]))\n",
    "print('número da imagem de teste:', identificacoes_teste[1])"
   ]
  },
  {
   "cell_type": "markdown",
   "metadata": {
    "colab_type": "text",
    "id": "U64QMV1GeCUr"
   },
   "source": [
    "Avaliando o modelo"
   ]
  },
  {
   "cell_type": "code",
   "execution_count": 14,
   "metadata": {
    "colab": {
     "base_uri": "https://localhost:8080/",
     "height": 68
    },
    "colab_type": "code",
    "id": "wsbr9WqyXQ2G",
    "outputId": "cbf2e2c1-699b-4688-e770-e7ecbe5c0fd5"
   },
   "outputs": [
    {
     "name": "stdout",
     "output_type": "stream",
     "text": [
      "313/313 [==============================] - 1s 4ms/step - loss: 51.6256 - accuracy: 0.8616\n",
      "Perda do teste: 51.62562942504883\n",
      "Acurácia do teste: 0.8615999817848206\n"
     ]
    }
   ],
   "source": [
    "perda_teste, acuracia_teste = modelo.evaluate(imagens_teste, identificacoes_teste)\n",
    "print('Perda do teste:', perda_teste)\n",
    "print('Acurácia do teste:', acuracia_teste)"
   ]
  },
  {
   "cell_type": "code",
   "execution_count": null,
   "metadata": {},
   "outputs": [],
   "source": []
  }
 ],
 "metadata": {
  "colab": {
   "collapsed_sections": [],
   "name": "Segundo_projeto_aula1.ipynb",
   "provenance": [],
   "version": "0.3.2"
  },
  "kernelspec": {
   "display_name": "Python 3 (ipykernel)",
   "language": "python",
   "name": "python3"
  },
  "language_info": {
   "codemirror_mode": {
    "name": "ipython",
    "version": 3
   },
   "file_extension": ".py",
   "mimetype": "text/x-python",
   "name": "python",
   "nbconvert_exporter": "python",
   "pygments_lexer": "ipython3",
   "version": "3.9.7"
  }
 },
 "nbformat": 4,
 "nbformat_minor": 1
}
