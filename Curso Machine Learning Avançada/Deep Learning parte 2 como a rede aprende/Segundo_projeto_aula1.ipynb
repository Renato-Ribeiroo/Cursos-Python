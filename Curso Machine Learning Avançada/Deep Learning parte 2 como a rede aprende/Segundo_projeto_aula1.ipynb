{
 "cells": [
  {
   "cell_type": "markdown",
   "metadata": {},
   "source": [
    "# Continuação Keras 1\n",
    "\n",
    "## Exploraremos os hiper parâmetros do algoritimo"
   ]
  },
  {
   "cell_type": "markdown",
   "metadata": {
    "colab_type": "text",
    "id": "sNc3NouWYrN7"
   },
   "source": [
    "Imports"
   ]
  },
  {
   "cell_type": "code",
   "execution_count": 1,
   "metadata": {
    "colab": {},
    "colab_type": "code",
    "id": "4bQCahYjYdUB"
   },
   "outputs": [],
   "source": [
    "import tensorflow\n",
    "from tensorflow import keras\n",
    "import matplotlib.pyplot as plt\n",
    "import numpy as np\n",
    "from tensorflow.keras.models import load_model\n",
    "import pandas as pd"
   ]
  },
  {
   "cell_type": "markdown",
   "metadata": {
    "colab_type": "text",
    "id": "f8uuzUjVYvkf"
   },
   "source": [
    "Carregando o dataset"
   ]
  },
  {
   "cell_type": "code",
   "execution_count": 2,
   "metadata": {
    "colab": {},
    "colab_type": "code",
    "id": "QoIys3wMYirH"
   },
   "outputs": [],
   "source": [
    "dataset = keras.datasets.fashion_mnist\n",
    "((imagens_treino, identificacoes_treino), (imagens_teste, identificacoes_teste)) = dataset.load_data()\n"
   ]
  },
  {
   "cell_type": "markdown",
   "metadata": {
    "colab_type": "text",
    "id": "oFr0526ZY5E_"
   },
   "source": [
    "Exploração dos dados"
   ]
  },
  {
   "cell_type": "code",
   "execution_count": 3,
   "metadata": {
    "colab": {
     "base_uri": "https://localhost:8080/",
     "height": 34
    },
    "colab_type": "code",
    "id": "fPIT36hpYl5A",
    "outputId": "61176d4b-23cf-4b16-887b-9c6a5532ad9f"
   },
   "outputs": [
    {
     "data": {
      "text/plain": [
       "9"
      ]
     },
     "execution_count": 3,
     "metadata": {},
     "output_type": "execute_result"
    }
   ],
   "source": [
    "len(imagens_treino)\n",
    "imagens_treino.shape\n",
    "imagens_teste.shape\n",
    "len(identificacoes_teste)\n",
    "identificacoes_treino.min()\n",
    "identificacoes_treino.max()"
   ]
  },
  {
   "cell_type": "markdown",
   "metadata": {
    "colab_type": "text",
    "id": "yTWqT9DIY-iB"
   },
   "source": [
    "Exibição dos dados"
   ]
  },
  {
   "cell_type": "code",
   "execution_count": 4,
   "metadata": {
    "colab": {
     "base_uri": "https://localhost:8080/",
     "height": 364
    },
    "colab_type": "code",
    "id": "bGESm49JVahh",
    "outputId": "c23e4dd9-50c3-4863-8813-8aeb793c49cf"
   },
   "outputs": [
    {
     "data": {
      "text/plain": [
       "<matplotlib.colorbar.Colorbar at 0x275c4e90eb0>"
      ]
     },
     "execution_count": 4,
     "metadata": {},
     "output_type": "execute_result"
    },
    {
     "data": {
      "image/png": "[encoded data removed]",
      "text/plain": [
       "<Figure size 432x288 with 2 Axes>"
      ]
     },
     "metadata": {
      "needs_background": "light"
     },
     "output_type": "display_data"
    }
   ],
   "source": [
    "total_de_classificacoes = 10\n",
    "nomes_de_classificacoes = ['Camiseta', 'Calça', 'Pullover', \n",
    "                           'Vestido', 'Casaco', 'Sandália', 'Camisa',\n",
    "                           'Tênis', 'Bolsa', 'Bota']\n",
    "\n",
    "plt.imshow(imagens_treino[0])\n",
    "plt.colorbar()"
   ]
  },
  {
   "cell_type": "markdown",
   "metadata": {
    "colab_type": "text",
    "id": "uU6ZySpIcoc5"
   },
   "source": [
    "Normalizando as imagens"
   ]
  },
  {
   "cell_type": "code",
   "execution_count": 5,
   "metadata": {
    "colab": {},
    "colab_type": "code",
    "id": "Ral_hdl9ulGG"
   },
   "outputs": [],
   "source": [
    "imagens_treino = imagens_treino/float(255)"
   ]
  },
  {
   "cell_type": "markdown",
   "metadata": {
    "colab_type": "text",
    "id": "2WABnvOJdCNl"
   },
   "source": [
    "Criando, compilando, treinando e normalizando o modelo"
   ]
  },
  {
   "cell_type": "code",
   "execution_count": 6,
   "metadata": {
    "colab": {
     "base_uri": "https://localhost:8080/",
     "height": 226
    },
    "colab_type": "code",
    "id": "uFedwlfFc0ii",
    "outputId": "7772c07b-077d-43e8-a9cd-7f7055df320f"
   },
   "outputs": [
    {
     "name": "stdout",
     "output_type": "stream",
     "text": [
      "Epoch 1/5\n",
      "1500/1500 [==============================] - 15s 10ms/step - loss: 0.5266 - accuracy: 0.8132 - val_loss: 0.4325 - val_accuracy: 0.8428\n",
      "Epoch 2/5\n",
      "1500/1500 [==============================] - 14s 9ms/step - loss: 0.3983 - accuracy: 0.8544 - val_loss: 0.3623 - val_accuracy: 0.8682\n",
      "Epoch 3/5\n",
      "1500/1500 [==============================] - 17s 12ms/step - loss: 0.3643 - accuracy: 0.8667 - val_loss: 0.3482 - val_accuracy: 0.8733\n",
      "Epoch 4/5\n",
      "1500/1500 [==============================] - 18s 12ms/step - loss: 0.3404 - accuracy: 0.8741 - val_loss: 0.3497 - val_accuracy: 0.8727\n",
      "Epoch 5/5\n",
      "1500/1500 [==============================] - 18s 12ms/step - loss: 0.3228 - accuracy: 0.8814 - val_loss: 0.3299 - val_accuracy: 0.8810\n"
     ]
    }
   ],
   "source": [
    "modelo = keras.Sequential([ \n",
    "    keras.layers.Flatten(input_shape=(28, 28)),\n",
    "    keras.layers.Dense(256, activation=tensorflow.nn.relu),\n",
    "    keras.layers.Dropout(0.2),\n",
    "    keras.layers.Dense(10, activation=tensorflow.nn.softmax)\n",
    "])\n",
    "\n",
    "modelo.compile(optimizer='adam', \n",
    "               loss='sparse_categorical_crossentropy',\n",
    "               metrics=['accuracy'])\n",
    "\n",
    "historico = modelo.fit(imagens_treino, identificacoes_treino, epochs=5, validation_split=0.2)"
   ]
  },
  {
   "cell_type": "markdown",
   "metadata": {
    "colab_type": "text",
    "id": "weeyzt2QuDXS"
   },
   "source": [
    "Sumário do modelo"
   ]
  },
  {
   "cell_type": "code",
   "execution_count": 7,
   "metadata": {
    "colab": {
     "base_uri": "https://localhost:8080/",
     "height": 274
    },
    "colab_type": "code",
    "id": "QLG_CH6Lr2vp",
    "outputId": "5bf36159-d992-43e3-9f62-a2950eeb7628"
   },
   "outputs": [
    {
     "name": "stdout",
     "output_type": "stream",
     "text": [
      "Model: \"sequential\"\n",
      "_________________________________________________________________\n",
      " Layer (type)                Output Shape              Param #   \n",
      "=================================================================\n",
      " flatten (Flatten)           (None, 784)               0         \n",
      "                                                                 \n",
      " dense (Dense)               (None, 256)               200960    \n",
      "                                                                 \n",
      " dropout (Dropout)           (None, 256)               0         \n",
      "                                                                 \n",
      " dense_1 (Dense)             (None, 10)                2570      \n",
      "                                                                 \n",
      "=================================================================\n",
      "Total params: 203,530\n",
      "Trainable params: 203,530\n",
      "Non-trainable params: 0\n",
      "_________________________________________________________________\n"
     ]
    }
   ],
   "source": [
    "sumario_do_modelo = modelo.summary()"
   ]
  },
  {
   "cell_type": "markdown",
   "metadata": {
    "colab_type": "text",
    "id": "GVuSQg42udch"
   },
   "source": [
    "Pesos da primeira camada Dense"
   ]
  },
  {
   "cell_type": "code",
   "execution_count": 8,
   "metadata": {
    "colab": {
     "base_uri": "https://localhost:8080/",
     "height": 1354
    },
    "colab_type": "code",
    "id": "YRzqJi5gr-ug",
    "outputId": "fb501c8a-69f6-49c1-ae48-176d4cf06592"
   },
   "outputs": [
    {
     "data": {
      "text/plain": [
       "array([[-0.07452379, -0.06576952,  0.02420964, ...,  0.06777423,\n",
       "         0.06819363, -0.0231841 ],\n",
       "       [ 0.02291587,  0.04770913,  0.14973454, ...,  0.18217783,\n",
       "         0.01565862,  0.08282227],\n",
       "       [-0.03402076,  0.04241587,  0.09493557, ...,  0.25447422,\n",
       "         0.01211288,  0.11930279],\n",
       "       ...,\n",
       "       [-0.0653988 , -0.03048183,  0.16199312, ...,  0.03708144,\n",
       "        -0.00854075, -0.03776873],\n",
       "       [-0.03779593, -0.13253331,  0.01553244, ...,  0.12863365,\n",
       "        -0.00804693,  0.05732314],\n",
       "       [-0.07907516, -0.11982332,  0.01145277, ...,  0.17588149,\n",
       "         0.04211837,  0.10092752]], dtype=float32)"
      ]
     },
     "execution_count": 8,
     "metadata": {},
     "output_type": "execute_result"
    }
   ],
   "source": [
    "# por debaixo dos panos temos um array multiplicando outro, ou seja, multiplicação de matrizes\n",
    "pesos_camada_dense = modelo.layers[1].get_weights()[0]\n",
    "pesos_camada_dense"
   ]
  },
  {
   "cell_type": "code",
   "execution_count": 15,
   "metadata": {},
   "outputs": [
    {
     "data": {
      "text/plain": [
       "[array([[0.9836154 , 0.65181   , 0.06642079, ..., 0.8982686 , 0.13171138,\n",
       "         0.29097348],\n",
       "        [0.35296297, 0.08956034, 0.5682562 , ..., 0.34007093, 0.31675604,\n",
       "         0.07631841],\n",
       "        [0.00229077, 0.27265513, 0.14806019, ..., 0.38028136, 0.39306074,\n",
       "         0.9949338 ],\n",
       "        ...,\n",
       "        [0.6493045 , 0.9459595 , 0.9370223 , ..., 0.3629321 , 0.8000862 ,\n",
       "         0.51011103],\n",
       "        [0.29595813, 0.09413946, 0.00151477, ..., 0.5082125 , 0.19343416,\n",
       "         0.72696596],\n",
       "        [0.17480505, 0.00126024, 0.959987  , ..., 0.65091026, 0.21271037,\n",
       "         0.8695769 ]], dtype=float32),\n",
       " array([ 0.261701  ,  0.17422436,  0.30732656,  0.06548955,  0.2772519 ,\n",
       "         0.265594  ,  0.06166536, -0.02656111,  0.12739901, -0.1047264 ,\n",
       "        -0.2375601 , -0.04335317, -0.01902843,  0.180194  , -0.00952959,\n",
       "         0.21551152, -0.02495442,  0.13410571,  0.05383703, -0.32468295,\n",
       "         0.12590757,  0.15718386, -0.17906642,  0.01132514,  0.12620807,\n",
       "        -0.16357464,  0.269982  ,  0.19788478, -0.01392005,  0.30717218,\n",
       "        -0.01827676,  0.07643138, -0.01095732,  0.28051418,  0.19994767,\n",
       "         0.2832226 ,  0.22770542, -0.04032278, -0.300108  ,  0.1970892 ,\n",
       "        -0.11770348, -0.01077373,  0.1811147 ,  0.166331  ,  0.19877732,\n",
       "         0.05804132,  0.42162648,  0.21127225,  0.1663029 , -0.11029958,\n",
       "         0.32821333,  0.27073193, -0.23746929,  0.40485886,  0.16335134,\n",
       "         0.2347813 ,  0.2657973 ,  0.01635626,  0.1798703 , -0.00433464,\n",
       "         0.31101337,  0.16669942,  0.23393825,  0.05823117,  0.12347389,\n",
       "        -0.01143145, -0.12151266,  0.15880209,  0.08304301,  0.02660241,\n",
       "         0.20820501,  0.11690608,  0.2613895 , -0.21341729,  0.379539  ,\n",
       "        -0.02211774,  0.15603848, -0.11781636,  0.16444024, -0.06425279,\n",
       "         0.14934205,  0.35343802,  0.10865798,  0.09716318, -0.0213493 ,\n",
       "         0.40036845,  0.1686731 ,  0.01783152,  0.14675634,  0.04549121,\n",
       "        -0.01087779,  0.07512826,  0.37770012,  0.25801733,  0.23167235,\n",
       "         0.3722022 ,  0.0221549 , -0.01620102,  0.2809147 , -0.02195419,\n",
       "         0.04695001,  0.09877058,  0.04338492,  0.11544357,  0.3208466 ,\n",
       "         0.21692535,  0.15781887, -0.02083846,  0.2557241 , -0.08764669,\n",
       "         0.220477  ,  0.13959934, -0.28010052,  0.05938055,  0.16262335,\n",
       "         0.02939385, -0.07732822,  0.15812834, -0.1807637 ,  0.27465895,\n",
       "        -0.02088306, -0.12186688,  0.27086166,  0.00406893,  0.11249378,\n",
       "         0.03169327,  0.07866593, -0.09300564, -0.17338179,  0.15475912,\n",
       "         0.08741193,  0.06934462,  0.08550131,  0.32897484, -0.22298333,\n",
       "         0.00886288, -0.05757823, -0.01397646, -0.06159693,  0.12948321,\n",
       "         0.07814191,  0.17014417,  0.04619474, -0.09352727, -0.36440387,\n",
       "        -0.1523684 ,  0.20202039, -0.0081668 ,  0.30397385, -0.01196441,\n",
       "         0.00679442,  0.00433135, -0.37568635,  0.26705363, -0.01693924,\n",
       "         0.10571352,  0.06900579,  0.13183708,  0.37523282,  0.24701694,\n",
       "        -0.11749384,  0.02652835,  0.14271261,  0.12862502,  0.29097736,\n",
       "         0.25523204,  0.4300199 , -0.0074079 , -0.2884336 ,  0.14796574,\n",
       "        -0.01526607,  0.27632836,  0.18112582, -0.01440725,  0.04219266,\n",
       "         0.03916864,  0.09702288,  0.01813775,  0.06028834, -0.16662803,\n",
       "         0.24149677,  0.2507687 , -0.01653226, -0.01657312,  0.07136858,\n",
       "         0.08236346, -0.01185597,  0.01556065,  0.14272647,  0.17476477,\n",
       "         0.21771716, -0.06457268,  0.22866964,  0.09087072,  0.39803895,\n",
       "         0.20720936, -0.11369707, -0.04184737,  0.05622207,  0.0620348 ,\n",
       "        -0.01046732,  0.08241627,  0.03899441, -0.01503714,  0.16754074,\n",
       "         0.19503905,  0.05336003,  0.09661812,  0.01810994, -0.01423628,\n",
       "         0.02276966,  0.16373071, -0.05011313,  0.5177105 ,  0.07904945,\n",
       "         0.01937879,  0.35461247,  0.37851512,  0.30330956, -0.01506408,\n",
       "         0.08756529,  0.3495295 ,  0.3257876 ,  0.07984909,  0.29007754,\n",
       "        -0.22573009,  0.0116715 ,  0.17221709,  0.410881  , -0.01076628,\n",
       "        -0.02796073,  0.25705567,  0.27968964, -0.26648355, -0.05335532,\n",
       "         0.38686758,  0.19910823,  0.27378795,  0.26329556,  0.1703165 ,\n",
       "         0.31141916, -0.02676302,  0.15377705, -0.24832052,  0.25833952,\n",
       "         0.1486722 , -0.01138086,  0.10675786,  0.08549649,  0.03670154,\n",
       "         0.10033174, -0.085388  , -0.02534758,  0.23259397, -0.00904075,\n",
       "        -0.22115062], dtype=float32)]"
      ]
     },
     "execution_count": 15,
     "metadata": {},
     "output_type": "execute_result"
    }
   ],
   "source": [
    "# criando array com valores zerados e aleatórios\n",
    "pesos_camada_dense.shape\n",
    "pesos_camada_dense_zerados = np.zeros((784, 256))\n",
    "\n",
    "pesos_camada_dense_aleatorios = np.random.rand(784, 256)\n",
    "\n",
    "'''\n",
    "modelo.layers[1].set_weights(\n",
    "    [pesos_camada_dense_zerados, vieses_pesos_camada_dense])\n",
    "'''\n",
    "modelo.layers[1].set_weights(\n",
    "    [pesos_camada_dense_aleatorios, vieses_pesos_camada_dense])\n",
    "\n",
    "modelo.layers[1].get_weights()\n"
   ]
  },
  {
   "cell_type": "code",
   "execution_count": 22,
   "metadata": {},
   "outputs": [
    {
     "name": "stdout",
     "output_type": "stream",
     "text": [
      "Epoch 1/5\n",
      "1500/1500 [==============================] - 15s 9ms/step - loss: 2.3085 - accuracy: 0.0984 - val_loss: 2.3031 - val_accuracy: 0.1003\n",
      "Epoch 2/5\n",
      "1500/1500 [==============================] - 17s 11ms/step - loss: 2.3028 - accuracy: 0.0992 - val_loss: 2.3027 - val_accuracy: 0.0983\n",
      "Epoch 3/5\n",
      "1500/1500 [==============================] - 17s 11ms/step - loss: 2.3028 - accuracy: 0.0990 - val_loss: 2.3028 - val_accuracy: 0.0957\n",
      "Epoch 4/5\n",
      "1500/1500 [==============================] - 17s 12ms/step - loss: 2.3028 - accuracy: 0.0981 - val_loss: 2.3028 - val_accuracy: 0.0957\n",
      "Epoch 5/5\n",
      "1500/1500 [==============================] - 20s 13ms/step - loss: 2.3028 - accuracy: 0.0981 - val_loss: 2.3028 - val_accuracy: 0.0957\n"
     ]
    }
   ],
   "source": [
    "#rodando o modelo com o array de pesos zerados\n",
    "modelo.compile(optimizer='adam', \n",
    "               loss='sparse_categorical_crossentropy',\n",
    "               metrics=['accuracy'])\n",
    "\n",
    "historico = modelo.fit(imagens_treino, identificacoes_treino, epochs=5, validation_split=0.2)"
   ]
  },
  {
   "cell_type": "code",
   "execution_count": 13,
   "metadata": {},
   "outputs": [
    {
     "data": {
      "text/plain": [
       "{'name': 'sequential',\n",
       " 'layers': [{'class_name': 'InputLayer',\n",
       "   'config': {'batch_input_shape': (None, 28, 28),\n",
       "    'dtype': 'float32',\n",
       "    'sparse': False,\n",
       "    'ragged': False,\n",
       "    'name': 'flatten_input'}},\n",
       "  {'class_name': 'Flatten',\n",
       "   'config': {'name': 'flatten',\n",
       "    'trainable': True,\n",
       "    'batch_input_shape': (None, 28, 28),\n",
       "    'dtype': 'float32',\n",
       "    'data_format': 'channels_last'}},\n",
       "  {'class_name': 'Dense',\n",
       "   'config': {'name': 'dense',\n",
       "    'trainable': True,\n",
       "    'dtype': 'float32',\n",
       "    'units': 256,\n",
       "    'activation': 'relu',\n",
       "    'use_bias': True,\n",
       "    'kernel_initializer': {'class_name': 'GlorotUniform',\n",
       "     'config': {'seed': None}},\n",
       "    'bias_initializer': {'class_name': 'Zeros', 'config': {}},\n",
       "    'kernel_regularizer': None,\n",
       "    'bias_regularizer': None,\n",
       "    'activity_regularizer': None,\n",
       "    'kernel_constraint': None,\n",
       "    'bias_constraint': None}},\n",
       "  {'class_name': 'Dropout',\n",
       "   'config': {'name': 'dropout',\n",
       "    'trainable': True,\n",
       "    'dtype': 'float32',\n",
       "    'rate': 0.2,\n",
       "    'noise_shape': None,\n",
       "    'seed': None}},\n",
       "  {'class_name': 'Dense',\n",
       "   'config': {'name': 'dense_1',\n",
       "    'trainable': True,\n",
       "    'dtype': 'float32',\n",
       "    'units': 10,\n",
       "    'activation': 'softmax',\n",
       "    'use_bias': True,\n",
       "    'kernel_initializer': {'class_name': 'GlorotUniform',\n",
       "     'config': {'seed': None}},\n",
       "    'bias_initializer': {'class_name': 'Zeros', 'config': {}},\n",
       "    'kernel_regularizer': None,\n",
       "    'bias_regularizer': None,\n",
       "    'activity_regularizer': None,\n",
       "    'kernel_constraint': None,\n",
       "    'bias_constraint': None}}]}"
      ]
     },
     "execution_count": 13,
     "metadata": {},
     "output_type": "execute_result"
    }
   ],
   "source": [
    "modelo.get_config()"
   ]
  },
  {
   "cell_type": "code",
   "execution_count": 23,
   "metadata": {},
   "outputs": [
    {
     "data": {
      "text/plain": [
       "<matplotlib.legend.Legend at 0x275c25ac1c0>"
      ]
     },
     "execution_count": 23,
     "metadata": {},
     "output_type": "execute_result"
    },
    {
     "data": {
      "image/png": "[encoded data removed]",
      "text/plain": [
       "<Figure size 432x288 with 1 Axes>"
      ]
     },
     "metadata": {
      "needs_background": "light"
     },
     "output_type": "display_data"
    }
   ],
   "source": [
    "plt.plot(historico.history['accuracy'])\n",
    "plt.plot(historico.history['val_accuracy'])\n",
    "plt.title('Acurácia por épocas')\n",
    "plt.xlabel('épocas')\n",
    "plt.ylabel('acurácia')\n",
    "plt.legend(['treino', 'validação'])"
   ]
  },
  {
   "cell_type": "code",
   "execution_count": 24,
   "metadata": {},
   "outputs": [
    {
     "data": {
      "text/plain": [
       "<matplotlib.legend.Legend at 0x275c1fea8b0>"
      ]
     },
     "execution_count": 24,
     "metadata": {},
     "output_type": "execute_result"
    },
    {
     "data": {
      "image/png": "[encoded data removed]",
      "text/plain": [
       "<Figure size 432x288 with 1 Axes>"
      ]
     },
     "metadata": {
      "needs_background": "light"
     },
     "output_type": "display_data"
    }
   ],
   "source": [
    "plt.plot(historico.history['loss'])\n",
    "plt.plot(historico.history['val_loss'])\n",
    "plt.title('Perda por épocas')\n",
    "plt.xlabel('épocas')\n",
    "plt.ylabel('perda')\n",
    "plt.legend(['treino', 'validação'])"
   ]
  },
  {
   "cell_type": "code",
   "execution_count": 10,
   "metadata": {},
   "outputs": [
    {
     "data": {
      "text/plain": [
       "array([ 0.261701  ,  0.17422436,  0.30732656,  0.06548955,  0.2772519 ,\n",
       "        0.265594  ,  0.06166536, -0.02656111,  0.12739901, -0.1047264 ,\n",
       "       -0.2375601 , -0.04335317, -0.01902843,  0.180194  , -0.00952959,\n",
       "        0.21551152, -0.02495442,  0.13410571,  0.05383703, -0.32468295,\n",
       "        0.12590757,  0.15718386, -0.17906642,  0.01132514,  0.12620807,\n",
       "       -0.16357464,  0.269982  ,  0.19788478, -0.01392005,  0.30717218,\n",
       "       -0.01827676,  0.07643138, -0.01095732,  0.28051418,  0.19994767,\n",
       "        0.2832226 ,  0.22770542, -0.04032278, -0.300108  ,  0.1970892 ,\n",
       "       -0.11770348, -0.01077373,  0.1811147 ,  0.166331  ,  0.19877732,\n",
       "        0.05804132,  0.42162648,  0.21127225,  0.1663029 , -0.11029958,\n",
       "        0.32821333,  0.27073193, -0.23746929,  0.40485886,  0.16335134,\n",
       "        0.2347813 ,  0.2657973 ,  0.01635626,  0.1798703 , -0.00433464,\n",
       "        0.31101337,  0.16669942,  0.23393825,  0.05823117,  0.12347389,\n",
       "       -0.01143145, -0.12151266,  0.15880209,  0.08304301,  0.02660241,\n",
       "        0.20820501,  0.11690608,  0.2613895 , -0.21341729,  0.379539  ,\n",
       "       -0.02211774,  0.15603848, -0.11781636,  0.16444024, -0.06425279,\n",
       "        0.14934205,  0.35343802,  0.10865798,  0.09716318, -0.0213493 ,\n",
       "        0.40036845,  0.1686731 ,  0.01783152,  0.14675634,  0.04549121,\n",
       "       -0.01087779,  0.07512826,  0.37770012,  0.25801733,  0.23167235,\n",
       "        0.3722022 ,  0.0221549 , -0.01620102,  0.2809147 , -0.02195419,\n",
       "        0.04695001,  0.09877058,  0.04338492,  0.11544357,  0.3208466 ,\n",
       "        0.21692535,  0.15781887, -0.02083846,  0.2557241 , -0.08764669,\n",
       "        0.220477  ,  0.13959934, -0.28010052,  0.05938055,  0.16262335,\n",
       "        0.02939385, -0.07732822,  0.15812834, -0.1807637 ,  0.27465895,\n",
       "       -0.02088306, -0.12186688,  0.27086166,  0.00406893,  0.11249378,\n",
       "        0.03169327,  0.07866593, -0.09300564, -0.17338179,  0.15475912,\n",
       "        0.08741193,  0.06934462,  0.08550131,  0.32897484, -0.22298333,\n",
       "        0.00886288, -0.05757823, -0.01397646, -0.06159693,  0.12948321,\n",
       "        0.07814191,  0.17014417,  0.04619474, -0.09352727, -0.36440387,\n",
       "       -0.1523684 ,  0.20202039, -0.0081668 ,  0.30397385, -0.01196441,\n",
       "        0.00679442,  0.00433135, -0.37568635,  0.26705363, -0.01693924,\n",
       "        0.10571352,  0.06900579,  0.13183708,  0.37523282,  0.24701694,\n",
       "       -0.11749384,  0.02652835,  0.14271261,  0.12862502,  0.29097736,\n",
       "        0.25523204,  0.4300199 , -0.0074079 , -0.2884336 ,  0.14796574,\n",
       "       -0.01526607,  0.27632836,  0.18112582, -0.01440725,  0.04219266,\n",
       "        0.03916864,  0.09702288,  0.01813775,  0.06028834, -0.16662803,\n",
       "        0.24149677,  0.2507687 , -0.01653226, -0.01657312,  0.07136858,\n",
       "        0.08236346, -0.01185597,  0.01556065,  0.14272647,  0.17476477,\n",
       "        0.21771716, -0.06457268,  0.22866964,  0.09087072,  0.39803895,\n",
       "        0.20720936, -0.11369707, -0.04184737,  0.05622207,  0.0620348 ,\n",
       "       -0.01046732,  0.08241627,  0.03899441, -0.01503714,  0.16754074,\n",
       "        0.19503905,  0.05336003,  0.09661812,  0.01810994, -0.01423628,\n",
       "        0.02276966,  0.16373071, -0.05011313,  0.5177105 ,  0.07904945,\n",
       "        0.01937879,  0.35461247,  0.37851512,  0.30330956, -0.01506408,\n",
       "        0.08756529,  0.3495295 ,  0.3257876 ,  0.07984909,  0.29007754,\n",
       "       -0.22573009,  0.0116715 ,  0.17221709,  0.410881  , -0.01076628,\n",
       "       -0.02796073,  0.25705567,  0.27968964, -0.26648355, -0.05335532,\n",
       "        0.38686758,  0.19910823,  0.27378795,  0.26329556,  0.1703165 ,\n",
       "        0.31141916, -0.02676302,  0.15377705, -0.24832052,  0.25833952,\n",
       "        0.1486722 , -0.01138086,  0.10675786,  0.08549649,  0.03670154,\n",
       "        0.10033174, -0.085388  , -0.02534758,  0.23259397, -0.00904075,\n",
       "       -0.22115062], dtype=float32)"
      ]
     },
     "execution_count": 10,
     "metadata": {},
     "output_type": "execute_result"
    }
   ],
   "source": [
    "vieses_pesos_camada_dense = modelo.layers[1].get_weights()[1]\n",
    "vieses_pesos_camada_dense"
   ]
  },
  {
   "cell_type": "code",
   "execution_count": 21,
   "metadata": {},
   "outputs": [],
   "source": [
    "#zerando as informações, criando variável com dados \"0\"\n",
    "vieses_pesos_camada_dense_zerados = np.zeros((256))\n",
    "modelo.layers[1].set_weights(\n",
    "    [pesos_camada_dense_zerados, vieses_pesos_camada_dense_zerados])"
   ]
  },
  {
   "cell_type": "markdown",
   "metadata": {
    "colab_type": "text",
    "id": "4-RqzS88dgk_"
   },
   "source": [
    "Salvando e carregando o modelo treinado"
   ]
  },
  {
   "cell_type": "code",
   "execution_count": 17,
   "metadata": {
    "colab": {},
    "colab_type": "code",
    "id": "SVjmU41IELzX"
   },
   "outputs": [],
   "source": [
    "modelo.save('modelo.h5')\n",
    "modelo_salvo = load_model('modelo.h5')"
   ]
  },
  {
   "cell_type": "markdown",
   "metadata": {
    "colab_type": "text",
    "id": "SVxHO3opdnMb"
   },
   "source": [
    "Visualizando as acurácias de treino e validação por época"
   ]
  },
  {
   "cell_type": "code",
   "execution_count": 18,
   "metadata": {
    "colab": {
     "base_uri": "https://localhost:8080/",
     "height": 394
    },
    "colab_type": "code",
    "id": "pNc0JsWZY1Ie",
    "outputId": "19182697-90e1-4179-928a-18b420c48d8a"
   },
   "outputs": [
    {
     "data": {
      "text/plain": [
       "<matplotlib.legend.Legend at 0x275c1f65d30>"
      ]
     },
     "execution_count": 18,
     "metadata": {},
     "output_type": "execute_result"
    },
    {
     "data": {
      "image/png": "[encoded data removed]",
      "text/plain": [
       "<Figure size 432x288 with 1 Axes>"
      ]
     },
     "metadata": {
      "needs_background": "light"
     },
     "output_type": "display_data"
    }
   ],
   "source": [
    "plt.plot(historico.history['accuracy'])\n",
    "plt.plot(historico.history['val_accuracy'])\n",
    "plt.title('Acurácia por épocas')\n",
    "plt.xlabel('épocas')\n",
    "plt.ylabel('acurácia')\n",
    "plt.legend(['treino', 'validação'])\n"
   ]
  },
  {
   "cell_type": "markdown",
   "metadata": {
    "colab_type": "text",
    "id": "ZKxkWNawdzZh"
   },
   "source": [
    "Visualizando as perdas de treino e validação por época"
   ]
  },
  {
   "cell_type": "code",
   "execution_count": null,
   "metadata": {
    "colab": {
     "base_uri": "https://localhost:8080/",
     "height": 393
    },
    "colab_type": "code",
    "id": "2ugG3Vusg_Va",
    "outputId": "dbc526a0-5890-4ece-a0e0-0ab01e18034a"
   },
   "outputs": [],
   "source": [
    "plt.plot(historico.history['loss'])\n",
    "plt.plot(historico.history['val_loss'])\n",
    "plt.title('Perda por épocas')\n",
    "plt.xlabel('épocas')\n",
    "plt.ylabel('perda')\n",
    "plt.legend(['treino', 'validação'])"
   ]
  },
  {
   "cell_type": "markdown",
   "metadata": {
    "colab_type": "text",
    "id": "JFXG1oibd8E8"
   },
   "source": [
    "Testando o modelo e o modelo salvo"
   ]
  },
  {
   "cell_type": "code",
   "execution_count": 19,
   "metadata": {
    "colab": {
     "base_uri": "https://localhost:8080/",
     "height": 85
    },
    "colab_type": "code",
    "id": "I2kLEHPYUdhd",
    "outputId": "c62dd99d-5620-437b-8cda-2553728c86c3"
   },
   "outputs": [
    {
     "name": "stdout",
     "output_type": "stream",
     "text": [
      "313/313 [==============================] - 2s 5ms/step\n",
      "resultado teste: 5\n",
      "número da imagem de teste: 2\n",
      "313/313 [==============================] - 2s 5ms/step\n",
      "resultado teste modelo salvo: 5\n",
      "número da imagem de teste: 2\n"
     ]
    }
   ],
   "source": [
    "testes = modelo.predict(imagens_teste)\n",
    "print('resultado teste:', np.argmax(testes[1]))\n",
    "print('número da imagem de teste:', identificacoes_teste[1])\n",
    "\n",
    "testes_modelo_salvo = modelo_salvo.predict(imagens_teste)\n",
    "print('resultado teste modelo salvo:', np.argmax(testes_modelo_salvo[1]))\n",
    "print('número da imagem de teste:', identificacoes_teste[1])"
   ]
  },
  {
   "cell_type": "markdown",
   "metadata": {
    "colab_type": "text",
    "id": "U64QMV1GeCUr"
   },
   "source": [
    "Avaliando o modelo"
   ]
  },
  {
   "cell_type": "code",
   "execution_count": 20,
   "metadata": {
    "colab": {
     "base_uri": "https://localhost:8080/",
     "height": 68
    },
    "colab_type": "code",
    "id": "wsbr9WqyXQ2G",
    "outputId": "cbf2e2c1-699b-4688-e770-e7ecbe5c0fd5"
   },
   "outputs": [
    {
     "name": "stdout",
     "output_type": "stream",
     "text": [
      "313/313 [==============================] - 2s 7ms/step - loss: 403192.4062 - accuracy: 0.1000\n",
      "Perda do teste: 403192.40625\n",
      "Acurácia do teste: 0.10000000149011612\n"
     ]
    }
   ],
   "source": [
    "perda_teste, acuracia_teste = modelo.evaluate(imagens_teste, identificacoes_teste)\n",
    "print('Perda do teste:', perda_teste)\n",
    "print('Acurácia do teste:', acuracia_teste)"
   ]
  },
  {
   "cell_type": "code",
   "execution_count": null,
   "metadata": {},
   "outputs": [],
   "source": []
  }
 ],
 "metadata": {
  "colab": {
   "collapsed_sections": [],
   "name": "Segundo_projeto_aula1.ipynb",
   "provenance": [],
   "version": "0.3.2"
  },
  "kernelspec": {
   "display_name": "Python 3 (ipykernel)",
   "language": "python",
   "name": "python3"
  },
  "language_info": {
   "codemirror_mode": {
    "name": "ipython",
    "version": 3
   },
   "file_extension": ".py",
   "mimetype": "text/x-python",
   "name": "python",
   "nbconvert_exporter": "python",
   "pygments_lexer": "ipython3",
   "version": "3.9.7"
  }
 },
 "nbformat": 4,
 "nbformat_minor": 1
}
