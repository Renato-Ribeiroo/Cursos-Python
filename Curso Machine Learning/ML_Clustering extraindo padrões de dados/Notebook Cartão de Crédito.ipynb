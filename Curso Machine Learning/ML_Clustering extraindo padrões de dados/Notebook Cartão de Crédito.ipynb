{
 "cells": [
  {
   "cell_type": "code",
   "execution_count": 68,
   "id": "28690c2f",
   "metadata": {},
   "outputs": [],
   "source": [
    "# analise de risco de credito, categorizando os clientes Baixo, medio, alto.\n",
    "# com base no dataset onde já conhecimos os riscos.\n",
    "# treinaremos a maquina para poder classificar os próximos clientes"
   ]
  },
  {
   "cell_type": "markdown",
   "id": "3d10db7c",
   "metadata": {},
   "source": [
    "## Aprendizado Supervisionado - Classificação"
   ]
  },
  {
   "cell_type": "markdown",
   "id": "337d46cb",
   "metadata": {},
   "source": [
    "### Qual é o comportamento dos meus clientes com cartão de crédito?"
   ]
  },
  {
   "cell_type": "code",
   "execution_count": 69,
   "id": "62b29457",
   "metadata": {},
   "outputs": [
    {
     "data": {
      "text/html": [
       "<div>\n",
       "<style scoped>\n",
       "    .dataframe tbody tr th:only-of-type {\n",
       "        vertical-align: middle;\n",
       "    }\n",
       "\n",
       "    .dataframe tbody tr th {\n",
       "        vertical-align: top;\n",
       "    }\n",
       "\n",
       "    .dataframe thead th {\n",
       "        text-align: right;\n",
       "    }\n",
       "</style>\n",
       "<table border=\"1\" class=\"dataframe\">\n",
       "  <thead>\n",
       "    <tr style=\"text-align: right;\">\n",
       "      <th></th>\n",
       "      <th>BALANCE</th>\n",
       "      <th>BALANCE_FREQUENCY</th>\n",
       "      <th>PURCHASES</th>\n",
       "      <th>ONEOFF_PURCHASES</th>\n",
       "      <th>INSTALLMENTS_PURCHASES</th>\n",
       "      <th>CASH_ADVANCE</th>\n",
       "      <th>PURCHASES_FREQUENCY</th>\n",
       "      <th>ONEOFF_PURCHASES_FREQUENCY</th>\n",
       "      <th>PURCHASES_INSTALLMENTS_FREQUENCY</th>\n",
       "      <th>CASH_ADVANCE_FREQUENCY</th>\n",
       "      <th>CASH_ADVANCE_TRX</th>\n",
       "      <th>PURCHASES_TRX</th>\n",
       "      <th>CREDIT_LIMIT</th>\n",
       "      <th>PAYMENTS</th>\n",
       "      <th>MINIMUM_PAYMENTS</th>\n",
       "      <th>PRC_FULL_PAYMENT</th>\n",
       "    </tr>\n",
       "  </thead>\n",
       "  <tbody>\n",
       "    <tr>\n",
       "      <th>0</th>\n",
       "      <td>40.900749</td>\n",
       "      <td>0.818182</td>\n",
       "      <td>95.40</td>\n",
       "      <td>0.00</td>\n",
       "      <td>95.4</td>\n",
       "      <td>0.000000</td>\n",
       "      <td>0.166667</td>\n",
       "      <td>0.000000</td>\n",
       "      <td>0.083333</td>\n",
       "      <td>0.000000</td>\n",
       "      <td>0</td>\n",
       "      <td>2</td>\n",
       "      <td>1000.0</td>\n",
       "      <td>201.802084</td>\n",
       "      <td>139.509787</td>\n",
       "      <td>0.000000</td>\n",
       "    </tr>\n",
       "    <tr>\n",
       "      <th>1</th>\n",
       "      <td>3202.467416</td>\n",
       "      <td>0.909091</td>\n",
       "      <td>0.00</td>\n",
       "      <td>0.00</td>\n",
       "      <td>0.0</td>\n",
       "      <td>6442.945483</td>\n",
       "      <td>0.000000</td>\n",
       "      <td>0.000000</td>\n",
       "      <td>0.000000</td>\n",
       "      <td>0.250000</td>\n",
       "      <td>4</td>\n",
       "      <td>0</td>\n",
       "      <td>7000.0</td>\n",
       "      <td>4103.032597</td>\n",
       "      <td>1072.340217</td>\n",
       "      <td>0.222222</td>\n",
       "    </tr>\n",
       "    <tr>\n",
       "      <th>2</th>\n",
       "      <td>2495.148862</td>\n",
       "      <td>1.000000</td>\n",
       "      <td>773.17</td>\n",
       "      <td>773.17</td>\n",
       "      <td>0.0</td>\n",
       "      <td>0.000000</td>\n",
       "      <td>1.000000</td>\n",
       "      <td>1.000000</td>\n",
       "      <td>0.000000</td>\n",
       "      <td>0.000000</td>\n",
       "      <td>0</td>\n",
       "      <td>12</td>\n",
       "      <td>7500.0</td>\n",
       "      <td>622.066742</td>\n",
       "      <td>627.284787</td>\n",
       "      <td>0.000000</td>\n",
       "    </tr>\n",
       "    <tr>\n",
       "      <th>3</th>\n",
       "      <td>1666.670542</td>\n",
       "      <td>0.636364</td>\n",
       "      <td>1499.00</td>\n",
       "      <td>1499.00</td>\n",
       "      <td>0.0</td>\n",
       "      <td>205.788017</td>\n",
       "      <td>0.083333</td>\n",
       "      <td>0.083333</td>\n",
       "      <td>0.000000</td>\n",
       "      <td>0.083333</td>\n",
       "      <td>1</td>\n",
       "      <td>1</td>\n",
       "      <td>7500.0</td>\n",
       "      <td>0.000000</td>\n",
       "      <td>NaN</td>\n",
       "      <td>0.000000</td>\n",
       "    </tr>\n",
       "    <tr>\n",
       "      <th>4</th>\n",
       "      <td>817.714335</td>\n",
       "      <td>1.000000</td>\n",
       "      <td>16.00</td>\n",
       "      <td>16.00</td>\n",
       "      <td>0.0</td>\n",
       "      <td>0.000000</td>\n",
       "      <td>0.083333</td>\n",
       "      <td>0.083333</td>\n",
       "      <td>0.000000</td>\n",
       "      <td>0.000000</td>\n",
       "      <td>0</td>\n",
       "      <td>1</td>\n",
       "      <td>1200.0</td>\n",
       "      <td>678.334763</td>\n",
       "      <td>244.791237</td>\n",
       "      <td>0.000000</td>\n",
       "    </tr>\n",
       "  </tbody>\n",
       "</table>\n",
       "</div>"
      ],
      "text/plain": [
       "       BALANCE  BALANCE_FREQUENCY  PURCHASES  ONEOFF_PURCHASES  \\\n",
       "0    40.900749           0.818182      95.40              0.00   \n",
       "1  3202.467416           0.909091       0.00              0.00   \n",
       "2  2495.148862           1.000000     773.17            773.17   \n",
       "3  1666.670542           0.636364    1499.00           1499.00   \n",
       "4   817.714335           1.000000      16.00             16.00   \n",
       "\n",
       "   INSTALLMENTS_PURCHASES  CASH_ADVANCE  PURCHASES_FREQUENCY  \\\n",
       "0                    95.4      0.000000             0.166667   \n",
       "1                     0.0   6442.945483             0.000000   \n",
       "2                     0.0      0.000000             1.000000   \n",
       "3                     0.0    205.788017             0.083333   \n",
       "4                     0.0      0.000000             0.083333   \n",
       "\n",
       "   ONEOFF_PURCHASES_FREQUENCY  PURCHASES_INSTALLMENTS_FREQUENCY  \\\n",
       "0                    0.000000                          0.083333   \n",
       "1                    0.000000                          0.000000   \n",
       "2                    1.000000                          0.000000   \n",
       "3                    0.083333                          0.000000   \n",
       "4                    0.083333                          0.000000   \n",
       "\n",
       "   CASH_ADVANCE_FREQUENCY  CASH_ADVANCE_TRX  PURCHASES_TRX  CREDIT_LIMIT  \\\n",
       "0                0.000000                 0              2        1000.0   \n",
       "1                0.250000                 4              0        7000.0   \n",
       "2                0.000000                 0             12        7500.0   \n",
       "3                0.083333                 1              1        7500.0   \n",
       "4                0.000000                 0              1        1200.0   \n",
       "\n",
       "      PAYMENTS  MINIMUM_PAYMENTS  PRC_FULL_PAYMENT  \n",
       "0   201.802084        139.509787          0.000000  \n",
       "1  4103.032597       1072.340217          0.222222  \n",
       "2   622.066742        627.284787          0.000000  \n",
       "3     0.000000               NaN          0.000000  \n",
       "4   678.334763        244.791237          0.000000  "
      ]
     },
     "execution_count": 69,
     "metadata": {},
     "output_type": "execute_result"
    }
   ],
   "source": [
    "import pandas as pd\n",
    "\n",
    "dataframe = pd.read_csv(\"AluraData/CC General.csv\")\n",
    "dataframe.drop(columns=[\"CUST_ID\", \"TENURE\"], inplace=True)\n",
    "dataframe.head()"
   ]
  },
  {
   "cell_type": "code",
   "execution_count": 70,
   "id": "ca5a9c7d",
   "metadata": {},
   "outputs": [
    {
     "name": "stdout",
     "output_type": "stream",
     "text": [
      "BALANCE                               0\n",
      "BALANCE_FREQUENCY                     0\n",
      "PURCHASES                             0\n",
      "ONEOFF_PURCHASES                      0\n",
      "INSTALLMENTS_PURCHASES                0\n",
      "CASH_ADVANCE                          0\n",
      "PURCHASES_FREQUENCY                   0\n",
      "ONEOFF_PURCHASES_FREQUENCY            0\n",
      "PURCHASES_INSTALLMENTS_FREQUENCY      0\n",
      "CASH_ADVANCE_FREQUENCY                0\n",
      "CASH_ADVANCE_TRX                      0\n",
      "PURCHASES_TRX                         0\n",
      "CREDIT_LIMIT                          1\n",
      "PAYMENTS                              0\n",
      "MINIMUM_PAYMENTS                    313\n",
      "PRC_FULL_PAYMENT                      0\n",
      "dtype: int64\n"
     ]
    }
   ],
   "source": [
    "#verificar os dados faltantes\n",
    "missing = dataframe.isna().sum()\n",
    "print(missing)"
   ]
  },
  {
   "cell_type": "code",
   "execution_count": 71,
   "id": "aa8b2f56",
   "metadata": {},
   "outputs": [
    {
     "name": "stdout",
     "output_type": "stream",
     "text": [
      "BALANCE                             0\n",
      "BALANCE_FREQUENCY                   0\n",
      "PURCHASES                           0\n",
      "ONEOFF_PURCHASES                    0\n",
      "INSTALLMENTS_PURCHASES              0\n",
      "CASH_ADVANCE                        0\n",
      "PURCHASES_FREQUENCY                 0\n",
      "ONEOFF_PURCHASES_FREQUENCY          0\n",
      "PURCHASES_INSTALLMENTS_FREQUENCY    0\n",
      "CASH_ADVANCE_FREQUENCY              0\n",
      "CASH_ADVANCE_TRX                    0\n",
      "PURCHASES_TRX                       0\n",
      "CREDIT_LIMIT                        0\n",
      "PAYMENTS                            0\n",
      "MINIMUM_PAYMENTS                    0\n",
      "PRC_FULL_PAYMENT                    0\n",
      "dtype: int64\n"
     ]
    }
   ],
   "source": [
    "#colocaremos a mediana nos dados faltantes\n",
    "dataframe.fillna(dataframe.median(), inplace=True)\n",
    "missing = dataframe.isna().sum()\n",
    "print(missing)"
   ]
  },
  {
   "cell_type": "code",
   "execution_count": 72,
   "id": "7ec99cfc",
   "metadata": {},
   "outputs": [
    {
     "name": "stdout",
     "output_type": "stream",
     "text": [
      "[[3.93555441e-02 7.87271593e-04 9.17958473e-02 ... 1.94178127e-01\n",
      "  1.34239194e-01 0.00000000e+00]\n",
      " [2.93875903e-01 8.34231560e-05 0.00000000e+00 ... 3.76516684e-01\n",
      "  9.84037959e-02 2.03923046e-05]\n",
      " [3.10798149e-01 1.24560965e-04 9.63068011e-02 ... 7.74852335e-02\n",
      "  7.81351982e-02 0.00000000e+00]\n",
      " ...\n",
      " [2.27733092e-02 8.11060955e-04 1.40540698e-01 ... 7.90986945e-02\n",
      "  8.02156174e-02 2.43318384e-04]\n",
      " [2.65257948e-02 1.64255731e-03 0.00000000e+00 ... 1.03579625e-01\n",
      "  1.09898221e-01 4.92767391e-04]\n",
      " [1.86406219e-01 3.33426837e-04 5.46778061e-01 ... 3.15915455e-02\n",
      "  4.41568390e-02 0.00000000e+00]]\n"
     ]
    }
   ],
   "source": [
    "#normalizando os dados, colocando os dados na frequencia entre 0 e 1\n",
    "from sklearn.preprocessing import Normalizer\n",
    "values = Normalizer().fit_transform(dataframe.values)\n",
    "print(values)"
   ]
  },
  {
   "cell_type": "code",
   "execution_count": 73,
   "id": "5c9198bf",
   "metadata": {},
   "outputs": [],
   "source": [
    "#clusterizando os dados, agrupando os dados por aproximação\n",
    "from sklearn.cluster import KMeans\n",
    "kmeans = KMeans(n_clusters=5, n_init=10, max_iter=300)\n",
    "y_pred = kmeans.fit_predict(values)"
   ]
  },
  {
   "cell_type": "code",
   "execution_count": 74,
   "id": "b3555213",
   "metadata": {},
   "outputs": [
    {
     "name": "stdout",
     "output_type": "stream",
     "text": [
      "0.3644845919974304\n"
     ]
    }
   ],
   "source": [
    "#metrica de Silhueta calcula a distância média entre os pontos\n",
    "#media de todos os pontos\n",
    "from sklearn import metrics\n",
    "labels = kmeans.labels_\n",
    "silhouette = metrics.silhouette_score(values, labels, metric='euclidean')\n",
    "print(silhouette)"
   ]
  },
  {
   "cell_type": "code",
   "execution_count": 75,
   "id": "5e0652f8",
   "metadata": {},
   "outputs": [
    {
     "name": "stdout",
     "output_type": "stream",
     "text": [
      "1.075713859061329\n"
     ]
    }
   ],
   "source": [
    "#metrica davies bouldin\n",
    "#calcula o centroide de cada cluster\n",
    "#calculao a distancia entre os cluster pelo centroide de cada e retira a media\n",
    "dbs = metrics.davies_bouldin_score(values, labels)\n",
    "print(dbs)"
   ]
  },
  {
   "cell_type": "code",
   "execution_count": 76,
   "id": "5808f85b",
   "metadata": {},
   "outputs": [
    {
     "name": "stdout",
     "output_type": "stream",
     "text": [
      "3431.7937428414293\n"
     ]
    }
   ],
   "source": [
    "#metrica Calinski-Harabasz\n",
    "#considera a dispersão dos pontos dentro do cluster\n",
    "#considera a dispersão dos pontos entre os cluster\n",
    "calinski = metrics.calinski_harabasz_score(values, labels)\n",
    "print(calinski)"
   ]
  },
  {
   "cell_type": "code",
   "execution_count": 77,
   "id": "1f2c43d4",
   "metadata": {},
   "outputs": [],
   "source": [
    "#testando se as metricas acima são boas ou ruins\n",
    "#validação relativa, comparar as metricas com base em configuração diferente do algoritimo, Kmeans\n",
    "#Ajustaremos os parâmetros para o obter o melhor resultado.\n",
    "def clustering_algorithm(n_clusters, dataset):\n",
    "    kmeans = KMeans(n_clusters=n_clusters, n_init=10, max_iter=300)\n",
    "    labels = kmeans.fit_predict(dataset)\n",
    "    s = metrics.silhouette_score(dataset, labels, metric='euclidean')\n",
    "    dbs = metrics.davies_bouldin_score(dataset, labels)\n",
    "    calinski = metrics.calinski_harabasz_score(dataset, labels)\n",
    "    return s, dbs, calinski\n"
   ]
  },
  {
   "cell_type": "code",
   "execution_count": 78,
   "id": "79b2ac89",
   "metadata": {},
   "outputs": [
    {
     "name": "stdout",
     "output_type": "stream",
     "text": [
      "0.32724464582661594 1.3093507662143313 3526.4668344515408\n"
     ]
    }
   ],
   "source": [
    "s1, dbs1, calinski1 = clustering_algorithm(3, values)\n",
    "print(s1, dbs1, calinski1)"
   ]
  },
  {
   "cell_type": "code",
   "execution_count": 79,
   "id": "706c4055",
   "metadata": {},
   "outputs": [
    {
     "name": "stdout",
     "output_type": "stream",
     "text": [
      "0.3646017628085195 1.0753510081923618 3431.783254564093\n"
     ]
    }
   ],
   "source": [
    "s2, dbs2, calinski2 = clustering_algorithm(5, values)\n",
    "print(s2, dbs2, calinski2)"
   ]
  },
  {
   "cell_type": "code",
   "execution_count": 80,
   "id": "857013b1",
   "metadata": {},
   "outputs": [
    {
     "name": "stdout",
     "output_type": "stream",
     "text": [
      "0.23930509485852222 1.2177189629193967 1619.2881787814124\n"
     ]
    }
   ],
   "source": [
    "s3, dbs3, calinski3 = clustering_algorithm(50, values)\n",
    "print(s3, dbs3, calinski3)"
   ]
  },
  {
   "cell_type": "code",
   "execution_count": 81,
   "id": "d4aeff01",
   "metadata": {},
   "outputs": [
    {
     "name": "stdout",
     "output_type": "stream",
     "text": [
      "0.0401825858182126 3.4583375911498875 305.52250551234505\n",
      "0.3646017628085195 1.0753510081923618 3431.783254564093\n"
     ]
    }
   ],
   "source": [
    "#Criando dados aleatórios para utilizar no algoritimo\n",
    "import numpy as np\n",
    "random_data = np.random.rand(8950, 16)\n",
    "s, dbs, calinski = clustering_algorithm(5, random_data)\n",
    "print(s, dbs, calinski)\n",
    "print(s2, dbs2, calinski2)"
   ]
  },
  {
   "cell_type": "code",
   "execution_count": 82,
   "id": "fe868aef",
   "metadata": {},
   "outputs": [
    {
     "name": "stdout",
     "output_type": "stream",
     "text": [
      "0.3692455604046628 1.0550439720459244 1203.9722444846886\n",
      "0.35406999696241026 1.138955453029994 1194.9454119497238\n",
      "0.3668564117315988 1.0993525253456349 1167.5313082261505\n"
     ]
    }
   ],
   "source": [
    "#validar a estabilidade do cluster.\n",
    "#dividir a base de dados e rodar o kMeans para cada divisão\n",
    "#queremos que o resultado das metricas sejam similares\n",
    "set1, set2, set3 = np.array_split(values, 3)\n",
    "s1, dbs1, calinski1 = clustering_algorithm(5, set1)\n",
    "s2, dbs2, calinski2 = clustering_algorithm(5, set2)\n",
    "s3, dbs3, calinski3 = clustering_algorithm(5, set3)\n",
    "print(s1, dbs1, calinski1)\n",
    "print(s2, dbs2, calinski2)\n",
    "print(s3, dbs3, calinski3)"
   ]
  },
  {
   "cell_type": "code",
   "execution_count": 83,
   "id": "b694d001",
   "metadata": {},
   "outputs": [
    {
     "data": {
      "text/plain": [
       "<function matplotlib.pyplot.show(close=None, block=None)>"
      ]
     },
     "execution_count": 83,
     "metadata": {},
     "output_type": "execute_result"
    },
    {
     "data": {
      "image/png": "[encoded data removed]",
      "text/plain": [
       "<Figure size 432x288 with 1 Axes>"
      ]
     },
     "metadata": {
      "needs_background": "light"
     },
     "output_type": "display_data"
    }
   ],
   "source": [
    "#interpretando os clusters, plotaremos os resultados\n",
    "import matplotlib.pyplot as plt\n",
    "plt.scatter(dataframe['PURCHASES'], dataframe['PAYMENTS'],c=labels, s=5, cmap='rainbow')\n",
    "plt.xlabel(\"Valor total pago\")\n",
    "plt.ylabel(\"Valor toral gasto\")\n",
    "plt.show"
   ]
  },
  {
   "cell_type": "code",
   "execution_count": 84,
   "id": "e4906dca",
   "metadata": {},
   "outputs": [],
   "source": [
    "#plotaremos as dimensões comparando de 2 em 2.\n",
    "#comentaremos o código abaixo, pois gera um gasto enorme de processamento para plotar todas cobinações\n",
    "import seaborn as sns\n",
    "dataframe[\"cluster\"] = labels\n",
    "#sns.pairplot(dataframe[0:], hue=\"cluster\")"
   ]
  },
  {
   "cell_type": "code",
   "execution_count": 85,
   "id": "b04eeb2c",
   "metadata": {},
   "outputs": [
    {
     "data": {
      "text/html": [
       "<div>\n",
       "<style scoped>\n",
       "    .dataframe tbody tr th:only-of-type {\n",
       "        vertical-align: middle;\n",
       "    }\n",
       "\n",
       "    .dataframe tbody tr th {\n",
       "        vertical-align: top;\n",
       "    }\n",
       "\n",
       "    .dataframe thead tr th {\n",
       "        text-align: left;\n",
       "    }\n",
       "\n",
       "    .dataframe thead tr:last-of-type th {\n",
       "        text-align: right;\n",
       "    }\n",
       "</style>\n",
       "<table border=\"1\" class=\"dataframe\">\n",
       "  <thead>\n",
       "    <tr>\n",
       "      <th></th>\n",
       "      <th colspan=\"8\" halign=\"left\">BALANCE</th>\n",
       "      <th colspan=\"2\" halign=\"left\">BALANCE_FREQUENCY</th>\n",
       "      <th>...</th>\n",
       "      <th colspan=\"2\" halign=\"left\">MINIMUM_PAYMENTS</th>\n",
       "      <th colspan=\"8\" halign=\"left\">PRC_FULL_PAYMENT</th>\n",
       "    </tr>\n",
       "    <tr>\n",
       "      <th></th>\n",
       "      <th>count</th>\n",
       "      <th>mean</th>\n",
       "      <th>std</th>\n",
       "      <th>min</th>\n",
       "      <th>25%</th>\n",
       "      <th>50%</th>\n",
       "      <th>75%</th>\n",
       "      <th>max</th>\n",
       "      <th>count</th>\n",
       "      <th>mean</th>\n",
       "      <th>...</th>\n",
       "      <th>75%</th>\n",
       "      <th>max</th>\n",
       "      <th>count</th>\n",
       "      <th>mean</th>\n",
       "      <th>std</th>\n",
       "      <th>min</th>\n",
       "      <th>25%</th>\n",
       "      <th>50%</th>\n",
       "      <th>75%</th>\n",
       "      <th>max</th>\n",
       "    </tr>\n",
       "    <tr>\n",
       "      <th>cluster</th>\n",
       "      <th></th>\n",
       "      <th></th>\n",
       "      <th></th>\n",
       "      <th></th>\n",
       "      <th></th>\n",
       "      <th></th>\n",
       "      <th></th>\n",
       "      <th></th>\n",
       "      <th></th>\n",
       "      <th></th>\n",
       "      <th></th>\n",
       "      <th></th>\n",
       "      <th></th>\n",
       "      <th></th>\n",
       "      <th></th>\n",
       "      <th></th>\n",
       "      <th></th>\n",
       "      <th></th>\n",
       "      <th></th>\n",
       "      <th></th>\n",
       "      <th></th>\n",
       "    </tr>\n",
       "  </thead>\n",
       "  <tbody>\n",
       "    <tr>\n",
       "      <th>0</th>\n",
       "      <td>411.0</td>\n",
       "      <td>1987.501586</td>\n",
       "      <td>1854.459156</td>\n",
       "      <td>70.794108</td>\n",
       "      <td>1018.958891</td>\n",
       "      <td>1337.287314</td>\n",
       "      <td>2138.678431</td>\n",
       "      <td>11670.179850</td>\n",
       "      <td>411.0</td>\n",
       "      <td>0.989486</td>\n",
       "      <td>...</td>\n",
       "      <td>7112.618584</td>\n",
       "      <td>76406.207520</td>\n",
       "      <td>411.0</td>\n",
       "      <td>0.019318</td>\n",
       "      <td>0.090901</td>\n",
       "      <td>0.0</td>\n",
       "      <td>0.0</td>\n",
       "      <td>0.000000</td>\n",
       "      <td>0.000000</td>\n",
       "      <td>1.0</td>\n",
       "    </tr>\n",
       "    <tr>\n",
       "      <th>1</th>\n",
       "      <td>3278.0</td>\n",
       "      <td>443.992358</td>\n",
       "      <td>846.597972</td>\n",
       "      <td>0.000000</td>\n",
       "      <td>23.315538</td>\n",
       "      <td>82.992153</td>\n",
       "      <td>411.193793</td>\n",
       "      <td>9630.367575</td>\n",
       "      <td>3278.0</td>\n",
       "      <td>0.774417</td>\n",
       "      <td>...</td>\n",
       "      <td>248.800040</td>\n",
       "      <td>4483.503862</td>\n",
       "      <td>3278.0</td>\n",
       "      <td>0.246549</td>\n",
       "      <td>0.346601</td>\n",
       "      <td>0.0</td>\n",
       "      <td>0.0</td>\n",
       "      <td>0.000000</td>\n",
       "      <td>0.444444</td>\n",
       "      <td>1.0</td>\n",
       "    </tr>\n",
       "    <tr>\n",
       "      <th>2</th>\n",
       "      <td>2649.0</td>\n",
       "      <td>3037.962543</td>\n",
       "      <td>2478.838161</td>\n",
       "      <td>6.824905</td>\n",
       "      <td>1256.612223</td>\n",
       "      <td>2174.018945</td>\n",
       "      <td>4223.867789</td>\n",
       "      <td>18495.558550</td>\n",
       "      <td>2649.0</td>\n",
       "      <td>0.963740</td>\n",
       "      <td>...</td>\n",
       "      <td>1330.593643</td>\n",
       "      <td>8345.641905</td>\n",
       "      <td>2649.0</td>\n",
       "      <td>0.001799</td>\n",
       "      <td>0.023260</td>\n",
       "      <td>0.0</td>\n",
       "      <td>0.0</td>\n",
       "      <td>0.000000</td>\n",
       "      <td>0.000000</td>\n",
       "      <td>0.6</td>\n",
       "    </tr>\n",
       "    <tr>\n",
       "      <th>3</th>\n",
       "      <td>1072.0</td>\n",
       "      <td>1794.024195</td>\n",
       "      <td>1982.950586</td>\n",
       "      <td>0.000000</td>\n",
       "      <td>506.925348</td>\n",
       "      <td>1087.920500</td>\n",
       "      <td>2308.762488</td>\n",
       "      <td>14581.459140</td>\n",
       "      <td>1072.0</td>\n",
       "      <td>0.862131</td>\n",
       "      <td>...</td>\n",
       "      <td>884.718306</td>\n",
       "      <td>21235.065300</td>\n",
       "      <td>1072.0</td>\n",
       "      <td>0.117384</td>\n",
       "      <td>0.186853</td>\n",
       "      <td>0.0</td>\n",
       "      <td>0.0</td>\n",
       "      <td>0.083333</td>\n",
       "      <td>0.142857</td>\n",
       "      <td>1.0</td>\n",
       "    </tr>\n",
       "    <tr>\n",
       "      <th>4</th>\n",
       "      <td>1540.0</td>\n",
       "      <td>1142.222657</td>\n",
       "      <td>1664.035755</td>\n",
       "      <td>0.000000</td>\n",
       "      <td>211.566656</td>\n",
       "      <td>554.332740</td>\n",
       "      <td>1370.859355</td>\n",
       "      <td>19043.138560</td>\n",
       "      <td>1540.0</td>\n",
       "      <td>0.928053</td>\n",
       "      <td>...</td>\n",
       "      <td>524.184580</td>\n",
       "      <td>18621.013310</td>\n",
       "      <td>1540.0</td>\n",
       "      <td>0.278582</td>\n",
       "      <td>0.367203</td>\n",
       "      <td>0.0</td>\n",
       "      <td>0.0</td>\n",
       "      <td>0.083333</td>\n",
       "      <td>0.545455</td>\n",
       "      <td>1.0</td>\n",
       "    </tr>\n",
       "  </tbody>\n",
       "</table>\n",
       "<p>5 rows × 128 columns</p>\n",
       "</div>"
      ],
      "text/plain": [
       "        BALANCE                                                    \\\n",
       "          count         mean          std        min          25%   \n",
       "cluster                                                             \n",
       "0         411.0  1987.501586  1854.459156  70.794108  1018.958891   \n",
       "1        3278.0   443.992358   846.597972   0.000000    23.315538   \n",
       "2        2649.0  3037.962543  2478.838161   6.824905  1256.612223   \n",
       "3        1072.0  1794.024195  1982.950586   0.000000   506.925348   \n",
       "4        1540.0  1142.222657  1664.035755   0.000000   211.566656   \n",
       "\n",
       "                                                BALANCE_FREQUENCY            \\\n",
       "                 50%          75%           max             count      mean   \n",
       "cluster                                                                       \n",
       "0        1337.287314  2138.678431  11670.179850             411.0  0.989486   \n",
       "1          82.992153   411.193793   9630.367575            3278.0  0.774417   \n",
       "2        2174.018945  4223.867789  18495.558550            2649.0  0.963740   \n",
       "3        1087.920500  2308.762488  14581.459140            1072.0  0.862131   \n",
       "4         554.332740  1370.859355  19043.138560            1540.0  0.928053   \n",
       "\n",
       "         ... MINIMUM_PAYMENTS               PRC_FULL_PAYMENT            \\\n",
       "         ...              75%           max            count      mean   \n",
       "cluster  ...                                                             \n",
       "0        ...      7112.618584  76406.207520            411.0  0.019318   \n",
       "1        ...       248.800040   4483.503862           3278.0  0.246549   \n",
       "2        ...      1330.593643   8345.641905           2649.0  0.001799   \n",
       "3        ...       884.718306  21235.065300           1072.0  0.117384   \n",
       "4        ...       524.184580  18621.013310           1540.0  0.278582   \n",
       "\n",
       "                                                      \n",
       "              std  min  25%       50%       75%  max  \n",
       "cluster                                               \n",
       "0        0.090901  0.0  0.0  0.000000  0.000000  1.0  \n",
       "1        0.346601  0.0  0.0  0.000000  0.444444  1.0  \n",
       "2        0.023260  0.0  0.0  0.000000  0.000000  0.6  \n",
       "3        0.186853  0.0  0.0  0.083333  0.142857  1.0  \n",
       "4        0.367203  0.0  0.0  0.083333  0.545455  1.0  \n",
       "\n",
       "[5 rows x 128 columns]"
      ]
     },
     "execution_count": 85,
     "metadata": {},
     "output_type": "execute_result"
    }
   ],
   "source": [
    "#utilizamos outras estratrégias para analisar os dados\n",
    "dataframe.groupby(\"cluster\").describe()"
   ]
  },
  {
   "cell_type": "code",
   "execution_count": 86,
   "id": "175c39e4",
   "metadata": {},
   "outputs": [
    {
     "name": "stdout",
     "output_type": "stream",
     "text": [
      "[[3.32918803e-01 2.68423552e-04 1.58240376e-01 3.63059801e-02\n",
      "  1.22319068e-01 5.83557153e-02 1.66754597e-04 2.64938445e-05\n",
      "  1.47063187e-04 1.93217566e-05 4.27934836e-04 3.86197017e-03\n",
      "  3.76718873e-01 2.51861450e-01 6.80311114e-01 4.23993819e-06]\n",
      " [6.91386971e-02 2.30552524e-04 1.21267798e-01 4.80255998e-02\n",
      "  7.33425496e-02 2.43607736e-02 1.72581896e-04 3.37097813e-05\n",
      "  1.40021986e-04 7.93309218e-06 1.24113667e-04 2.86037895e-03\n",
      "  9.43728649e-01 1.53557708e-01 5.68217245e-02 7.57977264e-05]\n",
      " [5.04263792e-01 2.72194282e-04 6.17808431e-02 3.62269020e-02\n",
      "  2.55756543e-02 2.52903017e-01 6.73170559e-05 2.56975193e-05\n",
      "  4.50651626e-05 5.74388410e-05 1.15687334e-03 1.33194105e-03\n",
      "  7.19174706e-01 1.66205262e-01 1.79245673e-01 5.52303554e-07]\n",
      " [2.35141479e-01 2.16555293e-04 6.03857074e-02 3.44170171e-02\n",
      "  2.59739049e-02 4.00128071e-01 5.26401668e-05 2.04882397e-05\n",
      "  3.51921361e-05 6.54864556e-05 1.57199032e-03 1.12217156e-03\n",
      "  5.35089146e-01 5.98040052e-01 1.04348171e-01 2.77498236e-05]\n",
      " [1.59699490e-01 2.45649360e-04 4.38116859e-01 2.56325660e-01\n",
      "  1.81962376e-01 2.57889184e-02 2.04826443e-04 8.87914942e-05\n",
      "  1.51162866e-04 9.36296056e-06 1.69350945e-04 6.17145756e-03\n",
      "  6.04336246e-01 4.02584838e-01 8.54128174e-02 7.26645255e-05]]\n"
     ]
    }
   ],
   "source": [
    "#analisaremos os clusters gerados para realizar a analise e não os dados bruto\n",
    "#temos um conjunto reduzido para analise \n",
    "centroids = kmeans.cluster_centers_\n",
    "print(centroids)"
   ]
  },
  {
   "cell_type": "code",
   "execution_count": 92,
   "id": "82cf5134",
   "metadata": {},
   "outputs": [
    {
     "name": "stdout",
     "output_type": "stream",
     "text": [
      "BALANCE \n",
      "0.0224\n",
      "BALANCE_FREQUENCY \n",
      "0.0000\n",
      "PURCHASES \n",
      "0.0196\n",
      "ONEOFF_PURCHASES \n",
      "0.0076\n",
      "INSTALLMENTS_PURCHASES \n",
      "0.0036\n",
      "CASH_ADVANCE \n",
      "0.0225\n",
      "PURCHASES_FREQUENCY \n",
      "0.0000\n",
      "ONEOFF_PURCHASES_FREQUENCY \n",
      "0.0000\n",
      "PURCHASES_INSTALLMENTS_FREQUENCY \n",
      "0.0000\n",
      "CASH_ADVANCE_FREQUENCY \n",
      "0.0000\n",
      "CASH_ADVANCE_TRX \n",
      "0.0000\n",
      "PURCHASES_TRX \n",
      "0.0000\n",
      "CREDIT_LIMIT \n",
      "0.0360\n",
      "PAYMENTS \n",
      "0.0280\n",
      "MINIMUM_PAYMENTS \n",
      "0.0543\n",
      "PRC_FULL_PAYMENT \n",
      "0.0000\n"
     ]
    }
   ],
   "source": [
    "#analisaremos a variancia dos centroides para um determinado atributo dos 16\n",
    "max = len(centroids[0])\n",
    "for i in range(max):\n",
    "    print(dataframe.columns.values[i],\"\\n{:.4f}\".format(centroids[:, i].var()))"
   ]
  },
  {
   "cell_type": "code",
   "execution_count": 90,
   "id": "73fd5a35",
   "metadata": {},
   "outputs": [],
   "source": [
    "#melhores atributos\n",
    "#BALANCE 0.0224\n",
    "#PURCHASES 0.0197\n",
    "#CASH_ADVANCE 0.0225\n",
    "#CREDIT_LIMIT 0.0360\n",
    "#PAYMENTS 0.0279"
   ]
  },
  {
   "cell_type": "code",
   "execution_count": 98,
   "id": "de603303",
   "metadata": {},
   "outputs": [
    {
     "name": "stdout",
     "output_type": "stream",
     "text": [
      "             BALANCE    PURCHASES  CASH_ADVANCE  CREDIT_LIMIT     PAYMENTS  \\\n",
      "cluster                                                                      \n",
      "0        1987.501586   854.865815    421.129352   2227.737226  1336.238911   \n",
      "1         443.992358   629.345171    141.569301   5132.945933   814.477150   \n",
      "2        3037.962543   385.248630   1636.917210   4495.771989   968.890376   \n",
      "3        1794.024195   475.494823   3270.246792   3976.372399  4709.556601   \n",
      "4        1142.222657  3268.886929    183.019398   4097.701397  3037.241495   \n",
      "\n",
      "         n_clients  \n",
      "cluster             \n",
      "0              411  \n",
      "1             3278  \n",
      "2             2649  \n",
      "3             1072  \n",
      "4             1540  \n"
     ]
    },
    {
     "name": "stderr",
     "output_type": "stream",
     "text": [
      "C:\\Users\\Renato\\AppData\\Local\\Temp/ipykernel_6220/173974520.py:2: FutureWarning: Indexing with multiple keys (implicitly converted to a tuple of keys) will be deprecated, use a list instead.\n",
      "  description = dataframe.groupby(\"cluster\")[\"BALANCE\", \"PURCHASES\", \"CASH_ADVANCE\", \"CREDIT_LIMIT\", \"PAYMENTS\"]\n"
     ]
    }
   ],
   "source": [
    "#media de cada atributo\n",
    "description = dataframe.groupby(\"cluster\")[\"BALANCE\", \"PURCHASES\", \"CASH_ADVANCE\", \"CREDIT_LIMIT\", \"PAYMENTS\"]\n",
    "n_clients = description.size()\n",
    "description = description.mean()\n",
    "description['n_clients'] = n_clients\n",
    "print(description)"
   ]
  },
  {
   "cell_type": "code",
   "execution_count": 102,
   "id": "8860c139",
   "metadata": {},
   "outputs": [
    {
     "data": {
      "text/html": [
       "<div>\n",
       "<style scoped>\n",
       "    .dataframe tbody tr th:only-of-type {\n",
       "        vertical-align: middle;\n",
       "    }\n",
       "\n",
       "    .dataframe tbody tr th {\n",
       "        vertical-align: top;\n",
       "    }\n",
       "\n",
       "    .dataframe thead th {\n",
       "        text-align: right;\n",
       "    }\n",
       "</style>\n",
       "<table border=\"1\" class=\"dataframe\">\n",
       "  <thead>\n",
       "    <tr style=\"text-align: right;\">\n",
       "      <th></th>\n",
       "      <th>count</th>\n",
       "      <th>mean</th>\n",
       "      <th>std</th>\n",
       "      <th>min</th>\n",
       "      <th>25%</th>\n",
       "      <th>50%</th>\n",
       "      <th>75%</th>\n",
       "      <th>max</th>\n",
       "    </tr>\n",
       "    <tr>\n",
       "      <th>cluster</th>\n",
       "      <th></th>\n",
       "      <th></th>\n",
       "      <th></th>\n",
       "      <th></th>\n",
       "      <th></th>\n",
       "      <th></th>\n",
       "      <th></th>\n",
       "      <th></th>\n",
       "    </tr>\n",
       "  </thead>\n",
       "  <tbody>\n",
       "    <tr>\n",
       "      <th>0</th>\n",
       "      <td>411.0</td>\n",
       "      <td>0.019318</td>\n",
       "      <td>0.090901</td>\n",
       "      <td>0.0</td>\n",
       "      <td>0.0</td>\n",
       "      <td>0.000000</td>\n",
       "      <td>0.000000</td>\n",
       "      <td>1.0</td>\n",
       "    </tr>\n",
       "    <tr>\n",
       "      <th>1</th>\n",
       "      <td>3278.0</td>\n",
       "      <td>0.246549</td>\n",
       "      <td>0.346601</td>\n",
       "      <td>0.0</td>\n",
       "      <td>0.0</td>\n",
       "      <td>0.000000</td>\n",
       "      <td>0.444444</td>\n",
       "      <td>1.0</td>\n",
       "    </tr>\n",
       "    <tr>\n",
       "      <th>2</th>\n",
       "      <td>2649.0</td>\n",
       "      <td>0.001799</td>\n",
       "      <td>0.023260</td>\n",
       "      <td>0.0</td>\n",
       "      <td>0.0</td>\n",
       "      <td>0.000000</td>\n",
       "      <td>0.000000</td>\n",
       "      <td>0.6</td>\n",
       "    </tr>\n",
       "    <tr>\n",
       "      <th>3</th>\n",
       "      <td>1072.0</td>\n",
       "      <td>0.117384</td>\n",
       "      <td>0.186853</td>\n",
       "      <td>0.0</td>\n",
       "      <td>0.0</td>\n",
       "      <td>0.083333</td>\n",
       "      <td>0.142857</td>\n",
       "      <td>1.0</td>\n",
       "    </tr>\n",
       "    <tr>\n",
       "      <th>4</th>\n",
       "      <td>1540.0</td>\n",
       "      <td>0.278582</td>\n",
       "      <td>0.367203</td>\n",
       "      <td>0.0</td>\n",
       "      <td>0.0</td>\n",
       "      <td>0.083333</td>\n",
       "      <td>0.545455</td>\n",
       "      <td>1.0</td>\n",
       "    </tr>\n",
       "  </tbody>\n",
       "</table>\n",
       "</div>"
      ],
      "text/plain": [
       "          count      mean       std  min  25%       50%       75%  max\n",
       "cluster                                                               \n",
       "0         411.0  0.019318  0.090901  0.0  0.0  0.000000  0.000000  1.0\n",
       "1        3278.0  0.246549  0.346601  0.0  0.0  0.000000  0.444444  1.0\n",
       "2        2649.0  0.001799  0.023260  0.0  0.0  0.000000  0.000000  0.6\n",
       "3        1072.0  0.117384  0.186853  0.0  0.0  0.083333  0.142857  1.0\n",
       "4        1540.0  0.278582  0.367203  0.0  0.0  0.083333  0.545455  1.0"
      ]
     },
     "execution_count": 102,
     "metadata": {},
     "output_type": "execute_result"
    }
   ],
   "source": [
    "#calcula a porcentagem de pagamente para cada clusters\n",
    "#cluster 4 temos os melhores pagadores\n",
    "#com base no conglomerado de cliente(clusters) podemos realizar diversas inferências\n",
    "dataframe.groupby(\"cluster\")[\"PRC_FULL_PAYMENT\"].describe()"
   ]
  },
  {
   "cell_type": "code",
   "execution_count": 103,
   "id": "e6533d3c",
   "metadata": {},
   "outputs": [],
   "source": [
    "#identificamos os padrões, agora podemos aplicar estratégias de negócio\n",
    "#o melhor custer poderiamos oferecer mais crédito, descontos, promoções etc.\n",
    "#grupo de médio pagadores, aumentar gradativamente o crédito\n",
    "#são N situações que pode ser realizado para cada grupo de clientes.\n",
    "#lembrando que realizamos a separação em 5 grupos."
   ]
  },
  {
   "cell_type": "code",
   "execution_count": 104,
   "id": "b8d69107",
   "metadata": {},
   "outputs": [],
   "source": [
    "# Qual é o comportamento dos meus clientes com cartão de crédito?"
   ]
  },
  {
   "cell_type": "code",
   "execution_count": null,
   "id": "651674a2",
   "metadata": {},
   "outputs": [],
   "source": []
  }
 ],
 "metadata": {
  "kernelspec": {
   "display_name": "Python 3 (ipykernel)",
   "language": "python",
   "name": "python3"
  },
  "language_info": {
   "codemirror_mode": {
    "name": "ipython",
    "version": 3
   },
   "file_extension": ".py",
   "mimetype": "text/x-python",
   "name": "python",
   "nbconvert_exporter": "python",
   "pygments_lexer": "ipython3",
   "version": "3.9.7"
  }
 },
 "nbformat": 4,
 "nbformat_minor": 5
}
